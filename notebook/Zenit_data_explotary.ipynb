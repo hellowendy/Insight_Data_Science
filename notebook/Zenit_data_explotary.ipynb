{
 "cells": [
  {
   "cell_type": "code",
   "execution_count": 108,
   "metadata": {
    "collapsed": false
   },
   "outputs": [],
   "source": [
    "from elasticsearch import Elasticsearch\n",
    "import json\n",
    "import requests\n",
    "\n",
    "import eslogin\n",
    "\n",
    "import datetime\n",
    "import time\n",
    "\n",
    "import numpy as np\n",
    "from numpy.random import randn\n",
    "import pandas as pd\n",
    "from scipy import stats\n",
    "import matplotlib as mpl\n",
    "import matplotlib.pyplot as plt\n",
    "import seaborn as sns\n",
    "\n",
    "import math\n",
    "\n",
    "%matplotlib inline"
   ]
  },
  {
   "cell_type": "markdown",
   "metadata": {},
   "source": [
    "#Get familiar with the data"
   ]
  },
  {
   "cell_type": "markdown",
   "metadata": {},
   "source": [
    "make sure ES is up and running"
   ]
  },
  {
   "cell_type": "code",
   "execution_count": 9,
   "metadata": {
    "collapsed": false
   },
   "outputs": [
    {
     "name": "stdout",
     "output_type": "stream",
     "text": [
      "{\n",
      "  \"status\" : 200,\n",
      "  \"name\" : \"es02.fal.zenit.io\",\n",
      "  \"cluster_name\" : \"zenit-events\",\n",
      "  \"version\" : {\n",
      "    \"number\" : \"1.5.2\",\n",
      "    \"build_hash\" : \"62ff9868b4c8a0c45860bebb259e21980778ab1c\",\n",
      "    \"build_timestamp\" : \"2015-04-27T09:21:06Z\",\n",
      "    \"build_snapshot\" : false,\n",
      "    \"lucene_version\" : \"4.10.4\"\n",
      "  },\n",
      "  \"tagline\" : \"You Know, for Search\"\n",
      "}\n",
      "\n"
     ]
    }
   ],
   "source": [
    "res = requests.get('http://elasticsearch-events.fal.zenit.io:9200/',auth=(eslogin.user,eslogin.password))\n",
    "print(res.content)"
   ]
  },
  {
   "cell_type": "markdown",
   "metadata": {},
   "source": [
    "connect to the cluster"
   ]
  },
  {
   "cell_type": "code",
   "execution_count": 13,
   "metadata": {
    "collapsed": false
   },
   "outputs": [],
   "source": [
    "#import elasticsearch \n",
    "\n",
    "es = Elasticsearch([{'host': 'elasticsearch-events.fal.zenit.io', 'port': 9200}],http_auth=('zenit','6nAzJGhq'))"
   ]
  },
  {
   "cell_type": "markdown",
   "metadata": {},
   "source": [
    "do some searching"
   ]
  },
  {
   "cell_type": "code",
   "execution_count": 43,
   "metadata": {
    "collapsed": false
   },
   "outputs": [],
   "source": [
    "result = es.search(index=\"events-2015.06.06\", body={'query': {'match': { 'et' : 'AD_CLICK' }}}, size = 2)"
   ]
  },
  {
   "cell_type": "code",
   "execution_count": 44,
   "metadata": {
    "collapsed": false
   },
   "outputs": [
    {
     "name": "stdout",
     "output_type": "stream",
     "text": [
      "{\n",
      "  \"hits\": {\n",
      "    \"hits\": [\n",
      "      {\n",
      "        \"_score\": 8.113712, \n",
      "        \"_type\": \"AD_CLICK\", \n",
      "        \"_id\": \"AU3ImJ3vy-bsL55W3_co\", \n",
      "        \"_source\": {\n",
      "          \"ci\": null, \n",
      "          \"co\": \"ITA\", \n",
      "          \"ai\": 67, \n",
      "          \"ip\": \"62.98.84.76\", \n",
      "          \"ak\": 130, \n",
      "          \"pbep\": 70, \n",
      "          \"vw_drtn\": 0, \n",
      "          \"cr\": 331, \n",
      "          \"et\": \"AD_CLICK\", \n",
      "          \"id\": \"zenit_925f99a4-fb81-4f5a-9df6-f45de05fb5c5_331\", \n",
      "          \"plfm\": \"android\", \n",
      "          \"pp\": 0, \n",
      "          \"pv\": \"4.4.4\", \n",
      "          \"li\": 212, \n",
      "          \"pg\": 0, \n",
      "          \"rgn\": \"ITA-04\", \n",
      "          \"fr\": false, \n",
      "          \"vw_perc\": 0, \n",
      "          \"ernc\": 0, \n",
      "          \"ssp\": \"zenit_marketplace\", \n",
      "          \"br\": \"Chrome 43.0.2357.92\", \n",
      "          \"dt\": \"android\", \n",
      "          \"arch\": false, \n",
      "          \"lidp\": 0, \n",
      "          \"dp\": 0, \n",
      "          \"cvpc\": 1500000, \n",
      "          \"sdpt\": 0, \n",
      "          \"created_at\": \"2015-06-06T11:19:14.665Z\", \n",
      "          \"isp\": \"Wind Telecomunicazioni\", \n",
      "          \"cty\": \"Naples\", \n",
      "          \"ua\": \"Mozilla/5.0 (Linux; Android 4.4.4; SM-A300FU Build/KTU84P) AppleWebKit/537.36 (KHTML, like Gecko) Chrome/43.0.2357.92 Mobile Safari/537.36\"\n",
      "        }, \n",
      "        \"_index\": \"events-2015.06.06\"\n",
      "      }, \n",
      "      {\n",
      "        \"_score\": 8.113712, \n",
      "        \"_type\": \"AD_CLICK\", \n",
      "        \"_id\": \"AU3H03UWy-bsL55W3-Pj\", \n",
      "        \"_source\": {\n",
      "          \"ci\": null, \n",
      "          \"co\": \"ITA\", \n",
      "          \"ai\": 67, \n",
      "          \"ip\": \"37.227.61.98\", \n",
      "          \"ak\": 130, \n",
      "          \"pbep\": 70, \n",
      "          \"vw_drtn\": 0, \n",
      "          \"cr\": 330, \n",
      "          \"et\": \"AD_CLICK\", \n",
      "          \"id\": \"zenit_a68a2c1c-8014-40ec-9f91-bc4316ec8609_330\", \n",
      "          \"plfm\": \"android\", \n",
      "          \"pp\": 0, \n",
      "          \"pv\": \"5.0\", \n",
      "          \"li\": 210, \n",
      "          \"pg\": 0, \n",
      "          \"rgn\": null, \n",
      "          \"fr\": false, \n",
      "          \"vw_perc\": 0, \n",
      "          \"ernc\": 0, \n",
      "          \"ssp\": \"zenit_marketplace\", \n",
      "          \"br\": \"Chrome 34.0.1847.76\", \n",
      "          \"dt\": \"android\", \n",
      "          \"arch\": false, \n",
      "          \"lidp\": 0, \n",
      "          \"dp\": 0, \n",
      "          \"cvpc\": 2850000, \n",
      "          \"sdpt\": 0, \n",
      "          \"created_at\": \"2015-06-06T07:43:53.607Z\", \n",
      "          \"isp\": \"H3G Italy\", \n",
      "          \"cty\": null, \n",
      "          \"ua\": \"Mozilla/5.0 (Linux; Android 5.0; it-it; SAMSUNG SM-G900F Build/LRX21T) AppleWebKit/537.36 (KHTML, like Gecko) Version/2.1 Chrome/34.0.1847.76 Mobile Safari/537.36\"\n",
      "        }, \n",
      "        \"_index\": \"events-2015.06.06\"\n",
      "      }\n",
      "    ], \n",
      "    \"total\": 103, \n",
      "    \"max_score\": 8.113712\n",
      "  }, \n",
      "  \"_shards\": {\n",
      "    \"successful\": 5, \n",
      "    \"failed\": 0, \n",
      "    \"total\": 5\n",
      "  }, \n",
      "  \"took\": 4, \n",
      "  \"timed_out\": false\n",
      "}\n"
     ]
    }
   ],
   "source": [
    "print json.dumps(result, indent=2)"
   ]
  },
  {
   "cell_type": "markdown",
   "metadata": {},
   "source": [
    "It seems to work!"
   ]
  },
  {
   "cell_type": "markdown",
   "metadata": {},
   "source": [
    "the structure of result (JSON) is a python dictionary:"
   ]
  },
  {
   "cell_type": "code",
   "execution_count": 16,
   "metadata": {
    "collapsed": false
   },
   "outputs": [
    {
     "data": {
      "text/plain": [
       "[u'hits', u'_shards', u'took', u'timed_out']"
      ]
     },
     "execution_count": 16,
     "metadata": {},
     "output_type": "execute_result"
    }
   ],
   "source": [
    "result.keys()"
   ]
  },
  {
   "cell_type": "code",
   "execution_count": 17,
   "metadata": {
    "collapsed": false
   },
   "outputs": [
    {
     "data": {
      "text/plain": [
       "[u'hits', u'total', u'max_score']"
      ]
     },
     "execution_count": 17,
     "metadata": {},
     "output_type": "execute_result"
    }
   ],
   "source": [
    "result['hits'].keys()"
   ]
  },
  {
   "cell_type": "code",
   "execution_count": 18,
   "metadata": {
    "collapsed": false
   },
   "outputs": [
    {
     "data": {
      "text/plain": [
       "10"
      ]
     },
     "execution_count": 18,
     "metadata": {},
     "output_type": "execute_result"
    }
   ],
   "source": [
    "len(result['hits']['hits'])"
   ]
  },
  {
   "cell_type": "markdown",
   "metadata": {},
   "source": [
    "But it only shows 10/103 hits... (6/6/15)\n",
    "Can consider the following way to get more data:\n",
    "https://www.elastic.co/guide/en/elasticsearch/guide/current/pagination.html\n",
    "https://elasticsearch-py.readthedocs.org/en/master/api.html#elasticsearch.Elasticsearch.search"
   ]
  },
  {
   "cell_type": "code",
   "execution_count": 19,
   "metadata": {
    "collapsed": false
   },
   "outputs": [
    {
     "data": {
      "text/plain": [
       "103"
      ]
     },
     "execution_count": 19,
     "metadata": {},
     "output_type": "execute_result"
    }
   ],
   "source": [
    "es.count(index=\"events-2015.06.06\", body={'query': {'match': { 'et' : 'AD_CLICK' }}})['count']"
   ]
  },
  {
   "cell_type": "code",
   "execution_count": 20,
   "metadata": {
    "collapsed": false
   },
   "outputs": [
    {
     "data": {
      "text/plain": [
       "84"
      ]
     },
     "execution_count": 20,
     "metadata": {},
     "output_type": "execute_result"
    }
   ],
   "source": [
    "es.count(index=\"events-2015.06.06\", body={'query': {'bool': {'must':[{'match': { 'et' : 'AD_CLICK' }}], 'must_not':[{'match': { 'fr' : 'true' }}]}}})['count']"
   ]
  },
  {
   "cell_type": "markdown",
   "metadata": {},
   "source": [
    "Note: true needs to be 'true' in Python API here"
   ]
  },
  {
   "cell_type": "code",
   "execution_count": 21,
   "metadata": {
    "collapsed": false
   },
   "outputs": [],
   "source": [
    "result = es.search(index=\"events-2015.06.06\", body={'query': {'bool': {'must':[{'match': { 'et' : 'AD_CLICK' }}], 'must_not':[{'match': { 'fr' : 'true' }}]}}}, size = 84)"
   ]
  },
  {
   "cell_type": "code",
   "execution_count": 61,
   "metadata": {
    "collapsed": false
   },
   "outputs": [
    {
     "data": {
      "text/plain": [
       "{u'_id': u'AU3ImJ3vy-bsL55W3_co',\n",
       " u'_index': u'events-2015.06.06',\n",
       " u'_score': 8.113712,\n",
       " u'_source': {u'ai': 67,\n",
       "  u'ak': 130,\n",
       "  u'arch': False,\n",
       "  u'br': u'Chrome 43.0.2357.92',\n",
       "  u'ci': None,\n",
       "  u'co': u'ITA',\n",
       "  u'cr': 331,\n",
       "  u'created_at': u'2015-06-06T11:19:14.665Z',\n",
       "  u'cty': u'Naples',\n",
       "  u'cvpc': 1500000,\n",
       "  u'dp': 0,\n",
       "  u'dt': u'android',\n",
       "  u'ernc': 0,\n",
       "  u'et': u'AD_CLICK',\n",
       "  u'fr': False,\n",
       "  u'id': u'zenit_925f99a4-fb81-4f5a-9df6-f45de05fb5c5_331',\n",
       "  u'ip': u'62.98.84.76',\n",
       "  u'isp': u'Wind Telecomunicazioni',\n",
       "  u'li': 212,\n",
       "  u'lidp': 0,\n",
       "  u'pbep': 70,\n",
       "  u'pg': 0,\n",
       "  u'plfm': u'android',\n",
       "  u'pp': 0,\n",
       "  u'pv': u'4.4.4',\n",
       "  u'rgn': u'ITA-04',\n",
       "  u'sdpt': 0,\n",
       "  u'ssp': u'zenit_marketplace',\n",
       "  u'ua': u'Mozilla/5.0 (Linux; Android 4.4.4; SM-A300FU Build/KTU84P) AppleWebKit/537.36 (KHTML, like Gecko) Chrome/43.0.2357.92 Mobile Safari/537.36',\n",
       "  u'vw_drtn': 0,\n",
       "  u'vw_perc': 0},\n",
       " u'_type': u'AD_CLICK'}"
      ]
     },
     "execution_count": 61,
     "metadata": {},
     "output_type": "execute_result"
    }
   ],
   "source": [
    "result['hits']['hits'][0]"
   ]
  },
  {
   "cell_type": "markdown",
   "metadata": {},
   "source": [
    "Convert to python pandas dataframe"
   ]
  },
  {
   "cell_type": "code",
   "execution_count": 39,
   "metadata": {
    "collapsed": false
   },
   "outputs": [],
   "source": [
    "df1 = pd.DataFrame([datum for datum in result['hits']['hits']])"
   ]
  },
  {
   "cell_type": "code",
   "execution_count": 40,
   "metadata": {
    "collapsed": false
   },
   "outputs": [],
   "source": [
    "df2 = pd.DataFrame([datum for datum in Table1['_source']])"
   ]
  },
  {
   "cell_type": "code",
   "execution_count": 46,
   "metadata": {
    "collapsed": false
   },
   "outputs": [],
   "source": [
    "merge = pd.concat([df1, df2], axis=1)"
   ]
  },
  {
   "cell_type": "markdown",
   "metadata": {},
   "source": [
    "Examine each column and looks like I do not need to add df1 for now (most information can be found in df2, just except for \"id\" which I do not understand now."
   ]
  },
  {
   "cell_type": "markdown",
   "metadata": {},
   "source": [
    "# Download all \"click\" data"
   ]
  },
  {
   "cell_type": "code",
   "execution_count": 63,
   "metadata": {
    "collapsed": false
   },
   "outputs": [
    {
     "data": {
      "text/plain": [
       "'2015-06-08 16:37:02'"
      ]
     },
     "execution_count": 63,
     "metadata": {},
     "output_type": "execute_result"
    }
   ],
   "source": [
    "datetime.datetime.fromtimestamp(time.time()).strftime('%Y-%m-%d %H:%M:%S')"
   ]
  },
  {
   "cell_type": "markdown",
   "metadata": {},
   "source": [
    "Count the number of valid clicks so far"
   ]
  },
  {
   "cell_type": "code",
   "execution_count": 65,
   "metadata": {
    "collapsed": false
   },
   "outputs": [
    {
     "data": {
      "text/plain": [
       "8961"
      ]
     },
     "execution_count": 65,
     "metadata": {},
     "output_type": "execute_result"
    }
   ],
   "source": [
    "es.count(index=\"events-*\", body={'query': {'bool': {'must':[{'match': { 'et' : 'AD_CLICK' }}], 'must_not':[{'match': { 'fr' : 'true' }}]}}})['count']"
   ]
  },
  {
   "cell_type": "code",
   "execution_count": 66,
   "metadata": {
    "collapsed": true
   },
   "outputs": [],
   "source": [
    "clicks = es.search(index=\"events-*\", body={'query': {'bool': {'must':[{'match': { 'et' : 'AD_CLICK' }}], 'must_not':[{'match': { 'fr' : 'true' }}]}}}, size = 8961)"
   ]
  },
  {
   "cell_type": "code",
   "execution_count": 77,
   "metadata": {
    "collapsed": false
   },
   "outputs": [],
   "source": [
    "clicks_df = pd.DataFrame([datum['_source'] for datum in clicks['hits']['hits']])"
   ]
  },
  {
   "cell_type": "code",
   "execution_count": 78,
   "metadata": {
    "collapsed": false
   },
   "outputs": [
    {
     "data": {
      "text/plain": [
       "(8961, 46)"
      ]
     },
     "execution_count": 78,
     "metadata": {},
     "output_type": "execute_result"
    }
   ],
   "source": [
    "clicks_df.shape"
   ]
  },
  {
   "cell_type": "code",
   "execution_count": 81,
   "metadata": {
    "collapsed": false
   },
   "outputs": [],
   "source": [
    "clicks_df.to_csv(\"clicks_150608.tab\",sep='\\t',encoding='utf-8')"
   ]
  },
  {
   "cell_type": "markdown",
   "metadata": {},
   "source": [
    "Examine each column - each potential feature"
   ]
  },
  {
   "cell_type": "code",
   "execution_count": 86,
   "metadata": {
    "collapsed": false
   },
   "outputs": [
    {
     "data": {
      "text/plain": [
       "46"
      ]
     },
     "execution_count": 86,
     "metadata": {},
     "output_type": "execute_result"
    }
   ],
   "source": [
    "len(clicks_df.columns.values)"
   ]
  },
  {
   "cell_type": "markdown",
   "metadata": {},
   "source": [
    "# 46 columns:\n",
    "\n",
    "## 0 'ai', \n",
    "## 1 'ak',    — APP KEY\n",
    "## 2 'arch', — ARCHIVED\n",
    "## 3 'au',    — AD UNIT TYPE\n",
    "## 4 'br',    — BROWSER\n",
    "## 5 'ci',     — CAMPAIGN ID\n",
    "## 6 'cn',    — CONNECTION\n",
    "## 7 'co',    — COUNTRY ISO3\n",
    "## 8 'cr',     — CREATIVE ID\n",
    "## 9 'created_at',\n",
    "## 10 'cty',   — CITY\n",
    "## 11 'curl',  — CLICK URL\n",
    "## 12 'cvpc',— CONVERSION PRICE CENTS\n",
    "## 13 'di',\n",
    "## 14 'dnt', — DO NOT TRACK\n",
    "## 15 'dp',  — DELIVERY PRICE CENTS\n",
    "## 16 'dt',   — DEVICE TYPE\n",
    "## 17 'ek',   — EXCHANGE KEY\n",
    "## 18 'ernc',— EARNINGS CENTS\n",
    "## 19 'et',    — EVENT TYPE\n",
    "## 20 'ex',\n",
    "## 21 'fr',    — FRAUD\n",
    "## 22 'id',    — AD DELIVERY TOKEN\n",
    "## 23 'ip',    — REMOTE IP\n",
    "## 24 'isp',\n",
    "## 25 'js',    — JS VERSION\n",
    "## 26 'la',    — LANGUAGE\n",
    "## 27 'li',     — LINE ITEM ID\n",
    "## 28 'lidp', — LINE ITEM DISCOUNT PERCENT\n",
    "## 29 'ma',   — MAC ADDRESS\n",
    "## 30 'pb',   — PINGBACK\n",
    "## 31 'pbep',— PUBLISHER EARNINGS PERCENT\n",
    "## 32 'pg',   — PAGE\n",
    "## 33 plfm', — PLATFORM\n",
    "## 34 'pp',   — PER PAGE\n",
    "## 35 'pv',   — PLATFORM VERSION\n",
    "## 36 'rgn',  — REGION\n",
    "## 37 'sdpt',— SESSION DEPTH\n",
    "## 38 'si',    — SESSION ID\n",
    "## 39 'ssp', — SUPPLY SIDE PLATFORM\n",
    "## 40 'sv',   — SDK VERSION\n",
    "## 41 'ua',   — USER AGENT\n",
    "## 42 'uid',\n",
    "## 43 'vt',    — VIEWER TOKEN\n",
    "## 44 'vw_drtn',   — VIEWABILITY DURATION\n",
    "## 45 'vw_perc'   — VIEWABILITY PERCENT"
   ]
  },
  {
   "cell_type": "code",
   "execution_count": 200,
   "metadata": {
    "collapsed": false,
    "scrolled": true
   },
   "outputs": [
    {
     "data": {
      "text/html": [
       "<div style=\"max-height:1000px;max-width:1500px;overflow:auto;\">\n",
       "<table border=\"1\" class=\"dataframe\">\n",
       "  <thead>\n",
       "    <tr style=\"text-align: right;\">\n",
       "      <th></th>\n",
       "      <th>ai</th>\n",
       "      <th>ak</th>\n",
       "      <th>arch</th>\n",
       "      <th>au</th>\n",
       "      <th>br</th>\n",
       "      <th>ci</th>\n",
       "      <th>cn</th>\n",
       "      <th>co</th>\n",
       "      <th>cr</th>\n",
       "      <th>created_at</th>\n",
       "      <th>cty</th>\n",
       "      <th>curl</th>\n",
       "      <th>cvpc</th>\n",
       "      <th>di</th>\n",
       "      <th>dnt</th>\n",
       "      <th>dp</th>\n",
       "      <th>dt</th>\n",
       "      <th>ek</th>\n",
       "      <th>ernc</th>\n",
       "      <th>et</th>\n",
       "      <th>ex</th>\n",
       "      <th>fr</th>\n",
       "      <th>id</th>\n",
       "      <th>ip</th>\n",
       "      <th>isp</th>\n",
       "      <th>js</th>\n",
       "      <th>la</th>\n",
       "      <th>li</th>\n",
       "      <th>lidp</th>\n",
       "      <th>ma</th>\n",
       "      <th>pb</th>\n",
       "      <th>pbep</th>\n",
       "      <th>pg</th>\n",
       "      <th>plfm</th>\n",
       "      <th>pp</th>\n",
       "      <th>pv</th>\n",
       "      <th>rgn</th>\n",
       "      <th>sdpt</th>\n",
       "      <th>si</th>\n",
       "      <th>ssp</th>\n",
       "      <th>sv</th>\n",
       "      <th>ua</th>\n",
       "      <th>uid</th>\n",
       "      <th>vt</th>\n",
       "      <th>vw_drtn</th>\n",
       "      <th>vw_perc</th>\n",
       "    </tr>\n",
       "  </thead>\n",
       "  <tbody>\n",
       "    <tr>\n",
       "      <th>0</th>\n",
       "      <td> 51</td>\n",
       "      <td> 124</td>\n",
       "      <td> False</td>\n",
       "      <td> NaN</td>\n",
       "      <td>   Other 0.0</td>\n",
       "      <td> 103</td>\n",
       "      <td> NaN</td>\n",
       "      <td> GBR</td>\n",
       "      <td> 157</td>\n",
       "      <td> 2015-05-10T04:41:11.915Z</td>\n",
       "      <td>    Eastbourne</td>\n",
       "      <td> NaN</td>\n",
       "      <td>NaN</td>\n",
       "      <td> NaN</td>\n",
       "      <td> NaN</td>\n",
       "      <td> 300000</td>\n",
       "      <td>   other</td>\n",
       "      <td> NaN</td>\n",
       "      <td> 210000</td>\n",
       "      <td> AD_CLICK</td>\n",
       "      <td> NaN</td>\n",
       "      <td> False</td>\n",
       "      <td> zenit_d7dccf46-0e71-4b35-b682-6f66329de8ef_157</td>\n",
       "      <td>  5.80.244.135</td>\n",
       "      <td>        BT</td>\n",
       "      <td> NaN</td>\n",
       "      <td> NaN</td>\n",
       "      <td>  85</td>\n",
       "      <td> 0</td>\n",
       "      <td> NaN</td>\n",
       "      <td> NaN</td>\n",
       "      <td> 70</td>\n",
       "      <td> 0</td>\n",
       "      <td>    None</td>\n",
       "      <td> 0</td>\n",
       "      <td> unknown</td>\n",
       "      <td> GBR-E2</td>\n",
       "      <td> 1</td>\n",
       "      <td> NaN</td>\n",
       "      <td> zenit_marketplace</td>\n",
       "      <td> NaN</td>\n",
       "      <td>    Chelsea/4.5.1 CFNetwork/711.3.18 Darwin/14.0.0</td>\n",
       "      <td> 56545422-1F56-4D29-BB75-2B6B9CE58C80</td>\n",
       "      <td> NaN</td>\n",
       "      <td> 0</td>\n",
       "      <td> 0</td>\n",
       "    </tr>\n",
       "    <tr>\n",
       "      <th>1</th>\n",
       "      <td> 67</td>\n",
       "      <td> 130</td>\n",
       "      <td> False</td>\n",
       "      <td> NaN</td>\n",
       "      <td> Android 4.0</td>\n",
       "      <td> NaN</td>\n",
       "      <td> NaN</td>\n",
       "      <td> ITA</td>\n",
       "      <td> 218</td>\n",
       "      <td> 2015-05-10T20:52:50.992Z</td>\n",
       "      <td>      Massafra</td>\n",
       "      <td> NaN</td>\n",
       "      <td>NaN</td>\n",
       "      <td> NaN</td>\n",
       "      <td> NaN</td>\n",
       "      <td>      0</td>\n",
       "      <td> android</td>\n",
       "      <td> NaN</td>\n",
       "      <td>      0</td>\n",
       "      <td> AD_CLICK</td>\n",
       "      <td> NaN</td>\n",
       "      <td> False</td>\n",
       "      <td> zenit_b5826dcd-edf9-4b68-b835-4762b6c23eb4_218</td>\n",
       "      <td> 2.226.115.192</td>\n",
       "      <td>   Fastweb</td>\n",
       "      <td> NaN</td>\n",
       "      <td> NaN</td>\n",
       "      <td> 130</td>\n",
       "      <td> 0</td>\n",
       "      <td> NaN</td>\n",
       "      <td> NaN</td>\n",
       "      <td> 70</td>\n",
       "      <td> 0</td>\n",
       "      <td> android</td>\n",
       "      <td> 0</td>\n",
       "      <td>   4.4.4</td>\n",
       "      <td> ITA-13</td>\n",
       "      <td> 0</td>\n",
       "      <td> NaN</td>\n",
       "      <td> zenit_marketplace</td>\n",
       "      <td> NaN</td>\n",
       "      <td> Mozilla/5.0 (Linux; U; Android 4.4.4; it-it; S...</td>\n",
       "      <td>                                  NaN</td>\n",
       "      <td> NaN</td>\n",
       "      <td> 0</td>\n",
       "      <td> 0</td>\n",
       "    </tr>\n",
       "    <tr>\n",
       "      <th>2</th>\n",
       "      <td> 93</td>\n",
       "      <td> 143</td>\n",
       "      <td> False</td>\n",
       "      <td> NaN</td>\n",
       "      <td>   Other 0.0</td>\n",
       "      <td> NaN</td>\n",
       "      <td> NaN</td>\n",
       "      <td> USA</td>\n",
       "      <td> 222</td>\n",
       "      <td> 2015-05-12T17:55:12.568Z</td>\n",
       "      <td> Mountain View</td>\n",
       "      <td> NaN</td>\n",
       "      <td>NaN</td>\n",
       "      <td> NaN</td>\n",
       "      <td> NaN</td>\n",
       "      <td>      0</td>\n",
       "      <td>   other</td>\n",
       "      <td> NaN</td>\n",
       "      <td>      0</td>\n",
       "      <td> AD_CLICK</td>\n",
       "      <td> NaN</td>\n",
       "      <td> False</td>\n",
       "      <td> zenit_eaf4cdea-dc29-4bd7-81e8-e71c071a0870_222</td>\n",
       "      <td> 66.249.78.238</td>\n",
       "      <td> Googlebot</td>\n",
       "      <td> NaN</td>\n",
       "      <td> NaN</td>\n",
       "      <td> 133</td>\n",
       "      <td> 0</td>\n",
       "      <td> NaN</td>\n",
       "      <td> NaN</td>\n",
       "      <td> 70</td>\n",
       "      <td> 0</td>\n",
       "      <td>    None</td>\n",
       "      <td> 0</td>\n",
       "      <td> unknown</td>\n",
       "      <td> USA-CA</td>\n",
       "      <td> 0</td>\n",
       "      <td> NaN</td>\n",
       "      <td> zenit_marketplace</td>\n",
       "      <td> NaN</td>\n",
       "      <td> Mozilla/5.0 (compatible; Googlebot/2.1; +http:...</td>\n",
       "      <td>                                  NaN</td>\n",
       "      <td> NaN</td>\n",
       "      <td> 0</td>\n",
       "      <td> 0</td>\n",
       "    </tr>\n",
       "    <tr>\n",
       "      <th></th>\n",
       "      <td>...</td>\n",
       "      <td>...</td>\n",
       "      <td>...</td>\n",
       "      <td>...</td>\n",
       "      <td>...</td>\n",
       "      <td>...</td>\n",
       "      <td>...</td>\n",
       "      <td>...</td>\n",
       "      <td>...</td>\n",
       "      <td>...</td>\n",
       "      <td>...</td>\n",
       "      <td>...</td>\n",
       "      <td>...</td>\n",
       "      <td>...</td>\n",
       "      <td>...</td>\n",
       "      <td>...</td>\n",
       "      <td>...</td>\n",
       "      <td>...</td>\n",
       "      <td>...</td>\n",
       "      <td>...</td>\n",
       "      <td>...</td>\n",
       "      <td>...</td>\n",
       "      <td>...</td>\n",
       "      <td>...</td>\n",
       "      <td>...</td>\n",
       "      <td>...</td>\n",
       "      <td>...</td>\n",
       "      <td>...</td>\n",
       "      <td>...</td>\n",
       "      <td>...</td>\n",
       "      <td>...</td>\n",
       "      <td>...</td>\n",
       "      <td>...</td>\n",
       "      <td>...</td>\n",
       "      <td>...</td>\n",
       "      <td>...</td>\n",
       "      <td>...</td>\n",
       "      <td>...</td>\n",
       "      <td>...</td>\n",
       "      <td>...</td>\n",
       "      <td>...</td>\n",
       "      <td>...</td>\n",
       "      <td>...</td>\n",
       "      <td>...</td>\n",
       "      <td>...</td>\n",
       "      <td>...</td>\n",
       "    </tr>\n",
       "  </tbody>\n",
       "</table>\n",
       "<p>8961 rows × 46 columns</p>\n",
       "</div>"
      ],
      "text/plain": [
       "   ai   ak   arch   au           br   ci   cn   co   cr  \\\n",
       "0  51  124  False  NaN    Other 0.0  103  NaN  GBR  157   \n",
       "1  67  130  False  NaN  Android 4.0  NaN  NaN  ITA  218   \n",
       "2  93  143  False  NaN    Other 0.0  NaN  NaN  USA  222   \n",
       "  ...  ...    ...  ...          ...  ...  ...  ...  ...   \n",
       "\n",
       "                 created_at            cty curl  cvpc   di  dnt      dp  \\\n",
       "0  2015-05-10T04:41:11.915Z     Eastbourne  NaN   NaN  NaN  NaN  300000   \n",
       "1  2015-05-10T20:52:50.992Z       Massafra  NaN   NaN  NaN  NaN       0   \n",
       "2  2015-05-12T17:55:12.568Z  Mountain View  NaN   NaN  NaN  NaN       0   \n",
       "                        ...            ...  ...   ...  ...  ...     ...   \n",
       "\n",
       "        dt   ek    ernc        et   ex     fr  \\\n",
       "0    other  NaN  210000  AD_CLICK  NaN  False   \n",
       "1  android  NaN       0  AD_CLICK  NaN  False   \n",
       "2    other  NaN       0  AD_CLICK  NaN  False   \n",
       "       ...  ...     ...       ...  ...    ...   \n",
       "\n",
       "                                               id             ip        isp  \\\n",
       "0  zenit_d7dccf46-0e71-4b35-b682-6f66329de8ef_157   5.80.244.135         BT   \n",
       "1  zenit_b5826dcd-edf9-4b68-b835-4762b6c23eb4_218  2.226.115.192    Fastweb   \n",
       "2  zenit_eaf4cdea-dc29-4bd7-81e8-e71c071a0870_222  66.249.78.238  Googlebot   \n",
       "                                              ...            ...        ...   \n",
       "\n",
       "    js   la   li  lidp   ma   pb  pbep  pg     plfm  pp       pv     rgn  \\\n",
       "0  NaN  NaN   85     0  NaN  NaN    70   0     None   0  unknown  GBR-E2   \n",
       "1  NaN  NaN  130     0  NaN  NaN    70   0  android   0    4.4.4  ITA-13   \n",
       "2  NaN  NaN  133     0  NaN  NaN    70   0     None   0  unknown  USA-CA   \n",
       "   ...  ...  ...   ...  ...  ...   ... ...      ... ...      ...     ...   \n",
       "\n",
       "   sdpt   si                ssp   sv  \\\n",
       "0     1  NaN  zenit_marketplace  NaN   \n",
       "1     0  NaN  zenit_marketplace  NaN   \n",
       "2     0  NaN  zenit_marketplace  NaN   \n",
       "    ...  ...                ...  ...   \n",
       "\n",
       "                                                  ua  \\\n",
       "0     Chelsea/4.5.1 CFNetwork/711.3.18 Darwin/14.0.0   \n",
       "1  Mozilla/5.0 (Linux; U; Android 4.4.4; it-it; S...   \n",
       "2  Mozilla/5.0 (compatible; Googlebot/2.1; +http:...   \n",
       "                                                 ...   \n",
       "\n",
       "                                    uid   vt  vw_drtn  vw_perc  \n",
       "0  56545422-1F56-4D29-BB75-2B6B9CE58C80  NaN        0        0  \n",
       "1                                   NaN  NaN        0        0  \n",
       "2                                   NaN  NaN        0        0  \n",
       "                                    ...  ...      ...      ...  \n",
       "\n",
       "[8961 rows x 46 columns]"
      ]
     },
     "execution_count": 200,
     "metadata": {},
     "output_type": "execute_result"
    }
   ],
   "source": [
    "pd.options.display.max_rows = 3\n",
    "pd.options.display.max_columns = 50\n",
    "clicks_df"
   ]
  },
  {
   "cell_type": "code",
   "execution_count": 202,
   "metadata": {
    "collapsed": false
   },
   "outputs": [
    {
     "data": {
      "text/plain": [
       "array([[<matplotlib.axes.AxesSubplot object at 0x7fda4b4ada50>]], dtype=object)"
      ]
     },
     "execution_count": 202,
     "metadata": {},
     "output_type": "execute_result"
    },
    {
     "data": {
      "image/png": "[encoded data removed]",
      "text/plain": [
       "<matplotlib.figure.Figure at 0x7fda4b3f1d50>"
      ]
     },
     "metadata": {},
     "output_type": "display_data"
    }
   ],
   "source": [
    "#plot_ind = [0, 2, 5, 8, 12, 15, 18, 21, 27, 28, 31, 32, 34, 37, 44, 45]\n",
    "\n",
    "clicks_df[[45]].hist()"
   ]
  },
  {
   "cell_type": "markdown",
   "metadata": {},
   "source": [
    "Make subset of the dataframe excluding the features that do not make sense for now OR not seem to be important OR too many NAN..."
   ]
  },
  {
   "cell_type": "code",
   "execution_count": 203,
   "metadata": {
    "collapsed": false
   },
   "outputs": [],
   "source": [
    "clicks_df_small = clicks_df[['ai','ak','br','co','cr','created_at','cty','dp','dt','ernc','isp','li','lidp','pbep','plfm','rgn','sdpt','ssp','ua','vw_drtn','vw_perc']]"
   ]
  },
  {
   "cell_type": "code",
   "execution_count": 204,
   "metadata": {
    "collapsed": false
   },
   "outputs": [
    {
     "data": {
      "text/plain": [
       "(8961, 21)"
      ]
     },
     "execution_count": 204,
     "metadata": {},
     "output_type": "execute_result"
    }
   ],
   "source": [
    "clicks_df_small.shape"
   ]
  },
  {
   "cell_type": "code",
   "execution_count": null,
   "metadata": {
    "collapsed": true
   },
   "outputs": [],
   "source": []
  }
 ],
 "metadata": {
  "kernelspec": {
   "display_name": "Python 2",
   "language": "python",
   "name": "python2"
  },
  "language_info": {
   "codemirror_mode": {
    "name": "ipython",
    "version": 2
   },
   "file_extension": ".py",
   "mimetype": "text/x-python",
   "name": "python",
   "nbconvert_exporter": "python",
   "pygments_lexer": "ipython2",
   "version": "2.7.6"
  }
 },
 "nbformat": 4,
 "nbformat_minor": 0
}
