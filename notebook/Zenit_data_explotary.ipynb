{
 "cells": [
  {
   "cell_type": "code",
   "execution_count": 2,
   "metadata": {
    "collapsed": true
   },
   "outputs": [],
   "source": [
    "from elasticsearch import Elasticsearch\n",
    "import json"
   ]
  },
  {
   "cell_type": "markdown",
   "metadata": {},
   "source": [
    "make sure ES is up and running"
   ]
  },
  {
   "cell_type": "code",
   "execution_count": 4,
   "metadata": {
    "collapsed": false
   },
   "outputs": [
    {
     "name": "stdout",
     "output_type": "stream",
     "text": [
      "{\n",
      "  \"status\" : 200,\n",
      "  \"name\" : \"es03.fal.zenit.io\",\n",
      "  \"cluster_name\" : \"zenit-events\",\n",
      "  \"version\" : {\n",
      "    \"number\" : \"1.5.2\",\n",
      "    \"build_hash\" : \"62ff9868b4c8a0c45860bebb259e21980778ab1c\",\n",
      "    \"build_timestamp\" : \"2015-04-27T09:21:06Z\",\n",
      "    \"build_snapshot\" : false,\n",
      "    \"lucene_version\" : \"4.10.4\"\n",
      "  },\n",
      "  \"tagline\" : \"You Know, for Search\"\n",
      "}\n",
      "\n"
     ]
    }
   ],
   "source": [
    "import requests\n",
    "import eslogin\n",
    "res = requests.get('http://elasticsearch-events.fal.zenit.io:9200/',auth=(eslogin.user,eslogin.password))\n",
    "print(res.content)"
   ]
  },
  {
   "cell_type": "markdown",
   "metadata": {},
   "source": [
    "connect to the cluster"
   ]
  },
  {
   "cell_type": "code",
   "execution_count": 14,
   "metadata": {
    "collapsed": false
   },
   "outputs": [],
   "source": [
    "#import elasticsearch \n",
    "\n",
    "es = Elasticsearch([{'host': 'elasticsearch-events.fal.zenit.io', 'port': 9200}],http_auth=('zenit','6nAzJGhq'))"
   ]
  },
  {
   "cell_type": "markdown",
   "metadata": {},
   "source": [
    "do some searching"
   ]
  },
  {
   "cell_type": "code",
   "execution_count": 29,
   "metadata": {
    "collapsed": false
   },
   "outputs": [],
   "source": [
    "result = es.search(index=\"events-2015.06.06\", body={'query': {'match': { 'et' : 'AD_CLICK' }}})"
   ]
  },
  {
   "cell_type": "code",
   "execution_count": 30,
   "metadata": {
    "collapsed": false
   },
   "outputs": [
    {
     "name": "stdout",
     "output_type": "stream",
     "text": [
      "{\n",
      "  \"hits\": {\n",
      "    \"hits\": [\n",
      "      {\n",
      "        \"_score\": 8.101964, \n",
      "        \"_type\": \"AD_CLICK\", \n",
      "        \"_id\": \"AU3H03UWy-bsL55W3-Pj\", \n",
      "        \"_source\": {\n",
      "          \"ci\": null, \n",
      "          \"co\": \"ITA\", \n",
      "          \"ip\": \"37.227.61.98\", \n",
      "          \"ak\": \"53aa59732a\", \n",
      "          \"pbep\": 70, \n",
      "          \"vw_drtn\": 0, \n",
      "          \"cr\": 330, \n",
      "          \"et\": \"AD_CLICK\", \n",
      "          \"id\": \"zenit_a68a2c1c-8014-40ec-9f91-bc4316ec8609_330\", \n",
      "          \"plfm\": \"android\", \n",
      "          \"pp\": 0, \n",
      "          \"pv\": \"5.0\", \n",
      "          \"li\": 210, \n",
      "          \"pg\": 0, \n",
      "          \"rgn\": null, \n",
      "          \"fr\": false, \n",
      "          \"vw_perc\": 0, \n",
      "          \"ernc\": 0, \n",
      "          \"ssp\": \"zenit_marketplace\", \n",
      "          \"br\": \"Chrome 34.0.1847.76\", \n",
      "          \"dt\": \"android\", \n",
      "          \"arch\": false, \n",
      "          \"lidp\": 0, \n",
      "          \"dp\": 0, \n",
      "          \"cvpc\": 2850000, \n",
      "          \"sdpt\": 0, \n",
      "          \"created_at\": \"2015-06-06T07:43:53.607Z\", \n",
      "          \"isp\": \"H3G Italy\", \n",
      "          \"cty\": null, \n",
      "          \"ua\": \"Mozilla/5.0 (Linux; Android 5.0; it-it; SAMSUNG SM-G900F Build/LRX21T) AppleWebKit/537.36 (KHTML, like Gecko) Version/2.1 Chrome/34.0.1847.76 Mobile Safari/537.36\"\n",
      "        }, \n",
      "        \"_index\": \"events-2015.06.06\"\n",
      "      }, \n",
      "      {\n",
      "        \"_score\": 8.101964, \n",
      "        \"_type\": \"AD_CLICK\", \n",
      "        \"_id\": \"AU3IAOcFy-bsL55W3-fL\", \n",
      "        \"_source\": {\n",
      "          \"ci\": null, \n",
      "          \"co\": \"ITA\", \n",
      "          \"ip\": \"195.88.7.112\", \n",
      "          \"ak\": \"ff89756e35\", \n",
      "          \"pbep\": 70, \n",
      "          \"vw_drtn\": 0, \n",
      "          \"cr\": 333, \n",
      "          \"et\": \"AD_CLICK\", \n",
      "          \"id\": \"zenit_2f689d83-57b5-4a61-80b8-5cfa73f6e40e_333\", \n",
      "          \"plfm\": \"ios\", \n",
      "          \"pp\": 0, \n",
      "          \"pv\": \"8.0.2\", \n",
      "          \"li\": 214, \n",
      "          \"pg\": 0, \n",
      "          \"rgn\": \"ITA-12\", \n",
      "          \"fr\": true, \n",
      "          \"vw_perc\": 0, \n",
      "          \"ernc\": 0, \n",
      "          \"ssp\": \"zenit_marketplace\", \n",
      "          \"br\": \"iPhone 8.0\", \n",
      "          \"dt\": \"iphone\", \n",
      "          \"arch\": false, \n",
      "          \"lidp\": 0, \n",
      "          \"dp\": 0, \n",
      "          \"cvpc\": 1500000, \n",
      "          \"sdpt\": 0, \n",
      "          \"created_at\": \"2015-06-06T08:33:31.893Z\", \n",
      "          \"isp\": \"Critical Case s.r.l\", \n",
      "          \"cty\": \"Quaregna\", \n",
      "          \"ua\": \"Mozilla/5.0 (iPhone; CPU iPhone OS 8_0_2 like Mac OS X) AppleWebKit/600.1.4 (KHTML, like Gecko) Version/8.0 Mobile/12A366 Safari/600.1.4\"\n",
      "        }, \n",
      "        \"_index\": \"events-2015.06.06\"\n",
      "      }, \n",
      "      {\n",
      "        \"_score\": 8.101964, \n",
      "        \"_type\": \"AD_CLICK\", \n",
      "        \"_id\": \"AU3IBFIiy-bsL55W3-gU\", \n",
      "        \"_source\": {\n",
      "          \"ci\": null, \n",
      "          \"co\": \"USA\", \n",
      "          \"ip\": \"66.249.92.59\", \n",
      "          \"ak\": \"ff89756e35\", \n",
      "          \"pbep\": 70, \n",
      "          \"vw_drtn\": 0, \n",
      "          \"cr\": 330, \n",
      "          \"et\": \"AD_CLICK\", \n",
      "          \"id\": \"zenit_e84b4402-1335-4405-a86b-8a4e1133767a_330\", \n",
      "          \"plfm\": null, \n",
      "          \"pp\": 0, \n",
      "          \"pv\": \"unknown\", \n",
      "          \"li\": 210, \n",
      "          \"pg\": 0, \n",
      "          \"rgn\": \"USA-FL\", \n",
      "          \"fr\": true, \n",
      "          \"vw_perc\": 0, \n",
      "          \"ernc\": 0, \n",
      "          \"ssp\": \"zenit_marketplace\", \n",
      "          \"br\": \"Chrome 28.0.1500.71\", \n",
      "          \"dt\": \"other\", \n",
      "          \"arch\": false, \n",
      "          \"lidp\": 0, \n",
      "          \"dp\": 0, \n",
      "          \"cvpc\": 2850000, \n",
      "          \"sdpt\": 0, \n",
      "          \"created_at\": \"2015-06-06T08:37:15.927Z\", \n",
      "          \"isp\": \"Google\", \n",
      "          \"cty\": \"Miami\", \n",
      "          \"ua\": \"Mozilla/5.0 (Macintosh; Intel Mac OS X 10_8_4) AppleWebKit/537.36 (KHTML, like Gecko) Chrome/28.0.1500.71 Safari/537.36\"\n",
      "        }, \n",
      "        \"_index\": \"events-2015.06.06\"\n",
      "      }, \n",
      "      {\n",
      "        \"_score\": 8.101964, \n",
      "        \"_type\": \"AD_CLICK\", \n",
      "        \"_id\": \"AU3ImJ3vy-bsL55W3_co\", \n",
      "        \"_source\": {\n",
      "          \"ci\": null, \n",
      "          \"co\": \"ITA\", \n",
      "          \"ip\": \"62.98.84.76\", \n",
      "          \"ak\": \"53aa59732a\", \n",
      "          \"pbep\": 70, \n",
      "          \"vw_drtn\": 0, \n",
      "          \"cr\": 331, \n",
      "          \"et\": \"AD_CLICK\", \n",
      "          \"id\": \"zenit_925f99a4-fb81-4f5a-9df6-f45de05fb5c5_331\", \n",
      "          \"plfm\": \"android\", \n",
      "          \"pp\": 0, \n",
      "          \"pv\": \"4.4.4\", \n",
      "          \"li\": 212, \n",
      "          \"pg\": 0, \n",
      "          \"rgn\": \"ITA-04\", \n",
      "          \"fr\": false, \n",
      "          \"vw_perc\": 0, \n",
      "          \"ernc\": 0, \n",
      "          \"ssp\": \"zenit_marketplace\", \n",
      "          \"br\": \"Chrome 43.0.2357.92\", \n",
      "          \"dt\": \"android\", \n",
      "          \"arch\": false, \n",
      "          \"lidp\": 0, \n",
      "          \"dp\": 0, \n",
      "          \"cvpc\": 1500000, \n",
      "          \"sdpt\": 0, \n",
      "          \"created_at\": \"2015-06-06T11:19:14.665Z\", \n",
      "          \"isp\": \"Wind Telecomunicazioni\", \n",
      "          \"cty\": \"Naples\", \n",
      "          \"ua\": \"Mozilla/5.0 (Linux; Android 4.4.4; SM-A300FU Build/KTU84P) AppleWebKit/537.36 (KHTML, like Gecko) Chrome/43.0.2357.92 Mobile Safari/537.36\"\n",
      "        }, \n",
      "        \"_index\": \"events-2015.06.06\"\n",
      "      }, \n",
      "      {\n",
      "        \"_score\": 8.101964, \n",
      "        \"_type\": \"AD_CLICK\", \n",
      "        \"_id\": \"AU3JBfxUpQcNCqL1glac\", \n",
      "        \"_source\": {\n",
      "          \"ci\": null, \n",
      "          \"co\": \"UKR\", \n",
      "          \"ip\": \"82.193.99.40\", \n",
      "          \"ak\": \"db1582e5cb\", \n",
      "          \"pbep\": 70, \n",
      "          \"vw_drtn\": 0, \n",
      "          \"cr\": 282, \n",
      "          \"et\": \"AD_CLICK\", \n",
      "          \"id\": \"zenit_76fa9d0a-679d-44da-8e81-dbfa91e6518e_282\", \n",
      "          \"plfm\": \"android\", \n",
      "          \"pp\": 0, \n",
      "          \"pv\": \"5.1.1\", \n",
      "          \"li\": 201, \n",
      "          \"pg\": 0, \n",
      "          \"rgn\": \"UKR-12\", \n",
      "          \"fr\": false, \n",
      "          \"vw_perc\": 0, \n",
      "          \"ernc\": 0, \n",
      "          \"ssp\": \"zenit_marketplace\", \n",
      "          \"br\": \"Chrome 43.0.2357.78\", \n",
      "          \"dt\": \"android\", \n",
      "          \"arch\": false, \n",
      "          \"lidp\": 0, \n",
      "          \"dp\": 0, \n",
      "          \"cvpc\": 0, \n",
      "          \"sdpt\": 0, \n",
      "          \"created_at\": \"2015-06-06T13:18:42.256Z\", \n",
      "          \"isp\": \"ZAT Industrial Media Network\", \n",
      "          \"cty\": \"Kiev\", \n",
      "          \"ua\": \"Mozilla/5.0 (Linux; Android 5.1.1; Nexus 5 Build/LMY48B) AppleWebKit/537.36 (KHTML, like Gecko) Chrome/43.0.2357.78 Mobile Safari/537.36\"\n",
      "        }, \n",
      "        \"_index\": \"events-2015.06.06\"\n",
      "      }, \n",
      "      {\n",
      "        \"_score\": 8.101964, \n",
      "        \"_type\": \"AD_CLICK\", \n",
      "        \"_id\": \"AU3JhbOKy-bsL55W4BfJ\", \n",
      "        \"_source\": {\n",
      "          \"ci\": null, \n",
      "          \"co\": \"ITA\", \n",
      "          \"ip\": \"151.61.69.164\", \n",
      "          \"ak\": \"53aa59732a\", \n",
      "          \"pbep\": 70, \n",
      "          \"vw_drtn\": 0, \n",
      "          \"cr\": 331, \n",
      "          \"et\": \"AD_CLICK\", \n",
      "          \"id\": \"zenit_50051586-84f7-4661-8947-ec566d74bde8_331\", \n",
      "          \"plfm\": \"android\", \n",
      "          \"pp\": 0, \n",
      "          \"pv\": \"5.0.1\", \n",
      "          \"li\": 212, \n",
      "          \"pg\": 0, \n",
      "          \"rgn\": \"ITA-20\", \n",
      "          \"fr\": true, \n",
      "          \"vw_perc\": 0, \n",
      "          \"ernc\": 0, \n",
      "          \"ssp\": \"zenit_marketplace\", \n",
      "          \"br\": \"Chrome 43.0.2357.92\", \n",
      "          \"dt\": \"android\", \n",
      "          \"arch\": false, \n",
      "          \"lidp\": 0, \n",
      "          \"dp\": 0, \n",
      "          \"cvpc\": 1500000, \n",
      "          \"sdpt\": 0, \n",
      "          \"created_at\": \"2015-06-06T15:38:12.230Z\", \n",
      "          \"isp\": \"Infostrada\", \n",
      "          \"cty\": \"Cittadella\", \n",
      "          \"ua\": \"Mozilla/5.0 (Linux; Android 5.0.1; GT-I9505 Build/LRX22C) AppleWebKit/537.36 (KHTML, like Gecko) Chrome/43.0.2357.92 Mobile Safari/537.36\"\n",
      "        }, \n",
      "        \"_index\": \"events-2015.06.06\"\n",
      "      }, \n",
      "      {\n",
      "        \"_score\": 8.101964, \n",
      "        \"_type\": \"AD_CLICK\", \n",
      "        \"_id\": \"AU3Jv8mUpQcNCqL1gm69\", \n",
      "        \"_source\": {\n",
      "          \"ci\": null, \n",
      "          \"co\": \"ITA\", \n",
      "          \"uid\": \"z_387CB099-BC89-4F73-956B-2B69B3399266\", \n",
      "          \"ip\": \"93.150.235.21\", \n",
      "          \"ak\": \"9235bae93b\", \n",
      "          \"pbep\": 70, \n",
      "          \"vw_drtn\": 0, \n",
      "          \"cr\": 333, \n",
      "          \"et\": \"AD_CLICK\", \n",
      "          \"id\": \"zenit_5c959f2c-1bd6-440c-85f7-a9b94278d943_333\", \n",
      "          \"plfm\": null, \n",
      "          \"pp\": 0, \n",
      "          \"pv\": \"unknown\", \n",
      "          \"li\": 214, \n",
      "          \"pg\": 0, \n",
      "          \"rgn\": \"ITA-04\", \n",
      "          \"fr\": false, \n",
      "          \"vw_perc\": 0, \n",
      "          \"ernc\": 0, \n",
      "          \"ssp\": \"zenit_marketplace\", \n",
      "          \"br\": \"Other 0.0\", \n",
      "          \"dt\": \"other\", \n",
      "          \"arch\": false, \n",
      "          \"lidp\": 0, \n",
      "          \"dp\": 0, \n",
      "          \"cvpc\": 1500000, \n",
      "          \"sdpt\": 20, \n",
      "          \"created_at\": \"2015-06-06T16:41:38.952Z\", \n",
      "          \"isp\": \"Vodafone Italia DSL\", \n",
      "          \"cty\": \"Frattamaggiore\", \n",
      "          \"ua\": \"Campionato/1.0 CFNetwork/672.1.15 Darwin/14.0.0\"\n",
      "        }, \n",
      "        \"_index\": \"events-2015.06.06\"\n",
      "      }, \n",
      "      {\n",
      "        \"_score\": 8.101964, \n",
      "        \"_type\": \"AD_CLICK\", \n",
      "        \"_id\": \"AU3J1HBUpQcNCqL1gnHB\", \n",
      "        \"_source\": {\n",
      "          \"ci\": null, \n",
      "          \"co\": \"ITA\", \n",
      "          \"ip\": \"91.253.19.161\", \n",
      "          \"ak\": \"53aa59732a\", \n",
      "          \"pbep\": 70, \n",
      "          \"vw_drtn\": 0, \n",
      "          \"cr\": 330, \n",
      "          \"et\": \"AD_CLICK\", \n",
      "          \"id\": \"zenit_42693096-75cd-4b49-9e14-e1032dcdf195_330\", \n",
      "          \"plfm\": \"android\", \n",
      "          \"pp\": 0, \n",
      "          \"pv\": \"5.0\", \n",
      "          \"li\": 210, \n",
      "          \"pg\": 0, \n",
      "          \"rgn\": null, \n",
      "          \"fr\": false, \n",
      "          \"vw_perc\": 0, \n",
      "          \"ernc\": 0, \n",
      "          \"ssp\": \"zenit_marketplace\", \n",
      "          \"br\": \"Chrome 34.0.1847.76\", \n",
      "          \"dt\": \"android\", \n",
      "          \"arch\": false, \n",
      "          \"lidp\": 0, \n",
      "          \"dp\": 0, \n",
      "          \"cvpc\": 2850000, \n",
      "          \"sdpt\": 0, \n",
      "          \"created_at\": \"2015-06-06T17:04:12.368Z\", \n",
      "          \"isp\": \"H3G Italy\", \n",
      "          \"cty\": null, \n",
      "          \"ua\": \"Mozilla/5.0 (Linux; Android 5.0; SAMSUNG SM-G900F Build/LRX21T) AppleWebKit/537.36 (KHTML, like Gecko) SamsungBrowser/2.1 Chrome/34.0.1847.76 Mobile Safari/537.36\"\n",
      "        }, \n",
      "        \"_index\": \"events-2015.06.06\"\n",
      "      }, \n",
      "      {\n",
      "        \"_score\": 8.101964, \n",
      "        \"_type\": \"AD_CLICK\", \n",
      "        \"_id\": \"AU3J_D7AKbAs8MwsddVO\", \n",
      "        \"_source\": {\n",
      "          \"ci\": null, \n",
      "          \"co\": \"ITA\", \n",
      "          \"ip\": \"91.252.179.130\", \n",
      "          \"ak\": \"53aa59732a\", \n",
      "          \"pbep\": 70, \n",
      "          \"vw_drtn\": 0, \n",
      "          \"cr\": 331, \n",
      "          \"et\": \"AD_CLICK\", \n",
      "          \"id\": \"zenit_d77f0186-02a6-44f8-a7fc-0b645c569ce1_331\", \n",
      "          \"plfm\": \"android\", \n",
      "          \"pp\": 0, \n",
      "          \"pv\": \"4.4.2\", \n",
      "          \"li\": 212, \n",
      "          \"pg\": 0, \n",
      "          \"rgn\": null, \n",
      "          \"fr\": false, \n",
      "          \"vw_perc\": 0, \n",
      "          \"ernc\": 0, \n",
      "          \"ssp\": \"zenit_marketplace\", \n",
      "          \"br\": \"Chrome 28.0.1500.94\", \n",
      "          \"dt\": \"android\", \n",
      "          \"arch\": false, \n",
      "          \"lidp\": 0, \n",
      "          \"dp\": 0, \n",
      "          \"cvpc\": 1500000, \n",
      "          \"sdpt\": 0, \n",
      "          \"created_at\": \"2015-06-06T17:47:41.115Z\", \n",
      "          \"isp\": \"H3G Italy\", \n",
      "          \"cty\": null, \n",
      "          \"ua\": \"Mozilla/5.0 (Linux; Android 4.4.2; it-it; SAMSUNG SM-G800F Build/KOT49H) AppleWebKit/537.36 (KHTML, like Gecko) Version/1.6 Chrome/28.0.1500.94 Mobile Safari/537.36\"\n",
      "        }, \n",
      "        \"_index\": \"events-2015.06.06\"\n",
      "      }, \n",
      "      {\n",
      "        \"_score\": 8.101964, \n",
      "        \"_type\": \"AD_CLICK\", \n",
      "        \"_id\": \"AU3KDXWHKbAs8Mwsddfx\", \n",
      "        \"_source\": {\n",
      "          \"ci\": null, \n",
      "          \"co\": \"ITA\", \n",
      "          \"ip\": \"151.19.113.219\", \n",
      "          \"ak\": \"53aa59732a\", \n",
      "          \"pbep\": 70, \n",
      "          \"vw_drtn\": 0, \n",
      "          \"cr\": 330, \n",
      "          \"et\": \"AD_CLICK\", \n",
      "          \"id\": \"zenit_48945e80-9d41-4a94-a837-fb7652b7a1ab_330\", \n",
      "          \"plfm\": \"android\", \n",
      "          \"pp\": 0, \n",
      "          \"pv\": \"4.3\", \n",
      "          \"li\": 210, \n",
      "          \"pg\": 0, \n",
      "          \"rgn\": \"ITA-18\", \n",
      "          \"fr\": false, \n",
      "          \"vw_perc\": 0, \n",
      "          \"ernc\": 0, \n",
      "          \"ssp\": \"zenit_marketplace\", \n",
      "          \"br\": \"Android 4.0\", \n",
      "          \"dt\": \"android\", \n",
      "          \"arch\": false, \n",
      "          \"lidp\": 0, \n",
      "          \"dp\": 0, \n",
      "          \"cvpc\": 2850000, \n",
      "          \"sdpt\": 0, \n",
      "          \"created_at\": \"2015-06-06T18:06:29.251Z\", \n",
      "          \"isp\": \"Infostrada\", \n",
      "          \"cty\": \"Milan\", \n",
      "          \"ua\": \"Mozilla/5.0 (Linux; U; Android 4.3; it-it; GT-I9300 Build/JSS15J) AppleWebKit/534.30 (KHTML, like Gecko) Version/4.0 Mobile Safari/534.30\"\n",
      "        }, \n",
      "        \"_index\": \"events-2015.06.06\"\n",
      "      }\n",
      "    ], \n",
      "    \"total\": 103, \n",
      "    \"max_score\": 8.101964\n",
      "  }, \n",
      "  \"_shards\": {\n",
      "    \"successful\": 5, \n",
      "    \"failed\": 0, \n",
      "    \"total\": 5\n",
      "  }, \n",
      "  \"took\": 3, \n",
      "  \"timed_out\": false\n",
      "}\n"
     ]
    }
   ],
   "source": [
    "print json.dumps(result, indent=2)"
   ]
  },
  {
   "cell_type": "markdown",
   "metadata": {},
   "source": [
    "It seems to work!"
   ]
  },
  {
   "cell_type": "code",
   "execution_count": 37,
   "metadata": {
    "collapsed": false
   },
   "outputs": [
    {
     "data": {
      "text/plain": [
       "[u'hits', u'_shards', u'took', u'timed_out']"
      ]
     },
     "execution_count": 37,
     "metadata": {},
     "output_type": "execute_result"
    }
   ],
   "source": [
    "result.keys()"
   ]
  },
  {
   "cell_type": "code",
   "execution_count": 36,
   "metadata": {
    "collapsed": false
   },
   "outputs": [
    {
     "data": {
      "text/plain": [
       "[u'hits', u'total', u'max_score']"
      ]
     },
     "execution_count": 36,
     "metadata": {},
     "output_type": "execute_result"
    }
   ],
   "source": [
    "result['hits'].keys()"
   ]
  },
  {
   "cell_type": "code",
   "execution_count": 38,
   "metadata": {
    "collapsed": false
   },
   "outputs": [
    {
     "data": {
      "text/plain": [
       "10"
      ]
     },
     "execution_count": 38,
     "metadata": {},
     "output_type": "execute_result"
    }
   ],
   "source": [
    "len(result['hits']['hits'])"
   ]
  },
  {
   "cell_type": "markdown",
   "metadata": {},
   "source": [
    "But it only shows 10/103 hits... (6/6/15)\n",
    "Can consider the following way to get more data:\n",
    "https://www.elastic.co/guide/en/elasticsearch/guide/current/pagination.html\n",
    "https://elasticsearch-py.readthedocs.org/en/master/api.html#elasticsearch.Elasticsearch.search"
   ]
  },
  {
   "cell_type": "code",
   "execution_count": 41,
   "metadata": {
    "collapsed": false
   },
   "outputs": [
    {
     "data": {
      "text/plain": [
       "103"
      ]
     },
     "execution_count": 41,
     "metadata": {},
     "output_type": "execute_result"
    }
   ],
   "source": [
    "es.count(index=\"events-2015.06.06\", body={'query': {'match': { 'et' : 'AD_CLICK' }}})['count']"
   ]
  },
  {
   "cell_type": "code",
   "execution_count": 44,
   "metadata": {
    "collapsed": false
   },
   "outputs": [
    {
     "data": {
      "text/plain": [
       "84"
      ]
     },
     "execution_count": 44,
     "metadata": {},
     "output_type": "execute_result"
    }
   ],
   "source": [
    "es.count(index=\"events-2015.06.06\", body={'query': {'bool': {'must':[{'match': { 'et' : 'AD_CLICK' }}], 'must_not':[{'match': { 'fr' : 'true' }}]}}})['count']"
   ]
  },
  {
   "cell_type": "markdown",
   "metadata": {},
   "source": [
    "Note: true needs to be 'true' in Python API here"
   ]
  },
  {
   "cell_type": "code",
   "execution_count": 45,
   "metadata": {
    "collapsed": true
   },
   "outputs": [],
   "source": [
    "result = es.search(index=\"events-2015.06.06\", body={'query': {'bool': {'must':[{'match': { 'et' : 'AD_CLICK' }}], 'must_not':[{'match': { 'fr' : 'true' }}]}}}, size = 84)"
   ]
  },
  {
   "cell_type": "code",
   "execution_count": 46,
   "metadata": {
    "collapsed": false
   },
   "outputs": [
    {
     "data": {
      "text/plain": [
       "84"
      ]
     },
     "execution_count": 46,
     "metadata": {},
     "output_type": "execute_result"
    }
   ],
   "source": [
    "len(result['hits']['hits'])"
   ]
  },
  {
   "cell_type": "code",
   "execution_count": null,
   "metadata": {
    "collapsed": true
   },
   "outputs": [],
   "source": [
    "pd.DataFrame"
   ]
  }
 ],
 "metadata": {
  "kernelspec": {
   "display_name": "Python 2",
   "language": "python",
   "name": "python2"
  },
  "language_info": {
   "codemirror_mode": {
    "name": "ipython",
    "version": 2
   },
   "file_extension": ".py",
   "mimetype": "text/x-python",
   "name": "python",
   "nbconvert_exporter": "python",
   "pygments_lexer": "ipython2",
   "version": "2.7.6"
  }
 },
 "nbformat": 4,
 "nbformat_minor": 0
}
