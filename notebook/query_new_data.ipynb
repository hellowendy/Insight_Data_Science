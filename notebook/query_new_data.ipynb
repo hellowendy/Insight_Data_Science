{
 "cells": [
  {
   "cell_type": "code",
   "execution_count": 21,
   "metadata": {
    "collapsed": true
   },
   "outputs": [],
   "source": [
    "from elasticsearch import Elasticsearch\n",
    "import json\n",
    "import requests\n",
    "\n",
    "import datetime\n",
    "import time\n",
    "\n",
    "import numpy as np\n",
    "from numpy.random import randn\n",
    "from random import shuffle\n",
    "import pandas as pd\n",
    "from scipy import stats\n",
    "import matplotlib as mpl\n",
    "\n",
    "import matplotlib.pyplot as plt\n",
    "import seaborn as sns\n",
    "\n",
    "import math\n",
    "\n",
    "from sklearn.ensemble import RandomForestClassifier\n",
    "\n",
    "import plotly.plotly as py\n",
    "from plotly.graph_objs import *\n",
    "\n",
    "import eslogin\n",
    "import settings\n",
    "\n",
    "%matplotlib inline\n",
    "mpl.style.use('ggplot')\n",
    "\n",
    "pd.options.display.max_rows = 10\n",
    "pd.options.display.max_columns = 30"
   ]
  },
  {
   "cell_type": "markdown",
   "metadata": {},
   "source": [
    "#Download data"
   ]
  },
  {
   "cell_type": "code",
   "execution_count": 2,
   "metadata": {
    "collapsed": false
   },
   "outputs": [
    {
     "data": {
      "text/plain": [
       "'2015-06-19 09:42:00'"
      ]
     },
     "execution_count": 2,
     "metadata": {},
     "output_type": "execute_result"
    }
   ],
   "source": [
    "datetime.datetime.fromtimestamp(time.time()).strftime('%Y-%m-%d %H:%M:%S')"
   ]
  },
  {
   "cell_type": "code",
   "execution_count": 3,
   "metadata": {
    "collapsed": false
   },
   "outputs": [],
   "source": [
    "es = Elasticsearch([{'host': eslogin.host, 'port': eslogin.port}],http_auth=(eslogin.user,eslogin.password))"
   ]
  },
  {
   "cell_type": "code",
   "execution_count": 4,
   "metadata": {
    "collapsed": false
   },
   "outputs": [
    {
     "data": {
      "text/plain": [
       "11019"
      ]
     },
     "execution_count": 4,
     "metadata": {},
     "output_type": "execute_result"
    }
   ],
   "source": [
    "es.count(index=\"events-*\", body={'query': {'bool': {'must':[{'match': { 'et' : 'AD_CLICK' }}], 'must_not':[{'match': { 'fr' : 'true' }}]}}})['count']"
   ]
  },
  {
   "cell_type": "code",
   "execution_count": 5,
   "metadata": {
    "collapsed": true
   },
   "outputs": [],
   "source": [
    "clicks = es.search(index=\"events-*\", body={'query': {'bool': {'must':[{'match': { 'et' : 'AD_CLICK' }}], 'must_not':[{'match': { 'fr' : 'true' }}]}}}, size = 11019)"
   ]
  },
  {
   "cell_type": "code",
   "execution_count": 6,
   "metadata": {
    "collapsed": true
   },
   "outputs": [],
   "source": [
    "df_clicks = pd.DataFrame([datum['_source'] for datum in clicks['hits']['hits']])"
   ]
  },
  {
   "cell_type": "code",
   "execution_count": 7,
   "metadata": {
    "collapsed": false
   },
   "outputs": [
    {
     "data": {
      "text/plain": [
       "(11019, 46)"
      ]
     },
     "execution_count": 7,
     "metadata": {},
     "output_type": "execute_result"
    }
   ],
   "source": [
    "df_clicks.shape"
   ]
  },
  {
   "cell_type": "code",
   "execution_count": 8,
   "metadata": {
    "collapsed": true
   },
   "outputs": [],
   "source": [
    "df_clicks.to_csv(\"../data/ad_clicks_150619.tab\",sep='\\t',encoding='utf-8')"
   ]
  },
  {
   "cell_type": "code",
   "execution_count": 2,
   "metadata": {
    "collapsed": true
   },
   "outputs": [],
   "source": [
    "df_clicks = pd.read_csv(\"../data/ad_clicks_150619.tab\",sep='\\t',index_col=0,encoding='utf-8')"
   ]
  },
  {
   "cell_type": "code",
   "execution_count": 3,
   "metadata": {
    "collapsed": true
   },
   "outputs": [],
   "source": [
    "clicks_uniq = df_clicks.loc[np.where(np.unique(df_clicks['created_at']))[0], :]"
   ]
  },
  {
   "cell_type": "code",
   "execution_count": 4,
   "metadata": {
    "collapsed": false
   },
   "outputs": [
    {
     "data": {
      "text/plain": [
       "(11018, 46)"
      ]
     },
     "execution_count": 4,
     "metadata": {},
     "output_type": "execute_result"
    }
   ],
   "source": [
    "clicks_uniq.shape"
   ]
  },
  {
   "cell_type": "code",
   "execution_count": 11,
   "metadata": {
    "collapsed": false
   },
   "outputs": [
    {
     "data": {
      "text/plain": [
       "5460523"
      ]
     },
     "execution_count": 11,
     "metadata": {},
     "output_type": "execute_result"
    }
   ],
   "source": [
    "es.count(index=\"events-*\", body={'query': {'bool': {'must':[{'match': { 'et' : 'AD_SHOW' }}], 'must_not':[{'match': { 'fr' : 'true' }}]}}})['count']"
   ]
  },
  {
   "cell_type": "code",
   "execution_count": 12,
   "metadata": {
    "collapsed": false
   },
   "outputs": [],
   "source": [
    "randomInd = np.random.choice(range(5460523), size=20000, replace=False)"
   ]
  },
  {
   "cell_type": "code",
   "execution_count": 13,
   "metadata": {
    "collapsed": true
   },
   "outputs": [],
   "source": [
    "shows = []"
   ]
  },
  {
   "cell_type": "code",
   "execution_count": 20,
   "metadata": {
    "collapsed": false
   },
   "outputs": [],
   "source": [
    "for i in randomInd:\n",
    "    event = es.search(index=\"events-*\", body={'query': {'bool': {'must':[{'match': { 'et' : 'AD_SHOW' }}], 'must_not':[{'match': { 'fr' : 'true' }}]}}}, from_ = i, size = 1)\n",
    "    shows = shows + event['hits']['hits']"
   ]
  },
  {
   "cell_type": "code",
   "execution_count": 22,
   "metadata": {
    "collapsed": false
   },
   "outputs": [],
   "source": [
    "df_shows = pd.DataFrame([datum['_source'] for datum in shows])\n",
    "df_shows.to_csv(\"../data/ad_shows_150619.tab\",sep='\\t',encoding='utf-8')"
   ]
  },
  {
   "cell_type": "code",
   "execution_count": 6,
   "metadata": {
    "collapsed": false
   },
   "outputs": [],
   "source": [
    "df_shows = pd.read_csv(\"../data/ad_shows_150619.tab\",sep='\\t',index_col=0,encoding='utf-8',low_memory=False)"
   ]
  },
  {
   "cell_type": "raw",
   "metadata": {
    "collapsed": false
   },
   "source": [
    "pd.options.display.max_rows = 3\n",
    "pd.options.display.max_columns = 50\n",
    "df_shows"
   ]
  },
  {
   "cell_type": "code",
   "execution_count": 8,
   "metadata": {
    "collapsed": false
   },
   "outputs": [
    {
     "data": {
      "text/plain": [
       "(19973, 34)"
      ]
     },
     "execution_count": 8,
     "metadata": {},
     "output_type": "execute_result"
    }
   ],
   "source": [
    "shows_uniq = df_shows.loc[np.where(np.unique(df_shows['created_at']))[0], :]\n",
    "shows_uniq.shape"
   ]
  },
  {
   "cell_type": "markdown",
   "metadata": {},
   "source": [
    "#Prepare for the data set"
   ]
  },
  {
   "cell_type": "code",
   "execution_count": 10,
   "metadata": {
    "collapsed": false
   },
   "outputs": [],
   "source": [
    "duplicate_id = set(shows_uniq['id']) - set(clicks_uniq['id'])\n",
    "shows_uniq_only = shows_uniq.loc[shows_uniq['id'].apply(lambda x: x in duplicate_id), :]"
   ]
  },
  {
   "cell_type": "code",
   "execution_count": 11,
   "metadata": {
    "collapsed": true
   },
   "outputs": [],
   "source": [
    "clicks_uniq['click'] = 1\n",
    "shows_uniq_only['click'] = 0"
   ]
  },
  {
   "cell_type": "code",
   "execution_count": 12,
   "metadata": {
    "collapsed": true
   },
   "outputs": [],
   "source": [
    "data = pd.concat([clicks_uniq[['ai','br','co','cty','rgn','plfm','pv','dt','sdpt','isp',\n",
    "                               'ernc','dp','vw_drtn','vw_perc','cr','created_at','et','click']],\n",
    "                  shows_uniq_only[['ai','br','co','cty','rgn','plfm','pv','dt','sdpt','isp',\n",
    "                                   'ernc','dp','vw_drtn','vw_perc','cr','created_at','et','click']]],\n",
    "                 axis=0)"
   ]
  },
  {
   "cell_type": "code",
   "execution_count": 13,
   "metadata": {
    "collapsed": true
   },
   "outputs": [],
   "source": [
    "def get_date(timestring):\n",
    "    mytime = timestring.split('.')[0]\n",
    "    return datetime.datetime.strptime(mytime, '%Y-%m-%dT%X')\n",
    "data['created_at'] = data['created_at'].apply(get_date)"
   ]
  },
  {
   "cell_type": "code",
   "execution_count": 16,
   "metadata": {
    "collapsed": false
   },
   "outputs": [],
   "source": [
    "data['br_short'] = data['br'].apply(lambda x:str(x).split()[0])"
   ]
  },
  {
   "cell_type": "code",
   "execution_count": 17,
   "metadata": {
    "collapsed": false
   },
   "outputs": [],
   "source": [
    "ad_type = pd.read_csv(\"../data/zenit_creatives_parsed.tab\",sep='\\t',encoding='utf-8')"
   ]
  },
  {
   "cell_type": "code",
   "execution_count": 18,
   "metadata": {
    "collapsed": true
   },
   "outputs": [],
   "source": [
    "def get_ad_type(cr_id):\n",
    "    if cr_id > 0 and cr_id in ad_type['cr']:\n",
    "        return ad_type['ad_type'][ad_type['cr'].apply(lambda x: x == cr_id)].values[0]\n",
    "    else:\n",
    "        return np.NaN"
   ]
  },
  {
   "cell_type": "code",
   "execution_count": 19,
   "metadata": {
    "collapsed": true
   },
   "outputs": [],
   "source": [
    "data = pd.merge(data, ad_type, left_on ='cr', right_on ='cr', how='left')"
   ]
  },
  {
   "cell_type": "code",
   "execution_count": 78,
   "metadata": {
    "collapsed": false
   },
   "outputs": [
    {
     "data": {
      "text/plain": [
       "3828"
      ]
     },
     "execution_count": 78,
     "metadata": {},
     "output_type": "execute_result"
    }
   ],
   "source": [
    "len(np.unique(data['cty'].values))"
   ]
  },
  {
   "cell_type": "code",
   "execution_count": 87,
   "metadata": {
    "collapsed": false
   },
   "outputs": [],
   "source": [
    "from geopy import geocoders\n",
    "g = geocoders.GoogleV3()\n",
    "place, (lat, lng) = g.geocode('Eastbourne')"
   ]
  },
  {
   "cell_type": "code",
   "execution_count": 124,
   "metadata": {
    "collapsed": false
   },
   "outputs": [
    {
     "data": {
      "text/plain": [
       "<DstTzInfo 'Europe/London' LMT-1 day, 23:59:00 STD>"
      ]
     },
     "execution_count": 124,
     "metadata": {},
     "output_type": "execute_result"
    }
   ],
   "source": [
    "g2 = geocoders.GoogleV3(settings.google_api_key)\n",
    "g2.timezone((lat, lng))"
   ]
  },
  {
   "cell_type": "code",
   "execution_count": 128,
   "metadata": {
    "collapsed": true
   },
   "outputs": [],
   "source": [
    "def get_loc(city):\n",
    "    try:\n",
    "        #g = geocoders.GoogleV3()\n",
    "        place, (lat, lng) = g.geocode(city)\n",
    "        \n",
    "        return (place, lat, lng)\n",
    "    except:\n",
    "        return np.NaN"
   ]
  },
  {
   "cell_type": "code",
   "execution_count": 148,
   "metadata": {
    "collapsed": false
   },
   "outputs": [
    {
     "data": {
      "text/plain": [
       "nan"
      ]
     },
     "execution_count": 148,
     "metadata": {},
     "output_type": "execute_result"
    }
   ],
   "source": [
    "get_loc('Pasadena')"
   ]
  },
  {
   "cell_type": "code",
   "execution_count": 121,
   "metadata": {
    "collapsed": false
   },
   "outputs": [],
   "source": [
    "city_loc = {}\n",
    "for city in cities:\n",
    "    city_loc[city] = get_loc(city)"
   ]
  },
  {
   "cell_type": "code",
   "execution_count": 122,
   "metadata": {
    "collapsed": true
   },
   "outputs": [],
   "source": [
    "json.dump(city_loc, open(\"../data/city_location_150623.txt\",'w'))"
   ]
  },
  {
   "cell_type": "markdown",
   "metadata": {},
   "source": [
    "^Most of them are NA... query too often?"
   ]
  },
  {
   "cell_type": "code",
   "execution_count": 144,
   "metadata": {
    "collapsed": false
   },
   "outputs": [],
   "source": [
    "import time\n",
    "city_loc = {}\n",
    "for city in cities:\n",
    "    city_loc[city] = get_loc(city)\n",
    "    time.sleep(2)"
   ]
  },
  {
   "cell_type": "code",
   "execution_count": 145,
   "metadata": {
    "collapsed": true
   },
   "outputs": [],
   "source": [
    "json.dump(city_loc, open(\"../data/city_location_150624.txt\",'w'))"
   ]
  },
  {
   "cell_type": "markdown",
   "metadata": {},
   "source": [
    "^Looks much better this time!"
   ]
  },
  {
   "cell_type": "code",
   "execution_count": 146,
   "metadata": {
    "collapsed": true
   },
   "outputs": [],
   "source": [
    "data.to_csv(\"../data/data_150624.tab\",sep='\\t',encoding='utf-8')"
   ]
  },
  {
   "cell_type": "code",
   "execution_count": 67,
   "metadata": {
    "collapsed": false
   },
   "outputs": [],
   "source": [
    "def utc_to_local(time, city):\n",
    "    try:\n",
    "        # get the local time zone\n",
    "        g = geocoders.GoogleV3()\n",
    "        place, (lat, lng) = g.geocode(city)\n",
    "        timezone = g.timezone((lat, lng))\n",
    "\n",
    "        tz = pytz.timezone(timezone.zone)\n",
    "    \n",
    "        # convert UTC to local\n",
    "        utc = time.replace(tzinfo=pytz.utc)\n",
    "        local = tz.normalize(utc.astimezone(tz))\n",
    "    \n",
    "        return local\n",
    "        \n",
    "    except:\n",
    "        return np.NaN"
   ]
  },
  {
   "cell_type": "markdown",
   "metadata": {},
   "source": [
    "#Learning!"
   ]
  },
  {
   "cell_type": "markdown",
   "metadata": {},
   "source": [
    "Convert categorical features to binary (dummy) variables"
   ]
  },
  {
   "cell_type": "code",
   "execution_count": 149,
   "metadata": {
    "collapsed": true
   },
   "outputs": [],
   "source": [
    "data2 = pd.concat([data[['click']],pd.get_dummies(data['br_short'], dummy_na=True, prefix='br'),\n",
    "                   pd.get_dummies(data['co'], dummy_na=True, prefix='co'),\n",
    "                   pd.get_dummies(data['cty'].apply(cty_parser), dummy_na=True, prefix='cty'),\n",
    "                   pd.get_dummies(data['rgn'], dummy_na=True, prefix='rgn'),\n",
    "                   pd.get_dummies(data['plfm'], dummy_na=True, prefix='plfm'),\n",
    "                   pd.get_dummies(data['pv'], dummy_na=True, prefix='pv'),\n",
    "                   pd.get_dummies(data['dt'], dummy_na=True, prefix='dt'),\n",
    "                   pd.get_dummies(data['isp'], dummy_na=True, prefix='isp'),\n",
    "                   pd.get_dummies(data['ad_type'], dummy_na=True, prefix='ad_type'),\n",
    "                   data[['ai','cr','sdpt','ernc','dp']]],axis=1)"
   ]
  },
  {
   "cell_type": "markdown",
   "metadata": {},
   "source": [
    "Shuffle indices for 10-fold cross validation"
   ]
  },
  {
   "cell_type": "code",
   "execution_count": 152,
   "metadata": {
    "collapsed": false
   },
   "outputs": [
    {
     "data": {
      "text/plain": [
       "array([    0,     1,     2, ..., 30909, 30910, 30911])"
      ]
     },
     "execution_count": 152,
     "metadata": {},
     "output_type": "execute_result"
    }
   ],
   "source": [
    "indices = data2.index.values\n",
    "indices"
   ]
  },
  {
   "cell_type": "code",
   "execution_count": 153,
   "metadata": {
    "collapsed": false
   },
   "outputs": [],
   "source": [
    "shuffle(indices)"
   ]
  },
  {
   "cell_type": "code",
   "execution_count": 221,
   "metadata": {
    "collapsed": false
   },
   "outputs": [
    {
     "data": {
      "text/plain": [
       "30912"
      ]
     },
     "execution_count": 221,
     "metadata": {},
     "output_type": "execute_result"
    }
   ],
   "source": [
    "len(np.unique(indices))"
   ]
  },
  {
   "cell_type": "code",
   "execution_count": 157,
   "metadata": {
    "collapsed": false
   },
   "outputs": [],
   "source": [
    "test_size = len(indices)/10"
   ]
  },
  {
   "cell_type": "code",
   "execution_count": 158,
   "metadata": {
    "collapsed": true
   },
   "outputs": [],
   "source": [
    "test_ind = indices[:test_size]\n",
    "train_ind = indices[test_size:]"
   ]
  },
  {
   "cell_type": "code",
   "execution_count": 163,
   "metadata": {
    "collapsed": false
   },
   "outputs": [],
   "source": [
    "train_set = data2.loc[train_ind,:]\n",
    "test_set = data2.loc[test_ind,:]"
   ]
  },
  {
   "cell_type": "raw",
   "metadata": {
    "collapsed": false
   },
   "source": [
    "train_set"
   ]
  },
  {
   "cell_type": "code",
   "execution_count": 169,
   "metadata": {
    "collapsed": false
   },
   "outputs": [
    {
     "data": {
      "text/plain": [
       "float64    5969\n",
       "int64         4\n",
       "dtype: int64"
      ]
     },
     "execution_count": 169,
     "metadata": {},
     "output_type": "execute_result"
    }
   ],
   "source": [
    "train_set.dtypes.value_counts()"
   ]
  },
  {
   "cell_type": "code",
   "execution_count": 176,
   "metadata": {
    "collapsed": false
   },
   "outputs": [
    {
     "name": "stdout",
     "output_type": "stream",
     "text": [
      "['br_nan']\n"
     ]
    }
   ],
   "source": [
    "import collections\n",
    "print [item for item, count in collections.Counter(train_set.columns.values).items() if count > 1]"
   ]
  },
  {
   "cell_type": "markdown",
   "metadata": {},
   "source": [
    "There are two 'br_nan', I need to keep only one - indicating the combining of two"
   ]
  },
  {
   "cell_type": "code",
   "execution_count": 209,
   "metadata": {
    "collapsed": false
   },
   "outputs": [],
   "source": [
    "train_set_2 = train_set.drop(['br_nan'], axis=1)"
   ]
  },
  {
   "cell_type": "code",
   "execution_count": 227,
   "metadata": {
    "collapsed": false
   },
   "outputs": [],
   "source": [
    "train_set_2.loc[:,'br_nan'] = 0 * train_set_2.shape[0]\n",
    "for i in train_set_2.index:\n",
    "    train_set_2.loc[i,'br_nan'] = train_set.ix[:,12][i] + train_set.ix[:,13][i]"
   ]
  },
  {
   "cell_type": "code",
   "execution_count": 226,
   "metadata": {
    "collapsed": false
   },
   "outputs": [
    {
     "data": {
      "text/plain": [
       "20004    0\n",
       "11087    0\n",
       "9111     0\n",
       "...\n",
       "12349    0\n",
       "1059     0\n",
       "1958     0\n",
       "Name: br_nan, Length: 27821, dtype: float64"
      ]
     },
     "execution_count": 226,
     "metadata": {},
     "output_type": "execute_result"
    }
   ],
   "source": [
    "train_set.ix[:,12]"
   ]
  },
  {
   "cell_type": "code",
   "execution_count": 228,
   "metadata": {
    "collapsed": true
   },
   "outputs": [],
   "source": [
    "forest = RandomForestClassifier(n_estimators = 100)"
   ]
  },
  {
   "cell_type": "raw",
   "metadata": {},
   "source": [
    "model1 = forest.fit(train_set_2[0::,1::],train_set_2[0::,0])"
   ]
  },
  {
   "cell_type": "code",
   "execution_count": 230,
   "metadata": {
    "collapsed": false
   },
   "outputs": [
    {
     "name": "stdout",
     "output_type": "stream",
     "text": [
      "[]\n"
     ]
    }
   ],
   "source": [
    "print [item for item, count in collections.Counter(train_set_2.columns.values).items() if count > 1]"
   ]
  },
  {
   "cell_type": "code",
   "execution_count": 231,
   "metadata": {
    "collapsed": false
   },
   "outputs": [
    {
     "data": {
      "text/plain": [
       "float64    5968\n",
       "int64         4\n",
       "dtype: int64"
      ]
     },
     "execution_count": 231,
     "metadata": {},
     "output_type": "execute_result"
    }
   ],
   "source": [
    "train_set_2.dtypes.value_counts()"
   ]
  },
  {
   "cell_type": "markdown",
   "metadata": {},
   "source": [
    "The error is extremely wierd..."
   ]
  },
  {
   "cell_type": "markdown",
   "metadata": {},
   "source": [
    "Try just use the old data:"
   ]
  },
  {
   "cell_type": "code",
   "execution_count": 233,
   "metadata": {
    "collapsed": false
   },
   "outputs": [],
   "source": [
    "clicks_uniq = pd.read_csv(\"../data/clicks_uniq_150610.tab\",sep='\\t',index_col=0,encoding='utf-8')\n",
    "adShows_uniq = pd.read_csv(\"../data/adShows_uniq_150610.tab\",sep='\\t',index_col=0,encoding='utf-8')\n",
    "duplicate_id = set(adShows_uniq['id']) - set(clicks_uniq['id'])\n",
    "adShows_uniq_only = adShows_uniq.loc[adShows_uniq['id'].apply(lambda x: x in duplicate_id), :]\n",
    "data = pd.concat([clicks_uniq[['ai','br','co','cty','rgn','plfm','pv','dt','sdpt','isp','ernc','dp','vw_drtn',\n",
    "                               'vw_perc','cr','created_at','et']],\n",
    "                  adShows_uniq_only[['ai','br','co','cty','rgn','plfm','pv','dt','sdpt','isp','ernc','dp',\n",
    "                                     'vw_drtn','vw_perc','cr','created_at','et']]], axis=0)\n",
    "def get_date(timestring):\n",
    "    mytime = timestring.split('.')[0]\n",
    "    return datetime.strptime(mytime, '%Y-%m-%dT%X')\n",
    "data['created_at'] = data['created_at'].apply(get_date)\n",
    "data2 = data[data['created_at'].apply(lambda x:(x.month == 5 or x.month == 6))]\n",
    "data2['br_short'] = data2['br'].apply(lambda x:x.split()[0])\n",
    "data2['click'] = data2['et'].apply(lambda x:x == 'AD_CLICK')\n",
    "data2 = pd.merge(data2, ad_type, left_on ='cr', right_on ='cr', how='left')\n",
    "data2['time'] = data2['created_at'].apply(lambda x:x.hour)"
   ]
  },
  {
   "cell_type": "raw",
   "metadata": {
    "collapsed": false
   },
   "source": [
    "pd.options.display.max_rows = 3\n",
    "pd.options.display.max_columns = 30\n",
    "data2"
   ]
  },
  {
   "cell_type": "code",
   "execution_count": 248,
   "metadata": {
    "collapsed": false
   },
   "outputs": [
    {
     "data": {
      "text/plain": [
       "False    13345\n",
       "True      5384\n",
       "dtype: int64"
      ]
     },
     "execution_count": 248,
     "metadata": {},
     "output_type": "execute_result"
    }
   ],
   "source": [
    "features = ['click','ai','cr','br_short','co','cty','rgn','plfm','pv','dt',\n",
    "            'sdpt','isp','ernc','dp','ad_type','time']\n",
    "data3 = data2.loc[:,features]\n",
    "data3['click'].value_counts()"
   ]
  },
  {
   "cell_type": "code",
   "execution_count": 238,
   "metadata": {
    "collapsed": false
   },
   "outputs": [
    {
     "data": {
      "text/plain": [
       "Index([u'click', u'ai', u'cr', u'br_short', u'co', u'cty', u'rgn', u'plfm', u'pv', u'dt', u'sdpt', u'isp', u'ernc', u'dp', u'ad_type', u'time'], dtype='object')"
      ]
     },
     "execution_count": 238,
     "metadata": {},
     "output_type": "execute_result"
    }
   ],
   "source": [
    "data3.columns"
   ]
  },
  {
   "cell_type": "code",
   "execution_count": 249,
   "metadata": {
    "collapsed": false
   },
   "outputs": [],
   "source": [
    "data3 = pd.concat([data3[['click']],pd.get_dummies(data3['br_short'], dummy_na=True, prefix='br'),\n",
    "                   pd.get_dummies(data3['co'], dummy_na=True, prefix='co'),\n",
    "                   pd.get_dummies(data3['cty'].apply(cty_parser), dummy_na=True, prefix='cty'),\n",
    "                   pd.get_dummies(data3['rgn'], dummy_na=True, prefix='rgn'),\n",
    "                   pd.get_dummies(data3['plfm'], dummy_na=True, prefix='plfm'),\n",
    "                   pd.get_dummies(data3['pv'], dummy_na=True, prefix='pv'),\n",
    "                   pd.get_dummies(data3['dt'], dummy_na=True, prefix='dt'),\n",
    "                   pd.get_dummies(data3['isp'], dummy_na=True, prefix='isp'),\n",
    "                   pd.get_dummies(data3['ad_type'], dummy_na=True, prefix='ad_type'),\n",
    "                   data3[['ai','sdpt','time','ernc','dp']]],axis=1)"
   ]
  },
  {
   "cell_type": "markdown",
   "metadata": {},
   "source": [
    "Shuffle the indices"
   ]
  },
  {
   "cell_type": "code",
   "execution_count": 250,
   "metadata": {
    "collapsed": false
   },
   "outputs": [
    {
     "data": {
      "text/plain": [
       "18729"
      ]
     },
     "execution_count": 250,
     "metadata": {},
     "output_type": "execute_result"
    }
   ],
   "source": [
    "indices = data3.index.values\n",
    "shuffle(indices)\n",
    "len(np.unique(indices))"
   ]
  },
  {
   "cell_type": "code",
   "execution_count": 251,
   "metadata": {
    "collapsed": false
   },
   "outputs": [
    {
     "data": {
      "text/plain": [
       "1872"
      ]
     },
     "execution_count": 251,
     "metadata": {},
     "output_type": "execute_result"
    }
   ],
   "source": [
    "test_size = len(indices)/10\n",
    "test_size"
   ]
  },
  {
   "cell_type": "code",
   "execution_count": 252,
   "metadata": {
    "collapsed": true
   },
   "outputs": [],
   "source": [
    "test_ind = indices[:test_size]\n",
    "train_ind = indices[test_size:]\n",
    "train_set = data3.loc[train_ind,:]\n",
    "test_set = data3.loc[test_ind,:]"
   ]
  },
  {
   "cell_type": "code",
   "execution_count": 254,
   "metadata": {
    "collapsed": true
   },
   "outputs": [],
   "source": [
    "train_data = train_set.values"
   ]
  },
  {
   "cell_type": "raw",
   "metadata": {},
   "source": [
    "forest = RandomForestClassifier(n_estimators = 100)\n",
    "model1 = forest.fit(train_data[0::,1::],train_data[0::,0])"
   ]
  }
 ],
 "metadata": {
  "kernelspec": {
   "display_name": "Python 2",
   "language": "python",
   "name": "python2"
  },
  "language_info": {
   "codemirror_mode": {
    "name": "ipython",
    "version": 2
   },
   "file_extension": ".py",
   "mimetype": "text/x-python",
   "name": "python",
   "nbconvert_exporter": "python",
   "pygments_lexer": "ipython2",
   "version": "2.7.6"
  }
 },
 "nbformat": 4,
 "nbformat_minor": 0
}
