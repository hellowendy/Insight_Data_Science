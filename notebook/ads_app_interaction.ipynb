{
 "cells": [
  {
   "cell_type": "code",
   "execution_count": 254,
   "metadata": {
    "collapsed": true
   },
   "outputs": [],
   "source": [
    "from elasticsearch import Elasticsearch\n",
    "import json\n",
    "import requests\n",
    "\n",
    "import eslogin\n",
    "\n",
    "import datetime\n",
    "import time\n",
    "\n",
    "import numpy as np\n",
    "from numpy.random import randn\n",
    "import pandas as pd\n",
    "from scipy import stats\n",
    "import matplotlib as mpl\n",
    "\n",
    "import matplotlib.pyplot as plt\n",
    "import seaborn as sns\n",
    "\n",
    "import math\n",
    "\n",
    "from sklearn.ensemble import RandomForestClassifier\n",
    "import sklearn\n",
    "import scipy\n",
    "\n",
    "import plotly.plotly as py\n",
    "from plotly.graph_objs import *\n",
    "\n",
    "from itertools import compress\n",
    "\n",
    "%matplotlib inline\n",
    "mpl.style.use('ggplot')\n",
    "\n",
    "pd.options.display.max_rows = 10\n",
    "pd.options.display.max_columns = 30"
   ]
  },
  {
   "cell_type": "markdown",
   "metadata": {},
   "source": [
    "#Get data"
   ]
  },
  {
   "cell_type": "code",
   "execution_count": 255,
   "metadata": {
    "collapsed": true
   },
   "outputs": [],
   "source": [
    "es = Elasticsearch([{'host': eslogin.host, 'port': eslogin.port}],http_auth=(eslogin.user,eslogin.password))"
   ]
  },
  {
   "cell_type": "code",
   "execution_count": 4,
   "metadata": {
    "collapsed": false
   },
   "outputs": [
    {
     "data": {
      "text/plain": [
       "2774993"
      ]
     },
     "execution_count": 4,
     "metadata": {},
     "output_type": "execute_result"
    }
   ],
   "source": [
    "es.count(index=\"events-2015.05.*\", body={'query': {'bool': {'must':[{'match': { 'et' : 'AD_SHOW' }}], 'must_not':[{'match': { 'fr' : 'true' }}]}}})['count']"
   ]
  },
  {
   "cell_type": "markdown",
   "metadata": {},
   "source": [
    "^That's too much data, even getting 10K each time will take 277 downloads..."
   ]
  },
  {
   "cell_type": "code",
   "execution_count": 6,
   "metadata": {
    "collapsed": true
   },
   "outputs": [],
   "source": [
    "columns = [31,49,50,51,52,53,54,55,56,67,68,71,72,87,89,90,91,92,\n",
    "           93,94,95,99,108,113,115,116,117,119,120,121,122,125,130,131,132,133,\n",
    "           134,137,139,140,141,142,145]\n",
    "index = [156, 157, 158, 169, 170, 171, 175, 190, 191, 192, 203, 204,\n",
    "         205, 213, 214, 215, 216, 217, 218, 220, 221, 222, 225, 226, 227,\n",
    "         228, 229, 230, 231, 232, 236, 237, 238, 239, 240, 241, 242, 243,\n",
    "         245, 246, 248, 249, 250, 254, 256, 257, 258, 259, 261, 262, 263,\n",
    "         264, 265, 266, 267, 268, 269, 270, 271, 272, 273, 274, 275, 276,\n",
    "         277, 278, 279, 281, 282, 283, 284, 285, 286, 287, 288, 289, 290,\n",
    "         292, 293, 294, 295, 296, 297, 298, 299, 300, 301, 302, 303, 304,\n",
    "         305, 306, 307, 308, 309, 310, 311, 312, 313, 314, 315, 318, 319,\n",
    "         324, 327, 328, 329, 330, 331, 332, 333, 334, 335, 336, 337, 338,\n",
    "         339, 340, 341, 342, 343, 344, 346, 349, 350, 353]\n",
    "df_show_m5 = pd.DataFrame(index=index, columns=columns)\n",
    "df_show_m5 = df_show_m5.fillna(0)"
   ]
  },
  {
   "cell_type": "code",
   "execution_count": 7,
   "metadata": {
    "collapsed": true
   },
   "outputs": [],
   "source": [
    "for col in columns:\n",
    "    for ind in index:\n",
    "        df_show_m5.loc[ind,col] = es.count(index=\"events-2015.05.*\", body={'query': {'bool': {'must':[{'match': { 'ai' : col }}, {'match': { 'cr' : ind }}, {'match': { 'et' : 'AD_SHOW' }}], 'must_not':[{'match': { 'fr' : 'true' }}]}}})['count']"
   ]
  },
  {
   "cell_type": "code",
   "execution_count": 8,
   "metadata": {
    "collapsed": true
   },
   "outputs": [],
   "source": [
    "df_show_m5.to_csv(\"../data/ad_show_count_m5_150617.tab\",sep='\\t')"
   ]
  },
  {
   "cell_type": "code",
   "execution_count": 9,
   "metadata": {
    "collapsed": true
   },
   "outputs": [],
   "source": [
    "df_click_m5 = pd.DataFrame(index=index, columns=columns)\n",
    "df_click_m5 = df_click_m5.fillna(0)\n",
    "for col in columns:\n",
    "    for ind in index:\n",
    "        df_click_m5.loc[ind,col] = es.count(index=\"events-2015.05.*\", body={'query': {'bool': {'must':[{'match': { 'ai' : col }}, {'match': { 'cr' : ind }}, {'match': { 'et' : 'AD_CLICK' }}], 'must_not':[{'match': { 'fr' : 'true' }}]}}})['count']"
   ]
  },
  {
   "cell_type": "code",
   "execution_count": 10,
   "metadata": {
    "collapsed": true
   },
   "outputs": [],
   "source": [
    "df_click_m5.to_csv(\"../data/ad_click_count_m5_150617.tab\",sep='\\t')"
   ]
  },
  {
   "cell_type": "code",
   "execution_count": 11,
   "metadata": {
    "collapsed": true
   },
   "outputs": [],
   "source": [
    "df_show_m6 = pd.DataFrame(index=index, columns=columns)\n",
    "df_show_m6 = df_show_m6.fillna(0)\n",
    "for col in columns:\n",
    "    for ind in index:\n",
    "        df_show_m6.loc[ind,col] = es.count(index=\"events-2015.06.*\", body={'query': {'bool': {'must':[{'match': { 'ai' : col }}, {'match': { 'cr' : ind }}, {'match': { 'et' : 'AD_SHOW' }}], 'must_not':[{'match': { 'fr' : 'true' }}]}}})['count']"
   ]
  },
  {
   "cell_type": "code",
   "execution_count": 13,
   "metadata": {
    "collapsed": true
   },
   "outputs": [],
   "source": [
    "df_show_m6.to_csv(\"../data/ad_show_count_m6_150617.tab\",sep='\\t')"
   ]
  },
  {
   "cell_type": "code",
   "execution_count": 12,
   "metadata": {
    "collapsed": true
   },
   "outputs": [],
   "source": [
    "df_click_m6 = pd.DataFrame(index=index, columns=columns)\n",
    "df_click_m6 = df_click_m6.fillna(0)\n",
    "for col in columns:\n",
    "    for ind in index:\n",
    "        df_click_m6.loc[ind,col] = es.count(index=\"events-2015.06.*\", body={'query': {'bool': {'must':[{'match': { 'ai' : col }}, {'match': { 'cr' : ind }}, {'match': { 'et' : 'AD_CLICK' }}], 'must_not':[{'match': { 'fr' : 'true' }}]}}})['count']"
   ]
  },
  {
   "cell_type": "code",
   "execution_count": 14,
   "metadata": {
    "collapsed": true
   },
   "outputs": [],
   "source": [
    "df_click_m6.to_csv(\"../data/ad_click_count_m6_150617.tab\",sep='\\t')"
   ]
  },
  {
   "cell_type": "code",
   "execution_count": 15,
   "metadata": {
    "collapsed": true
   },
   "outputs": [],
   "source": [
    "df_show = df_show_m5 + df_show_m6\n",
    "df_click = df_click_m5 + df_click_m6"
   ]
  },
  {
   "cell_type": "code",
   "execution_count": 102,
   "metadata": {
    "collapsed": true
   },
   "outputs": [],
   "source": [
    "df_show.to_csv(\"../data/ad_show_count_150617.tab\",sep='\\t')\n",
    "df_click.to_csv(\"../data/ad_click_count_150617.tab\",sep='\\t')"
   ]
  },
  {
   "cell_type": "code",
   "execution_count": 2,
   "metadata": {
    "collapsed": true
   },
   "outputs": [],
   "source": [
    "df_show = pd.read_csv(\"../data/ad_show_count_150617.tab\",sep='\\t',index_col=0,encoding='utf-8')\n",
    "df_click = pd.read_csv(\"../data/ad_click_count_150617.tab\",sep='\\t',index_col=0,encoding='utf-8')"
   ]
  },
  {
   "cell_type": "code",
   "execution_count": 3,
   "metadata": {
    "collapsed": true
   },
   "outputs": [],
   "source": [
    "df_ctr = df_click / (df_show + 0.01)"
   ]
  },
  {
   "cell_type": "code",
   "execution_count": 4,
   "metadata": {
    "collapsed": false
   },
   "outputs": [
    {
     "data": {
      "text/plain": [
       "0.0022219420518531678"
      ]
     },
     "execution_count": 4,
     "metadata": {},
     "output_type": "execute_result"
    }
   ],
   "source": [
    "rate = float(df_click.sum().sum()) / df_show.sum().sum()\n",
    "rate"
   ]
  },
  {
   "cell_type": "code",
   "execution_count": 5,
   "metadata": {
    "collapsed": false
   },
   "outputs": [],
   "source": [
    "df_ctr_lo = np.log2(df_ctr/rate + 0.01)"
   ]
  },
  {
   "cell_type": "code",
   "execution_count": 60,
   "metadata": {
    "collapsed": false,
    "scrolled": true
   },
   "outputs": [
    {
     "data": {
      "text/html": [
       "<div style=\"max-height:1000px;max-width:1500px;overflow:auto;\">\n",
       "<table border=\"1\" class=\"dataframe\">\n",
       "  <thead>\n",
       "    <tr style=\"text-align: right;\">\n",
       "      <th></th>\n",
       "      <th>31</th>\n",
       "      <th>49</th>\n",
       "      <th>50</th>\n",
       "      <th>51</th>\n",
       "      <th>52</th>\n",
       "      <th>53</th>\n",
       "      <th>54</th>\n",
       "      <th>55</th>\n",
       "      <th>56</th>\n",
       "      <th>67</th>\n",
       "      <th>68</th>\n",
       "      <th>71</th>\n",
       "      <th>72</th>\n",
       "      <th>87</th>\n",
       "      <th>89</th>\n",
       "      <th>90</th>\n",
       "      <th>91</th>\n",
       "      <th>92</th>\n",
       "      <th>93</th>\n",
       "      <th>94</th>\n",
       "      <th>95</th>\n",
       "      <th>99</th>\n",
       "      <th>108</th>\n",
       "      <th>113</th>\n",
       "      <th>115</th>\n",
       "      <th>116</th>\n",
       "      <th>117</th>\n",
       "      <th>119</th>\n",
       "      <th>120</th>\n",
       "      <th>121</th>\n",
       "      <th></th>\n",
       "    </tr>\n",
       "  </thead>\n",
       "  <tbody>\n",
       "    <tr>\n",
       "      <th>156</th>\n",
       "      <td>-19.931569</td>\n",
       "      <td>  0.420131</td>\n",
       "      <td>-19.931569</td>\n",
       "      <td>  0.470188</td>\n",
       "      <td>  1.330108</td>\n",
       "      <td>-19.931569</td>\n",
       "      <td> -0.005631</td>\n",
       "      <td> -1.504587</td>\n",
       "      <td>  0.421604</td>\n",
       "      <td>  3.141255</td>\n",
       "      <td>-19.931569</td>\n",
       "      <td>-19.931569</td>\n",
       "      <td>-19.931569</td>\n",
       "      <td>  0.992541</td>\n",
       "      <td>  2.004760</td>\n",
       "      <td>  3.290088</td>\n",
       "      <td>-19.931569</td>\n",
       "      <td>  0.062387</td>\n",
       "      <td>  1.858324</td>\n",
       "      <td>  1.162840</td>\n",
       "      <td>-19.931569</td>\n",
       "      <td>-19.931569</td>\n",
       "      <td>  4.564449</td>\n",
       "      <td>  0.839521</td>\n",
       "      <td>  0.200887</td>\n",
       "      <td> -3.402011</td>\n",
       "      <td>  1.070041</td>\n",
       "      <td>  1.063076</td>\n",
       "      <td>-19.931569</td>\n",
       "      <td>  4.593262</td>\n",
       "      <td>...</td>\n",
       "    </tr>\n",
       "    <tr>\n",
       "      <th>157</th>\n",
       "      <td>-19.931569</td>\n",
       "      <td> -0.269832</td>\n",
       "      <td>  0.304836</td>\n",
       "      <td>  0.242751</td>\n",
       "      <td>-19.931569</td>\n",
       "      <td>  1.259349</td>\n",
       "      <td> -0.338457</td>\n",
       "      <td>  0.092854</td>\n",
       "      <td>  0.434542</td>\n",
       "      <td>-19.931569</td>\n",
       "      <td>  2.906832</td>\n",
       "      <td>-19.931569</td>\n",
       "      <td>-19.931569</td>\n",
       "      <td>  0.945371</td>\n",
       "      <td>  2.322101</td>\n",
       "      <td>-19.931569</td>\n",
       "      <td>-19.931569</td>\n",
       "      <td> -0.125644</td>\n",
       "      <td>  1.706610</td>\n",
       "      <td>-19.931569</td>\n",
       "      <td>-19.931569</td>\n",
       "      <td>-19.931569</td>\n",
       "      <td>  4.360001</td>\n",
       "      <td> -0.116802</td>\n",
       "      <td> -0.320466</td>\n",
       "      <td>-19.931569</td>\n",
       "      <td> -0.058870</td>\n",
       "      <td>  1.041801</td>\n",
       "      <td>-19.931569</td>\n",
       "      <td>  4.162776</td>\n",
       "      <td>...</td>\n",
       "    </tr>\n",
       "    <tr>\n",
       "      <th>158</th>\n",
       "      <td>-19.931569</td>\n",
       "      <td> -0.324052</td>\n",
       "      <td> -1.331978</td>\n",
       "      <td> -0.801273</td>\n",
       "      <td>  1.379294</td>\n",
       "      <td>  0.498792</td>\n",
       "      <td> -0.586460</td>\n",
       "      <td>  0.927645</td>\n",
       "      <td>-19.931569</td>\n",
       "      <td>  3.491674</td>\n",
       "      <td>  3.141255</td>\n",
       "      <td>-19.931569</td>\n",
       "      <td>-19.931569</td>\n",
       "      <td>  1.031585</td>\n",
       "      <td>  1.621438</td>\n",
       "      <td>-19.931569</td>\n",
       "      <td>-19.931569</td>\n",
       "      <td>  0.919116</td>\n",
       "      <td>  1.712963</td>\n",
       "      <td>-19.931569</td>\n",
       "      <td>-19.931569</td>\n",
       "      <td>-19.931569</td>\n",
       "      <td>  4.355073</td>\n",
       "      <td>  1.578715</td>\n",
       "      <td> -1.900281</td>\n",
       "      <td> -4.399112</td>\n",
       "      <td>  0.603287</td>\n",
       "      <td>  0.733133</td>\n",
       "      <td>-19.931569</td>\n",
       "      <td>  4.486959</td>\n",
       "      <td>...</td>\n",
       "    </tr>\n",
       "    <tr>\n",
       "      <th>169</th>\n",
       "      <td>-19.931569</td>\n",
       "      <td>-19.931569</td>\n",
       "      <td>-19.931569</td>\n",
       "      <td>-19.931569</td>\n",
       "      <td>-19.931569</td>\n",
       "      <td>-19.931569</td>\n",
       "      <td>  2.387531</td>\n",
       "      <td>-19.931569</td>\n",
       "      <td>-19.931569</td>\n",
       "      <td>-19.931569</td>\n",
       "      <td> -0.008614</td>\n",
       "      <td>-19.931569</td>\n",
       "      <td>-19.931569</td>\n",
       "      <td>-19.931569</td>\n",
       "      <td>-19.931569</td>\n",
       "      <td>-19.931569</td>\n",
       "      <td>-19.931569</td>\n",
       "      <td>-19.931569</td>\n",
       "      <td>-19.931569</td>\n",
       "      <td>-19.931569</td>\n",
       "      <td>-19.931569</td>\n",
       "      <td>-19.931569</td>\n",
       "      <td>-19.931569</td>\n",
       "      <td>-19.931569</td>\n",
       "      <td>-19.931569</td>\n",
       "      <td>-19.931569</td>\n",
       "      <td>-19.931569</td>\n",
       "      <td>-19.931569</td>\n",
       "      <td>-19.931569</td>\n",
       "      <td>-19.931569</td>\n",
       "      <td>...</td>\n",
       "    </tr>\n",
       "    <tr>\n",
       "      <th>170</th>\n",
       "      <td>-19.931569</td>\n",
       "      <td>-19.931569</td>\n",
       "      <td>-19.931569</td>\n",
       "      <td>-19.931569</td>\n",
       "      <td>-19.931569</td>\n",
       "      <td>-19.931569</td>\n",
       "      <td>-19.931569</td>\n",
       "      <td>-19.931569</td>\n",
       "      <td>-19.931569</td>\n",
       "      <td>-19.931569</td>\n",
       "      <td> -0.049455</td>\n",
       "      <td>-19.931569</td>\n",
       "      <td>-19.931569</td>\n",
       "      <td>-19.931569</td>\n",
       "      <td>-19.931569</td>\n",
       "      <td>-19.931569</td>\n",
       "      <td>-19.931569</td>\n",
       "      <td>-19.931569</td>\n",
       "      <td>-19.931569</td>\n",
       "      <td>-19.931569</td>\n",
       "      <td>-19.931569</td>\n",
       "      <td>-19.931569</td>\n",
       "      <td>-19.931569</td>\n",
       "      <td>-19.931569</td>\n",
       "      <td>-19.931569</td>\n",
       "      <td>-19.931569</td>\n",
       "      <td>-19.931569</td>\n",
       "      <td>-19.931569</td>\n",
       "      <td>-19.931569</td>\n",
       "      <td>-19.931569</td>\n",
       "      <td>...</td>\n",
       "    </tr>\n",
       "    <tr>\n",
       "      <th>171</th>\n",
       "      <td>-19.931569</td>\n",
       "      <td>-19.931569</td>\n",
       "      <td>-19.931569</td>\n",
       "      <td>-19.931569</td>\n",
       "      <td>-19.931569</td>\n",
       "      <td>-19.931569</td>\n",
       "      <td>  2.127323</td>\n",
       "      <td>-19.931569</td>\n",
       "      <td>-19.931569</td>\n",
       "      <td>-19.931569</td>\n",
       "      <td>  0.425222</td>\n",
       "      <td>-19.931569</td>\n",
       "      <td>-19.931569</td>\n",
       "      <td>-19.931569</td>\n",
       "      <td>-19.931569</td>\n",
       "      <td>-19.931569</td>\n",
       "      <td>-19.931569</td>\n",
       "      <td>-19.931569</td>\n",
       "      <td>-19.931569</td>\n",
       "      <td>-19.931569</td>\n",
       "      <td>-19.931569</td>\n",
       "      <td>-19.931569</td>\n",
       "      <td>-19.931569</td>\n",
       "      <td>-19.931569</td>\n",
       "      <td>-19.931569</td>\n",
       "      <td>-19.931569</td>\n",
       "      <td>-19.931569</td>\n",
       "      <td>-19.931569</td>\n",
       "      <td>-19.931569</td>\n",
       "      <td>-19.931569</td>\n",
       "      <td>...</td>\n",
       "    </tr>\n",
       "    <tr>\n",
       "      <th>175</th>\n",
       "      <td>-19.931569</td>\n",
       "      <td>-19.931569</td>\n",
       "      <td>-19.931569</td>\n",
       "      <td>-19.931569</td>\n",
       "      <td>-19.931569</td>\n",
       "      <td>-19.931569</td>\n",
       "      <td>-19.931569</td>\n",
       "      <td>-19.931569</td>\n",
       "      <td>-19.931569</td>\n",
       "      <td>-19.931569</td>\n",
       "      <td>-19.931569</td>\n",
       "      <td>-19.931569</td>\n",
       "      <td>-19.931569</td>\n",
       "      <td>-19.931569</td>\n",
       "      <td>-19.931569</td>\n",
       "      <td>-19.931569</td>\n",
       "      <td>-19.931569</td>\n",
       "      <td>-19.931569</td>\n",
       "      <td>-19.931569</td>\n",
       "      <td> 15.457819</td>\n",
       "      <td>-19.931569</td>\n",
       "      <td>-19.931569</td>\n",
       "      <td>-19.931569</td>\n",
       "      <td>-19.931569</td>\n",
       "      <td>-19.931569</td>\n",
       "      <td>-19.931569</td>\n",
       "      <td>-19.931569</td>\n",
       "      <td>-19.931569</td>\n",
       "      <td>-19.931569</td>\n",
       "      <td>-19.931569</td>\n",
       "      <td>...</td>\n",
       "    </tr>\n",
       "    <tr>\n",
       "      <th>190</th>\n",
       "      <td>-19.931569</td>\n",
       "      <td>-19.931569</td>\n",
       "      <td>-19.931569</td>\n",
       "      <td>-19.931569</td>\n",
       "      <td>-19.931569</td>\n",
       "      <td>-19.931569</td>\n",
       "      <td>-19.931569</td>\n",
       "      <td>-19.931569</td>\n",
       "      <td>-19.931569</td>\n",
       "      <td>  1.028831</td>\n",
       "      <td>-19.931569</td>\n",
       "      <td>-19.931569</td>\n",
       "      <td>-19.931569</td>\n",
       "      <td>-19.931569</td>\n",
       "      <td>-19.931569</td>\n",
       "      <td>-19.931569</td>\n",
       "      <td>-19.931569</td>\n",
       "      <td>-19.931569</td>\n",
       "      <td>  1.379252</td>\n",
       "      <td>-19.931569</td>\n",
       "      <td>-19.931569</td>\n",
       "      <td>-19.931569</td>\n",
       "      <td>-19.931569</td>\n",
       "      <td>-19.931569</td>\n",
       "      <td>-19.931569</td>\n",
       "      <td>-19.931569</td>\n",
       "      <td>-19.931569</td>\n",
       "      <td>-19.931569</td>\n",
       "      <td>-19.931569</td>\n",
       "      <td>-19.931569</td>\n",
       "      <td>...</td>\n",
       "    </tr>\n",
       "    <tr>\n",
       "      <th>191</th>\n",
       "      <td>-19.931569</td>\n",
       "      <td>-19.931569</td>\n",
       "      <td>-19.931569</td>\n",
       "      <td>-19.931569</td>\n",
       "      <td>-19.931569</td>\n",
       "      <td>-19.931569</td>\n",
       "      <td>-19.931569</td>\n",
       "      <td>-19.931569</td>\n",
       "      <td>-19.931569</td>\n",
       "      <td>  0.914802</td>\n",
       "      <td>-19.931569</td>\n",
       "      <td>-19.931569</td>\n",
       "      <td>-19.931569</td>\n",
       "      <td>-19.931569</td>\n",
       "      <td>-19.931569</td>\n",
       "      <td>-19.931569</td>\n",
       "      <td>-19.931569</td>\n",
       "      <td>-19.931569</td>\n",
       "      <td>  3.259298</td>\n",
       "      <td>-19.931569</td>\n",
       "      <td>-19.931569</td>\n",
       "      <td>-19.931569</td>\n",
       "      <td>-19.931569</td>\n",
       "      <td>-19.931569</td>\n",
       "      <td>-19.931569</td>\n",
       "      <td>-19.931569</td>\n",
       "      <td>-19.931569</td>\n",
       "      <td>-19.931569</td>\n",
       "      <td>-19.931569</td>\n",
       "      <td>-19.931569</td>\n",
       "      <td>...</td>\n",
       "    </tr>\n",
       "    <tr>\n",
       "      <th>192</th>\n",
       "      <td>-19.931569</td>\n",
       "      <td>-19.931569</td>\n",
       "      <td>-19.931569</td>\n",
       "      <td>-19.931569</td>\n",
       "      <td>-19.931569</td>\n",
       "      <td>-19.931569</td>\n",
       "      <td>-19.931569</td>\n",
       "      <td>-19.931569</td>\n",
       "      <td>-19.931569</td>\n",
       "      <td>  1.085334</td>\n",
       "      <td>-19.931569</td>\n",
       "      <td>-19.931569</td>\n",
       "      <td>-19.931569</td>\n",
       "      <td>-19.931569</td>\n",
       "      <td>-19.931569</td>\n",
       "      <td>-19.931569</td>\n",
       "      <td>-19.931569</td>\n",
       "      <td>-19.931569</td>\n",
       "      <td>-19.931569</td>\n",
       "      <td>-19.931569</td>\n",
       "      <td>-19.931569</td>\n",
       "      <td>-19.931569</td>\n",
       "      <td>-19.931569</td>\n",
       "      <td>-19.931569</td>\n",
       "      <td>-19.931569</td>\n",
       "      <td>-19.931569</td>\n",
       "      <td>-19.931569</td>\n",
       "      <td>-19.931569</td>\n",
       "      <td>-19.931569</td>\n",
       "      <td>-19.931569</td>\n",
       "      <td>...</td>\n",
       "    </tr>\n",
       "    <tr>\n",
       "      <th></th>\n",
       "      <td>...</td>\n",
       "      <td>...</td>\n",
       "      <td>...</td>\n",
       "      <td>...</td>\n",
       "      <td>...</td>\n",
       "      <td>...</td>\n",
       "      <td>...</td>\n",
       "      <td>...</td>\n",
       "      <td>...</td>\n",
       "      <td>...</td>\n",
       "      <td>...</td>\n",
       "      <td>...</td>\n",
       "      <td>...</td>\n",
       "      <td>...</td>\n",
       "      <td>...</td>\n",
       "      <td>...</td>\n",
       "      <td>...</td>\n",
       "      <td>...</td>\n",
       "      <td>...</td>\n",
       "      <td>...</td>\n",
       "      <td>...</td>\n",
       "      <td>...</td>\n",
       "      <td>...</td>\n",
       "      <td>...</td>\n",
       "      <td>...</td>\n",
       "      <td>...</td>\n",
       "      <td>...</td>\n",
       "      <td>...</td>\n",
       "      <td>...</td>\n",
       "      <td>...</td>\n",
       "    </tr>\n",
       "  </tbody>\n",
       "</table>\n",
       "<p>126 rows × 43 columns</p>\n",
       "</div>"
      ],
      "text/plain": [
       "           31         49         50         51         52         53   \\\n",
       "156 -19.931569   0.420131 -19.931569   0.470188   1.330108 -19.931569   \n",
       "157 -19.931569  -0.269832   0.304836   0.242751 -19.931569   1.259349   \n",
       "158 -19.931569  -0.324052  -1.331978  -0.801273   1.379294   0.498792   \n",
       "169 -19.931569 -19.931569 -19.931569 -19.931569 -19.931569 -19.931569   \n",
       "170 -19.931569 -19.931569 -19.931569 -19.931569 -19.931569 -19.931569   \n",
       "171 -19.931569 -19.931569 -19.931569 -19.931569 -19.931569 -19.931569   \n",
       "175 -19.931569 -19.931569 -19.931569 -19.931569 -19.931569 -19.931569   \n",
       "190 -19.931569 -19.931569 -19.931569 -19.931569 -19.931569 -19.931569   \n",
       "191 -19.931569 -19.931569 -19.931569 -19.931569 -19.931569 -19.931569   \n",
       "192 -19.931569 -19.931569 -19.931569 -19.931569 -19.931569 -19.931569   \n",
       "           ...        ...        ...        ...        ...        ...   \n",
       "\n",
       "           54         55         56         67         68         71   \\\n",
       "156  -0.005631  -1.504587   0.421604   3.141255 -19.931569 -19.931569   \n",
       "157  -0.338457   0.092854   0.434542 -19.931569   2.906832 -19.931569   \n",
       "158  -0.586460   0.927645 -19.931569   3.491674   3.141255 -19.931569   \n",
       "169   2.387531 -19.931569 -19.931569 -19.931569  -0.008614 -19.931569   \n",
       "170 -19.931569 -19.931569 -19.931569 -19.931569  -0.049455 -19.931569   \n",
       "171   2.127323 -19.931569 -19.931569 -19.931569   0.425222 -19.931569   \n",
       "175 -19.931569 -19.931569 -19.931569 -19.931569 -19.931569 -19.931569   \n",
       "190 -19.931569 -19.931569 -19.931569   1.028831 -19.931569 -19.931569   \n",
       "191 -19.931569 -19.931569 -19.931569   0.914802 -19.931569 -19.931569   \n",
       "192 -19.931569 -19.931569 -19.931569   1.085334 -19.931569 -19.931569   \n",
       "           ...        ...        ...        ...        ...        ...   \n",
       "\n",
       "           72         87         89         90         91         92   \\\n",
       "156 -19.931569   0.992541   2.004760   3.290088 -19.931569   0.062387   \n",
       "157 -19.931569   0.945371   2.322101 -19.931569 -19.931569  -0.125644   \n",
       "158 -19.931569   1.031585   1.621438 -19.931569 -19.931569   0.919116   \n",
       "169 -19.931569 -19.931569 -19.931569 -19.931569 -19.931569 -19.931569   \n",
       "170 -19.931569 -19.931569 -19.931569 -19.931569 -19.931569 -19.931569   \n",
       "171 -19.931569 -19.931569 -19.931569 -19.931569 -19.931569 -19.931569   \n",
       "175 -19.931569 -19.931569 -19.931569 -19.931569 -19.931569 -19.931569   \n",
       "190 -19.931569 -19.931569 -19.931569 -19.931569 -19.931569 -19.931569   \n",
       "191 -19.931569 -19.931569 -19.931569 -19.931569 -19.931569 -19.931569   \n",
       "192 -19.931569 -19.931569 -19.931569 -19.931569 -19.931569 -19.931569   \n",
       "           ...        ...        ...        ...        ...        ...   \n",
       "\n",
       "           93         94         95         99         108        113  \\\n",
       "156   1.858324   1.162840 -19.931569 -19.931569   4.564449   0.839521   \n",
       "157   1.706610 -19.931569 -19.931569 -19.931569   4.360001  -0.116802   \n",
       "158   1.712963 -19.931569 -19.931569 -19.931569   4.355073   1.578715   \n",
       "169 -19.931569 -19.931569 -19.931569 -19.931569 -19.931569 -19.931569   \n",
       "170 -19.931569 -19.931569 -19.931569 -19.931569 -19.931569 -19.931569   \n",
       "171 -19.931569 -19.931569 -19.931569 -19.931569 -19.931569 -19.931569   \n",
       "175 -19.931569  15.457819 -19.931569 -19.931569 -19.931569 -19.931569   \n",
       "190   1.379252 -19.931569 -19.931569 -19.931569 -19.931569 -19.931569   \n",
       "191   3.259298 -19.931569 -19.931569 -19.931569 -19.931569 -19.931569   \n",
       "192 -19.931569 -19.931569 -19.931569 -19.931569 -19.931569 -19.931569   \n",
       "           ...        ...        ...        ...        ...        ...   \n",
       "\n",
       "           115        116        117        119        120        121      \n",
       "156   0.200887  -3.402011   1.070041   1.063076 -19.931569   4.593262 ...  \n",
       "157  -0.320466 -19.931569  -0.058870   1.041801 -19.931569   4.162776 ...  \n",
       "158  -1.900281  -4.399112   0.603287   0.733133 -19.931569   4.486959 ...  \n",
       "169 -19.931569 -19.931569 -19.931569 -19.931569 -19.931569 -19.931569 ...  \n",
       "170 -19.931569 -19.931569 -19.931569 -19.931569 -19.931569 -19.931569 ...  \n",
       "171 -19.931569 -19.931569 -19.931569 -19.931569 -19.931569 -19.931569 ...  \n",
       "175 -19.931569 -19.931569 -19.931569 -19.931569 -19.931569 -19.931569 ...  \n",
       "190 -19.931569 -19.931569 -19.931569 -19.931569 -19.931569 -19.931569 ...  \n",
       "191 -19.931569 -19.931569 -19.931569 -19.931569 -19.931569 -19.931569 ...  \n",
       "192 -19.931569 -19.931569 -19.931569 -19.931569 -19.931569 -19.931569 ...  \n",
       "           ...        ...        ...        ...        ...        ...      \n",
       "\n",
       "[126 rows x 43 columns]"
      ]
     },
     "execution_count": 60,
     "metadata": {},
     "output_type": "execute_result"
    }
   ],
   "source": [
    "df_ctr_lo"
   ]
  },
  {
   "cell_type": "code",
   "execution_count": 66,
   "metadata": {
    "collapsed": false
   },
   "outputs": [
    {
     "data": {
      "text/plain": [
       "0"
      ]
     },
     "execution_count": 66,
     "metadata": {},
     "output_type": "execute_result"
    }
   ],
   "source": [
    "df_show.loc[203,93]"
   ]
  },
  {
   "cell_type": "code",
   "execution_count": 57,
   "metadata": {
    "collapsed": false
   },
   "outputs": [
    {
     "data": {
      "text/plain": [
       "0.015267175572519083"
      ]
     },
     "execution_count": 57,
     "metadata": {},
     "output_type": "execute_result"
    }
   ],
   "source": [
    "float(df_click.loc[289,67]) / df_show.loc[289,67]"
   ]
  },
  {
   "cell_type": "code",
   "execution_count": 28,
   "metadata": {
    "collapsed": false
   },
   "outputs": [
    {
     "data": {
      "text/plain": [
       "<matplotlib.axes._subplots.AxesSubplot at 0x7faf20ba0450>"
      ]
     },
     "execution_count": 28,
     "metadata": {},
     "output_type": "execute_result"
    },
    {
     "data": {
      "image/png": "[encoded data removed]",
      "text/plain": [
       "<matplotlib.figure.Figure at 0x7faf20b59850>"
      ]
     },
     "metadata": {},
     "output_type": "display_data"
    }
   ],
   "source": [
    "sns.set(context=\"paper\", font=\"monospace\")\n",
    "f, ax = plt.subplots(figsize=(20, 20))\n",
    "mask = df_show.apply(lambda x: x == 0)\n",
    "sns.heatmap(df_ctr_lo, mask=mask)"
   ]
  },
  {
   "cell_type": "code",
   "execution_count": 67,
   "metadata": {
    "collapsed": false
   },
   "outputs": [
    {
     "data": {
      "text/plain": [
       "<seaborn.matrix.ClusterGrid at 0x7faf0f1f0050>"
      ]
     },
     "execution_count": 67,
     "metadata": {},
     "output_type": "execute_result"
    },
    {
     "data": {
      "image/png": "[encoded data removed]",
      "text/plain": [
       "<matplotlib.figure.Figure at 0x7faf0f1f0090>"
      ]
     },
     "metadata": {},
     "output_type": "display_data"
    }
   ],
   "source": [
    "sns.clustermap(df_ctr_lo, figsize=(15, 25), mask=mask)"
   ]
  },
  {
   "cell_type": "code",
   "execution_count": 41,
   "metadata": {
    "collapsed": false
   },
   "outputs": [
    {
     "data": {
      "text/plain": [
       "<seaborn.matrix.ClusterGrid at 0x7faf117a4a90>"
      ]
     },
     "execution_count": 41,
     "metadata": {},
     "output_type": "execute_result"
    },
    {
     "data": {
      "image/png": "[encoded data removed]",
      "text/plain": [
       "<matplotlib.figure.Figure at 0x7faf11cd3b10>"
      ]
     },
     "metadata": {},
     "output_type": "display_data"
    }
   ],
   "source": [
    "sns.clustermap(df_ctr_lo.T, figsize=(20, 10))"
   ]
  },
  {
   "cell_type": "markdown",
   "metadata": {},
   "source": [
    "Not sure how to mask the clustered map, going to do it manually..."
   ]
  },
  {
   "cell_type": "code",
   "execution_count": 42,
   "metadata": {
    "collapsed": true
   },
   "outputs": [],
   "source": [
    "columns_c = [50,56,53,51,52,55,120,141,145,31,133,134,95,140,116,\n",
    "             137,142,132,139,91,125,131,71,72,108,49,113,115,90,117,\n",
    "             119,122,54,121,130,68,99,87,93,92,94,67,89]\n",
    "index_c = [254,259,261,274,312,313,170,213,215,335,337,169,171,262,263,\n",
    "           231,298,273,276,311,190,191,248,256,239,310,216,218,249,332,\n",
    "           290,285,289,288,287,192,217,286,342,349,236,284,242,243,237,\n",
    "           240,267,296,268,269,266,226,270,292,214,294,314,250,258,275,\n",
    "           318,293,300,257,306,245,272,225,227,315,328,307,301,308,297,\n",
    "           327,334,343,333,336,330,331,338,246,346,329,353,232,324,241,\n",
    "           340,221,265,271,238,305,295,303,278,319,339,350,341,304,302,\n",
    "           344,229,228,230,175,205,204,282,281,283,299,309,264,277,203,\n",
    "           279,156,157,158,220,222]"
   ]
  },
  {
   "cell_type": "code",
   "execution_count": 47,
   "metadata": {
    "collapsed": false
   },
   "outputs": [],
   "source": [
    "df_show_c = pd.DataFrame(index=index_c, columns=columns_c)\n",
    "df_show_c = df_show_c.fillna(0)\n",
    "for col in columns_c:\n",
    "    for ind in index_c:\n",
    "        df_show_c.loc[ind,col] = df_show.loc[ind,col]"
   ]
  },
  {
   "cell_type": "code",
   "execution_count": 48,
   "metadata": {
    "collapsed": false
   },
   "outputs": [
    {
     "data": {
      "text/plain": [
       "<seaborn.matrix.ClusterGrid at 0x7faf10eb7a50>"
      ]
     },
     "execution_count": 48,
     "metadata": {},
     "output_type": "execute_result"
    },
    {
     "data": {
      "image/png": "[encoded data removed]",
      "text/plain": [
       "<matplotlib.figure.Figure at 0x7faf10eb74d0>"
      ]
     },
     "metadata": {},
     "output_type": "display_data"
    }
   ],
   "source": [
    "mask = df_show_c.apply(lambda x: x == 0)\n",
    "sns.clustermap(df_ctr_lo.T, figsize=(20, 10), mask=mask.T)"
   ]
  },
  {
   "cell_type": "markdown",
   "metadata": {},
   "source": [
    "Correct the margin numbers"
   ]
  },
  {
   "cell_type": "code",
   "execution_count": 51,
   "metadata": {
    "collapsed": false
   },
   "outputs": [
    {
     "data": {
      "text/plain": [
       "-6.6438561897747244"
      ]
     },
     "execution_count": 51,
     "metadata": {},
     "output_type": "execute_result"
    }
   ],
   "source": [
    "df_ctr_lo.min().min()"
   ]
  },
  {
   "cell_type": "code",
   "execution_count": 64,
   "metadata": {
    "collapsed": false
   },
   "outputs": [
    {
     "data": {
      "text/plain": [
       "17.042781890213675"
      ]
     },
     "execution_count": 64,
     "metadata": {},
     "output_type": "execute_result"
    }
   ],
   "source": [
    "df_ctr_lo.max().max()"
   ]
  },
  {
   "cell_type": "code",
   "execution_count": 68,
   "metadata": {
    "collapsed": false
   },
   "outputs": [
    {
     "data": {
      "text/plain": [
       "0.0"
      ]
     },
     "execution_count": 68,
     "metadata": {},
     "output_type": "execute_result"
    }
   ],
   "source": [
    "df_ctr.min().min()"
   ]
  },
  {
   "cell_type": "code",
   "execution_count": 71,
   "metadata": {
    "collapsed": false
   },
   "outputs": [
    {
     "data": {
      "text/plain": [
       "300.0"
      ]
     },
     "execution_count": 71,
     "metadata": {},
     "output_type": "execute_result"
    }
   ],
   "source": [
    "df_ctr.max().max()"
   ]
  },
  {
   "cell_type": "code",
   "execution_count": 72,
   "metadata": {
    "collapsed": false
   },
   "outputs": [
    {
     "data": {
      "text/plain": [
       "450.056741653532"
      ]
     },
     "execution_count": 72,
     "metadata": {},
     "output_type": "execute_result"
    }
   ],
   "source": [
    "1/rate"
   ]
  },
  {
   "cell_type": "code",
   "execution_count": 76,
   "metadata": {
    "collapsed": false
   },
   "outputs": [
    {
     "data": {
      "text/plain": [
       "0"
      ]
     },
     "execution_count": 76,
     "metadata": {},
     "output_type": "execute_result"
    }
   ],
   "source": [
    "min(0,1)"
   ]
  },
  {
   "cell_type": "code",
   "execution_count": 6,
   "metadata": {
    "collapsed": false
   },
   "outputs": [],
   "source": [
    "df_ctr2 = df_ctr.applymap(lambda x: min(x, 1))"
   ]
  },
  {
   "cell_type": "code",
   "execution_count": 81,
   "metadata": {
    "collapsed": false
   },
   "outputs": [
    {
     "data": {
      "text/plain": [
       "1.0"
      ]
     },
     "execution_count": 81,
     "metadata": {},
     "output_type": "execute_result"
    }
   ],
   "source": [
    "df_ctr2.max().max()"
   ]
  },
  {
   "cell_type": "code",
   "execution_count": 7,
   "metadata": {
    "collapsed": true
   },
   "outputs": [],
   "source": [
    "df_ctr_lo2 = np.log2(df_ctr2/rate + 0.000001)"
   ]
  },
  {
   "cell_type": "code",
   "execution_count": 86,
   "metadata": {
    "collapsed": false
   },
   "outputs": [
    {
     "data": {
      "text/plain": [
       "-19.931568569324174"
      ]
     },
     "execution_count": 86,
     "metadata": {},
     "output_type": "execute_result"
    }
   ],
   "source": [
    "df_ctr_lo2.min().min()"
   ]
  },
  {
   "cell_type": "code",
   "execution_count": 89,
   "metadata": {
    "collapsed": false
   },
   "outputs": [
    {
     "data": {
      "text/plain": [
       "8.8139630960705571"
      ]
     },
     "execution_count": 89,
     "metadata": {},
     "output_type": "execute_result"
    }
   ],
   "source": [
    "df_ctr_lo2.max().max()"
   ]
  },
  {
   "cell_type": "code",
   "execution_count": 8,
   "metadata": {
    "collapsed": true
   },
   "outputs": [],
   "source": [
    "df_ctr_lo2 = df_ctr_lo2.applymap(lambda x: max(x, -9))"
   ]
  },
  {
   "cell_type": "code",
   "execution_count": 92,
   "metadata": {
    "collapsed": true
   },
   "outputs": [],
   "source": [
    "index_c2 = [254,259,261,274,312,313,170,213,215,335,337,169,171,262,263,\n",
    "           231,298,273,276,311,190,191,248,256,239,310,216,218,249,332,\n",
    "           290,285,289,288,287,192,217,286,236,284,242,237,\n",
    "           240,267,296,268,269,266,226,270,214,294,314,\n",
    "           300,257,306,\n",
    "           292,258,275,293,318,\n",
    "           245,272,328,307,301,308,\n",
    "           315,225,227,342,\n",
    "           327,\n",
    "           349,297,250,\n",
    "           334,331,338,\n",
    "           343,333,336,\n",
    "           246,205,\n",
    "           324,353,175,329,265,271,238,295,303,305,278,319,339,350,340,241,243,\n",
    "           230,228,232,299,309,264,277,330,203,346,221,\n",
    "           279,282,281,283,156,157,158,229,220,222,\n",
    "           341,204,304,302,344]\n",
    "columns_c2 = [50,53,56,51,52,55,91,125,131,145,31,133,134,95,140,\n",
    "             142,137,141,120,116,132,139,99,71,72,49,130,108,121,\n",
    "             115,90,113,122,117,119,54,68,92,94,87,93,67,89]"
   ]
  },
  {
   "cell_type": "code",
   "execution_count": 93,
   "metadata": {
    "collapsed": true
   },
   "outputs": [],
   "source": [
    "df_show_c2 = pd.DataFrame(index=index_c2, columns=columns_c2)\n",
    "df_show_c2 = df_show_c2.fillna(0)\n",
    "for col in columns_c2:\n",
    "    for ind in index_c2:\n",
    "        df_show_c2.loc[ind,col] = df_show.loc[ind,col]"
   ]
  },
  {
   "cell_type": "code",
   "execution_count": 95,
   "metadata": {
    "collapsed": true
   },
   "outputs": [],
   "source": [
    "mask2 = df_show_c2.applymap(lambda x: x == 0)"
   ]
  },
  {
   "cell_type": "code",
   "execution_count": 96,
   "metadata": {
    "collapsed": false
   },
   "outputs": [
    {
     "data": {
      "text/plain": [
       "<seaborn.matrix.ClusterGrid at 0x7faf0cbc0710>"
      ]
     },
     "execution_count": 96,
     "metadata": {},
     "output_type": "execute_result"
    },
    {
     "data": {
      "image/png": "[encoded data removed]",
      "text/plain": [
       "<matplotlib.figure.Figure at 0x7faf0cbc0b10>"
      ]
     },
     "metadata": {},
     "output_type": "display_data"
    }
   ],
   "source": [
    "sns.clustermap(df_ctr_lo2, figsize=(15, 25), mask=mask2)"
   ]
  },
  {
   "cell_type": "code",
   "execution_count": 101,
   "metadata": {
    "collapsed": false
   },
   "outputs": [
    {
     "data": {
      "text/plain": [
       "<seaborn.matrix.ClusterGrid at 0x7faf0acea350>"
      ]
     },
     "execution_count": 101,
     "metadata": {},
     "output_type": "execute_result"
    },
    {
     "data": {
      "image/png": "[encoded data removed]",
      "text/plain": [
       "<matplotlib.figure.Figure at 0x7faf0bfac5d0>"
      ]
     },
     "metadata": {},
     "output_type": "display_data"
    }
   ],
   "source": [
    "sns.clustermap(df_ctr_lo2.T, figsize=(28, 10), mask=mask2.T)"
   ]
  },
  {
   "cell_type": "code",
   "execution_count": 106,
   "metadata": {
    "collapsed": false
   },
   "outputs": [
    {
     "data": {
      "text/plain": [
       "35"
      ]
     },
     "execution_count": 106,
     "metadata": {},
     "output_type": "execute_result"
    }
   ],
   "source": [
    "df_show.loc[302,116]"
   ]
  },
  {
   "cell_type": "markdown",
   "metadata": {},
   "source": [
    "Also plot the number of impressions"
   ]
  },
  {
   "cell_type": "code",
   "execution_count": 114,
   "metadata": {
    "collapsed": false
   },
   "outputs": [
    {
     "data": {
      "text/plain": [
       "<matplotlib.axes._subplots.AxesSubplot at 0x7faf08a66cd0>"
      ]
     },
     "execution_count": 114,
     "metadata": {},
     "output_type": "execute_result"
    },
    {
     "data": {
      "image/png": "[encoded data removed]",
      "text/plain": [
       "<matplotlib.figure.Figure at 0x7faf08a8a610>"
      ]
     },
     "metadata": {},
     "output_type": "display_data"
    }
   ],
   "source": [
    "sns.set(context=\"paper\", font=\"monospace\")\n",
    "f, ax = plt.subplots(figsize=(28, 12))\n",
    "sns.heatmap(df_show_c2.applymap(lambda x: np.log10(x+1)).T, mask=mask2.T)"
   ]
  },
  {
   "cell_type": "code",
   "execution_count": 11,
   "metadata": {
    "collapsed": false
   },
   "outputs": [
    {
     "data": {
      "text/plain": [
       "(126, 43)"
      ]
     },
     "execution_count": 11,
     "metadata": {},
     "output_type": "execute_result"
    }
   ],
   "source": [
    "df_show.shape"
   ]
  },
  {
   "cell_type": "code",
   "execution_count": 9,
   "metadata": {
    "collapsed": false
   },
   "outputs": [
    {
     "data": {
      "text/html": [
       "<div style=\"max-height:1000px;max-width:1500px;overflow:auto;\">\n",
       "<table border=\"1\" class=\"dataframe\">\n",
       "  <thead>\n",
       "    <tr style=\"text-align: right;\">\n",
       "      <th></th>\n",
       "      <th>31</th>\n",
       "      <th>49</th>\n",
       "      <th>50</th>\n",
       "      <th>51</th>\n",
       "      <th>52</th>\n",
       "      <th>53</th>\n",
       "      <th>54</th>\n",
       "      <th>55</th>\n",
       "      <th>56</th>\n",
       "      <th>67</th>\n",
       "      <th>68</th>\n",
       "      <th>71</th>\n",
       "      <th>72</th>\n",
       "      <th>87</th>\n",
       "      <th>89</th>\n",
       "      <th>90</th>\n",
       "      <th>91</th>\n",
       "      <th>92</th>\n",
       "      <th>93</th>\n",
       "      <th>94</th>\n",
       "      <th>95</th>\n",
       "      <th>99</th>\n",
       "      <th>108</th>\n",
       "      <th>113</th>\n",
       "      <th>115</th>\n",
       "      <th>116</th>\n",
       "      <th>117</th>\n",
       "      <th>119</th>\n",
       "      <th>120</th>\n",
       "      <th>121</th>\n",
       "      <th></th>\n",
       "    </tr>\n",
       "  </thead>\n",
       "  <tbody>\n",
       "    <tr>\n",
       "      <th>156</th>\n",
       "      <td>-9</td>\n",
       "      <td> 0.420131</td>\n",
       "      <td>-9.000000</td>\n",
       "      <td> 0.470188</td>\n",
       "      <td> 1.330108</td>\n",
       "      <td>-9.000000</td>\n",
       "      <td>-0.005631</td>\n",
       "      <td>-1.504587</td>\n",
       "      <td> 0.421604</td>\n",
       "      <td> 3.141255</td>\n",
       "      <td>-9.000000</td>\n",
       "      <td>-9</td>\n",
       "      <td>-9</td>\n",
       "      <td> 0.992541</td>\n",
       "      <td> 2.004760</td>\n",
       "      <td> 3.290088</td>\n",
       "      <td>-9</td>\n",
       "      <td> 0.062387</td>\n",
       "      <td> 1.858324</td>\n",
       "      <td> 1.162840</td>\n",
       "      <td>-9</td>\n",
       "      <td>-9</td>\n",
       "      <td> 4.564449</td>\n",
       "      <td> 0.839521</td>\n",
       "      <td> 0.200887</td>\n",
       "      <td>-3.402011</td>\n",
       "      <td> 1.070041</td>\n",
       "      <td> 1.063076</td>\n",
       "      <td>-9</td>\n",
       "      <td> 4.593262</td>\n",
       "      <td>...</td>\n",
       "    </tr>\n",
       "    <tr>\n",
       "      <th>157</th>\n",
       "      <td>-9</td>\n",
       "      <td>-0.269832</td>\n",
       "      <td> 0.304836</td>\n",
       "      <td> 0.242751</td>\n",
       "      <td>-9.000000</td>\n",
       "      <td> 1.259349</td>\n",
       "      <td>-0.338457</td>\n",
       "      <td> 0.092854</td>\n",
       "      <td> 0.434542</td>\n",
       "      <td>-9.000000</td>\n",
       "      <td> 2.906832</td>\n",
       "      <td>-9</td>\n",
       "      <td>-9</td>\n",
       "      <td> 0.945371</td>\n",
       "      <td> 2.322101</td>\n",
       "      <td>-9.000000</td>\n",
       "      <td>-9</td>\n",
       "      <td>-0.125644</td>\n",
       "      <td> 1.706610</td>\n",
       "      <td>-9.000000</td>\n",
       "      <td>-9</td>\n",
       "      <td>-9</td>\n",
       "      <td> 4.360001</td>\n",
       "      <td>-0.116802</td>\n",
       "      <td>-0.320466</td>\n",
       "      <td>-9.000000</td>\n",
       "      <td>-0.058870</td>\n",
       "      <td> 1.041801</td>\n",
       "      <td>-9</td>\n",
       "      <td> 4.162776</td>\n",
       "      <td>...</td>\n",
       "    </tr>\n",
       "    <tr>\n",
       "      <th>158</th>\n",
       "      <td>-9</td>\n",
       "      <td>-0.324052</td>\n",
       "      <td>-1.331978</td>\n",
       "      <td>-0.801273</td>\n",
       "      <td> 1.379294</td>\n",
       "      <td> 0.498792</td>\n",
       "      <td>-0.586460</td>\n",
       "      <td> 0.927645</td>\n",
       "      <td>-9.000000</td>\n",
       "      <td> 3.491674</td>\n",
       "      <td> 3.141255</td>\n",
       "      <td>-9</td>\n",
       "      <td>-9</td>\n",
       "      <td> 1.031585</td>\n",
       "      <td> 1.621438</td>\n",
       "      <td>-9.000000</td>\n",
       "      <td>-9</td>\n",
       "      <td> 0.919116</td>\n",
       "      <td> 1.712963</td>\n",
       "      <td>-9.000000</td>\n",
       "      <td>-9</td>\n",
       "      <td>-9</td>\n",
       "      <td> 4.355073</td>\n",
       "      <td> 1.578715</td>\n",
       "      <td>-1.900281</td>\n",
       "      <td>-4.399112</td>\n",
       "      <td> 0.603287</td>\n",
       "      <td> 0.733133</td>\n",
       "      <td>-9</td>\n",
       "      <td> 4.486959</td>\n",
       "      <td>...</td>\n",
       "    </tr>\n",
       "    <tr>\n",
       "      <th>169</th>\n",
       "      <td>-9</td>\n",
       "      <td>-9.000000</td>\n",
       "      <td>-9.000000</td>\n",
       "      <td>-9.000000</td>\n",
       "      <td>-9.000000</td>\n",
       "      <td>-9.000000</td>\n",
       "      <td> 2.387531</td>\n",
       "      <td>-9.000000</td>\n",
       "      <td>-9.000000</td>\n",
       "      <td>-9.000000</td>\n",
       "      <td>-0.008614</td>\n",
       "      <td>-9</td>\n",
       "      <td>-9</td>\n",
       "      <td>-9.000000</td>\n",
       "      <td>-9.000000</td>\n",
       "      <td>-9.000000</td>\n",
       "      <td>-9</td>\n",
       "      <td>-9.000000</td>\n",
       "      <td>-9.000000</td>\n",
       "      <td>-9.000000</td>\n",
       "      <td>-9</td>\n",
       "      <td>-9</td>\n",
       "      <td>-9.000000</td>\n",
       "      <td>-9.000000</td>\n",
       "      <td>-9.000000</td>\n",
       "      <td>-9.000000</td>\n",
       "      <td>-9.000000</td>\n",
       "      <td>-9.000000</td>\n",
       "      <td>-9</td>\n",
       "      <td>-9.000000</td>\n",
       "      <td>...</td>\n",
       "    </tr>\n",
       "    <tr>\n",
       "      <th>170</th>\n",
       "      <td>-9</td>\n",
       "      <td>-9.000000</td>\n",
       "      <td>-9.000000</td>\n",
       "      <td>-9.000000</td>\n",
       "      <td>-9.000000</td>\n",
       "      <td>-9.000000</td>\n",
       "      <td>-9.000000</td>\n",
       "      <td>-9.000000</td>\n",
       "      <td>-9.000000</td>\n",
       "      <td>-9.000000</td>\n",
       "      <td>-0.049455</td>\n",
       "      <td>-9</td>\n",
       "      <td>-9</td>\n",
       "      <td>-9.000000</td>\n",
       "      <td>-9.000000</td>\n",
       "      <td>-9.000000</td>\n",
       "      <td>-9</td>\n",
       "      <td>-9.000000</td>\n",
       "      <td>-9.000000</td>\n",
       "      <td>-9.000000</td>\n",
       "      <td>-9</td>\n",
       "      <td>-9</td>\n",
       "      <td>-9.000000</td>\n",
       "      <td>-9.000000</td>\n",
       "      <td>-9.000000</td>\n",
       "      <td>-9.000000</td>\n",
       "      <td>-9.000000</td>\n",
       "      <td>-9.000000</td>\n",
       "      <td>-9</td>\n",
       "      <td>-9.000000</td>\n",
       "      <td>...</td>\n",
       "    </tr>\n",
       "    <tr>\n",
       "      <th>171</th>\n",
       "      <td>-9</td>\n",
       "      <td>-9.000000</td>\n",
       "      <td>-9.000000</td>\n",
       "      <td>-9.000000</td>\n",
       "      <td>-9.000000</td>\n",
       "      <td>-9.000000</td>\n",
       "      <td> 2.127323</td>\n",
       "      <td>-9.000000</td>\n",
       "      <td>-9.000000</td>\n",
       "      <td>-9.000000</td>\n",
       "      <td> 0.425222</td>\n",
       "      <td>-9</td>\n",
       "      <td>-9</td>\n",
       "      <td>-9.000000</td>\n",
       "      <td>-9.000000</td>\n",
       "      <td>-9.000000</td>\n",
       "      <td>-9</td>\n",
       "      <td>-9.000000</td>\n",
       "      <td>-9.000000</td>\n",
       "      <td>-9.000000</td>\n",
       "      <td>-9</td>\n",
       "      <td>-9</td>\n",
       "      <td>-9.000000</td>\n",
       "      <td>-9.000000</td>\n",
       "      <td>-9.000000</td>\n",
       "      <td>-9.000000</td>\n",
       "      <td>-9.000000</td>\n",
       "      <td>-9.000000</td>\n",
       "      <td>-9</td>\n",
       "      <td>-9.000000</td>\n",
       "      <td>...</td>\n",
       "    </tr>\n",
       "    <tr>\n",
       "      <th>175</th>\n",
       "      <td>-9</td>\n",
       "      <td>-9.000000</td>\n",
       "      <td>-9.000000</td>\n",
       "      <td>-9.000000</td>\n",
       "      <td>-9.000000</td>\n",
       "      <td>-9.000000</td>\n",
       "      <td>-9.000000</td>\n",
       "      <td>-9.000000</td>\n",
       "      <td>-9.000000</td>\n",
       "      <td>-9.000000</td>\n",
       "      <td>-9.000000</td>\n",
       "      <td>-9</td>\n",
       "      <td>-9</td>\n",
       "      <td>-9.000000</td>\n",
       "      <td>-9.000000</td>\n",
       "      <td>-9.000000</td>\n",
       "      <td>-9</td>\n",
       "      <td>-9.000000</td>\n",
       "      <td>-9.000000</td>\n",
       "      <td> 8.813963</td>\n",
       "      <td>-9</td>\n",
       "      <td>-9</td>\n",
       "      <td>-9.000000</td>\n",
       "      <td>-9.000000</td>\n",
       "      <td>-9.000000</td>\n",
       "      <td>-9.000000</td>\n",
       "      <td>-9.000000</td>\n",
       "      <td>-9.000000</td>\n",
       "      <td>-9</td>\n",
       "      <td>-9.000000</td>\n",
       "      <td>...</td>\n",
       "    </tr>\n",
       "    <tr>\n",
       "      <th>190</th>\n",
       "      <td>-9</td>\n",
       "      <td>-9.000000</td>\n",
       "      <td>-9.000000</td>\n",
       "      <td>-9.000000</td>\n",
       "      <td>-9.000000</td>\n",
       "      <td>-9.000000</td>\n",
       "      <td>-9.000000</td>\n",
       "      <td>-9.000000</td>\n",
       "      <td>-9.000000</td>\n",
       "      <td> 1.028831</td>\n",
       "      <td>-9.000000</td>\n",
       "      <td>-9</td>\n",
       "      <td>-9</td>\n",
       "      <td>-9.000000</td>\n",
       "      <td>-9.000000</td>\n",
       "      <td>-9.000000</td>\n",
       "      <td>-9</td>\n",
       "      <td>-9.000000</td>\n",
       "      <td> 1.379252</td>\n",
       "      <td>-9.000000</td>\n",
       "      <td>-9</td>\n",
       "      <td>-9</td>\n",
       "      <td>-9.000000</td>\n",
       "      <td>-9.000000</td>\n",
       "      <td>-9.000000</td>\n",
       "      <td>-9.000000</td>\n",
       "      <td>-9.000000</td>\n",
       "      <td>-9.000000</td>\n",
       "      <td>-9</td>\n",
       "      <td>-9.000000</td>\n",
       "      <td>...</td>\n",
       "    </tr>\n",
       "    <tr>\n",
       "      <th>191</th>\n",
       "      <td>-9</td>\n",
       "      <td>-9.000000</td>\n",
       "      <td>-9.000000</td>\n",
       "      <td>-9.000000</td>\n",
       "      <td>-9.000000</td>\n",
       "      <td>-9.000000</td>\n",
       "      <td>-9.000000</td>\n",
       "      <td>-9.000000</td>\n",
       "      <td>-9.000000</td>\n",
       "      <td> 0.914802</td>\n",
       "      <td>-9.000000</td>\n",
       "      <td>-9</td>\n",
       "      <td>-9</td>\n",
       "      <td>-9.000000</td>\n",
       "      <td>-9.000000</td>\n",
       "      <td>-9.000000</td>\n",
       "      <td>-9</td>\n",
       "      <td>-9.000000</td>\n",
       "      <td> 3.259298</td>\n",
       "      <td>-9.000000</td>\n",
       "      <td>-9</td>\n",
       "      <td>-9</td>\n",
       "      <td>-9.000000</td>\n",
       "      <td>-9.000000</td>\n",
       "      <td>-9.000000</td>\n",
       "      <td>-9.000000</td>\n",
       "      <td>-9.000000</td>\n",
       "      <td>-9.000000</td>\n",
       "      <td>-9</td>\n",
       "      <td>-9.000000</td>\n",
       "      <td>...</td>\n",
       "    </tr>\n",
       "    <tr>\n",
       "      <th>192</th>\n",
       "      <td>-9</td>\n",
       "      <td>-9.000000</td>\n",
       "      <td>-9.000000</td>\n",
       "      <td>-9.000000</td>\n",
       "      <td>-9.000000</td>\n",
       "      <td>-9.000000</td>\n",
       "      <td>-9.000000</td>\n",
       "      <td>-9.000000</td>\n",
       "      <td>-9.000000</td>\n",
       "      <td> 1.085334</td>\n",
       "      <td>-9.000000</td>\n",
       "      <td>-9</td>\n",
       "      <td>-9</td>\n",
       "      <td>-9.000000</td>\n",
       "      <td>-9.000000</td>\n",
       "      <td>-9.000000</td>\n",
       "      <td>-9</td>\n",
       "      <td>-9.000000</td>\n",
       "      <td>-9.000000</td>\n",
       "      <td>-9.000000</td>\n",
       "      <td>-9</td>\n",
       "      <td>-9</td>\n",
       "      <td>-9.000000</td>\n",
       "      <td>-9.000000</td>\n",
       "      <td>-9.000000</td>\n",
       "      <td>-9.000000</td>\n",
       "      <td>-9.000000</td>\n",
       "      <td>-9.000000</td>\n",
       "      <td>-9</td>\n",
       "      <td>-9.000000</td>\n",
       "      <td>...</td>\n",
       "    </tr>\n",
       "    <tr>\n",
       "      <th></th>\n",
       "      <td>...</td>\n",
       "      <td>...</td>\n",
       "      <td>...</td>\n",
       "      <td>...</td>\n",
       "      <td>...</td>\n",
       "      <td>...</td>\n",
       "      <td>...</td>\n",
       "      <td>...</td>\n",
       "      <td>...</td>\n",
       "      <td>...</td>\n",
       "      <td>...</td>\n",
       "      <td>...</td>\n",
       "      <td>...</td>\n",
       "      <td>...</td>\n",
       "      <td>...</td>\n",
       "      <td>...</td>\n",
       "      <td>...</td>\n",
       "      <td>...</td>\n",
       "      <td>...</td>\n",
       "      <td>...</td>\n",
       "      <td>...</td>\n",
       "      <td>...</td>\n",
       "      <td>...</td>\n",
       "      <td>...</td>\n",
       "      <td>...</td>\n",
       "      <td>...</td>\n",
       "      <td>...</td>\n",
       "      <td>...</td>\n",
       "      <td>...</td>\n",
       "      <td>...</td>\n",
       "    </tr>\n",
       "  </tbody>\n",
       "</table>\n",
       "<p>126 rows × 43 columns</p>\n",
       "</div>"
      ],
      "text/plain": [
       "     31        49        50        51        52        53        54        55  \\\n",
       "156  -9  0.420131 -9.000000  0.470188  1.330108 -9.000000 -0.005631 -1.504587   \n",
       "157  -9 -0.269832  0.304836  0.242751 -9.000000  1.259349 -0.338457  0.092854   \n",
       "158  -9 -0.324052 -1.331978 -0.801273  1.379294  0.498792 -0.586460  0.927645   \n",
       "169  -9 -9.000000 -9.000000 -9.000000 -9.000000 -9.000000  2.387531 -9.000000   \n",
       "170  -9 -9.000000 -9.000000 -9.000000 -9.000000 -9.000000 -9.000000 -9.000000   \n",
       "171  -9 -9.000000 -9.000000 -9.000000 -9.000000 -9.000000  2.127323 -9.000000   \n",
       "175  -9 -9.000000 -9.000000 -9.000000 -9.000000 -9.000000 -9.000000 -9.000000   \n",
       "190  -9 -9.000000 -9.000000 -9.000000 -9.000000 -9.000000 -9.000000 -9.000000   \n",
       "191  -9 -9.000000 -9.000000 -9.000000 -9.000000 -9.000000 -9.000000 -9.000000   \n",
       "192  -9 -9.000000 -9.000000 -9.000000 -9.000000 -9.000000 -9.000000 -9.000000   \n",
       "    ...       ...       ...       ...       ...       ...       ...       ...   \n",
       "\n",
       "           56        67        68  71  72        87        89        90  91  \\\n",
       "156  0.421604  3.141255 -9.000000  -9  -9  0.992541  2.004760  3.290088  -9   \n",
       "157  0.434542 -9.000000  2.906832  -9  -9  0.945371  2.322101 -9.000000  -9   \n",
       "158 -9.000000  3.491674  3.141255  -9  -9  1.031585  1.621438 -9.000000  -9   \n",
       "169 -9.000000 -9.000000 -0.008614  -9  -9 -9.000000 -9.000000 -9.000000  -9   \n",
       "170 -9.000000 -9.000000 -0.049455  -9  -9 -9.000000 -9.000000 -9.000000  -9   \n",
       "171 -9.000000 -9.000000  0.425222  -9  -9 -9.000000 -9.000000 -9.000000  -9   \n",
       "175 -9.000000 -9.000000 -9.000000  -9  -9 -9.000000 -9.000000 -9.000000  -9   \n",
       "190 -9.000000  1.028831 -9.000000  -9  -9 -9.000000 -9.000000 -9.000000  -9   \n",
       "191 -9.000000  0.914802 -9.000000  -9  -9 -9.000000 -9.000000 -9.000000  -9   \n",
       "192 -9.000000  1.085334 -9.000000  -9  -9 -9.000000 -9.000000 -9.000000  -9   \n",
       "          ...       ...       ... ... ...       ...       ...       ... ...   \n",
       "\n",
       "           92        93        94  95  99       108       113       115  \\\n",
       "156  0.062387  1.858324  1.162840  -9  -9  4.564449  0.839521  0.200887   \n",
       "157 -0.125644  1.706610 -9.000000  -9  -9  4.360001 -0.116802 -0.320466   \n",
       "158  0.919116  1.712963 -9.000000  -9  -9  4.355073  1.578715 -1.900281   \n",
       "169 -9.000000 -9.000000 -9.000000  -9  -9 -9.000000 -9.000000 -9.000000   \n",
       "170 -9.000000 -9.000000 -9.000000  -9  -9 -9.000000 -9.000000 -9.000000   \n",
       "171 -9.000000 -9.000000 -9.000000  -9  -9 -9.000000 -9.000000 -9.000000   \n",
       "175 -9.000000 -9.000000  8.813963  -9  -9 -9.000000 -9.000000 -9.000000   \n",
       "190 -9.000000  1.379252 -9.000000  -9  -9 -9.000000 -9.000000 -9.000000   \n",
       "191 -9.000000  3.259298 -9.000000  -9  -9 -9.000000 -9.000000 -9.000000   \n",
       "192 -9.000000 -9.000000 -9.000000  -9  -9 -9.000000 -9.000000 -9.000000   \n",
       "          ...       ...       ... ... ...       ...       ...       ...   \n",
       "\n",
       "          116       117       119  120       121      \n",
       "156 -3.402011  1.070041  1.063076   -9  4.593262 ...  \n",
       "157 -9.000000 -0.058870  1.041801   -9  4.162776 ...  \n",
       "158 -4.399112  0.603287  0.733133   -9  4.486959 ...  \n",
       "169 -9.000000 -9.000000 -9.000000   -9 -9.000000 ...  \n",
       "170 -9.000000 -9.000000 -9.000000   -9 -9.000000 ...  \n",
       "171 -9.000000 -9.000000 -9.000000   -9 -9.000000 ...  \n",
       "175 -9.000000 -9.000000 -9.000000   -9 -9.000000 ...  \n",
       "190 -9.000000 -9.000000 -9.000000   -9 -9.000000 ...  \n",
       "191 -9.000000 -9.000000 -9.000000   -9 -9.000000 ...  \n",
       "192 -9.000000 -9.000000 -9.000000   -9 -9.000000 ...  \n",
       "          ...       ...       ...  ...       ...      \n",
       "\n",
       "[126 rows x 43 columns]"
      ]
     },
     "execution_count": 9,
     "metadata": {},
     "output_type": "execute_result"
    }
   ],
   "source": [
    "df_ctr_lo2"
   ]
  },
  {
   "cell_type": "markdown",
   "metadata": {},
   "source": [
    "Prepare ads-app matrix with NaN filled in"
   ]
  },
  {
   "cell_type": "code",
   "execution_count": 12,
   "metadata": {
    "collapsed": false
   },
   "outputs": [
    {
     "data": {
      "text/html": [
       "<div style=\"max-height:1000px;max-width:1500px;overflow:auto;\">\n",
       "<table border=\"1\" class=\"dataframe\">\n",
       "  <thead>\n",
       "    <tr style=\"text-align: right;\">\n",
       "      <th></th>\n",
       "      <th>31</th>\n",
       "      <th>49</th>\n",
       "      <th>50</th>\n",
       "      <th>51</th>\n",
       "      <th>52</th>\n",
       "      <th>53</th>\n",
       "      <th>54</th>\n",
       "      <th>55</th>\n",
       "      <th>56</th>\n",
       "      <th>67</th>\n",
       "      <th>68</th>\n",
       "      <th>71</th>\n",
       "      <th>72</th>\n",
       "      <th>87</th>\n",
       "      <th>89</th>\n",
       "      <th>90</th>\n",
       "      <th>91</th>\n",
       "      <th>92</th>\n",
       "      <th>93</th>\n",
       "      <th>94</th>\n",
       "      <th>95</th>\n",
       "      <th>99</th>\n",
       "      <th>108</th>\n",
       "      <th>113</th>\n",
       "      <th>115</th>\n",
       "      <th>116</th>\n",
       "      <th>117</th>\n",
       "      <th>119</th>\n",
       "      <th>120</th>\n",
       "      <th>121</th>\n",
       "      <th></th>\n",
       "    </tr>\n",
       "  </thead>\n",
       "  <tbody>\n",
       "    <tr>\n",
       "      <th>156</th>\n",
       "      <td>NaN</td>\n",
       "      <td> 0.420131</td>\n",
       "      <td>-9.000000</td>\n",
       "      <td> 0.470188</td>\n",
       "      <td> 1.330108</td>\n",
       "      <td>-9.000000</td>\n",
       "      <td>-0.005631</td>\n",
       "      <td>-1.504587</td>\n",
       "      <td> 0.421604</td>\n",
       "      <td> 3.141255</td>\n",
       "      <td>-9.000000</td>\n",
       "      <td>NaN</td>\n",
       "      <td>NaN</td>\n",
       "      <td> 0.992541</td>\n",
       "      <td> 2.004760</td>\n",
       "      <td> 3.290088</td>\n",
       "      <td> -9</td>\n",
       "      <td> 0.062387</td>\n",
       "      <td> 1.858324</td>\n",
       "      <td> 1.16284</td>\n",
       "      <td>NaN</td>\n",
       "      <td>NaN</td>\n",
       "      <td> 4.564449</td>\n",
       "      <td> 0.839521</td>\n",
       "      <td> 0.200887</td>\n",
       "      <td>-3.402011</td>\n",
       "      <td> 1.070041</td>\n",
       "      <td> 1.063076</td>\n",
       "      <td>NaN</td>\n",
       "      <td> 4.593262</td>\n",
       "      <td>...</td>\n",
       "    </tr>\n",
       "    <tr>\n",
       "      <th>157</th>\n",
       "      <td>NaN</td>\n",
       "      <td>-0.269832</td>\n",
       "      <td> 0.304836</td>\n",
       "      <td> 0.242751</td>\n",
       "      <td>-9.000000</td>\n",
       "      <td> 1.259349</td>\n",
       "      <td>-0.338457</td>\n",
       "      <td> 0.092854</td>\n",
       "      <td> 0.434542</td>\n",
       "      <td>-9.000000</td>\n",
       "      <td> 2.906832</td>\n",
       "      <td>NaN</td>\n",
       "      <td>NaN</td>\n",
       "      <td> 0.945371</td>\n",
       "      <td> 2.322101</td>\n",
       "      <td>-9.000000</td>\n",
       "      <td> -9</td>\n",
       "      <td>-0.125644</td>\n",
       "      <td> 1.706610</td>\n",
       "      <td>-9.00000</td>\n",
       "      <td>NaN</td>\n",
       "      <td>NaN</td>\n",
       "      <td> 4.360001</td>\n",
       "      <td>-0.116802</td>\n",
       "      <td>-0.320466</td>\n",
       "      <td>-9.000000</td>\n",
       "      <td>-0.058870</td>\n",
       "      <td> 1.041801</td>\n",
       "      <td> -9</td>\n",
       "      <td> 4.162776</td>\n",
       "      <td>...</td>\n",
       "    </tr>\n",
       "    <tr>\n",
       "      <th>158</th>\n",
       "      <td>NaN</td>\n",
       "      <td>-0.324052</td>\n",
       "      <td>-1.331978</td>\n",
       "      <td>-0.801273</td>\n",
       "      <td> 1.379294</td>\n",
       "      <td> 0.498792</td>\n",
       "      <td>-0.586460</td>\n",
       "      <td> 0.927645</td>\n",
       "      <td>-9.000000</td>\n",
       "      <td> 3.491674</td>\n",
       "      <td> 3.141255</td>\n",
       "      <td>NaN</td>\n",
       "      <td> -9</td>\n",
       "      <td> 1.031585</td>\n",
       "      <td> 1.621438</td>\n",
       "      <td>-9.000000</td>\n",
       "      <td> -9</td>\n",
       "      <td> 0.919116</td>\n",
       "      <td> 1.712963</td>\n",
       "      <td>-9.00000</td>\n",
       "      <td>NaN</td>\n",
       "      <td>NaN</td>\n",
       "      <td> 4.355073</td>\n",
       "      <td> 1.578715</td>\n",
       "      <td>-1.900281</td>\n",
       "      <td>-4.399112</td>\n",
       "      <td> 0.603287</td>\n",
       "      <td> 0.733133</td>\n",
       "      <td> -9</td>\n",
       "      <td> 4.486959</td>\n",
       "      <td>...</td>\n",
       "    </tr>\n",
       "    <tr>\n",
       "      <th>169</th>\n",
       "      <td>NaN</td>\n",
       "      <td>-9.000000</td>\n",
       "      <td>      NaN</td>\n",
       "      <td>      NaN</td>\n",
       "      <td>      NaN</td>\n",
       "      <td>      NaN</td>\n",
       "      <td> 2.387531</td>\n",
       "      <td>      NaN</td>\n",
       "      <td>      NaN</td>\n",
       "      <td>      NaN</td>\n",
       "      <td>-0.008614</td>\n",
       "      <td>NaN</td>\n",
       "      <td>NaN</td>\n",
       "      <td>-9.000000</td>\n",
       "      <td>      NaN</td>\n",
       "      <td>      NaN</td>\n",
       "      <td>NaN</td>\n",
       "      <td>      NaN</td>\n",
       "      <td>-9.000000</td>\n",
       "      <td>     NaN</td>\n",
       "      <td>NaN</td>\n",
       "      <td>NaN</td>\n",
       "      <td>      NaN</td>\n",
       "      <td>      NaN</td>\n",
       "      <td>      NaN</td>\n",
       "      <td>      NaN</td>\n",
       "      <td>      NaN</td>\n",
       "      <td>      NaN</td>\n",
       "      <td>NaN</td>\n",
       "      <td>      NaN</td>\n",
       "      <td>...</td>\n",
       "    </tr>\n",
       "    <tr>\n",
       "      <th>170</th>\n",
       "      <td>NaN</td>\n",
       "      <td>-9.000000</td>\n",
       "      <td>      NaN</td>\n",
       "      <td>      NaN</td>\n",
       "      <td>      NaN</td>\n",
       "      <td>      NaN</td>\n",
       "      <td>-9.000000</td>\n",
       "      <td>      NaN</td>\n",
       "      <td>      NaN</td>\n",
       "      <td>      NaN</td>\n",
       "      <td>-0.049455</td>\n",
       "      <td>NaN</td>\n",
       "      <td>NaN</td>\n",
       "      <td>-9.000000</td>\n",
       "      <td>      NaN</td>\n",
       "      <td>      NaN</td>\n",
       "      <td>NaN</td>\n",
       "      <td>      NaN</td>\n",
       "      <td>-9.000000</td>\n",
       "      <td>     NaN</td>\n",
       "      <td>NaN</td>\n",
       "      <td>NaN</td>\n",
       "      <td>      NaN</td>\n",
       "      <td>      NaN</td>\n",
       "      <td>      NaN</td>\n",
       "      <td>      NaN</td>\n",
       "      <td>      NaN</td>\n",
       "      <td>      NaN</td>\n",
       "      <td>NaN</td>\n",
       "      <td>      NaN</td>\n",
       "      <td>...</td>\n",
       "    </tr>\n",
       "    <tr>\n",
       "      <th>171</th>\n",
       "      <td>NaN</td>\n",
       "      <td>-9.000000</td>\n",
       "      <td>-9.000000</td>\n",
       "      <td>      NaN</td>\n",
       "      <td>      NaN</td>\n",
       "      <td>      NaN</td>\n",
       "      <td> 2.127323</td>\n",
       "      <td>-9.000000</td>\n",
       "      <td>      NaN</td>\n",
       "      <td>      NaN</td>\n",
       "      <td> 0.425222</td>\n",
       "      <td>NaN</td>\n",
       "      <td>NaN</td>\n",
       "      <td>-9.000000</td>\n",
       "      <td>      NaN</td>\n",
       "      <td>      NaN</td>\n",
       "      <td>NaN</td>\n",
       "      <td>      NaN</td>\n",
       "      <td>-9.000000</td>\n",
       "      <td>     NaN</td>\n",
       "      <td>NaN</td>\n",
       "      <td>NaN</td>\n",
       "      <td>      NaN</td>\n",
       "      <td>      NaN</td>\n",
       "      <td>      NaN</td>\n",
       "      <td>      NaN</td>\n",
       "      <td>-9.000000</td>\n",
       "      <td>      NaN</td>\n",
       "      <td>NaN</td>\n",
       "      <td>      NaN</td>\n",
       "      <td>...</td>\n",
       "    </tr>\n",
       "    <tr>\n",
       "      <th>175</th>\n",
       "      <td>NaN</td>\n",
       "      <td>      NaN</td>\n",
       "      <td>      NaN</td>\n",
       "      <td>      NaN</td>\n",
       "      <td>      NaN</td>\n",
       "      <td>      NaN</td>\n",
       "      <td>      NaN</td>\n",
       "      <td>      NaN</td>\n",
       "      <td>      NaN</td>\n",
       "      <td>      NaN</td>\n",
       "      <td>      NaN</td>\n",
       "      <td>NaN</td>\n",
       "      <td>NaN</td>\n",
       "      <td>      NaN</td>\n",
       "      <td>      NaN</td>\n",
       "      <td>      NaN</td>\n",
       "      <td>NaN</td>\n",
       "      <td>      NaN</td>\n",
       "      <td>      NaN</td>\n",
       "      <td>     NaN</td>\n",
       "      <td>NaN</td>\n",
       "      <td>NaN</td>\n",
       "      <td>      NaN</td>\n",
       "      <td>      NaN</td>\n",
       "      <td>      NaN</td>\n",
       "      <td>      NaN</td>\n",
       "      <td>      NaN</td>\n",
       "      <td>      NaN</td>\n",
       "      <td>NaN</td>\n",
       "      <td>      NaN</td>\n",
       "      <td>...</td>\n",
       "    </tr>\n",
       "    <tr>\n",
       "      <th>190</th>\n",
       "      <td>NaN</td>\n",
       "      <td>      NaN</td>\n",
       "      <td>      NaN</td>\n",
       "      <td>      NaN</td>\n",
       "      <td>      NaN</td>\n",
       "      <td>      NaN</td>\n",
       "      <td>      NaN</td>\n",
       "      <td>      NaN</td>\n",
       "      <td>      NaN</td>\n",
       "      <td> 1.028831</td>\n",
       "      <td>      NaN</td>\n",
       "      <td>NaN</td>\n",
       "      <td>NaN</td>\n",
       "      <td>-9.000000</td>\n",
       "      <td>      NaN</td>\n",
       "      <td>      NaN</td>\n",
       "      <td>NaN</td>\n",
       "      <td>      NaN</td>\n",
       "      <td> 1.379252</td>\n",
       "      <td>     NaN</td>\n",
       "      <td>NaN</td>\n",
       "      <td>NaN</td>\n",
       "      <td>      NaN</td>\n",
       "      <td>      NaN</td>\n",
       "      <td>-9.000000</td>\n",
       "      <td>      NaN</td>\n",
       "      <td>-9.000000</td>\n",
       "      <td>      NaN</td>\n",
       "      <td>NaN</td>\n",
       "      <td>      NaN</td>\n",
       "      <td>...</td>\n",
       "    </tr>\n",
       "    <tr>\n",
       "      <th>191</th>\n",
       "      <td>NaN</td>\n",
       "      <td>      NaN</td>\n",
       "      <td>      NaN</td>\n",
       "      <td>      NaN</td>\n",
       "      <td>      NaN</td>\n",
       "      <td>      NaN</td>\n",
       "      <td>      NaN</td>\n",
       "      <td>      NaN</td>\n",
       "      <td>      NaN</td>\n",
       "      <td> 0.914802</td>\n",
       "      <td>      NaN</td>\n",
       "      <td>NaN</td>\n",
       "      <td>NaN</td>\n",
       "      <td>-9.000000</td>\n",
       "      <td>      NaN</td>\n",
       "      <td>      NaN</td>\n",
       "      <td>NaN</td>\n",
       "      <td>-9.000000</td>\n",
       "      <td> 3.259298</td>\n",
       "      <td>     NaN</td>\n",
       "      <td>NaN</td>\n",
       "      <td>NaN</td>\n",
       "      <td>      NaN</td>\n",
       "      <td>      NaN</td>\n",
       "      <td>-9.000000</td>\n",
       "      <td>      NaN</td>\n",
       "      <td>      NaN</td>\n",
       "      <td>      NaN</td>\n",
       "      <td>NaN</td>\n",
       "      <td>      NaN</td>\n",
       "      <td>...</td>\n",
       "    </tr>\n",
       "    <tr>\n",
       "      <th>192</th>\n",
       "      <td>NaN</td>\n",
       "      <td>      NaN</td>\n",
       "      <td>      NaN</td>\n",
       "      <td>      NaN</td>\n",
       "      <td>      NaN</td>\n",
       "      <td>      NaN</td>\n",
       "      <td>      NaN</td>\n",
       "      <td>      NaN</td>\n",
       "      <td>      NaN</td>\n",
       "      <td> 1.085334</td>\n",
       "      <td>      NaN</td>\n",
       "      <td>NaN</td>\n",
       "      <td>NaN</td>\n",
       "      <td>-9.000000</td>\n",
       "      <td>      NaN</td>\n",
       "      <td>      NaN</td>\n",
       "      <td>NaN</td>\n",
       "      <td>-9.000000</td>\n",
       "      <td>-9.000000</td>\n",
       "      <td>     NaN</td>\n",
       "      <td>NaN</td>\n",
       "      <td>NaN</td>\n",
       "      <td>      NaN</td>\n",
       "      <td>      NaN</td>\n",
       "      <td>-9.000000</td>\n",
       "      <td>      NaN</td>\n",
       "      <td>-9.000000</td>\n",
       "      <td>      NaN</td>\n",
       "      <td>NaN</td>\n",
       "      <td>      NaN</td>\n",
       "      <td>...</td>\n",
       "    </tr>\n",
       "    <tr>\n",
       "      <th></th>\n",
       "      <td>...</td>\n",
       "      <td>...</td>\n",
       "      <td>...</td>\n",
       "      <td>...</td>\n",
       "      <td>...</td>\n",
       "      <td>...</td>\n",
       "      <td>...</td>\n",
       "      <td>...</td>\n",
       "      <td>...</td>\n",
       "      <td>...</td>\n",
       "      <td>...</td>\n",
       "      <td>...</td>\n",
       "      <td>...</td>\n",
       "      <td>...</td>\n",
       "      <td>...</td>\n",
       "      <td>...</td>\n",
       "      <td>...</td>\n",
       "      <td>...</td>\n",
       "      <td>...</td>\n",
       "      <td>...</td>\n",
       "      <td>...</td>\n",
       "      <td>...</td>\n",
       "      <td>...</td>\n",
       "      <td>...</td>\n",
       "      <td>...</td>\n",
       "      <td>...</td>\n",
       "      <td>...</td>\n",
       "      <td>...</td>\n",
       "      <td>...</td>\n",
       "      <td>...</td>\n",
       "    </tr>\n",
       "  </tbody>\n",
       "</table>\n",
       "<p>126 rows × 43 columns</p>\n",
       "</div>"
      ],
      "text/plain": [
       "     31        49        50        51        52        53        54        55  \\\n",
       "156 NaN  0.420131 -9.000000  0.470188  1.330108 -9.000000 -0.005631 -1.504587   \n",
       "157 NaN -0.269832  0.304836  0.242751 -9.000000  1.259349 -0.338457  0.092854   \n",
       "158 NaN -0.324052 -1.331978 -0.801273  1.379294  0.498792 -0.586460  0.927645   \n",
       "169 NaN -9.000000       NaN       NaN       NaN       NaN  2.387531       NaN   \n",
       "170 NaN -9.000000       NaN       NaN       NaN       NaN -9.000000       NaN   \n",
       "171 NaN -9.000000 -9.000000       NaN       NaN       NaN  2.127323 -9.000000   \n",
       "175 NaN       NaN       NaN       NaN       NaN       NaN       NaN       NaN   \n",
       "190 NaN       NaN       NaN       NaN       NaN       NaN       NaN       NaN   \n",
       "191 NaN       NaN       NaN       NaN       NaN       NaN       NaN       NaN   \n",
       "192 NaN       NaN       NaN       NaN       NaN       NaN       NaN       NaN   \n",
       "    ...       ...       ...       ...       ...       ...       ...       ...   \n",
       "\n",
       "           56        67        68  71  72        87        89        90  91  \\\n",
       "156  0.421604  3.141255 -9.000000 NaN NaN  0.992541  2.004760  3.290088  -9   \n",
       "157  0.434542 -9.000000  2.906832 NaN NaN  0.945371  2.322101 -9.000000  -9   \n",
       "158 -9.000000  3.491674  3.141255 NaN  -9  1.031585  1.621438 -9.000000  -9   \n",
       "169       NaN       NaN -0.008614 NaN NaN -9.000000       NaN       NaN NaN   \n",
       "170       NaN       NaN -0.049455 NaN NaN -9.000000       NaN       NaN NaN   \n",
       "171       NaN       NaN  0.425222 NaN NaN -9.000000       NaN       NaN NaN   \n",
       "175       NaN       NaN       NaN NaN NaN       NaN       NaN       NaN NaN   \n",
       "190       NaN  1.028831       NaN NaN NaN -9.000000       NaN       NaN NaN   \n",
       "191       NaN  0.914802       NaN NaN NaN -9.000000       NaN       NaN NaN   \n",
       "192       NaN  1.085334       NaN NaN NaN -9.000000       NaN       NaN NaN   \n",
       "          ...       ...       ... ... ...       ...       ...       ... ...   \n",
       "\n",
       "           92        93       94  95  99       108       113       115  \\\n",
       "156  0.062387  1.858324  1.16284 NaN NaN  4.564449  0.839521  0.200887   \n",
       "157 -0.125644  1.706610 -9.00000 NaN NaN  4.360001 -0.116802 -0.320466   \n",
       "158  0.919116  1.712963 -9.00000 NaN NaN  4.355073  1.578715 -1.900281   \n",
       "169       NaN -9.000000      NaN NaN NaN       NaN       NaN       NaN   \n",
       "170       NaN -9.000000      NaN NaN NaN       NaN       NaN       NaN   \n",
       "171       NaN -9.000000      NaN NaN NaN       NaN       NaN       NaN   \n",
       "175       NaN       NaN      NaN NaN NaN       NaN       NaN       NaN   \n",
       "190       NaN  1.379252      NaN NaN NaN       NaN       NaN -9.000000   \n",
       "191 -9.000000  3.259298      NaN NaN NaN       NaN       NaN -9.000000   \n",
       "192 -9.000000 -9.000000      NaN NaN NaN       NaN       NaN -9.000000   \n",
       "          ...       ...      ... ... ...       ...       ...       ...   \n",
       "\n",
       "          116       117       119  120       121      \n",
       "156 -3.402011  1.070041  1.063076  NaN  4.593262 ...  \n",
       "157 -9.000000 -0.058870  1.041801   -9  4.162776 ...  \n",
       "158 -4.399112  0.603287  0.733133   -9  4.486959 ...  \n",
       "169       NaN       NaN       NaN  NaN       NaN ...  \n",
       "170       NaN       NaN       NaN  NaN       NaN ...  \n",
       "171       NaN -9.000000       NaN  NaN       NaN ...  \n",
       "175       NaN       NaN       NaN  NaN       NaN ...  \n",
       "190       NaN -9.000000       NaN  NaN       NaN ...  \n",
       "191       NaN       NaN       NaN  NaN       NaN ...  \n",
       "192       NaN -9.000000       NaN  NaN       NaN ...  \n",
       "          ...       ...       ...  ...       ...      \n",
       "\n",
       "[126 rows x 43 columns]"
      ]
     },
     "execution_count": 12,
     "metadata": {},
     "output_type": "execute_result"
    }
   ],
   "source": [
    "for ad in df_ctr_lo2.index:\n",
    "    for app in df_ctr_lo2.columns:\n",
    "        if df_show.loc[ad, app] == 0:\n",
    "            df_ctr_lo2.loc[ad, app] = np.nan\n",
    "df_ctr_lo2"
   ]
  },
  {
   "cell_type": "markdown",
   "metadata": {},
   "source": [
    "For now, not use no-click pairs for calculating similarity"
   ]
  },
  {
   "cell_type": "code",
   "execution_count": 27,
   "metadata": {
    "collapsed": false
   },
   "outputs": [],
   "source": [
    "df_ctr_lo3 = df_ctr_lo2.applymap(lambda x: x if x > -9 else np.nan)"
   ]
  },
  {
   "cell_type": "code",
   "execution_count": 28,
   "metadata": {
    "collapsed": false
   },
   "outputs": [
    {
     "data": {
      "text/html": [
       "<div style=\"max-height:1000px;max-width:1500px;overflow:auto;\">\n",
       "<table border=\"1\" class=\"dataframe\">\n",
       "  <thead>\n",
       "    <tr style=\"text-align: right;\">\n",
       "      <th></th>\n",
       "      <th>31</th>\n",
       "      <th>49</th>\n",
       "      <th>50</th>\n",
       "      <th>51</th>\n",
       "      <th>52</th>\n",
       "      <th>53</th>\n",
       "      <th>54</th>\n",
       "      <th>55</th>\n",
       "      <th>56</th>\n",
       "      <th>67</th>\n",
       "      <th>68</th>\n",
       "      <th>71</th>\n",
       "      <th>72</th>\n",
       "      <th>87</th>\n",
       "      <th>89</th>\n",
       "      <th>90</th>\n",
       "      <th>91</th>\n",
       "      <th>92</th>\n",
       "      <th>93</th>\n",
       "      <th>94</th>\n",
       "      <th>95</th>\n",
       "      <th>99</th>\n",
       "      <th>108</th>\n",
       "      <th>113</th>\n",
       "      <th>115</th>\n",
       "      <th>116</th>\n",
       "      <th>117</th>\n",
       "      <th>119</th>\n",
       "      <th>120</th>\n",
       "      <th>121</th>\n",
       "      <th></th>\n",
       "    </tr>\n",
       "  </thead>\n",
       "  <tbody>\n",
       "    <tr>\n",
       "      <th>156</th>\n",
       "      <td>NaN</td>\n",
       "      <td> 0.420131</td>\n",
       "      <td>      NaN</td>\n",
       "      <td> 0.470188</td>\n",
       "      <td> 1.330108</td>\n",
       "      <td>      NaN</td>\n",
       "      <td>-0.005631</td>\n",
       "      <td>-1.504587</td>\n",
       "      <td> 0.421604</td>\n",
       "      <td> 3.141255</td>\n",
       "      <td>      NaN</td>\n",
       "      <td>NaN</td>\n",
       "      <td>NaN</td>\n",
       "      <td> 0.992541</td>\n",
       "      <td> 2.004760</td>\n",
       "      <td> 3.290088</td>\n",
       "      <td>NaN</td>\n",
       "      <td> 0.062387</td>\n",
       "      <td> 1.858324</td>\n",
       "      <td> 1.16284</td>\n",
       "      <td>NaN</td>\n",
       "      <td>NaN</td>\n",
       "      <td> 4.564449</td>\n",
       "      <td> 0.839521</td>\n",
       "      <td> 0.200887</td>\n",
       "      <td>-3.402011</td>\n",
       "      <td> 1.070041</td>\n",
       "      <td> 1.063076</td>\n",
       "      <td>NaN</td>\n",
       "      <td> 4.593262</td>\n",
       "      <td>...</td>\n",
       "    </tr>\n",
       "    <tr>\n",
       "      <th>157</th>\n",
       "      <td>NaN</td>\n",
       "      <td>-0.269832</td>\n",
       "      <td> 0.304836</td>\n",
       "      <td> 0.242751</td>\n",
       "      <td>      NaN</td>\n",
       "      <td> 1.259349</td>\n",
       "      <td>-0.338457</td>\n",
       "      <td> 0.092854</td>\n",
       "      <td> 0.434542</td>\n",
       "      <td>      NaN</td>\n",
       "      <td> 2.906832</td>\n",
       "      <td>NaN</td>\n",
       "      <td>NaN</td>\n",
       "      <td> 0.945371</td>\n",
       "      <td> 2.322101</td>\n",
       "      <td>      NaN</td>\n",
       "      <td>NaN</td>\n",
       "      <td>-0.125644</td>\n",
       "      <td> 1.706610</td>\n",
       "      <td>     NaN</td>\n",
       "      <td>NaN</td>\n",
       "      <td>NaN</td>\n",
       "      <td> 4.360001</td>\n",
       "      <td>-0.116802</td>\n",
       "      <td>-0.320466</td>\n",
       "      <td>      NaN</td>\n",
       "      <td>-0.058870</td>\n",
       "      <td> 1.041801</td>\n",
       "      <td>NaN</td>\n",
       "      <td> 4.162776</td>\n",
       "      <td>...</td>\n",
       "    </tr>\n",
       "    <tr>\n",
       "      <th>158</th>\n",
       "      <td>NaN</td>\n",
       "      <td>-0.324052</td>\n",
       "      <td>-1.331978</td>\n",
       "      <td>-0.801273</td>\n",
       "      <td> 1.379294</td>\n",
       "      <td> 0.498792</td>\n",
       "      <td>-0.586460</td>\n",
       "      <td> 0.927645</td>\n",
       "      <td>      NaN</td>\n",
       "      <td> 3.491674</td>\n",
       "      <td> 3.141255</td>\n",
       "      <td>NaN</td>\n",
       "      <td>NaN</td>\n",
       "      <td> 1.031585</td>\n",
       "      <td> 1.621438</td>\n",
       "      <td>      NaN</td>\n",
       "      <td>NaN</td>\n",
       "      <td> 0.919116</td>\n",
       "      <td> 1.712963</td>\n",
       "      <td>     NaN</td>\n",
       "      <td>NaN</td>\n",
       "      <td>NaN</td>\n",
       "      <td> 4.355073</td>\n",
       "      <td> 1.578715</td>\n",
       "      <td>-1.900281</td>\n",
       "      <td>-4.399112</td>\n",
       "      <td> 0.603287</td>\n",
       "      <td> 0.733133</td>\n",
       "      <td>NaN</td>\n",
       "      <td> 4.486959</td>\n",
       "      <td>...</td>\n",
       "    </tr>\n",
       "    <tr>\n",
       "      <th>169</th>\n",
       "      <td>NaN</td>\n",
       "      <td>      NaN</td>\n",
       "      <td>      NaN</td>\n",
       "      <td>      NaN</td>\n",
       "      <td>      NaN</td>\n",
       "      <td>      NaN</td>\n",
       "      <td> 2.387531</td>\n",
       "      <td>      NaN</td>\n",
       "      <td>      NaN</td>\n",
       "      <td>      NaN</td>\n",
       "      <td>-0.008614</td>\n",
       "      <td>NaN</td>\n",
       "      <td>NaN</td>\n",
       "      <td>      NaN</td>\n",
       "      <td>      NaN</td>\n",
       "      <td>      NaN</td>\n",
       "      <td>NaN</td>\n",
       "      <td>      NaN</td>\n",
       "      <td>      NaN</td>\n",
       "      <td>     NaN</td>\n",
       "      <td>NaN</td>\n",
       "      <td>NaN</td>\n",
       "      <td>      NaN</td>\n",
       "      <td>      NaN</td>\n",
       "      <td>      NaN</td>\n",
       "      <td>      NaN</td>\n",
       "      <td>      NaN</td>\n",
       "      <td>      NaN</td>\n",
       "      <td>NaN</td>\n",
       "      <td>      NaN</td>\n",
       "      <td>...</td>\n",
       "    </tr>\n",
       "    <tr>\n",
       "      <th>170</th>\n",
       "      <td>NaN</td>\n",
       "      <td>      NaN</td>\n",
       "      <td>      NaN</td>\n",
       "      <td>      NaN</td>\n",
       "      <td>      NaN</td>\n",
       "      <td>      NaN</td>\n",
       "      <td>      NaN</td>\n",
       "      <td>      NaN</td>\n",
       "      <td>      NaN</td>\n",
       "      <td>      NaN</td>\n",
       "      <td>-0.049455</td>\n",
       "      <td>NaN</td>\n",
       "      <td>NaN</td>\n",
       "      <td>      NaN</td>\n",
       "      <td>      NaN</td>\n",
       "      <td>      NaN</td>\n",
       "      <td>NaN</td>\n",
       "      <td>      NaN</td>\n",
       "      <td>      NaN</td>\n",
       "      <td>     NaN</td>\n",
       "      <td>NaN</td>\n",
       "      <td>NaN</td>\n",
       "      <td>      NaN</td>\n",
       "      <td>      NaN</td>\n",
       "      <td>      NaN</td>\n",
       "      <td>      NaN</td>\n",
       "      <td>      NaN</td>\n",
       "      <td>      NaN</td>\n",
       "      <td>NaN</td>\n",
       "      <td>      NaN</td>\n",
       "      <td>...</td>\n",
       "    </tr>\n",
       "    <tr>\n",
       "      <th>171</th>\n",
       "      <td>NaN</td>\n",
       "      <td>      NaN</td>\n",
       "      <td>      NaN</td>\n",
       "      <td>      NaN</td>\n",
       "      <td>      NaN</td>\n",
       "      <td>      NaN</td>\n",
       "      <td> 2.127323</td>\n",
       "      <td>      NaN</td>\n",
       "      <td>      NaN</td>\n",
       "      <td>      NaN</td>\n",
       "      <td> 0.425222</td>\n",
       "      <td>NaN</td>\n",
       "      <td>NaN</td>\n",
       "      <td>      NaN</td>\n",
       "      <td>      NaN</td>\n",
       "      <td>      NaN</td>\n",
       "      <td>NaN</td>\n",
       "      <td>      NaN</td>\n",
       "      <td>      NaN</td>\n",
       "      <td>     NaN</td>\n",
       "      <td>NaN</td>\n",
       "      <td>NaN</td>\n",
       "      <td>      NaN</td>\n",
       "      <td>      NaN</td>\n",
       "      <td>      NaN</td>\n",
       "      <td>      NaN</td>\n",
       "      <td>      NaN</td>\n",
       "      <td>      NaN</td>\n",
       "      <td>NaN</td>\n",
       "      <td>      NaN</td>\n",
       "      <td>...</td>\n",
       "    </tr>\n",
       "    <tr>\n",
       "      <th>175</th>\n",
       "      <td>NaN</td>\n",
       "      <td>      NaN</td>\n",
       "      <td>      NaN</td>\n",
       "      <td>      NaN</td>\n",
       "      <td>      NaN</td>\n",
       "      <td>      NaN</td>\n",
       "      <td>      NaN</td>\n",
       "      <td>      NaN</td>\n",
       "      <td>      NaN</td>\n",
       "      <td>      NaN</td>\n",
       "      <td>      NaN</td>\n",
       "      <td>NaN</td>\n",
       "      <td>NaN</td>\n",
       "      <td>      NaN</td>\n",
       "      <td>      NaN</td>\n",
       "      <td>      NaN</td>\n",
       "      <td>NaN</td>\n",
       "      <td>      NaN</td>\n",
       "      <td>      NaN</td>\n",
       "      <td>     NaN</td>\n",
       "      <td>NaN</td>\n",
       "      <td>NaN</td>\n",
       "      <td>      NaN</td>\n",
       "      <td>      NaN</td>\n",
       "      <td>      NaN</td>\n",
       "      <td>      NaN</td>\n",
       "      <td>      NaN</td>\n",
       "      <td>      NaN</td>\n",
       "      <td>NaN</td>\n",
       "      <td>      NaN</td>\n",
       "      <td>...</td>\n",
       "    </tr>\n",
       "    <tr>\n",
       "      <th>190</th>\n",
       "      <td>NaN</td>\n",
       "      <td>      NaN</td>\n",
       "      <td>      NaN</td>\n",
       "      <td>      NaN</td>\n",
       "      <td>      NaN</td>\n",
       "      <td>      NaN</td>\n",
       "      <td>      NaN</td>\n",
       "      <td>      NaN</td>\n",
       "      <td>      NaN</td>\n",
       "      <td> 1.028831</td>\n",
       "      <td>      NaN</td>\n",
       "      <td>NaN</td>\n",
       "      <td>NaN</td>\n",
       "      <td>      NaN</td>\n",
       "      <td>      NaN</td>\n",
       "      <td>      NaN</td>\n",
       "      <td>NaN</td>\n",
       "      <td>      NaN</td>\n",
       "      <td> 1.379252</td>\n",
       "      <td>     NaN</td>\n",
       "      <td>NaN</td>\n",
       "      <td>NaN</td>\n",
       "      <td>      NaN</td>\n",
       "      <td>      NaN</td>\n",
       "      <td>      NaN</td>\n",
       "      <td>      NaN</td>\n",
       "      <td>      NaN</td>\n",
       "      <td>      NaN</td>\n",
       "      <td>NaN</td>\n",
       "      <td>      NaN</td>\n",
       "      <td>...</td>\n",
       "    </tr>\n",
       "    <tr>\n",
       "      <th>191</th>\n",
       "      <td>NaN</td>\n",
       "      <td>      NaN</td>\n",
       "      <td>      NaN</td>\n",
       "      <td>      NaN</td>\n",
       "      <td>      NaN</td>\n",
       "      <td>      NaN</td>\n",
       "      <td>      NaN</td>\n",
       "      <td>      NaN</td>\n",
       "      <td>      NaN</td>\n",
       "      <td> 0.914802</td>\n",
       "      <td>      NaN</td>\n",
       "      <td>NaN</td>\n",
       "      <td>NaN</td>\n",
       "      <td>      NaN</td>\n",
       "      <td>      NaN</td>\n",
       "      <td>      NaN</td>\n",
       "      <td>NaN</td>\n",
       "      <td>      NaN</td>\n",
       "      <td> 3.259298</td>\n",
       "      <td>     NaN</td>\n",
       "      <td>NaN</td>\n",
       "      <td>NaN</td>\n",
       "      <td>      NaN</td>\n",
       "      <td>      NaN</td>\n",
       "      <td>      NaN</td>\n",
       "      <td>      NaN</td>\n",
       "      <td>      NaN</td>\n",
       "      <td>      NaN</td>\n",
       "      <td>NaN</td>\n",
       "      <td>      NaN</td>\n",
       "      <td>...</td>\n",
       "    </tr>\n",
       "    <tr>\n",
       "      <th>192</th>\n",
       "      <td>NaN</td>\n",
       "      <td>      NaN</td>\n",
       "      <td>      NaN</td>\n",
       "      <td>      NaN</td>\n",
       "      <td>      NaN</td>\n",
       "      <td>      NaN</td>\n",
       "      <td>      NaN</td>\n",
       "      <td>      NaN</td>\n",
       "      <td>      NaN</td>\n",
       "      <td> 1.085334</td>\n",
       "      <td>      NaN</td>\n",
       "      <td>NaN</td>\n",
       "      <td>NaN</td>\n",
       "      <td>      NaN</td>\n",
       "      <td>      NaN</td>\n",
       "      <td>      NaN</td>\n",
       "      <td>NaN</td>\n",
       "      <td>      NaN</td>\n",
       "      <td>      NaN</td>\n",
       "      <td>     NaN</td>\n",
       "      <td>NaN</td>\n",
       "      <td>NaN</td>\n",
       "      <td>      NaN</td>\n",
       "      <td>      NaN</td>\n",
       "      <td>      NaN</td>\n",
       "      <td>      NaN</td>\n",
       "      <td>      NaN</td>\n",
       "      <td>      NaN</td>\n",
       "      <td>NaN</td>\n",
       "      <td>      NaN</td>\n",
       "      <td>...</td>\n",
       "    </tr>\n",
       "    <tr>\n",
       "      <th></th>\n",
       "      <td>...</td>\n",
       "      <td>...</td>\n",
       "      <td>...</td>\n",
       "      <td>...</td>\n",
       "      <td>...</td>\n",
       "      <td>...</td>\n",
       "      <td>...</td>\n",
       "      <td>...</td>\n",
       "      <td>...</td>\n",
       "      <td>...</td>\n",
       "      <td>...</td>\n",
       "      <td>...</td>\n",
       "      <td>...</td>\n",
       "      <td>...</td>\n",
       "      <td>...</td>\n",
       "      <td>...</td>\n",
       "      <td>...</td>\n",
       "      <td>...</td>\n",
       "      <td>...</td>\n",
       "      <td>...</td>\n",
       "      <td>...</td>\n",
       "      <td>...</td>\n",
       "      <td>...</td>\n",
       "      <td>...</td>\n",
       "      <td>...</td>\n",
       "      <td>...</td>\n",
       "      <td>...</td>\n",
       "      <td>...</td>\n",
       "      <td>...</td>\n",
       "      <td>...</td>\n",
       "    </tr>\n",
       "  </tbody>\n",
       "</table>\n",
       "<p>126 rows × 43 columns</p>\n",
       "</div>"
      ],
      "text/plain": [
       "     31        49        50        51        52        53        54        55  \\\n",
       "156 NaN  0.420131       NaN  0.470188  1.330108       NaN -0.005631 -1.504587   \n",
       "157 NaN -0.269832  0.304836  0.242751       NaN  1.259349 -0.338457  0.092854   \n",
       "158 NaN -0.324052 -1.331978 -0.801273  1.379294  0.498792 -0.586460  0.927645   \n",
       "169 NaN       NaN       NaN       NaN       NaN       NaN  2.387531       NaN   \n",
       "170 NaN       NaN       NaN       NaN       NaN       NaN       NaN       NaN   \n",
       "171 NaN       NaN       NaN       NaN       NaN       NaN  2.127323       NaN   \n",
       "175 NaN       NaN       NaN       NaN       NaN       NaN       NaN       NaN   \n",
       "190 NaN       NaN       NaN       NaN       NaN       NaN       NaN       NaN   \n",
       "191 NaN       NaN       NaN       NaN       NaN       NaN       NaN       NaN   \n",
       "192 NaN       NaN       NaN       NaN       NaN       NaN       NaN       NaN   \n",
       "    ...       ...       ...       ...       ...       ...       ...       ...   \n",
       "\n",
       "           56        67        68  71  72        87        89        90  91  \\\n",
       "156  0.421604  3.141255       NaN NaN NaN  0.992541  2.004760  3.290088 NaN   \n",
       "157  0.434542       NaN  2.906832 NaN NaN  0.945371  2.322101       NaN NaN   \n",
       "158       NaN  3.491674  3.141255 NaN NaN  1.031585  1.621438       NaN NaN   \n",
       "169       NaN       NaN -0.008614 NaN NaN       NaN       NaN       NaN NaN   \n",
       "170       NaN       NaN -0.049455 NaN NaN       NaN       NaN       NaN NaN   \n",
       "171       NaN       NaN  0.425222 NaN NaN       NaN       NaN       NaN NaN   \n",
       "175       NaN       NaN       NaN NaN NaN       NaN       NaN       NaN NaN   \n",
       "190       NaN  1.028831       NaN NaN NaN       NaN       NaN       NaN NaN   \n",
       "191       NaN  0.914802       NaN NaN NaN       NaN       NaN       NaN NaN   \n",
       "192       NaN  1.085334       NaN NaN NaN       NaN       NaN       NaN NaN   \n",
       "          ...       ...       ... ... ...       ...       ...       ... ...   \n",
       "\n",
       "           92        93       94  95  99       108       113       115  \\\n",
       "156  0.062387  1.858324  1.16284 NaN NaN  4.564449  0.839521  0.200887   \n",
       "157 -0.125644  1.706610      NaN NaN NaN  4.360001 -0.116802 -0.320466   \n",
       "158  0.919116  1.712963      NaN NaN NaN  4.355073  1.578715 -1.900281   \n",
       "169       NaN       NaN      NaN NaN NaN       NaN       NaN       NaN   \n",
       "170       NaN       NaN      NaN NaN NaN       NaN       NaN       NaN   \n",
       "171       NaN       NaN      NaN NaN NaN       NaN       NaN       NaN   \n",
       "175       NaN       NaN      NaN NaN NaN       NaN       NaN       NaN   \n",
       "190       NaN  1.379252      NaN NaN NaN       NaN       NaN       NaN   \n",
       "191       NaN  3.259298      NaN NaN NaN       NaN       NaN       NaN   \n",
       "192       NaN       NaN      NaN NaN NaN       NaN       NaN       NaN   \n",
       "          ...       ...      ... ... ...       ...       ...       ...   \n",
       "\n",
       "          116       117       119  120       121      \n",
       "156 -3.402011  1.070041  1.063076  NaN  4.593262 ...  \n",
       "157       NaN -0.058870  1.041801  NaN  4.162776 ...  \n",
       "158 -4.399112  0.603287  0.733133  NaN  4.486959 ...  \n",
       "169       NaN       NaN       NaN  NaN       NaN ...  \n",
       "170       NaN       NaN       NaN  NaN       NaN ...  \n",
       "171       NaN       NaN       NaN  NaN       NaN ...  \n",
       "175       NaN       NaN       NaN  NaN       NaN ...  \n",
       "190       NaN       NaN       NaN  NaN       NaN ...  \n",
       "191       NaN       NaN       NaN  NaN       NaN ...  \n",
       "192       NaN       NaN       NaN  NaN       NaN ...  \n",
       "          ...       ...       ...  ...       ...      \n",
       "\n",
       "[126 rows x 43 columns]"
      ]
     },
     "execution_count": 28,
     "metadata": {},
     "output_type": "execute_result"
    }
   ],
   "source": [
    "df_ctr_lo3"
   ]
  },
  {
   "cell_type": "code",
   "execution_count": 29,
   "metadata": {
    "collapsed": false
   },
   "outputs": [
    {
     "data": {
      "text/plain": [
       "(6, 2)"
      ]
     },
     "execution_count": 29,
     "metadata": {},
     "output_type": "execute_result"
    }
   ],
   "source": [
    "df_ctr_lo3[['49','50']].dropna().shape"
   ]
  },
  {
   "cell_type": "code",
   "execution_count": 30,
   "metadata": {
    "collapsed": false
   },
   "outputs": [
    {
     "data": {
      "text/plain": [
       "0.67862256245296593"
      ]
     },
     "execution_count": 30,
     "metadata": {},
     "output_type": "execute_result"
    }
   ],
   "source": [
    "sklearn.metrics.pairwise.cosine_similarity(df_ctr_lo3[['49','50']].dropna()['49'],df_ctr_lo3[['49','50']].dropna()['50'])[0][0]"
   ]
  },
  {
   "cell_type": "code",
   "execution_count": 31,
   "metadata": {
    "collapsed": false
   },
   "outputs": [
    {
     "data": {
      "text/plain": [
       "2.222919298438998"
      ]
     },
     "execution_count": 31,
     "metadata": {},
     "output_type": "execute_result"
    }
   ],
   "source": [
    "scipy.spatial.distance.euclidean(df_ctr_lo3[['49','50']].dropna()['49'],df_ctr_lo3[['49','50']].dropna()['50'])"
   ]
  },
  {
   "cell_type": "code",
   "execution_count": 52,
   "metadata": {
    "collapsed": false
   },
   "outputs": [
    {
     "data": {
      "text/plain": [
       "True"
      ]
     },
     "execution_count": 52,
     "metadata": {},
     "output_type": "execute_result"
    }
   ],
   "source": [
    "math.isnan(df_ctr_lo3['49'].iloc[4])"
   ]
  },
  {
   "cell_type": "code",
   "execution_count": 60,
   "metadata": {
    "collapsed": false
   },
   "outputs": [
    {
     "data": {
      "text/plain": [
       "pandas.core.series.Series"
      ]
     },
     "execution_count": 60,
     "metadata": {},
     "output_type": "execute_result"
    }
   ],
   "source": [
    "type(df_ctr_lo3['49'].loc[[156, 157]])"
   ]
  },
  {
   "cell_type": "code",
   "execution_count": 61,
   "metadata": {
    "collapsed": true
   },
   "outputs": [],
   "source": [
    "def get_share_items(x, y):\n",
    "    share = []\n",
    "    for i in x.index:\n",
    "        if not math.isnan(x.loc[i]) and i in y.index and not math.isnan(y.loc[i]):\n",
    "            share.append(i)\n",
    "    return share"
   ]
  },
  {
   "cell_type": "code",
   "execution_count": 86,
   "metadata": {
    "collapsed": true
   },
   "outputs": [],
   "source": [
    "def sim_distance(x, y):\n",
    "    share = get_share_items(x, y)\n",
    "    \n",
    "    #return 0 iff shared item number < 2\n",
    "    if len(share) < 1:\n",
    "        return 0\n",
    "    \n",
    "    #Add up the squares of all differences\n",
    "    sum_of_squares = sum([pow(x.loc[i]-y.loc[i],2) for i in share])\n",
    "    \n",
    "    return 1 / (1 + sum_of_squares)"
   ]
  },
  {
   "cell_type": "code",
   "execution_count": 87,
   "metadata": {
    "collapsed": false
   },
   "outputs": [
    {
     "data": {
      "text/plain": [
       "0.16831134319136012"
      ]
     },
     "execution_count": 87,
     "metadata": {},
     "output_type": "execute_result"
    }
   ],
   "source": [
    "sim_distance(df_ctr_lo3['49'],df_ctr_lo3['50'])"
   ]
  },
  {
   "cell_type": "code",
   "execution_count": 64,
   "metadata": {
    "collapsed": false
   },
   "outputs": [
    {
     "data": {
      "text/plain": [
       "-17.877494297338146"
      ]
     },
     "execution_count": 64,
     "metadata": {},
     "output_type": "execute_result"
    }
   ],
   "source": [
    "df_ctr_lo3['49'].sum()"
   ]
  },
  {
   "cell_type": "code",
   "execution_count": 65,
   "metadata": {
    "collapsed": true
   },
   "outputs": [],
   "source": [
    "def sim_pearson(x, y):\n",
    "    share = get_share_items(x, y)\n",
    "    \n",
    "    #return 0 iff shared item number < 2\n",
    "    if len(share) < 2:\n",
    "        return 0\n",
    "    \n",
    "    #length of shared items\n",
    "    n = len(share)\n",
    "    \n",
    "    sum_x = x.loc[share].sum()\n",
    "    sum_y = y.loc[share].sum()\n",
    "    sum_square_x = sum([pow(x.loc[i], 2) for i in share])\n",
    "    sum_square_y = sum([pow(y.loc[i], 2) for i in share])\n",
    "    sum_x_y = sum([x.loc[i] * y.loc[i] for i in share])\n",
    "    \n",
    "    #Calculate Pearson score (r)\n",
    "    num = sum_x_y - (sum_x * sum_y / n)\n",
    "    den = math.sqrt((sum_square_x - pow(sum_x,2)/n) * (sum_square_y - pow(sum_y,2)/n))\n",
    "    \n",
    "    if den == 0:\n",
    "        return 0\n",
    "    else:\n",
    "        return num/den"
   ]
  },
  {
   "cell_type": "code",
   "execution_count": 66,
   "metadata": {
    "collapsed": false
   },
   "outputs": [
    {
     "data": {
      "text/plain": [
       "0.51605789438863447"
      ]
     },
     "execution_count": 66,
     "metadata": {},
     "output_type": "execute_result"
    }
   ],
   "source": [
    "sim_pearson(df_ctr_lo3['49'],df_ctr_lo3['50'])"
   ]
  },
  {
   "cell_type": "code",
   "execution_count": 88,
   "metadata": {
    "collapsed": true
   },
   "outputs": [],
   "source": [
    "def sim_euclidean(x, y):\n",
    "    share = get_share_items(x, y)\n",
    "    \n",
    "    #return 0 iff shared item number < 2\n",
    "    if len(share) < 1:\n",
    "        return 0\n",
    "        \n",
    "    return math.sqrt(sum([pow(x.loc[i]-y.loc[i],2) for i in share]))"
   ]
  },
  {
   "cell_type": "code",
   "execution_count": 68,
   "metadata": {
    "collapsed": false
   },
   "outputs": [
    {
     "data": {
      "text/plain": [
       "2.222919298438998"
      ]
     },
     "execution_count": 68,
     "metadata": {},
     "output_type": "execute_result"
    }
   ],
   "source": [
    "sim_euclidean(df_ctr_lo3['49'],df_ctr_lo3['50'])"
   ]
  },
  {
   "cell_type": "code",
   "execution_count": 70,
   "metadata": {
    "collapsed": false
   },
   "outputs": [
    {
     "data": {
      "text/plain": [
       "pandas.core.series.Series"
      ]
     },
     "execution_count": 70,
     "metadata": {},
     "output_type": "execute_result"
    }
   ],
   "source": [
    "type(df_ctr_lo3[['49','50']].dropna()['49'])"
   ]
  },
  {
   "cell_type": "code",
   "execution_count": 73,
   "metadata": {
    "collapsed": true
   },
   "outputs": [],
   "source": [
    "def sim_cosine(x, y):\n",
    "    share = get_share_items(x, y)\n",
    "    \n",
    "    #return 0 iff shared item number < 2\n",
    "    if len(share) < 2:\n",
    "        return 0\n",
    "    \n",
    "    return sklearn.metrics.pairwise.cosine_similarity(x.loc[share], y.loc[share])[0][0]"
   ]
  },
  {
   "cell_type": "code",
   "execution_count": 74,
   "metadata": {
    "collapsed": false
   },
   "outputs": [
    {
     "data": {
      "text/plain": [
       "0.67862256245296593"
      ]
     },
     "execution_count": 74,
     "metadata": {},
     "output_type": "execute_result"
    }
   ],
   "source": [
    "sim_cosine(df_ctr_lo3['49'],df_ctr_lo3['50'])"
   ]
  },
  {
   "cell_type": "code",
   "execution_count": 75,
   "metadata": {
    "collapsed": true
   },
   "outputs": [],
   "source": [
    "def share_len(x, y):\n",
    "    share = get_share_items(x, y)\n",
    "\n",
    "    return len(share)"
   ]
  },
  {
   "cell_type": "code",
   "execution_count": 82,
   "metadata": {
    "collapsed": true
   },
   "outputs": [],
   "source": [
    "def cal_distances(df):\n",
    "    result = []\n",
    "    for app1 in df.columns:\n",
    "        for app2 in df.columns:\n",
    "            if app1 == app2:\n",
    "                continue\n",
    "            share = share_len(df[app1], df[app2])\n",
    "            eu = sim_euclidean(df[app1], df[app2])\n",
    "            dis = sim_distance(df[app1], df[app2])\n",
    "            cos = sim_cosine(df[app1], df[app2])\n",
    "            r = sim_pearson(df[app1], df[app2])\n",
    "            result.append({'app1': app1,\n",
    "                           'app2': app2,\n",
    "                           'common': share,\n",
    "                           'euclidean': eu,\n",
    "                           'distance': dis,\n",
    "                           'cosine': cos,\n",
    "                           'pearson': r})\n",
    "    out_df = pd.DataFrame([datum for datum in result],\n",
    "                          columns = ['app1','app2','common','euclidean','distance','cosine','pearson'])\n",
    "    return out_df"
   ]
  },
  {
   "cell_type": "code",
   "execution_count": 83,
   "metadata": {
    "collapsed": false
   },
   "outputs": [
    {
     "data": {
      "text/html": [
       "<div style=\"max-height:1000px;max-width:1500px;overflow:auto;\">\n",
       "<table border=\"1\" class=\"dataframe\">\n",
       "  <thead>\n",
       "    <tr style=\"text-align: right;\">\n",
       "      <th></th>\n",
       "      <th>app1</th>\n",
       "      <th>app2</th>\n",
       "      <th>common</th>\n",
       "      <th>euclidean</th>\n",
       "      <th>distance</th>\n",
       "      <th>cosine</th>\n",
       "      <th>pearson</th>\n",
       "    </tr>\n",
       "  </thead>\n",
       "  <tbody>\n",
       "    <tr>\n",
       "      <th>0</th>\n",
       "      <td> 49</td>\n",
       "      <td> 50</td>\n",
       "      <td> 6</td>\n",
       "      <td> 2.222919</td>\n",
       "      <td> 0.168311</td>\n",
       "      <td> 0.678623</td>\n",
       "      <td> 0.516058</td>\n",
       "    </tr>\n",
       "    <tr>\n",
       "      <th>1</th>\n",
       "      <td> 50</td>\n",
       "      <td> 49</td>\n",
       "      <td> 6</td>\n",
       "      <td> 2.222919</td>\n",
       "      <td> 0.168311</td>\n",
       "      <td> 0.678623</td>\n",
       "      <td> 0.516058</td>\n",
       "    </tr>\n",
       "  </tbody>\n",
       "</table>\n",
       "<p>2 rows × 7 columns</p>\n",
       "</div>"
      ],
      "text/plain": [
       "  app1 app2  common  euclidean  distance    cosine   pearson\n",
       "0   49   50       6   2.222919  0.168311  0.678623  0.516058\n",
       "1   50   49       6   2.222919  0.168311  0.678623  0.516058\n",
       "\n",
       "[2 rows x 7 columns]"
      ]
     },
     "execution_count": 83,
     "metadata": {},
     "output_type": "execute_result"
    }
   ],
   "source": [
    "cal_distances(df_ctr_lo3[['49','50']])"
   ]
  },
  {
   "cell_type": "code",
   "execution_count": 89,
   "metadata": {
    "collapsed": true
   },
   "outputs": [],
   "source": [
    "df_ctr_dist = cal_distances(df_ctr_lo3)"
   ]
  },
  {
   "cell_type": "code",
   "execution_count": 90,
   "metadata": {
    "collapsed": false
   },
   "outputs": [
    {
     "data": {
      "text/html": [
       "<div style=\"max-height:1000px;max-width:1500px;overflow:auto;\">\n",
       "<table border=\"1\" class=\"dataframe\">\n",
       "  <thead>\n",
       "    <tr style=\"text-align: right;\">\n",
       "      <th></th>\n",
       "      <th>app1</th>\n",
       "      <th>app2</th>\n",
       "      <th>common</th>\n",
       "      <th>euclidean</th>\n",
       "      <th>distance</th>\n",
       "      <th>cosine</th>\n",
       "      <th>pearson</th>\n",
       "    </tr>\n",
       "  </thead>\n",
       "  <tbody>\n",
       "    <tr>\n",
       "      <th>0</th>\n",
       "      <td> 31</td>\n",
       "      <td> 49</td>\n",
       "      <td> 0</td>\n",
       "      <td> 0.000000</td>\n",
       "      <td> 0.000000</td>\n",
       "      <td> 0</td>\n",
       "      <td> 0</td>\n",
       "    </tr>\n",
       "    <tr>\n",
       "      <th>1</th>\n",
       "      <td> 31</td>\n",
       "      <td> 50</td>\n",
       "      <td> 0</td>\n",
       "      <td> 0.000000</td>\n",
       "      <td> 0.000000</td>\n",
       "      <td> 0</td>\n",
       "      <td> 0</td>\n",
       "    </tr>\n",
       "    <tr>\n",
       "      <th>2</th>\n",
       "      <td> 31</td>\n",
       "      <td> 51</td>\n",
       "      <td> 1</td>\n",
       "      <td> 1.787568</td>\n",
       "      <td> 0.238356</td>\n",
       "      <td> 0</td>\n",
       "      <td> 0</td>\n",
       "    </tr>\n",
       "    <tr>\n",
       "      <th>3</th>\n",
       "      <td> 31</td>\n",
       "      <td> 52</td>\n",
       "      <td> 0</td>\n",
       "      <td> 0.000000</td>\n",
       "      <td> 0.000000</td>\n",
       "      <td> 0</td>\n",
       "      <td> 0</td>\n",
       "    </tr>\n",
       "    <tr>\n",
       "      <th>4</th>\n",
       "      <td> 31</td>\n",
       "      <td> 53</td>\n",
       "      <td> 0</td>\n",
       "      <td> 0.000000</td>\n",
       "      <td> 0.000000</td>\n",
       "      <td> 0</td>\n",
       "      <td> 0</td>\n",
       "    </tr>\n",
       "    <tr>\n",
       "      <th>5</th>\n",
       "      <td> 31</td>\n",
       "      <td> 54</td>\n",
       "      <td> 0</td>\n",
       "      <td> 0.000000</td>\n",
       "      <td> 0.000000</td>\n",
       "      <td> 0</td>\n",
       "      <td> 0</td>\n",
       "    </tr>\n",
       "    <tr>\n",
       "      <th>6</th>\n",
       "      <td> 31</td>\n",
       "      <td> 55</td>\n",
       "      <td> 0</td>\n",
       "      <td> 0.000000</td>\n",
       "      <td> 0.000000</td>\n",
       "      <td> 0</td>\n",
       "      <td> 0</td>\n",
       "    </tr>\n",
       "    <tr>\n",
       "      <th>7</th>\n",
       "      <td> 31</td>\n",
       "      <td> 56</td>\n",
       "      <td> 0</td>\n",
       "      <td> 0.000000</td>\n",
       "      <td> 0.000000</td>\n",
       "      <td> 0</td>\n",
       "      <td> 0</td>\n",
       "    </tr>\n",
       "    <tr>\n",
       "      <th>8</th>\n",
       "      <td> 31</td>\n",
       "      <td> 67</td>\n",
       "      <td> 1</td>\n",
       "      <td> 0.122733</td>\n",
       "      <td> 0.985160</td>\n",
       "      <td> 0</td>\n",
       "      <td> 0</td>\n",
       "    </tr>\n",
       "    <tr>\n",
       "      <th>9</th>\n",
       "      <td> 31</td>\n",
       "      <td> 68</td>\n",
       "      <td> 0</td>\n",
       "      <td> 0.000000</td>\n",
       "      <td> 0.000000</td>\n",
       "      <td> 0</td>\n",
       "      <td> 0</td>\n",
       "    </tr>\n",
       "    <tr>\n",
       "      <th></th>\n",
       "      <td>...</td>\n",
       "      <td>...</td>\n",
       "      <td>...</td>\n",
       "      <td>...</td>\n",
       "      <td>...</td>\n",
       "      <td>...</td>\n",
       "      <td>...</td>\n",
       "    </tr>\n",
       "  </tbody>\n",
       "</table>\n",
       "<p>1806 rows × 7 columns</p>\n",
       "</div>"
      ],
      "text/plain": [
       "  app1 app2  common  euclidean  distance  cosine  pearson\n",
       "0   31   49       0   0.000000  0.000000       0        0\n",
       "1   31   50       0   0.000000  0.000000       0        0\n",
       "2   31   51       1   1.787568  0.238356       0        0\n",
       "3   31   52       0   0.000000  0.000000       0        0\n",
       "4   31   53       0   0.000000  0.000000       0        0\n",
       "5   31   54       0   0.000000  0.000000       0        0\n",
       "6   31   55       0   0.000000  0.000000       0        0\n",
       "7   31   56       0   0.000000  0.000000       0        0\n",
       "8   31   67       1   0.122733  0.985160       0        0\n",
       "9   31   68       0   0.000000  0.000000       0        0\n",
       "   ...  ...     ...        ...       ...     ...      ...\n",
       "\n",
       "[1806 rows x 7 columns]"
      ]
     },
     "execution_count": 90,
     "metadata": {},
     "output_type": "execute_result"
    }
   ],
   "source": [
    "df_ctr_dist"
   ]
  },
  {
   "cell_type": "code",
   "execution_count": 91,
   "metadata": {
    "collapsed": false
   },
   "outputs": [
    {
     "data": {
      "text/plain": [
       "(1806, 7)"
      ]
     },
     "execution_count": 91,
     "metadata": {},
     "output_type": "execute_result"
    }
   ],
   "source": [
    "df_ctr_dist.shape"
   ]
  },
  {
   "cell_type": "code",
   "execution_count": 92,
   "metadata": {
    "collapsed": true
   },
   "outputs": [],
   "source": [
    "df_ctr_dist2 = df_ctr_dist[['common','euclidean','distance','cosine','pearson']]"
   ]
  },
  {
   "cell_type": "code",
   "execution_count": 93,
   "metadata": {
    "collapsed": true
   },
   "outputs": [],
   "source": [
    "df_ctr_dist2.index = pd.MultiIndex.from_arrays(df_ctr_dist[['app1','app2']].values.T)"
   ]
  },
  {
   "cell_type": "code",
   "execution_count": 94,
   "metadata": {
    "collapsed": false
   },
   "outputs": [
    {
     "data": {
      "text/plain": [
       "(1806, 5)"
      ]
     },
     "execution_count": 94,
     "metadata": {},
     "output_type": "execute_result"
    }
   ],
   "source": [
    "df_ctr_dist2.shape"
   ]
  },
  {
   "cell_type": "code",
   "execution_count": 95,
   "metadata": {
    "collapsed": false
   },
   "outputs": [
    {
     "data": {
      "text/html": [
       "<div style=\"max-height:1000px;max-width:1500px;overflow:auto;\">\n",
       "<table border=\"1\" class=\"dataframe\">\n",
       "  <thead>\n",
       "    <tr style=\"text-align: right;\">\n",
       "      <th></th>\n",
       "      <th></th>\n",
       "      <th>common</th>\n",
       "      <th>euclidean</th>\n",
       "      <th>distance</th>\n",
       "      <th>cosine</th>\n",
       "      <th>pearson</th>\n",
       "    </tr>\n",
       "  </thead>\n",
       "  <tbody>\n",
       "    <tr>\n",
       "      <th rowspan=\"10\" valign=\"top\">31</th>\n",
       "      <th>49</th>\n",
       "      <td> 0</td>\n",
       "      <td> 0.000000</td>\n",
       "      <td> 0.000000</td>\n",
       "      <td> 0</td>\n",
       "      <td> 0</td>\n",
       "    </tr>\n",
       "    <tr>\n",
       "      <th>50</th>\n",
       "      <td> 0</td>\n",
       "      <td> 0.000000</td>\n",
       "      <td> 0.000000</td>\n",
       "      <td> 0</td>\n",
       "      <td> 0</td>\n",
       "    </tr>\n",
       "    <tr>\n",
       "      <th>51</th>\n",
       "      <td> 1</td>\n",
       "      <td> 1.787568</td>\n",
       "      <td> 0.238356</td>\n",
       "      <td> 0</td>\n",
       "      <td> 0</td>\n",
       "    </tr>\n",
       "    <tr>\n",
       "      <th>52</th>\n",
       "      <td> 0</td>\n",
       "      <td> 0.000000</td>\n",
       "      <td> 0.000000</td>\n",
       "      <td> 0</td>\n",
       "      <td> 0</td>\n",
       "    </tr>\n",
       "    <tr>\n",
       "      <th>53</th>\n",
       "      <td> 0</td>\n",
       "      <td> 0.000000</td>\n",
       "      <td> 0.000000</td>\n",
       "      <td> 0</td>\n",
       "      <td> 0</td>\n",
       "    </tr>\n",
       "    <tr>\n",
       "      <th>54</th>\n",
       "      <td> 0</td>\n",
       "      <td> 0.000000</td>\n",
       "      <td> 0.000000</td>\n",
       "      <td> 0</td>\n",
       "      <td> 0</td>\n",
       "    </tr>\n",
       "    <tr>\n",
       "      <th>55</th>\n",
       "      <td> 0</td>\n",
       "      <td> 0.000000</td>\n",
       "      <td> 0.000000</td>\n",
       "      <td> 0</td>\n",
       "      <td> 0</td>\n",
       "    </tr>\n",
       "    <tr>\n",
       "      <th>56</th>\n",
       "      <td> 0</td>\n",
       "      <td> 0.000000</td>\n",
       "      <td> 0.000000</td>\n",
       "      <td> 0</td>\n",
       "      <td> 0</td>\n",
       "    </tr>\n",
       "    <tr>\n",
       "      <th>67</th>\n",
       "      <td> 1</td>\n",
       "      <td> 0.122733</td>\n",
       "      <td> 0.985160</td>\n",
       "      <td> 0</td>\n",
       "      <td> 0</td>\n",
       "    </tr>\n",
       "    <tr>\n",
       "      <th>68</th>\n",
       "      <td> 0</td>\n",
       "      <td> 0.000000</td>\n",
       "      <td> 0.000000</td>\n",
       "      <td> 0</td>\n",
       "      <td> 0</td>\n",
       "    </tr>\n",
       "    <tr>\n",
       "      <td></td>\n",
       "      <td></td>\n",
       "      <td>...</td>\n",
       "      <td>...</td>\n",
       "      <td>...</td>\n",
       "      <td>...</td>\n",
       "      <td>...</td>\n",
       "    </tr>\n",
       "  </tbody>\n",
       "</table>\n",
       "<p>1806 rows × 5 columns</p>\n",
       "</div>"
      ],
      "text/plain": [
       "       common  euclidean  distance  cosine  pearson\n",
       "31 49       0   0.000000  0.000000       0        0\n",
       "   50       0   0.000000  0.000000       0        0\n",
       "   51       1   1.787568  0.238356       0        0\n",
       "   52       0   0.000000  0.000000       0        0\n",
       "   53       0   0.000000  0.000000       0        0\n",
       "   54       0   0.000000  0.000000       0        0\n",
       "   55       0   0.000000  0.000000       0        0\n",
       "   56       0   0.000000  0.000000       0        0\n",
       "   67       1   0.122733  0.985160       0        0\n",
       "   68       0   0.000000  0.000000       0        0\n",
       "          ...        ...       ...     ...      ...\n",
       "\n",
       "[1806 rows x 5 columns]"
      ]
     },
     "execution_count": 95,
     "metadata": {},
     "output_type": "execute_result"
    }
   ],
   "source": [
    "df_ctr_dist2"
   ]
  },
  {
   "cell_type": "code",
   "execution_count": 114,
   "metadata": {
    "collapsed": false
   },
   "outputs": [
    {
     "data": {
      "text/plain": [
       "<matplotlib.axes._subplots.AxesSubplot at 0x7fb717975610>"
      ]
     },
     "execution_count": 114,
     "metadata": {},
     "output_type": "execute_result"
    },
    {
     "data": {
      "image/png": "[encoded data removed]",
      "text/plain": [
       "<matplotlib.figure.Figure at 0x7fb716d76ad0>"
      ]
     },
     "metadata": {},
     "output_type": "display_data"
    }
   ],
   "source": [
    "sns.set(context=\"paper\", font=\"monospace\")\n",
    "f, ax = plt.subplots(figsize=(20, 20))\n",
    "mask = df_ctr_lo3.applymap(lambda x: math.isnan(x))\n",
    "sns.heatmap(df_ctr_lo3, mask=mask)"
   ]
  },
  {
   "cell_type": "code",
   "execution_count": 176,
   "metadata": {
    "collapsed": false
   },
   "outputs": [
    {
     "data": {
      "text/plain": [
       "0.99649783871180664"
      ]
     },
     "execution_count": 176,
     "metadata": {},
     "output_type": "execute_result"
    }
   ],
   "source": [
    "df_ctr_dist2.loc['108','121']['cosine']"
   ]
  },
  {
   "cell_type": "code",
   "execution_count": 106,
   "metadata": {
    "collapsed": false
   },
   "outputs": [
    {
     "data": {
      "text/plain": [
       "0.42013084615501251"
      ]
     },
     "execution_count": 106,
     "metadata": {},
     "output_type": "execute_result"
    }
   ],
   "source": [
    "df_ctr_lo3.loc[156, '49']"
   ]
  },
  {
   "cell_type": "code",
   "execution_count": 123,
   "metadata": {
    "collapsed": true
   },
   "outputs": [],
   "source": [
    "def cal_scores(df, sm, similarity='cosine'):\n",
    "    result = pd.DataFrame(index=df.index, columns=df.columns)\n",
    "    \n",
    "    for app in df.columns:\n",
    "        for ad in df.index:\n",
    "            score = 0\n",
    "            weight = 0\n",
    "            for other in df.columns:\n",
    "                # skip when compare to itself\n",
    "                if other == app:\n",
    "                    continue\n",
    "                \n",
    "                pre = df.loc[ad, other]\n",
    "                \n",
    "                # continue if no previous score exists\n",
    "                if not math.isnan(pre):\n",
    "                    \n",
    "                    # calculated new distance weighted scores\n",
    "                    dist = sm.loc[app, other][similarity]\n",
    "                    weight += dist\n",
    "                    score += dist * df.loc[ad, other]\n",
    "                    \n",
    "            # normalize by the sum of weights\n",
    "            val = 0\n",
    "            if not weight == 0:\n",
    "                val = score / weight\n",
    "                \n",
    "            result.loc[ad, app] = val\n",
    "    \n",
    "    return result"
   ]
  },
  {
   "cell_type": "code",
   "execution_count": 120,
   "metadata": {
    "collapsed": false
   },
   "outputs": [],
   "source": [
    "app = '87'\n",
    "ad = 283\n",
    "weight = 0\n",
    "score = 0\n",
    "for other in df_ctr_lo3.columns:\n",
    "    if other == app:\n",
    "        continue\n",
    "    dist = df_ctr_dist2.loc[app, other]['cosine']\n",
    "    pre = df_ctr_lo3.loc[ad, other]\n",
    "    if not math.isnan(pre):\n",
    "        weight += dist\n",
    "        score += dist * df_ctr_lo3.loc[ad, other]"
   ]
  },
  {
   "cell_type": "code",
   "execution_count": 122,
   "metadata": {
    "collapsed": false
   },
   "outputs": [
    {
     "data": {
      "text/plain": [
       "-0.32949281985562129"
      ]
     },
     "execution_count": 122,
     "metadata": {},
     "output_type": "execute_result"
    }
   ],
   "source": [
    "weight"
   ]
  },
  {
   "cell_type": "code",
   "execution_count": 134,
   "metadata": {
    "collapsed": true
   },
   "outputs": [],
   "source": [
    "df_ctr_lo_recal = cal_scores(df=df_ctr_lo2,sm=df_ctr_dist2)"
   ]
  },
  {
   "cell_type": "code",
   "execution_count": 135,
   "metadata": {
    "collapsed": false
   },
   "outputs": [
    {
     "data": {
      "text/html": [
       "<div style=\"max-height:1000px;max-width:1500px;overflow:auto;\">\n",
       "<table border=\"1\" class=\"dataframe\">\n",
       "  <thead>\n",
       "    <tr style=\"text-align: right;\">\n",
       "      <th></th>\n",
       "      <th>31</th>\n",
       "      <th>49</th>\n",
       "      <th>50</th>\n",
       "      <th>51</th>\n",
       "      <th>52</th>\n",
       "      <th>53</th>\n",
       "      <th>54</th>\n",
       "      <th>55</th>\n",
       "      <th>56</th>\n",
       "      <th>67</th>\n",
       "      <th>68</th>\n",
       "      <th>71</th>\n",
       "      <th>72</th>\n",
       "      <th>87</th>\n",
       "      <th>89</th>\n",
       "      <th>90</th>\n",
       "      <th>91</th>\n",
       "      <th>92</th>\n",
       "      <th>93</th>\n",
       "      <th>94</th>\n",
       "      <th>95</th>\n",
       "      <th>99</th>\n",
       "      <th>108</th>\n",
       "      <th>113</th>\n",
       "      <th>115</th>\n",
       "      <th>116</th>\n",
       "      <th>117</th>\n",
       "      <th>119</th>\n",
       "      <th>120</th>\n",
       "      <th>121</th>\n",
       "      <th></th>\n",
       "    </tr>\n",
       "  </thead>\n",
       "  <tbody>\n",
       "    <tr>\n",
       "      <th>156</th>\n",
       "      <td> 0</td>\n",
       "      <td> -5.473961</td>\n",
       "      <td>-1.639362</td>\n",
       "      <td> 13.76449</td>\n",
       "      <td> 0.5515675</td>\n",
       "      <td> 0.6592183</td>\n",
       "      <td> 0.5986603</td>\n",
       "      <td> -3.296219</td>\n",
       "      <td>-0.2492817</td>\n",
       "      <td> 0.9876178</td>\n",
       "      <td>  1.735245</td>\n",
       "      <td>-3.782054</td>\n",
       "      <td> 0.1924366</td>\n",
       "      <td> 0.4086683</td>\n",
       "      <td>  0.1288724</td>\n",
       "      <td>  2.848013</td>\n",
       "      <td> 0</td>\n",
       "      <td> 0.2147563</td>\n",
       "      <td> 0.127233</td>\n",
       "      <td>  7.189545</td>\n",
       "      <td> 0</td>\n",
       "      <td>          -9</td>\n",
       "      <td> 0.8542809</td>\n",
       "      <td>  1.060551</td>\n",
       "      <td>  14.19557</td>\n",
       "      <td>  2.02359</td>\n",
       "      <td> 0.2910441</td>\n",
       "      <td>-0.1432303</td>\n",
       "      <td> 2.449633</td>\n",
       "      <td> 0.8403728</td>\n",
       "      <td>...</td>\n",
       "    </tr>\n",
       "    <tr>\n",
       "      <th>157</th>\n",
       "      <td> 0</td>\n",
       "      <td> 0.5016182</td>\n",
       "      <td>-1.536049</td>\n",
       "      <td>-7.841408</td>\n",
       "      <td>  1.501936</td>\n",
       "      <td>  1.262833</td>\n",
       "      <td> 0.1478181</td>\n",
       "      <td>-0.8386895</td>\n",
       "      <td>  2.897774</td>\n",
       "      <td>  0.167248</td>\n",
       "      <td> 0.3370049</td>\n",
       "      <td>   -1.599</td>\n",
       "      <td> -6.318817</td>\n",
       "      <td> -1.330365</td>\n",
       "      <td> -0.2837411</td>\n",
       "      <td>-0.4967454</td>\n",
       "      <td> 0</td>\n",
       "      <td> -1.307353</td>\n",
       "      <td>-0.435748</td>\n",
       "      <td>-0.7457408</td>\n",
       "      <td> 0</td>\n",
       "      <td>    2.906832</td>\n",
       "      <td> -0.308291</td>\n",
       "      <td> -1.096162</td>\n",
       "      <td>  -13.1309</td>\n",
       "      <td>-1.850552</td>\n",
       "      <td>-0.3608162</td>\n",
       "      <td>-0.3753272</td>\n",
       "      <td> 1.501332</td>\n",
       "      <td>-0.3551993</td>\n",
       "      <td>...</td>\n",
       "    </tr>\n",
       "    <tr>\n",
       "      <th>158</th>\n",
       "      <td> 0</td>\n",
       "      <td> 0.3318424</td>\n",
       "      <td> -2.49861</td>\n",
       "      <td>-1.781533</td>\n",
       "      <td>  1.773775</td>\n",
       "      <td>  1.202919</td>\n",
       "      <td>-0.4845819</td>\n",
       "      <td> 0.6234654</td>\n",
       "      <td>   3.64673</td>\n",
       "      <td>-0.3949722</td>\n",
       "      <td>  2.400824</td>\n",
       "      <td>-2.633705</td>\n",
       "      <td> -1.597776</td>\n",
       "      <td>-0.7015355</td>\n",
       "      <td> 0.07207251</td>\n",
       "      <td>  1.943466</td>\n",
       "      <td> 0</td>\n",
       "      <td>-0.1471223</td>\n",
       "      <td>-1.247903</td>\n",
       "      <td>  3.004843</td>\n",
       "      <td> 0</td>\n",
       "      <td>    3.141255</td>\n",
       "      <td> 0.8958362</td>\n",
       "      <td> 0.1400337</td>\n",
       "      <td> -4.673162</td>\n",
       "      <td> 1.127614</td>\n",
       "      <td>-0.6311426</td>\n",
       "      <td>-0.8989816</td>\n",
       "      <td> 2.235714</td>\n",
       "      <td> 0.7920484</td>\n",
       "      <td>...</td>\n",
       "    </tr>\n",
       "    <tr>\n",
       "      <th>169</th>\n",
       "      <td> 0</td>\n",
       "      <td>  132.0106</td>\n",
       "      <td>-9.425298</td>\n",
       "      <td> 2.708649</td>\n",
       "      <td> -8.217425</td>\n",
       "      <td> -6.848401</td>\n",
       "      <td> -1.584209</td>\n",
       "      <td> -5.383623</td>\n",
       "      <td> -8.966659</td>\n",
       "      <td> -6.818478</td>\n",
       "      <td> -22.45114</td>\n",
       "      <td>-329.5204</td>\n",
       "      <td>        -9</td>\n",
       "      <td> -7.964261</td>\n",
       "      <td>  -9.394365</td>\n",
       "      <td> -20.48974</td>\n",
       "      <td> 0</td>\n",
       "      <td> -17.58419</td>\n",
       "      <td>-7.895718</td>\n",
       "      <td>  112.8419</td>\n",
       "      <td> 0</td>\n",
       "      <td>-0.008614253</td>\n",
       "      <td> -8.931154</td>\n",
       "      <td> -10.17073</td>\n",
       "      <td>-0.2532452</td>\n",
       "      <td> 24.22627</td>\n",
       "      <td> -9.301728</td>\n",
       "      <td> -9.827938</td>\n",
       "      <td>       -9</td>\n",
       "      <td> -8.943419</td>\n",
       "      <td>...</td>\n",
       "    </tr>\n",
       "    <tr>\n",
       "      <th>170</th>\n",
       "      <td> 0</td>\n",
       "      <td> -10.19907</td>\n",
       "      <td>-9.101663</td>\n",
       "      <td>-17.74846</td>\n",
       "      <td> -7.059325</td>\n",
       "      <td> -6.578837</td>\n",
       "      <td> -1.617893</td>\n",
       "      <td> -8.254494</td>\n",
       "      <td> -9.997407</td>\n",
       "      <td> -3.182375</td>\n",
       "      <td>        -9</td>\n",
       "      <td> 2812.294</td>\n",
       "      <td>        -9</td>\n",
       "      <td>  18.28602</td>\n",
       "      <td>  -4.152041</td>\n",
       "      <td>        -9</td>\n",
       "      <td> 0</td>\n",
       "      <td>   1.94802</td>\n",
       "      <td> -1.24644</td>\n",
       "      <td>        -9</td>\n",
       "      <td> 0</td>\n",
       "      <td> -0.04945512</td>\n",
       "      <td> -4.642953</td>\n",
       "      <td> -5.734819</td>\n",
       "      <td>-0.3633981</td>\n",
       "      <td>       -9</td>\n",
       "      <td> -6.265095</td>\n",
       "      <td> -2.845002</td>\n",
       "      <td>       -9</td>\n",
       "      <td> -4.610108</td>\n",
       "      <td>...</td>\n",
       "    </tr>\n",
       "    <tr>\n",
       "      <th>171</th>\n",
       "      <td> 0</td>\n",
       "      <td> -5.437691</td>\n",
       "      <td>-9.206207</td>\n",
       "      <td>-5.900923</td>\n",
       "      <td> -8.497486</td>\n",
       "      <td> -7.889042</td>\n",
       "      <td> -3.839632</td>\n",
       "      <td> -5.893855</td>\n",
       "      <td> -9.011517</td>\n",
       "      <td> -7.788664</td>\n",
       "      <td> -14.34497</td>\n",
       "      <td>-120.6857</td>\n",
       "      <td>        -9</td>\n",
       "      <td> -8.480833</td>\n",
       "      <td>  -9.019807</td>\n",
       "      <td> -14.51619</td>\n",
       "      <td> 0</td>\n",
       "      <td> -10.63278</td>\n",
       "      <td>-8.270977</td>\n",
       "      <td>  152.1342</td>\n",
       "      <td> 0</td>\n",
       "      <td>   0.4252221</td>\n",
       "      <td> -8.632222</td>\n",
       "      <td> -9.554013</td>\n",
       "      <td> -5.037262</td>\n",
       "      <td>-71.31367</td>\n",
       "      <td>   -9.1021</td>\n",
       "      <td>  -9.28207</td>\n",
       "      <td>       -9</td>\n",
       "      <td> -8.639402</td>\n",
       "      <td>...</td>\n",
       "    </tr>\n",
       "    <tr>\n",
       "      <th>175</th>\n",
       "      <td> 0</td>\n",
       "      <td>         0</td>\n",
       "      <td>        0</td>\n",
       "      <td>        0</td>\n",
       "      <td>         0</td>\n",
       "      <td>         0</td>\n",
       "      <td>         0</td>\n",
       "      <td>         0</td>\n",
       "      <td>         0</td>\n",
       "      <td>         0</td>\n",
       "      <td>         0</td>\n",
       "      <td>        0</td>\n",
       "      <td>         0</td>\n",
       "      <td>         0</td>\n",
       "      <td>          0</td>\n",
       "      <td>         0</td>\n",
       "      <td> 0</td>\n",
       "      <td>         0</td>\n",
       "      <td>        0</td>\n",
       "      <td>         0</td>\n",
       "      <td> 0</td>\n",
       "      <td>           0</td>\n",
       "      <td>         0</td>\n",
       "      <td>         0</td>\n",
       "      <td>         0</td>\n",
       "      <td>        0</td>\n",
       "      <td>         0</td>\n",
       "      <td>         0</td>\n",
       "      <td>        0</td>\n",
       "      <td>         0</td>\n",
       "      <td>...</td>\n",
       "    </tr>\n",
       "    <tr>\n",
       "      <th>190</th>\n",
       "      <td> 0</td>\n",
       "      <td>  177.1012</td>\n",
       "      <td>-7.642043</td>\n",
       "      <td>-99.08728</td>\n",
       "      <td> -3.635877</td>\n",
       "      <td> -3.343379</td>\n",
       "      <td> -4.647403</td>\n",
       "      <td> -122.0636</td>\n",
       "      <td> -6.024212</td>\n",
       "      <td> -5.844834</td>\n",
       "      <td> -4.473455</td>\n",
       "      <td>-8.146714</td>\n",
       "      <td>  17.98127</td>\n",
       "      <td> -2.097003</td>\n",
       "      <td>  -4.368468</td>\n",
       "      <td> -2.281601</td>\n",
       "      <td> 0</td>\n",
       "      <td>  -3.52537</td>\n",
       "      <td> -6.39512</td>\n",
       "      <td> -2.953654</td>\n",
       "      <td> 0</td>\n",
       "      <td>           0</td>\n",
       "      <td>  -2.56309</td>\n",
       "      <td> -3.603345</td>\n",
       "      <td> -3.219525</td>\n",
       "      <td>-3.798829</td>\n",
       "      <td>   -3.9549</td>\n",
       "      <td>  -4.26685</td>\n",
       "      <td>       -9</td>\n",
       "      <td> -3.447596</td>\n",
       "      <td>...</td>\n",
       "    </tr>\n",
       "    <tr>\n",
       "      <th>191</th>\n",
       "      <td> 0</td>\n",
       "      <td> -6.177436</td>\n",
       "      <td>-7.504819</td>\n",
       "      <td>-5.482496</td>\n",
       "      <td> -2.900664</td>\n",
       "      <td> -4.741571</td>\n",
       "      <td> -4.675552</td>\n",
       "      <td>  1.263966</td>\n",
       "      <td> 0.4094989</td>\n",
       "      <td> -5.424413</td>\n",
       "      <td> -3.864106</td>\n",
       "      <td>-7.992154</td>\n",
       "      <td>  2.440991</td>\n",
       "      <td>-0.6003599</td>\n",
       "      <td>  -4.022805</td>\n",
       "      <td> -1.682881</td>\n",
       "      <td> 0</td>\n",
       "      <td> 0.5346196</td>\n",
       "      <td>-6.480633</td>\n",
       "      <td> -2.692629</td>\n",
       "      <td> 0</td>\n",
       "      <td>           0</td>\n",
       "      <td> -1.405195</td>\n",
       "      <td>  -3.09306</td>\n",
       "      <td> -18.78012</td>\n",
       "      <td>-3.103237</td>\n",
       "      <td> -4.964582</td>\n",
       "      <td> -3.810619</td>\n",
       "      <td>       -9</td>\n",
       "      <td> -2.547969</td>\n",
       "      <td>...</td>\n",
       "    </tr>\n",
       "    <tr>\n",
       "      <th>192</th>\n",
       "      <td> 0</td>\n",
       "      <td> -3.571982</td>\n",
       "      <td>       -9</td>\n",
       "      <td>-8.208174</td>\n",
       "      <td>  -6.44624</td>\n",
       "      <td>        -9</td>\n",
       "      <td> -7.714445</td>\n",
       "      <td>  10.30012</td>\n",
       "      <td>        -9</td>\n",
       "      <td>        -9</td>\n",
       "      <td> -7.079237</td>\n",
       "      <td>       -9</td>\n",
       "      <td> -4.365757</td>\n",
       "      <td> -6.694598</td>\n",
       "      <td>  -7.141855</td>\n",
       "      <td> -6.514604</td>\n",
       "      <td> 0</td>\n",
       "      <td> -6.574586</td>\n",
       "      <td>-7.074391</td>\n",
       "      <td> -7.027889</td>\n",
       "      <td> 0</td>\n",
       "      <td>           0</td>\n",
       "      <td> -6.308822</td>\n",
       "      <td> -7.008542</td>\n",
       "      <td>  2.665202</td>\n",
       "      <td>-6.223595</td>\n",
       "      <td> -7.435272</td>\n",
       "      <td> -7.955664</td>\n",
       "      <td>       -9</td>\n",
       "      <td> -6.614096</td>\n",
       "      <td>...</td>\n",
       "    </tr>\n",
       "    <tr>\n",
       "      <th></th>\n",
       "      <td>...</td>\n",
       "      <td>...</td>\n",
       "      <td>...</td>\n",
       "      <td>...</td>\n",
       "      <td>...</td>\n",
       "      <td>...</td>\n",
       "      <td>...</td>\n",
       "      <td>...</td>\n",
       "      <td>...</td>\n",
       "      <td>...</td>\n",
       "      <td>...</td>\n",
       "      <td>...</td>\n",
       "      <td>...</td>\n",
       "      <td>...</td>\n",
       "      <td>...</td>\n",
       "      <td>...</td>\n",
       "      <td>...</td>\n",
       "      <td>...</td>\n",
       "      <td>...</td>\n",
       "      <td>...</td>\n",
       "      <td>...</td>\n",
       "      <td>...</td>\n",
       "      <td>...</td>\n",
       "      <td>...</td>\n",
       "      <td>...</td>\n",
       "      <td>...</td>\n",
       "      <td>...</td>\n",
       "      <td>...</td>\n",
       "      <td>...</td>\n",
       "      <td>...</td>\n",
       "    </tr>\n",
       "  </tbody>\n",
       "</table>\n",
       "<p>126 rows × 43 columns</p>\n",
       "</div>"
      ],
      "text/plain": [
       "    31         49        50        51         52         53         54  \\\n",
       "156  0  -5.473961 -1.639362  13.76449  0.5515675  0.6592183  0.5986603   \n",
       "157  0  0.5016182 -1.536049 -7.841408   1.501936   1.262833  0.1478181   \n",
       "158  0  0.3318424  -2.49861 -1.781533   1.773775   1.202919 -0.4845819   \n",
       "169  0   132.0106 -9.425298  2.708649  -8.217425  -6.848401  -1.584209   \n",
       "170  0  -10.19907 -9.101663 -17.74846  -7.059325  -6.578837  -1.617893   \n",
       "171  0  -5.437691 -9.206207 -5.900923  -8.497486  -7.889042  -3.839632   \n",
       "175  0          0         0         0          0          0          0   \n",
       "190  0   177.1012 -7.642043 -99.08728  -3.635877  -3.343379  -4.647403   \n",
       "191  0  -6.177436 -7.504819 -5.482496  -2.900664  -4.741571  -4.675552   \n",
       "192  0  -3.571982        -9 -8.208174   -6.44624         -9  -7.714445   \n",
       "    ..        ...       ...       ...        ...        ...        ...   \n",
       "\n",
       "            55         56         67         68        71         72  \\\n",
       "156  -3.296219 -0.2492817  0.9876178   1.735245 -3.782054  0.1924366   \n",
       "157 -0.8386895   2.897774   0.167248  0.3370049    -1.599  -6.318817   \n",
       "158  0.6234654    3.64673 -0.3949722   2.400824 -2.633705  -1.597776   \n",
       "169  -5.383623  -8.966659  -6.818478  -22.45114 -329.5204         -9   \n",
       "170  -8.254494  -9.997407  -3.182375         -9  2812.294         -9   \n",
       "171  -5.893855  -9.011517  -7.788664  -14.34497 -120.6857         -9   \n",
       "175          0          0          0          0         0          0   \n",
       "190  -122.0636  -6.024212  -5.844834  -4.473455 -8.146714   17.98127   \n",
       "191   1.263966  0.4094989  -5.424413  -3.864106 -7.992154   2.440991   \n",
       "192   10.30012         -9         -9  -7.079237        -9  -4.365757   \n",
       "           ...        ...        ...        ...       ...        ...   \n",
       "\n",
       "            87          89         90 91         92        93         94 95  \\\n",
       "156  0.4086683   0.1288724   2.848013  0  0.2147563  0.127233   7.189545  0   \n",
       "157  -1.330365  -0.2837411 -0.4967454  0  -1.307353 -0.435748 -0.7457408  0   \n",
       "158 -0.7015355  0.07207251   1.943466  0 -0.1471223 -1.247903   3.004843  0   \n",
       "169  -7.964261   -9.394365  -20.48974  0  -17.58419 -7.895718   112.8419  0   \n",
       "170   18.28602   -4.152041         -9  0    1.94802  -1.24644         -9  0   \n",
       "171  -8.480833   -9.019807  -14.51619  0  -10.63278 -8.270977   152.1342  0   \n",
       "175          0           0          0  0          0         0          0  0   \n",
       "190  -2.097003   -4.368468  -2.281601  0   -3.52537  -6.39512  -2.953654  0   \n",
       "191 -0.6003599   -4.022805  -1.682881  0  0.5346196 -6.480633  -2.692629  0   \n",
       "192  -6.694598   -7.141855  -6.514604  0  -6.574586 -7.074391  -7.027889  0   \n",
       "           ...         ...        ... ..        ...       ...        ... ..   \n",
       "\n",
       "              99        108        113        115       116        117  \\\n",
       "156           -9  0.8542809   1.060551   14.19557   2.02359  0.2910441   \n",
       "157     2.906832  -0.308291  -1.096162   -13.1309 -1.850552 -0.3608162   \n",
       "158     3.141255  0.8958362  0.1400337  -4.673162  1.127614 -0.6311426   \n",
       "169 -0.008614253  -8.931154  -10.17073 -0.2532452  24.22627  -9.301728   \n",
       "170  -0.04945512  -4.642953  -5.734819 -0.3633981        -9  -6.265095   \n",
       "171    0.4252221  -8.632222  -9.554013  -5.037262 -71.31367    -9.1021   \n",
       "175            0          0          0          0         0          0   \n",
       "190            0   -2.56309  -3.603345  -3.219525 -3.798829    -3.9549   \n",
       "191            0  -1.405195   -3.09306  -18.78012 -3.103237  -4.964582   \n",
       "192            0  -6.308822  -7.008542   2.665202 -6.223595  -7.435272   \n",
       "             ...        ...        ...        ...       ...        ...   \n",
       "\n",
       "           119       120        121      \n",
       "156 -0.1432303  2.449633  0.8403728 ...  \n",
       "157 -0.3753272  1.501332 -0.3551993 ...  \n",
       "158 -0.8989816  2.235714  0.7920484 ...  \n",
       "169  -9.827938        -9  -8.943419 ...  \n",
       "170  -2.845002        -9  -4.610108 ...  \n",
       "171   -9.28207        -9  -8.639402 ...  \n",
       "175          0         0          0 ...  \n",
       "190   -4.26685        -9  -3.447596 ...  \n",
       "191  -3.810619        -9  -2.547969 ...  \n",
       "192  -7.955664        -9  -6.614096 ...  \n",
       "           ...       ...        ...      \n",
       "\n",
       "[126 rows x 43 columns]"
      ]
     },
     "execution_count": 135,
     "metadata": {},
     "output_type": "execute_result"
    }
   ],
   "source": [
    "df_ctr_lo_recal"
   ]
  },
  {
   "cell_type": "code",
   "execution_count": 136,
   "metadata": {
    "collapsed": true
   },
   "outputs": [],
   "source": [
    "df_ctr_lo_recal2 = df_ctr_lo_recal.applymap(lambda x: min(x, 10))\n",
    "df_ctr_lo_recal2 = df_ctr_lo_recal2.applymap(lambda x: max(x, -10))"
   ]
  },
  {
   "cell_type": "code",
   "execution_count": 141,
   "metadata": {
    "collapsed": false
   },
   "outputs": [],
   "source": [
    "df_new = [item for sublist in df_ctr_lo_recal.values for item in sublist]"
   ]
  },
  {
   "cell_type": "code",
   "execution_count": 142,
   "metadata": {
    "collapsed": true
   },
   "outputs": [],
   "source": [
    "df_new2 = [item for sublist in df_ctr_lo_recal2.values for item in sublist]"
   ]
  },
  {
   "cell_type": "code",
   "execution_count": 138,
   "metadata": {
    "collapsed": true
   },
   "outputs": [],
   "source": [
    "df_old = [item for sublist in df_ctr_lo2.values for item in sublist]"
   ]
  },
  {
   "cell_type": "code",
   "execution_count": 166,
   "metadata": {
    "collapsed": false
   },
   "outputs": [
    {
     "data": {
      "text/plain": [
       "<matplotlib.collections.PathCollection at 0x7fb7171bb290>"
      ]
     },
     "execution_count": 166,
     "metadata": {},
     "output_type": "execute_result"
    },
    {
     "data": {
      "image/png": "[encoded data removed]",
      "text/plain": [
       "<matplotlib.figure.Figure at 0x7fb717092810>"
      ]
     },
     "metadata": {},
     "output_type": "display_data"
    }
   ],
   "source": [
    "bol = [not math.isnan(x) for x in df_old]\n",
    "fig = plt.figure(figsize=(6, 6))\n",
    "ax = fig.add_subplot(1,1,1)\n",
    "ax.scatter(list(compress(df_old, bol)),list(compress(df_new2, bol)))"
   ]
  },
  {
   "cell_type": "markdown",
   "metadata": {},
   "source": [
    "Accuracy without considering the absolute value?"
   ]
  },
  {
   "cell_type": "code",
   "execution_count": 232,
   "metadata": {
    "collapsed": false
   },
   "outputs": [
    {
     "data": {
      "text/plain": [
       "0.7423352902804957"
      ]
     },
     "execution_count": 232,
     "metadata": {},
     "output_type": "execute_result"
    }
   ],
   "source": [
    "d1 = [x > 0 for x in list(compress(df_old, bol))]\n",
    "d2 = [x > 0 for x in list(compress(df_new2, bol))]\n",
    "float(sum([d1[i] == d2[i] for i in range(len(d1))]))/len(d1)"
   ]
  },
  {
   "cell_type": "code",
   "execution_count": 235,
   "metadata": {
    "collapsed": true
   },
   "outputs": [],
   "source": [
    "def error_analysis(predict, reality):\n",
    "    accuracy = float(sum([predict[i] == reality[i] for i in range(len(predict))]))/len(reality) * 100\n",
    "    precision = float(sum([reality[i] and predict[i] == reality[i] for i in range(len(predict))]))/sum(predict) * 100\n",
    "    recall = float(sum([reality[i] and predict[i] == reality[i] for i in range(len(predict))]))/sum(reality) * 100\n",
    "    f1score = 2*precision*recall/(precision + recall)/100\n",
    "    print 'accuracy:%.2f\\nprecision:%.2f\\nrecall:%.2f\\nF1 score:%.2f' % (accuracy, precision, recall, f1score)"
   ]
  },
  {
   "cell_type": "code",
   "execution_count": 238,
   "metadata": {
    "collapsed": false
   },
   "outputs": [
    {
     "name": "stdout",
     "output_type": "stream",
     "text": [
      "accuracy:74.23\n",
      "precision:48.02\n",
      "recall:25.06\n",
      "F1 score:0.33\n"
     ]
    }
   ],
   "source": [
    "error_analysis(d2, d1)"
   ]
  },
  {
   "cell_type": "code",
   "execution_count": 165,
   "metadata": {
    "collapsed": false
   },
   "outputs": [
    {
     "data": {
      "text/plain": [
       "1533"
      ]
     },
     "execution_count": 165,
     "metadata": {},
     "output_type": "execute_result"
    }
   ],
   "source": [
    "bol = [not math.isnan(x) for x in df_old]\n",
    "len(list(compress(df_old, bol)))"
   ]
  },
  {
   "cell_type": "code",
   "execution_count": 151,
   "metadata": {
    "collapsed": false
   },
   "outputs": [
    {
     "data": {
      "text/plain": [
       "5418"
      ]
     },
     "execution_count": 151,
     "metadata": {},
     "output_type": "execute_result"
    }
   ],
   "source": [
    "len(df_old)"
   ]
  },
  {
   "cell_type": "markdown",
   "metadata": {},
   "source": [
    "What is I use the full list to calculate the distance?"
   ]
  },
  {
   "cell_type": "code",
   "execution_count": 167,
   "metadata": {
    "collapsed": true
   },
   "outputs": [],
   "source": [
    "df_ctr_dist_new = cal_distances(df_ctr_lo2)"
   ]
  },
  {
   "cell_type": "code",
   "execution_count": 168,
   "metadata": {
    "collapsed": true
   },
   "outputs": [],
   "source": [
    "df_ctr_dist_new2 = df_ctr_dist_new[['common','euclidean','distance','cosine','pearson']]\n",
    "df_ctr_dist_new2.index = pd.MultiIndex.from_arrays(df_ctr_dist_new[['app1','app2']].values.T)"
   ]
  },
  {
   "cell_type": "code",
   "execution_count": 169,
   "metadata": {
    "collapsed": true
   },
   "outputs": [],
   "source": [
    "df_ctr_lo_recal_new = cal_scores(df=df_ctr_lo2,sm=df_ctr_dist_new2)"
   ]
  },
  {
   "cell_type": "code",
   "execution_count": 170,
   "metadata": {
    "collapsed": true
   },
   "outputs": [],
   "source": [
    "df_ctr_lo_recal_new2 = df_ctr_lo_recal_new.applymap(lambda x: min(x, 10))\n",
    "df_ctr_lo_recal_new2 = df_ctr_lo_recal_new2.applymap(lambda x: max(x, -10))"
   ]
  },
  {
   "cell_type": "code",
   "execution_count": 239,
   "metadata": {
    "collapsed": false
   },
   "outputs": [
    {
     "data": {
      "text/plain": [
       "<matplotlib.collections.PathCollection at 0x7fb718cd2310>"
      ]
     },
     "execution_count": 239,
     "metadata": {},
     "output_type": "execute_result"
    },
    {
     "data": {
      "image/png": "[encoded data removed]",
      "text/plain": [
       "<matplotlib.figure.Figure at 0x7fb718caf910>"
      ]
     },
     "metadata": {},
     "output_type": "display_data"
    }
   ],
   "source": [
    "new = [item for sublist in df_ctr_lo_recal_new2.values for item in sublist]\n",
    "old = [item for sublist in df_ctr_lo2.values for item in sublist]\n",
    "bol = [not math.isnan(x) for x in old]\n",
    "fig = plt.figure(figsize=(6, 6))\n",
    "ax = fig.add_subplot(1,1,1)\n",
    "ax.scatter(list(compress(old, bol)),list(compress(new, bol)))"
   ]
  },
  {
   "cell_type": "code",
   "execution_count": 240,
   "metadata": {
    "collapsed": false
   },
   "outputs": [
    {
     "name": "stdout",
     "output_type": "stream",
     "text": [
      "accuracy:75.28\n",
      "precision:59.52\n",
      "recall:6.46\n",
      "F1 score:0.12\n"
     ]
    }
   ],
   "source": [
    "d1 = [x > 0 for x in list(compress(old, bol))]\n",
    "d2 = [x > 0 for x in list(compress(new, bol))]\n",
    "error_analysis(d2, d1)"
   ]
  },
  {
   "cell_type": "markdown",
   "metadata": {},
   "source": [
    "Well the precision and recall are not very high..."
   ]
  },
  {
   "cell_type": "code",
   "execution_count": 172,
   "metadata": {
    "collapsed": false
   },
   "outputs": [
    {
     "data": {
      "text/plain": [
       "0.27514538439920977"
      ]
     },
     "execution_count": 172,
     "metadata": {},
     "output_type": "execute_result"
    }
   ],
   "source": [
    "sim_pearson(pd.Series(old), pd.Series(new))"
   ]
  },
  {
   "cell_type": "code",
   "execution_count": 173,
   "metadata": {
    "collapsed": false
   },
   "outputs": [
    {
     "data": {
      "text/plain": [
       "0.23789806019485635"
      ]
     },
     "execution_count": 173,
     "metadata": {},
     "output_type": "execute_result"
    }
   ],
   "source": [
    "sim_pearson(pd.Series(df_old), pd.Series(df_new2))"
   ]
  },
  {
   "cell_type": "code",
   "execution_count": 174,
   "metadata": {
    "collapsed": false
   },
   "outputs": [
    {
     "data": {
      "text/plain": [
       "0.27514538439920977"
      ]
     },
     "execution_count": 174,
     "metadata": {},
     "output_type": "execute_result"
    }
   ],
   "source": [
    "sim_pearson(pd.Series(list(compress(old, bol))), pd.Series(list(compress(new, bol))))"
   ]
  },
  {
   "cell_type": "markdown",
   "metadata": {},
   "source": [
    "Pearson correlation ~0.3\n",
    "\n",
    "Maybe I shouldn't hope the new scores to be correlated very well with the old scores..."
   ]
  },
  {
   "cell_type": "code",
   "execution_count": 188,
   "metadata": {
    "collapsed": false
   },
   "outputs": [
    {
     "data": {
      "text/plain": [
       "156    0.420131\n",
       "157   -0.269832\n",
       "Name: 49, dtype: float64"
      ]
     },
     "execution_count": 188,
     "metadata": {},
     "output_type": "execute_result"
    }
   ],
   "source": [
    "df_ctr_lo2['49'][[156,157]]"
   ]
  },
  {
   "cell_type": "code",
   "execution_count": 246,
   "metadata": {
    "collapsed": false
   },
   "outputs": [
    {
     "data": {
      "text/plain": [
       "156     0.192437\n",
       "190    10.000000\n",
       "191     2.440991\n",
       "...\n",
       "315    0.681553\n",
       "336    0.726989\n",
       "337    0.951156\n",
       "Name: 72, Length: 16, dtype: float64"
      ]
     },
     "execution_count": 246,
     "metadata": {},
     "output_type": "execute_result"
    }
   ],
   "source": [
    "inds = []\n",
    "for i in df_ctr_lo2.index:\n",
    "    if math.isnan(df_ctr_lo2['72'][i]):\n",
    "        inds.append(i)\n",
    "newd = df_ctr_lo_recal2['72'][inds]\n",
    "newd[newd > 0]\n",
    "#sum(newd > 0)"
   ]
  },
  {
   "cell_type": "code",
   "execution_count": 216,
   "metadata": {
    "collapsed": true
   },
   "outputs": [],
   "source": [
    "def ads_recommendation(df_old, df_new, app):\n",
    "    \n",
    "    #separate indices without record in the old file\n",
    "    indList = []\n",
    "    for i in df_old.index:\n",
    "        if math.isnan(df_old[app][i]):\n",
    "            indList.append(i)\n",
    "    \n",
    "    #extract the predicted scores\n",
    "    new = df_new[app][indList]\n",
    "    return new[new > 0]"
   ]
  },
  {
   "cell_type": "code",
   "execution_count": 252,
   "metadata": {
    "collapsed": false
   },
   "outputs": [
    {
     "data": {
      "text/plain": [
       "3.127448612495904"
      ]
     },
     "execution_count": 252,
     "metadata": {},
     "output_type": "execute_result"
    }
   ],
   "source": [
    "ads_recommendation(df_old=df_ctr_lo2,df_new=df_ctr_lo_recal2,app='72')[222]"
   ]
  },
  {
   "cell_type": "code",
   "execution_count": 244,
   "metadata": {
    "collapsed": false
   },
   "outputs": [
    {
     "name": "stdout",
     "output_type": "stream",
     "text": [
      "67:  [222 243 281 282 283 335 336 337]\n"
     ]
    }
   ],
   "source": [
    "print '67: ', ads_recommendation(df_old=df_ctr_lo2,df_new=df_ctr_lo_recal2,app='67').index.values"
   ]
  },
  {
   "cell_type": "code",
   "execution_count": 245,
   "metadata": {
    "collapsed": false
   },
   "outputs": [
    {
     "name": "stdout",
     "output_type": "stream",
     "text": [
      "31 []\n",
      "49 [190 216 243 265 267 268 269 271 278 279 281 282 283 284 295 302 303 304\n",
      " 330 331 344 346]\n",
      "50 [281 282 283 304 331 344]\n",
      "51 [169 213 214 215 220 232 265 267 271 281 282 283 284 293 294 302 304 319\n",
      " 327 331 344 350]\n",
      "52 [236 238 241 243 281 282 283 295 302 303 304 305 331 335 344]\n",
      "53 [236 238 265 267 271 281 282 283 284 295 302 303 304 305 331 344]\n",
      "54 [228 229 241 282 302 304 331 344]\n",
      "55 [191 192 216 227 237 238 239 240 241 242 279 281 282 283 284 285 288 290\n",
      " 295 305 314 331 344 346]\n",
      "56 [191 227 236 238 265 266 267 270 271 278 281 282 283 295 303 304 305 331]\n",
      "67 [222 243 281 282 283 335 336 337]\n",
      "68 [262 263 283 295 304 332 344]\n",
      "71 [170 245 294 319 331]\n",
      "72 [156 190 191 220 221 222 237 240 243 282 284 285 307 315 336 337]\n",
      "87 [281 331]\n",
      "89 [249 262 281 283 331 335]\n",
      "90 [228 229 238 241 243 256 262 275 281 282 283 290 331 332 353]\n",
      "91 []\n",
      "92 [170 243 281 283 331 332]\n",
      "93 [263 281 283 331 335]\n",
      "94 [169 171 228 229 241 243 246 257 273 281 282 283 290 331 332]\n",
      "95 []\n",
      "99 [157 158 171 213 214 215 331 335 336 337 350 353]\n",
      "108 [231 236 238 241 243 281 283 284 295 302 303 304 305 331 337 344]\n",
      "113 [241 243 263 281 282 283 331 335]\n",
      "115 [245 272 276 281 282 283 331 353]\n",
      "116 [169 262 333]\n",
      "117 [281 283 331]\n",
      "119 [231 262 281 282 283 331 336 337 344]\n",
      "120 [156 221 222 230 258 275 281 283 284 294 306 309 310 314 330 349 350]\n",
      "121 [231 238 241 243 281 283 295 302 303 304 305 331 336 337 344]\n",
      "122 [222 231 263 295 303 304 331 341 344 353]\n",
      "125 [157 214 220 222 229 230 258 284 294 295 302 303 304 305 318 319 342 343\n",
      " 344 349 350]\n",
      "130 []\n",
      "131 []\n",
      "132 [245 246 282 333]\n",
      "133 []\n",
      "134 []\n",
      "137 [327 333 334 349 350]\n",
      "139 [156 220 222 230 245 303]\n",
      "140 []\n",
      "141 []\n",
      "142 [245 246 333]\n",
      "145 []\n"
     ]
    }
   ],
   "source": [
    "for app in df_ctr_lo2.columns:\n",
    "    print app, ads_recommendation(df_old=df_ctr_lo2,df_new=df_ctr_lo_recal2,app=app).index.values"
   ]
  },
  {
   "cell_type": "code",
   "execution_count": 258,
   "metadata": {
    "collapsed": false
   },
   "outputs": [],
   "source": [
    "columns = [31,49,50,51,52,53,54,55,56,67,68,71,72,87,89,90,91,92,\n",
    "           93,94,95,99,108,113,115,116,117,119,120,121,122,125,130,131,132,133,\n",
    "           134,137,139,140,141,142,145]\n",
    "index = [156, 157, 158, 169, 170, 171, 175, 190, 191, 192, 203, 204,\n",
    "         205, 213, 214, 215, 216, 217, 218, 220, 221, 222, 225, 226, 227,\n",
    "         228, 229, 230, 231, 232, 236, 237, 238, 239, 240, 241, 242, 243,\n",
    "         245, 246, 248, 249, 250, 254, 256, 257, 258, 259, 261, 262, 263,\n",
    "         264, 265, 266, 267, 268, 269, 270, 271, 272, 273, 274, 275, 276,\n",
    "         277, 278, 279, 281, 282, 283, 284, 285, 286, 287, 288, 289, 290,\n",
    "         292, 293, 294, 295, 296, 297, 298, 299, 300, 301, 302, 303, 304,\n",
    "         305, 306, 307, 308, 309, 310, 311, 312, 313, 314, 315, 318, 319,\n",
    "         324, 327, 328, 329, 330, 331, 332, 333, 334, 335, 336, 337, 338,\n",
    "         339, 340, 341, 342, 343, 344, 346, 349, 350, 353]\n",
    "df_android_m5 = pd.DataFrame(index=index, columns=columns)\n",
    "df_android_m5 = df_android_m5.fillna(0)\n",
    "df_ios_m5 = pd.DataFrame(index=index, columns=columns)\n",
    "df_ios_m5 = df_ios_m5.fillna(0)\n",
    "for col in columns:\n",
    "    for ind in index:\n",
    "        df_android_m5.loc[ind,col] = es.count(index=\"events-2015.05.*\", body={'query': {'bool': {'must':[{'match': { 'ai' : col }}, {'match': { 'cr' : ind }}, {'match': { 'plfm' : 'android' }}], 'must_not':[{'match': { 'fr' : 'true' }}]}}})['count']\n",
    "        df_ios_m5.loc[ind,col] = es.count(index=\"events-2015.05.*\", body={'query': {'bool': {'must':[{'match': { 'ai' : col }}, {'match': { 'cr' : ind }}, {'match': { 'plfm' : 'ios' }}], 'must_not':[{'match': { 'fr' : 'true' }}]}}})['count']        "
   ]
  },
  {
   "cell_type": "code",
   "execution_count": 259,
   "metadata": {
    "collapsed": false
   },
   "outputs": [],
   "source": [
    "df_android_m5.to_csv(\"../data/df_android_count_m5_150622.tab\",sep='\\t')\n",
    "df_ios_m5.to_csv(\"../data/df_ios_count_m5_150622.tab\",sep='\\t')"
   ]
  },
  {
   "cell_type": "code",
   "execution_count": 260,
   "metadata": {
    "collapsed": false
   },
   "outputs": [
    {
     "data": {
      "text/html": [
       "<div style=\"max-height:1000px;max-width:1500px;overflow:auto;\">\n",
       "<table border=\"1\" class=\"dataframe\">\n",
       "  <thead>\n",
       "    <tr style=\"text-align: right;\">\n",
       "      <th></th>\n",
       "      <th>31</th>\n",
       "      <th>49</th>\n",
       "      <th>50</th>\n",
       "      <th>51</th>\n",
       "      <th>52</th>\n",
       "      <th>53</th>\n",
       "      <th>54</th>\n",
       "      <th>55</th>\n",
       "      <th>56</th>\n",
       "      <th>67</th>\n",
       "      <th>68</th>\n",
       "      <th>71</th>\n",
       "      <th>72</th>\n",
       "      <th>87</th>\n",
       "      <th>89</th>\n",
       "      <th>90</th>\n",
       "      <th>91</th>\n",
       "      <th>92</th>\n",
       "      <th>93</th>\n",
       "      <th>94</th>\n",
       "      <th>95</th>\n",
       "      <th>99</th>\n",
       "      <th>108</th>\n",
       "      <th>113</th>\n",
       "      <th>115</th>\n",
       "      <th>116</th>\n",
       "      <th>117</th>\n",
       "      <th>119</th>\n",
       "      <th>120</th>\n",
       "      <th>121</th>\n",
       "      <th></th>\n",
       "    </tr>\n",
       "  </thead>\n",
       "  <tbody>\n",
       "    <tr>\n",
       "      <th>156</th>\n",
       "      <td> 0</td>\n",
       "      <td> 0</td>\n",
       "      <td> 0</td>\n",
       "      <td> 0</td>\n",
       "      <td> 0</td>\n",
       "      <td> 0</td>\n",
       "      <td> 0</td>\n",
       "      <td> 0</td>\n",
       "      <td> 0</td>\n",
       "      <td>   153</td>\n",
       "      <td> 0</td>\n",
       "      <td> 0</td>\n",
       "      <td> 0</td>\n",
       "      <td> 11947</td>\n",
       "      <td>  883</td>\n",
       "      <td> 60</td>\n",
       "      <td> 4</td>\n",
       "      <td> 383</td>\n",
       "      <td> 21190</td>\n",
       "      <td> 203</td>\n",
       "      <td> 0</td>\n",
       "      <td> 0</td>\n",
       "      <td> 5611</td>\n",
       "      <td> 245</td>\n",
       "      <td> 1273</td>\n",
       "      <td> 4183</td>\n",
       "      <td> 1332</td>\n",
       "      <td> 1084</td>\n",
       "      <td> 4</td>\n",
       "      <td> 5814</td>\n",
       "      <td>...</td>\n",
       "    </tr>\n",
       "    <tr>\n",
       "      <th>157</th>\n",
       "      <td> 0</td>\n",
       "      <td> 0</td>\n",
       "      <td> 0</td>\n",
       "      <td> 0</td>\n",
       "      <td> 0</td>\n",
       "      <td> 0</td>\n",
       "      <td> 0</td>\n",
       "      <td> 0</td>\n",
       "      <td> 0</td>\n",
       "      <td>   143</td>\n",
       "      <td> 0</td>\n",
       "      <td> 0</td>\n",
       "      <td> 0</td>\n",
       "      <td> 12083</td>\n",
       "      <td>  948</td>\n",
       "      <td> 60</td>\n",
       "      <td> 4</td>\n",
       "      <td> 430</td>\n",
       "      <td> 21510</td>\n",
       "      <td> 190</td>\n",
       "      <td> 0</td>\n",
       "      <td> 0</td>\n",
       "      <td> 5379</td>\n",
       "      <td> 214</td>\n",
       "      <td> 1266</td>\n",
       "      <td> 4278</td>\n",
       "      <td> 1129</td>\n",
       "      <td> 1082</td>\n",
       "      <td> 6</td>\n",
       "      <td> 5620</td>\n",
       "      <td>...</td>\n",
       "    </tr>\n",
       "    <tr>\n",
       "      <th>158</th>\n",
       "      <td> 0</td>\n",
       "      <td> 0</td>\n",
       "      <td> 0</td>\n",
       "      <td> 0</td>\n",
       "      <td> 0</td>\n",
       "      <td> 0</td>\n",
       "      <td> 0</td>\n",
       "      <td> 0</td>\n",
       "      <td> 0</td>\n",
       "      <td>   142</td>\n",
       "      <td> 0</td>\n",
       "      <td> 0</td>\n",
       "      <td> 6</td>\n",
       "      <td> 12202</td>\n",
       "      <td> 1009</td>\n",
       "      <td> 56</td>\n",
       "      <td> 0</td>\n",
       "      <td> 377</td>\n",
       "      <td> 21120</td>\n",
       "      <td> 201</td>\n",
       "      <td> 0</td>\n",
       "      <td> 0</td>\n",
       "      <td> 5373</td>\n",
       "      <td> 204</td>\n",
       "      <td> 1278</td>\n",
       "      <td> 4150</td>\n",
       "      <td> 1264</td>\n",
       "      <td> 1037</td>\n",
       "      <td> 7</td>\n",
       "      <td> 5833</td>\n",
       "      <td>...</td>\n",
       "    </tr>\n",
       "    <tr>\n",
       "      <th>169</th>\n",
       "      <td> 0</td>\n",
       "      <td> 0</td>\n",
       "      <td> 0</td>\n",
       "      <td> 0</td>\n",
       "      <td> 0</td>\n",
       "      <td> 0</td>\n",
       "      <td> 0</td>\n",
       "      <td> 0</td>\n",
       "      <td> 0</td>\n",
       "      <td>     0</td>\n",
       "      <td> 0</td>\n",
       "      <td> 0</td>\n",
       "      <td> 0</td>\n",
       "      <td>     0</td>\n",
       "      <td>    0</td>\n",
       "      <td>  0</td>\n",
       "      <td> 0</td>\n",
       "      <td>   0</td>\n",
       "      <td>     0</td>\n",
       "      <td>   0</td>\n",
       "      <td> 0</td>\n",
       "      <td> 0</td>\n",
       "      <td>    0</td>\n",
       "      <td>   0</td>\n",
       "      <td>    0</td>\n",
       "      <td>    0</td>\n",
       "      <td>    0</td>\n",
       "      <td>    0</td>\n",
       "      <td> 0</td>\n",
       "      <td>    0</td>\n",
       "      <td>...</td>\n",
       "    </tr>\n",
       "    <tr>\n",
       "      <th>170</th>\n",
       "      <td> 0</td>\n",
       "      <td> 0</td>\n",
       "      <td> 0</td>\n",
       "      <td> 0</td>\n",
       "      <td> 0</td>\n",
       "      <td> 0</td>\n",
       "      <td> 0</td>\n",
       "      <td> 0</td>\n",
       "      <td> 0</td>\n",
       "      <td>     0</td>\n",
       "      <td> 0</td>\n",
       "      <td> 0</td>\n",
       "      <td> 0</td>\n",
       "      <td>     0</td>\n",
       "      <td>    0</td>\n",
       "      <td>  0</td>\n",
       "      <td> 0</td>\n",
       "      <td>   0</td>\n",
       "      <td>     0</td>\n",
       "      <td>   0</td>\n",
       "      <td> 0</td>\n",
       "      <td> 0</td>\n",
       "      <td>    0</td>\n",
       "      <td>   0</td>\n",
       "      <td>    0</td>\n",
       "      <td>    0</td>\n",
       "      <td>    0</td>\n",
       "      <td>    0</td>\n",
       "      <td> 0</td>\n",
       "      <td>    0</td>\n",
       "      <td>...</td>\n",
       "    </tr>\n",
       "    <tr>\n",
       "      <th>171</th>\n",
       "      <td> 0</td>\n",
       "      <td> 0</td>\n",
       "      <td> 0</td>\n",
       "      <td> 0</td>\n",
       "      <td> 0</td>\n",
       "      <td> 0</td>\n",
       "      <td> 0</td>\n",
       "      <td> 0</td>\n",
       "      <td> 0</td>\n",
       "      <td>     0</td>\n",
       "      <td> 0</td>\n",
       "      <td> 0</td>\n",
       "      <td> 0</td>\n",
       "      <td>     0</td>\n",
       "      <td>    0</td>\n",
       "      <td>  0</td>\n",
       "      <td> 0</td>\n",
       "      <td>   0</td>\n",
       "      <td>     0</td>\n",
       "      <td>   0</td>\n",
       "      <td> 0</td>\n",
       "      <td> 0</td>\n",
       "      <td>    0</td>\n",
       "      <td>   0</td>\n",
       "      <td>    0</td>\n",
       "      <td>    0</td>\n",
       "      <td>    0</td>\n",
       "      <td>    0</td>\n",
       "      <td> 0</td>\n",
       "      <td>    0</td>\n",
       "      <td>...</td>\n",
       "    </tr>\n",
       "    <tr>\n",
       "      <th>175</th>\n",
       "      <td> 0</td>\n",
       "      <td> 0</td>\n",
       "      <td> 0</td>\n",
       "      <td> 0</td>\n",
       "      <td> 0</td>\n",
       "      <td> 0</td>\n",
       "      <td> 0</td>\n",
       "      <td> 0</td>\n",
       "      <td> 0</td>\n",
       "      <td>     0</td>\n",
       "      <td> 0</td>\n",
       "      <td> 0</td>\n",
       "      <td> 0</td>\n",
       "      <td>     0</td>\n",
       "      <td>    0</td>\n",
       "      <td>  0</td>\n",
       "      <td> 0</td>\n",
       "      <td>   0</td>\n",
       "      <td>     0</td>\n",
       "      <td>   0</td>\n",
       "      <td> 0</td>\n",
       "      <td> 0</td>\n",
       "      <td>    0</td>\n",
       "      <td>   0</td>\n",
       "      <td>    0</td>\n",
       "      <td>    0</td>\n",
       "      <td>    0</td>\n",
       "      <td>    0</td>\n",
       "      <td> 0</td>\n",
       "      <td>    0</td>\n",
       "      <td>...</td>\n",
       "    </tr>\n",
       "    <tr>\n",
       "      <th>190</th>\n",
       "      <td> 0</td>\n",
       "      <td> 0</td>\n",
       "      <td> 0</td>\n",
       "      <td> 0</td>\n",
       "      <td> 0</td>\n",
       "      <td> 0</td>\n",
       "      <td> 0</td>\n",
       "      <td> 0</td>\n",
       "      <td> 0</td>\n",
       "      <td> 39260</td>\n",
       "      <td> 0</td>\n",
       "      <td> 0</td>\n",
       "      <td> 0</td>\n",
       "      <td>    57</td>\n",
       "      <td>    0</td>\n",
       "      <td>  0</td>\n",
       "      <td> 0</td>\n",
       "      <td>   0</td>\n",
       "      <td>   226</td>\n",
       "      <td>   0</td>\n",
       "      <td> 0</td>\n",
       "      <td> 0</td>\n",
       "      <td>    0</td>\n",
       "      <td>   0</td>\n",
       "      <td>   27</td>\n",
       "      <td>    0</td>\n",
       "      <td>    0</td>\n",
       "      <td>    0</td>\n",
       "      <td> 0</td>\n",
       "      <td>    0</td>\n",
       "      <td>...</td>\n",
       "    </tr>\n",
       "    <tr>\n",
       "      <th>191</th>\n",
       "      <td> 0</td>\n",
       "      <td> 0</td>\n",
       "      <td> 0</td>\n",
       "      <td> 0</td>\n",
       "      <td> 0</td>\n",
       "      <td> 0</td>\n",
       "      <td> 0</td>\n",
       "      <td> 0</td>\n",
       "      <td> 0</td>\n",
       "      <td> 39144</td>\n",
       "      <td> 0</td>\n",
       "      <td> 0</td>\n",
       "      <td> 0</td>\n",
       "      <td>   115</td>\n",
       "      <td>    0</td>\n",
       "      <td>  0</td>\n",
       "      <td> 0</td>\n",
       "      <td>   0</td>\n",
       "      <td>   237</td>\n",
       "      <td>   0</td>\n",
       "      <td> 0</td>\n",
       "      <td> 0</td>\n",
       "      <td>    0</td>\n",
       "      <td>   0</td>\n",
       "      <td>   14</td>\n",
       "      <td>    0</td>\n",
       "      <td>    0</td>\n",
       "      <td>    0</td>\n",
       "      <td> 0</td>\n",
       "      <td>    0</td>\n",
       "      <td>...</td>\n",
       "    </tr>\n",
       "    <tr>\n",
       "      <th>192</th>\n",
       "      <td> 0</td>\n",
       "      <td> 0</td>\n",
       "      <td> 0</td>\n",
       "      <td> 0</td>\n",
       "      <td> 0</td>\n",
       "      <td> 0</td>\n",
       "      <td> 0</td>\n",
       "      <td> 0</td>\n",
       "      <td> 0</td>\n",
       "      <td> 39300</td>\n",
       "      <td> 0</td>\n",
       "      <td> 0</td>\n",
       "      <td> 0</td>\n",
       "      <td>    77</td>\n",
       "      <td>    0</td>\n",
       "      <td>  0</td>\n",
       "      <td> 0</td>\n",
       "      <td>   0</td>\n",
       "      <td>   250</td>\n",
       "      <td>   0</td>\n",
       "      <td> 0</td>\n",
       "      <td> 0</td>\n",
       "      <td>    0</td>\n",
       "      <td>   0</td>\n",
       "      <td>   18</td>\n",
       "      <td>    0</td>\n",
       "      <td>    0</td>\n",
       "      <td>    0</td>\n",
       "      <td> 0</td>\n",
       "      <td>    0</td>\n",
       "      <td>...</td>\n",
       "    </tr>\n",
       "    <tr>\n",
       "      <th></th>\n",
       "      <td>...</td>\n",
       "      <td>...</td>\n",
       "      <td>...</td>\n",
       "      <td>...</td>\n",
       "      <td>...</td>\n",
       "      <td>...</td>\n",
       "      <td>...</td>\n",
       "      <td>...</td>\n",
       "      <td>...</td>\n",
       "      <td>...</td>\n",
       "      <td>...</td>\n",
       "      <td>...</td>\n",
       "      <td>...</td>\n",
       "      <td>...</td>\n",
       "      <td>...</td>\n",
       "      <td>...</td>\n",
       "      <td>...</td>\n",
       "      <td>...</td>\n",
       "      <td>...</td>\n",
       "      <td>...</td>\n",
       "      <td>...</td>\n",
       "      <td>...</td>\n",
       "      <td>...</td>\n",
       "      <td>...</td>\n",
       "      <td>...</td>\n",
       "      <td>...</td>\n",
       "      <td>...</td>\n",
       "      <td>...</td>\n",
       "      <td>...</td>\n",
       "      <td>...</td>\n",
       "    </tr>\n",
       "  </tbody>\n",
       "</table>\n",
       "<p>126 rows × 43 columns</p>\n",
       "</div>"
      ],
      "text/plain": [
       "     31   49   50   51   52   53   54   55   56     67   68   71   72     87   \\\n",
       "156    0    0    0    0    0    0    0    0    0    153    0    0    0  11947   \n",
       "157    0    0    0    0    0    0    0    0    0    143    0    0    0  12083   \n",
       "158    0    0    0    0    0    0    0    0    0    142    0    0    6  12202   \n",
       "169    0    0    0    0    0    0    0    0    0      0    0    0    0      0   \n",
       "170    0    0    0    0    0    0    0    0    0      0    0    0    0      0   \n",
       "171    0    0    0    0    0    0    0    0    0      0    0    0    0      0   \n",
       "175    0    0    0    0    0    0    0    0    0      0    0    0    0      0   \n",
       "190    0    0    0    0    0    0    0    0    0  39260    0    0    0     57   \n",
       "191    0    0    0    0    0    0    0    0    0  39144    0    0    0    115   \n",
       "192    0    0    0    0    0    0    0    0    0  39300    0    0    0     77   \n",
       "     ...  ...  ...  ...  ...  ...  ...  ...  ...    ...  ...  ...  ...    ...   \n",
       "\n",
       "      89   90   91   92     93   94   95   99    108  113   115   116   117  \\\n",
       "156   883   60    4  383  21190  203    0    0  5611  245  1273  4183  1332   \n",
       "157   948   60    4  430  21510  190    0    0  5379  214  1266  4278  1129   \n",
       "158  1009   56    0  377  21120  201    0    0  5373  204  1278  4150  1264   \n",
       "169     0    0    0    0      0    0    0    0     0    0     0     0     0   \n",
       "170     0    0    0    0      0    0    0    0     0    0     0     0     0   \n",
       "171     0    0    0    0      0    0    0    0     0    0     0     0     0   \n",
       "175     0    0    0    0      0    0    0    0     0    0     0     0     0   \n",
       "190     0    0    0    0    226    0    0    0     0    0    27     0     0   \n",
       "191     0    0    0    0    237    0    0    0     0    0    14     0     0   \n",
       "192     0    0    0    0    250    0    0    0     0    0    18     0     0   \n",
       "      ...  ...  ...  ...    ...  ...  ...  ...   ...  ...   ...   ...   ...   \n",
       "\n",
       "      119  120   121      \n",
       "156  1084    4  5814 ...  \n",
       "157  1082    6  5620 ...  \n",
       "158  1037    7  5833 ...  \n",
       "169     0    0     0 ...  \n",
       "170     0    0     0 ...  \n",
       "171     0    0     0 ...  \n",
       "175     0    0     0 ...  \n",
       "190     0    0     0 ...  \n",
       "191     0    0     0 ...  \n",
       "192     0    0     0 ...  \n",
       "      ...  ...   ...      \n",
       "\n",
       "[126 rows x 43 columns]"
      ]
     },
     "execution_count": 260,
     "metadata": {},
     "output_type": "execute_result"
    }
   ],
   "source": [
    "df_android_m5"
   ]
  },
  {
   "cell_type": "code",
   "execution_count": null,
   "metadata": {
    "collapsed": true
   },
   "outputs": [],
   "source": []
  }
 ],
 "metadata": {
  "kernelspec": {
   "display_name": "Python 2",
   "language": "python",
   "name": "python2"
  },
  "language_info": {
   "codemirror_mode": {
    "name": "ipython",
    "version": 2
   },
   "file_extension": ".py",
   "mimetype": "text/x-python",
   "name": "python",
   "nbconvert_exporter": "python",
   "pygments_lexer": "ipython2",
   "version": "2.7.6"
  }
 },
 "nbformat": 4,
 "nbformat_minor": 0
}
