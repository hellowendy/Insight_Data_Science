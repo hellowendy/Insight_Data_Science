{
 "cells": [
  {
   "cell_type": "code",
   "execution_count": 1,
   "metadata": {
    "collapsed": false
   },
   "outputs": [],
   "source": [
    "from elasticsearch import Elasticsearch\n",
    "import json\n",
    "import requests\n",
    "\n",
    "import eslogin\n",
    "\n",
    "import datetime\n",
    "import time\n",
    "\n",
    "import numpy as np\n",
    "from numpy.random import randn\n",
    "from random import shuffle\n",
    "import pandas as pd\n",
    "from scipy import stats\n",
    "import matplotlib as mpl\n",
    "\n",
    "import matplotlib.pyplot as plt\n",
    "import seaborn as sns\n",
    "\n",
    "import math\n",
    "\n",
    "from sklearn.ensemble import RandomForestClassifier\n",
    "from sklearn.cluster import KMeans\n",
    "import sklearn as sklearn\n",
    "\n",
    "import plotly.plotly as py\n",
    "from plotly.graph_objs import *\n",
    "\n",
    "%matplotlib inline\n",
    "mpl.style.use('ggplot')\n",
    "\n",
    "pd.options.display.max_rows = 20\n",
    "pd.options.display.max_columns = 30"
   ]
  },
  {
   "cell_type": "code",
   "execution_count": 187,
   "metadata": {
    "collapsed": false
   },
   "outputs": [
    {
     "name": "stdout",
     "output_type": "stream",
     "text": [
      "1.4.3\n"
     ]
    }
   ],
   "source": [
    "print mpl.__version__"
   ]
  },
  {
   "cell_type": "markdown",
   "metadata": {},
   "source": [
    "#Import data"
   ]
  },
  {
   "cell_type": "code",
   "execution_count": 2,
   "metadata": {
    "collapsed": true
   },
   "outputs": [],
   "source": [
    "clicks_uniq = pd.read_csv(\"../data/clicks_uniq_150610.tab\",sep='\\t',index_col=0,encoding='utf-8')\n",
    "adShows_uniq = pd.read_csv(\"../data/adShows_uniq_150610.tab\",sep='\\t',index_col=0,encoding='utf-8')\n",
    "duplicate_id = set(adShows_uniq['id']) - set(clicks_uniq['id'])\n",
    "adShows_uniq_only = adShows_uniq.loc[adShows_uniq['id'].apply(lambda x: x in duplicate_id), :]"
   ]
  },
  {
   "cell_type": "code",
   "execution_count": 3,
   "metadata": {
    "collapsed": false
   },
   "outputs": [],
   "source": [
    "data = pd.concat([clicks_uniq[['ai','br','co','cty','rgn','plfm','pv','dt','sdpt','isp','ernc','dp','vw_drtn','vw_perc','cr','created_at','et']],adShows_uniq_only[['ai','br','co','cty','rgn','plfm','pv','dt','sdpt','isp','ernc','dp','vw_drtn','vw_perc','cr','created_at','et']]], axis=0)"
   ]
  },
  {
   "cell_type": "code",
   "execution_count": 4,
   "metadata": {
    "collapsed": true
   },
   "outputs": [],
   "source": [
    "def get_date(timestring):\n",
    "    mytime = timestring.split('.')[0]\n",
    "    return datetime.datetime.strptime(mytime, '%Y-%m-%dT%X')\n",
    "data['created_at'] = data['created_at'].apply(get_date)"
   ]
  },
  {
   "cell_type": "code",
   "execution_count": 5,
   "metadata": {
    "collapsed": true
   },
   "outputs": [],
   "source": [
    "data2 = data[data['created_at'].apply(lambda x:(x.month == 5 or x.month == 6))]"
   ]
  },
  {
   "cell_type": "code",
   "execution_count": 6,
   "metadata": {
    "collapsed": true
   },
   "outputs": [],
   "source": [
    "data2['br_short'] = data2['br'].apply(lambda x:x.split()[0])\n",
    "data2['click'] = data2['et'].apply(lambda x:x == 'AD_CLICK')"
   ]
  },
  {
   "cell_type": "code",
   "execution_count": 7,
   "metadata": {
    "collapsed": false
   },
   "outputs": [
    {
     "data": {
      "text/plain": [
       "(18729, 19)"
      ]
     },
     "execution_count": 7,
     "metadata": {},
     "output_type": "execute_result"
    }
   ],
   "source": [
    "data2.shape"
   ]
  },
  {
   "cell_type": "code",
   "execution_count": 8,
   "metadata": {
    "collapsed": true
   },
   "outputs": [],
   "source": [
    "ad_type = pd.read_csv(\"../data/zenit_creatives_parsed.tab\",sep='\\t',encoding='utf-8')"
   ]
  },
  {
   "cell_type": "code",
   "execution_count": 195,
   "metadata": {
    "collapsed": false
   },
   "outputs": [
    {
     "data": {
      "text/plain": [
       "u'cr'"
      ]
     },
     "execution_count": 195,
     "metadata": {},
     "output_type": "execute_result"
    }
   ],
   "source": [
    "ad_type.columns[0]"
   ]
  },
  {
   "cell_type": "code",
   "execution_count": 196,
   "metadata": {
    "collapsed": false
   },
   "outputs": [
    {
     "data": {
      "text/plain": [
       "u'tile_and_text'"
      ]
     },
     "execution_count": 196,
     "metadata": {},
     "output_type": "execute_result"
    }
   ],
   "source": [
    "ad_type['ad_type'][ad_type['cr'].apply(lambda x: x == 157)].values[0]"
   ]
  },
  {
   "cell_type": "code",
   "execution_count": 197,
   "metadata": {
    "collapsed": false
   },
   "outputs": [
    {
     "data": {
      "text/plain": [
       "<matplotlib.axes._subplots.AxesSubplot at 0x7fb9a8b1a3d0>"
      ]
     },
     "execution_count": 197,
     "metadata": {},
     "output_type": "execute_result"
    },
    {
     "data": {
      "image/png": "[encoded data removed]",
      "text/plain": [
       "<matplotlib.figure.Figure at 0x7fb9acf9f550>"
      ]
     },
     "metadata": {},
     "output_type": "display_data"
    }
   ],
   "source": [
    "data2['cr'].hist()"
   ]
  },
  {
   "cell_type": "code",
   "execution_count": 198,
   "metadata": {
    "collapsed": false
   },
   "outputs": [
    {
     "data": {
      "text/plain": [
       "ios        4928\n",
       "android    4699\n",
       "dtype: int64"
      ]
     },
     "execution_count": 198,
     "metadata": {},
     "output_type": "execute_result"
    }
   ],
   "source": [
    "data2['plfm'].value_counts()"
   ]
  },
  {
   "cell_type": "code",
   "execution_count": 199,
   "metadata": {
    "collapsed": false
   },
   "outputs": [
    {
     "data": {
      "text/plain": [
       "u'tile_and_text'"
      ]
     },
     "execution_count": 199,
     "metadata": {},
     "output_type": "execute_result"
    }
   ],
   "source": [
    "def get_ad_type(cr_id):\n",
    "    if cr_id > 0 and cr_id in ad_type['cr']:\n",
    "        return ad_type['ad_type'][ad_type['cr'].apply(lambda x: x == cr_id)].values[0]\n",
    "    else:\n",
    "        return np.NaN\n",
    "get_ad_type(157)"
   ]
  },
  {
   "cell_type": "code",
   "execution_count": 9,
   "metadata": {
    "collapsed": false
   },
   "outputs": [],
   "source": [
    "data2 = pd.merge(data2, ad_type, left_on ='cr', right_on ='cr', how='left')"
   ]
  },
  {
   "cell_type": "code",
   "execution_count": 10,
   "metadata": {
    "collapsed": false
   },
   "outputs": [],
   "source": [
    "data2['day'] = data2['created_at'].apply(lambda x:x.day)"
   ]
  },
  {
   "cell_type": "code",
   "execution_count": 11,
   "metadata": {
    "collapsed": true
   },
   "outputs": [],
   "source": [
    "data2['time'] = data2['created_at'].apply(lambda x:x.hour)"
   ]
  },
  {
   "cell_type": "raw",
   "metadata": {
    "collapsed": false
   },
   "source": [
    "pd.options.display.max_rows = 3\n",
    "pd.options.display.max_columns = 30\n",
    "data2"
   ]
  },
  {
   "cell_type": "code",
   "execution_count": 18,
   "metadata": {
    "collapsed": false
   },
   "outputs": [
    {
     "data": {
      "text/plain": [
       "Other         4784\n",
       "iPhone        4705\n",
       "Chrome        3010\n",
       "Android       2353\n",
       "BlackBerry    2257\n",
       "Safari        1156\n",
       "Firefox        192\n",
       "iPad           191\n",
       "Opera           52\n",
       "Internet        28\n",
       "...\n",
       "Other         4784\n",
       "iPhone        4705\n",
       "Chrome        3010\n",
       "Android       2353\n",
       "BlackBerry    2257\n",
       "Safari        1156\n",
       "Firefox        192\n",
       "iPad           191\n",
       "Opera           52\n",
       "Internet        28\n",
       "PhantomJS        1\n",
       "Length: 11, dtype: int64"
      ]
     },
     "execution_count": 18,
     "metadata": {},
     "output_type": "execute_result"
    }
   ],
   "source": [
    "data2['br_short'].value_counts()"
   ]
  },
  {
   "cell_type": "code",
   "execution_count": 14,
   "metadata": {
    "collapsed": false
   },
   "outputs": [
    {
     "data": {
      "text/plain": [
       "Android     2353\n",
       "Chrome      2345\n",
       "Internet       1\n",
       "dtype: int64"
      ]
     },
     "execution_count": 14,
     "metadata": {},
     "output_type": "execute_result"
    }
   ],
   "source": [
    "data2[data2['plfm'] == 'android']['br_short'].value_counts()"
   ]
  },
  {
   "cell_type": "code",
   "execution_count": 15,
   "metadata": {
    "collapsed": false
   },
   "outputs": [
    {
     "data": {
      "text/plain": [
       "iPhone    4705\n",
       "iPad       191\n",
       "Chrome      32\n",
       "dtype: int64"
      ]
     },
     "execution_count": 15,
     "metadata": {},
     "output_type": "execute_result"
    }
   ],
   "source": [
    "data2[data2['plfm'] == 'ios']['br_short'].value_counts()"
   ]
  },
  {
   "cell_type": "code",
   "execution_count": 16,
   "metadata": {
    "collapsed": false
   },
   "outputs": [
    {
     "data": {
      "text/plain": [
       "Series([], dtype: int64)"
      ]
     },
     "execution_count": 16,
     "metadata": {},
     "output_type": "execute_result"
    }
   ],
   "source": [
    "data2[data2['br_short'] == 'Safari']['plfm'].value_counts()"
   ]
  },
  {
   "cell_type": "code",
   "execution_count": 19,
   "metadata": {
    "collapsed": false
   },
   "outputs": [
    {
     "data": {
      "text/plain": [
       "Series([], dtype: int64)"
      ]
     },
     "execution_count": 19,
     "metadata": {},
     "output_type": "execute_result"
    }
   ],
   "source": [
    "data2[data2['br_short'] == 'BlackBerry']['plfm'].value_counts()"
   ]
  },
  {
   "cell_type": "markdown",
   "metadata": {},
   "source": [
    "#Prepare for training/test data sets"
   ]
  },
  {
   "cell_type": "code",
   "execution_count": 19,
   "metadata": {
    "collapsed": false
   },
   "outputs": [],
   "source": [
    "def cty_parser(city):\n",
    "    if type(city) == float:\n",
    "        return city\n",
    "    else:\n",
    "        return city.encode('ascii', 'ignore').decode('ascii')\n",
    "data2_expand = pd.concat([data2[['click']],pd.get_dummies(data2['br_short'], dummy_na=True, prefix='br'),\n",
    "                   pd.get_dummies(data2['co'], dummy_na=True, prefix='co'),\n",
    "                   pd.get_dummies(data2['cty'].apply(cty_parser), dummy_na=True, prefix='cty'),\n",
    "                   pd.get_dummies(data2['rgn'], dummy_na=True, prefix='rgn'),\n",
    "                   pd.get_dummies(data2['plfm'], dummy_na=True, prefix='plfm'),\n",
    "                   pd.get_dummies(data2['pv'], dummy_na=True, prefix='pv'),\n",
    "                   pd.get_dummies(data2['dt'], dummy_na=True, prefix='dt'),\n",
    "                   pd.get_dummies(data2['isp'], dummy_na=True, prefix='isp'),\n",
    "                   pd.get_dummies(data2['ad_type'], dummy_na=True, prefix='ad_type'),\n",
    "                   data2[['sdpt','ernc','dp','day','time']]],axis=1)"
   ]
  },
  {
   "cell_type": "code",
   "execution_count": 23,
   "metadata": {
    "collapsed": false
   },
   "outputs": [],
   "source": [
    "indices = data2_expand.index.values\n",
    "shuffle(indices)\n",
    "test_size = len(indices)/10\n",
    "test_ind = indices[:test_size]\n",
    "train_ind = indices[test_size:]\n",
    "train_set = data2_expand.loc[train_ind,:]\n",
    "test_set = data2_expand.loc[test_ind,:]\n",
    "train_set_val = train_set.values\n",
    "test_set_val = test_set.values"
   ]
  },
  {
   "cell_type": "markdown",
   "metadata": {},
   "source": [
    "#Learning!"
   ]
  },
  {
   "cell_type": "code",
   "execution_count": 24,
   "metadata": {
    "collapsed": false
   },
   "outputs": [],
   "source": [
    "forest = RandomForestClassifier(n_estimators = 100)"
   ]
  },
  {
   "cell_type": "code",
   "execution_count": 121,
   "metadata": {
    "collapsed": true
   },
   "outputs": [],
   "source": [
    "model1 = forest.fit(train_set_val[0::,1::],train_set_val[0::,0])"
   ]
  },
  {
   "cell_type": "code",
   "execution_count": 122,
   "metadata": {
    "collapsed": false
   },
   "outputs": [],
   "source": [
    "predict1 = model1.predict(test_set_val[0::,1::])"
   ]
  },
  {
   "cell_type": "code",
   "execution_count": 41,
   "metadata": {
    "collapsed": true
   },
   "outputs": [],
   "source": [
    "def error_analysis(predict, reality):\n",
    "    accuracy = float(np.sum(predict == reality))/len(reality) * 100\n",
    "    precision = float(np.sum((reality == True)*(reality == predict)))/np.sum(predict == True) * 100\n",
    "    recall = float(np.sum((reality == True)*(reality == predict)))/np.sum(reality == True) * 100\n",
    "    f1score = 2*precision*recall/(precision + recall)/100\n",
    "    print 'accuracy:%.2f\\nprecision:%.2f\\nrecall:%.2f\\nF1 score:%.2f' % (accuracy, precision, recall, f1score)"
   ]
  },
  {
   "cell_type": "code",
   "execution_count": 123,
   "metadata": {
    "collapsed": false
   },
   "outputs": [
    {
     "name": "stdout",
     "output_type": "stream",
     "text": [
      "accuracy:97.92\n",
      "precision:100.00\n",
      "recall:95.69\n",
      "F1 score:0.98\n"
     ]
    }
   ],
   "source": [
    "error_analysis(predict1, test_set_val[0::,0])"
   ]
  },
  {
   "cell_type": "code",
   "execution_count": 43,
   "metadata": {
    "collapsed": false
   },
   "outputs": [
    {
     "name": "stdout",
     "output_type": "stream",
     "text": [
      "accuracy:98.55\n",
      "precision:97.07\n",
      "recall:97.50\n",
      "F1 score:0.97\n"
     ]
    }
   ],
   "source": [
    "predict1tr = model1.predict(train_set_val[0::,1::])\n",
    "error_analysis(predict1tr, train_set_val[0::,0])"
   ]
  },
  {
   "cell_type": "markdown",
   "metadata": {},
   "source": [
    "# validation"
   ]
  },
  {
   "cell_type": "code",
   "execution_count": 48,
   "metadata": {
    "collapsed": false
   },
   "outputs": [
    {
     "name": "stdout",
     "output_type": "stream",
     "text": [
      "accuracy:93.75\n",
      "precision:93.43\n",
      "recall:84.26\n",
      "F1 score:0.89\n"
     ]
    }
   ],
   "source": [
    "def error_analysis(predict, reality):\n",
    "    accuracy = float(np.sum(predict == reality))/len(reality) * 100\n",
    "    precision = float(np.sum((reality == 1)*(reality == predict)))/np.sum(predict == 1) * 100\n",
    "    recall = float(np.sum((reality == 1)*(reality == predict)))/np.sum(reality == 1) * 100\n",
    "    f1score = 2*precision*recall/(precision + recall)/100\n",
    "    print 'accuracy:%.2f\\nprecision:%.2f\\nrecall:%.2f\\nF1 score:%.2f' % (accuracy, precision, recall, f1score)\n",
    "error_analysis(predict1, test_data[0::,0])"
   ]
  },
  {
   "cell_type": "code",
   "execution_count": 49,
   "metadata": {
    "collapsed": false
   },
   "outputs": [
    {
     "data": {
      "image/png": "[encoded data removed]",
      "text/plain": [
       "<matplotlib.figure.Figure at 0x7f6910a20750>"
      ]
     },
     "metadata": {},
     "output_type": "display_data"
    }
   ],
   "source": [
    "importances = model1.feature_importances_\n",
    "std_importance = np.std([tree.feature_importances_ for tree in model1.estimators_],axis=0)\n",
    "indices_importance = np.argsort(importances)[::-1]\n",
    "plt.figure()\n",
    "plt.title(\"Feature importances\")\n",
    "plt.bar(range(len(importances)), importances[indices_importance],\n",
    "       color=\"r\", yerr=std_importance[indices_importance], align=\"center\")\n",
    "plt.xticks(range(len(importances)), train_set.columns[1:][indices_importance],\n",
    "           rotation='vertical')\n",
    "plt.xlim([-1, 10])\n",
    "plt.show()"
   ]
  },
  {
   "cell_type": "code",
   "execution_count": 79,
   "metadata": {
    "collapsed": true
   },
   "outputs": [],
   "source": [
    "features_sum = pd.DataFrame({'feature': train_set.columns.values[1:],\n",
    "                             'importance': importances,\n",
    "                             'type': [x.split('_')[0] for x in train_set.columns.values[1:]]},\n",
    "                            index = range(len(importances)))"
   ]
  },
  {
   "cell_type": "code",
   "execution_count": 80,
   "metadata": {
    "collapsed": false
   },
   "outputs": [],
   "source": [
    "features_order = features_sum[['type','importance']].groupby('type').sum().sort('importance')"
   ]
  },
  {
   "cell_type": "code",
   "execution_count": 81,
   "metadata": {
    "collapsed": false
   },
   "outputs": [],
   "source": [
    "#features_order.index = ['DELIVERY PRICE CENTS','EARNINGS CENTS','INTERNET SERVICE PROVIDER','CITY','COUNTRY',\n",
    "#                        'DAY OF MONTH','REGION','BROWSER TYPE','TIME OF DAY','PLATFORM VERSION','PLATFORM',\n",
    "#                        'AD TYPE','DEVICE TYPE','SESSION DEPTH']\n",
    "new_indices = features_order.index.values[::-1]\n",
    "features_order.index = new_indices"
   ]
  },
  {
   "cell_type": "code",
   "execution_count": 90,
   "metadata": {
    "collapsed": false
   },
   "outputs": [
    {
     "data": {
      "text/plain": [
       "([<matplotlib.axis.YTick at 0x7f68ec7c7b50>,\n",
       "  <matplotlib.axis.YTick at 0x7f68ec7c7450>,\n",
       "  <matplotlib.axis.YTick at 0x7f68ec796d50>,\n",
       "  <matplotlib.axis.YTick at 0x7f68ec6f0a50>,\n",
       "  <matplotlib.axis.YTick at 0x7f68ec6f0e90>,\n",
       "  <matplotlib.axis.YTick at 0x7f68ec6f8510>,\n",
       "  <matplotlib.axis.YTick at 0x7f68ec703cd0>,\n",
       "  <matplotlib.axis.YTick at 0x7f68ec70d610>,\n",
       "  <matplotlib.axis.YTick at 0x7f68ec70d510>,\n",
       "  <matplotlib.axis.YTick at 0x7f68ec716690>,\n",
       "  <matplotlib.axis.YTick at 0x7f68ec716bd0>,\n",
       "  <matplotlib.axis.YTick at 0x7f68ec69f310>,\n",
       "  <matplotlib.axis.YTick at 0x7f68ec6abcd0>,\n",
       "  <matplotlib.axis.YTick at 0x7f68ec6ab790>],\n",
       " <a list of 14 Text yticklabel objects>)"
      ]
     },
     "execution_count": 90,
     "metadata": {},
     "output_type": "execute_result"
    },
    {
     "data": {
      "image/png": "[encoded data removed]",
      "text/plain": [
       "<matplotlib.figure.Figure at 0x7f68ec8c88d0>"
      ]
     },
     "metadata": {},
     "output_type": "display_data"
    }
   ],
   "source": [
    "plt.figure(figsize=(6,8))\n",
    "val = features_order.importance.values\n",
    "pos = range(features_order.shape[0])    # the bar centers on the y axis\n",
    "plt.figure(1)\n",
    "plt.barh(pos,val, align='center',height=0.5, color='orange')\n",
    "plt.xlim([0, .22])\n",
    "plt.ylim([-1, features_order.shape[0]])\n",
    "plt.yticks(pos, features_order.index.values)"
   ]
  },
  {
   "cell_type": "markdown",
   "metadata": {},
   "source": [
    "# ROC curve"
   ]
  },
  {
   "cell_type": "code",
   "execution_count": 30,
   "metadata": {
    "collapsed": true
   },
   "outputs": [],
   "source": [
    "predict_prob1 = model1.predict_proba(test_set_val[0::,1::])"
   ]
  },
  {
   "cell_type": "code",
   "execution_count": 92,
   "metadata": {
    "collapsed": false
   },
   "outputs": [
    {
     "data": {
      "text/plain": [
       "[<matplotlib.lines.Line2D at 0x7f9869353a90>]"
      ]
     },
     "execution_count": 92,
     "metadata": {},
     "output_type": "execute_result"
    },
    {
     "data": {
      "image/png": "[encoded data removed]",
      "text/plain": [
       "<matplotlib.figure.Figure at 0x7f9869526610>"
      ]
     },
     "metadata": {},
     "output_type": "display_data"
    }
   ],
   "source": [
    "def error_analysis_roc(predict, reality):\n",
    "    TPR = float(np.sum((predict == 1)*(reality == predict)))/np.sum(reality == 1)\n",
    "    FPR = float(np.sum((predict == 1)*(reality != predict)))/np.sum(reality == 0)\n",
    "    return (TPR, FPR)\n",
    "roc = []\n",
    "roc.append((1,1))\n",
    "for i in [float(x)/100 for x in range(100)]:\n",
    "    predict_p = np.array([x[1] > i for x in predict_prob1])\n",
    "    roc.append(error_analysis_roc(predict_p, test_set_val[0::,0]))\n",
    "roc.append((0,0))\n",
    "TPR = [x[0] for x in roc]\n",
    "FPR = [x[1] for x in roc]\n",
    "fig = plt.figure(figsize=(5, 5))\n",
    "ax = fig.add_subplot(1,1,1)\n",
    "ax.plot(FPR, TPR)\n",
    "ax.set_xlim([-.1, 1.1])\n",
    "ax.set_ylim([-.1, 1.1])\n",
    "ax.set_ylabel('True Positive Rate',fontsize=16)\n",
    "ax.set_xlabel('False Positive Rate',fontsize=16)\n",
    "plt.plot([0,1], [0,1], 'k--')"
   ]
  },
  {
   "cell_type": "code",
   "execution_count": 64,
   "metadata": {
    "collapsed": false
   },
   "outputs": [
    {
     "name": "stdout",
     "output_type": "stream",
     "text": [
      "accuracy:91.88\n",
      "precision:100.00\n",
      "recall:83.19\n",
      "F1 score:0.91\n"
     ]
    }
   ],
   "source": [
    "error_analysis(predict_p, test_set_val[0::,0])"
   ]
  },
  {
   "cell_type": "code",
   "execution_count": 62,
   "metadata": {
    "collapsed": false
   },
   "outputs": [
    {
     "data": {
      "text/plain": [
       "array([False,  True,  True, ..., False, False, False], dtype=bool)"
      ]
     },
     "execution_count": 62,
     "metadata": {},
     "output_type": "execute_result"
    }
   ],
   "source": [
    "predict_p"
   ]
  },
  {
   "cell_type": "markdown",
   "metadata": {},
   "source": [
    "# Leave-one out feature importance"
   ]
  },
  {
   "cell_type": "code",
   "execution_count": 93,
   "metadata": {
    "collapsed": false
   },
   "outputs": [
    {
     "data": {
      "text/plain": [
       "(18729, 4437)"
      ]
     },
     "execution_count": 93,
     "metadata": {},
     "output_type": "execute_result"
    }
   ],
   "source": [
    "data2_expand.shape"
   ]
  },
  {
   "cell_type": "code",
   "execution_count": 94,
   "metadata": {
    "collapsed": false
   },
   "outputs": [
    {
     "data": {
      "text/plain": [
       "(18729, 12)"
      ]
     },
     "execution_count": 94,
     "metadata": {},
     "output_type": "execute_result"
    }
   ],
   "source": [
    "pd.get_dummies(data2['br_short'], dummy_na=True, prefix='br').shape"
   ]
  },
  {
   "cell_type": "code",
   "execution_count": 95,
   "metadata": {
    "collapsed": false
   },
   "outputs": [
    {
     "data": {
      "text/plain": [
       "(18729, 87)"
      ]
     },
     "execution_count": 95,
     "metadata": {},
     "output_type": "execute_result"
    }
   ],
   "source": [
    "pd.get_dummies(data2['co'], dummy_na=True, prefix='co').shape"
   ]
  },
  {
   "cell_type": "code",
   "execution_count": 97,
   "metadata": {
    "collapsed": false
   },
   "outputs": [
    {
     "data": {
      "text/plain": [
       "(18729, 2914)"
      ]
     },
     "execution_count": 97,
     "metadata": {},
     "output_type": "execute_result"
    }
   ],
   "source": [
    "pd.get_dummies(data2['cty'].apply(cty_parser), dummy_na=True, prefix='cty').shape"
   ]
  },
  {
   "cell_type": "code",
   "execution_count": 98,
   "metadata": {
    "collapsed": false
   },
   "outputs": [
    {
     "data": {
      "text/plain": [
       "(18729, 448)"
      ]
     },
     "execution_count": 98,
     "metadata": {},
     "output_type": "execute_result"
    }
   ],
   "source": [
    "pd.get_dummies(data2['rgn'], dummy_na=True, prefix='rgn').shape"
   ]
  },
  {
   "cell_type": "code",
   "execution_count": 100,
   "metadata": {
    "collapsed": false
   },
   "outputs": [
    {
     "data": {
      "text/plain": [
       "(18729, 3)"
      ]
     },
     "execution_count": 100,
     "metadata": {},
     "output_type": "execute_result"
    }
   ],
   "source": [
    "pd.get_dummies(data2['plfm'], dummy_na=True, prefix='plfm').shape"
   ]
  },
  {
   "cell_type": "code",
   "execution_count": 101,
   "metadata": {
    "collapsed": false
   },
   "outputs": [
    {
     "data": {
      "text/plain": [
       "(18729, 54)"
      ]
     },
     "execution_count": 101,
     "metadata": {},
     "output_type": "execute_result"
    }
   ],
   "source": [
    "pd.get_dummies(data2['pv'], dummy_na=True, prefix='pv').shape"
   ]
  },
  {
   "cell_type": "code",
   "execution_count": 102,
   "metadata": {
    "collapsed": false
   },
   "outputs": [
    {
     "data": {
      "text/plain": [
       "(18729, 5)"
      ]
     },
     "execution_count": 102,
     "metadata": {},
     "output_type": "execute_result"
    }
   ],
   "source": [
    "pd.get_dummies(data2['dt'], dummy_na=True, prefix='dt').shape"
   ]
  },
  {
   "cell_type": "code",
   "execution_count": 103,
   "metadata": {
    "collapsed": false
   },
   "outputs": [
    {
     "data": {
      "text/plain": [
       "(18729, 904)"
      ]
     },
     "execution_count": 103,
     "metadata": {},
     "output_type": "execute_result"
    }
   ],
   "source": [
    "pd.get_dummies(data2['isp'], dummy_na=True, prefix='isp').shape"
   ]
  },
  {
   "cell_type": "code",
   "execution_count": 104,
   "metadata": {
    "collapsed": false
   },
   "outputs": [
    {
     "data": {
      "text/plain": [
       "(18729, 4)"
      ]
     },
     "execution_count": 104,
     "metadata": {},
     "output_type": "execute_result"
    }
   ],
   "source": [
    "pd.get_dummies(data2['ad_type'], dummy_na=True, prefix='ad_type').shape"
   ]
  },
  {
   "cell_type": "code",
   "execution_count": 118,
   "metadata": {
    "collapsed": false
   },
   "outputs": [
    {
     "name": "stdout",
     "output_type": "stream",
     "text": [
      "accuracy:97.70\n",
      "precision:99.77\n",
      "recall:95.46\n",
      "F1 score:0.98\n"
     ]
    }
   ],
   "source": [
    "data2_expand_2 = pd.concat([data2[['click']],pd.get_dummies(data2['br_short'], dummy_na=True, prefix='br'),\n",
    "                   pd.get_dummies(data2['plfm'], dummy_na=True, prefix='plfm'),\n",
    "                   pd.get_dummies(data2['pv'], dummy_na=True, prefix='pv'),\n",
    "                   pd.get_dummies(data2['dt'], dummy_na=True, prefix='dt'),\n",
    "                   pd.get_dummies(data2['isp'], dummy_na=True, prefix='isp'),\n",
    "                   pd.get_dummies(data2['ad_type'], dummy_na=True, prefix='ad_type'),\n",
    "                   data2[['sdpt','ernc','dp','day','time']]],axis=1)\n",
    "train_set_2 = data2_expand_2.loc[train_ind,:]\n",
    "test_set_2 = data2_expand_2.loc[test_ind,:]\n",
    "train_set_val_2 = train_set_2.values\n",
    "test_set_val_2 = test_set_2.values\n",
    "model2 = forest.fit(train_set_val_2[0::,1::],train_set_val_2[0::,0])\n",
    "predict2 = model2.predict(test_set_val_2[0::,1::])\n",
    "error_analysis(predict2, test_set_val_2[0::,0])"
   ]
  },
  {
   "cell_type": "code",
   "execution_count": 119,
   "metadata": {
    "collapsed": false
   },
   "outputs": [
    {
     "name": "stdout",
     "output_type": "stream",
     "text": [
      "accuracy:98.13\n",
      "precision:100.00\n",
      "recall:96.13\n",
      "F1 score:0.98\n"
     ]
    }
   ],
   "source": [
    "data2_expand_2 = pd.concat([data2[['click']],\n",
    "                   pd.get_dummies(data2['co'], dummy_na=True, prefix='co'),\n",
    "                   pd.get_dummies(data2['cty'].apply(cty_parser), dummy_na=True, prefix='cty'),\n",
    "                   pd.get_dummies(data2['rgn'], dummy_na=True, prefix='rgn'),\n",
    "                   pd.get_dummies(data2['isp'], dummy_na=True, prefix='isp'),\n",
    "                   pd.get_dummies(data2['ad_type'], dummy_na=True, prefix='ad_type'),\n",
    "                   data2[['sdpt','ernc','dp','day','time']]],axis=1)\n",
    "train_set_2 = data2_expand_2.loc[train_ind,:]\n",
    "test_set_2 = data2_expand_2.loc[test_ind,:]\n",
    "train_set_val_2 = train_set_2.values\n",
    "test_set_val_2 = test_set_2.values\n",
    "model2 = forest.fit(train_set_val_2[0::,1::],train_set_val_2[0::,0])\n",
    "predict2 = model2.predict(test_set_val_2[0::,1::])\n",
    "error_analysis(predict2, test_set_val_2[0::,0])"
   ]
  },
  {
   "cell_type": "code",
   "execution_count": 116,
   "metadata": {
    "collapsed": false
   },
   "outputs": [
    {
     "ename": "SyntaxError",
     "evalue": "invalid syntax (<ipython-input-116-7cca398794c6>, line 1)",
     "output_type": "error",
     "traceback": [
      "\u001b[1;36m  File \u001b[1;32m\"<ipython-input-116-7cca398794c6>\"\u001b[1;36m, line \u001b[1;32m1\u001b[0m\n\u001b[1;33m    [1::2]\u001b[0m\n\u001b[1;37m      ^\u001b[0m\n\u001b[1;31mSyntaxError\u001b[0m\u001b[1;31m:\u001b[0m invalid syntax\n"
     ]
    }
   ],
   "source": [
    "data2_expand_2 = pd.concat([data2[['click']],pd.get_dummies(data2['br_short'], dummy_na=True, prefix='br'),\n",
    "                   pd.get_dummies(data2['co'], dummy_na=True, prefix='co'),\n",
    "                   pd.get_dummies(data2['cty'].apply(cty_parser), dummy_na=True, prefix='cty'),\n",
    "                   pd.get_dummies(data2['rgn'], dummy_na=True, prefix='rgn'),\n",
    "                   pd.get_dummies(data2['plfm'], dummy_na=True, prefix='plfm'),\n",
    "                   pd.get_dummies(data2['pv'], dummy_na=True, prefix='pv'),\n",
    "                   pd.get_dummies(data2['dt'], dummy_na=True, prefix='dt'),\n",
    "                   pd.get_dummies(data2['isp'], dummy_na=True, prefix='isp'),\n",
    "                   pd.get_dummies(data2['ad_type'], dummy_na=True, prefix='ad_type'),\n",
    "                   data2[['sdpt','dp','day','time']]],axis=1)\n",
    "train_set_2 = data2_expand_2.loc[train_ind,:]\n",
    "test_set_2 = data2_expand_2.loc[test_ind,:]\n",
    "train_set_val_2 = train_set_2.values\n",
    "test_set_val_2 = test_set_2.values\n",
    "model2 = forest.fit(train_set_val_2[0::,1::],train_set_val_2[0::,0])\n",
    "predict2 = model2.predict(test_set_val_2[0::,1::])\n",
    "error_analysis(predict2, test_set_val_2[0::,0])"
   ]
  },
  {
   "cell_type": "code",
   "execution_count": null,
   "metadata": {
    "collapsed": true
   },
   "outputs": [],
   "source": [
    "data2_expand_2 = pd.concat([data2[['click']],pd.get_dummies(data2['br_short'], dummy_na=True, prefix='br'),\n",
    "                   pd.get_dummies(data2['co'], dummy_na=True, prefix='co'),\n",
    "                   pd.get_dummies(data2['cty'].apply(cty_parser), dummy_na=True, prefix='cty'),\n",
    "                   pd.get_dummies(data2['rgn'], dummy_na=True, prefix='rgn'),\n",
    "                   pd.get_dummies(data2['plfm'], dummy_na=True, prefix='plfm'),\n",
    "                   pd.get_dummies(data2['pv'], dummy_na=True, prefix='pv'),\n",
    "                   pd.get_dummies(data2['dt'], dummy_na=True, prefix='dt'),\n",
    "                   pd.get_dummies(data2['isp'], dummy_na=True, prefix='isp'),\n",
    "                   pd.get_dummies(data2['ad_type'], dummy_na=True, prefix='ad_type'),\n",
    "                   data2[['sdpt','ernc','dp','day','time']]],axis=1)\n",
    "train_set_2 = data2_expand_2.loc[train_ind,:]\n",
    "test_set_2 = data2_expand_2.loc[test_ind,:]\n",
    "train_set_val_2 = train_set_2.values\n",
    "test_set_val_2 = test_set_2.values\n",
    "model2 = forest.fit(train_set_val_2[0::,1::],train_set_val_2[0::,0])\n",
    "predict2 = model2.predict(test_set_val_2[0::,1::])\n",
    "error_analysis(predict2, test_set_val_2[0::,0])"
   ]
  },
  {
   "cell_type": "markdown",
   "metadata": {},
   "source": [
    "# 10-fold cross validation:"
   ]
  },
  {
   "cell_type": "code",
   "execution_count": 124,
   "metadata": {
    "collapsed": true
   },
   "outputs": [],
   "source": [
    "def error_analysis2(predict, reality):\n",
    "    accuracy = float(np.sum(predict == reality))/len(reality) * 100\n",
    "    precision = float(np.sum((reality == 1)*(reality == predict)))/np.sum(predict == 1) * 100\n",
    "    recall = float(np.sum((reality == 1)*(reality == predict)))/np.sum(reality == 1) * 100\n",
    "    f1score = 2*precision*recall/(precision + recall)/100\n",
    "    return (accuracy, precision, recall, f1score)"
   ]
  },
  {
   "cell_type": "code",
   "execution_count": 111,
   "metadata": {
    "collapsed": false
   },
   "outputs": [],
   "source": [
    "accu = []\n",
    "for i in range(10):\n",
    "    test_ind = indices[i*test_size:(i+1)*test_size]\n",
    "    train_ind = np.concatenate((indices[0:i*test_size],indices[(i+1)*test_size:]))\n",
    "    train_set = data2_expand.loc[train_ind,:]\n",
    "    test_set = data2_expand.loc[test_ind,:]\n",
    "    train_data = train_set.values\n",
    "    test_data = test_set.values\n",
    "    forest = RandomForestClassifier(n_estimators = 100)\n",
    "    model = forest.fit(train_data[0::,1::],train_data[0::,0])\n",
    "    predict = model.predict(test_data[0::,1::])\n",
    "    accu.append(error_analysis2(predict, test_data[0::,0]))"
   ]
  },
  {
   "cell_type": "code",
   "execution_count": 112,
   "metadata": {
    "collapsed": false
   },
   "outputs": [
    {
     "data": {
      "text/plain": [
       "[(93.8568376068376, 93.63449691991786, 84.44444444444444, 0.8880233690360272),\n",
       " (94.76495726495726, 96.36363636363636, 85.63734290843806, 0.9068441064638785),\n",
       " (93.75, 91.71974522292994, 84.70588235294117, 0.8807339449541284),\n",
       " (94.60470085470085, 93.46153846153847, 87.88426763110307, 0.9058713886300095),\n",
       " (94.23076923076923, 94.48818897637796, 85.71428571428571, 0.898876404494382),\n",
       " (94.60470085470085, 95.06172839506173, 85.71428571428571, 0.9014634146341463),\n",
       " (94.12393162393163, 91.91489361702128, 85.71428571428571, 0.8870636550308008),\n",
       " (95.24572649572649, 95.10204081632652, 87.75894538606404, 0.9128305582761999),\n",
       " (94.49786324786325, 95.33468559837728, 85.45454545454545, 0.9012464046021093),\n",
       " (94.01709401709401, 91.6015625, 87.17472118959108, 0.8933333333333333)]"
      ]
     },
     "execution_count": 112,
     "metadata": {},
     "output_type": "execute_result"
    }
   ],
   "source": [
    "accu"
   ]
  },
  {
   "cell_type": "code",
   "execution_count": 115,
   "metadata": {
    "collapsed": false
   },
   "outputs": [],
   "source": [
    "accuracy_list = [x[0] for x in accu]\n",
    "precision_list = [x[1] for x in accu]\n",
    "recall_list = [x[2] for x in accu]"
   ]
  },
  {
   "cell_type": "code",
   "execution_count": 118,
   "metadata": {
    "collapsed": false
   },
   "outputs": [
    {
     "data": {
      "text/plain": [
       "94.369658119658112"
      ]
     },
     "execution_count": 118,
     "metadata": {},
     "output_type": "execute_result"
    }
   ],
   "source": [
    "np.mean(accuracy_list)"
   ]
  },
  {
   "cell_type": "code",
   "execution_count": 119,
   "metadata": {
    "collapsed": false
   },
   "outputs": [
    {
     "data": {
      "text/plain": [
       "0.43607546222133547"
      ]
     },
     "execution_count": 119,
     "metadata": {},
     "output_type": "execute_result"
    }
   ],
   "source": [
    "np.std(accuracy_list)"
   ]
  },
  {
   "cell_type": "code",
   "execution_count": 120,
   "metadata": {
    "collapsed": false
   },
   "outputs": [
    {
     "data": {
      "text/plain": [
       "93.868251687118729"
      ]
     },
     "execution_count": 120,
     "metadata": {},
     "output_type": "execute_result"
    }
   ],
   "source": [
    "np.mean(precision_list)"
   ]
  },
  {
   "cell_type": "code",
   "execution_count": 121,
   "metadata": {
    "collapsed": false
   },
   "outputs": [
    {
     "data": {
      "text/plain": [
       "1.5968075086554341"
      ]
     },
     "execution_count": 121,
     "metadata": {},
     "output_type": "execute_result"
    }
   ],
   "source": [
    "np.std(precision_list)"
   ]
  },
  {
   "cell_type": "code",
   "execution_count": 122,
   "metadata": {
    "collapsed": false
   },
   "outputs": [
    {
     "data": {
      "text/plain": [
       "86.02030065099845"
      ]
     },
     "execution_count": 122,
     "metadata": {},
     "output_type": "execute_result"
    }
   ],
   "source": [
    "np.mean(recall_list)"
   ]
  },
  {
   "cell_type": "code",
   "execution_count": 123,
   "metadata": {
    "collapsed": false
   },
   "outputs": [
    {
     "data": {
      "text/plain": [
       "1.1308684469465557"
      ]
     },
     "execution_count": 123,
     "metadata": {},
     "output_type": "execute_result"
    }
   ],
   "source": [
    "np.std(recall_list)"
   ]
  },
  {
   "cell_type": "code",
   "execution_count": null,
   "metadata": {
    "collapsed": true
   },
   "outputs": [],
   "source": [
    "accu = []\n",
    "for i in range(10):\n",
    "    test_ind = indices[i*test_size:(i+1)*test_size]\n",
    "    train_ind = np.concatenate((indices[0:i*test_size],indices[(i+1)*test_size:]))\n",
    "    train_set = data2_expand.loc[train_ind,:]\n",
    "    test_set = data2_expand.loc[test_ind,:]\n",
    "    train_data = train_set.values\n",
    "    test_data = test_set.values\n",
    "    forest = RandomForestClassifier(n_estimators = 100)\n",
    "    model = forest.fit(train_data[0::,1::],train_data[0::,0])\n",
    "    predict = model.predict(test_data[0::,1::])\n",
    "    accu.append(error_analysis2(predict, test_data[0::,0]))"
   ]
  },
  {
   "cell_type": "markdown",
   "metadata": {},
   "source": [
    "ROC"
   ]
  },
  {
   "cell_type": "code",
   "execution_count": 125,
   "metadata": {
    "collapsed": true
   },
   "outputs": [],
   "source": [
    "predict2 = model1.predict_proba(test_data[0::,1::])"
   ]
  },
  {
   "cell_type": "code",
   "execution_count": 126,
   "metadata": {
    "collapsed": false
   },
   "outputs": [
    {
     "data": {
      "text/plain": [
       "array([[ 1.        ,  0.        ],\n",
       "       [ 0.92      ,  0.08      ],\n",
       "       [ 0.28235714,  0.71764286],\n",
       "       ..., \n",
       "       [ 1.        ,  0.        ],\n",
       "       [ 1.        ,  0.        ],\n",
       "       [ 0.        ,  1.        ]])"
      ]
     },
     "execution_count": 126,
     "metadata": {},
     "output_type": "execute_result"
    }
   ],
   "source": [
    "predict2"
   ]
  },
  {
   "cell_type": "markdown",
   "metadata": {},
   "source": [
    "Plotting for each feature"
   ]
  },
  {
   "cell_type": "code",
   "execution_count": null,
   "metadata": {
    "collapsed": false
   },
   "outputs": [],
   "source": [
    "rate = float(data2.click.sum())/data2.shape[0]\n",
    "rate"
   ]
  },
  {
   "cell_type": "code",
   "execution_count": null,
   "metadata": {
    "collapsed": false
   },
   "outputs": [],
   "source": [
    "data2.groupby('time').apply(lambda x:float(x.click.sum())/x.shape[0]/rate).apply(lambda x: np.log2(x+0.001)).sort_index().plot(xlim=(-.5,23.5), title='relative CTR')"
   ]
  },
  {
   "cell_type": "code",
   "execution_count": null,
   "metadata": {
    "collapsed": false
   },
   "outputs": [],
   "source": [
    "data2['time'].value_counts().sort_index().plot(color=\"b\",xlim=(-.5,23.5), title='total number of events')"
   ]
  },
  {
   "cell_type": "markdown",
   "metadata": {},
   "source": [
    "Overall, there's anti-corelation between the amount of events and CTR.."
   ]
  },
  {
   "cell_type": "code",
   "execution_count": null,
   "metadata": {
    "collapsed": false
   },
   "outputs": [],
   "source": [
    "data2['time'][data2['click']].value_counts().sort_index().plot(color=\"g\",xlim=(-.5,23.5), title='click events')"
   ]
  },
  {
   "cell_type": "markdown",
   "metadata": {},
   "source": [
    "timestamp here are all in UTC"
   ]
  },
  {
   "cell_type": "code",
   "execution_count": null,
   "metadata": {
    "collapsed": false
   },
   "outputs": [],
   "source": [
    "data2.groupby('day').apply(lambda x:float(x.click.sum())/x.shape[0]/rate).apply(lambda x: np.log2(x+0.001)).sort_index().plot(xlim=(-.5,31.5))"
   ]
  },
  {
   "cell_type": "code",
   "execution_count": null,
   "metadata": {
    "collapsed": false
   },
   "outputs": [],
   "source": [
    "data2['day'].value_counts().sort_index().plot(color=\"b\",xlim=(-.5,31.5))"
   ]
  },
  {
   "cell_type": "code",
   "execution_count": null,
   "metadata": {
    "collapsed": false
   },
   "outputs": [],
   "source": [
    "data2.groupby('ad_type').apply(lambda x:float(x.click.sum())/x.shape[0]/rate).apply(lambda x: np.log2(x+0.001)).sort_index().plot(kind='bar',rot='horizontal',fontsize=20)"
   ]
  },
  {
   "cell_type": "code",
   "execution_count": null,
   "metadata": {
    "collapsed": false
   },
   "outputs": [],
   "source": [
    "data2['ad_type'].value_counts().sort_index().plot(kind='bar',rot='horizontal',fontsize=20,color=\"b\",logy=True)"
   ]
  },
  {
   "cell_type": "code",
   "execution_count": null,
   "metadata": {
    "collapsed": false
   },
   "outputs": [],
   "source": [
    "step1 = 5\n",
    "step2 = 20\n",
    "breaks1 = range(0,60,step1)\n",
    "breaks2 = range(60,200,step2)\n",
    "sdpt_ctr = []\n",
    "for i in breaks1:\n",
    "    sdpt_ctr.append(float(data2[data2['sdpt'].apply(lambda x:(x >= i and x < i + step1))].click.sum())/(data2[data2['sdpt'].apply(lambda x:(x >= i and x < i + step1))].shape[0] + 0.001))\n",
    "for i in breaks2:\n",
    "    sdpt_ctr.append(float(data2[data2['sdpt'].apply(lambda x:(x >= i and x < i + step2))].click.sum())/(data2[data2['sdpt'].apply(lambda x:(x >= i and x < i + step2))].shape[0] + 0.001))\n",
    "breaks = breaks1 + breaks2\n",
    "plt.plot(breaks, sdpt_ctr, 'ro-')"
   ]
  },
  {
   "cell_type": "code",
   "execution_count": null,
   "metadata": {
    "collapsed": false
   },
   "outputs": [],
   "source": [
    "data2['sdpt'].hist(color=\"b\")"
   ]
  },
  {
   "cell_type": "markdown",
   "metadata": {},
   "source": [
    "Pattern for all data is different from the previous two apps"
   ]
  },
  {
   "cell_type": "markdown",
   "metadata": {},
   "source": [
    "# Correct for uneven sampling"
   ]
  },
  {
   "cell_type": "code",
   "execution_count": null,
   "metadata": {
    "collapsed": false
   },
   "outputs": [],
   "source": [
    "impression_sample_rate = float(19872)/4584942\n",
    "impression_sample_rate"
   ]
  },
  {
   "cell_type": "code",
   "execution_count": 308,
   "metadata": {
    "collapsed": false
   },
   "outputs": [
    {
     "data": {
      "text/plain": [
       "0.0017455627064941754"
      ]
     },
     "execution_count": 308,
     "metadata": {},
     "output_type": "execute_result"
    }
   ],
   "source": [
    "rate = float(data2.click.sum())/((~data2.click).sum()/impression_sample_rate + data2.click.sum())\n",
    "rate"
   ]
  },
  {
   "cell_type": "code",
   "execution_count": 351,
   "metadata": {
    "collapsed": false
   },
   "outputs": [
    {
     "data": {
      "text/plain": [
       "0.0058353273983402136"
      ]
     },
     "execution_count": 351,
     "metadata": {},
     "output_type": "execute_result"
    }
   ],
   "source": [
    "rate_Diretta_Calcio = float(data2_Diretta_Calcio.click.sum())/((~data2_Diretta_Calcio.click).sum()/impression_sample_rate + data2_Diretta_Calcio.click.sum())\n",
    "rate_Diretta_Calcio"
   ]
  },
  {
   "cell_type": "code",
   "execution_count": 352,
   "metadata": {
    "collapsed": false
   },
   "outputs": [
    {
     "data": {
      "text/plain": [
       "0.00085966498230947183"
      ]
     },
     "execution_count": 352,
     "metadata": {},
     "output_type": "execute_result"
    }
   ],
   "source": [
    "rate_Team_Manchester = float(data2_Team_Manchester.click.sum())/((~data2_Team_Manchester.click).sum()/impression_sample_rate + data2_Team_Manchester.click.sum())\n",
    "rate_Team_Manchester"
   ]
  },
  {
   "cell_type": "code",
   "execution_count": 353,
   "metadata": {
    "collapsed": false
   },
   "outputs": [
    {
     "data": {
      "text/plain": [
       "0.005703706238003905"
      ]
     },
     "execution_count": 353,
     "metadata": {},
     "output_type": "execute_result"
    }
   ],
   "source": [
    "rate_Dagospia = float(data2_Dagospia.click.sum())/((~data2_Dagospia.click).sum()/impression_sample_rate + data2_Dagospia.click.sum())\n",
    "rate_Dagospia"
   ]
  },
  {
   "cell_type": "code",
   "execution_count": null,
   "metadata": {
    "collapsed": false
   },
   "outputs": [],
   "source": [
    "data2.groupby('time').apply(lambda x:float(x.click.sum())/((~x.click).sum()/impression_sample_rate + x.click.sum())/rate).apply(lambda x: np.log2(x+0.001)).sort_index().plot(xlim=(-.5,23.5), title='relative CTR (corrected)')"
   ]
  },
  {
   "cell_type": "code",
   "execution_count": null,
   "metadata": {
    "collapsed": false
   },
   "outputs": [],
   "source": [
    "data2.groupby('time').apply(lambda x:float(x.click.sum())/((~x.click).sum()/impression_sample_rate)/rate).apply(lambda x: np.log2(x+0.001)).sort_index().plot(xlim=(-.5,23.5), title='relative CTR (round)')"
   ]
  },
  {
   "cell_type": "markdown",
   "metadata": {},
   "source": [
    "Well the shape looks pretty similar with the old plot, but just the \"amplitude\" changes"
   ]
  },
  {
   "cell_type": "code",
   "execution_count": null,
   "metadata": {
    "collapsed": false
   },
   "outputs": [],
   "source": [
    "co_ctr = data2.groupby('co').apply(lambda x:float(x.click.sum())/((~x.click).sum()/impression_sample_rate + x.click.sum())/rate).apply(lambda x: np.log2(x+0.001))\n",
    "co_ctr.sort(ascending = False)\n",
    "plt.figure(figsize=(20,5))\n",
    "p = co_ctr.plot(kind='bar',color='orange')\n",
    "p.set_ylabel('log2 (relative click-through-rate)', fontsize=20)\n",
    "plt.setp(p.get_xticklabels(), rotation='vertical', fontsize=15)\n",
    "plt.setp(p.get_yticklabels(), fontsize=20)\n",
    "fig = p.get_figure()\n",
    "fig.savefig('../fig/20150615_CTR_by_co_sort_corrected.png',format='png')"
   ]
  },
  {
   "cell_type": "code",
   "execution_count": null,
   "metadata": {
    "collapsed": false
   },
   "outputs": [],
   "source": [
    "co_counts = data2.groupby('co').apply(lambda x:(x.click.sum() + (~x.click).sum()/impression_sample_rate))\n",
    "plt.figure(figsize=(20,5))\n",
    "p = np.log10(co_counts[co_ctr.index]).plot(kind='bar',color='b')\n",
    "p.set_ylabel('log10 (events per country)', fontsize=20)\n",
    "plt.setp(p.get_xticklabels(), rotation='vertical', fontsize=15)\n",
    "plt.setp(p.get_yticklabels(), fontsize=20)\n",
    "plt.gca().invert_yaxis()\n",
    "fig = p.get_figure()\n",
    "fig.savefig('../fig/20150615_et_by_co_sort_corrected.png',format='png')"
   ]
  },
  {
   "cell_type": "code",
   "execution_count": null,
   "metadata": {
    "collapsed": false
   },
   "outputs": [],
   "source": [
    "br_ctr = data2.groupby('br_short').apply(lambda x:float(x.click.sum())/((~x.click).sum()/impression_sample_rate + x.click.sum())/rate).apply(lambda x: np.log2(x+0.001))\n",
    "br_ctr.sort(ascending = False)\n",
    "plt.figure(figsize=(20,5))\n",
    "p = br_ctr.plot(kind='bar',color='r')\n",
    "p.set_ylabel('log2 (relative click-through-rate)', fontsize=25)\n",
    "plt.setp(p.get_xticklabels(), rotation='horizontal', fontsize=22)\n",
    "plt.setp(p.get_yticklabels(), fontsize=20)\n",
    "fig = p.get_figure()\n",
    "fig.savefig('../fig/20150615_CTR_by_br_sort_corrected.png',format='png')"
   ]
  },
  {
   "cell_type": "code",
   "execution_count": null,
   "metadata": {
    "collapsed": false
   },
   "outputs": [],
   "source": [
    "br_counts = data2.groupby('br_short').apply(lambda x:(x.click.sum() + (~x.click).sum()/impression_sample_rate))\n",
    "plt.figure(figsize=(20,5))\n",
    "p = np.log10(br_counts[br_ctr.index]).plot(kind='bar',color='b')\n",
    "p.set_ylabel('log10 (events per browser type)', fontsize=25)\n",
    "plt.setp(p.get_xticklabels(), rotation='horizontal', fontsize=22)\n",
    "plt.setp(p.get_yticklabels(), fontsize=20)\n",
    "#plt.gca().invert_yaxis()\n",
    "fig = p.get_figure()\n",
    "fig.savefig('../fig/20150615_et_by_br_sort_corrected.png',format='png')"
   ]
  },
  {
   "cell_type": "code",
   "execution_count": null,
   "metadata": {
    "collapsed": false,
    "scrolled": true
   },
   "outputs": [],
   "source": [
    "check_br = data2.groupby('br_short').apply(lambda x:float(x.click.sum())/((~x.click).sum()/impression_sample_rate + x.click.sum()))\n",
    "check_br.sort(ascending = False)\n",
    "pd.DataFrame({'ctr':check_br,'cnt':data2['br_short'].value_counts()})"
   ]
  },
  {
   "cell_type": "markdown",
   "metadata": {},
   "source": [
    "#How to explain the difference in browser and location?"
   ]
  },
  {
   "cell_type": "markdown",
   "metadata": {},
   "source": [
    "First I want to examine the difference in each app systematically:"
   ]
  },
  {
   "cell_type": "code",
   "execution_count": null,
   "metadata": {
    "collapsed": false
   },
   "outputs": [],
   "source": [
    "plt.figure(figsize=(20,5))\n",
    "p = data2.groupby('ai').apply(lambda x:(x.click.sum() + (~x.click).sum()/impression_sample_rate)).plot(kind='bar',color='b',ylim=(.5,5000000),title='number of events per app')\n",
    "p.set_yscale('log')"
   ]
  },
  {
   "cell_type": "markdown",
   "metadata": {},
   "source": [
    "DC: 67/68 TM: 53/54 are the ones with more events\n",
    "\n",
    "High CTR: 67,87,93\n",
    "\n",
    "Low CTR: 49,51,54,115,116"
   ]
  },
  {
   "cell_type": "code",
   "execution_count": null,
   "metadata": {
    "collapsed": false
   },
   "outputs": [],
   "source": [
    "plt.figure(figsize=(20,5))\n",
    "p = data2.groupby('ai').apply(lambda x:float(x.click.sum())/((~x.click).sum()/impression_sample_rate + x.click.sum())).sort_index().plot(kind='bar',logy=True,ylim=(0,.04),title='CTR')\n",
    "plt.axhline(y=rate)"
   ]
  },
  {
   "cell_type": "markdown",
   "metadata": {},
   "source": [
    "I want to calculate the proportion of each type of browser for each app"
   ]
  },
  {
   "cell_type": "code",
   "execution_count": null,
   "metadata": {
    "collapsed": false
   },
   "outputs": [],
   "source": [
    "aid = 89\n",
    "check_ai_br = data2[data2['ai'] == aid].groupby('br_short').apply(lambda x:float(x.click.sum())/((~x.click).sum()/impression_sample_rate + x.click.sum()))\n",
    "check_ai_br.sort(ascending = False)\n",
    "pd.DataFrame({'ctr':check_ai_br,'cnt':data2[data2['ai'] == aid]['br_short'].value_counts()})"
   ]
  },
  {
   "cell_type": "code",
   "execution_count": 416,
   "metadata": {
    "collapsed": false
   },
   "outputs": [
    {
     "data": {
      "text/html": [
       "<div style=\"max-height:1000px;max-width:1500px;overflow:auto;\">\n",
       "<table border=\"1\" class=\"dataframe\">\n",
       "  <thead>\n",
       "    <tr style=\"text-align: right;\">\n",
       "      <th></th>\n",
       "      <th>cnt</th>\n",
       "      <th>ctr</th>\n",
       "    </tr>\n",
       "  </thead>\n",
       "  <tbody>\n",
       "    <tr>\n",
       "      <th>ITA</th>\n",
       "      <td> 50</td>\n",
       "      <td> 0.005062</td>\n",
       "    </tr>\n",
       "    <tr>\n",
       "      <th>UKR</th>\n",
       "      <td>  7</td>\n",
       "      <td> 0.025346</td>\n",
       "    </tr>\n",
       "  </tbody>\n",
       "</table>\n",
       "<p>2 rows × 2 columns</p>\n",
       "</div>"
      ],
      "text/plain": [
       "     cnt       ctr\n",
       "ITA   50  0.005062\n",
       "UKR    7  0.025346\n",
       "\n",
       "[2 rows x 2 columns]"
      ]
     },
     "execution_count": 416,
     "metadata": {},
     "output_type": "execute_result"
    }
   ],
   "source": [
    "aid = 72\n",
    "check_co_br = data2[data2['ai'] == aid].groupby('co').apply(lambda x:float(x.click.sum())/((~x.click).sum()/impression_sample_rate + x.click.sum()))\n",
    "check_co_br.sort(ascending = False)\n",
    "pd.DataFrame({'ctr':check_co_br,'cnt':data2[data2['ai'] == aid]['co'].value_counts()})"
   ]
  },
  {
   "cell_type": "markdown",
   "metadata": {},
   "source": [
    "My questions:\n",
    "\n",
    "I wonder why some apps/ads are better than the others?...\n",
    "\n",
    "Any good paring for ads/apps?"
   ]
  },
  {
   "cell_type": "markdown",
   "metadata": {},
   "source": [
    "#More controlled comparison with platform/browser and geo-location"
   ]
  },
  {
   "cell_type": "markdown",
   "metadata": {},
   "source": [
    "Android vs iOS\n",
    "\n",
    "67 vs 68\n",
    "\n",
    "72 vs 71"
   ]
  },
  {
   "cell_type": "markdown",
   "metadata": {},
   "source": [
    "Too much ad_show data: can use the precalculated event count table"
   ]
  },
  {
   "cell_type": "code",
   "execution_count": 362,
   "metadata": {
    "collapsed": true
   },
   "outputs": [],
   "source": [
    "df_show = pd.read_csv(\"../data/ad_show_count_150617.tab\",sep='\\t',index_col=0)\n",
    "df_click = pd.read_csv(\"../data/ad_click_count_150617.tab\",sep='\\t',index_col=0)"
   ]
  },
  {
   "cell_type": "markdown",
   "metadata": {},
   "source": [
    "Advertisement on both 67 and 68:"
   ]
  },
  {
   "cell_type": "code",
   "execution_count": 372,
   "metadata": {
    "collapsed": false
   },
   "outputs": [],
   "source": [
    "ads67 = df_show['67'][df_show['67'] > 0].index"
   ]
  },
  {
   "cell_type": "code",
   "execution_count": 373,
   "metadata": {
    "collapsed": true
   },
   "outputs": [],
   "source": [
    "ads68 = df_show['68'][df_show['68'] > 0].index"
   ]
  },
  {
   "cell_type": "code",
   "execution_count": 382,
   "metadata": {
    "collapsed": false
   },
   "outputs": [],
   "source": [
    "inter_set_67_68 = set(ads67) - (set(ads67) - set(ads68))"
   ]
  },
  {
   "cell_type": "code",
   "execution_count": 383,
   "metadata": {
    "collapsed": false
   },
   "outputs": [
    {
     "data": {
      "text/plain": [
       "17"
      ]
     },
     "execution_count": 383,
     "metadata": {},
     "output_type": "execute_result"
    }
   ],
   "source": [
    "len(inter_set_67_68)"
   ]
  },
  {
   "cell_type": "code",
   "execution_count": 384,
   "metadata": {
    "collapsed": true
   },
   "outputs": [],
   "source": [
    "index = []\n",
    "for i in inter_set_67_68:\n",
    "    index.append(i)"
   ]
  },
  {
   "cell_type": "code",
   "execution_count": 385,
   "metadata": {
    "collapsed": true
   },
   "outputs": [],
   "source": [
    "cmp1 = pd.DataFrame(index=index, columns=['67_show','67_click','68_show','68_click'])\n",
    "cmp1 = cmp1.fillna(0)"
   ]
  },
  {
   "cell_type": "code",
   "execution_count": 393,
   "metadata": {
    "collapsed": false
   },
   "outputs": [],
   "source": [
    "for i in index:\n",
    "    cmp1.loc[i, '67_show'] = df_show.loc[i, '67']\n",
    "    cmp1.loc[i, '67_click'] = df_click.loc[i, '67']\n",
    "    cmp1.loc[i, '68_show'] = df_show.loc[i, '68']\n",
    "    cmp1.loc[i, '68_click'] = df_click.loc[i, '68']"
   ]
  },
  {
   "cell_type": "code",
   "execution_count": 396,
   "metadata": {
    "collapsed": false
   },
   "outputs": [],
   "source": [
    "cmp1['67_rate'] = cmp1['67_click'] / cmp1['67_show']"
   ]
  },
  {
   "cell_type": "code",
   "execution_count": 398,
   "metadata": {
    "collapsed": false
   },
   "outputs": [],
   "source": [
    "cmp1['68_rate'] = cmp1['68_click'] / cmp1['68_show']"
   ]
  },
  {
   "cell_type": "code",
   "execution_count": 408,
   "metadata": {
    "collapsed": false
   },
   "outputs": [
    {
     "data": {
      "text/html": [
       "<div style=\"max-height:1000px;max-width:1500px;overflow:auto;\">\n",
       "<table border=\"1\" class=\"dataframe\">\n",
       "  <thead>\n",
       "    <tr style=\"text-align: right;\">\n",
       "      <th></th>\n",
       "      <th>67_show</th>\n",
       "      <th>67_click</th>\n",
       "      <th>68_show</th>\n",
       "      <th>68_click</th>\n",
       "      <th>67_rate</th>\n",
       "      <th>68_rate</th>\n",
       "    </tr>\n",
       "  </thead>\n",
       "  <tbody>\n",
       "    <tr>\n",
       "      <th>246</th>\n",
       "      <td>    77</td>\n",
       "      <td>   0</td>\n",
       "      <td>  9</td>\n",
       "      <td> 0</td>\n",
       "      <td> 0.000000</td>\n",
       "      <td> 0.000000</td>\n",
       "    </tr>\n",
       "    <tr>\n",
       "      <th>292</th>\n",
       "      <td>    13</td>\n",
       "      <td>   0</td>\n",
       "      <td> 29</td>\n",
       "      <td> 0</td>\n",
       "      <td> 0.000000</td>\n",
       "      <td> 0.000000</td>\n",
       "    </tr>\n",
       "    <tr>\n",
       "      <th>293</th>\n",
       "      <td>    18</td>\n",
       "      <td>   0</td>\n",
       "      <td> 27</td>\n",
       "      <td> 0</td>\n",
       "      <td> 0.000000</td>\n",
       "      <td> 0.000000</td>\n",
       "    </tr>\n",
       "    <tr>\n",
       "      <th>327</th>\n",
       "      <td>   197</td>\n",
       "      <td>   0</td>\n",
       "      <td> 32</td>\n",
       "      <td> 0</td>\n",
       "      <td> 0.000000</td>\n",
       "      <td> 0.000000</td>\n",
       "    </tr>\n",
       "    <tr>\n",
       "      <th>330</th>\n",
       "      <td> 39448</td>\n",
       "      <td> 266</td>\n",
       "      <td>  9</td>\n",
       "      <td> 0</td>\n",
       "      <td> 0.006743</td>\n",
       "      <td> 0.000000</td>\n",
       "    </tr>\n",
       "    <tr>\n",
       "      <th>334</th>\n",
       "      <td>   232</td>\n",
       "      <td>   0</td>\n",
       "      <td> 11</td>\n",
       "      <td> 0</td>\n",
       "      <td> 0.000000</td>\n",
       "      <td> 0.000000</td>\n",
       "    </tr>\n",
       "    <tr>\n",
       "      <th>349</th>\n",
       "      <td>   271</td>\n",
       "      <td>   0</td>\n",
       "      <td> 40</td>\n",
       "      <td> 0</td>\n",
       "      <td> 0.000000</td>\n",
       "      <td> 0.000000</td>\n",
       "    </tr>\n",
       "    <tr>\n",
       "      <th>350</th>\n",
       "      <td>   167</td>\n",
       "      <td>   0</td>\n",
       "      <td> 39</td>\n",
       "      <td> 1</td>\n",
       "      <td> 0.000000</td>\n",
       "      <td> 0.025641</td>\n",
       "    </tr>\n",
       "    <tr>\n",
       "      <th>342</th>\n",
       "      <td>   630</td>\n",
       "      <td>   5</td>\n",
       "      <td> 78</td>\n",
       "      <td> 0</td>\n",
       "      <td> 0.007937</td>\n",
       "      <td> 0.000000</td>\n",
       "    </tr>\n",
       "    <tr>\n",
       "      <th>156</th>\n",
       "      <td>    51</td>\n",
       "      <td>   1</td>\n",
       "      <td> 53</td>\n",
       "      <td> 0</td>\n",
       "      <td> 0.019608</td>\n",
       "      <td> 0.000000</td>\n",
       "    </tr>\n",
       "    <tr>\n",
       "      <th>157</th>\n",
       "      <td>    43</td>\n",
       "      <td>   0</td>\n",
       "      <td> 60</td>\n",
       "      <td> 1</td>\n",
       "      <td> 0.000000</td>\n",
       "      <td> 0.016667</td>\n",
       "    </tr>\n",
       "    <tr>\n",
       "      <th>158</th>\n",
       "      <td>    40</td>\n",
       "      <td>   1</td>\n",
       "      <td> 51</td>\n",
       "      <td> 1</td>\n",
       "      <td> 0.025000</td>\n",
       "      <td> 0.019608</td>\n",
       "    </tr>\n",
       "  </tbody>\n",
       "</table>\n",
       "<p>12 rows × 6 columns</p>\n",
       "</div>"
      ],
      "text/plain": [
       "     67_show  67_click  68_show  68_click   67_rate   68_rate\n",
       "246       77         0        9         0  0.000000  0.000000\n",
       "292       13         0       29         0  0.000000  0.000000\n",
       "293       18         0       27         0  0.000000  0.000000\n",
       "327      197         0       32         0  0.000000  0.000000\n",
       "330    39448       266        9         0  0.006743  0.000000\n",
       "334      232         0       11         0  0.000000  0.000000\n",
       "349      271         0       40         0  0.000000  0.000000\n",
       "350      167         0       39         1  0.000000  0.025641\n",
       "342      630         5       78         0  0.007937  0.000000\n",
       "156       51         1       53         0  0.019608  0.000000\n",
       "157       43         0       60         1  0.000000  0.016667\n",
       "158       40         1       51         1  0.025000  0.019608\n",
       "\n",
       "[12 rows x 6 columns]"
      ]
     },
     "execution_count": 408,
     "metadata": {},
     "output_type": "execute_result"
    }
   ],
   "source": [
    "cmp1_sub = cmp1[cmp1['67_show'] > 5]\n",
    "cmp1_sub = cmp1_sub[cmp1_sub['68_show'] > 5]\n",
    "cmp1_sub"
   ]
  },
  {
   "cell_type": "code",
   "execution_count": 409,
   "metadata": {
    "collapsed": false
   },
   "outputs": [
    {
     "data": {
      "text/plain": [
       "<matplotlib.axes._subplots.AxesSubplot at 0x7fb992daab10>"
      ]
     },
     "execution_count": 409,
     "metadata": {},
     "output_type": "execute_result"
    },
    {
     "data": {
      "image/png": "[encoded data removed]",
      "text/plain": [
       "<matplotlib.figure.Figure at 0x7fb9ac4365d0>"
      ]
     },
     "metadata": {},
     "output_type": "display_data"
    }
   ],
   "source": [
    "sns.violinplot(cmp1_sub[['67_rate','68_rate']])"
   ]
  },
  {
   "cell_type": "markdown",
   "metadata": {},
   "source": [
    "Try to get more data historically, and only 'ITA' (restrict another variable):"
   ]
  },
  {
   "cell_type": "code",
   "execution_count": 410,
   "metadata": {
    "collapsed": true
   },
   "outputs": [],
   "source": [
    "cmp2 = pd.DataFrame(index=index, columns=['67_show','67_click','68_show','68_click'])\n",
    "cmp2 = cmp2.fillna(0)"
   ]
  },
  {
   "cell_type": "code",
   "execution_count": 417,
   "metadata": {
    "collapsed": true
   },
   "outputs": [],
   "source": [
    "for i in index:\n",
    "    cmp2.loc[i, '67_show'] = es.count(index=\"events-*\", body={'query': {'bool': {'must':[{'match': { 'ai' : 67 }}, {'match': { 'cr' : i }}, {'match': { 'et' : 'AD_SHOW' }}, {'match': { 'co' : 'ITA' }}], 'must_not':[{'match': { 'fr' : 'true' }}]}}})['count']\n",
    "    cmp2.loc[i, '67_click'] = es.count(index=\"events-*\", body={'query': {'bool': {'must':[{'match': { 'ai' : 67 }}, {'match': { 'cr' : i }}, {'match': { 'et' : 'AD_CLICK' }}, {'match': { 'co' : 'ITA' }}], 'must_not':[{'match': { 'fr' : 'true' }}]}}})['count']\n",
    "    cmp2.loc[i, '68_show'] = es.count(index=\"events-*\", body={'query': {'bool': {'must':[{'match': { 'ai' : 68 }}, {'match': { 'cr' : i }}, {'match': { 'et' : 'AD_SHOW' }}, {'match': { 'co' : 'ITA' }}], 'must_not':[{'match': { 'fr' : 'true' }}]}}})['count']\n",
    "    cmp2.loc[i, '68_click'] = es.count(index=\"events-*\", body={'query': {'bool': {'must':[{'match': { 'ai' : 68 }}, {'match': { 'cr' : i }}, {'match': { 'et' : 'AD_CLICK' }}, {'match': { 'co' : 'ITA' }}], 'must_not':[{'match': { 'fr' : 'true' }}]}}})['count']"
   ]
  },
  {
   "cell_type": "code",
   "execution_count": 422,
   "metadata": {
    "collapsed": false
   },
   "outputs": [],
   "source": [
    "cmp2['67_rate'] = cmp2['67_click'] / cmp2['67_show']\n",
    "cmp2['68_rate'] = cmp2['68_click'] / cmp2['68_show']"
   ]
  },
  {
   "cell_type": "code",
   "execution_count": 424,
   "metadata": {
    "collapsed": false
   },
   "outputs": [
    {
     "data": {
      "text/html": [
       "<div style=\"max-height:1000px;max-width:1500px;overflow:auto;\">\n",
       "<table border=\"1\" class=\"dataframe\">\n",
       "  <thead>\n",
       "    <tr style=\"text-align: right;\">\n",
       "      <th></th>\n",
       "      <th>67_show</th>\n",
       "      <th>67_click</th>\n",
       "      <th>68_show</th>\n",
       "      <th>68_click</th>\n",
       "      <th>67_rate</th>\n",
       "      <th>68_rate</th>\n",
       "    </tr>\n",
       "  </thead>\n",
       "  <tbody>\n",
       "    <tr>\n",
       "      <th>246</th>\n",
       "      <td>    76</td>\n",
       "      <td>   0</td>\n",
       "      <td>  9</td>\n",
       "      <td> 0</td>\n",
       "      <td> 0.000000</td>\n",
       "      <td> 0.000000</td>\n",
       "    </tr>\n",
       "    <tr>\n",
       "      <th>327</th>\n",
       "      <td>   208</td>\n",
       "      <td>   0</td>\n",
       "      <td> 29</td>\n",
       "      <td> 0</td>\n",
       "      <td> 0.000000</td>\n",
       "      <td> 0.000000</td>\n",
       "    </tr>\n",
       "    <tr>\n",
       "      <th>330</th>\n",
       "      <td> 42177</td>\n",
       "      <td> 286</td>\n",
       "      <td>  9</td>\n",
       "      <td> 0</td>\n",
       "      <td> 0.006781</td>\n",
       "      <td> 0.000000</td>\n",
       "    </tr>\n",
       "    <tr>\n",
       "      <th>334</th>\n",
       "      <td>   240</td>\n",
       "      <td>   0</td>\n",
       "      <td> 10</td>\n",
       "      <td> 0</td>\n",
       "      <td> 0.000000</td>\n",
       "      <td> 0.000000</td>\n",
       "    </tr>\n",
       "    <tr>\n",
       "      <th>349</th>\n",
       "      <td>   283</td>\n",
       "      <td>   0</td>\n",
       "      <td> 38</td>\n",
       "      <td> 0</td>\n",
       "      <td> 0.000000</td>\n",
       "      <td> 0.000000</td>\n",
       "    </tr>\n",
       "    <tr>\n",
       "      <th>350</th>\n",
       "      <td>   212</td>\n",
       "      <td>   0</td>\n",
       "      <td> 23</td>\n",
       "      <td> 1</td>\n",
       "      <td> 0.000000</td>\n",
       "      <td> 0.043478</td>\n",
       "    </tr>\n",
       "    <tr>\n",
       "      <th>342</th>\n",
       "      <td>   620</td>\n",
       "      <td>   4</td>\n",
       "      <td> 78</td>\n",
       "      <td> 0</td>\n",
       "      <td> 0.006452</td>\n",
       "      <td> 0.000000</td>\n",
       "    </tr>\n",
       "  </tbody>\n",
       "</table>\n",
       "<p>7 rows × 6 columns</p>\n",
       "</div>"
      ],
      "text/plain": [
       "     67_show  67_click  68_show  68_click   67_rate   68_rate\n",
       "246       76         0        9         0  0.000000  0.000000\n",
       "327      208         0       29         0  0.000000  0.000000\n",
       "330    42177       286        9         0  0.006781  0.000000\n",
       "334      240         0       10         0  0.000000  0.000000\n",
       "349      283         0       38         0  0.000000  0.000000\n",
       "350      212         0       23         1  0.000000  0.043478\n",
       "342      620         4       78         0  0.006452  0.000000\n",
       "\n",
       "[7 rows x 6 columns]"
      ]
     },
     "execution_count": 424,
     "metadata": {},
     "output_type": "execute_result"
    }
   ],
   "source": [
    "cmp2_sub = cmp2[cmp2['67_show'] > 5]\n",
    "cmp2_sub = cmp2_sub[cmp2_sub['68_show'] > 5]\n",
    "cmp2_sub"
   ]
  },
  {
   "cell_type": "markdown",
   "metadata": {},
   "source": [
    "That's not interesting..."
   ]
  },
  {
   "cell_type": "code",
   "execution_count": 425,
   "metadata": {
    "collapsed": true
   },
   "outputs": [],
   "source": [
    "ads71 = df_show['71'][df_show['71'] > 0].index\n",
    "ads72 = df_show['72'][df_show['72'] > 0].index"
   ]
  },
  {
   "cell_type": "code",
   "execution_count": 426,
   "metadata": {
    "collapsed": false
   },
   "outputs": [
    {
     "data": {
      "text/plain": [
       "8"
      ]
     },
     "execution_count": 426,
     "metadata": {},
     "output_type": "execute_result"
    }
   ],
   "source": [
    "inter_set_71_72 = set(ads71) - (set(ads71) - set(ads72))\n",
    "len(inter_set_71_72)"
   ]
  },
  {
   "cell_type": "code",
   "execution_count": 427,
   "metadata": {
    "collapsed": false
   },
   "outputs": [
    {
     "data": {
      "text/plain": [
       "[327, 334, 339, 342, 281, 283, 349, 350]"
      ]
     },
     "execution_count": 427,
     "metadata": {},
     "output_type": "execute_result"
    }
   ],
   "source": [
    "index2 = []\n",
    "for i in inter_set_71_72:\n",
    "    index2.append(i)\n",
    "index2"
   ]
  },
  {
   "cell_type": "code",
   "execution_count": 431,
   "metadata": {
    "collapsed": false
   },
   "outputs": [
    {
     "data": {
      "text/html": [
       "<div style=\"max-height:1000px;max-width:1500px;overflow:auto;\">\n",
       "<table border=\"1\" class=\"dataframe\">\n",
       "  <thead>\n",
       "    <tr style=\"text-align: right;\">\n",
       "      <th></th>\n",
       "      <th>71_show</th>\n",
       "      <th>71_click</th>\n",
       "      <th>72_show</th>\n",
       "      <th>72_click</th>\n",
       "    </tr>\n",
       "  </thead>\n",
       "  <tbody>\n",
       "    <tr>\n",
       "      <th>327</th>\n",
       "      <td>  258</td>\n",
       "      <td>  5</td>\n",
       "      <td>  10</td>\n",
       "      <td> 0</td>\n",
       "    </tr>\n",
       "    <tr>\n",
       "      <th>334</th>\n",
       "      <td>  149</td>\n",
       "      <td>  3</td>\n",
       "      <td>   0</td>\n",
       "      <td> 0</td>\n",
       "    </tr>\n",
       "    <tr>\n",
       "      <th>339</th>\n",
       "      <td>    0</td>\n",
       "      <td>  0</td>\n",
       "      <td>   0</td>\n",
       "      <td> 0</td>\n",
       "    </tr>\n",
       "    <tr>\n",
       "      <th>342</th>\n",
       "      <td>    1</td>\n",
       "      <td>  0</td>\n",
       "      <td>   0</td>\n",
       "      <td> 0</td>\n",
       "    </tr>\n",
       "    <tr>\n",
       "      <th>281</th>\n",
       "      <td>   47</td>\n",
       "      <td>  5</td>\n",
       "      <td> 143</td>\n",
       "      <td> 2</td>\n",
       "    </tr>\n",
       "    <tr>\n",
       "      <th>283</th>\n",
       "      <td>   30</td>\n",
       "      <td>  3</td>\n",
       "      <td> 143</td>\n",
       "      <td> 1</td>\n",
       "    </tr>\n",
       "    <tr>\n",
       "      <th>349</th>\n",
       "      <td> 1482</td>\n",
       "      <td> 12</td>\n",
       "      <td>   0</td>\n",
       "      <td> 0</td>\n",
       "    </tr>\n",
       "    <tr>\n",
       "      <th>350</th>\n",
       "      <td>  595</td>\n",
       "      <td>  6</td>\n",
       "      <td> 136</td>\n",
       "      <td> 0</td>\n",
       "    </tr>\n",
       "  </tbody>\n",
       "</table>\n",
       "<p>8 rows × 4 columns</p>\n",
       "</div>"
      ],
      "text/plain": [
       "     71_show  71_click  72_show  72_click\n",
       "327      258         5       10         0\n",
       "334      149         3        0         0\n",
       "339        0         0        0         0\n",
       "342        1         0        0         0\n",
       "281       47         5      143         2\n",
       "283       30         3      143         1\n",
       "349     1482        12        0         0\n",
       "350      595         6      136         0\n",
       "\n",
       "[8 rows x 4 columns]"
      ]
     },
     "execution_count": 431,
     "metadata": {},
     "output_type": "execute_result"
    }
   ],
   "source": [
    "cmp3 = pd.DataFrame(index=index2, columns=['71_show','71_click','72_show','72_click'])\n",
    "cmp3 = cmp3.fillna(0)\n",
    "for i in index2:\n",
    "    cmp3.loc[i, '71_show'] = es.count(index=\"events-*\", body={'query': {'bool': {'must':[{'match': { 'ai' : 71 }}, {'match': { 'cr' : i }}, {'match': { 'et' : 'AD_SHOW' }}, {'match': { 'co' : 'ITA' }}], 'must_not':[{'match': { 'fr' : 'true' }}]}}})['count']\n",
    "    cmp3.loc[i, '71_click'] = es.count(index=\"events-*\", body={'query': {'bool': {'must':[{'match': { 'ai' : 71 }}, {'match': { 'cr' : i }}, {'match': { 'et' : 'AD_CLICK' }}, {'match': { 'co' : 'ITA' }}], 'must_not':[{'match': { 'fr' : 'true' }}]}}})['count']\n",
    "    cmp3.loc[i, '72_show'] = es.count(index=\"events-*\", body={'query': {'bool': {'must':[{'match': { 'ai' : 72 }}, {'match': { 'cr' : i }}, {'match': { 'et' : 'AD_SHOW' }}, {'match': { 'co' : 'ITA' }}], 'must_not':[{'match': { 'fr' : 'true' }}]}}})['count']\n",
    "    cmp3.loc[i, '72_click'] = es.count(index=\"events-*\", body={'query': {'bool': {'must':[{'match': { 'ai' : 72 }}, {'match': { 'cr' : i }}, {'match': { 'et' : 'AD_CLICK' }}, {'match': { 'co' : 'ITA' }}], 'must_not':[{'match': { 'fr' : 'true' }}]}}})['count']\n",
    "cmp3"
   ]
  },
  {
   "cell_type": "code",
   "execution_count": 432,
   "metadata": {
    "collapsed": false
   },
   "outputs": [
    {
     "data": {
      "text/html": [
       "<div style=\"max-height:1000px;max-width:1500px;overflow:auto;\">\n",
       "<table border=\"1\" class=\"dataframe\">\n",
       "  <thead>\n",
       "    <tr style=\"text-align: right;\">\n",
       "      <th></th>\n",
       "      <th>71_show</th>\n",
       "      <th>71_click</th>\n",
       "      <th>72_show</th>\n",
       "      <th>72_click</th>\n",
       "      <th>71_rate</th>\n",
       "      <th>72_rate</th>\n",
       "    </tr>\n",
       "  </thead>\n",
       "  <tbody>\n",
       "    <tr>\n",
       "      <th>327</th>\n",
       "      <td>  258</td>\n",
       "      <td>  5</td>\n",
       "      <td>  10</td>\n",
       "      <td> 0</td>\n",
       "      <td> 0.019380</td>\n",
       "      <td> 0.000000</td>\n",
       "    </tr>\n",
       "    <tr>\n",
       "      <th>334</th>\n",
       "      <td>  149</td>\n",
       "      <td>  3</td>\n",
       "      <td>   0</td>\n",
       "      <td> 0</td>\n",
       "      <td> 0.020134</td>\n",
       "      <td>      inf</td>\n",
       "    </tr>\n",
       "    <tr>\n",
       "      <th>339</th>\n",
       "      <td>    0</td>\n",
       "      <td>  0</td>\n",
       "      <td>   0</td>\n",
       "      <td> 0</td>\n",
       "      <td>      inf</td>\n",
       "      <td>      inf</td>\n",
       "    </tr>\n",
       "    <tr>\n",
       "      <th>342</th>\n",
       "      <td>    1</td>\n",
       "      <td>  0</td>\n",
       "      <td>   0</td>\n",
       "      <td> 0</td>\n",
       "      <td> 0.000000</td>\n",
       "      <td>      inf</td>\n",
       "    </tr>\n",
       "    <tr>\n",
       "      <th>281</th>\n",
       "      <td>   47</td>\n",
       "      <td>  5</td>\n",
       "      <td> 143</td>\n",
       "      <td> 2</td>\n",
       "      <td> 0.106383</td>\n",
       "      <td> 0.013986</td>\n",
       "    </tr>\n",
       "    <tr>\n",
       "      <th>283</th>\n",
       "      <td>   30</td>\n",
       "      <td>  3</td>\n",
       "      <td> 143</td>\n",
       "      <td> 1</td>\n",
       "      <td> 0.100000</td>\n",
       "      <td> 0.006993</td>\n",
       "    </tr>\n",
       "    <tr>\n",
       "      <th>349</th>\n",
       "      <td> 1482</td>\n",
       "      <td> 12</td>\n",
       "      <td>   0</td>\n",
       "      <td> 0</td>\n",
       "      <td> 0.008097</td>\n",
       "      <td>      inf</td>\n",
       "    </tr>\n",
       "    <tr>\n",
       "      <th>350</th>\n",
       "      <td>  595</td>\n",
       "      <td>  6</td>\n",
       "      <td> 136</td>\n",
       "      <td> 0</td>\n",
       "      <td> 0.010084</td>\n",
       "      <td> 0.000000</td>\n",
       "    </tr>\n",
       "  </tbody>\n",
       "</table>\n",
       "<p>8 rows × 6 columns</p>\n",
       "</div>"
      ],
      "text/plain": [
       "     71_show  71_click  72_show  72_click   71_rate   72_rate\n",
       "327      258         5       10         0  0.019380  0.000000\n",
       "334      149         3        0         0  0.020134       inf\n",
       "339        0         0        0         0       inf       inf\n",
       "342        1         0        0         0  0.000000       inf\n",
       "281       47         5      143         2  0.106383  0.013986\n",
       "283       30         3      143         1  0.100000  0.006993\n",
       "349     1482        12        0         0  0.008097       inf\n",
       "350      595         6      136         0  0.010084  0.000000\n",
       "\n",
       "[8 rows x 6 columns]"
      ]
     },
     "execution_count": 432,
     "metadata": {},
     "output_type": "execute_result"
    }
   ],
   "source": [
    "cmp3['71_rate'] = cmp3['71_click'] / cmp3['71_show']\n",
    "cmp3['72_rate'] = cmp3['72_click'] / cmp3['72_show']\n",
    "cmp3"
   ]
  },
  {
   "cell_type": "markdown",
   "metadata": {},
   "source": [
    "Looks like the trend is opposite here..."
   ]
  },
  {
   "cell_type": "markdown",
   "metadata": {},
   "source": [
    "# Correlation between browser and location?"
   ]
  },
  {
   "cell_type": "code",
   "execution_count": 418,
   "metadata": {
    "collapsed": false
   },
   "outputs": [
    {
     "data": {
      "text/html": [
       "<div style=\"max-height:1000px;max-width:1500px;overflow:auto;\">\n",
       "<table border=\"1\" class=\"dataframe\">\n",
       "  <thead>\n",
       "    <tr style=\"text-align: right;\">\n",
       "      <th></th>\n",
       "      <th>cnt</th>\n",
       "      <th>ctr</th>\n",
       "    </tr>\n",
       "  </thead>\n",
       "  <tbody>\n",
       "    <tr>\n",
       "      <th>Android</th>\n",
       "      <td> 396</td>\n",
       "      <td> 0.009202</td>\n",
       "    </tr>\n",
       "    <tr>\n",
       "      <th>BlackBerry</th>\n",
       "      <td>  56</td>\n",
       "      <td> 0.007741</td>\n",
       "    </tr>\n",
       "    <tr>\n",
       "      <th>Chrome</th>\n",
       "      <td> 354</td>\n",
       "      <td> 0.004996</td>\n",
       "    </tr>\n",
       "    <tr>\n",
       "      <th>Firefox</th>\n",
       "      <td>  61</td>\n",
       "      <td> 0.000224</td>\n",
       "    </tr>\n",
       "    <tr>\n",
       "      <th>Internet</th>\n",
       "      <td>   2</td>\n",
       "      <td> 1.000000</td>\n",
       "    </tr>\n",
       "    <tr>\n",
       "      <th>Opera</th>\n",
       "      <td>  39</td>\n",
       "      <td> 0.002702</td>\n",
       "    </tr>\n",
       "    <tr>\n",
       "      <th>Other</th>\n",
       "      <td>  44</td>\n",
       "      <td> 0.002992</td>\n",
       "    </tr>\n",
       "    <tr>\n",
       "      <th>Safari</th>\n",
       "      <td> 945</td>\n",
       "      <td> 0.004234</td>\n",
       "    </tr>\n",
       "    <tr>\n",
       "      <th>iPad</th>\n",
       "      <td>  18</td>\n",
       "      <td> 0.004315</td>\n",
       "    </tr>\n",
       "    <tr>\n",
       "      <th>iPhone</th>\n",
       "      <td> 109</td>\n",
       "      <td> 0.006126</td>\n",
       "    </tr>\n",
       "  </tbody>\n",
       "</table>\n",
       "<p>10 rows × 2 columns</p>\n",
       "</div>"
      ],
      "text/plain": [
       "            cnt       ctr\n",
       "Android     396  0.009202\n",
       "BlackBerry   56  0.007741\n",
       "Chrome      354  0.004996\n",
       "Firefox      61  0.000224\n",
       "Internet      2  1.000000\n",
       "Opera        39  0.002702\n",
       "Other        44  0.002992\n",
       "Safari      945  0.004234\n",
       "iPad         18  0.004315\n",
       "iPhone      109  0.006126\n",
       "\n",
       "[10 rows x 2 columns]"
      ]
     },
     "execution_count": 418,
     "metadata": {},
     "output_type": "execute_result"
    }
   ],
   "source": [
    "co = 'NGA'\n",
    "check_cor = data2[data2['co'] == co].groupby('br_short').apply(lambda x:float(x.click.sum())/((~x.click).sum()/impression_sample_rate + x.click.sum()))\n",
    "check_cor.sort(ascending = False)\n",
    "pd.DataFrame({'ctr':check_cor,'cnt':data2[data2['co'] == co]['br_short'].value_counts()})"
   ]
  },
  {
   "cell_type": "code",
   "execution_count": 433,
   "metadata": {
    "collapsed": false
   },
   "outputs": [
    {
     "data": {
      "text/html": [
       "<div style=\"max-height:1000px;max-width:1500px;overflow:auto;\">\n",
       "<table border=\"1\" class=\"dataframe\">\n",
       "  <thead>\n",
       "    <tr style=\"text-align: right;\">\n",
       "      <th></th>\n",
       "      <th>cnt</th>\n",
       "      <th>ctr</th>\n",
       "    </tr>\n",
       "  </thead>\n",
       "  <tbody>\n",
       "    <tr>\n",
       "      <th>android</th>\n",
       "      <td> 685</td>\n",
       "      <td> 0.007675</td>\n",
       "    </tr>\n",
       "    <tr>\n",
       "      <th>ios</th>\n",
       "      <td> 129</td>\n",
       "      <td> 0.005798</td>\n",
       "    </tr>\n",
       "  </tbody>\n",
       "</table>\n",
       "<p>2 rows × 2 columns</p>\n",
       "</div>"
      ],
      "text/plain": [
       "         cnt       ctr\n",
       "android  685  0.007675\n",
       "ios      129  0.005798\n",
       "\n",
       "[2 rows x 2 columns]"
      ]
     },
     "execution_count": 433,
     "metadata": {},
     "output_type": "execute_result"
    }
   ],
   "source": [
    "co = 'NGA'\n",
    "check_cor = data2[data2['co'] == co].groupby('plfm').apply(lambda x:float(x.click.sum())/((~x.click).sum()/impression_sample_rate + x.click.sum()))\n",
    "check_cor.sort(ascending = False)\n",
    "pd.DataFrame({'ctr':check_cor,'cnt':data2[data2['co'] == co]['plfm'].value_counts()})"
   ]
  },
  {
   "cell_type": "markdown",
   "metadata": {},
   "source": [
    "Seem to be somehow correlated..."
   ]
  },
  {
   "cell_type": "code",
   "execution_count": null,
   "metadata": {
    "collapsed": false
   },
   "outputs": [],
   "source": [
    "co_ctr = data2.groupby('co').apply(lambda x:float(x.click.sum())/((~x.click).sum()/impression_sample_rate + x.click.sum()))\n",
    "co_anroid_iphone = data2.groupby('co').apply(lambda x:float(x[x['br_short'] == 'Android'].shape[0])/(x[x['br_short'] == 'iPhone'].shape[0] + 0.01))\n",
    "pd.DataFrame({'ctr':co_ctr,'br_rate':co_anroid_iphone}).plot(kind='scatter',x='br_rate',y='ctr',ylim=(-.02,.06),xlim=(-50,420))"
   ]
  },
  {
   "cell_type": "markdown",
   "metadata": {},
   "source": [
    "No they are not correclated across all countries...\n",
    "\n",
    "What to look at it in a different way:"
   ]
  },
  {
   "cell_type": "code",
   "execution_count": 484,
   "metadata": {
    "collapsed": true
   },
   "outputs": [],
   "source": [
    "countries = ['ITA','GBR','NGA','USA']\n",
    "platforms = ['android','ios']\n",
    "cmp_co = pd.DataFrame(index=countries, columns=['android','ios','show','click','ctr'])\n",
    "cmp_co = cmp_co.fillna(0)\n",
    "for col in platforms:\n",
    "    for ind in countries:\n",
    "        cmp_co.loc[ind,col] = es.count(index=\"events-*\", body={'query': {'bool': {'must':[{'match': { 'co' : ind }}, {'match': { 'plfm' : col }}, {'match': { 'et' : 'AD_SHOW' }}], 'must_not':[{'match': { 'fr' : 'true' }}]}}})['count']"
   ]
  },
  {
   "cell_type": "code",
   "execution_count": 437,
   "metadata": {
    "collapsed": true
   },
   "outputs": [],
   "source": [
    "for co in countries:\n",
    "    cmp_co.loc[co, 'show'] = es.count(index=\"events-*\", body={'query': {'bool': {'must':[{'match': { 'co' : co }}, {'match': { 'et' : 'AD_SHOW' }}], 'must_not':[{'match': { 'fr' : 'true' }}]}}})['count']\n",
    "    cmp_co.loc[co, 'click'] = es.count(index=\"events-*\", body={'query': {'bool': {'must':[{'match': { 'co' : co }}, {'match': { 'et' : 'AD_CLICK' }}], 'must_not':[{'match': { 'fr' : 'true' }}]}}})['count']"
   ]
  },
  {
   "cell_type": "code",
   "execution_count": 439,
   "metadata": {
    "collapsed": false
   },
   "outputs": [
    {
     "data": {
      "text/html": [
       "<div style=\"max-height:1000px;max-width:1500px;overflow:auto;\">\n",
       "<table border=\"1\" class=\"dataframe\">\n",
       "  <thead>\n",
       "    <tr style=\"text-align: right;\">\n",
       "      <th></th>\n",
       "      <th>android</th>\n",
       "      <th>ios</th>\n",
       "      <th>show</th>\n",
       "      <th>click</th>\n",
       "      <th>ctr</th>\n",
       "    </tr>\n",
       "  </thead>\n",
       "  <tbody>\n",
       "    <tr>\n",
       "      <th>ITA</th>\n",
       "      <td> 347836</td>\n",
       "      <td>     657</td>\n",
       "      <td>  463172</td>\n",
       "      <td> 2224</td>\n",
       "      <td> 0.004802</td>\n",
       "    </tr>\n",
       "    <tr>\n",
       "      <th>GBR</th>\n",
       "      <td>  45299</td>\n",
       "      <td>   24246</td>\n",
       "      <td> 1486800</td>\n",
       "      <td> 4617</td>\n",
       "      <td> 0.003105</td>\n",
       "    </tr>\n",
       "    <tr>\n",
       "      <th>NGA</th>\n",
       "      <td> 169955</td>\n",
       "      <td>   37855</td>\n",
       "      <td>  580580</td>\n",
       "      <td> 1833</td>\n",
       "      <td> 0.003157</td>\n",
       "    </tr>\n",
       "    <tr>\n",
       "      <th>USA</th>\n",
       "      <td> 287950</td>\n",
       "      <td> 1069349</td>\n",
       "      <td> 2110402</td>\n",
       "      <td> 1287</td>\n",
       "      <td> 0.000610</td>\n",
       "    </tr>\n",
       "  </tbody>\n",
       "</table>\n",
       "<p>4 rows × 5 columns</p>\n",
       "</div>"
      ],
      "text/plain": [
       "     android      ios     show  click       ctr\n",
       "ITA   347836      657   463172   2224  0.004802\n",
       "GBR    45299    24246  1486800   4617  0.003105\n",
       "NGA   169955    37855   580580   1833  0.003157\n",
       "USA   287950  1069349  2110402   1287  0.000610\n",
       "\n",
       "[4 rows x 5 columns]"
      ]
     },
     "execution_count": 439,
     "metadata": {},
     "output_type": "execute_result"
    }
   ],
   "source": [
    "cmp_co = cmp_co[['android','ios','show','click','ctr']]\n",
    "cmp_co.loc[:,'ctr'] = cmp_co['click'] / cmp_co['show']\n",
    "cmp_co"
   ]
  },
  {
   "cell_type": "code",
   "execution_count": 457,
   "metadata": {
    "collapsed": false
   },
   "outputs": [
    {
     "data": {
      "text/html": [
       "<div style=\"max-height:1000px;max-width:1500px;overflow:auto;\">\n",
       "<table border=\"1\" class=\"dataframe\">\n",
       "  <thead>\n",
       "    <tr style=\"text-align: right;\">\n",
       "      <th></th>\n",
       "      <th>android</th>\n",
       "      <th>ios</th>\n",
       "      <th>show</th>\n",
       "      <th>click</th>\n",
       "      <th>ctr</th>\n",
       "      <th>area</th>\n",
       "    </tr>\n",
       "  </thead>\n",
       "  <tbody>\n",
       "    <tr>\n",
       "      <th>ITA</th>\n",
       "      <td> 347836</td>\n",
       "      <td>     657</td>\n",
       "      <td>  463172</td>\n",
       "      <td> 2224</td>\n",
       "      <td> 0.004802</td>\n",
       "      <td> 138544.236023</td>\n",
       "    </tr>\n",
       "    <tr>\n",
       "      <th>GBR</th>\n",
       "      <td>  45299</td>\n",
       "      <td>   24246</td>\n",
       "      <td> 1486800</td>\n",
       "      <td> 4617</td>\n",
       "      <td> 0.003105</td>\n",
       "      <td>  57255.526112</td>\n",
       "    </tr>\n",
       "    <tr>\n",
       "      <th>NGA</th>\n",
       "      <td> 169955</td>\n",
       "      <td>   37855</td>\n",
       "      <td>  580580</td>\n",
       "      <td> 1833</td>\n",
       "      <td> 0.003157</td>\n",
       "      <td>  57255.526112</td>\n",
       "    </tr>\n",
       "    <tr>\n",
       "      <th>USA</th>\n",
       "      <td> 287950</td>\n",
       "      <td> 1069349</td>\n",
       "      <td> 2110402</td>\n",
       "      <td> 1287</td>\n",
       "      <td> 0.000610</td>\n",
       "      <td>   2827.433388</td>\n",
       "    </tr>\n",
       "  </tbody>\n",
       "</table>\n",
       "<p>4 rows × 6 columns</p>\n",
       "</div>"
      ],
      "text/plain": [
       "     android      ios     show  click       ctr           area\n",
       "ITA   347836      657   463172   2224  0.004802  138544.236023\n",
       "GBR    45299    24246  1486800   4617  0.003105   57255.526112\n",
       "NGA   169955    37855   580580   1833  0.003157   57255.526112\n",
       "USA   287950  1069349  2110402   1287  0.000610    2827.433388\n",
       "\n",
       "[4 rows x 6 columns]"
      ]
     },
     "execution_count": 457,
     "metadata": {},
     "output_type": "execute_result"
    }
   ],
   "source": [
    "cmp_co['area'] = np.pi * (15 * np.round(cmp_co['ctr']*3000))**2 \n",
    "cmp_co"
   ]
  },
  {
   "cell_type": "code",
   "execution_count": 471,
   "metadata": {
    "collapsed": false
   },
   "outputs": [
    {
     "data": {
      "text/plain": [
       "[<matplotlib.lines.Line2D at 0x7fb992074d10>]"
      ]
     },
     "execution_count": 471,
     "metadata": {},
     "output_type": "execute_result"
    },
    {
     "data": {
      "image/png": "[encoded data removed]",
      "text/plain": [
       "<matplotlib.figure.Figure at 0x7fb99240b410>"
      ]
     },
     "metadata": {},
     "output_type": "display_data"
    }
   ],
   "source": [
    "cmp_co['area'] = np.pi * (np.round(cmp_co['ctr']*3000))**2\n",
    "fig = plt.figure(figsize=(5, 5))\n",
    "ax = fig.add_subplot(1,1,1)\n",
    "ax.scatter(cmp_co['ios'],cmp_co['android'],s=cmp_co['area'],c=['r','y','g','b'],alpha=0.5)\n",
    "ax.set_ylabel('Number of events on Android',fontsize=16)\n",
    "ax.set_xlabel('Number of events on iOS',fontsize=16)\n",
    "plt.plot([0,400000], [0,400000], 'k--')"
   ]
  },
  {
   "cell_type": "code",
   "execution_count": 482,
   "metadata": {
    "collapsed": false
   },
   "outputs": [],
   "source": [
    "countries2 = data2['co'].value_counts()[:10].index.values"
   ]
  },
  {
   "cell_type": "code",
   "execution_count": 485,
   "metadata": {
    "collapsed": true
   },
   "outputs": [],
   "source": [
    "cmp_co2 = pd.DataFrame(index=countries2, columns=['android','ios','show','click','ctr'])\n",
    "cmp_co2 = cmp_co.fillna(0)\n",
    "for col in platforms:\n",
    "    for ind in countries2:\n",
    "        cmp_co2.loc[ind,col] = es.count(index=\"events-*\", body={'query': {'bool': {'must':[{'match': { 'co' : ind }}, {'match': { 'plfm' : col }}, {'match': { 'et' : 'AD_SHOW' }}], 'must_not':[{'match': { 'fr' : 'true' }}]}}})['count']"
   ]
  },
  {
   "cell_type": "code",
   "execution_count": 486,
   "metadata": {
    "collapsed": true
   },
   "outputs": [],
   "source": [
    "for co in countries2:\n",
    "    cmp_co2.loc[co, 'show'] = es.count(index=\"events-*\", body={'query': {'bool': {'must':[{'match': { 'co' : co }}, {'match': { 'et' : 'AD_SHOW' }}], 'must_not':[{'match': { 'fr' : 'true' }}]}}})['count']\n",
    "    cmp_co2.loc[co, 'click'] = es.count(index=\"events-*\", body={'query': {'bool': {'must':[{'match': { 'co' : co }}, {'match': { 'et' : 'AD_CLICK' }}], 'must_not':[{'match': { 'fr' : 'true' }}]}}})['count']"
   ]
  },
  {
   "cell_type": "code",
   "execution_count": 487,
   "metadata": {
    "collapsed": false
   },
   "outputs": [
    {
     "data": {
      "text/html": [
       "<div style=\"max-height:1000px;max-width:1500px;overflow:auto;\">\n",
       "<table border=\"1\" class=\"dataframe\">\n",
       "  <thead>\n",
       "    <tr style=\"text-align: right;\">\n",
       "      <th></th>\n",
       "      <th>android</th>\n",
       "      <th>ios</th>\n",
       "      <th>show</th>\n",
       "      <th>click</th>\n",
       "      <th>ctr</th>\n",
       "    </tr>\n",
       "  </thead>\n",
       "  <tbody>\n",
       "    <tr>\n",
       "      <th>ITA</th>\n",
       "      <td> 347868</td>\n",
       "      <td>     657</td>\n",
       "      <td>  463225</td>\n",
       "      <td> 2224</td>\n",
       "      <td> 0.004801</td>\n",
       "    </tr>\n",
       "    <tr>\n",
       "      <th>GBR</th>\n",
       "      <td>  45299</td>\n",
       "      <td>   24246</td>\n",
       "      <td> 1487042</td>\n",
       "      <td> 4617</td>\n",
       "      <td> 0.003105</td>\n",
       "    </tr>\n",
       "    <tr>\n",
       "      <th>NGA</th>\n",
       "      <td> 170062</td>\n",
       "      <td>   37855</td>\n",
       "      <td>  580809</td>\n",
       "      <td> 1834</td>\n",
       "      <td> 0.003158</td>\n",
       "    </tr>\n",
       "    <tr>\n",
       "      <th>USA</th>\n",
       "      <td> 287957</td>\n",
       "      <td> 1069352</td>\n",
       "      <td> 2110630</td>\n",
       "      <td> 1287</td>\n",
       "      <td> 0.000610</td>\n",
       "    </tr>\n",
       "    <tr>\n",
       "      <th>CAN</th>\n",
       "      <td>  10866</td>\n",
       "      <td>   27322</td>\n",
       "      <td>  105509</td>\n",
       "      <td>   62</td>\n",
       "      <td> 0.000588</td>\n",
       "    </tr>\n",
       "    <tr>\n",
       "      <th>AUS</th>\n",
       "      <td>    998</td>\n",
       "      <td>    2535</td>\n",
       "      <td>  129905</td>\n",
       "      <td>  115</td>\n",
       "      <td> 0.000885</td>\n",
       "    </tr>\n",
       "    <tr>\n",
       "      <th>SGP</th>\n",
       "      <td>    298</td>\n",
       "      <td>      31</td>\n",
       "      <td>  101535</td>\n",
       "      <td>   50</td>\n",
       "      <td> 0.000492</td>\n",
       "    </tr>\n",
       "    <tr>\n",
       "      <th>IRL</th>\n",
       "      <td>   2535</td>\n",
       "      <td>     467</td>\n",
       "      <td>   53476</td>\n",
       "      <td>   75</td>\n",
       "      <td> 0.001402</td>\n",
       "    </tr>\n",
       "    <tr>\n",
       "      <th>ZAF</th>\n",
       "      <td>  11429</td>\n",
       "      <td>    1278</td>\n",
       "      <td>   58286</td>\n",
       "      <td>   85</td>\n",
       "      <td> 0.001458</td>\n",
       "    </tr>\n",
       "    <tr>\n",
       "      <th>GHA</th>\n",
       "      <td>  10052</td>\n",
       "      <td>    4864</td>\n",
       "      <td>   35764</td>\n",
       "      <td>   78</td>\n",
       "      <td> 0.002181</td>\n",
       "    </tr>\n",
       "  </tbody>\n",
       "</table>\n",
       "<p>10 rows × 5 columns</p>\n",
       "</div>"
      ],
      "text/plain": [
       "     android      ios     show  click       ctr\n",
       "ITA   347868      657   463225   2224  0.004801\n",
       "GBR    45299    24246  1487042   4617  0.003105\n",
       "NGA   170062    37855   580809   1834  0.003158\n",
       "USA   287957  1069352  2110630   1287  0.000610\n",
       "CAN    10866    27322   105509     62  0.000588\n",
       "AUS      998     2535   129905    115  0.000885\n",
       "SGP      298       31   101535     50  0.000492\n",
       "IRL     2535      467    53476     75  0.001402\n",
       "ZAF    11429     1278    58286     85  0.001458\n",
       "GHA    10052     4864    35764     78  0.002181\n",
       "\n",
       "[10 rows x 5 columns]"
      ]
     },
     "execution_count": 487,
     "metadata": {},
     "output_type": "execute_result"
    }
   ],
   "source": [
    "#cmp_co2 = cmp_co2[['android','ios','show','click','ctr']]\n",
    "cmp_co2.loc[:,'ctr'] = cmp_co2['click'] / cmp_co2['show']\n",
    "cmp_co2"
   ]
  },
  {
   "cell_type": "code",
   "execution_count": 488,
   "metadata": {
    "collapsed": false
   },
   "outputs": [
    {
     "data": {
      "text/plain": [
       "[<matplotlib.lines.Line2D at 0x7fb991fb7890>]"
      ]
     },
     "execution_count": 488,
     "metadata": {},
     "output_type": "execute_result"
    },
    {
     "data": {
      "image/png": "[encoded data removed]",
      "text/plain": [
       "<matplotlib.figure.Figure at 0x7fb99222fc10>"
      ]
     },
     "metadata": {},
     "output_type": "display_data"
    }
   ],
   "source": [
    "cmp_co2['area'] = np.pi * (np.round(cmp_co2['ctr']*3000))**2\n",
    "fig = plt.figure(figsize=(5, 5))\n",
    "ax = fig.add_subplot(1,1,1)\n",
    "ax.scatter(np.log10(cmp_co2['ios']),cmp_co2['android'],s=cmp_co2['area'],alpha=0.5)\n",
    "ax.set_ylabel('Number of events on Android',fontsize=16)\n",
    "ax.set_xlabel('Number of events on iOS',fontsize=16)\n",
    "plt.plot([0,400000], [0,400000], 'k--')"
   ]
  },
  {
   "cell_type": "markdown",
   "metadata": {},
   "source": [
    "#Calculate the Android vs iOS for the corrected dataset"
   ]
  },
  {
   "cell_type": "code",
   "execution_count": 2,
   "metadata": {
    "collapsed": true
   },
   "outputs": [],
   "source": [
    "es = Elasticsearch([{'host': eslogin.host, 'port': eslogin.port}],http_auth=(eslogin.user,eslogin.password))"
   ]
  },
  {
   "cell_type": "code",
   "execution_count": 490,
   "metadata": {
    "collapsed": false
   },
   "outputs": [
    {
     "data": {
      "text/plain": [
       "924021"
      ]
     },
     "execution_count": 490,
     "metadata": {},
     "output_type": "execute_result"
    }
   ],
   "source": [
    "es.count(index=\"events-*\", body={'query': {'bool': {'must':[{'match': { 'plfm' : 'android' }}, {'match': { 'et' : 'AD_SHOW' }}], 'must_not':[{'match': { 'fr' : 'true' }}]}}})['count']"
   ]
  },
  {
   "cell_type": "code",
   "execution_count": 491,
   "metadata": {
    "collapsed": false
   },
   "outputs": [
    {
     "data": {
      "text/plain": [
       "3745"
      ]
     },
     "execution_count": 491,
     "metadata": {},
     "output_type": "execute_result"
    }
   ],
   "source": [
    "es.count(index=\"events-*\", body={'query': {'bool': {'must':[{'match': { 'plfm' : 'android' }}, {'match': { 'et' : 'AD_CLICK' }}], 'must_not':[{'match': { 'fr' : 'true' }}]}}})['count']"
   ]
  },
  {
   "cell_type": "code",
   "execution_count": 494,
   "metadata": {
    "collapsed": false
   },
   "outputs": [
    {
     "data": {
      "text/plain": [
       "0.0040529381907986935"
      ]
     },
     "execution_count": 494,
     "metadata": {},
     "output_type": "execute_result"
    }
   ],
   "source": [
    "float(3745)/924021"
   ]
  },
  {
   "cell_type": "code",
   "execution_count": 495,
   "metadata": {
    "collapsed": false
   },
   "outputs": [
    {
     "data": {
      "text/plain": [
       "1177735"
      ]
     },
     "execution_count": 495,
     "metadata": {},
     "output_type": "execute_result"
    }
   ],
   "source": [
    "es.count(index=\"events-*\", body={'query': {'bool': {'must':[{'match': { 'plfm' : 'ios' }}, {'match': { 'et' : 'AD_SHOW' }}], 'must_not':[{'match': { 'fr' : 'true' }}]}}})['count']"
   ]
  },
  {
   "cell_type": "code",
   "execution_count": 496,
   "metadata": {
    "collapsed": false
   },
   "outputs": [
    {
     "data": {
      "text/plain": [
       "458"
      ]
     },
     "execution_count": 496,
     "metadata": {},
     "output_type": "execute_result"
    }
   ],
   "source": [
    "es.count(index=\"events-*\", body={'query': {'bool': {'must':[{'match': { 'plfm' : 'ios' }}, {'match': { 'et' : 'AD_CLICK' }}], 'must_not':[{'match': { 'fr' : 'true' }}]}}})['count']"
   ]
  },
  {
   "cell_type": "code",
   "execution_count": 497,
   "metadata": {
    "collapsed": false
   },
   "outputs": [
    {
     "data": {
      "text/plain": [
       "0.0003888820490178181"
      ]
     },
     "execution_count": 497,
     "metadata": {},
     "output_type": "execute_result"
    }
   ],
   "source": [
    "float(458)/1177735"
   ]
  },
  {
   "cell_type": "code",
   "execution_count": 4,
   "metadata": {
    "collapsed": false
   },
   "outputs": [
    {
     "data": {
      "text/plain": [
       "0.002017591303004998"
      ]
     },
     "execution_count": 4,
     "metadata": {},
     "output_type": "execute_result"
    }
   ],
   "source": [
    "rate_all = float(es.count(index=\"events-*\", body={'query': {'bool': {'must':[{'match': { 'et' : 'AD_CLICK' }}], 'must_not':[{'match': { 'fr' : 'true' }}]}}})['count'])/es.count(index=\"events-*\", body={'query': {'bool': {'must':[{'match': { 'et' : 'AD_SHOW' }}], 'must_not':[{'match': { 'fr' : 'true' }}]}}})['count']\n",
    "rate_all"
   ]
  },
  {
   "cell_type": "code",
   "execution_count": 511,
   "metadata": {
    "collapsed": false
   },
   "outputs": [
    {
     "data": {
      "text/plain": [
       "10.422024367118558"
      ]
     },
     "execution_count": 511,
     "metadata": {},
     "output_type": "execute_result"
    }
   ],
   "source": [
    "0.0040529381907986935/0.0003888820490178181"
   ]
  },
  {
   "cell_type": "code",
   "execution_count": 7,
   "metadata": {
    "collapsed": false
   },
   "outputs": [
    {
     "data": {
      "image/png": "[encoded data removed]",
      "text/plain": [
       "<matplotlib.figure.Figure at 0x7fd9827ef850>"
      ]
     },
     "metadata": {},
     "output_type": "display_data"
    }
   ],
   "source": [
    "sns.set(style=\"white\", context=\"talk\")\n",
    "x = np.array(['Android','iOS'])\n",
    "y = np.array([0.0040529381907986935,0.0003888820490178181])\n",
    "f, (ax) = plt.subplots(1, 1, figsize=(4, 6), sharex=True)\n",
    "p = sns.barplot(x, y, ci=None, palette=\"coolwarm\", hline=.1,ax=ax)\n",
    "ax.set_ylabel(\"Click-through-rate (CTR)\",fontsize=20)\n",
    "ax.axhline(y=rate_all)\n",
    "#ax.setup(ax.get_yticklabels(), fontsize=20)\n",
    "sns.despine(bottom=True)"
   ]
  },
  {
   "cell_type": "markdown",
   "metadata": {},
   "source": [
    "#What's Android vs iOS for each country?"
   ]
  },
  {
   "cell_type": "markdown",
   "metadata": {},
   "source": [
    "USA Android:"
   ]
  },
  {
   "cell_type": "code",
   "execution_count": 10,
   "metadata": {
    "collapsed": false
   },
   "outputs": [
    {
     "data": {
      "text/plain": [
       "0.0007981787642804592"
      ]
     },
     "execution_count": 10,
     "metadata": {},
     "output_type": "execute_result"
    }
   ],
   "source": [
    "usa_a = float(es.count(index=\"events-*\", body={'query': {'bool': {'must':[{'match': { 'plfm' : 'android' }}, {'match': { 'co' : 'USA' }}, {'match': { 'et' : 'AD_CLICK' }}], 'must_not':[{'match': { 'fr' : 'true' }}]}}})['count'])/es.count(index=\"events-*\", body={'query': {'bool': {'must':[{'match': { 'plfm' : 'android' }}, {'match': { 'co' : 'USA' }}, {'match': { 'et' : 'AD_SHOW' }}], 'must_not':[{'match': { 'fr' : 'true' }}]}}})['count']\n",
    "usa_a"
   ]
  },
  {
   "cell_type": "markdown",
   "metadata": {},
   "source": [
    "USA iOS:"
   ]
  },
  {
   "cell_type": "code",
   "execution_count": 11,
   "metadata": {
    "collapsed": false
   },
   "outputs": [
    {
     "data": {
      "text/plain": [
       "0.0001486752474414299"
      ]
     },
     "execution_count": 11,
     "metadata": {},
     "output_type": "execute_result"
    }
   ],
   "source": [
    "usa_i = float(es.count(index=\"events-*\", body={'query': {'bool': {'must':[{'match': { 'plfm' : 'ios' }}, {'match': { 'co' : 'USA' }}, {'match': { 'et' : 'AD_CLICK' }}], 'must_not':[{'match': { 'fr' : 'true' }}]}}})['count'])/es.count(index=\"events-*\", body={'query': {'bool': {'must':[{'match': { 'plfm' : 'ios' }}, {'match': { 'co' : 'USA' }}, {'match': { 'et' : 'AD_SHOW' }}], 'must_not':[{'match': { 'fr' : 'true' }}]}}})['count']\n",
    "usa_i"
   ]
  },
  {
   "cell_type": "code",
   "execution_count": 68,
   "metadata": {
    "collapsed": false
   },
   "outputs": [
    {
     "name": "stdout",
     "output_type": "stream",
     "text": [
      "ITA Android: 0.0047\n",
      "ITA iOS: 0.1176\n",
      "GBR Android: 0.0186\n",
      "GBR iOS: 0.0017\n",
      "NGA Android: 0.0046\n",
      "NGA iOS: 0.0028\n",
      "\n"
     ]
    }
   ],
   "source": [
    "ita_a = float(es.count(index=\"events-*\", body={'query': {'bool': {'must':[{'match': { 'plfm' : 'android' }}, {'match': { 'co' : 'ITA' }}, {'match': { 'et' : 'AD_CLICK' }}], 'must_not':[{'match': { 'fr' : 'true' }}]}}})['count'])/es.count(index=\"events-*\", body={'query': {'bool': {'must':[{'match': { 'plfm' : 'android' }}, {'match': { 'co' : 'ITA' }}, {'match': { 'et' : 'AD_SHOW' }}], 'must_not':[{'match': { 'fr' : 'true' }}]}}})['count']\n",
    "ita_i = float(es.count(index=\"events-*\", body={'query': {'bool': {'must':[{'match': { 'plfm' : 'ios' }}, {'match': { 'co' : 'ITA' }}, {'match': { 'et' : 'AD_CLICK' }}], 'must_not':[{'match': { 'fr' : 'true' }}]}}})['count'])/es.count(index=\"events-*\", body={'query': {'bool': {'must':[{'match': { 'plfm' : 'ios' }}, {'match': { 'co' : 'ITA' }}, {'match': { 'et' : 'AD_SHOW' }}], 'must_not':[{'match': { 'fr' : 'true' }}]}}})['count']\n",
    "gbr_a = float(es.count(index=\"events-*\", body={'query': {'bool': {'must':[{'match': { 'plfm' : 'android' }}, {'match': { 'co' : 'GBR' }}, {'match': { 'et' : 'AD_CLICK' }}], 'must_not':[{'match': { 'fr' : 'true' }}]}}})['count'])/es.count(index=\"events-*\", body={'query': {'bool': {'must':[{'match': { 'plfm' : 'android' }}, {'match': { 'co' : 'GBR' }}, {'match': { 'et' : 'AD_SHOW' }}], 'must_not':[{'match': { 'fr' : 'true' }}]}}})['count']\n",
    "gbr_i = float(es.count(index=\"events-*\", body={'query': {'bool': {'must':[{'match': { 'plfm' : 'ios' }}, {'match': { 'co' : 'GBR' }}, {'match': { 'et' : 'AD_CLICK' }}], 'must_not':[{'match': { 'fr' : 'true' }}]}}})['count'])/es.count(index=\"events-*\", body={'query': {'bool': {'must':[{'match': { 'plfm' : 'ios' }}, {'match': { 'co' : 'GBR' }}, {'match': { 'et' : 'AD_SHOW' }}], 'must_not':[{'match': { 'fr' : 'true' }}]}}})['count']\n",
    "nga_a = float(es.count(index=\"events-*\", body={'query': {'bool': {'must':[{'match': { 'plfm' : 'android' }}, {'match': { 'co' : 'NGA' }}, {'match': { 'et' : 'AD_CLICK' }}], 'must_not':[{'match': { 'fr' : 'true' }}]}}})['count'])/es.count(index=\"events-*\", body={'query': {'bool': {'must':[{'match': { 'plfm' : 'android' }}, {'match': { 'co' : 'NGA' }}, {'match': { 'et' : 'AD_SHOW' }}], 'must_not':[{'match': { 'fr' : 'true' }}]}}})['count']\n",
    "nga_i = float(es.count(index=\"events-*\", body={'query': {'bool': {'must':[{'match': { 'plfm' : 'ios' }}, {'match': { 'co' : 'NGA' }}, {'match': { 'et' : 'AD_CLICK' }}], 'must_not':[{'match': { 'fr' : 'true' }}]}}})['count'])/es.count(index=\"events-*\", body={'query': {'bool': {'must':[{'match': { 'plfm' : 'ios' }}, {'match': { 'co' : 'NGA' }}, {'match': { 'et' : 'AD_SHOW' }}], 'must_not':[{'match': { 'fr' : 'true' }}]}}})['count']\n",
    "print 'ITA Android: %.4f\\nITA iOS: %.4f\\nGBR Android: %.4f\\nGBR iOS: %.4f\\nNGA Android: %.4f\\nNGA iOS: %.4f\\n' % (ita_a,ita_i,gbr_a,gbr_i,nga_a,nga_i)"
   ]
  },
  {
   "cell_type": "code",
   "execution_count": 14,
   "metadata": {
    "collapsed": false
   },
   "outputs": [
    {
     "data": {
      "text/plain": [
       "657"
      ]
     },
     "execution_count": 14,
     "metadata": {},
     "output_type": "execute_result"
    }
   ],
   "source": [
    "es.count(index=\"events-*\", body={'query': {'bool': {'must':[{'match': { 'plfm' : 'ios' }}, {'match': { 'co' : 'ITA' }}, {'match': { 'et' : 'AD_SHOW' }}], 'must_not':[{'match': { 'fr' : 'true' }}]}}})['count']"
   ]
  },
  {
   "cell_type": "code",
   "execution_count": 69,
   "metadata": {
    "collapsed": false
   },
   "outputs": [
    {
     "name": "stdout",
     "output_type": "stream",
     "text": [
      "USA: 0.0006\n",
      "ITA 0.0047\n",
      "GBR: 0.0030\n",
      "NGA: 0.0031\n",
      "\n"
     ]
    }
   ],
   "source": [
    "usa_rate = float(es.count(index=\"events-*\", body={'query': {'bool': {'must':[{'match': { 'co' : 'USA' }}, {'match': { 'et' : 'AD_CLICK' }}], 'must_not':[{'match': { 'fr' : 'true' }}]}}})['count'])/es.count(index=\"events-*\", body={'query': {'bool': {'must':[{'match': { 'co' : 'USA' }}, {'match': { 'et' : 'AD_SHOW' }}], 'must_not':[{'match': { 'fr' : 'true' }}]}}})['count']\n",
    "ita_rate = float(es.count(index=\"events-*\", body={'query': {'bool': {'must':[{'match': { 'co' : 'ITA' }}, {'match': { 'et' : 'AD_CLICK' }}], 'must_not':[{'match': { 'fr' : 'true' }}]}}})['count'])/es.count(index=\"events-*\", body={'query': {'bool': {'must':[{'match': { 'co' : 'ITA' }}, {'match': { 'et' : 'AD_SHOW' }}], 'must_not':[{'match': { 'fr' : 'true' }}]}}})['count']\n",
    "gbr_rate = float(es.count(index=\"events-*\", body={'query': {'bool': {'must':[{'match': { 'co' : 'GBR' }}, {'match': { 'et' : 'AD_CLICK' }}], 'must_not':[{'match': { 'fr' : 'true' }}]}}})['count'])/es.count(index=\"events-*\", body={'query': {'bool': {'must':[{'match': { 'co' : 'GBR' }}, {'match': { 'et' : 'AD_SHOW' }}], 'must_not':[{'match': { 'fr' : 'true' }}]}}})['count']\n",
    "nga_rate = float(es.count(index=\"events-*\", body={'query': {'bool': {'must':[{'match': { 'co' : 'NGA' }}, {'match': { 'et' : 'AD_CLICK' }}], 'must_not':[{'match': { 'fr' : 'true' }}]}}})['count'])/es.count(index=\"events-*\", body={'query': {'bool': {'must':[{'match': { 'co' : 'NGA' }}, {'match': { 'et' : 'AD_SHOW' }}], 'must_not':[{'match': { 'fr' : 'true' }}]}}})['count']\n",
    "print 'USA: %.4f\\nITA %.4f\\nGBR: %.4f\\nNGA: %.4f\\n' % (usa_rate,ita_rate,gbr_rate,nga_rate)"
   ]
  },
  {
   "cell_type": "code",
   "execution_count": 29,
   "metadata": {
    "collapsed": false
   },
   "outputs": [
    {
     "data": {
      "image/png": "[encoded data removed]",
      "text/plain": [
       "<matplotlib.figure.Figure at 0x7fd981bc0190>"
      ]
     },
     "metadata": {},
     "output_type": "display_data"
    }
   ],
   "source": [
    "sns.set(style=\"white\", context=\"talk\")\n",
    "x = np.array(['Android','iOS'])\n",
    "y = np.array([usa_a,usa_i])\n",
    "f, (ax) = plt.subplots(1, 1, figsize=(3, 6), sharex=True)\n",
    "p = sns.barplot(x, y, ci=None, palette=\"coolwarm\", hline=.1,ax=ax)\n",
    "plt.ylim([0, 0.01])\n",
    "ax.set_ylabel(\"Click-through-rate (CTR)\",fontsize=20)\n",
    "plt.title(\"USA\")\n",
    "ax.axhline(y=usa_rate)\n",
    "sns.despine(bottom=True)"
   ]
  },
  {
   "cell_type": "code",
   "execution_count": 28,
   "metadata": {
    "collapsed": false
   },
   "outputs": [
    {
     "data": {
      "image/png": "[encoded data removed]",
      "text/plain": [
       "<matplotlib.figure.Figure at 0x7fd981c69b50>"
      ]
     },
     "metadata": {},
     "output_type": "display_data"
    }
   ],
   "source": [
    "sns.set(style=\"white\", context=\"talk\")\n",
    "x = np.array(['Android','iOS'])\n",
    "y = np.array([ita_a,ita_i])\n",
    "f, (ax) = plt.subplots(1, 1, figsize=(3, 6), sharex=True)\n",
    "p = sns.barplot(x, y, ci=None, palette=\"coolwarm\", hline=.1,ax=ax)\n",
    "plt.ylim([0, 0.01])\n",
    "ax.set_ylabel(\"Click-through-rate (CTR)\",fontsize=20)\n",
    "plt.title(\"ITA\")\n",
    "ax.axhline(y=ita_rate)\n",
    "sns.despine(bottom=True)"
   ]
  },
  {
   "cell_type": "code",
   "execution_count": 30,
   "metadata": {
    "collapsed": false
   },
   "outputs": [
    {
     "data": {
      "image/png": "[encoded data removed]",
      "text/plain": [
       "<matplotlib.figure.Figure at 0x7fd981c0dad0>"
      ]
     },
     "metadata": {},
     "output_type": "display_data"
    }
   ],
   "source": [
    "sns.set(style=\"white\", context=\"talk\")\n",
    "x = np.array(['Android','iOS'])\n",
    "y = np.array([gbr_a,gbr_i])\n",
    "f, (ax) = plt.subplots(1, 1, figsize=(3, 6), sharex=True)\n",
    "p = sns.barplot(x, y, ci=None, palette=\"coolwarm\", hline=.1,ax=ax)\n",
    "plt.ylim([0, 0.01])\n",
    "ax.set_ylabel(\"Click-through-rate (CTR)\",fontsize=20)\n",
    "plt.title(\"UK\")\n",
    "ax.axhline(y=gbr_rate)\n",
    "sns.despine(bottom=True)"
   ]
  },
  {
   "cell_type": "code",
   "execution_count": 31,
   "metadata": {
    "collapsed": false
   },
   "outputs": [
    {
     "data": {
      "image/png": "[encoded data removed]",
      "text/plain": [
       "<matplotlib.figure.Figure at 0x7fd981d3d510>"
      ]
     },
     "metadata": {},
     "output_type": "display_data"
    }
   ],
   "source": [
    "sns.set(style=\"white\", context=\"talk\")\n",
    "x = np.array(['Android','iOS'])\n",
    "y = np.array([nga_a,nga_i])\n",
    "f, (ax) = plt.subplots(1, 1, figsize=(3, 6), sharex=True)\n",
    "p = sns.barplot(x, y, ci=None, palette=\"coolwarm\", hline=.1,ax=ax)\n",
    "plt.ylim([0, 0.01])\n",
    "ax.set_ylabel(\"Click-through-rate (CTR)\",fontsize=20)\n",
    "plt.title(\"NGA\")\n",
    "ax.axhline(y=nga_rate)\n",
    "sns.despine(bottom=True)"
   ]
  },
  {
   "cell_type": "markdown",
   "metadata": {},
   "source": [
    "#Timestamp - local or same time zone?"
   ]
  },
  {
   "cell_type": "code",
   "execution_count": null,
   "metadata": {
    "collapsed": false
   },
   "outputs": [],
   "source": [
    "clicks_uniq['created_at']"
   ]
  },
  {
   "cell_type": "code",
   "execution_count": null,
   "metadata": {
    "collapsed": false
   },
   "outputs": [],
   "source": [
    "data2[data2['br_short'] == 'Android'].shape[0]"
   ]
  },
  {
   "cell_type": "markdown",
   "metadata": {},
   "source": [
    "#CTR on different ads and app pairs"
   ]
  },
  {
   "cell_type": "markdown",
   "metadata": {},
   "source": [
    "I have looked at that CTR varies across all apps. How about ads?"
   ]
  },
  {
   "cell_type": "code",
   "execution_count": null,
   "metadata": {
    "collapsed": false
   },
   "outputs": [],
   "source": [
    "plt.figure(figsize=(20,5))\n",
    "p = data2.groupby('cr').apply(lambda x:float(x.click.sum())/((~x.click).sum()/impression_sample_rate + x.click.sum())).sort_index().plot(kind='bar',logy=True,ylim=(0,.04),title='CTR across ads')\n",
    "plt.axhline(y=rate)"
   ]
  },
  {
   "cell_type": "code",
   "execution_count": null,
   "metadata": {
    "collapsed": false
   },
   "outputs": [],
   "source": [
    "plt.figure(figsize=(20,5))\n",
    "p = data2.groupby('cr').apply(lambda x:(x.click.sum() + (~x.click).sum()/impression_sample_rate)).plot(kind='bar',color='b',ylim=(.5,5000000),title='number of events per ads')\n",
    "p.set_yscale('log')"
   ]
  },
  {
   "cell_type": "markdown",
   "metadata": {},
   "source": [
    "For a given ad, how different app differ in CTR?\n",
    "\n",
    "Super targeted (1 app): 214, 285, 289, 290\n",
    "\n",
    "<= 5 app: 250, 256, 275\n",
    "\n",
    "Diverse:"
   ]
  },
  {
   "cell_type": "code",
   "execution_count": null,
   "metadata": {
    "collapsed": false
   },
   "outputs": [],
   "source": [
    "cr = 289\n",
    "plt.figure(figsize=(20,5))\n",
    "p = data2[data2['cr'] == cr].groupby('ai').apply(lambda x:float(x.click.sum())/((~x.click).sum()/impression_sample_rate + x.click.sum())).sort_index().plot(kind='bar',logy=True,ylim=(0,0.01),title='CTR across app')"
   ]
  },
  {
   "cell_type": "markdown",
   "metadata": {},
   "source": [
    "Number of apps per ads:"
   ]
  },
  {
   "cell_type": "code",
   "execution_count": 355,
   "metadata": {
    "collapsed": false
   },
   "outputs": [
    {
     "data": {
      "text/plain": [
       "<matplotlib.axes._subplots.AxesSubplot at 0x7fb994e2a1d0>"
      ]
     },
     "execution_count": 355,
     "metadata": {},
     "output_type": "execute_result"
    },
    {
     "data": {
      "image/png": "[encoded data removed]",
      "text/plain": [
       "<matplotlib.figure.Figure at 0x7fb994e2a310>"
      ]
     },
     "metadata": {},
     "output_type": "display_data"
    }
   ],
   "source": [
    "plt.figure(figsize=(20,5))\n",
    "data2.groupby('cr').apply(lambda x: len(np.unique(x['ai'].dropna()))).sort_index().plot(kind='bar',title='Number of app per ads')"
   ]
  },
  {
   "cell_type": "markdown",
   "metadata": {},
   "source": [
    "For a given app, how different ads differ in CTR?"
   ]
  },
  {
   "cell_type": "code",
   "execution_count": 354,
   "metadata": {
    "collapsed": false
   },
   "outputs": [
    {
     "data": {
      "text/plain": [
       "<matplotlib.lines.Line2D at 0x7fb994e16dd0>"
      ]
     },
     "execution_count": 354,
     "metadata": {},
     "output_type": "execute_result"
    },
    {
     "data": {
      "image/png": "[encoded data removed]",
      "text/plain": [
       "<matplotlib.figure.Figure at 0x7fb994e20d10>"
      ]
     },
     "metadata": {},
     "output_type": "display_data"
    }
   ],
   "source": [
    "plt.figure(figsize=(20,5))\n",
    "p = data2_Diretta_Calcio.groupby('cr').apply(lambda x:float(x.click.sum())/((~x.click).sum()/impression_sample_rate + x.click.sum())).sort_index().plot(kind='bar',logy=True,ylim=(0,.06),title='CTR across ads (Diretta Calcio)')\n",
    "plt.axhline(y=rate_Diretta_Calcio)"
   ]
  },
  {
   "cell_type": "markdown",
   "metadata": {},
   "source": [
    "Good ads for DC: (158), 214, (241), 285, 289, 290, (331, 333)"
   ]
  },
  {
   "cell_type": "code",
   "execution_count": null,
   "metadata": {
    "collapsed": false
   },
   "outputs": [],
   "source": [
    "plt.figure(figsize=(20,5))\n",
    "p = data2_Diretta_Calcio.groupby('cr').apply(lambda x:(x.click.sum() + (~x.click).sum()/impression_sample_rate)).plot(kind='bar',color='b',ylim=(.5,50000),title='number of events per ads (Diretta Calcio)')\n",
    "p.set_yscale('log')"
   ]
  },
  {
   "cell_type": "code",
   "execution_count": null,
   "metadata": {
    "collapsed": false
   },
   "outputs": [],
   "source": [
    "plt.figure(figsize=(20,5))\n",
    "p = data2_Team_Manchester.groupby('cr').apply(lambda x:float(x.click.sum())/((~x.click).sum()/impression_sample_rate + x.click.sum())).sort_index().plot(kind='bar',logy=True,ylim=(0,.006),title='CTR across ads (Team Manchester)')\n",
    "plt.axhline(y=rate_Team_Manchester)"
   ]
  },
  {
   "cell_type": "markdown",
   "metadata": {},
   "source": [
    "Good ads for TM: 156, 256, 275, 298"
   ]
  },
  {
   "cell_type": "code",
   "execution_count": null,
   "metadata": {
    "collapsed": false
   },
   "outputs": [],
   "source": [
    "plt.figure(figsize=(20,5))\n",
    "p = data2_Team_Manchester.groupby('cr').apply(lambda x:(x.click.sum() + (~x.click).sum()/impression_sample_rate)).plot(kind='bar',color='b',ylim=(.5,200000),title='number of events per ads (Team Manchester)')\n",
    "p.set_yscale('log')"
   ]
  },
  {
   "cell_type": "code",
   "execution_count": null,
   "metadata": {
    "collapsed": false
   },
   "outputs": [],
   "source": [
    "plt.figure(figsize=(8,4))\n",
    "p = data2_Dagospia.groupby('cr').apply(lambda x:float(x.click.sum())/((~x.click).sum()/impression_sample_rate + x.click.sum())).sort_index().plot(kind='bar',logy=True,ylim=(0,.02),title='CTR across ads (Dagospia)')\n",
    "plt.axhline(y=rate_Dagospia)"
   ]
  },
  {
   "cell_type": "code",
   "execution_count": null,
   "metadata": {
    "collapsed": false
   },
   "outputs": [],
   "source": [
    "plt.figure(figsize=(8,4))\n",
    "p = data2_Dagospia.groupby('cr').apply(lambda x:(x.click.sum() + (~x.click).sum()/impression_sample_rate)).plot(kind='bar',color='b',ylim=(.5,20000),title='number of events per ads (Dagospia)')\n",
    "p.set_yscale('log')"
   ]
  },
  {
   "cell_type": "code",
   "execution_count": null,
   "metadata": {
    "collapsed": false
   },
   "outputs": [],
   "source": [
    "len(np.unique(data2[data2['cr'] == 275]['ai'].dropna()))"
   ]
  },
  {
   "cell_type": "code",
   "execution_count": 356,
   "metadata": {
    "collapsed": false
   },
   "outputs": [
    {
     "data": {
      "image/png": "[encoded data removed]",
      "text/plain": [
       "<matplotlib.figure.Figure at 0x7fb99348fd10>"
      ]
     },
     "metadata": {},
     "output_type": "display_data"
    }
   ],
   "source": [
    "aid = 108\n",
    "plt.figure(figsize=(20,5))\n",
    "p = data2[data2['ai'] == aid].groupby('cr').apply(lambda x:float(x.click.sum())/((~x.click).sum()/impression_sample_rate + x.click.sum())).sort_index().plot(kind='bar',logy=True,ylim=(0,.06),title='CTR across ads')"
   ]
  },
  {
   "cell_type": "markdown",
   "metadata": {},
   "source": [
    "#Full-scale ads and app \"interaction\""
   ]
  },
  {
   "cell_type": "markdown",
   "metadata": {},
   "source": [
    "Get raw data directly from the elastic database:"
   ]
  },
  {
   "cell_type": "code",
   "execution_count": 300,
   "metadata": {
    "collapsed": false
   },
   "outputs": [
    {
     "name": "stdout",
     "output_type": "stream",
     "text": [
      "{\n",
      "  \"status\" : 200,\n",
      "  \"name\" : \"es03.fal.zenit.io\",\n",
      "  \"cluster_name\" : \"zenit-events\",\n",
      "  \"version\" : {\n",
      "    \"number\" : \"1.5.2\",\n",
      "    \"build_hash\" : \"62ff9868b4c8a0c45860bebb259e21980778ab1c\",\n",
      "    \"build_timestamp\" : \"2015-04-27T09:21:06Z\",\n",
      "    \"build_snapshot\" : false,\n",
      "    \"lucene_version\" : \"4.10.4\"\n",
      "  },\n",
      "  \"tagline\" : \"You Know, for Search\"\n",
      "}\n",
      "\n"
     ]
    }
   ],
   "source": [
    "res = requests.get('http://elasticsearch-events.fal.zenit.io:9200/',auth=(eslogin.user,eslogin.password))\n",
    "print(res.content)"
   ]
  },
  {
   "cell_type": "code",
   "execution_count": 301,
   "metadata": {
    "collapsed": true
   },
   "outputs": [],
   "source": [
    "es = Elasticsearch([{'host': 'elasticsearch-events.fal.zenit.io', 'port': 9200}],http_auth=(eslogin.user,eslogin.password))"
   ]
  },
  {
   "cell_type": "markdown",
   "metadata": {},
   "source": [
    "Test"
   ]
  },
  {
   "cell_type": "code",
   "execution_count": 302,
   "metadata": {
    "collapsed": false
   },
   "outputs": [
    {
     "data": {
      "text/plain": [
       "1048"
      ]
     },
     "execution_count": 302,
     "metadata": {},
     "output_type": "execute_result"
    }
   ],
   "source": [
    "es.count(index=\"events-2015.05.*\", body={'query': {'bool': {'must':[{'match': { 'ai' : 67 }}, {'match': { 'cr' : 289 }}, {'match': { 'et' : 'AD_SHOW' }}], 'must_not':[{'match': { 'fr' : 'true' }}]}}})['count']"
   ]
  },
  {
   "cell_type": "code",
   "execution_count": 314,
   "metadata": {
    "collapsed": false
   },
   "outputs": [
    {
     "data": {
      "text/plain": [
       "43"
      ]
     },
     "execution_count": 314,
     "metadata": {},
     "output_type": "execute_result"
    }
   ],
   "source": [
    "len(np.unique(data2['ai'].dropna()))"
   ]
  },
  {
   "cell_type": "code",
   "execution_count": 315,
   "metadata": {
    "collapsed": false
   },
   "outputs": [
    {
     "data": {
      "text/plain": [
       "127"
      ]
     },
     "execution_count": 315,
     "metadata": {},
     "output_type": "execute_result"
    }
   ],
   "source": [
    "len(np.unique(data2['cr'].dropna()))"
   ]
  },
  {
   "cell_type": "code",
   "execution_count": 277,
   "metadata": {
    "collapsed": false
   },
   "outputs": [
    {
     "data": {
      "text/html": [
       "<div style=\"max-height:1000px;max-width:1500px;overflow:auto;\">\n",
       "<table border=\"1\" class=\"dataframe\">\n",
       "  <thead>\n",
       "    <tr style=\"text-align: right;\">\n",
       "      <th></th>\n",
       "      <th>53</th>\n",
       "      <th>54</th>\n",
       "      <th>67</th>\n",
       "      <th>68</th>\n",
       "      <th>71</th>\n",
       "      <th>72</th>\n",
       "    </tr>\n",
       "  </thead>\n",
       "  <tbody>\n",
       "    <tr>\n",
       "      <th>156</th>\n",
       "      <td> 0</td>\n",
       "      <td> 0</td>\n",
       "      <td> 0</td>\n",
       "      <td> 0</td>\n",
       "      <td> 0</td>\n",
       "      <td> 0</td>\n",
       "    </tr>\n",
       "    <tr>\n",
       "      <th>256</th>\n",
       "      <td> 0</td>\n",
       "      <td> 0</td>\n",
       "      <td> 0</td>\n",
       "      <td> 0</td>\n",
       "      <td> 0</td>\n",
       "      <td> 0</td>\n",
       "    </tr>\n",
       "    <tr>\n",
       "      <th>275</th>\n",
       "      <td> 0</td>\n",
       "      <td> 0</td>\n",
       "      <td> 0</td>\n",
       "      <td> 0</td>\n",
       "      <td> 0</td>\n",
       "      <td> 0</td>\n",
       "    </tr>\n",
       "    <tr>\n",
       "      <th>298</th>\n",
       "      <td> 0</td>\n",
       "      <td> 0</td>\n",
       "      <td> 0</td>\n",
       "      <td> 0</td>\n",
       "      <td> 0</td>\n",
       "      <td> 0</td>\n",
       "    </tr>\n",
       "    <tr>\n",
       "      <th>214</th>\n",
       "      <td> 0</td>\n",
       "      <td> 0</td>\n",
       "      <td> 0</td>\n",
       "      <td> 0</td>\n",
       "      <td> 0</td>\n",
       "      <td> 0</td>\n",
       "    </tr>\n",
       "    <tr>\n",
       "      <th>285</th>\n",
       "      <td> 0</td>\n",
       "      <td> 0</td>\n",
       "      <td> 0</td>\n",
       "      <td> 0</td>\n",
       "      <td> 0</td>\n",
       "      <td> 0</td>\n",
       "    </tr>\n",
       "    <tr>\n",
       "      <th>289</th>\n",
       "      <td> 0</td>\n",
       "      <td> 0</td>\n",
       "      <td> 0</td>\n",
       "      <td> 0</td>\n",
       "      <td> 0</td>\n",
       "      <td> 0</td>\n",
       "    </tr>\n",
       "    <tr>\n",
       "      <th>290</th>\n",
       "      <td> 0</td>\n",
       "      <td> 0</td>\n",
       "      <td> 0</td>\n",
       "      <td> 0</td>\n",
       "      <td> 0</td>\n",
       "      <td> 0</td>\n",
       "    </tr>\n",
       "    <tr>\n",
       "      <th>327</th>\n",
       "      <td> 0</td>\n",
       "      <td> 0</td>\n",
       "      <td> 0</td>\n",
       "      <td> 0</td>\n",
       "      <td> 0</td>\n",
       "      <td> 0</td>\n",
       "    </tr>\n",
       "    <tr>\n",
       "      <th>334</th>\n",
       "      <td> 0</td>\n",
       "      <td> 0</td>\n",
       "      <td> 0</td>\n",
       "      <td> 0</td>\n",
       "      <td> 0</td>\n",
       "      <td> 0</td>\n",
       "    </tr>\n",
       "    <tr>\n",
       "      <th></th>\n",
       "      <td>...</td>\n",
       "      <td>...</td>\n",
       "      <td>...</td>\n",
       "      <td>...</td>\n",
       "      <td>...</td>\n",
       "      <td>...</td>\n",
       "    </tr>\n",
       "  </tbody>\n",
       "</table>\n",
       "<p>11 rows × 6 columns</p>\n",
       "</div>"
      ],
      "text/plain": [
       "     53  54  67  68  71  72\n",
       "156   0   0   0   0   0   0\n",
       "256   0   0   0   0   0   0\n",
       "275   0   0   0   0   0   0\n",
       "298   0   0   0   0   0   0\n",
       "214   0   0   0   0   0   0\n",
       "285   0   0   0   0   0   0\n",
       "289   0   0   0   0   0   0\n",
       "290   0   0   0   0   0   0\n",
       "327   0   0   0   0   0   0\n",
       "334   0   0   0   0   0   0\n",
       "    ... ... ... ... ... ...\n",
       "\n",
       "[11 rows x 6 columns]"
      ]
     },
     "execution_count": 277,
     "metadata": {},
     "output_type": "execute_result"
    }
   ],
   "source": [
    "columns = [53,54,67,68,71,72]\n",
    "index = [156, 256, 275, 298, 214, 285, 289, 290, 327, 334, 343]\n",
    "df_show = pd.DataFrame(index=index, columns=columns)\n",
    "df_show = df_show.fillna(0)\n",
    "df_show"
   ]
  },
  {
   "cell_type": "markdown",
   "metadata": {},
   "source": [
    "Get data from May 2015"
   ]
  },
  {
   "cell_type": "code",
   "execution_count": 278,
   "metadata": {
    "collapsed": false
   },
   "outputs": [],
   "source": [
    "for col in columns:\n",
    "    for ind in index:\n",
    "        df_show.loc[ind,col] = es.count(index=\"events-2015.05.*\", body={'query': {'bool': {'must':[{'match': { 'ai' : col }}, {'match': { 'cr' : ind }}, {'match': { 'et' : 'AD_SHOW' }}], 'must_not':[{'match': { 'fr' : 'true' }}]}}})['count']"
   ]
  },
  {
   "cell_type": "code",
   "execution_count": 279,
   "metadata": {
    "collapsed": false
   },
   "outputs": [
    {
     "data": {
      "text/html": [
       "<div style=\"max-height:1000px;max-width:1500px;overflow:auto;\">\n",
       "<table border=\"1\" class=\"dataframe\">\n",
       "  <thead>\n",
       "    <tr style=\"text-align: right;\">\n",
       "      <th></th>\n",
       "      <th>53</th>\n",
       "      <th>54</th>\n",
       "      <th>67</th>\n",
       "      <th>68</th>\n",
       "      <th>71</th>\n",
       "      <th>72</th>\n",
       "    </tr>\n",
       "  </thead>\n",
       "  <tbody>\n",
       "    <tr>\n",
       "      <th>156</th>\n",
       "      <td> 585</td>\n",
       "      <td> 41948</td>\n",
       "      <td>   51</td>\n",
       "      <td>   53</td>\n",
       "      <td> 0</td>\n",
       "      <td> 0</td>\n",
       "    </tr>\n",
       "    <tr>\n",
       "      <th>256</th>\n",
       "      <td>  13</td>\n",
       "      <td>  1734</td>\n",
       "      <td>    5</td>\n",
       "      <td>    0</td>\n",
       "      <td> 0</td>\n",
       "      <td> 0</td>\n",
       "    </tr>\n",
       "    <tr>\n",
       "      <th>275</th>\n",
       "      <td>  11</td>\n",
       "      <td>   787</td>\n",
       "      <td>    0</td>\n",
       "      <td>    0</td>\n",
       "      <td> 0</td>\n",
       "      <td> 0</td>\n",
       "    </tr>\n",
       "    <tr>\n",
       "      <th>298</th>\n",
       "      <td>  74</td>\n",
       "      <td>  5999</td>\n",
       "      <td>    0</td>\n",
       "      <td>    0</td>\n",
       "      <td> 0</td>\n",
       "      <td> 0</td>\n",
       "    </tr>\n",
       "    <tr>\n",
       "      <th>214</th>\n",
       "      <td>   0</td>\n",
       "      <td>    67</td>\n",
       "      <td>    0</td>\n",
       "      <td> 1989</td>\n",
       "      <td> 0</td>\n",
       "      <td> 0</td>\n",
       "    </tr>\n",
       "    <tr>\n",
       "      <th>285</th>\n",
       "      <td>   0</td>\n",
       "      <td>     0</td>\n",
       "      <td> 2257</td>\n",
       "      <td>    0</td>\n",
       "      <td> 0</td>\n",
       "      <td> 0</td>\n",
       "    </tr>\n",
       "    <tr>\n",
       "      <th>289</th>\n",
       "      <td>   0</td>\n",
       "      <td>     0</td>\n",
       "      <td> 1048</td>\n",
       "      <td>    0</td>\n",
       "      <td> 0</td>\n",
       "      <td> 0</td>\n",
       "    </tr>\n",
       "    <tr>\n",
       "      <th>290</th>\n",
       "      <td>   0</td>\n",
       "      <td>     0</td>\n",
       "      <td> 1435</td>\n",
       "      <td>    0</td>\n",
       "      <td> 0</td>\n",
       "      <td> 0</td>\n",
       "    </tr>\n",
       "    <tr>\n",
       "      <th>327</th>\n",
       "      <td>   0</td>\n",
       "      <td>     0</td>\n",
       "      <td>    0</td>\n",
       "      <td>    0</td>\n",
       "      <td> 0</td>\n",
       "      <td> 0</td>\n",
       "    </tr>\n",
       "    <tr>\n",
       "      <th>334</th>\n",
       "      <td>   0</td>\n",
       "      <td>     0</td>\n",
       "      <td>    0</td>\n",
       "      <td>    0</td>\n",
       "      <td> 0</td>\n",
       "      <td> 0</td>\n",
       "    </tr>\n",
       "    <tr>\n",
       "      <th></th>\n",
       "      <td>...</td>\n",
       "      <td>...</td>\n",
       "      <td>...</td>\n",
       "      <td>...</td>\n",
       "      <td>...</td>\n",
       "      <td>...</td>\n",
       "    </tr>\n",
       "  </tbody>\n",
       "</table>\n",
       "<p>11 rows × 6 columns</p>\n",
       "</div>"
      ],
      "text/plain": [
       "      53     54    67    68  71  72\n",
       "156  585  41948    51    53   0   0\n",
       "256   13   1734     5     0   0   0\n",
       "275   11    787     0     0   0   0\n",
       "298   74   5999     0     0   0   0\n",
       "214    0     67     0  1989   0   0\n",
       "285    0      0  2257     0   0   0\n",
       "289    0      0  1048     0   0   0\n",
       "290    0      0  1435     0   0   0\n",
       "327    0      0     0     0   0   0\n",
       "334    0      0     0     0   0   0\n",
       "     ...    ...   ...   ... ... ...\n",
       "\n",
       "[11 rows x 6 columns]"
      ]
     },
     "execution_count": 279,
     "metadata": {},
     "output_type": "execute_result"
    }
   ],
   "source": [
    "df_show"
   ]
  },
  {
   "cell_type": "code",
   "execution_count": 280,
   "metadata": {
    "collapsed": true
   },
   "outputs": [],
   "source": [
    "df_click = pd.DataFrame(index=index, columns=columns)\n",
    "df_click = df_click.fillna(0)\n",
    "for col in columns:\n",
    "    for ind in index:\n",
    "        df_click.loc[ind,col] = es.count(index=\"events-2015.05.*\", body={'query': {'bool': {'must':[{'match': { 'ai' : col }}, {'match': { 'cr' : ind }}, {'match': { 'et' : 'AD_CLICK' }}], 'must_not':[{'match': { 'fr' : 'true' }}]}}})['count']"
   ]
  },
  {
   "cell_type": "code",
   "execution_count": 281,
   "metadata": {
    "collapsed": false
   },
   "outputs": [
    {
     "data": {
      "text/html": [
       "<div style=\"max-height:1000px;max-width:1500px;overflow:auto;\">\n",
       "<table border=\"1\" class=\"dataframe\">\n",
       "  <thead>\n",
       "    <tr style=\"text-align: right;\">\n",
       "      <th></th>\n",
       "      <th>53</th>\n",
       "      <th>54</th>\n",
       "      <th>67</th>\n",
       "      <th>68</th>\n",
       "      <th>71</th>\n",
       "      <th>72</th>\n",
       "    </tr>\n",
       "  </thead>\n",
       "  <tbody>\n",
       "    <tr>\n",
       "      <th>156</th>\n",
       "      <td> 0</td>\n",
       "      <td> 93</td>\n",
       "      <td>  1</td>\n",
       "      <td> 0</td>\n",
       "      <td> 0</td>\n",
       "      <td> 0</td>\n",
       "    </tr>\n",
       "    <tr>\n",
       "      <th>256</th>\n",
       "      <td> 0</td>\n",
       "      <td>  4</td>\n",
       "      <td>  1</td>\n",
       "      <td> 0</td>\n",
       "      <td> 0</td>\n",
       "      <td> 0</td>\n",
       "    </tr>\n",
       "    <tr>\n",
       "      <th>275</th>\n",
       "      <td> 0</td>\n",
       "      <td>  2</td>\n",
       "      <td>  0</td>\n",
       "      <td> 0</td>\n",
       "      <td> 0</td>\n",
       "      <td> 0</td>\n",
       "    </tr>\n",
       "    <tr>\n",
       "      <th>298</th>\n",
       "      <td> 0</td>\n",
       "      <td> 10</td>\n",
       "      <td>  0</td>\n",
       "      <td> 0</td>\n",
       "      <td> 0</td>\n",
       "      <td> 0</td>\n",
       "    </tr>\n",
       "    <tr>\n",
       "      <th>214</th>\n",
       "      <td> 0</td>\n",
       "      <td>  0</td>\n",
       "      <td>  0</td>\n",
       "      <td> 5</td>\n",
       "      <td> 0</td>\n",
       "      <td> 0</td>\n",
       "    </tr>\n",
       "    <tr>\n",
       "      <th>285</th>\n",
       "      <td> 0</td>\n",
       "      <td>  0</td>\n",
       "      <td> 31</td>\n",
       "      <td> 0</td>\n",
       "      <td> 0</td>\n",
       "      <td> 0</td>\n",
       "    </tr>\n",
       "    <tr>\n",
       "      <th>289</th>\n",
       "      <td> 0</td>\n",
       "      <td>  0</td>\n",
       "      <td> 16</td>\n",
       "      <td> 0</td>\n",
       "      <td> 0</td>\n",
       "      <td> 0</td>\n",
       "    </tr>\n",
       "    <tr>\n",
       "      <th>290</th>\n",
       "      <td> 0</td>\n",
       "      <td>  0</td>\n",
       "      <td> 25</td>\n",
       "      <td> 0</td>\n",
       "      <td> 0</td>\n",
       "      <td> 0</td>\n",
       "    </tr>\n",
       "    <tr>\n",
       "      <th>327</th>\n",
       "      <td> 0</td>\n",
       "      <td>  0</td>\n",
       "      <td>  0</td>\n",
       "      <td> 0</td>\n",
       "      <td> 0</td>\n",
       "      <td> 0</td>\n",
       "    </tr>\n",
       "    <tr>\n",
       "      <th>334</th>\n",
       "      <td> 0</td>\n",
       "      <td>  0</td>\n",
       "      <td>  0</td>\n",
       "      <td> 0</td>\n",
       "      <td> 0</td>\n",
       "      <td> 0</td>\n",
       "    </tr>\n",
       "    <tr>\n",
       "      <th></th>\n",
       "      <td>...</td>\n",
       "      <td>...</td>\n",
       "      <td>...</td>\n",
       "      <td>...</td>\n",
       "      <td>...</td>\n",
       "      <td>...</td>\n",
       "    </tr>\n",
       "  </tbody>\n",
       "</table>\n",
       "<p>11 rows × 6 columns</p>\n",
       "</div>"
      ],
      "text/plain": [
       "     53  54  67  68  71  72\n",
       "156   0  93   1   0   0   0\n",
       "256   0   4   1   0   0   0\n",
       "275   0   2   0   0   0   0\n",
       "298   0  10   0   0   0   0\n",
       "214   0   0   0   5   0   0\n",
       "285   0   0  31   0   0   0\n",
       "289   0   0  16   0   0   0\n",
       "290   0   0  25   0   0   0\n",
       "327   0   0   0   0   0   0\n",
       "334   0   0   0   0   0   0\n",
       "    ... ... ... ... ... ...\n",
       "\n",
       "[11 rows x 6 columns]"
      ]
     },
     "execution_count": 281,
     "metadata": {},
     "output_type": "execute_result"
    }
   ],
   "source": [
    "df_click"
   ]
  },
  {
   "cell_type": "markdown",
   "metadata": {},
   "source": [
    "Get data from June 2015"
   ]
  },
  {
   "cell_type": "code",
   "execution_count": 282,
   "metadata": {
    "collapsed": false
   },
   "outputs": [
    {
     "data": {
      "text/html": [
       "<div style=\"max-height:1000px;max-width:1500px;overflow:auto;\">\n",
       "<table border=\"1\" class=\"dataframe\">\n",
       "  <thead>\n",
       "    <tr style=\"text-align: right;\">\n",
       "      <th></th>\n",
       "      <th>53</th>\n",
       "      <th>54</th>\n",
       "      <th>67</th>\n",
       "      <th>68</th>\n",
       "      <th>71</th>\n",
       "      <th>72</th>\n",
       "    </tr>\n",
       "  </thead>\n",
       "  <tbody>\n",
       "    <tr>\n",
       "      <th>156</th>\n",
       "      <td>  0</td>\n",
       "      <td>   71</td>\n",
       "      <td>   0</td>\n",
       "      <td>  0</td>\n",
       "      <td>   0</td>\n",
       "      <td>  0</td>\n",
       "    </tr>\n",
       "    <tr>\n",
       "      <th>256</th>\n",
       "      <td>  0</td>\n",
       "      <td>    0</td>\n",
       "      <td>   0</td>\n",
       "      <td>  0</td>\n",
       "      <td>   0</td>\n",
       "      <td>  0</td>\n",
       "    </tr>\n",
       "    <tr>\n",
       "      <th>275</th>\n",
       "      <td>  0</td>\n",
       "      <td>    0</td>\n",
       "      <td>   0</td>\n",
       "      <td>  0</td>\n",
       "      <td>   0</td>\n",
       "      <td>  0</td>\n",
       "    </tr>\n",
       "    <tr>\n",
       "      <th>298</th>\n",
       "      <td>  0</td>\n",
       "      <td>    0</td>\n",
       "      <td>   0</td>\n",
       "      <td>  0</td>\n",
       "      <td>   0</td>\n",
       "      <td>  0</td>\n",
       "    </tr>\n",
       "    <tr>\n",
       "      <th>214</th>\n",
       "      <td>  0</td>\n",
       "      <td>    0</td>\n",
       "      <td>   0</td>\n",
       "      <td>  0</td>\n",
       "      <td>   0</td>\n",
       "      <td>  0</td>\n",
       "    </tr>\n",
       "    <tr>\n",
       "      <th>285</th>\n",
       "      <td>  0</td>\n",
       "      <td>    0</td>\n",
       "      <td>   0</td>\n",
       "      <td>  0</td>\n",
       "      <td>   0</td>\n",
       "      <td>  0</td>\n",
       "    </tr>\n",
       "    <tr>\n",
       "      <th>289</th>\n",
       "      <td>  0</td>\n",
       "      <td>    0</td>\n",
       "      <td>   0</td>\n",
       "      <td>  0</td>\n",
       "      <td>   0</td>\n",
       "      <td>  0</td>\n",
       "    </tr>\n",
       "    <tr>\n",
       "      <th>290</th>\n",
       "      <td>  0</td>\n",
       "      <td>    0</td>\n",
       "      <td>   0</td>\n",
       "      <td>  0</td>\n",
       "      <td>   0</td>\n",
       "      <td>  0</td>\n",
       "    </tr>\n",
       "    <tr>\n",
       "      <th>327</th>\n",
       "      <td> 55</td>\n",
       "      <td> 2743</td>\n",
       "      <td> 197</td>\n",
       "      <td> 32</td>\n",
       "      <td> 260</td>\n",
       "      <td> 10</td>\n",
       "    </tr>\n",
       "    <tr>\n",
       "      <th>334</th>\n",
       "      <td> 78</td>\n",
       "      <td> 4501</td>\n",
       "      <td> 232</td>\n",
       "      <td> 11</td>\n",
       "      <td> 159</td>\n",
       "      <td>  1</td>\n",
       "    </tr>\n",
       "    <tr>\n",
       "      <th></th>\n",
       "      <td>...</td>\n",
       "      <td>...</td>\n",
       "      <td>...</td>\n",
       "      <td>...</td>\n",
       "      <td>...</td>\n",
       "      <td>...</td>\n",
       "    </tr>\n",
       "  </tbody>\n",
       "</table>\n",
       "<p>11 rows × 6 columns</p>\n",
       "</div>"
      ],
      "text/plain": [
       "     53    54   67  68   71  72\n",
       "156   0    71    0   0    0   0\n",
       "256   0     0    0   0    0   0\n",
       "275   0     0    0   0    0   0\n",
       "298   0     0    0   0    0   0\n",
       "214   0     0    0   0    0   0\n",
       "285   0     0    0   0    0   0\n",
       "289   0     0    0   0    0   0\n",
       "290   0     0    0   0    0   0\n",
       "327  55  2743  197  32  260  10\n",
       "334  78  4501  232  11  159   1\n",
       "    ...   ...  ... ...  ... ...\n",
       "\n",
       "[11 rows x 6 columns]"
      ]
     },
     "execution_count": 282,
     "metadata": {},
     "output_type": "execute_result"
    }
   ],
   "source": [
    "df_show2 = pd.DataFrame(index=index, columns=columns)\n",
    "df_show2 = df_show2.fillna(0)\n",
    "for col in columns:\n",
    "    for ind in index:\n",
    "        df_show2.loc[ind,col] = es.count(index=\"events-2015.06.*\", body={'query': {'bool': {'must':[{'match': { 'ai' : col }}, {'match': { 'cr' : ind }}, {'match': { 'et' : 'AD_SHOW' }}], 'must_not':[{'match': { 'fr' : 'true' }}]}}})['count']\n",
    "df_show2"
   ]
  },
  {
   "cell_type": "code",
   "execution_count": 283,
   "metadata": {
    "collapsed": false
   },
   "outputs": [
    {
     "data": {
      "text/html": [
       "<div style=\"max-height:1000px;max-width:1500px;overflow:auto;\">\n",
       "<table border=\"1\" class=\"dataframe\">\n",
       "  <thead>\n",
       "    <tr style=\"text-align: right;\">\n",
       "      <th></th>\n",
       "      <th>53</th>\n",
       "      <th>54</th>\n",
       "      <th>67</th>\n",
       "      <th>68</th>\n",
       "      <th>71</th>\n",
       "      <th>72</th>\n",
       "    </tr>\n",
       "  </thead>\n",
       "  <tbody>\n",
       "    <tr>\n",
       "      <th>156</th>\n",
       "      <td> 0</td>\n",
       "      <td> 0</td>\n",
       "      <td> 0</td>\n",
       "      <td> 0</td>\n",
       "      <td> 0</td>\n",
       "      <td> 0</td>\n",
       "    </tr>\n",
       "    <tr>\n",
       "      <th>256</th>\n",
       "      <td> 0</td>\n",
       "      <td> 0</td>\n",
       "      <td> 0</td>\n",
       "      <td> 0</td>\n",
       "      <td> 0</td>\n",
       "      <td> 0</td>\n",
       "    </tr>\n",
       "    <tr>\n",
       "      <th>275</th>\n",
       "      <td> 0</td>\n",
       "      <td> 0</td>\n",
       "      <td> 0</td>\n",
       "      <td> 0</td>\n",
       "      <td> 0</td>\n",
       "      <td> 0</td>\n",
       "    </tr>\n",
       "    <tr>\n",
       "      <th>298</th>\n",
       "      <td> 0</td>\n",
       "      <td> 0</td>\n",
       "      <td> 0</td>\n",
       "      <td> 0</td>\n",
       "      <td> 0</td>\n",
       "      <td> 0</td>\n",
       "    </tr>\n",
       "    <tr>\n",
       "      <th>214</th>\n",
       "      <td> 0</td>\n",
       "      <td> 0</td>\n",
       "      <td> 0</td>\n",
       "      <td> 0</td>\n",
       "      <td> 0</td>\n",
       "      <td> 0</td>\n",
       "    </tr>\n",
       "    <tr>\n",
       "      <th>285</th>\n",
       "      <td> 0</td>\n",
       "      <td> 0</td>\n",
       "      <td> 0</td>\n",
       "      <td> 0</td>\n",
       "      <td> 0</td>\n",
       "      <td> 0</td>\n",
       "    </tr>\n",
       "    <tr>\n",
       "      <th>289</th>\n",
       "      <td> 0</td>\n",
       "      <td> 0</td>\n",
       "      <td> 0</td>\n",
       "      <td> 0</td>\n",
       "      <td> 0</td>\n",
       "      <td> 0</td>\n",
       "    </tr>\n",
       "    <tr>\n",
       "      <th>290</th>\n",
       "      <td> 0</td>\n",
       "      <td> 0</td>\n",
       "      <td> 0</td>\n",
       "      <td> 0</td>\n",
       "      <td> 0</td>\n",
       "      <td> 0</td>\n",
       "    </tr>\n",
       "    <tr>\n",
       "      <th>327</th>\n",
       "      <td> 0</td>\n",
       "      <td> 2</td>\n",
       "      <td> 0</td>\n",
       "      <td> 0</td>\n",
       "      <td> 5</td>\n",
       "      <td> 0</td>\n",
       "    </tr>\n",
       "    <tr>\n",
       "      <th>334</th>\n",
       "      <td> 0</td>\n",
       "      <td> 9</td>\n",
       "      <td> 0</td>\n",
       "      <td> 0</td>\n",
       "      <td> 4</td>\n",
       "      <td> 0</td>\n",
       "    </tr>\n",
       "    <tr>\n",
       "      <th></th>\n",
       "      <td>...</td>\n",
       "      <td>...</td>\n",
       "      <td>...</td>\n",
       "      <td>...</td>\n",
       "      <td>...</td>\n",
       "      <td>...</td>\n",
       "    </tr>\n",
       "  </tbody>\n",
       "</table>\n",
       "<p>11 rows × 6 columns</p>\n",
       "</div>"
      ],
      "text/plain": [
       "     53  54  67  68  71  72\n",
       "156   0   0   0   0   0   0\n",
       "256   0   0   0   0   0   0\n",
       "275   0   0   0   0   0   0\n",
       "298   0   0   0   0   0   0\n",
       "214   0   0   0   0   0   0\n",
       "285   0   0   0   0   0   0\n",
       "289   0   0   0   0   0   0\n",
       "290   0   0   0   0   0   0\n",
       "327   0   2   0   0   5   0\n",
       "334   0   9   0   0   4   0\n",
       "    ... ... ... ... ... ...\n",
       "\n",
       "[11 rows x 6 columns]"
      ]
     },
     "execution_count": 283,
     "metadata": {},
     "output_type": "execute_result"
    }
   ],
   "source": [
    "df_click2 = pd.DataFrame(index=index, columns=columns)\n",
    "df_click2 = df_click2.fillna(0)\n",
    "for col in columns:\n",
    "    for ind in index:\n",
    "        df_click2.loc[ind,col] = es.count(index=\"events-2015.06.*\", body={'query': {'bool': {'must':[{'match': { 'ai' : col }}, {'match': { 'cr' : ind }}, {'match': { 'et' : 'AD_CLICK' }}], 'must_not':[{'match': { 'fr' : 'true' }}]}}})['count']\n",
    "df_click2"
   ]
  },
  {
   "cell_type": "code",
   "execution_count": 285,
   "metadata": {
    "collapsed": false
   },
   "outputs": [],
   "source": [
    "df_show = df_show + df_show2\n",
    "df_click = df_click + df_click2"
   ]
  },
  {
   "cell_type": "code",
   "execution_count": 321,
   "metadata": {
    "collapsed": false
   },
   "outputs": [
    {
     "data": {
      "text/html": [
       "<div style=\"max-height:1000px;max-width:1500px;overflow:auto;\">\n",
       "<table border=\"1\" class=\"dataframe\">\n",
       "  <thead>\n",
       "    <tr style=\"text-align: right;\">\n",
       "      <th></th>\n",
       "      <th>53</th>\n",
       "      <th>54</th>\n",
       "      <th>67</th>\n",
       "      <th>68</th>\n",
       "      <th>71</th>\n",
       "      <th>72</th>\n",
       "    </tr>\n",
       "  </thead>\n",
       "  <tbody>\n",
       "    <tr>\n",
       "      <th>156</th>\n",
       "      <td>  585</td>\n",
       "      <td>  42019</td>\n",
       "      <td>   51</td>\n",
       "      <td>   53</td>\n",
       "      <td>    0</td>\n",
       "      <td>  0</td>\n",
       "    </tr>\n",
       "    <tr>\n",
       "      <th>256</th>\n",
       "      <td>   13</td>\n",
       "      <td>   1734</td>\n",
       "      <td>    5</td>\n",
       "      <td>    0</td>\n",
       "      <td>    0</td>\n",
       "      <td>  0</td>\n",
       "    </tr>\n",
       "    <tr>\n",
       "      <th>275</th>\n",
       "      <td>   11</td>\n",
       "      <td>    787</td>\n",
       "      <td>    0</td>\n",
       "      <td>    0</td>\n",
       "      <td>    0</td>\n",
       "      <td>  0</td>\n",
       "    </tr>\n",
       "    <tr>\n",
       "      <th>298</th>\n",
       "      <td>   74</td>\n",
       "      <td>   5999</td>\n",
       "      <td>    0</td>\n",
       "      <td>    0</td>\n",
       "      <td>    0</td>\n",
       "      <td>  0</td>\n",
       "    </tr>\n",
       "    <tr>\n",
       "      <th>214</th>\n",
       "      <td>    0</td>\n",
       "      <td>     67</td>\n",
       "      <td>    0</td>\n",
       "      <td> 1989</td>\n",
       "      <td>    0</td>\n",
       "      <td>  0</td>\n",
       "    </tr>\n",
       "    <tr>\n",
       "      <th>285</th>\n",
       "      <td>    0</td>\n",
       "      <td>      0</td>\n",
       "      <td> 2257</td>\n",
       "      <td>    0</td>\n",
       "      <td>    0</td>\n",
       "      <td>  0</td>\n",
       "    </tr>\n",
       "    <tr>\n",
       "      <th>289</th>\n",
       "      <td>    0</td>\n",
       "      <td>      0</td>\n",
       "      <td> 1048</td>\n",
       "      <td>    0</td>\n",
       "      <td>    0</td>\n",
       "      <td>  0</td>\n",
       "    </tr>\n",
       "    <tr>\n",
       "      <th>290</th>\n",
       "      <td>    0</td>\n",
       "      <td>      0</td>\n",
       "      <td> 1435</td>\n",
       "      <td>    0</td>\n",
       "      <td>    0</td>\n",
       "      <td>  0</td>\n",
       "    </tr>\n",
       "    <tr>\n",
       "      <th>327</th>\n",
       "      <td>   55</td>\n",
       "      <td>   2743</td>\n",
       "      <td>  197</td>\n",
       "      <td>   32</td>\n",
       "      <td>  260</td>\n",
       "      <td> 10</td>\n",
       "    </tr>\n",
       "    <tr>\n",
       "      <th>334</th>\n",
       "      <td>   78</td>\n",
       "      <td>   4501</td>\n",
       "      <td>  232</td>\n",
       "      <td>   11</td>\n",
       "      <td>  159</td>\n",
       "      <td>  1</td>\n",
       "    </tr>\n",
       "    <tr>\n",
       "      <th>343</th>\n",
       "      <td> 4661</td>\n",
       "      <td> 287149</td>\n",
       "      <td>    0</td>\n",
       "      <td>  780</td>\n",
       "      <td> 7621</td>\n",
       "      <td>  0</td>\n",
       "    </tr>\n",
       "  </tbody>\n",
       "</table>\n",
       "<p>11 rows × 6 columns</p>\n",
       "</div>"
      ],
      "text/plain": [
       "       53      54    67    68    71  72\n",
       "156   585   42019    51    53     0   0\n",
       "256    13    1734     5     0     0   0\n",
       "275    11     787     0     0     0   0\n",
       "298    74    5999     0     0     0   0\n",
       "214     0      67     0  1989     0   0\n",
       "285     0       0  2257     0     0   0\n",
       "289     0       0  1048     0     0   0\n",
       "290     0       0  1435     0     0   0\n",
       "327    55    2743   197    32   260  10\n",
       "334    78    4501   232    11   159   1\n",
       "343  4661  287149     0   780  7621   0\n",
       "\n",
       "[11 rows x 6 columns]"
      ]
     },
     "execution_count": 321,
     "metadata": {},
     "output_type": "execute_result"
    }
   ],
   "source": [
    "df_show"
   ]
  },
  {
   "cell_type": "code",
   "execution_count": 322,
   "metadata": {
    "collapsed": false
   },
   "outputs": [
    {
     "data": {
      "text/html": [
       "<div style=\"max-height:1000px;max-width:1500px;overflow:auto;\">\n",
       "<table border=\"1\" class=\"dataframe\">\n",
       "  <thead>\n",
       "    <tr style=\"text-align: right;\">\n",
       "      <th></th>\n",
       "      <th>53</th>\n",
       "      <th>54</th>\n",
       "      <th>67</th>\n",
       "      <th>68</th>\n",
       "      <th>71</th>\n",
       "      <th>72</th>\n",
       "    </tr>\n",
       "  </thead>\n",
       "  <tbody>\n",
       "    <tr>\n",
       "      <th>156</th>\n",
       "      <td> 0</td>\n",
       "      <td>  93</td>\n",
       "      <td>  1</td>\n",
       "      <td> 0</td>\n",
       "      <td>  0</td>\n",
       "      <td> 0</td>\n",
       "    </tr>\n",
       "    <tr>\n",
       "      <th>256</th>\n",
       "      <td> 0</td>\n",
       "      <td>   4</td>\n",
       "      <td>  1</td>\n",
       "      <td> 0</td>\n",
       "      <td>  0</td>\n",
       "      <td> 0</td>\n",
       "    </tr>\n",
       "    <tr>\n",
       "      <th>275</th>\n",
       "      <td> 0</td>\n",
       "      <td>   2</td>\n",
       "      <td>  0</td>\n",
       "      <td> 0</td>\n",
       "      <td>  0</td>\n",
       "      <td> 0</td>\n",
       "    </tr>\n",
       "    <tr>\n",
       "      <th>298</th>\n",
       "      <td> 0</td>\n",
       "      <td>  10</td>\n",
       "      <td>  0</td>\n",
       "      <td> 0</td>\n",
       "      <td>  0</td>\n",
       "      <td> 0</td>\n",
       "    </tr>\n",
       "    <tr>\n",
       "      <th>214</th>\n",
       "      <td> 0</td>\n",
       "      <td>   0</td>\n",
       "      <td>  0</td>\n",
       "      <td> 5</td>\n",
       "      <td>  0</td>\n",
       "      <td> 0</td>\n",
       "    </tr>\n",
       "    <tr>\n",
       "      <th>285</th>\n",
       "      <td> 0</td>\n",
       "      <td>   0</td>\n",
       "      <td> 31</td>\n",
       "      <td> 0</td>\n",
       "      <td>  0</td>\n",
       "      <td> 0</td>\n",
       "    </tr>\n",
       "    <tr>\n",
       "      <th>289</th>\n",
       "      <td> 0</td>\n",
       "      <td>   0</td>\n",
       "      <td> 16</td>\n",
       "      <td> 0</td>\n",
       "      <td>  0</td>\n",
       "      <td> 0</td>\n",
       "    </tr>\n",
       "    <tr>\n",
       "      <th>290</th>\n",
       "      <td> 0</td>\n",
       "      <td>   0</td>\n",
       "      <td> 25</td>\n",
       "      <td> 0</td>\n",
       "      <td>  0</td>\n",
       "      <td> 0</td>\n",
       "    </tr>\n",
       "    <tr>\n",
       "      <th>327</th>\n",
       "      <td> 0</td>\n",
       "      <td>   2</td>\n",
       "      <td>  0</td>\n",
       "      <td> 0</td>\n",
       "      <td>  5</td>\n",
       "      <td> 0</td>\n",
       "    </tr>\n",
       "    <tr>\n",
       "      <th>334</th>\n",
       "      <td> 0</td>\n",
       "      <td>   9</td>\n",
       "      <td>  0</td>\n",
       "      <td> 0</td>\n",
       "      <td>  4</td>\n",
       "      <td> 0</td>\n",
       "    </tr>\n",
       "    <tr>\n",
       "      <th>343</th>\n",
       "      <td> 3</td>\n",
       "      <td> 209</td>\n",
       "      <td>  0</td>\n",
       "      <td> 3</td>\n",
       "      <td> 40</td>\n",
       "      <td> 0</td>\n",
       "    </tr>\n",
       "  </tbody>\n",
       "</table>\n",
       "<p>11 rows × 6 columns</p>\n",
       "</div>"
      ],
      "text/plain": [
       "     53   54  67  68  71  72\n",
       "156   0   93   1   0   0   0\n",
       "256   0    4   1   0   0   0\n",
       "275   0    2   0   0   0   0\n",
       "298   0   10   0   0   0   0\n",
       "214   0    0   0   5   0   0\n",
       "285   0    0  31   0   0   0\n",
       "289   0    0  16   0   0   0\n",
       "290   0    0  25   0   0   0\n",
       "327   0    2   0   0   5   0\n",
       "334   0    9   0   0   4   0\n",
       "343   3  209   0   3  40   0\n",
       "\n",
       "[11 rows x 6 columns]"
      ]
     },
     "execution_count": 322,
     "metadata": {},
     "output_type": "execute_result"
    }
   ],
   "source": [
    "df_click"
   ]
  },
  {
   "cell_type": "code",
   "execution_count": 288,
   "metadata": {
    "collapsed": false
   },
   "outputs": [
    {
     "data": {
      "text/html": [
       "<div style=\"max-height:1000px;max-width:1500px;overflow:auto;\">\n",
       "<table border=\"1\" class=\"dataframe\">\n",
       "  <thead>\n",
       "    <tr style=\"text-align: right;\">\n",
       "      <th></th>\n",
       "      <th>53</th>\n",
       "      <th>54</th>\n",
       "      <th>67</th>\n",
       "      <th>68</th>\n",
       "      <th>71</th>\n",
       "      <th>72</th>\n",
       "    </tr>\n",
       "  </thead>\n",
       "  <tbody>\n",
       "    <tr>\n",
       "      <th>156</th>\n",
       "      <td> 0</td>\n",
       "      <td> 0.002213</td>\n",
       "      <td> 0.019604</td>\n",
       "      <td> 0.000000</td>\n",
       "      <td> 0.000000</td>\n",
       "      <td> 0</td>\n",
       "    </tr>\n",
       "    <tr>\n",
       "      <th>256</th>\n",
       "      <td> 0</td>\n",
       "      <td> 0.002307</td>\n",
       "      <td> 0.199601</td>\n",
       "      <td> 0.000000</td>\n",
       "      <td> 0.000000</td>\n",
       "      <td> 0</td>\n",
       "    </tr>\n",
       "    <tr>\n",
       "      <th>275</th>\n",
       "      <td> 0</td>\n",
       "      <td> 0.002541</td>\n",
       "      <td> 0.000000</td>\n",
       "      <td> 0.000000</td>\n",
       "      <td> 0.000000</td>\n",
       "      <td> 0</td>\n",
       "    </tr>\n",
       "    <tr>\n",
       "      <th>298</th>\n",
       "      <td> 0</td>\n",
       "      <td> 0.001667</td>\n",
       "      <td> 0.000000</td>\n",
       "      <td> 0.000000</td>\n",
       "      <td> 0.000000</td>\n",
       "      <td> 0</td>\n",
       "    </tr>\n",
       "    <tr>\n",
       "      <th>214</th>\n",
       "      <td> 0</td>\n",
       "      <td> 0.000000</td>\n",
       "      <td> 0.000000</td>\n",
       "      <td> 0.002514</td>\n",
       "      <td> 0.000000</td>\n",
       "      <td> 0</td>\n",
       "    </tr>\n",
       "    <tr>\n",
       "      <th>285</th>\n",
       "      <td> 0</td>\n",
       "      <td> 0.000000</td>\n",
       "      <td> 0.013735</td>\n",
       "      <td> 0.000000</td>\n",
       "      <td> 0.000000</td>\n",
       "      <td> 0</td>\n",
       "    </tr>\n",
       "    <tr>\n",
       "      <th>289</th>\n",
       "      <td> 0</td>\n",
       "      <td> 0.000000</td>\n",
       "      <td> 0.015267</td>\n",
       "      <td> 0.000000</td>\n",
       "      <td> 0.000000</td>\n",
       "      <td> 0</td>\n",
       "    </tr>\n",
       "    <tr>\n",
       "      <th>290</th>\n",
       "      <td> 0</td>\n",
       "      <td> 0.000000</td>\n",
       "      <td> 0.017421</td>\n",
       "      <td> 0.000000</td>\n",
       "      <td> 0.000000</td>\n",
       "      <td> 0</td>\n",
       "    </tr>\n",
       "    <tr>\n",
       "      <th>327</th>\n",
       "      <td> 0</td>\n",
       "      <td> 0.000729</td>\n",
       "      <td> 0.000000</td>\n",
       "      <td> 0.000000</td>\n",
       "      <td> 0.019230</td>\n",
       "      <td> 0</td>\n",
       "    </tr>\n",
       "    <tr>\n",
       "      <th>334</th>\n",
       "      <td> 0</td>\n",
       "      <td> 0.002000</td>\n",
       "      <td> 0.000000</td>\n",
       "      <td> 0.000000</td>\n",
       "      <td> 0.025156</td>\n",
       "      <td> 0</td>\n",
       "    </tr>\n",
       "    <tr>\n",
       "      <th></th>\n",
       "      <td>...</td>\n",
       "      <td>...</td>\n",
       "      <td>...</td>\n",
       "      <td>...</td>\n",
       "      <td>...</td>\n",
       "      <td>...</td>\n",
       "    </tr>\n",
       "  </tbody>\n",
       "</table>\n",
       "<p>11 rows × 6 columns</p>\n",
       "</div>"
      ],
      "text/plain": [
       "     53        54        67        68        71  72\n",
       "156   0  0.002213  0.019604  0.000000  0.000000   0\n",
       "256   0  0.002307  0.199601  0.000000  0.000000   0\n",
       "275   0  0.002541  0.000000  0.000000  0.000000   0\n",
       "298   0  0.001667  0.000000  0.000000  0.000000   0\n",
       "214   0  0.000000  0.000000  0.002514  0.000000   0\n",
       "285   0  0.000000  0.013735  0.000000  0.000000   0\n",
       "289   0  0.000000  0.015267  0.000000  0.000000   0\n",
       "290   0  0.000000  0.017421  0.000000  0.000000   0\n",
       "327   0  0.000729  0.000000  0.000000  0.019230   0\n",
       "334   0  0.002000  0.000000  0.000000  0.025156   0\n",
       "    ...       ...       ...       ...       ... ...\n",
       "\n",
       "[11 rows x 6 columns]"
      ]
     },
     "execution_count": 288,
     "metadata": {},
     "output_type": "execute_result"
    }
   ],
   "source": [
    "df_click / (df_show + 0.01)"
   ]
  },
  {
   "cell_type": "code",
   "execution_count": 294,
   "metadata": {
    "collapsed": false
   },
   "outputs": [],
   "source": [
    "df_ctr = df_click / (df_show + 0.01)"
   ]
  },
  {
   "cell_type": "code",
   "execution_count": 344,
   "metadata": {
    "collapsed": true
   },
   "outputs": [],
   "source": [
    "df_ctr_logodd = np.log2(df_ctr/rate + 0.01)"
   ]
  },
  {
   "cell_type": "code",
   "execution_count": 297,
   "metadata": {
    "collapsed": false
   },
   "outputs": [
    {
     "data": {
      "image/png": "[encoded data removed]",
      "text/plain": [
       "<matplotlib.figure.Figure at 0x7fb9ac948290>"
      ]
     },
     "metadata": {},
     "output_type": "display_data"
    }
   ],
   "source": [
    "plt.pcolor(df_ctr)\n",
    "plt.yticks(np.arange(0.5, len(df_ctr.index), 1), df_ctr.index)\n",
    "plt.xticks(np.arange(0.5, len(df_ctr.columns), 1), df_ctr.columns)\n",
    "plt.show()"
   ]
  },
  {
   "cell_type": "code",
   "execution_count": 299,
   "metadata": {
    "collapsed": false
   },
   "outputs": [
    {
     "data": {
      "text/plain": [
       "<matplotlib.axes._subplots.AxesSubplot at 0x7fb9acbc3410>"
      ]
     },
     "execution_count": 299,
     "metadata": {},
     "output_type": "execute_result"
    },
    {
     "data": {
      "image/png": "[encoded data removed]",
      "text/plain": [
       "<matplotlib.figure.Figure at 0x7fb99446dc10>"
      ]
     },
     "metadata": {},
     "output_type": "display_data"
    }
   ],
   "source": [
    "sns.set(context=\"paper\", font=\"monospace\")\n",
    "f, ax = plt.subplots(figsize=(12, 9))\n",
    "#sns.heatmap(df_ctr, vmax=.8, linewidths=0, square=True)\n",
    "sns.heatmap(df_ctr)"
   ]
  },
  {
   "cell_type": "code",
   "execution_count": 316,
   "metadata": {
    "collapsed": false
   },
   "outputs": [
    {
     "data": {
      "text/plain": [
       "<matplotlib.axes._subplots.AxesSubplot at 0x7fb9acab4310>"
      ]
     },
     "execution_count": 316,
     "metadata": {},
     "output_type": "execute_result"
    },
    {
     "data": {
      "image/png": "[encoded data removed]",
      "text/plain": [
       "<matplotlib.figure.Figure at 0x7fb9aacfb650>"
      ]
     },
     "metadata": {},
     "output_type": "display_data"
    }
   ],
   "source": [
    "sns.set(context=\"paper\", font=\"monospace\")\n",
    "f, ax = plt.subplots(figsize=(12, 9))\n",
    "sns.heatmap(df_ctr_logodd)"
   ]
  },
  {
   "cell_type": "code",
   "execution_count": 342,
   "metadata": {
    "collapsed": false
   },
   "outputs": [],
   "source": [
    "df_ctr_logodd.loc[156,71] = np.nan"
   ]
  },
  {
   "cell_type": "code",
   "execution_count": 329,
   "metadata": {
    "collapsed": false
   },
   "outputs": [
    {
     "data": {
      "text/html": [
       "<div style=\"max-height:1000px;max-width:1500px;overflow:auto;\">\n",
       "<table border=\"1\" class=\"dataframe\">\n",
       "  <thead>\n",
       "    <tr style=\"text-align: right;\">\n",
       "      <th></th>\n",
       "      <th>53</th>\n",
       "      <th>54</th>\n",
       "      <th>67</th>\n",
       "      <th>68</th>\n",
       "      <th>71</th>\n",
       "      <th>72</th>\n",
       "    </tr>\n",
       "  </thead>\n",
       "  <tbody>\n",
       "    <tr>\n",
       "      <th>156</th>\n",
       "      <td>-6.643856</td>\n",
       "      <td> 0.353830</td>\n",
       "      <td> 3.490668</td>\n",
       "      <td>-6.643856</td>\n",
       "      <td>      NaN</td>\n",
       "      <td>-6.643856</td>\n",
       "    </tr>\n",
       "    <tr>\n",
       "      <th>256</th>\n",
       "      <td>-6.643856</td>\n",
       "      <td> 0.413071</td>\n",
       "      <td> 6.837408</td>\n",
       "      <td>-6.643856</td>\n",
       "      <td>-6.643856</td>\n",
       "      <td>-6.643856</td>\n",
       "    </tr>\n",
       "    <tr>\n",
       "      <th>275</th>\n",
       "      <td>-6.643856</td>\n",
       "      <td> 0.551730</td>\n",
       "      <td>-6.643856</td>\n",
       "      <td>-6.643856</td>\n",
       "      <td>-6.643856</td>\n",
       "      <td>-6.643856</td>\n",
       "    </tr>\n",
       "    <tr>\n",
       "      <th>298</th>\n",
       "      <td>-6.643856</td>\n",
       "      <td>-0.051460</td>\n",
       "      <td>-6.643856</td>\n",
       "      <td>-6.643856</td>\n",
       "      <td>-6.643856</td>\n",
       "      <td>-6.643856</td>\n",
       "    </tr>\n",
       "    <tr>\n",
       "      <th>214</th>\n",
       "      <td>-6.643856</td>\n",
       "      <td>-6.643856</td>\n",
       "      <td>-6.643856</td>\n",
       "      <td> 0.536169</td>\n",
       "      <td>-6.643856</td>\n",
       "      <td>-6.643856</td>\n",
       "    </tr>\n",
       "    <tr>\n",
       "      <th>285</th>\n",
       "      <td>-6.643856</td>\n",
       "      <td>-6.643856</td>\n",
       "      <td> 2.977924</td>\n",
       "      <td>-6.643856</td>\n",
       "      <td>-6.643856</td>\n",
       "      <td>-6.643856</td>\n",
       "    </tr>\n",
       "    <tr>\n",
       "      <th>289</th>\n",
       "      <td>-6.643856</td>\n",
       "      <td>-6.643856</td>\n",
       "      <td> 3.130304</td>\n",
       "      <td>-6.643856</td>\n",
       "      <td>-6.643856</td>\n",
       "      <td>-6.643856</td>\n",
       "    </tr>\n",
       "    <tr>\n",
       "      <th>290</th>\n",
       "      <td>-6.643856</td>\n",
       "      <td>-6.643856</td>\n",
       "      <td> 3.320548</td>\n",
       "      <td>-6.643856</td>\n",
       "      <td>-6.643856</td>\n",
       "      <td>-6.643856</td>\n",
       "    </tr>\n",
       "    <tr>\n",
       "      <th>327</th>\n",
       "      <td>-6.643856</td>\n",
       "      <td>-1.225320</td>\n",
       "      <td>-6.643856</td>\n",
       "      <td>-6.643856</td>\n",
       "      <td> 3.462906</td>\n",
       "      <td>-6.643856</td>\n",
       "    </tr>\n",
       "    <tr>\n",
       "      <th>334</th>\n",
       "      <td>-6.643856</td>\n",
       "      <td> 0.208524</td>\n",
       "      <td>-6.643856</td>\n",
       "      <td>-6.643856</td>\n",
       "      <td> 3.850119</td>\n",
       "      <td>-6.643856</td>\n",
       "    </tr>\n",
       "    <tr>\n",
       "      <th>343</th>\n",
       "      <td>-1.400767</td>\n",
       "      <td>-1.227798</td>\n",
       "      <td>-6.643856</td>\n",
       "      <td> 1.146239</td>\n",
       "      <td> 1.593044</td>\n",
       "      <td>-6.643856</td>\n",
       "    </tr>\n",
       "  </tbody>\n",
       "</table>\n",
       "<p>11 rows × 6 columns</p>\n",
       "</div>"
      ],
      "text/plain": [
       "           53        54        67        68        71        72\n",
       "156 -6.643856  0.353830  3.490668 -6.643856       NaN -6.643856\n",
       "256 -6.643856  0.413071  6.837408 -6.643856 -6.643856 -6.643856\n",
       "275 -6.643856  0.551730 -6.643856 -6.643856 -6.643856 -6.643856\n",
       "298 -6.643856 -0.051460 -6.643856 -6.643856 -6.643856 -6.643856\n",
       "214 -6.643856 -6.643856 -6.643856  0.536169 -6.643856 -6.643856\n",
       "285 -6.643856 -6.643856  2.977924 -6.643856 -6.643856 -6.643856\n",
       "289 -6.643856 -6.643856  3.130304 -6.643856 -6.643856 -6.643856\n",
       "290 -6.643856 -6.643856  3.320548 -6.643856 -6.643856 -6.643856\n",
       "327 -6.643856 -1.225320 -6.643856 -6.643856  3.462906 -6.643856\n",
       "334 -6.643856  0.208524 -6.643856 -6.643856  3.850119 -6.643856\n",
       "343 -1.400767 -1.227798 -6.643856  1.146239  1.593044 -6.643856\n",
       "\n",
       "[11 rows x 6 columns]"
      ]
     },
     "execution_count": 329,
     "metadata": {},
     "output_type": "execute_result"
    }
   ],
   "source": [
    "df_ctr_logodd"
   ]
  },
  {
   "cell_type": "code",
   "execution_count": 332,
   "metadata": {
    "collapsed": false
   },
   "outputs": [
    {
     "data": {
      "text/plain": [
       "<matplotlib.axes._subplots.AxesSubplot at 0x7fb99449bfd0>"
      ]
     },
     "execution_count": 332,
     "metadata": {},
     "output_type": "execute_result"
    },
    {
     "data": {
      "image/png": "[encoded data removed]",
      "text/plain": [
       "<matplotlib.figure.Figure at 0x7fb99449bd10>"
      ]
     },
     "metadata": {},
     "output_type": "display_data"
    }
   ],
   "source": [
    "mask = df_show.apply(lambda x: x == 0)\n",
    "sns.heatmap(df_ctr_logodd, mask=mask)"
   ]
  },
  {
   "cell_type": "code",
   "execution_count": 313,
   "metadata": {
    "collapsed": false
   },
   "outputs": [
    {
     "data": {
      "text/html": [
       "<div style=\"max-height:1000px;max-width:1500px;overflow:auto;\">\n",
       "<table border=\"1\" class=\"dataframe\">\n",
       "  <thead>\n",
       "    <tr style=\"text-align: right;\">\n",
       "      <th></th>\n",
       "      <th>53</th>\n",
       "      <th>54</th>\n",
       "      <th>67</th>\n",
       "      <th>68</th>\n",
       "      <th>71</th>\n",
       "      <th>72</th>\n",
       "    </tr>\n",
       "  </thead>\n",
       "  <tbody>\n",
       "    <tr>\n",
       "      <th>156</th>\n",
       "      <td> 0.000000</td>\n",
       "      <td> 0.002213</td>\n",
       "      <td> 0.019604</td>\n",
       "      <td> 0.000000</td>\n",
       "      <td> 0.000000</td>\n",
       "      <td> 0</td>\n",
       "    </tr>\n",
       "    <tr>\n",
       "      <th>256</th>\n",
       "      <td> 0.000000</td>\n",
       "      <td> 0.002307</td>\n",
       "      <td> 0.199601</td>\n",
       "      <td> 0.000000</td>\n",
       "      <td> 0.000000</td>\n",
       "      <td> 0</td>\n",
       "    </tr>\n",
       "    <tr>\n",
       "      <th>275</th>\n",
       "      <td> 0.000000</td>\n",
       "      <td> 0.002541</td>\n",
       "      <td> 0.000000</td>\n",
       "      <td> 0.000000</td>\n",
       "      <td> 0.000000</td>\n",
       "      <td> 0</td>\n",
       "    </tr>\n",
       "    <tr>\n",
       "      <th>298</th>\n",
       "      <td> 0.000000</td>\n",
       "      <td> 0.001667</td>\n",
       "      <td> 0.000000</td>\n",
       "      <td> 0.000000</td>\n",
       "      <td> 0.000000</td>\n",
       "      <td> 0</td>\n",
       "    </tr>\n",
       "    <tr>\n",
       "      <th>214</th>\n",
       "      <td> 0.000000</td>\n",
       "      <td> 0.000000</td>\n",
       "      <td> 0.000000</td>\n",
       "      <td> 0.002514</td>\n",
       "      <td> 0.000000</td>\n",
       "      <td> 0</td>\n",
       "    </tr>\n",
       "    <tr>\n",
       "      <th>285</th>\n",
       "      <td> 0.000000</td>\n",
       "      <td> 0.000000</td>\n",
       "      <td> 0.013735</td>\n",
       "      <td> 0.000000</td>\n",
       "      <td> 0.000000</td>\n",
       "      <td> 0</td>\n",
       "    </tr>\n",
       "    <tr>\n",
       "      <th>289</th>\n",
       "      <td> 0.000000</td>\n",
       "      <td> 0.000000</td>\n",
       "      <td> 0.015267</td>\n",
       "      <td> 0.000000</td>\n",
       "      <td> 0.000000</td>\n",
       "      <td> 0</td>\n",
       "    </tr>\n",
       "    <tr>\n",
       "      <th>290</th>\n",
       "      <td> 0.000000</td>\n",
       "      <td> 0.000000</td>\n",
       "      <td> 0.017421</td>\n",
       "      <td> 0.000000</td>\n",
       "      <td> 0.000000</td>\n",
       "      <td> 0</td>\n",
       "    </tr>\n",
       "    <tr>\n",
       "      <th>327</th>\n",
       "      <td> 0.000000</td>\n",
       "      <td> 0.000729</td>\n",
       "      <td> 0.000000</td>\n",
       "      <td> 0.000000</td>\n",
       "      <td> 0.019230</td>\n",
       "      <td> 0</td>\n",
       "    </tr>\n",
       "    <tr>\n",
       "      <th>334</th>\n",
       "      <td> 0.000000</td>\n",
       "      <td> 0.002000</td>\n",
       "      <td> 0.000000</td>\n",
       "      <td> 0.000000</td>\n",
       "      <td> 0.025156</td>\n",
       "      <td> 0</td>\n",
       "    </tr>\n",
       "    <tr>\n",
       "      <th>343</th>\n",
       "      <td> 0.000644</td>\n",
       "      <td> 0.000728</td>\n",
       "      <td> 0.000000</td>\n",
       "      <td> 0.003846</td>\n",
       "      <td> 0.005249</td>\n",
       "      <td> 0</td>\n",
       "    </tr>\n",
       "  </tbody>\n",
       "</table>\n",
       "<p>11 rows × 6 columns</p>\n",
       "</div>"
      ],
      "text/plain": [
       "           53        54        67        68        71  72\n",
       "156  0.000000  0.002213  0.019604  0.000000  0.000000   0\n",
       "256  0.000000  0.002307  0.199601  0.000000  0.000000   0\n",
       "275  0.000000  0.002541  0.000000  0.000000  0.000000   0\n",
       "298  0.000000  0.001667  0.000000  0.000000  0.000000   0\n",
       "214  0.000000  0.000000  0.000000  0.002514  0.000000   0\n",
       "285  0.000000  0.000000  0.013735  0.000000  0.000000   0\n",
       "289  0.000000  0.000000  0.015267  0.000000  0.000000   0\n",
       "290  0.000000  0.000000  0.017421  0.000000  0.000000   0\n",
       "327  0.000000  0.000729  0.000000  0.000000  0.019230   0\n",
       "334  0.000000  0.002000  0.000000  0.000000  0.025156   0\n",
       "343  0.000644  0.000728  0.000000  0.003846  0.005249   0\n",
       "\n",
       "[11 rows x 6 columns]"
      ]
     },
     "execution_count": 313,
     "metadata": {},
     "output_type": "execute_result"
    }
   ],
   "source": [
    "df_ctr"
   ]
  },
  {
   "cell_type": "raw",
   "metadata": {},
   "source": [
    "# Convert DataFrame to matrix\n",
    "mat = df_ctr_logodd.as_matrix()\n",
    "# Using sklearn\n",
    "km = KMeans(n_clusters=5)\n",
    "km.fit(mat)\n",
    "# Get cluster assignment labels\n",
    "labels = km.labels_\n",
    "# Format results as a DataFrame\n",
    "df_ctr_lo_cluster = pd.DataFrame([df_ctr_logodd.index,labels]).T"
   ]
  },
  {
   "cell_type": "code",
   "execution_count": 345,
   "metadata": {
    "collapsed": false
   },
   "outputs": [
    {
     "data": {
      "text/plain": [
       "<seaborn.matrix.ClusterGrid at 0x7fb99c668dd0>"
      ]
     },
     "execution_count": 345,
     "metadata": {},
     "output_type": "execute_result"
    },
    {
     "data": {
      "image/png": "[encoded data removed]",
      "text/plain": [
       "<matplotlib.figure.Figure at 0x7fb99c668bd0>"
      ]
     },
     "metadata": {},
     "output_type": "display_data"
    }
   ],
   "source": [
    "sns.clustermap(df_ctr_logodd)"
   ]
  },
  {
   "cell_type": "code",
   "execution_count": 338,
   "metadata": {
    "collapsed": false
   },
   "outputs": [
    {
     "data": {
      "text/plain": [
       "<matplotlib.axes._subplots.AxesSubplot at 0x7fb994f58350>"
      ]
     },
     "execution_count": 338,
     "metadata": {},
     "output_type": "execute_result"
    },
    {
     "data": {
      "image/png": "[encoded data removed]",
      "text/plain": [
       "<matplotlib.figure.Figure at 0x7fb9ac9e3c90>"
      ]
     },
     "metadata": {},
     "output_type": "display_data"
    }
   ],
   "source": [
    "sns.heatmap(df_ctr_logodd, mask=mask)"
   ]
  },
  {
   "cell_type": "code",
   "execution_count": 346,
   "metadata": {
    "collapsed": true
   },
   "outputs": [],
   "source": [
    "columns_cluster = [67,68,53,72,54,71]\n",
    "index_cluster = [290, 285, 289, 156, 256, 343, 327, 334, 214, 275, 298]"
   ]
  },
  {
   "cell_type": "code",
   "execution_count": 347,
   "metadata": {
    "collapsed": true
   },
   "outputs": [],
   "source": [
    "df_show_c = pd.DataFrame(index=index_cluster, columns=columns_cluster)\n",
    "df_show_c = df_show_c.fillna(0)"
   ]
  },
  {
   "cell_type": "code",
   "execution_count": 348,
   "metadata": {
    "collapsed": true
   },
   "outputs": [],
   "source": [
    "for col in columns_cluster:\n",
    "    for ind in index_cluster:\n",
    "        df_show_c.loc[ind,col] = df_show.loc[ind,col]"
   ]
  },
  {
   "cell_type": "code",
   "execution_count": 349,
   "metadata": {
    "collapsed": false
   },
   "outputs": [
    {
     "data": {
      "text/plain": [
       "<seaborn.matrix.ClusterGrid at 0x7fb9961d2a10>"
      ]
     },
     "execution_count": 349,
     "metadata": {},
     "output_type": "execute_result"
    },
    {
     "data": {
      "image/png": "[encoded data removed]",
      "text/plain": [
       "<matplotlib.figure.Figure at 0x7fb9961d2bd0>"
      ]
     },
     "metadata": {},
     "output_type": "display_data"
    }
   ],
   "source": [
    "mask = df_show_c.apply(lambda x: x == 0)\n",
    "sns.clustermap(df_ctr_logodd, mask=mask)"
   ]
  },
  {
   "cell_type": "code",
   "execution_count": 489,
   "metadata": {
    "collapsed": false
   },
   "outputs": [
    {
     "data": {
      "text/plain": [
       "London           1282\n",
       "Lagos             965\n",
       "Mountain View     239\n",
       "Singapore         234\n",
       "Kansas City       197\n",
       "dtype: int64"
      ]
     },
     "execution_count": 489,
     "metadata": {},
     "output_type": "execute_result"
    }
   ],
   "source": [
    "data2['cty'].value_counts().head()"
   ]
  },
  {
   "cell_type": "markdown",
   "metadata": {
    "collapsed": true
   },
   "source": [
    "#Refine plots"
   ]
  },
  {
   "cell_type": "code",
   "execution_count": 35,
   "metadata": {
    "collapsed": true
   },
   "outputs": [],
   "source": [
    "from scipy.stats import beta\n",
    "def binom_interval(success, total, confint=0.95):\n",
    "    quantile = (1 - confint) / 2.\n",
    "    mode = float(success)/total\n",
    "    lower = beta.ppf(quantile, success, total - success + 1)\n",
    "    upper = beta.ppf(1 - quantile, success + 1, total - success)\n",
    "    return (mode, lower, upper)"
   ]
  },
  {
   "cell_type": "code",
   "execution_count": 33,
   "metadata": {
    "collapsed": false
   },
   "outputs": [
    {
     "name": "stdout",
     "output_type": "stream",
     "text": [
      "ITA android click: 1781\n",
      "ITA android show: 375391\n",
      "ITA iOS click: 85\n",
      "ITA: 717\n",
      "\n"
     ]
    }
   ],
   "source": [
    "ita_a_click = es.count(index=\"events-*\", body={'query': {'bool': {'must':[{'match': { 'plfm' : 'android' }}, {'match': { 'co' : 'ITA' }}, {'match': { 'et' : 'AD_CLICK' }}], 'must_not':[{'match': { 'fr' : 'true' }}]}}})['count']\n",
    "ita_a_show = es.count(index=\"events-*\", body={'query': {'bool': {'must':[{'match': { 'plfm' : 'android' }}, {'match': { 'co' : 'ITA' }}, {'match': { 'et' : 'AD_SHOW' }}], 'must_not':[{'match': { 'fr' : 'true' }}]}}})['count']\n",
    "ita_i_click = es.count(index=\"events-*\", body={'query': {'bool': {'must':[{'match': { 'plfm' : 'ios' }}, {'match': { 'co' : 'ITA' }}, {'match': { 'et' : 'AD_CLICK' }}], 'must_not':[{'match': { 'fr' : 'true' }}]}}})['count']\n",
    "ita_i_show = es.count(index=\"events-*\", body={'query': {'bool': {'must':[{'match': { 'plfm' : 'ios' }}, {'match': { 'co' : 'ITA' }}, {'match': { 'et' : 'AD_SHOW' }}], 'must_not':[{'match': { 'fr' : 'true' }}]}}})['count']\n",
    "print 'ITA android click: %d\\nITA android show: %d\\nITA iOS click: %d\\nITA: %d\\n' % (ita_a_click,ita_a_show,ita_i_click,ita_i_show)"
   ]
  },
  {
   "cell_type": "code",
   "execution_count": 36,
   "metadata": {
    "collapsed": false
   },
   "outputs": [
    {
     "data": {
      "text/plain": [
       "(0.004744386519655506, 0.0045270664868216296, 0.0049694046831056937)"
      ]
     },
     "execution_count": 36,
     "metadata": {},
     "output_type": "execute_result"
    }
   ],
   "source": [
    "binom_interval(1781,375391)"
   ]
  },
  {
   "cell_type": "code",
   "execution_count": 37,
   "metadata": {
    "collapsed": false
   },
   "outputs": [
    {
     "data": {
      "text/plain": [
       "(0.11854951185495119, 0.095799659672383658, 0.1444907966490091)"
      ]
     },
     "execution_count": 37,
     "metadata": {},
     "output_type": "execute_result"
    }
   ],
   "source": [
    "binom_interval(85,717)"
   ]
  },
  {
   "cell_type": "code",
   "execution_count": 74,
   "metadata": {
    "collapsed": false
   },
   "outputs": [
    {
     "data": {
      "text/plain": [
       "[<matplotlib.lines.Line2D at 0x7fd981a12cd0>]"
      ]
     },
     "execution_count": 74,
     "metadata": {},
     "output_type": "execute_result"
    },
    {
     "data": {
      "image/png": "[encoded data removed]",
      "text/plain": [
       "<matplotlib.figure.Figure at 0x7fd981ab7110>"
      ]
     },
     "metadata": {},
     "output_type": "display_data"
    }
   ],
   "source": [
    "sns.set(style=\"white\", context=\"talk\")\n",
    "x = np.array(['Android','iOS'])\n",
    "y = np.array([ita_a,ita_i])\n",
    "f, (ax) = plt.subplots(1, 1, figsize=(3, 6), sharex=True)\n",
    "p = sns.barplot(x, y, ci=None, palette=\"coolwarm\", hline=0,ax=ax)\n",
    "plt.ylim([0, 0.15])\n",
    "ax.set_ylabel(\"Click-through-rate (CTR)\",fontsize=20)\n",
    "plt.title(\"ITA\")\n",
    "ax.axhline(y=ita_rate)\n",
    "sns.despine(bottom=True)\n",
    "plt.plot([1,1], [0.095799659672383658,0.1444907966490091], 'k-')\n",
    "plt.plot([0,0], [0.0045270664868216296,0.0049694046831056937], 'k-')"
   ]
  },
  {
   "cell_type": "code",
   "execution_count": 55,
   "metadata": {
    "collapsed": false
   },
   "outputs": [
    {
     "data": {
      "text/plain": [
       "0.48989794855663565"
      ]
     },
     "execution_count": 55,
     "metadata": {},
     "output_type": "execute_result"
    }
   ],
   "source": [
    "np.std([1] * 3 + [0] * 2)"
   ]
  },
  {
   "cell_type": "code",
   "execution_count": 61,
   "metadata": {
    "collapsed": true
   },
   "outputs": [],
   "source": [
    "def binom_error(success, total, confint=0.95):\n",
    "    avg = float(success)/total\n",
    "    err = np.std([1] * success + [0] * (total - success))/math.sqrt(total)\n",
    "    return (avg, err)"
   ]
  },
  {
   "cell_type": "code",
   "execution_count": 62,
   "metadata": {
    "collapsed": false
   },
   "outputs": [
    {
     "data": {
      "text/plain": [
       "(0.004744386519655506, 0.00011215416889568033)"
      ]
     },
     "execution_count": 62,
     "metadata": {},
     "output_type": "execute_result"
    }
   ],
   "source": [
    "binom_error(1781,375391)"
   ]
  },
  {
   "cell_type": "code",
   "execution_count": 63,
   "metadata": {
    "collapsed": false
   },
   "outputs": [
    {
     "data": {
      "text/plain": [
       "(0.11854951185495119, 0.012072279131235047)"
      ]
     },
     "execution_count": 63,
     "metadata": {},
     "output_type": "execute_result"
    }
   ],
   "source": [
    "binom_error(85,717)"
   ]
  },
  {
   "cell_type": "code",
   "execution_count": 67,
   "metadata": {
    "collapsed": false
   },
   "outputs": [
    {
     "data": {
      "text/plain": [
       "0.1293759512937595"
      ]
     },
     "execution_count": 67,
     "metadata": {},
     "output_type": "execute_result"
    }
   ],
   "source": [
    "ita_i"
   ]
  },
  {
   "cell_type": "code",
   "execution_count": 65,
   "metadata": {
    "collapsed": false
   },
   "outputs": [
    {
     "data": {
      "text/plain": [
       "0.13062179098618623"
      ]
     },
     "execution_count": 65,
     "metadata": {},
     "output_type": "execute_result"
    }
   ],
   "source": [
    "0.11854951185495119 + 0.012072279131235047"
   ]
  },
  {
   "cell_type": "code",
   "execution_count": 70,
   "metadata": {
    "collapsed": false
   },
   "outputs": [
    {
     "data": {
      "text/plain": [
       "[<matplotlib.lines.Line2D at 0x7fd981cd2510>]"
      ]
     },
     "execution_count": 70,
     "metadata": {},
     "output_type": "execute_result"
    },
    {
     "data": {
      "image/png": "[encoded data removed]",
      "text/plain": [
       "<matplotlib.figure.Figure at 0x7fd981d52950>"
      ]
     },
     "metadata": {},
     "output_type": "display_data"
    }
   ],
   "source": [
    "sns.set(style=\"white\", context=\"talk\")\n",
    "x = np.array(['Android','iOS'])\n",
    "y = np.array([ita_a,ita_i])\n",
    "f, (ax) = plt.subplots(1, 1, figsize=(3, 6), sharex=True)\n",
    "p = sns.barplot(x, y, ci=None, palette=\"coolwarm\", hline=0,ax=ax)\n",
    "plt.ylim([0, 0.15])\n",
    "ax.set_ylabel(\"Click-through-rate (CTR)\",fontsize=20)\n",
    "plt.title(\"ITA\")\n",
    "ax.axhline(y=ita_rate)\n",
    "sns.despine(bottom=True)\n",
    "plt.plot([1,1], [0.10647723272371615,0.13062179098618623], 'k-')"
   ]
  },
  {
   "cell_type": "code",
   "execution_count": 75,
   "metadata": {
    "collapsed": false
   },
   "outputs": [
    {
     "data": {
      "text/plain": [
       "'2015-06-22 14:26:36'"
      ]
     },
     "execution_count": 75,
     "metadata": {},
     "output_type": "execute_result"
    }
   ],
   "source": [
    "datetime.datetime.fromtimestamp(time.time()).strftime('%Y-%m-%d %H:%M:%S')"
   ]
  },
  {
   "cell_type": "code",
   "execution_count": 79,
   "metadata": {
    "collapsed": false
   },
   "outputs": [
    {
     "name": "stdout",
     "output_type": "stream",
     "text": [
      "USA: 0.0006\n",
      "ITA 0.0047\n",
      "GBR: 0.0030\n",
      "NGA: 0.0032\n",
      "\n"
     ]
    }
   ],
   "source": [
    "usa_rate = float(es.count(index=\"events-*\", body={'query': {'bool': {'must':[{'match': { 'co' : 'USA' }}, {'match': { 'et' : 'AD_CLICK' }}], 'must_not':[{'match': { 'fr' : 'true' }}]}}})['count'])/es.count(index=\"events-*\", body={'query': {'bool': {'must':[{'match': { 'co' : 'USA' }}, {'match': { 'et' : 'AD_SHOW' }}], 'must_not':[{'match': { 'fr' : 'true' }}]}}})['count']\n",
    "ita_rate = float(es.count(index=\"events-*\", body={'query': {'bool': {'must':[{'match': { 'co' : 'ITA' }}, {'match': { 'et' : 'AD_CLICK' }}], 'must_not':[{'match': { 'fr' : 'true' }}]}}})['count'])/es.count(index=\"events-*\", body={'query': {'bool': {'must':[{'match': { 'co' : 'ITA' }}, {'match': { 'et' : 'AD_SHOW' }}], 'must_not':[{'match': { 'fr' : 'true' }}]}}})['count']\n",
    "gbr_rate = float(es.count(index=\"events-*\", body={'query': {'bool': {'must':[{'match': { 'co' : 'GBR' }}, {'match': { 'et' : 'AD_CLICK' }}], 'must_not':[{'match': { 'fr' : 'true' }}]}}})['count'])/es.count(index=\"events-*\", body={'query': {'bool': {'must':[{'match': { 'co' : 'GBR' }}, {'match': { 'et' : 'AD_SHOW' }}], 'must_not':[{'match': { 'fr' : 'true' }}]}}})['count']\n",
    "nga_rate = float(es.count(index=\"events-*\", body={'query': {'bool': {'must':[{'match': { 'co' : 'NGA' }}, {'match': { 'et' : 'AD_CLICK' }}], 'must_not':[{'match': { 'fr' : 'true' }}]}}})['count'])/es.count(index=\"events-*\", body={'query': {'bool': {'must':[{'match': { 'co' : 'NGA' }}, {'match': { 'et' : 'AD_SHOW' }}], 'must_not':[{'match': { 'fr' : 'true' }}]}}})['count']\n",
    "print 'USA: %.4f\\nITA %.4f\\nGBR: %.4f\\nNGA: %.4f\\n' % (usa_rate,ita_rate,gbr_rate,nga_rate)"
   ]
  },
  {
   "cell_type": "code",
   "execution_count": 76,
   "metadata": {
    "collapsed": false
   },
   "outputs": [
    {
     "name": "stdout",
     "output_type": "stream",
     "text": [
      "ITA android click: 1783\n",
      "ITA android show: 376049\n",
      "ITA iOS click: 85\n",
      "ITA: 723\n",
      "\n"
     ]
    }
   ],
   "source": [
    "ita_a_click = es.count(index=\"events-*\", body={'query': {'bool': {'must':[{'match': { 'plfm' : 'android' }}, {'match': { 'co' : 'ITA' }}, {'match': { 'et' : 'AD_CLICK' }}], 'must_not':[{'match': { 'fr' : 'true' }}]}}})['count']\n",
    "ita_a_show = es.count(index=\"events-*\", body={'query': {'bool': {'must':[{'match': { 'plfm' : 'android' }}, {'match': { 'co' : 'ITA' }}, {'match': { 'et' : 'AD_SHOW' }}], 'must_not':[{'match': { 'fr' : 'true' }}]}}})['count']\n",
    "ita_i_click = es.count(index=\"events-*\", body={'query': {'bool': {'must':[{'match': { 'plfm' : 'ios' }}, {'match': { 'co' : 'ITA' }}, {'match': { 'et' : 'AD_CLICK' }}], 'must_not':[{'match': { 'fr' : 'true' }}]}}})['count']\n",
    "ita_i_show = es.count(index=\"events-*\", body={'query': {'bool': {'must':[{'match': { 'plfm' : 'ios' }}, {'match': { 'co' : 'ITA' }}, {'match': { 'et' : 'AD_SHOW' }}], 'must_not':[{'match': { 'fr' : 'true' }}]}}})['count']\n",
    "print 'ITA android click: %d\\nITA android show: %d\\nITA iOS click: %d\\nITA: %d\\n' % (ita_a_click,ita_a_show,ita_i_click,ita_i_show)"
   ]
  },
  {
   "cell_type": "code",
   "execution_count": 78,
   "metadata": {
    "collapsed": true
   },
   "outputs": [],
   "source": [
    "ita_a_stat = binom_interval(ita_a_click,ita_a_show)\n",
    "ita_i_stat = binom_interval(ita_i_click,ita_i_show)"
   ]
  },
  {
   "cell_type": "code",
   "execution_count": 85,
   "metadata": {
    "collapsed": false
   },
   "outputs": [
    {
     "data": {
      "text/plain": [
       "(0.0045243401221140012, 0.0049661513124962834)"
      ]
     },
     "execution_count": 85,
     "metadata": {},
     "output_type": "execute_result"
    }
   ],
   "source": [
    "ita_a_stat[1:]"
   ]
  },
  {
   "cell_type": "code",
   "execution_count": 86,
   "metadata": {
    "collapsed": false
   },
   "outputs": [
    {
     "data": {
      "text/plain": [
       "[<matplotlib.lines.Line2D at 0x7fd981fd0e90>]"
      ]
     },
     "execution_count": 86,
     "metadata": {},
     "output_type": "execute_result"
    },
    {
     "data": {
      "image/png": "[encoded data removed]",
      "text/plain": [
       "<matplotlib.figure.Figure at 0x7fd981ab7150>"
      ]
     },
     "metadata": {},
     "output_type": "display_data"
    }
   ],
   "source": [
    "sns.set(style=\"white\", context=\"talk\")\n",
    "x = np.array(['Android','iOS'])\n",
    "y = np.array([ita_a_stat[0],ita_i_stat[0]])\n",
    "f, (ax) = plt.subplots(1, 1, figsize=(3, 6), sharex=True)\n",
    "p = sns.barplot(x, y, ci=None, palette=\"coolwarm\", hline=0,ax=ax)\n",
    "plt.ylim([0, 0.15])\n",
    "ax.set_ylabel(\"Click-through-rate (CTR)\",fontsize=20)\n",
    "plt.title(\"ITA\")\n",
    "ax.axhline(y=ita_rate)\n",
    "sns.despine(bottom=True)\n",
    "plt.plot([0,0], ita_a_stat[1:], 'k-')\n",
    "plt.plot([1,1], ita_i_stat[1:], 'k-')"
   ]
  },
  {
   "cell_type": "code",
   "execution_count": 87,
   "metadata": {
    "collapsed": false
   },
   "outputs": [
    {
     "name": "stdout",
     "output_type": "stream",
     "text": [
      "GBR android click: 855\n",
      "GBR android show: 45937\n",
      "GBR iOS click: 44\n",
      "GBR iOS show: 26234\n",
      "\n"
     ]
    }
   ],
   "source": [
    "gbr_a_click = es.count(index=\"events-*\", body={'query': {'bool': {'must':[{'match': { 'plfm' : 'android' }}, {'match': { 'co' : 'GBR' }}, {'match': { 'et' : 'AD_CLICK' }}], 'must_not':[{'match': { 'fr' : 'true' }}]}}})['count']\n",
    "gbr_a_show = es.count(index=\"events-*\", body={'query': {'bool': {'must':[{'match': { 'plfm' : 'android' }}, {'match': { 'co' : 'GBR' }}, {'match': { 'et' : 'AD_SHOW' }}], 'must_not':[{'match': { 'fr' : 'true' }}]}}})['count']\n",
    "gbr_i_click = es.count(index=\"events-*\", body={'query': {'bool': {'must':[{'match': { 'plfm' : 'ios' }}, {'match': { 'co' : 'GBR' }}, {'match': { 'et' : 'AD_CLICK' }}], 'must_not':[{'match': { 'fr' : 'true' }}]}}})['count']\n",
    "gbr_i_show = es.count(index=\"events-*\", body={'query': {'bool': {'must':[{'match': { 'plfm' : 'ios' }}, {'match': { 'co' : 'GBR' }}, {'match': { 'et' : 'AD_SHOW' }}], 'must_not':[{'match': { 'fr' : 'true' }}]}}})['count']\n",
    "print 'GBR android click: %d\\nGBR android show: %d\\nGBR iOS click: %d\\nGBR iOS show: %d\\n' % (gbr_a_click,gbr_a_show,gbr_i_click,gbr_i_show)"
   ]
  },
  {
   "cell_type": "code",
   "execution_count": 88,
   "metadata": {
    "collapsed": true
   },
   "outputs": [],
   "source": [
    "gbr_a_stat = binom_interval(gbr_a_click,gbr_a_show)\n",
    "gbr_i_stat = binom_interval(gbr_i_click,gbr_i_show)"
   ]
  },
  {
   "cell_type": "code",
   "execution_count": 89,
   "metadata": {
    "collapsed": false
   },
   "outputs": [
    {
     "data": {
      "text/plain": [
       "(0.01861244748242158, 0.017396141325199066, 0.019890117829972187)"
      ]
     },
     "execution_count": 89,
     "metadata": {},
     "output_type": "execute_result"
    }
   ],
   "source": [
    "gbr_a_stat"
   ]
  },
  {
   "cell_type": "code",
   "execution_count": 97,
   "metadata": {
    "collapsed": false
   },
   "outputs": [
    {
     "data": {
      "text/plain": [
       "[<matplotlib.lines.Line2D at 0x7fd9819ce450>]"
      ]
     },
     "execution_count": 97,
     "metadata": {},
     "output_type": "execute_result"
    },
    {
     "data": {
      "image/png": "[encoded data removed]",
      "text/plain": [
       "<matplotlib.figure.Figure at 0x7fd981fec1d0>"
      ]
     },
     "metadata": {},
     "output_type": "display_data"
    }
   ],
   "source": [
    "sns.set(style=\"white\", context=\"talk\")\n",
    "x = np.array(['Android','iOS'])\n",
    "y = np.array([gbr_a_stat[0],gbr_i_stat[0]])\n",
    "f, (ax) = plt.subplots(1, 1, figsize=(3, 6), sharex=True)\n",
    "p = sns.barplot(x, y, ci=None, palette=\"coolwarm\", hline=0,ax=ax)\n",
    "plt.ylim([0, 0.02])\n",
    "ax.set_ylabel(\"Click-through-rate (CTR)\",fontsize=20)\n",
    "plt.title(\"UK\")\n",
    "ax.axhline(y=gbr_rate)\n",
    "sns.despine(bottom=True)\n",
    "plt.plot([0,0], gbr_a_stat[1:], 'k-')\n",
    "plt.plot([1,1], gbr_i_stat[1:], 'k-')"
   ]
  },
  {
   "cell_type": "code",
   "execution_count": 93,
   "metadata": {
    "collapsed": false
   },
   "outputs": [
    {
     "name": "stdout",
     "output_type": "stream",
     "text": [
      "NGA android click: 881\n",
      "NGA android show: 190055\n",
      "NGA iOS click: 114\n",
      "NGA iOS show: 40374\n",
      "\n"
     ]
    }
   ],
   "source": [
    "nga_a_click = es.count(index=\"events-*\", body={'query': {'bool': {'must':[{'match': { 'plfm' : 'android' }}, {'match': { 'co' : 'NGA' }}, {'match': { 'et' : 'AD_CLICK' }}], 'must_not':[{'match': { 'fr' : 'true' }}]}}})['count']\n",
    "nga_a_show = es.count(index=\"events-*\", body={'query': {'bool': {'must':[{'match': { 'plfm' : 'android' }}, {'match': { 'co' : 'NGA' }}, {'match': { 'et' : 'AD_SHOW' }}], 'must_not':[{'match': { 'fr' : 'true' }}]}}})['count']\n",
    "nga_i_click = es.count(index=\"events-*\", body={'query': {'bool': {'must':[{'match': { 'plfm' : 'ios' }}, {'match': { 'co' : 'NGA' }}, {'match': { 'et' : 'AD_CLICK' }}], 'must_not':[{'match': { 'fr' : 'true' }}]}}})['count']\n",
    "nga_i_show = es.count(index=\"events-*\", body={'query': {'bool': {'must':[{'match': { 'plfm' : 'ios' }}, {'match': { 'co' : 'NGA' }}, {'match': { 'et' : 'AD_SHOW' }}], 'must_not':[{'match': { 'fr' : 'true' }}]}}})['count']\n",
    "print 'NGA android click: %d\\nNGA android show: %d\\nNGA iOS click: %d\\nNGA iOS show: %d\\n' % (nga_a_click,nga_a_show,nga_i_click,nga_i_show)"
   ]
  },
  {
   "cell_type": "code",
   "execution_count": 94,
   "metadata": {
    "collapsed": true
   },
   "outputs": [],
   "source": [
    "nga_a_stat = binom_interval(nga_a_click,nga_a_show)\n",
    "nga_i_stat = binom_interval(nga_i_click,nga_i_show)"
   ]
  },
  {
   "cell_type": "code",
   "execution_count": 95,
   "metadata": {
    "collapsed": false
   },
   "outputs": [
    {
     "data": {
      "text/plain": [
       "(0.004635500249927652, 0.0043350604529966558, 0.0049511991949953149)"
      ]
     },
     "execution_count": 95,
     "metadata": {},
     "output_type": "execute_result"
    }
   ],
   "source": [
    "nga_a_stat"
   ]
  },
  {
   "cell_type": "code",
   "execution_count": 98,
   "metadata": {
    "collapsed": false
   },
   "outputs": [
    {
     "data": {
      "text/plain": [
       "[<matplotlib.lines.Line2D at 0x7fd9818f0290>]"
      ]
     },
     "execution_count": 98,
     "metadata": {},
     "output_type": "execute_result"
    },
    {
     "data": {
      "image/png": "[encoded data removed]",
      "text/plain": [
       "<matplotlib.figure.Figure at 0x7fd981a9f510>"
      ]
     },
     "metadata": {},
     "output_type": "display_data"
    }
   ],
   "source": [
    "sns.set(style=\"white\", context=\"talk\")\n",
    "x = np.array(['Android','iOS'])\n",
    "y = np.array([nga_a_stat[0],nga_i_stat[0]])\n",
    "f, (ax) = plt.subplots(1, 1, figsize=(3, 6), sharex=True)\n",
    "p = sns.barplot(x, y, ci=None, palette=\"coolwarm\", hline=0,ax=ax)\n",
    "plt.ylim([0, 0.005])\n",
    "ax.set_ylabel(\"Click-through-rate (CTR)\",fontsize=20)\n",
    "plt.title(\"NGA\")\n",
    "ax.axhline(y=nga_rate)\n",
    "sns.despine(bottom=True)\n",
    "plt.plot([0,0], nga_a_stat[1:], 'k-')\n",
    "plt.plot([1,1], nga_i_stat[1:], 'k-')"
   ]
  },
  {
   "cell_type": "code",
   "execution_count": 99,
   "metadata": {
    "collapsed": false
   },
   "outputs": [
    {
     "name": "stdout",
     "output_type": "stream",
     "text": [
      "USA android click: 233\n",
      "USA android show: 289230\n",
      "USA iOS click: 162\n",
      "USA iOS show: 1070791\n",
      "\n"
     ]
    }
   ],
   "source": [
    "usa_a_click = es.count(index=\"events-*\", body={'query': {'bool': {'must':[{'match': { 'plfm' : 'android' }}, {'match': { 'co' : 'USA' }}, {'match': { 'et' : 'AD_CLICK' }}], 'must_not':[{'match': { 'fr' : 'true' }}]}}})['count']\n",
    "usa_a_show = es.count(index=\"events-*\", body={'query': {'bool': {'must':[{'match': { 'plfm' : 'android' }}, {'match': { 'co' : 'USA' }}, {'match': { 'et' : 'AD_SHOW' }}], 'must_not':[{'match': { 'fr' : 'true' }}]}}})['count']\n",
    "usa_i_click = es.count(index=\"events-*\", body={'query': {'bool': {'must':[{'match': { 'plfm' : 'ios' }}, {'match': { 'co' : 'USA' }}, {'match': { 'et' : 'AD_CLICK' }}], 'must_not':[{'match': { 'fr' : 'true' }}]}}})['count']\n",
    "usa_i_show = es.count(index=\"events-*\", body={'query': {'bool': {'must':[{'match': { 'plfm' : 'ios' }}, {'match': { 'co' : 'USA' }}, {'match': { 'et' : 'AD_SHOW' }}], 'must_not':[{'match': { 'fr' : 'true' }}]}}})['count']\n",
    "print 'USA android click: %d\\nUSA android show: %d\\nUSA iOS click: %d\\nUSA iOS show: %d\\n' % (usa_a_click,usa_a_show,usa_i_click,usa_i_show)"
   ]
  },
  {
   "cell_type": "code",
   "execution_count": 100,
   "metadata": {
    "collapsed": true
   },
   "outputs": [],
   "source": [
    "usa_a_stat = binom_interval(usa_a_click,usa_a_show)\n",
    "usa_i_stat = binom_interval(usa_i_click,usa_i_show)"
   ]
  },
  {
   "cell_type": "code",
   "execution_count": 101,
   "metadata": {
    "collapsed": false
   },
   "outputs": [
    {
     "data": {
      "text/plain": [
       "(0.0008055872489022577, 0.00070549538019229105, 0.00091588940947995301)"
      ]
     },
     "execution_count": 101,
     "metadata": {},
     "output_type": "execute_result"
    }
   ],
   "source": [
    "usa_a_stat"
   ]
  },
  {
   "cell_type": "code",
   "execution_count": 103,
   "metadata": {
    "collapsed": false
   },
   "outputs": [
    {
     "data": {
      "text/plain": [
       "[<matplotlib.lines.Line2D at 0x7fd9817af210>]"
      ]
     },
     "execution_count": 103,
     "metadata": {},
     "output_type": "execute_result"
    },
    {
     "data": {
      "image/png": "[encoded data removed]",
      "text/plain": [
       "<matplotlib.figure.Figure at 0x7fd981cbe150>"
      ]
     },
     "metadata": {},
     "output_type": "display_data"
    }
   ],
   "source": [
    "sns.set(style=\"white\", context=\"talk\")\n",
    "x = np.array(['Android','iOS'])\n",
    "y = np.array([usa_a_stat[0],usa_i_stat[0]])\n",
    "f, (ax) = plt.subplots(1, 1, figsize=(3, 6), sharex=True)\n",
    "p = sns.barplot(x, y, ci=None, palette=\"coolwarm\", hline=0,ax=ax)\n",
    "plt.ylim([0, 0.001])\n",
    "ax.set_ylabel(\"Click-through-rate (CTR)\",fontsize=20)\n",
    "plt.title(\"USA\")\n",
    "ax.axhline(y=usa_rate)\n",
    "sns.despine(bottom=True)\n",
    "plt.plot([0,0], usa_a_stat[1:], 'k-')\n",
    "plt.plot([1,1], usa_i_stat[1:], 'k-')"
   ]
  },
  {
   "cell_type": "markdown",
   "metadata": {},
   "source": [
    "#specific app and ads"
   ]
  },
  {
   "cell_type": "code",
   "execution_count": 124,
   "metadata": {
    "collapsed": false
   },
   "outputs": [],
   "source": [
    "ids1 = (data2['plfm'] == 'ios').values"
   ]
  },
  {
   "cell_type": "code",
   "execution_count": 125,
   "metadata": {
    "collapsed": false
   },
   "outputs": [],
   "source": [
    "ids2 = (data2['co'] == 'ITA').values"
   ]
  },
  {
   "cell_type": "code",
   "execution_count": 127,
   "metadata": {
    "collapsed": false
   },
   "outputs": [],
   "source": [
    "ids = ids1 * ids2"
   ]
  },
  {
   "cell_type": "code",
   "execution_count": 131,
   "metadata": {
    "collapsed": false
   },
   "outputs": [
    {
     "data": {
      "text/plain": [
       "229    2\n",
       "333    1\n",
       "214    1\n",
       "...\n",
       "229    2\n",
       "333    1\n",
       "214    1\n",
       "0      1\n",
       "Length: 4, dtype: int64"
      ]
     },
     "execution_count": 131,
     "metadata": {},
     "output_type": "execute_result"
    }
   ],
   "source": [
    "data2.loc[ids,:]['cr'].value_counts()"
   ]
  },
  {
   "cell_type": "code",
   "execution_count": 138,
   "metadata": {
    "collapsed": false
   },
   "outputs": [
    {
     "data": {
      "text/plain": [
       "USA    184\n",
       "ITA     13\n",
       "FRA      5\n",
       "VEN      4\n",
       "VNM      3\n",
       "GEO      2\n",
       "JPN      2\n",
       "ALB      2\n",
       "ISR      2\n",
       "PHL      2\n",
       "MOZ      2\n",
       "IND      1\n",
       "BGD      1\n",
       "HKG      1\n",
       "ESP      1\n",
       "BEL      1\n",
       "ARE      1\n",
       "IDN      1\n",
       "AUT      1\n",
       "THA      1\n",
       "PAK      1\n",
       "SWE      1\n",
       "ARG      1\n",
       "NOR      1\n",
       "SGP      1\n",
       "TUR      1\n",
       "RUS      1\n",
       "TTO      1\n",
       "SAU      1\n",
       "...\n",
       "USA    184\n",
       "ITA     13\n",
       "FRA      5\n",
       "VEN      4\n",
       "VNM      3\n",
       "GEO      2\n",
       "JPN      2\n",
       "ALB      2\n",
       "ISR      2\n",
       "PHL      2\n",
       "MOZ      2\n",
       "IND      1\n",
       "BGD      1\n",
       "HKG      1\n",
       "ESP      1\n",
       "BEL      1\n",
       "ARE      1\n",
       "IDN      1\n",
       "AUT      1\n",
       "THA      1\n",
       "PAK      1\n",
       "SWE      1\n",
       "ARG      1\n",
       "NOR      1\n",
       "SGP      1\n",
       "TUR      1\n",
       "RUS      1\n",
       "TTO      1\n",
       "SAU      1\n",
       "CZE      1\n",
       "Length: 30, dtype: int64"
      ]
     },
     "execution_count": 138,
     "metadata": {},
     "output_type": "execute_result"
    }
   ],
   "source": [
    "data2[data2['cr'] == 229]['co'].value_counts()"
   ]
  },
  {
   "cell_type": "code",
   "execution_count": 139,
   "metadata": {
    "collapsed": false
   },
   "outputs": [
    {
     "data": {
      "text/plain": [
       "ITA    75\n",
       "UKR     1\n",
       "dtype: int64"
      ]
     },
     "execution_count": 139,
     "metadata": {},
     "output_type": "execute_result"
    }
   ],
   "source": [
    "data2[data2['cr'] == 333]['co'].value_counts()"
   ]
  },
  {
   "cell_type": "code",
   "execution_count": 140,
   "metadata": {
    "collapsed": false
   },
   "outputs": [
    {
     "data": {
      "text/plain": [
       "ITA    11\n",
       "dtype: int64"
      ]
     },
     "execution_count": 140,
     "metadata": {},
     "output_type": "execute_result"
    }
   ],
   "source": [
    "data2[data2['cr'] == 214]['co'].value_counts()"
   ]
  },
  {
   "cell_type": "code",
   "execution_count": 141,
   "metadata": {
    "collapsed": false
   },
   "outputs": [
    {
     "data": {
      "text/plain": [
       "71    53\n",
       "68    21\n",
       "99     2\n",
       "dtype: int64"
      ]
     },
     "execution_count": 141,
     "metadata": {},
     "output_type": "execute_result"
    }
   ],
   "source": [
    "data2[data2['cr'] == 333]['ai'].value_counts()"
   ]
  },
  {
   "cell_type": "code",
   "execution_count": 142,
   "metadata": {
    "collapsed": false
   },
   "outputs": [
    {
     "data": {
      "text/plain": [
       "68    5\n",
       "dtype: int64"
      ]
     },
     "execution_count": 142,
     "metadata": {},
     "output_type": "execute_result"
    }
   ],
   "source": [
    "data2[data2['cr'] == 214]['ai'].value_counts()"
   ]
  },
  {
   "cell_type": "code",
   "execution_count": 143,
   "metadata": {
    "collapsed": false
   },
   "outputs": [
    {
     "data": {
      "text/plain": [
       "ios    2\n",
       "dtype: int64"
      ]
     },
     "execution_count": 143,
     "metadata": {},
     "output_type": "execute_result"
    }
   ],
   "source": [
    "data2[data2['cr'] == 333]['plfm'].value_counts()"
   ]
  },
  {
   "cell_type": "code",
   "execution_count": 144,
   "metadata": {
    "collapsed": false
   },
   "outputs": [
    {
     "data": {
      "text/plain": [
       "ios    1\n",
       "dtype: int64"
      ]
     },
     "execution_count": 144,
     "metadata": {},
     "output_type": "execute_result"
    }
   ],
   "source": [
    "data2[data2['cr'] == 214]['plfm'].value_counts()"
   ]
  },
  {
   "cell_type": "code",
   "execution_count": 146,
   "metadata": {
    "collapsed": false
   },
   "outputs": [
    {
     "data": {
      "text/plain": [
       "Series([], dtype: int64)"
      ]
     },
     "execution_count": 146,
     "metadata": {},
     "output_type": "execute_result"
    }
   ],
   "source": [
    "data2[data2['ai'] == 71]['plfm'].value_counts()"
   ]
  },
  {
   "cell_type": "markdown",
   "metadata": {
    "collapsed": true
   },
   "source": [
    "#Convert UTC to local time by city"
   ]
  },
  {
   "cell_type": "code",
   "execution_count": 2,
   "metadata": {
    "collapsed": true
   },
   "outputs": [],
   "source": [
    "cities = json.load(open(\"../data/city_location_150624.txt\"))"
   ]
  },
  {
   "cell_type": "raw",
   "metadata": {
    "collapsed": false
   },
   "source": [
    "(place, lat, lng) = cities['Pasadena']"
   ]
  },
  {
   "cell_type": "code",
   "execution_count": 6,
   "metadata": {
    "collapsed": true
   },
   "outputs": [],
   "source": [
    "data = pd.read_csv(\"../data/data_150624.tab\",sep='\\t',index_col=0,encoding='utf-8')"
   ]
  },
  {
   "cell_type": "raw",
   "metadata": {},
   "source": [
    "from datetime import datetime\n",
    "from dateutil import tz\n",
    "import pytz\n",
    "from_zone = tz.gettz('UTC')\n",
    "to_zone = tz.gettz(timezone.zone)\n",
    "tz = pytz.timezone(timezone.zone)\n",
    "utc = data['created_at'][0]\n",
    "utc = utc.replace(tzinfo=pytz.utc)\n",
    "local = tz.normalize(utc.astimezone(tz))\n",
    "local"
   ]
  },
  {
   "cell_type": "code",
   "execution_count": 12,
   "metadata": {
    "collapsed": false
   },
   "outputs": [],
   "source": [
    "import settings\n",
    "from geopy import geocoders\n",
    "g = geocoders.GoogleV3(settings.google_api_key)\n",
    "timezone = g.timezone((lat, lng))"
   ]
  },
  {
   "cell_type": "code",
   "execution_count": 19,
   "metadata": {
    "collapsed": false
   },
   "outputs": [
    {
     "data": {
      "text/plain": [
       "datetime.datetime(2015, 5, 10, 4, 41, 11)"
      ]
     },
     "execution_count": 19,
     "metadata": {},
     "output_type": "execute_result"
    }
   ],
   "source": [
    "from datetime import datetime\n",
    "date_object = datetime.strptime(data['created_at'][0], '%Y-%m-%d %H:%M:%S')\n",
    "date_object"
   ]
  },
  {
   "cell_type": "code",
   "execution_count": 20,
   "metadata": {
    "collapsed": true
   },
   "outputs": [],
   "source": [
    "data['created_at'] = data['created_at'].apply(lambda x: datetime.strptime(x, '%Y-%m-%d %H:%M:%S'))"
   ]
  },
  {
   "cell_type": "code",
   "execution_count": 21,
   "metadata": {
    "collapsed": false
   },
   "outputs": [
    {
     "data": {
      "text/plain": [
       "datetime.datetime(2015, 5, 10, 5, 41, 11, tzinfo=<DstTzInfo 'Europe/London' BST+1:00:00 DST>)"
      ]
     },
     "execution_count": 21,
     "metadata": {},
     "output_type": "execute_result"
    }
   ],
   "source": [
    "import pytz\n",
    "tz = pytz.timezone(timezone.zone)\n",
    "utc = data['created_at'][0]\n",
    "utc = utc.replace(tzinfo=pytz.utc)\n",
    "local = tz.normalize(utc.astimezone(tz))\n",
    "local"
   ]
  },
  {
   "cell_type": "code",
   "execution_count": 23,
   "metadata": {
    "collapsed": false
   },
   "outputs": [
    {
     "data": {
      "text/plain": [
       "(30912, 22)"
      ]
     },
     "execution_count": 23,
     "metadata": {},
     "output_type": "execute_result"
    }
   ],
   "source": [
    "data.shape"
   ]
  },
  {
   "cell_type": "code",
   "execution_count": 24,
   "metadata": {
    "collapsed": false
   },
   "outputs": [],
   "source": [
    "def utc_to_local(time, city):\n",
    "    try:\n",
    "        #time.sleep(1)\n",
    "        # get the local time zone\n",
    "        (place, lat, lng) = cities[city]\n",
    "        timezone = g.timezone((lat, lng))\n",
    "        tz = pytz.timezone(timezone.zone)\n",
    "    \n",
    "        # convert UTC to local\n",
    "        utc = time.replace(tzinfo=pytz.utc)\n",
    "        local = tz.normalize(utc.astimezone(tz))\n",
    "    \n",
    "        return local\n",
    "        \n",
    "    except:\n",
    "        return np.NaN"
   ]
  },
  {
   "cell_type": "code",
   "execution_count": 29,
   "metadata": {
    "collapsed": false
   },
   "outputs": [],
   "source": [
    "for i in data.index:\n",
    "    data.loc[i,'local'] = utc_to_local(data.loc[i,'created_at'], data.loc[i,'cty'])"
   ]
  },
  {
   "cell_type": "code",
   "execution_count": 44,
   "metadata": {
    "collapsed": false
   },
   "outputs": [],
   "source": [
    "def get_day(x):\n",
    "    if isinstance(x, float):\n",
    "        return np.NaN\n",
    "    else:\n",
    "        return x.day\n",
    "def get_hour(x):\n",
    "    if isinstance(x, float):\n",
    "        return np.NaN\n",
    "    else:\n",
    "        return x.hour"
   ]
  },
  {
   "cell_type": "code",
   "execution_count": 43,
   "metadata": {
    "collapsed": false
   },
   "outputs": [],
   "source": [
    "data['day'] = data['local'].apply(get_day)"
   ]
  },
  {
   "cell_type": "code",
   "execution_count": 45,
   "metadata": {
    "collapsed": true
   },
   "outputs": [],
   "source": [
    "data['hour'] = data['local'].apply(get_hour)"
   ]
  },
  {
   "cell_type": "code",
   "execution_count": 46,
   "metadata": {
    "collapsed": true
   },
   "outputs": [],
   "source": [
    "data.to_csv(\"../data/data_localtime_150624_2.tab\",sep='\\t',encoding='utf-8')"
   ]
  },
  {
   "cell_type": "code",
   "execution_count": 47,
   "metadata": {
    "collapsed": false
   },
   "outputs": [
    {
     "data": {
      "text/plain": [
       "28415"
      ]
     },
     "execution_count": 47,
     "metadata": {},
     "output_type": "execute_result"
    }
   ],
   "source": [
    "data['local'].apply(lambda x: isinstance(x, float)).sum()"
   ]
  },
  {
   "cell_type": "code",
   "execution_count": 50,
   "metadata": {
    "collapsed": false
   },
   "outputs": [
    {
     "data": {
      "text/plain": [
       "28415"
      ]
     },
     "execution_count": 50,
     "metadata": {},
     "output_type": "execute_result"
    }
   ],
   "source": [
    "data['hour'].apply(lambda x: math.isnan(x)).sum()"
   ]
  },
  {
   "cell_type": "code",
   "execution_count": 53,
   "metadata": {
    "collapsed": false
   },
   "outputs": [
    {
     "data": {
      "text/plain": [
       "0.9192223084886129"
      ]
     },
     "execution_count": 53,
     "metadata": {},
     "output_type": "execute_result"
    }
   ],
   "source": [
    "float(28415) / 30912"
   ]
  },
  {
   "cell_type": "markdown",
   "metadata": {},
   "source": [
    "over 90% do not have local time successfully assigned... I may reached the limitation again somehow..."
   ]
  },
  {
   "cell_type": "code",
   "execution_count": 61,
   "metadata": {
    "collapsed": false
   },
   "outputs": [
    {
     "data": {
      "text/plain": [
       "25711"
      ]
     },
     "execution_count": 61,
     "metadata": {},
     "output_type": "execute_result"
    }
   ],
   "source": [
    "data.index[~data['local'].apply(lambda x: isinstance(x, float))][2496]"
   ]
  },
  {
   "cell_type": "code",
   "execution_count": 63,
   "metadata": {
    "collapsed": false
   },
   "outputs": [
    {
     "data": {
      "text/plain": [
       "nan"
      ]
     },
     "execution_count": 63,
     "metadata": {},
     "output_type": "execute_result"
    }
   ],
   "source": [
    "utc_to_local(data.loc[30000,'created_at'], data.loc[30000,'cty'])"
   ]
  },
  {
   "cell_type": "markdown",
   "metadata": {},
   "source": [
    "Hmm maybe not..."
   ]
  },
  {
   "cell_type": "code",
   "execution_count": 64,
   "metadata": {
    "collapsed": false
   },
   "outputs": [
    {
     "data": {
      "text/plain": [
       "0    1649\n",
       "1     848\n",
       "dtype: int64"
      ]
     },
     "execution_count": 64,
     "metadata": {},
     "output_type": "execute_result"
    }
   ],
   "source": [
    "data['click'][~data['local'].apply(lambda x: isinstance(x, float))].value_counts()"
   ]
  },
  {
   "cell_type": "code",
   "execution_count": 66,
   "metadata": {
    "collapsed": true
   },
   "outputs": [],
   "source": [
    "def cty_parser(city):\n",
    "    if type(city) == float:\n",
    "        return city\n",
    "    else:\n",
    "        return city.encode('ascii', 'ignore').decode('ascii')"
   ]
  },
  {
   "cell_type": "code",
   "execution_count": 67,
   "metadata": {
    "collapsed": false
   },
   "outputs": [],
   "source": [
    "data2 = pd.concat([data[['click']],pd.get_dummies(data['br_short'], dummy_na=True, prefix='br'),\n",
    "                   pd.get_dummies(data['co'], dummy_na=True, prefix='co'),\n",
    "                   pd.get_dummies(data['cty'].apply(cty_parser), dummy_na=True, prefix='cty'),\n",
    "                   pd.get_dummies(data['rgn'], dummy_na=True, prefix='rgn'),\n",
    "                   pd.get_dummies(data['plfm'], dummy_na=True, prefix='plfm'),\n",
    "                   pd.get_dummies(data['pv'], dummy_na=True, prefix='pv'),\n",
    "                   pd.get_dummies(data['dt'], dummy_na=True, prefix='dt'),\n",
    "                   pd.get_dummies(data['isp'], dummy_na=True, prefix='isp'),\n",
    "                   pd.get_dummies(data['ad_type'], dummy_na=True, prefix='ad_type'),\n",
    "                   data[['ai','cr','sdpt','ernc','dp']]],axis=1)"
   ]
  },
  {
   "cell_type": "code",
   "execution_count": 68,
   "metadata": {
    "collapsed": true
   },
   "outputs": [],
   "source": [
    "data_exp = data2.drop(['br_nan'], axis=1)"
   ]
  },
  {
   "cell_type": "code",
   "execution_count": 70,
   "metadata": {
    "collapsed": false
   },
   "outputs": [],
   "source": [
    "data_exp.loc[:,'br_nan'] = 0 * data_exp.shape[0]\n",
    "for i in data_exp.index:\n",
    "    data_exp.loc[i,'br_nan'] = data2.ix[:,12][i] + data2.ix[:,13][i]"
   ]
  },
  {
   "cell_type": "code",
   "execution_count": 71,
   "metadata": {
    "collapsed": true
   },
   "outputs": [],
   "source": [
    "data_exp.to_csv(\"../data/data_localtime_expanded_150624.tab\",sep='\\t',encoding='utf-8')"
   ]
  },
  {
   "cell_type": "markdown",
   "metadata": {},
   "source": [
    "#Plot time dependece"
   ]
  },
  {
   "cell_type": "code",
   "execution_count": 77,
   "metadata": {
    "collapsed": false
   },
   "outputs": [
    {
     "data": {
      "text/plain": [
       "<matplotlib.axes._subplots.AxesSubplot at 0x7f2543a700d0>"
      ]
     },
     "execution_count": 77,
     "metadata": {},
     "output_type": "execute_result"
    },
    {
     "data": {
      "image/png": "[encoded data removed]",
      "text/plain": [
       "<matplotlib.figure.Figure at 0x7f2542ed5ed0>"
      ]
     },
     "metadata": {},
     "output_type": "display_data"
    }
   ],
   "source": [
    "data[~data['local'].apply(lambda x: isinstance(x, float))].groupby('hour').apply(lambda x:float(x.click.sum())/x.shape[0]).sort_index().plot(xlim=(-.5,23.5), title='CTR (relative)')"
   ]
  },
  {
   "cell_type": "code",
   "execution_count": 72,
   "metadata": {
    "collapsed": false
   },
   "outputs": [
    {
     "data": {
      "text/plain": [
       "(2497, 24)"
      ]
     },
     "execution_count": 72,
     "metadata": {},
     "output_type": "execute_result"
    }
   ],
   "source": [
    "data[~data['local'].apply(lambda x: isinstance(x, float))].shape"
   ]
  },
  {
   "cell_type": "code",
   "execution_count": 78,
   "metadata": {
    "collapsed": false
   },
   "outputs": [
    {
     "data": {
      "text/plain": [
       "<matplotlib.axes._subplots.AxesSubplot at 0x7f2543a40390>"
      ]
     },
     "execution_count": 78,
     "metadata": {},
     "output_type": "execute_result"
    },
    {
     "data": {
      "image/png": "[encoded data removed]",
      "text/plain": [
       "<matplotlib.figure.Figure at 0x7f2543a4a1d0>"
      ]
     },
     "metadata": {},
     "output_type": "display_data"
    }
   ],
   "source": [
    "data[~data['local'].apply(lambda x: isinstance(x, float))]['hour'].value_counts().sort_index().plot(color=\"b\",xlim=(-.5,23.5), title='total number of events (relative)')"
   ]
  },
  {
   "cell_type": "code",
   "execution_count": null,
   "metadata": {
    "collapsed": true
   },
   "outputs": [],
   "source": []
  }
 ],
 "metadata": {
  "kernelspec": {
   "display_name": "Python 2",
   "language": "python",
   "name": "python2"
  },
  "language_info": {
   "codemirror_mode": {
    "name": "ipython",
    "version": 2
   },
   "file_extension": ".py",
   "mimetype": "text/x-python",
   "name": "python",
   "nbconvert_exporter": "python",
   "pygments_lexer": "ipython2",
   "version": "2.7.6"
  }
 },
 "nbformat": 4,
 "nbformat_minor": 0
}
