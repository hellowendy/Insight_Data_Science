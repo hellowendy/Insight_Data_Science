{
 "cells": [
  {
   "cell_type": "code",
   "execution_count": 1,
   "metadata": {
    "collapsed": false
   },
   "outputs": [],
   "source": [
    "from elasticsearch import Elasticsearch\n",
    "import json\n",
    "import requests\n",
    "\n",
    "import eslogin\n",
    "\n",
    "import datetime\n",
    "import time\n",
    "\n",
    "import numpy as np\n",
    "from numpy.random import randn\n",
    "import pandas as pd\n",
    "from scipy import stats\n",
    "import matplotlib as mpl\n",
    "\n",
    "import matplotlib.pyplot as plt\n",
    "import seaborn as sns\n",
    "\n",
    "import math\n",
    "\n",
    "from sklearn.ensemble import RandomForestClassifier\n",
    "from sklearn.cluster import KMeans\n",
    "import sklearn as sklearn\n",
    "\n",
    "import plotly.plotly as py\n",
    "from plotly.graph_objs import *\n",
    "\n",
    "%matplotlib inline\n",
    "mpl.style.use('ggplot')\n",
    "\n",
    "pd.options.display.max_rows = 20\n",
    "pd.options.display.max_columns = 30"
   ]
  },
  {
   "cell_type": "code",
   "execution_count": 187,
   "metadata": {
    "collapsed": false
   },
   "outputs": [
    {
     "name": "stdout",
     "output_type": "stream",
     "text": [
      "1.4.3\n"
     ]
    }
   ],
   "source": [
    "print mpl.__version__"
   ]
  },
  {
   "cell_type": "markdown",
   "metadata": {},
   "source": [
    "#Import data"
   ]
  },
  {
   "cell_type": "code",
   "execution_count": 188,
   "metadata": {
    "collapsed": true
   },
   "outputs": [],
   "source": [
    "clicks_uniq = pd.read_csv(\"../data/clicks_uniq_150610.tab\",sep='\\t',index_col=0,encoding='utf-8')\n",
    "adShows_uniq = pd.read_csv(\"../data/adShows_uniq_150610.tab\",sep='\\t',index_col=0,encoding='utf-8')\n",
    "duplicate_id = set(adShows_uniq['id']) - set(clicks_uniq['id'])\n",
    "adShows_uniq_only = adShows_uniq.loc[adShows_uniq['id'].apply(lambda x: x in duplicate_id), :]"
   ]
  },
  {
   "cell_type": "code",
   "execution_count": 189,
   "metadata": {
    "collapsed": false
   },
   "outputs": [],
   "source": [
    "data = pd.concat([clicks_uniq[['ai','br','co','cty','rgn','plfm','pv','dt','sdpt','isp','ernc','dp','vw_drtn','vw_perc','cr','created_at','et']],adShows_uniq_only[['ai','br','co','cty','rgn','plfm','pv','dt','sdpt','isp','ernc','dp','vw_drtn','vw_perc','cr','created_at','et']]], axis=0)"
   ]
  },
  {
   "cell_type": "code",
   "execution_count": 190,
   "metadata": {
    "collapsed": true
   },
   "outputs": [],
   "source": [
    "def get_date(timestring):\n",
    "    mytime = timestring.split('.')[0]\n",
    "    return datetime.datetime.strptime(mytime, '%Y-%m-%dT%X')\n",
    "data['created_at'] = data['created_at'].apply(get_date)"
   ]
  },
  {
   "cell_type": "code",
   "execution_count": 191,
   "metadata": {
    "collapsed": true
   },
   "outputs": [],
   "source": [
    "data2 = data[data['created_at'].apply(lambda x:(x.month == 5 or x.month == 6))]"
   ]
  },
  {
   "cell_type": "code",
   "execution_count": 192,
   "metadata": {
    "collapsed": true
   },
   "outputs": [],
   "source": [
    "data2['br_short'] = data2['br'].apply(lambda x:x.split()[0])\n",
    "data2['click'] = data2['et'].apply(lambda x:x == 'AD_CLICK')"
   ]
  },
  {
   "cell_type": "code",
   "execution_count": 193,
   "metadata": {
    "collapsed": false
   },
   "outputs": [
    {
     "data": {
      "text/plain": [
       "(18729, 19)"
      ]
     },
     "execution_count": 193,
     "metadata": {},
     "output_type": "execute_result"
    }
   ],
   "source": [
    "data2.shape"
   ]
  },
  {
   "cell_type": "code",
   "execution_count": 194,
   "metadata": {
    "collapsed": true
   },
   "outputs": [],
   "source": [
    "ad_type = pd.read_csv(\"../data/zenit_creatives_parsed.tab\",sep='\\t',encoding='utf-8')"
   ]
  },
  {
   "cell_type": "code",
   "execution_count": 195,
   "metadata": {
    "collapsed": false
   },
   "outputs": [
    {
     "data": {
      "text/plain": [
       "u'cr'"
      ]
     },
     "execution_count": 195,
     "metadata": {},
     "output_type": "execute_result"
    }
   ],
   "source": [
    "ad_type.columns[0]"
   ]
  },
  {
   "cell_type": "code",
   "execution_count": 196,
   "metadata": {
    "collapsed": false
   },
   "outputs": [
    {
     "data": {
      "text/plain": [
       "u'tile_and_text'"
      ]
     },
     "execution_count": 196,
     "metadata": {},
     "output_type": "execute_result"
    }
   ],
   "source": [
    "ad_type['ad_type'][ad_type['cr'].apply(lambda x: x == 157)].values[0]"
   ]
  },
  {
   "cell_type": "code",
   "execution_count": 197,
   "metadata": {
    "collapsed": false
   },
   "outputs": [
    {
     "data": {
      "text/plain": [
       "<matplotlib.axes._subplots.AxesSubplot at 0x7fb9a8b1a3d0>"
      ]
     },
     "execution_count": 197,
     "metadata": {},
     "output_type": "execute_result"
    },
    {
     "data": {
      "image/png": "[encoded data removed]",
      "text/plain": [
       "<matplotlib.figure.Figure at 0x7fb9acf9f550>"
      ]
     },
     "metadata": {},
     "output_type": "display_data"
    }
   ],
   "source": [
    "data2['cr'].hist()"
   ]
  },
  {
   "cell_type": "code",
   "execution_count": 198,
   "metadata": {
    "collapsed": false
   },
   "outputs": [
    {
     "data": {
      "text/plain": [
       "ios        4928\n",
       "android    4699\n",
       "dtype: int64"
      ]
     },
     "execution_count": 198,
     "metadata": {},
     "output_type": "execute_result"
    }
   ],
   "source": [
    "data2['plfm'].value_counts()"
   ]
  },
  {
   "cell_type": "code",
   "execution_count": 199,
   "metadata": {
    "collapsed": false
   },
   "outputs": [
    {
     "data": {
      "text/plain": [
       "u'tile_and_text'"
      ]
     },
     "execution_count": 199,
     "metadata": {},
     "output_type": "execute_result"
    }
   ],
   "source": [
    "def get_ad_type(cr_id):\n",
    "    if cr_id > 0 and cr_id in ad_type['cr']:\n",
    "        return ad_type['ad_type'][ad_type['cr'].apply(lambda x: x == cr_id)].values[0]\n",
    "    else:\n",
    "        return np.NaN\n",
    "get_ad_type(157)"
   ]
  },
  {
   "cell_type": "code",
   "execution_count": 200,
   "metadata": {
    "collapsed": false
   },
   "outputs": [],
   "source": [
    "data2 = pd.merge(data2, ad_type, left_on ='cr', right_on ='cr', how='left')"
   ]
  },
  {
   "cell_type": "code",
   "execution_count": 201,
   "metadata": {
    "collapsed": false
   },
   "outputs": [],
   "source": [
    "data2['day'] = data2['created_at'].apply(lambda x:x.day)"
   ]
  },
  {
   "cell_type": "code",
   "execution_count": 202,
   "metadata": {
    "collapsed": true
   },
   "outputs": [],
   "source": [
    "data2['time'] = data2['created_at'].apply(lambda x:x.hour)"
   ]
  },
  {
   "cell_type": "code",
   "execution_count": 203,
   "metadata": {
    "collapsed": false
   },
   "outputs": [
    {
     "data": {
      "text/html": [
       "<div style=\"max-height:1000px;max-width:1500px;overflow:auto;\">\n",
       "<table border=\"1\" class=\"dataframe\">\n",
       "  <thead>\n",
       "    <tr style=\"text-align: right;\">\n",
       "      <th></th>\n",
       "      <th>ai</th>\n",
       "      <th>br</th>\n",
       "      <th>co</th>\n",
       "      <th>cty</th>\n",
       "      <th>rgn</th>\n",
       "      <th>plfm</th>\n",
       "      <th>pv</th>\n",
       "      <th>dt</th>\n",
       "      <th>sdpt</th>\n",
       "      <th>isp</th>\n",
       "      <th>ernc</th>\n",
       "      <th>dp</th>\n",
       "      <th>vw_drtn</th>\n",
       "      <th>vw_perc</th>\n",
       "      <th>cr</th>\n",
       "      <th>created_at</th>\n",
       "      <th>et</th>\n",
       "      <th>br_short</th>\n",
       "      <th>click</th>\n",
       "      <th>name</th>\n",
       "      <th>ad_type</th>\n",
       "      <th>day</th>\n",
       "      <th>time</th>\n",
       "    </tr>\n",
       "  </thead>\n",
       "  <tbody>\n",
       "    <tr>\n",
       "      <th>0</th>\n",
       "      <td> 51</td>\n",
       "      <td>          Other 0.0</td>\n",
       "      <td> GBR</td>\n",
       "      <td> Eastbourne</td>\n",
       "      <td> GBR-E2</td>\n",
       "      <td> NaN</td>\n",
       "      <td> unknown</td>\n",
       "      <td> other</td>\n",
       "      <td> 1</td>\n",
       "      <td>           BT</td>\n",
       "      <td> 210000</td>\n",
       "      <td> 300000</td>\n",
       "      <td> 0</td>\n",
       "      <td> 0</td>\n",
       "      <td> 157</td>\n",
       "      <td>2015-05-10 04:41:11</td>\n",
       "      <td> AD_CLICK</td>\n",
       "      <td>  Other</td>\n",
       "      <td> True</td>\n",
       "      <td> Anyoption #2</td>\n",
       "      <td> tile_and_text</td>\n",
       "      <td> 10</td>\n",
       "      <td> 4</td>\n",
       "    </tr>\n",
       "    <tr>\n",
       "      <th>1</th>\n",
       "      <td>NaN</td>\n",
       "      <td> Safari 10.3.1.2267</td>\n",
       "      <td> NGA</td>\n",
       "      <td>      Lagos</td>\n",
       "      <td> NGA-05</td>\n",
       "      <td> NaN</td>\n",
       "      <td> unknown</td>\n",
       "      <td> other</td>\n",
       "      <td> 0</td>\n",
       "      <td> Globacom Ltd</td>\n",
       "      <td> 210000</td>\n",
       "      <td> 300000</td>\n",
       "      <td> 0</td>\n",
       "      <td> 0</td>\n",
       "      <td> 157</td>\n",
       "      <td>2015-05-09 06:35:35</td>\n",
       "      <td> AD_CLICK</td>\n",
       "      <td> Safari</td>\n",
       "      <td> True</td>\n",
       "      <td> Anyoption #2</td>\n",
       "      <td> tile_and_text</td>\n",
       "      <td>  9</td>\n",
       "      <td> 6</td>\n",
       "    </tr>\n",
       "    <tr>\n",
       "      <th>2</th>\n",
       "      <td>NaN</td>\n",
       "      <td> Safari 10.3.1.2558</td>\n",
       "      <td> NGA</td>\n",
       "      <td>      Lagos</td>\n",
       "      <td> NGA-05</td>\n",
       "      <td> NaN</td>\n",
       "      <td> unknown</td>\n",
       "      <td> other</td>\n",
       "      <td> 0</td>\n",
       "      <td> Globacom Ltd</td>\n",
       "      <td> 210000</td>\n",
       "      <td> 300000</td>\n",
       "      <td> 0</td>\n",
       "      <td> 0</td>\n",
       "      <td> 157</td>\n",
       "      <td>2015-05-09 06:59:06</td>\n",
       "      <td> AD_CLICK</td>\n",
       "      <td> Safari</td>\n",
       "      <td> True</td>\n",
       "      <td> Anyoption #2</td>\n",
       "      <td> tile_and_text</td>\n",
       "      <td>  9</td>\n",
       "      <td> 6</td>\n",
       "    </tr>\n",
       "    <tr>\n",
       "      <th></th>\n",
       "      <td>...</td>\n",
       "      <td>...</td>\n",
       "      <td>...</td>\n",
       "      <td>...</td>\n",
       "      <td>...</td>\n",
       "      <td>...</td>\n",
       "      <td>...</td>\n",
       "      <td>...</td>\n",
       "      <td>...</td>\n",
       "      <td>...</td>\n",
       "      <td>...</td>\n",
       "      <td>...</td>\n",
       "      <td>...</td>\n",
       "      <td>...</td>\n",
       "      <td>...</td>\n",
       "      <td>...</td>\n",
       "      <td>...</td>\n",
       "      <td>...</td>\n",
       "      <td>...</td>\n",
       "      <td>...</td>\n",
       "      <td>...</td>\n",
       "      <td>...</td>\n",
       "      <td>...</td>\n",
       "    </tr>\n",
       "  </tbody>\n",
       "</table>\n",
       "<p>18729 rows × 23 columns</p>\n",
       "</div>"
      ],
      "text/plain": [
       "   ai                  br   co         cty     rgn plfm       pv     dt  sdpt  \\\n",
       "0  51           Other 0.0  GBR  Eastbourne  GBR-E2  NaN  unknown  other     1   \n",
       "1 NaN  Safari 10.3.1.2267  NGA       Lagos  NGA-05  NaN  unknown  other     0   \n",
       "2 NaN  Safari 10.3.1.2558  NGA       Lagos  NGA-05  NaN  unknown  other     0   \n",
       "  ...                 ...  ...         ...     ...  ...      ...    ...   ...   \n",
       "\n",
       "            isp    ernc      dp  vw_drtn  vw_perc   cr          created_at  \\\n",
       "0            BT  210000  300000        0        0  157 2015-05-10 04:41:11   \n",
       "1  Globacom Ltd  210000  300000        0        0  157 2015-05-09 06:35:35   \n",
       "2  Globacom Ltd  210000  300000        0        0  157 2015-05-09 06:59:06   \n",
       "            ...     ...     ...      ...      ...  ...                 ...   \n",
       "\n",
       "         et br_short click          name        ad_type  day  time  \n",
       "0  AD_CLICK    Other  True  Anyoption #2  tile_and_text   10     4  \n",
       "1  AD_CLICK   Safari  True  Anyoption #2  tile_and_text    9     6  \n",
       "2  AD_CLICK   Safari  True  Anyoption #2  tile_and_text    9     6  \n",
       "        ...      ...   ...           ...            ...  ...   ...  \n",
       "\n",
       "[18729 rows x 23 columns]"
      ]
     },
     "execution_count": 203,
     "metadata": {},
     "output_type": "execute_result"
    }
   ],
   "source": [
    "pd.options.display.max_rows = 3\n",
    "pd.options.display.max_columns = 30\n",
    "data2"
   ]
  },
  {
   "cell_type": "markdown",
   "metadata": {},
   "source": [
    "#Specify two apps"
   ]
  },
  {
   "cell_type": "code",
   "execution_count": 204,
   "metadata": {
    "collapsed": true
   },
   "outputs": [],
   "source": [
    "features = ['click','ai','cr','br_short','co','cty','rgn','plfm','pv','dt','sdpt','isp','ernc','dp','ad_type','day','time']"
   ]
  },
  {
   "cell_type": "code",
   "execution_count": 205,
   "metadata": {
    "collapsed": false
   },
   "outputs": [],
   "source": [
    "data2_Diretta_Calcio = data2.loc[data2['ai'].apply(lambda x:(x == 67 or x == 68)),features]"
   ]
  },
  {
   "cell_type": "code",
   "execution_count": 206,
   "metadata": {
    "collapsed": false
   },
   "outputs": [
    {
     "data": {
      "text/plain": [
       "(1163, 17)"
      ]
     },
     "execution_count": 206,
     "metadata": {},
     "output_type": "execute_result"
    }
   ],
   "source": [
    "data2_Diretta_Calcio.shape"
   ]
  },
  {
   "cell_type": "code",
   "execution_count": 207,
   "metadata": {
    "collapsed": false
   },
   "outputs": [
    {
     "data": {
      "text/plain": [
       "0.6878761822871883"
      ]
     },
     "execution_count": 207,
     "metadata": {},
     "output_type": "execute_result"
    }
   ],
   "source": [
    "800.0/1163"
   ]
  },
  {
   "cell_type": "code",
   "execution_count": 208,
   "metadata": {
    "collapsed": false
   },
   "outputs": [
    {
     "data": {
      "text/plain": [
       "True     669\n",
       "False    494\n",
       "dtype: int64"
      ]
     },
     "execution_count": 208,
     "metadata": {},
     "output_type": "execute_result"
    }
   ],
   "source": [
    "data2_Diretta_Calcio['click'].value_counts()"
   ]
  },
  {
   "cell_type": "code",
   "execution_count": 209,
   "metadata": {
    "collapsed": true
   },
   "outputs": [],
   "source": [
    "data2_Team_Manchester = data2.loc[data2['ai'].apply(lambda x:(x == 53 or x == 54)),features]"
   ]
  },
  {
   "cell_type": "code",
   "execution_count": 210,
   "metadata": {
    "collapsed": false
   },
   "outputs": [
    {
     "data": {
      "text/plain": [
       "(2584, 17)"
      ]
     },
     "execution_count": 210,
     "metadata": {},
     "output_type": "execute_result"
    }
   ],
   "source": [
    "data2_Team_Manchester.shape"
   ]
  },
  {
   "cell_type": "code",
   "execution_count": 211,
   "metadata": {
    "collapsed": false
   },
   "outputs": [
    {
     "data": {
      "text/plain": [
       "False    2156\n",
       "True      428\n",
       "dtype: int64"
      ]
     },
     "execution_count": 211,
     "metadata": {},
     "output_type": "execute_result"
    }
   ],
   "source": [
    "data2_Team_Manchester['click'].value_counts()"
   ]
  },
  {
   "cell_type": "code",
   "execution_count": 212,
   "metadata": {
    "collapsed": true
   },
   "outputs": [],
   "source": [
    "data2_Dagospia = data2.loc[data2['ai'].apply(lambda x:(x == 71 or x == 72 or x == 88)),features]"
   ]
  },
  {
   "cell_type": "markdown",
   "metadata": {},
   "source": [
    "#Machine learning for Diretta Calcio"
   ]
  },
  {
   "cell_type": "code",
   "execution_count": 213,
   "metadata": {
    "collapsed": false
   },
   "outputs": [],
   "source": [
    "data2_Diretta_Calcio.index = range(data2_Diretta_Calcio.shape[0])"
   ]
  },
  {
   "cell_type": "code",
   "execution_count": 214,
   "metadata": {
    "collapsed": false
   },
   "outputs": [
    {
     "data": {
      "text/plain": [
       "0                      Maidenhead\n",
       "1                         Watford\n",
       "2                        Massafra\n",
       "3                             NaN\n",
       "4                           Turin\n",
       "5                         Palermo\n",
       "6                             Rho\n",
       "7                           Milan\n",
       "8                             NaN\n",
       "9                          Verona\n",
       "10                            NaN\n",
       "11                         Naples\n",
       "12                            NaN\n",
       "13          Giugliano In Campania\n",
       "14                            NaN\n",
       "15                          Padua\n",
       "16                            NaN\n",
       "17                         Verona\n",
       "18                        Brescia\n",
       "19                            NaN\n",
       "20                            NaN\n",
       "21                            NaN\n",
       "22                           Bari\n",
       "23                            NaN\n",
       "24                            NaN\n",
       "25                        Carrara\n",
       "26                         Naples\n",
       "27                            NaN\n",
       "28                            NaN\n",
       "29                        Palermo\n",
       "30                            NaN\n",
       "31                            NaN\n",
       "32                      Girifalco\n",
       "33                         Lamzia\n",
       "34                            NaN\n",
       "35                         Pedaso\n",
       "36                        Carrara\n",
       "37                            NaN\n",
       "38                            NaN\n",
       "39                          Milan\n",
       "40                           Rome\n",
       "41                            NaN\n",
       "42                            NaN\n",
       "43                        Bergamo\n",
       "44                            NaN\n",
       "45                            NaN\n",
       "46                          Milan\n",
       "47                      Catanzaro\n",
       "48                            NaN\n",
       "49                            NaN\n",
       "50                         Pedaso\n",
       "51                            NaN\n",
       "52                        Bergamo\n",
       "53                            NaN\n",
       "54                            NaN\n",
       "55                    Verolanuova\n",
       "56                         Naples\n",
       "57                            NaN\n",
       "58                            NaN\n",
       "59                       Molfetta\n",
       "60                        Albenga\n",
       "61                            NaN\n",
       "62                            Apo\n",
       "63                            NaN\n",
       "64                         Foggia\n",
       "65                         Genova\n",
       "66                            NaN\n",
       "67                            NaN\n",
       "68                            NaN\n",
       "69                            NaN\n",
       "70                           Rome\n",
       "71             Villa San Giovanni\n",
       "72                            NaN\n",
       "73                      La Spezia\n",
       "74                            NaN\n",
       "75                          Padua\n",
       "76                            NaN\n",
       "77                            NaN\n",
       "78                            NaN\n",
       "79                            NaN\n",
       "80                            NaN\n",
       "81                            NaN\n",
       "82                            NaN\n",
       "83                     Casavatore\n",
       "84                            NaN\n",
       "85                          Milan\n",
       "86                     Barlassina\n",
       "87                        Casoria\n",
       "88                          Milan\n",
       "89                           Bari\n",
       "90                Fort Lauderdale\n",
       "91                    Scarborough\n",
       "92                            NaN\n",
       "93                            NaN\n",
       "94                            NaN\n",
       "95                         Genova\n",
       "96                            NaN\n",
       "97           Mercato San Severino\n",
       "98                            NaN\n",
       "99                          Milan\n",
       "100                         Milan\n",
       "101                 Reggio Emilia\n",
       "102                           NaN\n",
       "103                          Bari\n",
       "104                           NaN\n",
       "105                       Bologna\n",
       "106                         Monza\n",
       "107                           NaN\n",
       "108          San Pietro Vernotico\n",
       "109                           NaN\n",
       "110                           NaN\n",
       "111                           NaN\n",
       "112                       Taranto\n",
       "113                          Bari\n",
       "114                         Milan\n",
       "115                        Naples\n",
       "116                           NaN\n",
       "117                          Rome\n",
       "118                           NaN\n",
       "119                           NaN\n",
       "120                           NaN\n",
       "121                    Caravonica\n",
       "122                           NaN\n",
       "123                        Verona\n",
       "124                        Prizzi\n",
       "125                         Milan\n",
       "126                        Naples\n",
       "127                           NaN\n",
       "128                          Rome\n",
       "129                           NaN\n",
       "130                 Campogalliano\n",
       "131                           NaN\n",
       "132                           NaN\n",
       "133                           NaN\n",
       "134                        Naples\n",
       "135                           NaN\n",
       "136                          Rome\n",
       "137                         Milan\n",
       "138                           NaN\n",
       "139                        Spinea\n",
       "140                      Brindisi\n",
       "141                    Trofarello\n",
       "142                  Cusano Mutri\n",
       "143                        Aversa\n",
       "144                       Catania\n",
       "145                 Verolavecchia\n",
       "146                       Catania\n",
       "147                           NaN\n",
       "148                       Marrbiu\n",
       "149                       Cardito\n",
       "150                        Naples\n",
       "151                        Pagani\n",
       "152                           NaN\n",
       "153                           NaN\n",
       "154                           NaN\n",
       "155                           NaN\n",
       "156                           NaN\n",
       "157                           NaN\n",
       "158                        Novara\n",
       "159                           NaN\n",
       "160                    San Severo\n",
       "161              Salice Salentino\n",
       "162                           NaN\n",
       "163                     La Spezia\n",
       "164                       Isernia\n",
       "165                    Cittadella\n",
       "166                          Bari\n",
       "167                           NaN\n",
       "168                         Turin\n",
       "169                           NaN\n",
       "170                          Bari\n",
       "171                           NaN\n",
       "172                       Brescia\n",
       "173                        Genova\n",
       "174                           NaN\n",
       "175                        Naples\n",
       "176                           NaN\n",
       "177                          Rome\n",
       "178                 Ascoli Piceno\n",
       "179                          Rome\n",
       "180                       Caserta\n",
       "181                    Tavagnacco\n",
       "182                           NaN\n",
       "183                       Caserta\n",
       "184                         Turin\n",
       "185                           NaN\n",
       "186                           NaN\n",
       "187                           NaN\n",
       "188                         Monza\n",
       "189                           NaN\n",
       "190                           NaN\n",
       "191       Castellammare Del Golfo\n",
       "192                           NaN\n",
       "193                       Taranto\n",
       "194                         Terni\n",
       "195                           NaN\n",
       "196                        Naples\n",
       "197                           NaN\n",
       "198                           NaN\n",
       "199                       Catania\n",
       "200                        Cesena\n",
       "201              Figline Valdarno\n",
       "202                           NaN\n",
       "203              Mazara Del Vallo\n",
       "204                       Catania\n",
       "205                        Genova\n",
       "206                           NaN\n",
       "207                           NaN\n",
       "208                           NaN\n",
       "209                           NaN\n",
       "210                       Ferrara\n",
       "211                         Milan\n",
       "212                           NaN\n",
       "213                        Naples\n",
       "214                           NaN\n",
       "215                           NaN\n",
       "216                       Salerno\n",
       "217                           NaN\n",
       "218                         Milan\n",
       "219                         Milan\n",
       "220                           NaN\n",
       "221                        Naples\n",
       "222                          Mori\n",
       "223                           NaN\n",
       "224                           NaN\n",
       "225                        Forino\n",
       "226                          Rome\n",
       "227                        Naples\n",
       "228                         Milan\n",
       "229                           NaN\n",
       "230          Santo Stefano Ticino\n",
       "231                         Milan\n",
       "232                       Catania\n",
       "233                           NaN\n",
       "234                           NaN\n",
       "235                          Rome\n",
       "236                          Bari\n",
       "237                          Rome\n",
       "238                        Naples\n",
       "239                           NaN\n",
       "240                           NaN\n",
       "241                           NaN\n",
       "242                           NaN\n",
       "243                           NaN\n",
       "244                          Jesi\n",
       "245                 Campogalliano\n",
       "246                           NaN\n",
       "247                        Naples\n",
       "248                         Milan\n",
       "249                       Seriate\n",
       "250                          Rome\n",
       "251                           NaN\n",
       "252                           NaN\n",
       "253                           NaN\n",
       "254                         Milan\n",
       "255                           NaN\n",
       "256                           NaN\n",
       "257                         Milan\n",
       "258                     Brugherio\n",
       "259     San Giovanni In Persiceto\n",
       "260                           NaN\n",
       "261                       Bergamo\n",
       "262                       Salerno\n",
       "263                        Mestre\n",
       "264                         Milan\n",
       "265                           NaN\n",
       "266                           NaN\n",
       "267                         Paola\n",
       "268                          Rome\n",
       "269                           NaN\n",
       "270                           NaN\n",
       "271                           NaN\n",
       "272                       Palermo\n",
       "273                        Barolo\n",
       "274                      Grosseto\n",
       "275                           NaN\n",
       "276                       Taranto\n",
       "277                         Turin\n",
       "278                           NaN\n",
       "279                           NaN\n",
       "280                           NaN\n",
       "281                         Trani\n",
       "282                        Naples\n",
       "283                           NaN\n",
       "284                           NaN\n",
       "285                           NaN\n",
       "286                 Reggio Emilia\n",
       "287                          Rome\n",
       "288                         Milan\n",
       "289                         Milan\n",
       "290                           NaN\n",
       "291                       Spoleto\n",
       "292                           NaN\n",
       "293                           NaN\n",
       "294                           NaN\n",
       "295                           NaN\n",
       "296                           NaN\n",
       "297         Almenno San Salvatore\n",
       "298                         Milan\n",
       "299             Borgo San Lorenzo\n",
       "300                           NaN\n",
       "301                          Rome\n",
       "302                           NaN\n",
       "303                        Naples\n",
       "304                        Naples\n",
       "305                           NaN\n",
       "306                           NaN\n",
       "307                        Biella\n",
       "308                           NaN\n",
       "309             Civitanova Marche\n",
       "310              Nocera Inferiore\n",
       "311                           NaN\n",
       "312                           NaN\n",
       "313                           NaN\n",
       "314                       Catania\n",
       "315                        Modena\n",
       "316                           NaN\n",
       "317                           NaN\n",
       "318                         Turin\n",
       "319                           NaN\n",
       "320                       Palermo\n",
       "321              Cava De' Tirreni\n",
       "322               Reggio Calabria\n",
       "323                       Catania\n",
       "324                         Milan\n",
       "325                       Palermo\n",
       "326                       Perugia\n",
       "327                      Florence\n",
       "328                        Amelia\n",
       "329                           NaN\n",
       "330                           NaN\n",
       "331               Reggio Calabria\n",
       "332                           NaN\n",
       "333           Garbagnate Milanese\n",
       "334                           NaN\n",
       "335                         Milan\n",
       "336                         Monza\n",
       "337                           NaN\n",
       "338                         Padua\n",
       "339                       Isernia\n",
       "340                           NaN\n",
       "341                       Vicenza\n",
       "342                           NaN\n",
       "343                           NaN\n",
       "344                       Augusta\n",
       "345                         Milan\n",
       "346                          Rome\n",
       "347                           NaN\n",
       "348                           NaN\n",
       "349                           NaN\n",
       "350                         Milan\n",
       "351                           NaN\n",
       "352                          Rome\n",
       "353                           NaN\n",
       "354                         Paola\n",
       "355                          Bari\n",
       "356                           NaN\n",
       "357                          Rome\n",
       "358                           NaN\n",
       "359                           NaN\n",
       "360                          Rome\n",
       "361                           NaN\n",
       "362                        Turate\n",
       "363                       Brescia\n",
       "364                 Casteltermini\n",
       "365                          Rome\n",
       "366                          Rome\n",
       "367                           NaN\n",
       "368                          Rome\n",
       "369                          Rome\n",
       "370                           NaN\n",
       "371               Somma Vesuviana\n",
       "372                           NaN\n",
       "373            San Pietro A Maida\n",
       "374                       Pescara\n",
       "375                      Leporano\n",
       "376                           NaN\n",
       "377                           NaN\n",
       "378                           NaN\n",
       "379                       Catania\n",
       "380                           NaN\n",
       "381                           NaN\n",
       "382                          Rome\n",
       "383                        Prizzi\n",
       "384                          Rome\n",
       "385                           NaN\n",
       "386                          Rome\n",
       "387                           NaN\n",
       "388                 Reggio Emilia\n",
       "389                           NaN\n",
       "390                          Rome\n",
       "391                         Crema\n",
       "392                         Milan\n",
       "393               Mariano Comense\n",
       "394                         Milan\n",
       "395                     Tolentino\n",
       "396                           NaN\n",
       "397                         Milan\n",
       "398                      Manciano\n",
       "399                     Nichelino\n",
       "400                           NaN\n",
       "401                           NaN\n",
       "402                         Milan\n",
       "403                         Milan\n",
       "404                           NaN\n",
       "405                         Milan\n",
       "406                       Brescia\n",
       "407                         Milan\n",
       "408                           NaN\n",
       "409                        Jeddah\n",
       "410                           NaN\n",
       "411                         Turin\n",
       "412                          Rome\n",
       "413                           NaN\n",
       "414                        Naples\n",
       "415                        Naples\n",
       "416                          Bari\n",
       "417                       Catania\n",
       "418                           NaN\n",
       "419                           NaN\n",
       "420                           NaN\n",
       "421                          Rome\n",
       "422                          Rome\n",
       "423                           NaN\n",
       "424                           NaN\n",
       "425                 Campogalliano\n",
       "426                 Campogalliano\n",
       "427                       Taranto\n",
       "428                           NaN\n",
       "429                          Rome\n",
       "430                 Reggio Emilia\n",
       "431                          Rome\n",
       "432                         Lucca\n",
       "433                        Naples\n",
       "434                         Milan\n",
       "435                        Mestre\n",
       "436                          Rome\n",
       "437                           NaN\n",
       "438                           NaN\n",
       "439                           NaN\n",
       "440                         Milan\n",
       "441                       Catania\n",
       "442                      Cagliari\n",
       "443                           NaN\n",
       "444                           NaN\n",
       "445                       Catania\n",
       "446                           NaN\n",
       "447                           NaN\n",
       "448                           NaN\n",
       "449                           NaN\n",
       "450               Reggio Calabria\n",
       "451                       Lissone\n",
       "452                           NaN\n",
       "453                         Paola\n",
       "454                           NaN\n",
       "455                         Paola\n",
       "456               Somma Vesuviana\n",
       "457                           NaN\n",
       "458         San Giuliano Milanese\n",
       "459                           NaN\n",
       "460                           NaN\n",
       "461          Montecorvino Rovella\n",
       "462                           NaN\n",
       "463                           NaN\n",
       "464                 Castelfidardo\n",
       "465                           NaN\n",
       "466              Marano Vicentino\n",
       "467                       Bologna\n",
       "468                       Palermo\n",
       "469                       Adelfia\n",
       "470                           NaN\n",
       "471                           NaN\n",
       "472                       Milazzo\n",
       "473                         Monza\n",
       "474                         Turin\n",
       "475                           NaN\n",
       "476                         Trani\n",
       "477                           NaN\n",
       "478                        Modena\n",
       "479                           NaN\n",
       "480                           NaN\n",
       "481                           NaN\n",
       "482                           NaN\n",
       "483                           NaN\n",
       "484                        Genova\n",
       "485                           NaN\n",
       "486                       Vicenza\n",
       "487                           NaN\n",
       "488                           NaN\n",
       "489                         Turin\n",
       "490                           NaN\n",
       "491                     Polverigi\n",
       "492                           NaN\n",
       "493                           NaN\n",
       "494                         Milan\n",
       "495                           NaN\n",
       "496                           NaN\n",
       "497                           NaN\n",
       "498                       Palermo\n",
       "499                   Montichiari\n",
       "500                      Florence\n",
       "501                       Bergamo\n",
       "502                           NaN\n",
       "503                           NaN\n",
       "504                        Naples\n",
       "505                           NaN\n",
       "506                          Rome\n",
       "507                  Castel Mella\n",
       "508                         Milan\n",
       "509                      Calimera\n",
       "510                          Como\n",
       "511                           NaN\n",
       "512                           NaN\n",
       "513                         Milan\n",
       "514                        Naples\n",
       "515                           NaN\n",
       "516                       Taranto\n",
       "517                           NaN\n",
       "518                        Inzago\n",
       "519                         Viggi\n",
       "520                    Bussolengo\n",
       "521                           NaN\n",
       "522                           NaN\n",
       "523      San Benedetto Del Tronto\n",
       "524                   Mezzocorona\n",
       "525                          Rome\n",
       "526                    Boscoreale\n",
       "527                         Milan\n",
       "528                          Bari\n",
       "529                           NaN\n",
       "530                         Milan\n",
       "531                           NaN\n",
       "532                           NaN\n",
       "533                        Verona\n",
       "534                         Osimo\n",
       "535                        Biella\n",
       "536                           NaN\n",
       "537                      Bagheria\n",
       "538                           NaN\n",
       "539                        Seveso\n",
       "540                        Arluno\n",
       "541                           NaN\n",
       "542                        Naples\n",
       "543                           NaN\n",
       "544                           NaN\n",
       "545                         Lagos\n",
       "546                    Maidenhead\n",
       "547                 Saint Andrews\n",
       "548                        London\n",
       "549                           NaN\n",
       "550                           NaN\n",
       "551                          Rome\n",
       "552                          Bari\n",
       "553                          Rome\n",
       "554                           NaN\n",
       "555                        Naples\n",
       "556                        Naples\n",
       "557          Casalnuovo Di Napoli\n",
       "558                           NaN\n",
       "559                           NaN\n",
       "560                           NaN\n",
       "561                      Bibbiano\n",
       "562                           NaN\n",
       "563                           NaN\n",
       "564                          Bari\n",
       "565                           NaN\n",
       "566                           NaN\n",
       "567                           NaN\n",
       "568                        Naples\n",
       "569                         Milan\n",
       "570                       Catania\n",
       "571                           NaN\n",
       "572                           NaN\n",
       "573                        Naples\n",
       "574                           NaN\n",
       "575                           NaN\n",
       "576                       Bergamo\n",
       "577                       Catania\n",
       "578                           NaN\n",
       "579                Campi Bisenzio\n",
       "580               Alzano Lombardo\n",
       "581                       Palermo\n",
       "582                           NaN\n",
       "583                       Sarzana\n",
       "584                           NaN\n",
       "585                        Genova\n",
       "586                         Imola\n",
       "587                           NaN\n",
       "588                           NaN\n",
       "589                          Rome\n",
       "590                           NaN\n",
       "591                       Bergamo\n",
       "592                           NaN\n",
       "593                        Genova\n",
       "594                           NaN\n",
       "595                       Ferrara\n",
       "596                         Massa\n",
       "597                          Rome\n",
       "598                        Genova\n",
       "599                           NaN\n",
       "600            Castel San Giorgio\n",
       "601                        Verona\n",
       "602                           NaN\n",
       "603                           NaN\n",
       "604                         Milan\n",
       "605                           NaN\n",
       "606                           NaN\n",
       "607                       Vicenza\n",
       "608                        Modena\n",
       "609                           NaN\n",
       "610                           NaN\n",
       "611                         Milan\n",
       "612                           NaN\n",
       "613                           NaN\n",
       "614                         Milan\n",
       "615                      Bibbiano\n",
       "616                        Naples\n",
       "617                           NaN\n",
       "618                Botticino Sera\n",
       "619                         Milan\n",
       "620                          Rome\n",
       "621                          Rome\n",
       "622                           NaN\n",
       "623                           NaN\n",
       "624                           NaN\n",
       "625                          Rome\n",
       "626                        Verona\n",
       "627                           NaN\n",
       "628                         Turin\n",
       "629                       Leghorn\n",
       "630                       Catania\n",
       "631                           NaN\n",
       "632                           NaN\n",
       "633                        Naples\n",
       "634                           NaN\n",
       "635              Cava Dei Tirreni\n",
       "636                           NaN\n",
       "637                           NaN\n",
       "638                           NaN\n",
       "639                           NaN\n",
       "640                         Milan\n",
       "641                         Milan\n",
       "642                          Rome\n",
       "643                           NaN\n",
       "644                         Turin\n",
       "645                           NaN\n",
       "646                           NaN\n",
       "647                           NaN\n",
       "648                       Brescia\n",
       "649                          Rome\n",
       "650                         Padua\n",
       "651               Mariano Comense\n",
       "652                           NaN\n",
       "653                         Milan\n",
       "654                       Bologna\n",
       "655                           NaN\n",
       "656                       Isernia\n",
       "657                           NaN\n",
       "658                           NaN\n",
       "659                         Milan\n",
       "660                       Palermo\n",
       "661                       Hamburg\n",
       "662                      Brooklyn\n",
       "663                           Kln\n",
       "664                          Bari\n",
       "665                           NaN\n",
       "666                           NaN\n",
       "667                       Bergamo\n",
       "668                       Bergamo\n",
       "669                    San Lucido\n",
       "670                        Genova\n",
       "671                           NaN\n",
       "672                     Mistretta\n",
       "673                          Rome\n",
       "674                        Naples\n",
       "675                       Messina\n",
       "676                          Rome\n",
       "677                        Genova\n",
       "678                           NaN\n",
       "679                     Viareggio\n",
       "680                       Palermo\n",
       "681                           NaN\n",
       "682                           NaN\n",
       "683                    San Donaci\n",
       "684                          Rome\n",
       "685                        Naples\n",
       "686                       Taranto\n",
       "687                           NaN\n",
       "688                     Antwerpen\n",
       "689                   Castenedolo\n",
       "690                        Borgia\n",
       "691                     Bastiglia\n",
       "692                 Reggio Emilia\n",
       "693                       Bologna\n",
       "694                           NaN\n",
       "695            Pignataro Maggiore\n",
       "696     Santo Stefano Di Rogliano\n",
       "697                     Antwerpen\n",
       "698                       Sulmona\n",
       "699                       Perugia\n",
       "700                           NaN\n",
       "701                       Lissone\n",
       "702                        Naples\n",
       "703                        Budrio\n",
       "704                           NaN\n",
       "705                        Cesena\n",
       "706                       Fiesole\n",
       "707                           NaN\n",
       "708                  Lacchiarella\n",
       "709                           NaN\n",
       "710                Sant'anastasia\n",
       "711                       Saviano\n",
       "712                         Turin\n",
       "713                          Rome\n",
       "714                        Novara\n",
       "715                           NaN\n",
       "716                         Milan\n",
       "717                           NaN\n",
       "718                         Milan\n",
       "719                           NaN\n",
       "720                           NaN\n",
       "721                           NaN\n",
       "722                           NaN\n",
       "723                       Rozzano\n",
       "724                        Teramo\n",
       "725                           NaN\n",
       "726                           NaN\n",
       "727                           NaN\n",
       "728                      Florence\n",
       "729                           NaN\n",
       "730                        Naples\n",
       "731           Sant'agata De' Goti\n",
       "732                           NaN\n",
       "733                        Naples\n",
       "734                           NaN\n",
       "735                        Naples\n",
       "736                           NaN\n",
       "737                          Rome\n",
       "738                          Rome\n",
       "739                           Rho\n",
       "740                           NaN\n",
       "741                       Palermo\n",
       "742                           NaN\n",
       "743                           NaN\n",
       "744                         Milan\n",
       "745                          Rome\n",
       "746                  Castel Mella\n",
       "747                           NaN\n",
       "748                           NaN\n",
       "749                           NaN\n",
       "750                      Florence\n",
       "751                          Rome\n",
       "752                     Arzignano\n",
       "753                        Genova\n",
       "754                           NaN\n",
       "755                           NaN\n",
       "756                         Milan\n",
       "757                          Rome\n",
       "758                           NaN\n",
       "759                       Catania\n",
       "760                         Milan\n",
       "761                       Palermo\n",
       "762                       Modugno\n",
       "763                       Alghero\n",
       "764                     Catanzaro\n",
       "765                           NaN\n",
       "766                         Milan\n",
       "767                           NaN\n",
       "768                           NaN\n",
       "769                           NaN\n",
       "770                           NaN\n",
       "771                        Acerra\n",
       "772                          Rome\n",
       "773                      Cavriana\n",
       "774                         Turin\n",
       "775     Santo Stefano Di Rogliano\n",
       "776                           NaN\n",
       "777                           NaN\n",
       "778                       Casoria\n",
       "779                           NaN\n",
       "780                           NaN\n",
       "781                           NaN\n",
       "782                          Rome\n",
       "783                          Rome\n",
       "784                          Rome\n",
       "785                           NaN\n",
       "786                       Fiesole\n",
       "787                     Poggiardo\n",
       "788                       Segrate\n",
       "789                           NaN\n",
       "790                           NaN\n",
       "791                           NaN\n",
       "792                 Pizzighettone\n",
       "793                           NaN\n",
       "794                           NaN\n",
       "795                           NaN\n",
       "796                       Catania\n",
       "797                           NaN\n",
       "798              Ponte San Pietro\n",
       "799          Roseto Degli Abruzzi\n",
       "800                     Antwerpen\n",
       "801                           NaN\n",
       "802                       Fiesole\n",
       "803                          Rome\n",
       "804                         Lucca\n",
       "805                           NaN\n",
       "806                        Naples\n",
       "807         San Michele Salentino\n",
       "808                           NaN\n",
       "809                       Palermo\n",
       "810                           NaN\n",
       "811                           NaN\n",
       "812                           NaN\n",
       "813                           NaN\n",
       "814                       Catania\n",
       "815                       Palermo\n",
       "816                           NaN\n",
       "817                           NaN\n",
       "818          Roseto Degli Abruzzi\n",
       "819                          Rome\n",
       "820                           NaN\n",
       "821                       Palermo\n",
       "822                           NaN\n",
       "823                           NaN\n",
       "824                        Naples\n",
       "825                         Milan\n",
       "826                        Naples\n",
       "827                        Levate\n",
       "828                        Naples\n",
       "829                           NaN\n",
       "830                      Altamura\n",
       "831                          Rome\n",
       "832                           NaN\n",
       "833                       Salerno\n",
       "834                         Milan\n",
       "835                       Brescia\n",
       "836                           NaN\n",
       "837                         Milan\n",
       "838                       Bitonto\n",
       "839                           NaN\n",
       "840                           NaN\n",
       "841                           NaN\n",
       "842                         Milan\n",
       "843                           NaN\n",
       "844                          Rome\n",
       "845                        Naples\n",
       "846                           NaN\n",
       "847                           NaN\n",
       "848                         Goito\n",
       "849                           NaN\n",
       "850              Nocera Inferiore\n",
       "851                    Cittadella\n",
       "852                           NaN\n",
       "853                           NaN\n",
       "854                       Albenga\n",
       "855                        Naples\n",
       "856                           NaN\n",
       "857                      Molfetta\n",
       "858                           NaN\n",
       "859                           NaN\n",
       "860                         Milan\n",
       "861              Torre Annunziata\n",
       "862                   Alessandria\n",
       "863           Garbagnate Milanese\n",
       "864                           NaN\n",
       "865                         Lecce\n",
       "866                         Schio\n",
       "867                           NaN\n",
       "868                        Cesena\n",
       "869                           NaN\n",
       "870                           NaN\n",
       "871                Piove Di Sacco\n",
       "872                           NaN\n",
       "873                       Palermo\n",
       "874                           NaN\n",
       "875                           NaN\n",
       "876                           NaN\n",
       "877                           NaN\n",
       "878                       Palermo\n",
       "879                           NaN\n",
       "880                         Milan\n",
       "881                   Crescentino\n",
       "882                         Milan\n",
       "883          Giavera Del Montello\n",
       "884                           NaN\n",
       "885                       Modugno\n",
       "886                         Milan\n",
       "887                      Giussano\n",
       "888                           NaN\n",
       "889                          Rome\n",
       "890                       Rozzano\n",
       "891                         Sarno\n",
       "892                       Palermo\n",
       "893            Petilia Policastro\n",
       "894                       Palermo\n",
       "895                           NaN\n",
       "896                           NaN\n",
       "897                           NaN\n",
       "898                           NaN\n",
       "899                          Rome\n",
       "900                           NaN\n",
       "901                           NaN\n",
       "902          Giavera Del Montello\n",
       "903                           NaN\n",
       "904                         Milan\n",
       "905                           NaN\n",
       "906                      Agropoli\n",
       "907                           NaN\n",
       "908                      Quaregna\n",
       "909                         Milan\n",
       "910                           NaN\n",
       "911                Lastra A Signa\n",
       "912                         Milan\n",
       "913                         Milan\n",
       "914                           NaN\n",
       "915                       Sassari\n",
       "916                           NaN\n",
       "917                          Bari\n",
       "918                      Nerviano\n",
       "919                           NaN\n",
       "920                          Rome\n",
       "921                        Naples\n",
       "922                         Milan\n",
       "923                       Taranto\n",
       "924                        Naples\n",
       "925                        Corato\n",
       "926                           NaN\n",
       "927                           NaN\n",
       "928                          Rome\n",
       "929                           NaN\n",
       "930                      Rogliano\n",
       "931                           NaN\n",
       "932                           NaN\n",
       "933                           NaN\n",
       "934                          Rome\n",
       "935                           NaN\n",
       "936                          Oria\n",
       "937                         Milan\n",
       "938                         Turin\n",
       "939                          Rome\n",
       "940                           NaN\n",
       "941                           NaN\n",
       "942                           NaN\n",
       "943                           NaN\n",
       "944                         Milan\n",
       "945                           NaN\n",
       "946                        Amelia\n",
       "947                        Pagani\n",
       "948                           NaN\n",
       "949                         Milan\n",
       "950                         Milan\n",
       "951                           NaN\n",
       "952                           NaN\n",
       "953                           NaN\n",
       "954                        Naples\n",
       "955                           NaN\n",
       "956                           NaN\n",
       "957                       Livorno\n",
       "958                         Milan\n",
       "959                          Forl\n",
       "960                         Milan\n",
       "961                           NaN\n",
       "962                           NaN\n",
       "963                           NaN\n",
       "964                           NaN\n",
       "965                           NaN\n",
       "966                           NaN\n",
       "967                Licciana Nardi\n",
       "968                         Milan\n",
       "969                        Genova\n",
       "970                         Milan\n",
       "971                        Naples\n",
       "972                         Milan\n",
       "973                           NaN\n",
       "974                      Florence\n",
       "975                       Adelfia\n",
       "976                           NaN\n",
       "977                          Rome\n",
       "978                           NaN\n",
       "979                           NaN\n",
       "980                         Milan\n",
       "981                       Catania\n",
       "982                           NaN\n",
       "983                           NaN\n",
       "984                         Parma\n",
       "985                       Perugia\n",
       "986                          Rome\n",
       "987                           NaN\n",
       "988                           NaN\n",
       "989                           NaN\n",
       "990                           NaN\n",
       "991                           NaN\n",
       "992                          Rome\n",
       "993                        Albino\n",
       "994                           NaN\n",
       "995                           NaN\n",
       "996                           NaN\n",
       "997                           NaN\n",
       "998                           NaN\n",
       "999                           NaN\n",
       "1000                          NaN\n",
       "1001                          NaN\n",
       "1002                     Barletta\n",
       "1003                      Saviano\n",
       "1004                        Milan\n",
       "1005                          NaN\n",
       "1006                          NaN\n",
       "1007                      Pescara\n",
       "1008                     Samarate\n",
       "1009               Campi Bisenzio\n",
       "1010                      Catania\n",
       "1011                       Genova\n",
       "1012                          NaN\n",
       "1013                          NaN\n",
       "1014                      Ferrara\n",
       "1015                          NaN\n",
       "1016                          NaN\n",
       "1017             Cava De' Tirreni\n",
       "1018                          NaN\n",
       "1019                       Naples\n",
       "1020                          NaN\n",
       "1021                          NaN\n",
       "1022                        Milan\n",
       "1023                        Milan\n",
       "1024                          NaN\n",
       "1025                          NaN\n",
       "1026                          NaN\n",
       "1027                       Faenza\n",
       "1028                          NaN\n",
       "1029                          NaN\n",
       "1030                          NaN\n",
       "1031                          NaN\n",
       "1032                      Pescara\n",
       "1033                          NaN\n",
       "1034                       Naples\n",
       "1035                          NaN\n",
       "1036                          NaN\n",
       "1037                      Catania\n",
       "1038                     Cagliari\n",
       "1039                          NaN\n",
       "1040                         Rome\n",
       "1041                         Rome\n",
       "1042                         Rome\n",
       "1043                      Pescara\n",
       "1044                      Cremona\n",
       "1045                         Bari\n",
       "1046                          NaN\n",
       "1047                          NaN\n",
       "1048                          NaN\n",
       "1049                         Rome\n",
       "1050                     Agropoli\n",
       "1051                          NaN\n",
       "1052                          NaN\n",
       "1053                    Benevento\n",
       "1054                       Cinisi\n",
       "1055                          NaN\n",
       "1056                       Trento\n",
       "1057                         Bari\n",
       "1058                   Concorezzo\n",
       "1059                        Turin\n",
       "1060                        Milan\n",
       "1061                        Milan\n",
       "1062                        Milan\n",
       "1063                          NaN\n",
       "1064                     Oak Park\n",
       "1065                      Pescara\n",
       "1066                          NaN\n",
       "1067                        Milan\n",
       "1068                        Turin\n",
       "1069                      Cossato\n",
       "1070                        Milan\n",
       "1071                        Milan\n",
       "1072                        Milan\n",
       "1073                        Milan\n",
       "1074                          NaN\n",
       "1075                          NaN\n",
       "1076                        Milan\n",
       "1077                          NaN\n",
       "1078               Frattamaggiore\n",
       "1079                        Milan\n",
       "1080                       Naples\n",
       "1081                          NaN\n",
       "1082                      Caserta\n",
       "1083                       Genova\n",
       "1084                          NaN\n",
       "1085                        Milan\n",
       "1086                       Naples\n",
       "1087                       Naples\n",
       "1088                          NaN\n",
       "1089                        Milan\n",
       "1090                          NaN\n",
       "1091                          NaN\n",
       "1092                          NaN\n",
       "1093             Cologno Al Serio\n",
       "1094                        Milan\n",
       "1095                       Naples\n",
       "1096                  Battipaglia\n",
       "1097                        Milan\n",
       "1098                          Kln\n",
       "1099                       Binago\n",
       "1100                        Milan\n",
       "1101                        Milan\n",
       "1102                          NaN\n",
       "1103                      Trieste\n",
       "1104                        Terni\n",
       "1105                          NaN\n",
       "1106                        Milan\n",
       "1107                San Francisco\n",
       "1108                San Francisco\n",
       "1109                San Francisco\n",
       "1110                San Francisco\n",
       "1111                San Francisco\n",
       "1112                San Francisco\n",
       "1113                San Francisco\n",
       "1114                San Francisco\n",
       "1115                San Francisco\n",
       "1116                         Asti\n",
       "1117                          NaN\n",
       "1118                          NaN\n",
       "1119                          NaN\n",
       "1120                     Florence\n",
       "1121              Bagnara Calabra\n",
       "1122                         Rome\n",
       "1123                          NaN\n",
       "1124                San Francisco\n",
       "1125                San Francisco\n",
       "1126                San Francisco\n",
       "1127                          NaN\n",
       "1128                          NaN\n",
       "1129                        Milan\n",
       "1130             Torre Annunziata\n",
       "1131                   Caravaggio\n",
       "1132                        Milan\n",
       "1133                          NaN\n",
       "1134                     Massafra\n",
       "1135                       Pesaro\n",
       "1136                         Rome\n",
       "1137                        Milan\n",
       "1138                       Ancona\n",
       "1139                     Florence\n",
       "1140                          NaN\n",
       "1141                        Milan\n",
       "1142                          NaN\n",
       "1143           Padenghe Sul Garda\n",
       "1144                      Bologna\n",
       "1145                        Massa\n",
       "1146                      Gambara\n",
       "1147             Casalpusterlengo\n",
       "1148                       Arluno\n",
       "1149                        Milan\n",
       "1150                        Parma\n",
       "1151                        Milan\n",
       "1152                      Palermo\n",
       "1153                        Milan\n",
       "1154                San Francisco\n",
       "1155                     San Jose\n",
       "1156                       Naples\n",
       "1157                 Castel Mella\n",
       "1158                          NaN\n",
       "1159                          NaN\n",
       "1160                        Milan\n",
       "1161                          NaN\n",
       "...\n",
       "0                      Maidenhead\n",
       "1                         Watford\n",
       "2                        Massafra\n",
       "3                             NaN\n",
       "4                           Turin\n",
       "5                         Palermo\n",
       "6                             Rho\n",
       "7                           Milan\n",
       "8                             NaN\n",
       "9                          Verona\n",
       "10                            NaN\n",
       "11                         Naples\n",
       "12                            NaN\n",
       "13          Giugliano In Campania\n",
       "14                            NaN\n",
       "15                          Padua\n",
       "16                            NaN\n",
       "17                         Verona\n",
       "18                        Brescia\n",
       "19                            NaN\n",
       "20                            NaN\n",
       "21                            NaN\n",
       "22                           Bari\n",
       "23                            NaN\n",
       "24                            NaN\n",
       "25                        Carrara\n",
       "26                         Naples\n",
       "27                            NaN\n",
       "28                            NaN\n",
       "29                        Palermo\n",
       "30                            NaN\n",
       "31                            NaN\n",
       "32                      Girifalco\n",
       "33                         Lamzia\n",
       "34                            NaN\n",
       "35                         Pedaso\n",
       "36                        Carrara\n",
       "37                            NaN\n",
       "38                            NaN\n",
       "39                          Milan\n",
       "40                           Rome\n",
       "41                            NaN\n",
       "42                            NaN\n",
       "43                        Bergamo\n",
       "44                            NaN\n",
       "45                            NaN\n",
       "46                          Milan\n",
       "47                      Catanzaro\n",
       "48                            NaN\n",
       "49                            NaN\n",
       "50                         Pedaso\n",
       "51                            NaN\n",
       "52                        Bergamo\n",
       "53                            NaN\n",
       "54                            NaN\n",
       "55                    Verolanuova\n",
       "56                         Naples\n",
       "57                            NaN\n",
       "58                            NaN\n",
       "59                       Molfetta\n",
       "60                        Albenga\n",
       "61                            NaN\n",
       "62                            Apo\n",
       "63                            NaN\n",
       "64                         Foggia\n",
       "65                         Genova\n",
       "66                            NaN\n",
       "67                            NaN\n",
       "68                            NaN\n",
       "69                            NaN\n",
       "70                           Rome\n",
       "71             Villa San Giovanni\n",
       "72                            NaN\n",
       "73                      La Spezia\n",
       "74                            NaN\n",
       "75                          Padua\n",
       "76                            NaN\n",
       "77                            NaN\n",
       "78                            NaN\n",
       "79                            NaN\n",
       "80                            NaN\n",
       "81                            NaN\n",
       "82                            NaN\n",
       "83                     Casavatore\n",
       "84                            NaN\n",
       "85                          Milan\n",
       "86                     Barlassina\n",
       "87                        Casoria\n",
       "88                          Milan\n",
       "89                           Bari\n",
       "90                Fort Lauderdale\n",
       "91                    Scarborough\n",
       "92                            NaN\n",
       "93                            NaN\n",
       "94                            NaN\n",
       "95                         Genova\n",
       "96                            NaN\n",
       "97           Mercato San Severino\n",
       "98                            NaN\n",
       "99                          Milan\n",
       "100                         Milan\n",
       "101                 Reggio Emilia\n",
       "102                           NaN\n",
       "103                          Bari\n",
       "104                           NaN\n",
       "105                       Bologna\n",
       "106                         Monza\n",
       "107                           NaN\n",
       "108          San Pietro Vernotico\n",
       "109                           NaN\n",
       "110                           NaN\n",
       "111                           NaN\n",
       "112                       Taranto\n",
       "113                          Bari\n",
       "114                         Milan\n",
       "115                        Naples\n",
       "116                           NaN\n",
       "117                          Rome\n",
       "118                           NaN\n",
       "119                           NaN\n",
       "120                           NaN\n",
       "121                    Caravonica\n",
       "122                           NaN\n",
       "123                        Verona\n",
       "124                        Prizzi\n",
       "125                         Milan\n",
       "126                        Naples\n",
       "127                           NaN\n",
       "128                          Rome\n",
       "129                           NaN\n",
       "130                 Campogalliano\n",
       "131                           NaN\n",
       "132                           NaN\n",
       "133                           NaN\n",
       "134                        Naples\n",
       "135                           NaN\n",
       "136                          Rome\n",
       "137                         Milan\n",
       "138                           NaN\n",
       "139                        Spinea\n",
       "140                      Brindisi\n",
       "141                    Trofarello\n",
       "142                  Cusano Mutri\n",
       "143                        Aversa\n",
       "144                       Catania\n",
       "145                 Verolavecchia\n",
       "146                       Catania\n",
       "147                           NaN\n",
       "148                       Marrbiu\n",
       "149                       Cardito\n",
       "150                        Naples\n",
       "151                        Pagani\n",
       "152                           NaN\n",
       "153                           NaN\n",
       "154                           NaN\n",
       "155                           NaN\n",
       "156                           NaN\n",
       "157                           NaN\n",
       "158                        Novara\n",
       "159                           NaN\n",
       "160                    San Severo\n",
       "161              Salice Salentino\n",
       "162                           NaN\n",
       "163                     La Spezia\n",
       "164                       Isernia\n",
       "165                    Cittadella\n",
       "166                          Bari\n",
       "167                           NaN\n",
       "168                         Turin\n",
       "169                           NaN\n",
       "170                          Bari\n",
       "171                           NaN\n",
       "172                       Brescia\n",
       "173                        Genova\n",
       "174                           NaN\n",
       "175                        Naples\n",
       "176                           NaN\n",
       "177                          Rome\n",
       "178                 Ascoli Piceno\n",
       "179                          Rome\n",
       "180                       Caserta\n",
       "181                    Tavagnacco\n",
       "182                           NaN\n",
       "183                       Caserta\n",
       "184                         Turin\n",
       "185                           NaN\n",
       "186                           NaN\n",
       "187                           NaN\n",
       "188                         Monza\n",
       "189                           NaN\n",
       "190                           NaN\n",
       "191       Castellammare Del Golfo\n",
       "192                           NaN\n",
       "193                       Taranto\n",
       "194                         Terni\n",
       "195                           NaN\n",
       "196                        Naples\n",
       "197                           NaN\n",
       "198                           NaN\n",
       "199                       Catania\n",
       "200                        Cesena\n",
       "201              Figline Valdarno\n",
       "202                           NaN\n",
       "203              Mazara Del Vallo\n",
       "204                       Catania\n",
       "205                        Genova\n",
       "206                           NaN\n",
       "207                           NaN\n",
       "208                           NaN\n",
       "209                           NaN\n",
       "210                       Ferrara\n",
       "211                         Milan\n",
       "212                           NaN\n",
       "213                        Naples\n",
       "214                           NaN\n",
       "215                           NaN\n",
       "216                       Salerno\n",
       "217                           NaN\n",
       "218                         Milan\n",
       "219                         Milan\n",
       "220                           NaN\n",
       "221                        Naples\n",
       "222                          Mori\n",
       "223                           NaN\n",
       "224                           NaN\n",
       "225                        Forino\n",
       "226                          Rome\n",
       "227                        Naples\n",
       "228                         Milan\n",
       "229                           NaN\n",
       "230          Santo Stefano Ticino\n",
       "231                         Milan\n",
       "232                       Catania\n",
       "233                           NaN\n",
       "234                           NaN\n",
       "235                          Rome\n",
       "236                          Bari\n",
       "237                          Rome\n",
       "238                        Naples\n",
       "239                           NaN\n",
       "240                           NaN\n",
       "241                           NaN\n",
       "242                           NaN\n",
       "243                           NaN\n",
       "244                          Jesi\n",
       "245                 Campogalliano\n",
       "246                           NaN\n",
       "247                        Naples\n",
       "248                         Milan\n",
       "249                       Seriate\n",
       "250                          Rome\n",
       "251                           NaN\n",
       "252                           NaN\n",
       "253                           NaN\n",
       "254                         Milan\n",
       "255                           NaN\n",
       "256                           NaN\n",
       "257                         Milan\n",
       "258                     Brugherio\n",
       "259     San Giovanni In Persiceto\n",
       "260                           NaN\n",
       "261                       Bergamo\n",
       "262                       Salerno\n",
       "263                        Mestre\n",
       "264                         Milan\n",
       "265                           NaN\n",
       "266                           NaN\n",
       "267                         Paola\n",
       "268                          Rome\n",
       "269                           NaN\n",
       "270                           NaN\n",
       "271                           NaN\n",
       "272                       Palermo\n",
       "273                        Barolo\n",
       "274                      Grosseto\n",
       "275                           NaN\n",
       "276                       Taranto\n",
       "277                         Turin\n",
       "278                           NaN\n",
       "279                           NaN\n",
       "280                           NaN\n",
       "281                         Trani\n",
       "282                        Naples\n",
       "283                           NaN\n",
       "284                           NaN\n",
       "285                           NaN\n",
       "286                 Reggio Emilia\n",
       "287                          Rome\n",
       "288                         Milan\n",
       "289                         Milan\n",
       "290                           NaN\n",
       "291                       Spoleto\n",
       "292                           NaN\n",
       "293                           NaN\n",
       "294                           NaN\n",
       "295                           NaN\n",
       "296                           NaN\n",
       "297         Almenno San Salvatore\n",
       "298                         Milan\n",
       "299             Borgo San Lorenzo\n",
       "300                           NaN\n",
       "301                          Rome\n",
       "302                           NaN\n",
       "303                        Naples\n",
       "304                        Naples\n",
       "305                           NaN\n",
       "306                           NaN\n",
       "307                        Biella\n",
       "308                           NaN\n",
       "309             Civitanova Marche\n",
       "310              Nocera Inferiore\n",
       "311                           NaN\n",
       "312                           NaN\n",
       "313                           NaN\n",
       "314                       Catania\n",
       "315                        Modena\n",
       "316                           NaN\n",
       "317                           NaN\n",
       "318                         Turin\n",
       "319                           NaN\n",
       "320                       Palermo\n",
       "321              Cava De' Tirreni\n",
       "322               Reggio Calabria\n",
       "323                       Catania\n",
       "324                         Milan\n",
       "325                       Palermo\n",
       "326                       Perugia\n",
       "327                      Florence\n",
       "328                        Amelia\n",
       "329                           NaN\n",
       "330                           NaN\n",
       "331               Reggio Calabria\n",
       "332                           NaN\n",
       "333           Garbagnate Milanese\n",
       "334                           NaN\n",
       "335                         Milan\n",
       "336                         Monza\n",
       "337                           NaN\n",
       "338                         Padua\n",
       "339                       Isernia\n",
       "340                           NaN\n",
       "341                       Vicenza\n",
       "342                           NaN\n",
       "343                           NaN\n",
       "344                       Augusta\n",
       "345                         Milan\n",
       "346                          Rome\n",
       "347                           NaN\n",
       "348                           NaN\n",
       "349                           NaN\n",
       "350                         Milan\n",
       "351                           NaN\n",
       "352                          Rome\n",
       "353                           NaN\n",
       "354                         Paola\n",
       "355                          Bari\n",
       "356                           NaN\n",
       "357                          Rome\n",
       "358                           NaN\n",
       "359                           NaN\n",
       "360                          Rome\n",
       "361                           NaN\n",
       "362                        Turate\n",
       "363                       Brescia\n",
       "364                 Casteltermini\n",
       "365                          Rome\n",
       "366                          Rome\n",
       "367                           NaN\n",
       "368                          Rome\n",
       "369                          Rome\n",
       "370                           NaN\n",
       "371               Somma Vesuviana\n",
       "372                           NaN\n",
       "373            San Pietro A Maida\n",
       "374                       Pescara\n",
       "375                      Leporano\n",
       "376                           NaN\n",
       "377                           NaN\n",
       "378                           NaN\n",
       "379                       Catania\n",
       "380                           NaN\n",
       "381                           NaN\n",
       "382                          Rome\n",
       "383                        Prizzi\n",
       "384                          Rome\n",
       "385                           NaN\n",
       "386                          Rome\n",
       "387                           NaN\n",
       "388                 Reggio Emilia\n",
       "389                           NaN\n",
       "390                          Rome\n",
       "391                         Crema\n",
       "392                         Milan\n",
       "393               Mariano Comense\n",
       "394                         Milan\n",
       "395                     Tolentino\n",
       "396                           NaN\n",
       "397                         Milan\n",
       "398                      Manciano\n",
       "399                     Nichelino\n",
       "400                           NaN\n",
       "401                           NaN\n",
       "402                         Milan\n",
       "403                         Milan\n",
       "404                           NaN\n",
       "405                         Milan\n",
       "406                       Brescia\n",
       "407                         Milan\n",
       "408                           NaN\n",
       "409                        Jeddah\n",
       "410                           NaN\n",
       "411                         Turin\n",
       "412                          Rome\n",
       "413                           NaN\n",
       "414                        Naples\n",
       "415                        Naples\n",
       "416                          Bari\n",
       "417                       Catania\n",
       "418                           NaN\n",
       "419                           NaN\n",
       "420                           NaN\n",
       "421                          Rome\n",
       "422                          Rome\n",
       "423                           NaN\n",
       "424                           NaN\n",
       "425                 Campogalliano\n",
       "426                 Campogalliano\n",
       "427                       Taranto\n",
       "428                           NaN\n",
       "429                          Rome\n",
       "430                 Reggio Emilia\n",
       "431                          Rome\n",
       "432                         Lucca\n",
       "433                        Naples\n",
       "434                         Milan\n",
       "435                        Mestre\n",
       "436                          Rome\n",
       "437                           NaN\n",
       "438                           NaN\n",
       "439                           NaN\n",
       "440                         Milan\n",
       "441                       Catania\n",
       "442                      Cagliari\n",
       "443                           NaN\n",
       "444                           NaN\n",
       "445                       Catania\n",
       "446                           NaN\n",
       "447                           NaN\n",
       "448                           NaN\n",
       "449                           NaN\n",
       "450               Reggio Calabria\n",
       "451                       Lissone\n",
       "452                           NaN\n",
       "453                         Paola\n",
       "454                           NaN\n",
       "455                         Paola\n",
       "456               Somma Vesuviana\n",
       "457                           NaN\n",
       "458         San Giuliano Milanese\n",
       "459                           NaN\n",
       "460                           NaN\n",
       "461          Montecorvino Rovella\n",
       "462                           NaN\n",
       "463                           NaN\n",
       "464                 Castelfidardo\n",
       "465                           NaN\n",
       "466              Marano Vicentino\n",
       "467                       Bologna\n",
       "468                       Palermo\n",
       "469                       Adelfia\n",
       "470                           NaN\n",
       "471                           NaN\n",
       "472                       Milazzo\n",
       "473                         Monza\n",
       "474                         Turin\n",
       "475                           NaN\n",
       "476                         Trani\n",
       "477                           NaN\n",
       "478                        Modena\n",
       "479                           NaN\n",
       "480                           NaN\n",
       "481                           NaN\n",
       "482                           NaN\n",
       "483                           NaN\n",
       "484                        Genova\n",
       "485                           NaN\n",
       "486                       Vicenza\n",
       "487                           NaN\n",
       "488                           NaN\n",
       "489                         Turin\n",
       "490                           NaN\n",
       "491                     Polverigi\n",
       "492                           NaN\n",
       "493                           NaN\n",
       "494                         Milan\n",
       "495                           NaN\n",
       "496                           NaN\n",
       "497                           NaN\n",
       "498                       Palermo\n",
       "499                   Montichiari\n",
       "500                      Florence\n",
       "501                       Bergamo\n",
       "502                           NaN\n",
       "503                           NaN\n",
       "504                        Naples\n",
       "505                           NaN\n",
       "506                          Rome\n",
       "507                  Castel Mella\n",
       "508                         Milan\n",
       "509                      Calimera\n",
       "510                          Como\n",
       "511                           NaN\n",
       "512                           NaN\n",
       "513                         Milan\n",
       "514                        Naples\n",
       "515                           NaN\n",
       "516                       Taranto\n",
       "517                           NaN\n",
       "518                        Inzago\n",
       "519                         Viggi\n",
       "520                    Bussolengo\n",
       "521                           NaN\n",
       "522                           NaN\n",
       "523      San Benedetto Del Tronto\n",
       "524                   Mezzocorona\n",
       "525                          Rome\n",
       "526                    Boscoreale\n",
       "527                         Milan\n",
       "528                          Bari\n",
       "529                           NaN\n",
       "530                         Milan\n",
       "531                           NaN\n",
       "532                           NaN\n",
       "533                        Verona\n",
       "534                         Osimo\n",
       "535                        Biella\n",
       "536                           NaN\n",
       "537                      Bagheria\n",
       "538                           NaN\n",
       "539                        Seveso\n",
       "540                        Arluno\n",
       "541                           NaN\n",
       "542                        Naples\n",
       "543                           NaN\n",
       "544                           NaN\n",
       "545                         Lagos\n",
       "546                    Maidenhead\n",
       "547                 Saint Andrews\n",
       "548                        London\n",
       "549                           NaN\n",
       "550                           NaN\n",
       "551                          Rome\n",
       "552                          Bari\n",
       "553                          Rome\n",
       "554                           NaN\n",
       "555                        Naples\n",
       "556                        Naples\n",
       "557          Casalnuovo Di Napoli\n",
       "558                           NaN\n",
       "559                           NaN\n",
       "560                           NaN\n",
       "561                      Bibbiano\n",
       "562                           NaN\n",
       "563                           NaN\n",
       "564                          Bari\n",
       "565                           NaN\n",
       "566                           NaN\n",
       "567                           NaN\n",
       "568                        Naples\n",
       "569                         Milan\n",
       "570                       Catania\n",
       "571                           NaN\n",
       "572                           NaN\n",
       "573                        Naples\n",
       "574                           NaN\n",
       "575                           NaN\n",
       "576                       Bergamo\n",
       "577                       Catania\n",
       "578                           NaN\n",
       "579                Campi Bisenzio\n",
       "580               Alzano Lombardo\n",
       "581                       Palermo\n",
       "582                           NaN\n",
       "583                       Sarzana\n",
       "584                           NaN\n",
       "585                        Genova\n",
       "586                         Imola\n",
       "587                           NaN\n",
       "588                           NaN\n",
       "589                          Rome\n",
       "590                           NaN\n",
       "591                       Bergamo\n",
       "592                           NaN\n",
       "593                        Genova\n",
       "594                           NaN\n",
       "595                       Ferrara\n",
       "596                         Massa\n",
       "597                          Rome\n",
       "598                        Genova\n",
       "599                           NaN\n",
       "600            Castel San Giorgio\n",
       "601                        Verona\n",
       "602                           NaN\n",
       "603                           NaN\n",
       "604                         Milan\n",
       "605                           NaN\n",
       "606                           NaN\n",
       "607                       Vicenza\n",
       "608                        Modena\n",
       "609                           NaN\n",
       "610                           NaN\n",
       "611                         Milan\n",
       "612                           NaN\n",
       "613                           NaN\n",
       "614                         Milan\n",
       "615                      Bibbiano\n",
       "616                        Naples\n",
       "617                           NaN\n",
       "618                Botticino Sera\n",
       "619                         Milan\n",
       "620                          Rome\n",
       "621                          Rome\n",
       "622                           NaN\n",
       "623                           NaN\n",
       "624                           NaN\n",
       "625                          Rome\n",
       "626                        Verona\n",
       "627                           NaN\n",
       "628                         Turin\n",
       "629                       Leghorn\n",
       "630                       Catania\n",
       "631                           NaN\n",
       "632                           NaN\n",
       "633                        Naples\n",
       "634                           NaN\n",
       "635              Cava Dei Tirreni\n",
       "636                           NaN\n",
       "637                           NaN\n",
       "638                           NaN\n",
       "639                           NaN\n",
       "640                         Milan\n",
       "641                         Milan\n",
       "642                          Rome\n",
       "643                           NaN\n",
       "644                         Turin\n",
       "645                           NaN\n",
       "646                           NaN\n",
       "647                           NaN\n",
       "648                       Brescia\n",
       "649                          Rome\n",
       "650                         Padua\n",
       "651               Mariano Comense\n",
       "652                           NaN\n",
       "653                         Milan\n",
       "654                       Bologna\n",
       "655                           NaN\n",
       "656                       Isernia\n",
       "657                           NaN\n",
       "658                           NaN\n",
       "659                         Milan\n",
       "660                       Palermo\n",
       "661                       Hamburg\n",
       "662                      Brooklyn\n",
       "663                           Kln\n",
       "664                          Bari\n",
       "665                           NaN\n",
       "666                           NaN\n",
       "667                       Bergamo\n",
       "668                       Bergamo\n",
       "669                    San Lucido\n",
       "670                        Genova\n",
       "671                           NaN\n",
       "672                     Mistretta\n",
       "673                          Rome\n",
       "674                        Naples\n",
       "675                       Messina\n",
       "676                          Rome\n",
       "677                        Genova\n",
       "678                           NaN\n",
       "679                     Viareggio\n",
       "680                       Palermo\n",
       "681                           NaN\n",
       "682                           NaN\n",
       "683                    San Donaci\n",
       "684                          Rome\n",
       "685                        Naples\n",
       "686                       Taranto\n",
       "687                           NaN\n",
       "688                     Antwerpen\n",
       "689                   Castenedolo\n",
       "690                        Borgia\n",
       "691                     Bastiglia\n",
       "692                 Reggio Emilia\n",
       "693                       Bologna\n",
       "694                           NaN\n",
       "695            Pignataro Maggiore\n",
       "696     Santo Stefano Di Rogliano\n",
       "697                     Antwerpen\n",
       "698                       Sulmona\n",
       "699                       Perugia\n",
       "700                           NaN\n",
       "701                       Lissone\n",
       "702                        Naples\n",
       "703                        Budrio\n",
       "704                           NaN\n",
       "705                        Cesena\n",
       "706                       Fiesole\n",
       "707                           NaN\n",
       "708                  Lacchiarella\n",
       "709                           NaN\n",
       "710                Sant'anastasia\n",
       "711                       Saviano\n",
       "712                         Turin\n",
       "713                          Rome\n",
       "714                        Novara\n",
       "715                           NaN\n",
       "716                         Milan\n",
       "717                           NaN\n",
       "718                         Milan\n",
       "719                           NaN\n",
       "720                           NaN\n",
       "721                           NaN\n",
       "722                           NaN\n",
       "723                       Rozzano\n",
       "724                        Teramo\n",
       "725                           NaN\n",
       "726                           NaN\n",
       "727                           NaN\n",
       "728                      Florence\n",
       "729                           NaN\n",
       "730                        Naples\n",
       "731           Sant'agata De' Goti\n",
       "732                           NaN\n",
       "733                        Naples\n",
       "734                           NaN\n",
       "735                        Naples\n",
       "736                           NaN\n",
       "737                          Rome\n",
       "738                          Rome\n",
       "739                           Rho\n",
       "740                           NaN\n",
       "741                       Palermo\n",
       "742                           NaN\n",
       "743                           NaN\n",
       "744                         Milan\n",
       "745                          Rome\n",
       "746                  Castel Mella\n",
       "747                           NaN\n",
       "748                           NaN\n",
       "749                           NaN\n",
       "750                      Florence\n",
       "751                          Rome\n",
       "752                     Arzignano\n",
       "753                        Genova\n",
       "754                           NaN\n",
       "755                           NaN\n",
       "756                         Milan\n",
       "757                          Rome\n",
       "758                           NaN\n",
       "759                       Catania\n",
       "760                         Milan\n",
       "761                       Palermo\n",
       "762                       Modugno\n",
       "763                       Alghero\n",
       "764                     Catanzaro\n",
       "765                           NaN\n",
       "766                         Milan\n",
       "767                           NaN\n",
       "768                           NaN\n",
       "769                           NaN\n",
       "770                           NaN\n",
       "771                        Acerra\n",
       "772                          Rome\n",
       "773                      Cavriana\n",
       "774                         Turin\n",
       "775     Santo Stefano Di Rogliano\n",
       "776                           NaN\n",
       "777                           NaN\n",
       "778                       Casoria\n",
       "779                           NaN\n",
       "780                           NaN\n",
       "781                           NaN\n",
       "782                          Rome\n",
       "783                          Rome\n",
       "784                          Rome\n",
       "785                           NaN\n",
       "786                       Fiesole\n",
       "787                     Poggiardo\n",
       "788                       Segrate\n",
       "789                           NaN\n",
       "790                           NaN\n",
       "791                           NaN\n",
       "792                 Pizzighettone\n",
       "793                           NaN\n",
       "794                           NaN\n",
       "795                           NaN\n",
       "796                       Catania\n",
       "797                           NaN\n",
       "798              Ponte San Pietro\n",
       "799          Roseto Degli Abruzzi\n",
       "800                     Antwerpen\n",
       "801                           NaN\n",
       "802                       Fiesole\n",
       "803                          Rome\n",
       "804                         Lucca\n",
       "805                           NaN\n",
       "806                        Naples\n",
       "807         San Michele Salentino\n",
       "808                           NaN\n",
       "809                       Palermo\n",
       "810                           NaN\n",
       "811                           NaN\n",
       "812                           NaN\n",
       "813                           NaN\n",
       "814                       Catania\n",
       "815                       Palermo\n",
       "816                           NaN\n",
       "817                           NaN\n",
       "818          Roseto Degli Abruzzi\n",
       "819                          Rome\n",
       "820                           NaN\n",
       "821                       Palermo\n",
       "822                           NaN\n",
       "823                           NaN\n",
       "824                        Naples\n",
       "825                         Milan\n",
       "826                        Naples\n",
       "827                        Levate\n",
       "828                        Naples\n",
       "829                           NaN\n",
       "830                      Altamura\n",
       "831                          Rome\n",
       "832                           NaN\n",
       "833                       Salerno\n",
       "834                         Milan\n",
       "835                       Brescia\n",
       "836                           NaN\n",
       "837                         Milan\n",
       "838                       Bitonto\n",
       "839                           NaN\n",
       "840                           NaN\n",
       "841                           NaN\n",
       "842                         Milan\n",
       "843                           NaN\n",
       "844                          Rome\n",
       "845                        Naples\n",
       "846                           NaN\n",
       "847                           NaN\n",
       "848                         Goito\n",
       "849                           NaN\n",
       "850              Nocera Inferiore\n",
       "851                    Cittadella\n",
       "852                           NaN\n",
       "853                           NaN\n",
       "854                       Albenga\n",
       "855                        Naples\n",
       "856                           NaN\n",
       "857                      Molfetta\n",
       "858                           NaN\n",
       "859                           NaN\n",
       "860                         Milan\n",
       "861              Torre Annunziata\n",
       "862                   Alessandria\n",
       "863           Garbagnate Milanese\n",
       "864                           NaN\n",
       "865                         Lecce\n",
       "866                         Schio\n",
       "867                           NaN\n",
       "868                        Cesena\n",
       "869                           NaN\n",
       "870                           NaN\n",
       "871                Piove Di Sacco\n",
       "872                           NaN\n",
       "873                       Palermo\n",
       "874                           NaN\n",
       "875                           NaN\n",
       "876                           NaN\n",
       "877                           NaN\n",
       "878                       Palermo\n",
       "879                           NaN\n",
       "880                         Milan\n",
       "881                   Crescentino\n",
       "882                         Milan\n",
       "883          Giavera Del Montello\n",
       "884                           NaN\n",
       "885                       Modugno\n",
       "886                         Milan\n",
       "887                      Giussano\n",
       "888                           NaN\n",
       "889                          Rome\n",
       "890                       Rozzano\n",
       "891                         Sarno\n",
       "892                       Palermo\n",
       "893            Petilia Policastro\n",
       "894                       Palermo\n",
       "895                           NaN\n",
       "896                           NaN\n",
       "897                           NaN\n",
       "898                           NaN\n",
       "899                          Rome\n",
       "900                           NaN\n",
       "901                           NaN\n",
       "902          Giavera Del Montello\n",
       "903                           NaN\n",
       "904                         Milan\n",
       "905                           NaN\n",
       "906                      Agropoli\n",
       "907                           NaN\n",
       "908                      Quaregna\n",
       "909                         Milan\n",
       "910                           NaN\n",
       "911                Lastra A Signa\n",
       "912                         Milan\n",
       "913                         Milan\n",
       "914                           NaN\n",
       "915                       Sassari\n",
       "916                           NaN\n",
       "917                          Bari\n",
       "918                      Nerviano\n",
       "919                           NaN\n",
       "920                          Rome\n",
       "921                        Naples\n",
       "922                         Milan\n",
       "923                       Taranto\n",
       "924                        Naples\n",
       "925                        Corato\n",
       "926                           NaN\n",
       "927                           NaN\n",
       "928                          Rome\n",
       "929                           NaN\n",
       "930                      Rogliano\n",
       "931                           NaN\n",
       "932                           NaN\n",
       "933                           NaN\n",
       "934                          Rome\n",
       "935                           NaN\n",
       "936                          Oria\n",
       "937                         Milan\n",
       "938                         Turin\n",
       "939                          Rome\n",
       "940                           NaN\n",
       "941                           NaN\n",
       "942                           NaN\n",
       "943                           NaN\n",
       "944                         Milan\n",
       "945                           NaN\n",
       "946                        Amelia\n",
       "947                        Pagani\n",
       "948                           NaN\n",
       "949                         Milan\n",
       "950                         Milan\n",
       "951                           NaN\n",
       "952                           NaN\n",
       "953                           NaN\n",
       "954                        Naples\n",
       "955                           NaN\n",
       "956                           NaN\n",
       "957                       Livorno\n",
       "958                         Milan\n",
       "959                          Forl\n",
       "960                         Milan\n",
       "961                           NaN\n",
       "962                           NaN\n",
       "963                           NaN\n",
       "964                           NaN\n",
       "965                           NaN\n",
       "966                           NaN\n",
       "967                Licciana Nardi\n",
       "968                         Milan\n",
       "969                        Genova\n",
       "970                         Milan\n",
       "971                        Naples\n",
       "972                         Milan\n",
       "973                           NaN\n",
       "974                      Florence\n",
       "975                       Adelfia\n",
       "976                           NaN\n",
       "977                          Rome\n",
       "978                           NaN\n",
       "979                           NaN\n",
       "980                         Milan\n",
       "981                       Catania\n",
       "982                           NaN\n",
       "983                           NaN\n",
       "984                         Parma\n",
       "985                       Perugia\n",
       "986                          Rome\n",
       "987                           NaN\n",
       "988                           NaN\n",
       "989                           NaN\n",
       "990                           NaN\n",
       "991                           NaN\n",
       "992                          Rome\n",
       "993                        Albino\n",
       "994                           NaN\n",
       "995                           NaN\n",
       "996                           NaN\n",
       "997                           NaN\n",
       "998                           NaN\n",
       "999                           NaN\n",
       "1000                          NaN\n",
       "1001                          NaN\n",
       "1002                     Barletta\n",
       "1003                      Saviano\n",
       "1004                        Milan\n",
       "1005                          NaN\n",
       "1006                          NaN\n",
       "1007                      Pescara\n",
       "1008                     Samarate\n",
       "1009               Campi Bisenzio\n",
       "1010                      Catania\n",
       "1011                       Genova\n",
       "1012                          NaN\n",
       "1013                          NaN\n",
       "1014                      Ferrara\n",
       "1015                          NaN\n",
       "1016                          NaN\n",
       "1017             Cava De' Tirreni\n",
       "1018                          NaN\n",
       "1019                       Naples\n",
       "1020                          NaN\n",
       "1021                          NaN\n",
       "1022                        Milan\n",
       "1023                        Milan\n",
       "1024                          NaN\n",
       "1025                          NaN\n",
       "1026                          NaN\n",
       "1027                       Faenza\n",
       "1028                          NaN\n",
       "1029                          NaN\n",
       "1030                          NaN\n",
       "1031                          NaN\n",
       "1032                      Pescara\n",
       "1033                          NaN\n",
       "1034                       Naples\n",
       "1035                          NaN\n",
       "1036                          NaN\n",
       "1037                      Catania\n",
       "1038                     Cagliari\n",
       "1039                          NaN\n",
       "1040                         Rome\n",
       "1041                         Rome\n",
       "1042                         Rome\n",
       "1043                      Pescara\n",
       "1044                      Cremona\n",
       "1045                         Bari\n",
       "1046                          NaN\n",
       "1047                          NaN\n",
       "1048                          NaN\n",
       "1049                         Rome\n",
       "1050                     Agropoli\n",
       "1051                          NaN\n",
       "1052                          NaN\n",
       "1053                    Benevento\n",
       "1054                       Cinisi\n",
       "1055                          NaN\n",
       "1056                       Trento\n",
       "1057                         Bari\n",
       "1058                   Concorezzo\n",
       "1059                        Turin\n",
       "1060                        Milan\n",
       "1061                        Milan\n",
       "1062                        Milan\n",
       "1063                          NaN\n",
       "1064                     Oak Park\n",
       "1065                      Pescara\n",
       "1066                          NaN\n",
       "1067                        Milan\n",
       "1068                        Turin\n",
       "1069                      Cossato\n",
       "1070                        Milan\n",
       "1071                        Milan\n",
       "1072                        Milan\n",
       "1073                        Milan\n",
       "1074                          NaN\n",
       "1075                          NaN\n",
       "1076                        Milan\n",
       "1077                          NaN\n",
       "1078               Frattamaggiore\n",
       "1079                        Milan\n",
       "1080                       Naples\n",
       "1081                          NaN\n",
       "1082                      Caserta\n",
       "1083                       Genova\n",
       "1084                          NaN\n",
       "1085                        Milan\n",
       "1086                       Naples\n",
       "1087                       Naples\n",
       "1088                          NaN\n",
       "1089                        Milan\n",
       "1090                          NaN\n",
       "1091                          NaN\n",
       "1092                          NaN\n",
       "1093             Cologno Al Serio\n",
       "1094                        Milan\n",
       "1095                       Naples\n",
       "1096                  Battipaglia\n",
       "1097                        Milan\n",
       "1098                          Kln\n",
       "1099                       Binago\n",
       "1100                        Milan\n",
       "1101                        Milan\n",
       "1102                          NaN\n",
       "1103                      Trieste\n",
       "1104                        Terni\n",
       "1105                          NaN\n",
       "1106                        Milan\n",
       "1107                San Francisco\n",
       "1108                San Francisco\n",
       "1109                San Francisco\n",
       "1110                San Francisco\n",
       "1111                San Francisco\n",
       "1112                San Francisco\n",
       "1113                San Francisco\n",
       "1114                San Francisco\n",
       "1115                San Francisco\n",
       "1116                         Asti\n",
       "1117                          NaN\n",
       "1118                          NaN\n",
       "1119                          NaN\n",
       "1120                     Florence\n",
       "1121              Bagnara Calabra\n",
       "1122                         Rome\n",
       "1123                          NaN\n",
       "1124                San Francisco\n",
       "1125                San Francisco\n",
       "1126                San Francisco\n",
       "1127                          NaN\n",
       "1128                          NaN\n",
       "1129                        Milan\n",
       "1130             Torre Annunziata\n",
       "1131                   Caravaggio\n",
       "1132                        Milan\n",
       "1133                          NaN\n",
       "1134                     Massafra\n",
       "1135                       Pesaro\n",
       "1136                         Rome\n",
       "1137                        Milan\n",
       "1138                       Ancona\n",
       "1139                     Florence\n",
       "1140                          NaN\n",
       "1141                        Milan\n",
       "1142                          NaN\n",
       "1143           Padenghe Sul Garda\n",
       "1144                      Bologna\n",
       "1145                        Massa\n",
       "1146                      Gambara\n",
       "1147             Casalpusterlengo\n",
       "1148                       Arluno\n",
       "1149                        Milan\n",
       "1150                        Parma\n",
       "1151                        Milan\n",
       "1152                      Palermo\n",
       "1153                        Milan\n",
       "1154                San Francisco\n",
       "1155                     San Jose\n",
       "1156                       Naples\n",
       "1157                 Castel Mella\n",
       "1158                          NaN\n",
       "1159                          NaN\n",
       "1160                        Milan\n",
       "1161                          NaN\n",
       "1162            Palma De Mallorca\n",
       "Name: cty, Length: 1163, dtype: object"
      ]
     },
     "execution_count": 214,
     "metadata": {},
     "output_type": "execute_result"
    }
   ],
   "source": [
    "def cty_parser(city):\n",
    "    if type(city) == float:\n",
    "        return city\n",
    "    else:\n",
    "        return city.encode('ascii', 'ignore').decode('ascii')\n",
    "data2_Diretta_Calcio['cty'].apply(cty_parser)"
   ]
  },
  {
   "cell_type": "code",
   "execution_count": 215,
   "metadata": {
    "collapsed": false
   },
   "outputs": [],
   "source": [
    "data2_Diretta_Calcio_expand = pd.concat([data2_Diretta_Calcio[['click']],pd.get_dummies(data2_Diretta_Calcio['br_short'], dummy_na=True, prefix='br'),\n",
    "                                         pd.get_dummies(data2_Diretta_Calcio['co'], dummy_na=True, prefix='co'),\n",
    "                                         pd.get_dummies(data2_Diretta_Calcio['cty'].apply(cty_parser), dummy_na=True, prefix='cty'),\n",
    "                                         pd.get_dummies(data2_Diretta_Calcio['rgn'], dummy_na=True, prefix='rgn'),\n",
    "                                         pd.get_dummies(data2_Diretta_Calcio['plfm'], dummy_na=True, prefix='plfm'),\n",
    "                                         pd.get_dummies(data2_Diretta_Calcio['pv'], dummy_na=True, prefix='pv'),\n",
    "                                         pd.get_dummies(data2_Diretta_Calcio['dt'], dummy_na=True, prefix='dt'),\n",
    "                                         pd.get_dummies(data2_Diretta_Calcio['isp'], dummy_na=True, prefix='isp'),\n",
    "                                         pd.get_dummies(data2_Diretta_Calcio['ad_type'], dummy_na=True, prefix='ad_type'),\n",
    "                                         data2_Diretta_Calcio[['ai','sdpt','day','time','ernc','dp']]],axis=1)"
   ]
  },
  {
   "cell_type": "code",
   "execution_count": 216,
   "metadata": {
    "collapsed": false
   },
   "outputs": [
    {
     "data": {
      "text/plain": [
       "(1163, 370)"
      ]
     },
     "execution_count": 216,
     "metadata": {},
     "output_type": "execute_result"
    }
   ],
   "source": [
    "data2_Diretta_Calcio_expand.shape"
   ]
  },
  {
   "cell_type": "code",
   "execution_count": 217,
   "metadata": {
    "collapsed": true
   },
   "outputs": [],
   "source": [
    "train_Diretta_Calcio_Ind = np.random.choice(data2_Diretta_Calcio.shape[0], size=800, replace=False)"
   ]
  },
  {
   "cell_type": "code",
   "execution_count": 218,
   "metadata": {
    "collapsed": false
   },
   "outputs": [],
   "source": [
    "train_Diretta_Calcio = data2_Diretta_Calcio_expand.loc[train_Diretta_Calcio_Ind,:]"
   ]
  },
  {
   "cell_type": "code",
   "execution_count": 219,
   "metadata": {
    "collapsed": false
   },
   "outputs": [
    {
     "data": {
      "text/plain": [
       "363"
      ]
     },
     "execution_count": 219,
     "metadata": {},
     "output_type": "execute_result"
    }
   ],
   "source": [
    "test_Diretta_Calcio_Ind = []\n",
    "for i in range(data2_Diretta_Calcio.shape[0]):\n",
    "    if not i in train_Diretta_Calcio_Ind:\n",
    "        test_Diretta_Calcio_Ind.append(i)\n",
    "len(test_Diretta_Calcio_Ind)"
   ]
  },
  {
   "cell_type": "code",
   "execution_count": 220,
   "metadata": {
    "collapsed": true
   },
   "outputs": [],
   "source": [
    "test_Diretta_Calcio = data2_Diretta_Calcio_expand.loc[test_Diretta_Calcio_Ind,:]"
   ]
  },
  {
   "cell_type": "code",
   "execution_count": 221,
   "metadata": {
    "collapsed": false
   },
   "outputs": [
    {
     "data": {
      "text/html": [
       "<div style=\"max-height:1000px;max-width:1500px;overflow:auto;\">\n",
       "<table border=\"1\" class=\"dataframe\">\n",
       "  <thead>\n",
       "    <tr style=\"text-align: right;\">\n",
       "      <th></th>\n",
       "      <th>click</th>\n",
       "      <th>br_Android</th>\n",
       "      <th>br_Chrome</th>\n",
       "      <th>br_Opera</th>\n",
       "      <th>br_Other</th>\n",
       "      <th>br_nan</th>\n",
       "      <th>co_BEL</th>\n",
       "      <th>co_CAN</th>\n",
       "      <th>co_DEU</th>\n",
       "      <th>co_ESP</th>\n",
       "      <th>co_FRA</th>\n",
       "      <th>co_GBR</th>\n",
       "      <th>co_ITA</th>\n",
       "      <th>co_MAR</th>\n",
       "      <th>co_NGA</th>\n",
       "      <th>co_SAU</th>\n",
       "      <th>co_USA</th>\n",
       "      <th>co_nan</th>\n",
       "      <th>cty_Acerra</th>\n",
       "      <th>cty_Adelfia</th>\n",
       "      <th>cty_Agropoli</th>\n",
       "      <th>cty_Albenga</th>\n",
       "      <th>cty_Albino</th>\n",
       "      <th>cty_Alessandria</th>\n",
       "      <th>cty_Alghero</th>\n",
       "      <th>cty_Almenno San Salvatore</th>\n",
       "      <th>cty_Altamura</th>\n",
       "      <th>cty_Alzano Lombardo</th>\n",
       "      <th>cty_Amelia</th>\n",
       "      <th>cty_Ancona</th>\n",
       "      <th></th>\n",
       "    </tr>\n",
       "  </thead>\n",
       "  <tbody>\n",
       "    <tr>\n",
       "      <th>7 </th>\n",
       "      <td> True</td>\n",
       "      <td> 0</td>\n",
       "      <td> 1</td>\n",
       "      <td> 0</td>\n",
       "      <td> 0</td>\n",
       "      <td> 0</td>\n",
       "      <td> 0</td>\n",
       "      <td> 0</td>\n",
       "      <td> 0</td>\n",
       "      <td> 0</td>\n",
       "      <td> 0</td>\n",
       "      <td> 0</td>\n",
       "      <td> 1</td>\n",
       "      <td> 0</td>\n",
       "      <td> 0</td>\n",
       "      <td> 0</td>\n",
       "      <td> 0</td>\n",
       "      <td> 0</td>\n",
       "      <td> 0</td>\n",
       "      <td> 0</td>\n",
       "      <td> 0</td>\n",
       "      <td> 0</td>\n",
       "      <td> 0</td>\n",
       "      <td> 0</td>\n",
       "      <td> 0</td>\n",
       "      <td> 0</td>\n",
       "      <td> 0</td>\n",
       "      <td> 0</td>\n",
       "      <td> 0</td>\n",
       "      <td> 0</td>\n",
       "      <td>...</td>\n",
       "    </tr>\n",
       "    <tr>\n",
       "      <th>8 </th>\n",
       "      <td> True</td>\n",
       "      <td> 0</td>\n",
       "      <td> 1</td>\n",
       "      <td> 0</td>\n",
       "      <td> 0</td>\n",
       "      <td> 0</td>\n",
       "      <td> 0</td>\n",
       "      <td> 0</td>\n",
       "      <td> 0</td>\n",
       "      <td> 0</td>\n",
       "      <td> 0</td>\n",
       "      <td> 0</td>\n",
       "      <td> 1</td>\n",
       "      <td> 0</td>\n",
       "      <td> 0</td>\n",
       "      <td> 0</td>\n",
       "      <td> 0</td>\n",
       "      <td> 0</td>\n",
       "      <td> 0</td>\n",
       "      <td> 0</td>\n",
       "      <td> 0</td>\n",
       "      <td> 0</td>\n",
       "      <td> 0</td>\n",
       "      <td> 0</td>\n",
       "      <td> 0</td>\n",
       "      <td> 0</td>\n",
       "      <td> 0</td>\n",
       "      <td> 0</td>\n",
       "      <td> 0</td>\n",
       "      <td> 0</td>\n",
       "      <td>...</td>\n",
       "    </tr>\n",
       "    <tr>\n",
       "      <th>16</th>\n",
       "      <td> True</td>\n",
       "      <td> 0</td>\n",
       "      <td> 1</td>\n",
       "      <td> 0</td>\n",
       "      <td> 0</td>\n",
       "      <td> 0</td>\n",
       "      <td> 0</td>\n",
       "      <td> 0</td>\n",
       "      <td> 0</td>\n",
       "      <td> 0</td>\n",
       "      <td> 0</td>\n",
       "      <td> 0</td>\n",
       "      <td> 1</td>\n",
       "      <td> 0</td>\n",
       "      <td> 0</td>\n",
       "      <td> 0</td>\n",
       "      <td> 0</td>\n",
       "      <td> 0</td>\n",
       "      <td> 0</td>\n",
       "      <td> 0</td>\n",
       "      <td> 0</td>\n",
       "      <td> 0</td>\n",
       "      <td> 0</td>\n",
       "      <td> 0</td>\n",
       "      <td> 0</td>\n",
       "      <td> 0</td>\n",
       "      <td> 0</td>\n",
       "      <td> 0</td>\n",
       "      <td> 0</td>\n",
       "      <td> 0</td>\n",
       "      <td>...</td>\n",
       "    </tr>\n",
       "    <tr>\n",
       "      <th></th>\n",
       "      <td>...</td>\n",
       "      <td>...</td>\n",
       "      <td>...</td>\n",
       "      <td>...</td>\n",
       "      <td>...</td>\n",
       "      <td>...</td>\n",
       "      <td>...</td>\n",
       "      <td>...</td>\n",
       "      <td>...</td>\n",
       "      <td>...</td>\n",
       "      <td>...</td>\n",
       "      <td>...</td>\n",
       "      <td>...</td>\n",
       "      <td>...</td>\n",
       "      <td>...</td>\n",
       "      <td>...</td>\n",
       "      <td>...</td>\n",
       "      <td>...</td>\n",
       "      <td>...</td>\n",
       "      <td>...</td>\n",
       "      <td>...</td>\n",
       "      <td>...</td>\n",
       "      <td>...</td>\n",
       "      <td>...</td>\n",
       "      <td>...</td>\n",
       "      <td>...</td>\n",
       "      <td>...</td>\n",
       "      <td>...</td>\n",
       "      <td>...</td>\n",
       "      <td>...</td>\n",
       "    </tr>\n",
       "  </tbody>\n",
       "</table>\n",
       "<p>363 rows × 370 columns</p>\n",
       "</div>"
      ],
      "text/plain": [
       "   click  br_Android  br_Chrome  br_Opera  br_Other  br_nan  co_BEL  co_CAN  \\\n",
       "7   True           0          1         0         0       0       0       0   \n",
       "8   True           0          1         0         0       0       0       0   \n",
       "16  True           0          1         0         0       0       0       0   \n",
       "     ...         ...        ...       ...       ...     ...     ...     ...   \n",
       "\n",
       "    co_DEU  co_ESP  co_FRA  co_GBR  co_ITA  co_MAR  co_NGA  co_SAU  co_USA  \\\n",
       "7        0       0       0       0       1       0       0       0       0   \n",
       "8        0       0       0       0       1       0       0       0       0   \n",
       "16       0       0       0       0       1       0       0       0       0   \n",
       "       ...     ...     ...     ...     ...     ...     ...     ...     ...   \n",
       "\n",
       "    co_nan  cty_Acerra  cty_Adelfia  cty_Agropoli  cty_Albenga  cty_Albino  \\\n",
       "7        0           0            0             0            0           0   \n",
       "8        0           0            0             0            0           0   \n",
       "16       0           0            0             0            0           0   \n",
       "       ...         ...          ...           ...          ...         ...   \n",
       "\n",
       "    cty_Alessandria  cty_Alghero  cty_Almenno San Salvatore  cty_Altamura  \\\n",
       "7                 0            0                          0             0   \n",
       "8                 0            0                          0             0   \n",
       "16                0            0                          0             0   \n",
       "                ...          ...                        ...           ...   \n",
       "\n",
       "    cty_Alzano Lombardo  cty_Amelia  cty_Ancona      \n",
       "7                     0           0           0 ...  \n",
       "8                     0           0           0 ...  \n",
       "16                    0           0           0 ...  \n",
       "                    ...         ...         ...      \n",
       "\n",
       "[363 rows x 370 columns]"
      ]
     },
     "execution_count": 221,
     "metadata": {},
     "output_type": "execute_result"
    }
   ],
   "source": [
    "test_Diretta_Calcio"
   ]
  },
  {
   "cell_type": "code",
   "execution_count": 222,
   "metadata": {
    "collapsed": true
   },
   "outputs": [],
   "source": [
    "train_Diretta_Calcio_data = train_Diretta_Calcio.values"
   ]
  },
  {
   "cell_type": "code",
   "execution_count": 223,
   "metadata": {
    "collapsed": true
   },
   "outputs": [],
   "source": [
    "forest = RandomForestClassifier(n_estimators = 100)"
   ]
  },
  {
   "cell_type": "code",
   "execution_count": 224,
   "metadata": {
    "collapsed": true
   },
   "outputs": [],
   "source": [
    "forest_Diretta_Calcio = forest.fit(train_Diretta_Calcio_data[0::,1::],train_Diretta_Calcio_data[0::,0])"
   ]
  },
  {
   "cell_type": "code",
   "execution_count": 225,
   "metadata": {
    "collapsed": true
   },
   "outputs": [],
   "source": [
    "test_Diretta_Calcio_data = test_Diretta_Calcio.values"
   ]
  },
  {
   "cell_type": "code",
   "execution_count": 226,
   "metadata": {
    "collapsed": true
   },
   "outputs": [],
   "source": [
    "predict_Diretta_Calcio = forest.predict(test_Diretta_Calcio_data[0::,1::])"
   ]
  },
  {
   "cell_type": "code",
   "execution_count": 227,
   "metadata": {
    "collapsed": false
   },
   "outputs": [
    {
     "name": "stdout",
     "output_type": "stream",
     "text": [
      "accuracy:95.87\n",
      "precision:95.43\n",
      "recall:96.91\n",
      "F1 score:0.96\n"
     ]
    }
   ],
   "source": [
    "def error_analysis(predict, reality):\n",
    "    accuracy = float(np.sum(predict == reality))/len(reality) * 100\n",
    "    precision = float(np.sum((reality == 1)*(reality == predict)))/np.sum(predict == 1) * 100\n",
    "    recall = float(np.sum((reality == 1)*(reality == predict)))/np.sum(reality == 1) * 100\n",
    "    f1score = 2*precision*recall/(precision + recall)/100\n",
    "    print 'accuracy:%.2f\\nprecision:%.2f\\nrecall:%.2f\\nF1 score:%.2f' % (accuracy, precision, recall, f1score)\n",
    "error_analysis(predict_Diretta_Calcio, test_Diretta_Calcio_data[0::,0])"
   ]
  },
  {
   "cell_type": "code",
   "execution_count": 228,
   "metadata": {
    "collapsed": false
   },
   "outputs": [],
   "source": [
    "predict_Diretta_Calcio_train = forest.predict(train_Diretta_Calcio_data[0::,1::])"
   ]
  },
  {
   "cell_type": "code",
   "execution_count": 229,
   "metadata": {
    "collapsed": false
   },
   "outputs": [
    {
     "name": "stdout",
     "output_type": "stream",
     "text": [
      "accuracy:99.88\n",
      "precision:100.00\n",
      "recall:99.79\n",
      "F1 score:1.00\n"
     ]
    }
   ],
   "source": [
    "error_analysis(predict_Diretta_Calcio_train, train_Diretta_Calcio_data[0::,0])"
   ]
  },
  {
   "cell_type": "markdown",
   "metadata": {},
   "source": [
    "# Feature importance for Diretta Calcio"
   ]
  },
  {
   "cell_type": "code",
   "execution_count": 230,
   "metadata": {
    "collapsed": false
   },
   "outputs": [],
   "source": [
    "importances_Diretta_Calcio = forest_Diretta_Calcio.feature_importances_\n",
    "std_Diretta_Calcio = np.std([tree.feature_importances_ for tree in forest_Diretta_Calcio.estimators_],axis=0)\n",
    "indices_Diretta_Calcio = np.argsort(importances_Diretta_Calcio)[::-1]"
   ]
  },
  {
   "cell_type": "code",
   "execution_count": 231,
   "metadata": {
    "collapsed": false
   },
   "outputs": [
    {
     "data": {
      "image/png": "[encoded data removed]",
      "text/plain": [
       "<matplotlib.figure.Figure at 0x7fb9aad0d810>"
      ]
     },
     "metadata": {},
     "output_type": "display_data"
    }
   ],
   "source": [
    "plt.figure()\n",
    "plt.title(\"Feature importances\")\n",
    "plt.bar(range(len(importances_Diretta_Calcio)), importances_Diretta_Calcio[indices_Diretta_Calcio],\n",
    "       color=\"r\", yerr=std_Diretta_Calcio[indices_Diretta_Calcio], align=\"center\")\n",
    "plt.xticks(range(len(importances_Diretta_Calcio)), train_Diretta_Calcio.columns[1:][indices_Diretta_Calcio],\n",
    "           rotation='vertical')\n",
    "plt.xlim([-1, 10])\n",
    "plt.show()"
   ]
  },
  {
   "cell_type": "code",
   "execution_count": 232,
   "metadata": {
    "collapsed": false
   },
   "outputs": [
    {
     "data": {
      "image/png": "[encoded data removed]",
      "text/plain": [
       "<matplotlib.figure.Figure at 0x7fb9ac523810>"
      ]
     },
     "metadata": {},
     "output_type": "display_data"
    }
   ],
   "source": [
    "plt.figure()\n",
    "plt.title(\"Feature importances\")\n",
    "plt.bar(range(len(importances_Diretta_Calcio)), importances_Diretta_Calcio[indices_Diretta_Calcio],color=\"b\")\n",
    "plt.xticks(range(len(importances_Diretta_Calcio)), train_Diretta_Calcio.columns[1:][indices_Diretta_Calcio],\n",
    "           rotation='vertical')\n",
    "plt.xlim([-1, 25])\n",
    "plt.ylim([0, 0.22])\n",
    "plt.savefig(\"../fig/20150614_RF_feature_top_25_Diretta_Calcio.png\",format='png')"
   ]
  },
  {
   "cell_type": "markdown",
   "metadata": {},
   "source": [
    "^browser type plays essential role!"
   ]
  },
  {
   "cell_type": "code",
   "execution_count": 233,
   "metadata": {
    "collapsed": true
   },
   "outputs": [],
   "source": [
    "features_Diretta_Calcio = pd.DataFrame({'feature': train_Diretta_Calcio.columns.values[1:],\n",
    "                                        'importance': importances_Diretta_Calcio,\n",
    "                                        'type': [x.split('_')[0] for x in train_Diretta_Calcio.columns.values[1:]]},\n",
    "                                       index = range(len(importances_Diretta_Calcio)))"
   ]
  },
  {
   "cell_type": "code",
   "execution_count": 234,
   "metadata": {
    "collapsed": false
   },
   "outputs": [
    {
     "data": {
      "image/png": "[encoded data removed]",
      "text/plain": [
       "<matplotlib.figure.Figure at 0x7fb9a760d110>"
      ]
     },
     "metadata": {},
     "output_type": "display_data"
    }
   ],
   "source": [
    "p = features_Diretta_Calcio[['type',\n",
    "                             'importance']].groupby('type').sum().sort('importance',\n",
    "                                                                       ascending = 0).plot(kind='bar',\n",
    "                                                                                           color='orange')\n",
    "fig = p.get_figure()\n",
    "fig.savefig('../fig/20150614_RF_feature_sum_Diretta_Calcio.png',format='png')"
   ]
  },
  {
   "cell_type": "code",
   "execution_count": 235,
   "metadata": {
    "collapsed": false
   },
   "outputs": [
    {
     "data": {
      "text/plain": [
       "0.5752364574376613"
      ]
     },
     "execution_count": 235,
     "metadata": {},
     "output_type": "execute_result"
    }
   ],
   "source": [
    "rate_Diretta_Calcio = float(data2_Diretta_Calcio.click.sum())/data2_Diretta_Calcio.shape[0]\n",
    "rate_Diretta_Calcio"
   ]
  },
  {
   "cell_type": "code",
   "execution_count": 236,
   "metadata": {
    "collapsed": false
   },
   "outputs": [
    {
     "data": {
      "text/plain": [
       "br_short\n",
       "Opera       0.798603\n",
       "Chrome      0.798603\n",
       "Other      -0.200568\n",
       "...\n",
       "Opera       0.798603\n",
       "Chrome      0.798603\n",
       "Other      -0.200568\n",
       "Android    -1.530531\n",
       "Length: 4, dtype: float64"
      ]
     },
     "execution_count": 236,
     "metadata": {},
     "output_type": "execute_result"
    }
   ],
   "source": [
    "br_ctr_Diretta_Calcio = data2_Diretta_Calcio.groupby('br_short').apply(lambda x:float(x.click.sum())/x.shape[0]/rate_Diretta_Calcio).apply(lambda x: np.log2(x+0.001))\n",
    "br_ctr_Diretta_Calcio.sort(ascending = False)\n",
    "br_ctr_Diretta_Calcio"
   ]
  },
  {
   "cell_type": "code",
   "execution_count": 237,
   "metadata": {
    "collapsed": false
   },
   "outputs": [
    {
     "data": {
      "image/png": "[encoded data removed]",
      "text/plain": [
       "<matplotlib.figure.Figure at 0x7fb99f2ed410>"
      ]
     },
     "metadata": {},
     "output_type": "display_data"
    }
   ],
   "source": [
    "plt.figure(figsize=(10,6))\n",
    "p = br_ctr_Diretta_Calcio.plot(kind='bar',color='r')\n",
    "p.set_ylabel('log2 (relative click-through-rate)', fontsize=25)\n",
    "plt.setp(p.get_xticklabels(), rotation='horizontal', fontsize=25)\n",
    "plt.setp(p.get_yticklabels(), fontsize=24)\n",
    "fig = p.get_figure()\n",
    "fig.savefig('../fig/20150614_CTR_by_br_sort_Diretta_Calcio.png',format='png')"
   ]
  },
  {
   "cell_type": "markdown",
   "metadata": {},
   "source": [
    "Although Android wins overall, it shows opposite trend for this specific app - interesting..."
   ]
  },
  {
   "cell_type": "code",
   "execution_count": 238,
   "metadata": {
    "collapsed": false
   },
   "outputs": [
    {
     "data": {
      "image/png": "[encoded data removed]",
      "text/plain": [
       "<matplotlib.figure.Figure at 0x7fb9abdd5590>"
      ]
     },
     "metadata": {},
     "output_type": "display_data"
    }
   ],
   "source": [
    "br_counts_Diretta_Calcio = data2_Diretta_Calcio['br_short'].value_counts()\n",
    "plt.figure(figsize=(10,6))\n",
    "p = np.log10(br_counts_Diretta_Calcio[br_counts_Diretta_Calcio.index]).plot(kind='bar',color='b')\n",
    "p.set_ylabel('log10 (events per browser type)', fontsize=25)\n",
    "plt.setp(p.get_xticklabels(), rotation='horizontal', fontsize=25)\n",
    "plt.setp(p.get_yticklabels(), fontsize=24)\n",
    "#plt.gca().invert_yaxis()\n",
    "fig = p.get_figure()\n",
    "fig.savefig('../fig/20150614_et_by_br_sort_Diretta_Calcio.png',format='png')"
   ]
  },
  {
   "cell_type": "markdown",
   "metadata": {},
   "source": [
    "Not many cases in Opera. Chrome beats Android here."
   ]
  },
  {
   "cell_type": "markdown",
   "metadata": {},
   "source": [
    "Just want to confirm a bit:"
   ]
  },
  {
   "cell_type": "code",
   "execution_count": 239,
   "metadata": {
    "collapsed": false
   },
   "outputs": [
    {
     "data": {
      "text/plain": [
       "False    440\n",
       "True     109\n",
       "dtype: int64"
      ]
     },
     "execution_count": 239,
     "metadata": {},
     "output_type": "execute_result"
    }
   ],
   "source": [
    "data2_Diretta_Calcio['click'][data2_Diretta_Calcio['br_short'] == 'Android'].value_counts()"
   ]
  },
  {
   "cell_type": "code",
   "execution_count": 240,
   "metadata": {
    "collapsed": false
   },
   "outputs": [
    {
     "data": {
      "text/plain": [
       "ITA    1128\n",
       "USA      18\n",
       "GBR       5\n",
       "BEL       3\n",
       "DEU       3\n",
       "MAR       1\n",
       "ESP       1\n",
       "FRA       1\n",
       "SAU       1\n",
       "CAN       1\n",
       "...\n",
       "ITA    1128\n",
       "USA      18\n",
       "GBR       5\n",
       "BEL       3\n",
       "DEU       3\n",
       "MAR       1\n",
       "ESP       1\n",
       "FRA       1\n",
       "SAU       1\n",
       "CAN       1\n",
       "NGA       1\n",
       "Length: 11, dtype: int64"
      ]
     },
     "execution_count": 240,
     "metadata": {},
     "output_type": "execute_result"
    }
   ],
   "source": [
    "data2_Diretta_Calcio['co'].value_counts()"
   ]
  },
  {
   "cell_type": "markdown",
   "metadata": {},
   "source": [
    "It's dominate Italy - that's why ITA associated with higher CTR?"
   ]
  },
  {
   "cell_type": "code",
   "execution_count": 241,
   "metadata": {
    "collapsed": false
   },
   "outputs": [
    {
     "data": {
      "text/plain": [
       "<matplotlib.axes._subplots.AxesSubplot at 0x7fb9abd20c50>"
      ]
     },
     "execution_count": 241,
     "metadata": {},
     "output_type": "execute_result"
    },
    {
     "data": {
      "image/png": "[encoded data removed]",
      "text/plain": [
       "<matplotlib.figure.Figure at 0x7fb9abdd5350>"
      ]
     },
     "metadata": {},
     "output_type": "display_data"
    }
   ],
   "source": [
    "data2_Diretta_Calcio.groupby('day').apply(lambda x:float(x.click.sum())/x.shape[0]/rate_Diretta_Calcio).apply(lambda x: np.log2(x+0.001)).sort_index().plot(xlim=(0,31))"
   ]
  },
  {
   "cell_type": "code",
   "execution_count": 242,
   "metadata": {
    "collapsed": false
   },
   "outputs": [
    {
     "data": {
      "text/plain": [
       "<matplotlib.axes._subplots.AxesSubplot at 0x7fb9abc25150>"
      ]
     },
     "execution_count": 242,
     "metadata": {},
     "output_type": "execute_result"
    },
    {
     "data": {
      "image/png": "[encoded data removed]",
      "text/plain": [
       "<matplotlib.figure.Figure at 0x7fb9abde1590>"
      ]
     },
     "metadata": {},
     "output_type": "display_data"
    }
   ],
   "source": [
    "data2_Diretta_Calcio['day'].value_counts().sort_index().plot(color=\"b\",xlim=(0,31))"
   ]
  },
  {
   "cell_type": "markdown",
   "metadata": {},
   "source": [
    "The date of each month is not important for CTR"
   ]
  },
  {
   "cell_type": "code",
   "execution_count": 243,
   "metadata": {
    "collapsed": false
   },
   "outputs": [
    {
     "data": {
      "text/plain": [
       "<matplotlib.axes._subplots.AxesSubplot at 0x7fb9abae8210>"
      ]
     },
     "execution_count": 243,
     "metadata": {},
     "output_type": "execute_result"
    },
    {
     "data": {
      "image/png": "[encoded data removed]",
      "text/plain": [
       "<matplotlib.figure.Figure at 0x7fb9aba71310>"
      ]
     },
     "metadata": {},
     "output_type": "display_data"
    }
   ],
   "source": [
    "data2_Diretta_Calcio.groupby('time').apply(lambda x:float(x.click.sum())/x.shape[0]/rate_Diretta_Calcio).apply(lambda x: np.log2(x+0.001)).sort_index().plot(xlim=(0,24))"
   ]
  },
  {
   "cell_type": "code",
   "execution_count": 244,
   "metadata": {
    "collapsed": false
   },
   "outputs": [
    {
     "data": {
      "text/plain": [
       "<matplotlib.axes._subplots.AxesSubplot at 0x7fb9ab9b4810>"
      ]
     },
     "execution_count": 244,
     "metadata": {},
     "output_type": "execute_result"
    },
    {
     "data": {
      "image/png": "[encoded data removed]",
      "text/plain": [
       "<matplotlib.figure.Figure at 0x7fb9aba4d590>"
      ]
     },
     "metadata": {},
     "output_type": "display_data"
    }
   ],
   "source": [
    "data2_Diretta_Calcio['time'].value_counts().sort_index().plot(color=\"b\",xlim=(0,24))"
   ]
  },
  {
   "cell_type": "markdown",
   "metadata": {},
   "source": [
    "More ads should be released at 6am-1pm (morning) or around midnight? - or anti-correlated?"
   ]
  },
  {
   "cell_type": "code",
   "execution_count": 245,
   "metadata": {
    "collapsed": false
   },
   "outputs": [
    {
     "data": {
      "text/plain": [
       "<matplotlib.axes._subplots.AxesSubplot at 0x7fb9aba4d550>"
      ]
     },
     "execution_count": 245,
     "metadata": {},
     "output_type": "execute_result"
    },
    {
     "data": {
      "image/png": "[encoded data removed]",
      "text/plain": [
       "<matplotlib.figure.Figure at 0x7fb9ab999b50>"
      ]
     },
     "metadata": {},
     "output_type": "display_data"
    }
   ],
   "source": [
    "data2_Diretta_Calcio.groupby('ad_type').apply(lambda x:float(x.click.sum())/x.shape[0]/rate_Diretta_Calcio).apply(lambda x: np.log2(x+0.001)).sort_index().plot(kind='bar',rot='horizontal',fontsize=20, title='relative CTR for DC')"
   ]
  },
  {
   "cell_type": "code",
   "execution_count": 246,
   "metadata": {
    "collapsed": false
   },
   "outputs": [
    {
     "data": {
      "text/plain": [
       "<matplotlib.axes._subplots.AxesSubplot at 0x7fb9ab891ed0>"
      ]
     },
     "execution_count": 246,
     "metadata": {},
     "output_type": "execute_result"
    },
    {
     "data": {
      "image/png": "[encoded data removed]",
      "text/plain": [
       "<matplotlib.figure.Figure at 0x7fb9ab990b50>"
      ]
     },
     "metadata": {},
     "output_type": "display_data"
    }
   ],
   "source": [
    "data2_Diretta_Calcio['ad_type'].value_counts().plot(kind='bar',rot='horizontal',fontsize=20,color=\"b\")"
   ]
  },
  {
   "cell_type": "code",
   "execution_count": 247,
   "metadata": {
    "collapsed": true
   },
   "outputs": [],
   "source": [
    "breaks = range(0,120,2)\n",
    "sdpt_ctr_Diretta_Calcio = []\n",
    "for i in breaks:\n",
    "    sdpt_ctr_Diretta_Calcio.append(float(data2_Diretta_Calcio[data2_Diretta_Calcio['sdpt'].apply(lambda x:x < i)].click.sum())/(data2_Diretta_Calcio[data2_Diretta_Calcio['sdpt'].apply(lambda x:x < i)].shape[0] + 0.001))"
   ]
  },
  {
   "cell_type": "code",
   "execution_count": 248,
   "metadata": {
    "collapsed": false
   },
   "outputs": [
    {
     "data": {
      "text/plain": [
       "[<matplotlib.lines.Line2D at 0x7fb9abe22450>]"
      ]
     },
     "execution_count": 248,
     "metadata": {},
     "output_type": "execute_result"
    },
    {
     "data": {
      "image/png": "[encoded data removed]",
      "text/plain": [
       "<matplotlib.figure.Figure at 0x7fb9abd49950>"
      ]
     },
     "metadata": {},
     "output_type": "display_data"
    }
   ],
   "source": [
    "plt.plot(breaks, sdpt_ctr_Diretta_Calcio, 'ro-')"
   ]
  },
  {
   "cell_type": "code",
   "execution_count": 249,
   "metadata": {
    "collapsed": false
   },
   "outputs": [
    {
     "data": {
      "text/plain": [
       "[<matplotlib.lines.Line2D at 0x7fb9a726ce90>]"
      ]
     },
     "execution_count": 249,
     "metadata": {},
     "output_type": "execute_result"
    },
    {
     "data": {
      "image/png": "[encoded data removed]",
      "text/plain": [
       "<matplotlib.figure.Figure at 0x7fb9a4100810>"
      ]
     },
     "metadata": {},
     "output_type": "display_data"
    }
   ],
   "source": [
    "step = 10\n",
    "breaks = range(0,120,step)\n",
    "sdpt_ctr_Diretta_Calcio = []\n",
    "for i in breaks:\n",
    "    sdpt_ctr_Diretta_Calcio.append(float(data2_Diretta_Calcio[data2_Diretta_Calcio['sdpt'].apply(lambda x:(x >= i and x < i + step))].click.sum())/(data2_Diretta_Calcio[data2_Diretta_Calcio['sdpt'].apply(lambda x:(x >= i and x < i + step))].shape[0] + 0.001))\n",
    "plt.plot(breaks, sdpt_ctr_Diretta_Calcio, 'ro-')"
   ]
  },
  {
   "cell_type": "code",
   "execution_count": 250,
   "metadata": {
    "collapsed": false
   },
   "outputs": [
    {
     "data": {
      "text/plain": [
       "[<matplotlib.lines.Line2D at 0x7fb9a71c4b10>]"
      ]
     },
     "execution_count": 250,
     "metadata": {},
     "output_type": "execute_result"
    },
    {
     "data": {
      "image/png": "[encoded data removed]",
      "text/plain": [
       "<matplotlib.figure.Figure at 0x7fb9abab4190>"
      ]
     },
     "metadata": {},
     "output_type": "display_data"
    }
   ],
   "source": [
    "step1 = 4\n",
    "step2 = 20\n",
    "breaks1 = range(0,20,step1)\n",
    "breaks2 = range(20,120,step2)\n",
    "sdpt_ctr_Diretta_Calcio = []\n",
    "for i in breaks1:\n",
    "    sdpt_ctr_Diretta_Calcio.append(float(data2_Diretta_Calcio[data2_Diretta_Calcio['sdpt'].apply(lambda x:(x >= i and x < i + step1))].click.sum())/(data2_Diretta_Calcio[data2_Diretta_Calcio['sdpt'].apply(lambda x:(x >= i and x < i + step1))].shape[0] + 0.001))\n",
    "for i in breaks2:\n",
    "    sdpt_ctr_Diretta_Calcio.append(float(data2_Diretta_Calcio[data2_Diretta_Calcio['sdpt'].apply(lambda x:(x >= i and x < i + step2))].click.sum())/(data2_Diretta_Calcio[data2_Diretta_Calcio['sdpt'].apply(lambda x:(x >= i and x < i + step2))].shape[0] + 0.001))\n",
    "breaks = breaks1 + breaks2\n",
    "plt.plot(breaks, sdpt_ctr_Diretta_Calcio, 'ro-')"
   ]
  },
  {
   "cell_type": "code",
   "execution_count": 251,
   "metadata": {
    "collapsed": false
   },
   "outputs": [
    {
     "data": {
      "text/plain": [
       "<matplotlib.axes._subplots.AxesSubplot at 0x7fb9ab8dae50>"
      ]
     },
     "execution_count": 251,
     "metadata": {},
     "output_type": "execute_result"
    },
    {
     "data": {
      "image/png": "[encoded data removed]",
      "text/plain": [
       "<matplotlib.figure.Figure at 0x7fb9abb81ad0>"
      ]
     },
     "metadata": {},
     "output_type": "display_data"
    }
   ],
   "source": [
    "data2_Diretta_Calcio['sdpt'].hist(color=\"b\")"
   ]
  },
  {
   "cell_type": "code",
   "execution_count": 370,
   "metadata": {
    "collapsed": false
   },
   "outputs": [
    {
     "data": {
      "text/plain": [
       "android    1049\n",
       "dtype: int64"
      ]
     },
     "execution_count": 370,
     "metadata": {},
     "output_type": "execute_result"
    }
   ],
   "source": [
    "data2[data2['ai'] == 67]['plfm'].value_counts()"
   ]
  },
  {
   "cell_type": "code",
   "execution_count": 371,
   "metadata": {
    "collapsed": false
   },
   "outputs": [
    {
     "data": {
      "text/plain": [
       "Series([], dtype: int64)"
      ]
     },
     "execution_count": 371,
     "metadata": {},
     "output_type": "execute_result"
    }
   ],
   "source": [
    "data2[data2['ai'] == 68]['plfm'].value_counts()"
   ]
  },
  {
   "cell_type": "markdown",
   "metadata": {},
   "source": [
    "There's no obvious \"trend\" for sdpt here"
   ]
  },
  {
   "cell_type": "markdown",
   "metadata": {},
   "source": [
    "#Machine learning for Team Manchester"
   ]
  },
  {
   "cell_type": "code",
   "execution_count": 252,
   "metadata": {
    "collapsed": true
   },
   "outputs": [],
   "source": [
    "data2_Team_Manchester.index = range(data2_Team_Manchester.shape[0])"
   ]
  },
  {
   "cell_type": "code",
   "execution_count": 253,
   "metadata": {
    "collapsed": true
   },
   "outputs": [],
   "source": [
    "data2_Team_Manchester_expand = pd.concat([data2_Team_Manchester[['click']],\n",
    "                                         pd.get_dummies(data2_Team_Manchester['br_short'], dummy_na=True, prefix='br'),\n",
    "                                         pd.get_dummies(data2_Team_Manchester['co'], dummy_na=True, prefix='co'),\n",
    "                                         pd.get_dummies(data2_Team_Manchester['cty'].apply(cty_parser), dummy_na=True, prefix='cty'),\n",
    "                                         pd.get_dummies(data2_Team_Manchester['rgn'], dummy_na=True, prefix='rgn'),\n",
    "                                         pd.get_dummies(data2_Team_Manchester['plfm'], dummy_na=True, prefix='plfm'),\n",
    "                                         pd.get_dummies(data2_Team_Manchester['pv'], dummy_na=True, prefix='pv'),\n",
    "                                         pd.get_dummies(data2_Team_Manchester['dt'], dummy_na=True, prefix='dt'),\n",
    "                                         pd.get_dummies(data2_Team_Manchester['isp'], dummy_na=True, prefix='isp'),\n",
    "                                         pd.get_dummies(data2_Team_Manchester['ad_type'], dummy_na=True, prefix='ad_type'),\n",
    "                                         data2_Team_Manchester[['ai','sdpt','day','time','ernc','dp']]],axis=1)"
   ]
  },
  {
   "cell_type": "code",
   "execution_count": 254,
   "metadata": {
    "collapsed": false
   },
   "outputs": [
    {
     "data": {
      "text/plain": [
       "(2584, 1504)"
      ]
     },
     "execution_count": 254,
     "metadata": {},
     "output_type": "execute_result"
    }
   ],
   "source": [
    "data2_Team_Manchester_expand.shape"
   ]
  },
  {
   "cell_type": "code",
   "execution_count": 255,
   "metadata": {
    "collapsed": false
   },
   "outputs": [
    {
     "data": {
      "text/plain": [
       "1808.8"
      ]
     },
     "execution_count": 255,
     "metadata": {},
     "output_type": "execute_result"
    }
   ],
   "source": [
    "2584.0 * 0.7"
   ]
  },
  {
   "cell_type": "code",
   "execution_count": 256,
   "metadata": {
    "collapsed": true
   },
   "outputs": [],
   "source": [
    "train_Team_Manchester_Ind = np.random.choice(data2_Team_Manchester.shape[0], size=1800, replace=False)"
   ]
  },
  {
   "cell_type": "code",
   "execution_count": 257,
   "metadata": {
    "collapsed": false
   },
   "outputs": [
    {
     "data": {
      "text/plain": [
       "784"
      ]
     },
     "execution_count": 257,
     "metadata": {},
     "output_type": "execute_result"
    }
   ],
   "source": [
    "test_Team_Manchester_Ind = []\n",
    "for i in range(data2_Team_Manchester.shape[0]):\n",
    "    if not i in train_Team_Manchester_Ind:\n",
    "        test_Team_Manchester_Ind.append(i)\n",
    "len(test_Team_Manchester_Ind)"
   ]
  },
  {
   "cell_type": "code",
   "execution_count": 258,
   "metadata": {
    "collapsed": true
   },
   "outputs": [],
   "source": [
    "train_Team_Manchester = data2_Team_Manchester_expand.loc[train_Team_Manchester_Ind,:]\n",
    "test_Team_Manchester = data2_Team_Manchester_expand.loc[test_Team_Manchester_Ind,:]"
   ]
  },
  {
   "cell_type": "code",
   "execution_count": 259,
   "metadata": {
    "collapsed": true
   },
   "outputs": [],
   "source": [
    "train_Team_Manchester_data = train_Team_Manchester.values\n",
    "test_Team_Manchester_data = test_Team_Manchester.values"
   ]
  },
  {
   "cell_type": "code",
   "execution_count": 260,
   "metadata": {
    "collapsed": true
   },
   "outputs": [],
   "source": [
    "forest = RandomForestClassifier(n_estimators = 100)\n",
    "forest_Team_Manchester = forest.fit(train_Team_Manchester_data[0::,1::],train_Team_Manchester_data[0::,0])\n",
    "predict_Team_Manchester_train = forest.predict(train_Team_Manchester_data[0::,1::])\n",
    "predict_Team_Manchester_test = forest.predict(test_Team_Manchester_data[0::,1::])"
   ]
  },
  {
   "cell_type": "code",
   "execution_count": 261,
   "metadata": {
    "collapsed": false
   },
   "outputs": [
    {
     "name": "stdout",
     "output_type": "stream",
     "text": [
      "accuracy:100.00\n",
      "precision:100.00\n",
      "recall:100.00\n",
      "F1 score:1.00\n"
     ]
    }
   ],
   "source": [
    "error_analysis(predict_Team_Manchester_train, train_Team_Manchester_data[0::,0])"
   ]
  },
  {
   "cell_type": "code",
   "execution_count": 262,
   "metadata": {
    "collapsed": false
   },
   "outputs": [
    {
     "name": "stdout",
     "output_type": "stream",
     "text": [
      "accuracy:90.69\n",
      "precision:91.78\n",
      "recall:50.00\n",
      "F1 score:0.65\n"
     ]
    }
   ],
   "source": [
    "error_analysis(predict_Team_Manchester_test, test_Team_Manchester_data[0::,0])"
   ]
  },
  {
   "cell_type": "markdown",
   "metadata": {},
   "source": [
    "#Feature importance for Team Manchester"
   ]
  },
  {
   "cell_type": "code",
   "execution_count": 263,
   "metadata": {
    "collapsed": true
   },
   "outputs": [],
   "source": [
    "importances_Team_Manchester = forest_Team_Manchester.feature_importances_\n",
    "std_Team_Manchester = np.std([tree.feature_importances_ for tree in forest_Team_Manchester.estimators_],axis=0)\n",
    "indices_Team_Manchester = np.argsort(importances_Team_Manchester)[::-1]"
   ]
  },
  {
   "cell_type": "code",
   "execution_count": 264,
   "metadata": {
    "collapsed": false
   },
   "outputs": [
    {
     "data": {
      "image/png": "[encoded data removed]",
      "text/plain": [
       "<matplotlib.figure.Figure at 0x7fb9a724a390>"
      ]
     },
     "metadata": {},
     "output_type": "display_data"
    }
   ],
   "source": [
    "plt.figure()\n",
    "plt.title(\"Feature importances\")\n",
    "plt.bar(range(len(importances_Team_Manchester)), importances_Team_Manchester[indices_Team_Manchester],\n",
    "       color=\"r\", yerr=std_Team_Manchester[indices_Team_Manchester], align=\"center\")\n",
    "plt.xticks(range(len(importances_Team_Manchester)), train_Team_Manchester.columns[1:][indices_Team_Manchester],\n",
    "           rotation='vertical')\n",
    "plt.xlim([-1, 10])\n",
    "plt.show()"
   ]
  },
  {
   "cell_type": "code",
   "execution_count": 265,
   "metadata": {
    "collapsed": false
   },
   "outputs": [
    {
     "data": {
      "image/png": "[encoded data removed]",
      "text/plain": [
       "<matplotlib.figure.Figure at 0x7fb9943d5750>"
      ]
     },
     "metadata": {},
     "output_type": "display_data"
    }
   ],
   "source": [
    "plt.figure()\n",
    "plt.title(\"Feature importances\")\n",
    "plt.bar(range(len(importances_Team_Manchester)), importances_Team_Manchester[indices_Team_Manchester],color=\"b\")\n",
    "plt.xticks(range(len(importances_Team_Manchester)), train_Team_Manchester.columns[1:][indices_Team_Manchester],\n",
    "           rotation='vertical')\n",
    "plt.xlim([-1, 25])\n",
    "plt.ylim([0, 0.18])\n",
    "plt.savefig(\"../fig/20150614_RF_feature_top_25_Team_Manchester.png\",format='png')"
   ]
  },
  {
   "cell_type": "code",
   "execution_count": 266,
   "metadata": {
    "collapsed": true
   },
   "outputs": [],
   "source": [
    "features_Team_Manchester = pd.DataFrame({'feature': train_Team_Manchester.columns.values[1:],\n",
    "                                    'importance': importances_Team_Manchester,\n",
    "                                    'type': [x.split('_')[0] for x in train_Team_Manchester.columns.values[1:]]},\n",
    "                                    index = range(len(importances_Team_Manchester)))"
   ]
  },
  {
   "cell_type": "code",
   "execution_count": 267,
   "metadata": {
    "collapsed": false
   },
   "outputs": [
    {
     "data": {
      "image/png": "[encoded data removed]",
      "text/plain": [
       "<matplotlib.figure.Figure at 0x7fb9a753c390>"
      ]
     },
     "metadata": {},
     "output_type": "display_data"
    }
   ],
   "source": [
    "p = features_Team_Manchester[['type',\n",
    "                             'importance']].groupby('type').sum().sort('importance',\n",
    "                                                                       ascending = 0).plot(kind='bar',\n",
    "                                                                                           color='orange',\n",
    "                                                                                          title='Team Manchester')\n",
    "fig = p.get_figure()\n",
    "fig.savefig('../fig/20150614_RF_feature_sum_Team_Manchester.png',format='png')"
   ]
  },
  {
   "cell_type": "code",
   "execution_count": 268,
   "metadata": {
    "collapsed": false
   },
   "outputs": [
    {
     "data": {
      "text/plain": [
       "Other       2583\n",
       "Internet       1\n",
       "dtype: int64"
      ]
     },
     "execution_count": 268,
     "metadata": {},
     "output_type": "execute_result"
    }
   ],
   "source": [
    "data2_Team_Manchester['br_short'].value_counts()"
   ]
  },
  {
   "cell_type": "markdown",
   "metadata": {},
   "source": [
    "\"browser\" is not informative for the case here. Geo, time, and other features seem to be more important."
   ]
  },
  {
   "cell_type": "code",
   "execution_count": 269,
   "metadata": {
    "collapsed": false
   },
   "outputs": [
    {
     "data": {
      "text/plain": [
       "0.16563467492260062"
      ]
     },
     "execution_count": 269,
     "metadata": {},
     "output_type": "execute_result"
    }
   ],
   "source": [
    "rate_Team_Manchester = float(data2_Team_Manchester.click.sum())/data2_Team_Manchester.shape[0]\n",
    "rate_Team_Manchester"
   ]
  },
  {
   "cell_type": "markdown",
   "metadata": {},
   "source": [
    "CTR is also much lower than Diretta Calcio"
   ]
  },
  {
   "cell_type": "code",
   "execution_count": 269,
   "metadata": {
    "collapsed": false
   },
   "outputs": [
    {
     "ename": "KeyboardInterrupt",
     "evalue": "",
     "output_type": "error",
     "traceback": [
      "Traceback (most recent call last):\n",
      "  File \"/usr/local/lib/python2.7/dist-packages/ipython-3.1.0-py2.7.egg/IPython/kernel/zmq/ipkernel.py\", line 181, in do_execute\n    shell.run_cell(code, store_history=store_history, silent=silent)\n",
      "  File \"/usr/local/lib/python2.7/dist-packages/ipython-3.1.0-py2.7.egg/IPython/core/interactiveshell.py\", line 2820, in run_cell\n    cell, raw_cell)\n",
      "  File \"/usr/local/lib/python2.7/dist-packages/ipython-3.1.0-py2.7.egg/IPython/core/history.py\", line 681, in store_inputs\n    with self.db_input_cache_lock:\n",
      "KeyboardInterrupt\n"
     ]
    }
   ],
   "source": [
    "ctr_cty_Team_Manchester = data2_Team_Manchester.groupby('cty').apply(lambda x:float(x.click.sum())/x.shape[0]/rate_Team_Manchester).apply(lambda x: np.log2(x+0.001))"
   ]
  },
  {
   "cell_type": "code",
   "execution_count": null,
   "metadata": {
    "collapsed": false
   },
   "outputs": [],
   "source": [
    "ctr_cty_Team_Manchester.sort(ascending = False)"
   ]
  },
  {
   "cell_type": "code",
   "execution_count": null,
   "metadata": {
    "collapsed": false
   },
   "outputs": [],
   "source": [
    "plt.figure(figsize=(20,5))\n",
    "p = ctr_cty_Team_Manchester.plot(kind='bar',color='orange')\n",
    "p.set_ylabel('log2 (relative click-through-rate)', fontsize=20)\n",
    "plt.setp(p.get_xticklabels(), rotation='vertical', fontsize=5)\n",
    "plt.setp(p.get_yticklabels(), fontsize=20)\n",
    "fig = p.get_figure()\n",
    "fig.savefig('../fig/20150614_CTR_by_cty_Team_Manchester.png',format='png')"
   ]
  },
  {
   "cell_type": "markdown",
   "metadata": {},
   "source": [
    "A few cities show higher CTR and most show lower than average CTR"
   ]
  },
  {
   "cell_type": "code",
   "execution_count": null,
   "metadata": {
    "collapsed": false
   },
   "outputs": [],
   "source": [
    "ctr_rgn_Team_Manchester = data2_Team_Manchester.groupby('rgn').apply(lambda x:float(x.click.sum())/x.shape[0]/rate_Team_Manchester).apply(lambda x: np.log2(x+0.001))\n",
    "ctr_rgn_Team_Manchester.sort(ascending = False)\n",
    "plt.figure(figsize=(20,5))\n",
    "p = ctr_rgn_Team_Manchester.plot(kind='bar',color='orange')\n",
    "p.set_ylabel('log2 (relative click-through-rate)', fontsize=20)\n",
    "plt.setp(p.get_xticklabels(), rotation='vertical', fontsize=5)\n",
    "plt.setp(p.get_yticklabels(), fontsize=20)\n",
    "fig = p.get_figure()\n",
    "fig.savefig('../fig/20150614_CTR_by_rgn_Team_Manchester.png',format='png')"
   ]
  },
  {
   "cell_type": "code",
   "execution_count": null,
   "metadata": {
    "collapsed": false
   },
   "outputs": [],
   "source": [
    "data2_Team_Manchester['co'].value_counts()"
   ]
  },
  {
   "cell_type": "markdown",
   "metadata": {},
   "source": [
    "This app is more global"
   ]
  },
  {
   "cell_type": "code",
   "execution_count": null,
   "metadata": {
    "collapsed": false
   },
   "outputs": [],
   "source": [
    "ctr_co_Team_Manchester = data2_Team_Manchester.groupby('co').apply(lambda x:float(x.click.sum())/x.shape[0]/rate_Team_Manchester).apply(lambda x: np.log2(x+0.001))\n",
    "ctr_co_Team_Manchester.sort(ascending = False)\n",
    "plt.figure(figsize=(20,5))\n",
    "p = ctr_co_Team_Manchester.plot(kind='bar',color='orange')\n",
    "p.set_ylabel('log2 (relative click-through-rate)', fontsize=20)\n",
    "plt.setp(p.get_xticklabels(), rotation='vertical', fontsize=20)\n",
    "plt.setp(p.get_yticklabels(), fontsize=20)\n",
    "fig = p.get_figure()\n",
    "fig.savefig('../fig/20150614_CTR_by_co_Team_Manchester.png',format='png')"
   ]
  },
  {
   "cell_type": "code",
   "execution_count": null,
   "metadata": {
    "collapsed": false
   },
   "outputs": [],
   "source": [
    "co_counts_Team_Manchester = data2_Team_Manchester['co'].value_counts()\n",
    "plt.figure(figsize=(20,5))\n",
    "p = np.log10(co_counts_Team_Manchester[ctr_co_Team_Manchester.index]).plot(kind='bar',color='b')\n",
    "p.set_ylabel('log10 (events per country)', fontsize=25)\n",
    "plt.setp(p.get_xticklabels(), rotation='vertical', fontsize=20)\n",
    "plt.setp(p.get_yticklabels(), fontsize=20)\n",
    "plt.gca().invert_yaxis()\n",
    "fig = p.get_figure()\n",
    "fig.savefig('../fig/20150614_et_by_co_Team_Manchester.png',format='png')"
   ]
  },
  {
   "cell_type": "code",
   "execution_count": null,
   "metadata": {
    "collapsed": false
   },
   "outputs": [],
   "source": [
    "data2_Team_Manchester.groupby('day').apply(lambda x:float(x.click.sum())/x.shape[0]/rate_Team_Manchester).apply(lambda x: np.log2(x+0.001)).sort_index().plot(xlim=(0,31))"
   ]
  },
  {
   "cell_type": "code",
   "execution_count": null,
   "metadata": {
    "collapsed": false
   },
   "outputs": [],
   "source": [
    "data2_Team_Manchester['day'].value_counts().sort_index().plot(color=\"b\",xlim=(0,31))"
   ]
  },
  {
   "cell_type": "code",
   "execution_count": null,
   "metadata": {
    "collapsed": false
   },
   "outputs": [],
   "source": [
    "data2_Team_Manchester.groupby('time').apply(lambda x:float(x.click.sum())/x.shape[0]/rate_Team_Manchester).apply(lambda x: np.log2(x+0.001)).sort_index().plot(xlim=(0,23))"
   ]
  },
  {
   "cell_type": "code",
   "execution_count": null,
   "metadata": {
    "collapsed": false
   },
   "outputs": [],
   "source": [
    "data2_Team_Manchester['time'].value_counts().sort_index().plot(color=\"b\",xlim=(0,23))"
   ]
  },
  {
   "cell_type": "code",
   "execution_count": null,
   "metadata": {
    "collapsed": false
   },
   "outputs": [],
   "source": [
    "data2_Team_Manchester.groupby('ad_type').apply(lambda x:float(x.click.sum())/x.shape[0]/rate_Team_Manchester).apply(lambda x: np.log2(x+0.001)).sort_index().plot(kind='bar',rot='horizontal',fontsize=20, title='relative CTR for TM')"
   ]
  },
  {
   "cell_type": "code",
   "execution_count": null,
   "metadata": {
    "collapsed": false
   },
   "outputs": [],
   "source": [
    "data2_Team_Manchester['ad_type'].value_counts().sort_index().plot(kind='bar',rot='horizontal',fontsize=20,color=\"b\")"
   ]
  },
  {
   "cell_type": "code",
   "execution_count": null,
   "metadata": {
    "collapsed": false
   },
   "outputs": [],
   "source": [
    "step1 = 5\n",
    "step2 = 40\n",
    "breaks1 = range(0,60,step1)\n",
    "breaks2 = range(60,200,step2)\n",
    "sdpt_ctr_Team_Manchester = []\n",
    "for i in breaks1:\n",
    "    sdpt_ctr_Team_Manchester.append(float(data2_Team_Manchester[data2_Team_Manchester['sdpt'].apply(lambda x:(x >= i and x < i + step1))].click.sum())/(data2_Team_Manchester[data2_Team_Manchester['sdpt'].apply(lambda x:(x >= i and x < i + step1))].shape[0] + 0.001))\n",
    "for i in breaks2:\n",
    "    sdpt_ctr_Team_Manchester.append(float(data2_Team_Manchester[data2_Team_Manchester['sdpt'].apply(lambda x:(x >= i and x < i + step2))].click.sum())/(data2_Team_Manchester[data2_Team_Manchester['sdpt'].apply(lambda x:(x >= i and x < i + step2))].shape[0] + 0.001))\n",
    "breaks = breaks1 + breaks2\n",
    "plt.plot(breaks, sdpt_ctr_Team_Manchester, 'ro-')"
   ]
  },
  {
   "cell_type": "code",
   "execution_count": null,
   "metadata": {
    "collapsed": false
   },
   "outputs": [],
   "source": [
    "data2_Team_Manchester['sdpt'].hist(color=\"b\")"
   ]
  },
  {
   "cell_type": "markdown",
   "metadata": {},
   "source": [
    "Maybe sdpt < 50?"
   ]
  },
  {
   "cell_type": "markdown",
   "metadata": {},
   "source": [
    "#All apps"
   ]
  },
  {
   "cell_type": "code",
   "execution_count": null,
   "metadata": {
    "collapsed": false
   },
   "outputs": [],
   "source": [
    "rate = float(data2.click.sum())/data2.shape[0]\n",
    "rate"
   ]
  },
  {
   "cell_type": "code",
   "execution_count": null,
   "metadata": {
    "collapsed": false
   },
   "outputs": [],
   "source": [
    "data2.groupby('time').apply(lambda x:float(x.click.sum())/x.shape[0]/rate).apply(lambda x: np.log2(x+0.001)).sort_index().plot(xlim=(-.5,23.5), title='relative CTR')"
   ]
  },
  {
   "cell_type": "code",
   "execution_count": null,
   "metadata": {
    "collapsed": false
   },
   "outputs": [],
   "source": [
    "data2['time'].value_counts().sort_index().plot(color=\"b\",xlim=(-.5,23.5), title='total number of events')"
   ]
  },
  {
   "cell_type": "markdown",
   "metadata": {},
   "source": [
    "Overall, there's anti-corelation between the amount of events and CTR.."
   ]
  },
  {
   "cell_type": "code",
   "execution_count": null,
   "metadata": {
    "collapsed": false
   },
   "outputs": [],
   "source": [
    "data2['time'][data2['click']].value_counts().sort_index().plot(color=\"g\",xlim=(-.5,23.5), title='click events')"
   ]
  },
  {
   "cell_type": "markdown",
   "metadata": {},
   "source": [
    "timestamp here are all in UTC"
   ]
  },
  {
   "cell_type": "code",
   "execution_count": null,
   "metadata": {
    "collapsed": false
   },
   "outputs": [],
   "source": [
    "data2.groupby('day').apply(lambda x:float(x.click.sum())/x.shape[0]/rate).apply(lambda x: np.log2(x+0.001)).sort_index().plot(xlim=(-.5,31.5))"
   ]
  },
  {
   "cell_type": "code",
   "execution_count": null,
   "metadata": {
    "collapsed": false
   },
   "outputs": [],
   "source": [
    "data2['day'].value_counts().sort_index().plot(color=\"b\",xlim=(-.5,31.5))"
   ]
  },
  {
   "cell_type": "code",
   "execution_count": null,
   "metadata": {
    "collapsed": false
   },
   "outputs": [],
   "source": [
    "data2.groupby('ad_type').apply(lambda x:float(x.click.sum())/x.shape[0]/rate).apply(lambda x: np.log2(x+0.001)).sort_index().plot(kind='bar',rot='horizontal',fontsize=20)"
   ]
  },
  {
   "cell_type": "code",
   "execution_count": null,
   "metadata": {
    "collapsed": false
   },
   "outputs": [],
   "source": [
    "data2['ad_type'].value_counts().sort_index().plot(kind='bar',rot='horizontal',fontsize=20,color=\"b\",logy=True)"
   ]
  },
  {
   "cell_type": "code",
   "execution_count": null,
   "metadata": {
    "collapsed": false
   },
   "outputs": [],
   "source": [
    "step1 = 5\n",
    "step2 = 20\n",
    "breaks1 = range(0,60,step1)\n",
    "breaks2 = range(60,200,step2)\n",
    "sdpt_ctr = []\n",
    "for i in breaks1:\n",
    "    sdpt_ctr.append(float(data2[data2['sdpt'].apply(lambda x:(x >= i and x < i + step1))].click.sum())/(data2[data2['sdpt'].apply(lambda x:(x >= i and x < i + step1))].shape[0] + 0.001))\n",
    "for i in breaks2:\n",
    "    sdpt_ctr.append(float(data2[data2['sdpt'].apply(lambda x:(x >= i and x < i + step2))].click.sum())/(data2[data2['sdpt'].apply(lambda x:(x >= i and x < i + step2))].shape[0] + 0.001))\n",
    "breaks = breaks1 + breaks2\n",
    "plt.plot(breaks, sdpt_ctr, 'ro-')"
   ]
  },
  {
   "cell_type": "code",
   "execution_count": null,
   "metadata": {
    "collapsed": false
   },
   "outputs": [],
   "source": [
    "data2['sdpt'].hist(color=\"b\")"
   ]
  },
  {
   "cell_type": "markdown",
   "metadata": {},
   "source": [
    "Pattern for all data is different from the previous two apps"
   ]
  },
  {
   "cell_type": "markdown",
   "metadata": {},
   "source": [
    "# Correct for uneven sampling"
   ]
  },
  {
   "cell_type": "code",
   "execution_count": null,
   "metadata": {
    "collapsed": false
   },
   "outputs": [],
   "source": [
    "impression_sample_rate = float(19872)/4584942\n",
    "impression_sample_rate"
   ]
  },
  {
   "cell_type": "code",
   "execution_count": 308,
   "metadata": {
    "collapsed": false
   },
   "outputs": [
    {
     "data": {
      "text/plain": [
       "0.0017455627064941754"
      ]
     },
     "execution_count": 308,
     "metadata": {},
     "output_type": "execute_result"
    }
   ],
   "source": [
    "rate = float(data2.click.sum())/((~data2.click).sum()/impression_sample_rate + data2.click.sum())\n",
    "rate"
   ]
  },
  {
   "cell_type": "code",
   "execution_count": 351,
   "metadata": {
    "collapsed": false
   },
   "outputs": [
    {
     "data": {
      "text/plain": [
       "0.0058353273983402136"
      ]
     },
     "execution_count": 351,
     "metadata": {},
     "output_type": "execute_result"
    }
   ],
   "source": [
    "rate_Diretta_Calcio = float(data2_Diretta_Calcio.click.sum())/((~data2_Diretta_Calcio.click).sum()/impression_sample_rate + data2_Diretta_Calcio.click.sum())\n",
    "rate_Diretta_Calcio"
   ]
  },
  {
   "cell_type": "code",
   "execution_count": 352,
   "metadata": {
    "collapsed": false
   },
   "outputs": [
    {
     "data": {
      "text/plain": [
       "0.00085966498230947183"
      ]
     },
     "execution_count": 352,
     "metadata": {},
     "output_type": "execute_result"
    }
   ],
   "source": [
    "rate_Team_Manchester = float(data2_Team_Manchester.click.sum())/((~data2_Team_Manchester.click).sum()/impression_sample_rate + data2_Team_Manchester.click.sum())\n",
    "rate_Team_Manchester"
   ]
  },
  {
   "cell_type": "code",
   "execution_count": 353,
   "metadata": {
    "collapsed": false
   },
   "outputs": [
    {
     "data": {
      "text/plain": [
       "0.005703706238003905"
      ]
     },
     "execution_count": 353,
     "metadata": {},
     "output_type": "execute_result"
    }
   ],
   "source": [
    "rate_Dagospia = float(data2_Dagospia.click.sum())/((~data2_Dagospia.click).sum()/impression_sample_rate + data2_Dagospia.click.sum())\n",
    "rate_Dagospia"
   ]
  },
  {
   "cell_type": "code",
   "execution_count": null,
   "metadata": {
    "collapsed": false
   },
   "outputs": [],
   "source": [
    "data2.groupby('time').apply(lambda x:float(x.click.sum())/((~x.click).sum()/impression_sample_rate + x.click.sum())/rate).apply(lambda x: np.log2(x+0.001)).sort_index().plot(xlim=(-.5,23.5), title='relative CTR (corrected)')"
   ]
  },
  {
   "cell_type": "code",
   "execution_count": null,
   "metadata": {
    "collapsed": false
   },
   "outputs": [],
   "source": [
    "data2.groupby('time').apply(lambda x:float(x.click.sum())/((~x.click).sum()/impression_sample_rate)/rate).apply(lambda x: np.log2(x+0.001)).sort_index().plot(xlim=(-.5,23.5), title='relative CTR (round)')"
   ]
  },
  {
   "cell_type": "markdown",
   "metadata": {},
   "source": [
    "Well the shape looks pretty similar with the old plot, but just the \"amplitude\" changes"
   ]
  },
  {
   "cell_type": "code",
   "execution_count": null,
   "metadata": {
    "collapsed": false
   },
   "outputs": [],
   "source": [
    "co_ctr = data2.groupby('co').apply(lambda x:float(x.click.sum())/((~x.click).sum()/impression_sample_rate + x.click.sum())/rate).apply(lambda x: np.log2(x+0.001))\n",
    "co_ctr.sort(ascending = False)\n",
    "plt.figure(figsize=(20,5))\n",
    "p = co_ctr.plot(kind='bar',color='orange')\n",
    "p.set_ylabel('log2 (relative click-through-rate)', fontsize=20)\n",
    "plt.setp(p.get_xticklabels(), rotation='vertical', fontsize=15)\n",
    "plt.setp(p.get_yticklabels(), fontsize=20)\n",
    "fig = p.get_figure()\n",
    "fig.savefig('../fig/20150615_CTR_by_co_sort_corrected.png',format='png')"
   ]
  },
  {
   "cell_type": "code",
   "execution_count": null,
   "metadata": {
    "collapsed": false
   },
   "outputs": [],
   "source": [
    "co_counts = data2.groupby('co').apply(lambda x:(x.click.sum() + (~x.click).sum()/impression_sample_rate))\n",
    "plt.figure(figsize=(20,5))\n",
    "p = np.log10(co_counts[co_ctr.index]).plot(kind='bar',color='b')\n",
    "p.set_ylabel('log10 (events per country)', fontsize=20)\n",
    "plt.setp(p.get_xticklabels(), rotation='vertical', fontsize=15)\n",
    "plt.setp(p.get_yticklabels(), fontsize=20)\n",
    "plt.gca().invert_yaxis()\n",
    "fig = p.get_figure()\n",
    "fig.savefig('../fig/20150615_et_by_co_sort_corrected.png',format='png')"
   ]
  },
  {
   "cell_type": "code",
   "execution_count": null,
   "metadata": {
    "collapsed": false
   },
   "outputs": [],
   "source": [
    "br_ctr = data2.groupby('br_short').apply(lambda x:float(x.click.sum())/((~x.click).sum()/impression_sample_rate + x.click.sum())/rate).apply(lambda x: np.log2(x+0.001))\n",
    "br_ctr.sort(ascending = False)\n",
    "plt.figure(figsize=(20,5))\n",
    "p = br_ctr.plot(kind='bar',color='r')\n",
    "p.set_ylabel('log2 (relative click-through-rate)', fontsize=25)\n",
    "plt.setp(p.get_xticklabels(), rotation='horizontal', fontsize=22)\n",
    "plt.setp(p.get_yticklabels(), fontsize=20)\n",
    "fig = p.get_figure()\n",
    "fig.savefig('../fig/20150615_CTR_by_br_sort_corrected.png',format='png')"
   ]
  },
  {
   "cell_type": "code",
   "execution_count": null,
   "metadata": {
    "collapsed": false
   },
   "outputs": [],
   "source": [
    "br_counts = data2.groupby('br_short').apply(lambda x:(x.click.sum() + (~x.click).sum()/impression_sample_rate))\n",
    "plt.figure(figsize=(20,5))\n",
    "p = np.log10(br_counts[br_ctr.index]).plot(kind='bar',color='b')\n",
    "p.set_ylabel('log10 (events per browser type)', fontsize=25)\n",
    "plt.setp(p.get_xticklabels(), rotation='horizontal', fontsize=22)\n",
    "plt.setp(p.get_yticklabels(), fontsize=20)\n",
    "#plt.gca().invert_yaxis()\n",
    "fig = p.get_figure()\n",
    "fig.savefig('../fig/20150615_et_by_br_sort_corrected.png',format='png')"
   ]
  },
  {
   "cell_type": "code",
   "execution_count": null,
   "metadata": {
    "collapsed": false,
    "scrolled": true
   },
   "outputs": [],
   "source": [
    "check_br = data2.groupby('br_short').apply(lambda x:float(x.click.sum())/((~x.click).sum()/impression_sample_rate + x.click.sum()))\n",
    "check_br.sort(ascending = False)\n",
    "pd.DataFrame({'ctr':check_br,'cnt':data2['br_short'].value_counts()})"
   ]
  },
  {
   "cell_type": "markdown",
   "metadata": {},
   "source": [
    "#How to explain the difference in browser and location?"
   ]
  },
  {
   "cell_type": "markdown",
   "metadata": {},
   "source": [
    "First I want to examine the difference in each app systematically:"
   ]
  },
  {
   "cell_type": "code",
   "execution_count": null,
   "metadata": {
    "collapsed": false
   },
   "outputs": [],
   "source": [
    "plt.figure(figsize=(20,5))\n",
    "p = data2.groupby('ai').apply(lambda x:(x.click.sum() + (~x.click).sum()/impression_sample_rate)).plot(kind='bar',color='b',ylim=(.5,5000000),title='number of events per app')\n",
    "p.set_yscale('log')"
   ]
  },
  {
   "cell_type": "markdown",
   "metadata": {},
   "source": [
    "DC: 67/68 TM: 53/54 are the ones with more events\n",
    "\n",
    "High CTR: 67,87,93\n",
    "\n",
    "Low CTR: 49,51,54,115,116"
   ]
  },
  {
   "cell_type": "code",
   "execution_count": null,
   "metadata": {
    "collapsed": false
   },
   "outputs": [],
   "source": [
    "plt.figure(figsize=(20,5))\n",
    "p = data2.groupby('ai').apply(lambda x:float(x.click.sum())/((~x.click).sum()/impression_sample_rate + x.click.sum())).sort_index().plot(kind='bar',logy=True,ylim=(0,.04),title='CTR')\n",
    "plt.axhline(y=rate)"
   ]
  },
  {
   "cell_type": "markdown",
   "metadata": {},
   "source": [
    "I want to calculate the proportion of each type of browser for each app"
   ]
  },
  {
   "cell_type": "code",
   "execution_count": null,
   "metadata": {
    "collapsed": false
   },
   "outputs": [],
   "source": [
    "aid = 89\n",
    "check_ai_br = data2[data2['ai'] == aid].groupby('br_short').apply(lambda x:float(x.click.sum())/((~x.click).sum()/impression_sample_rate + x.click.sum()))\n",
    "check_ai_br.sort(ascending = False)\n",
    "pd.DataFrame({'ctr':check_ai_br,'cnt':data2[data2['ai'] == aid]['br_short'].value_counts()})"
   ]
  },
  {
   "cell_type": "code",
   "execution_count": 416,
   "metadata": {
    "collapsed": false
   },
   "outputs": [
    {
     "data": {
      "text/html": [
       "<div style=\"max-height:1000px;max-width:1500px;overflow:auto;\">\n",
       "<table border=\"1\" class=\"dataframe\">\n",
       "  <thead>\n",
       "    <tr style=\"text-align: right;\">\n",
       "      <th></th>\n",
       "      <th>cnt</th>\n",
       "      <th>ctr</th>\n",
       "    </tr>\n",
       "  </thead>\n",
       "  <tbody>\n",
       "    <tr>\n",
       "      <th>ITA</th>\n",
       "      <td> 50</td>\n",
       "      <td> 0.005062</td>\n",
       "    </tr>\n",
       "    <tr>\n",
       "      <th>UKR</th>\n",
       "      <td>  7</td>\n",
       "      <td> 0.025346</td>\n",
       "    </tr>\n",
       "  </tbody>\n",
       "</table>\n",
       "<p>2 rows × 2 columns</p>\n",
       "</div>"
      ],
      "text/plain": [
       "     cnt       ctr\n",
       "ITA   50  0.005062\n",
       "UKR    7  0.025346\n",
       "\n",
       "[2 rows x 2 columns]"
      ]
     },
     "execution_count": 416,
     "metadata": {},
     "output_type": "execute_result"
    }
   ],
   "source": [
    "aid = 72\n",
    "check_co_br = data2[data2['ai'] == aid].groupby('co').apply(lambda x:float(x.click.sum())/((~x.click).sum()/impression_sample_rate + x.click.sum()))\n",
    "check_co_br.sort(ascending = False)\n",
    "pd.DataFrame({'ctr':check_co_br,'cnt':data2[data2['ai'] == aid]['co'].value_counts()})"
   ]
  },
  {
   "cell_type": "markdown",
   "metadata": {},
   "source": [
    "My questions:\n",
    "\n",
    "I wonder why some apps/ads are better than the others?...\n",
    "\n",
    "Any good paring for ads/apps?"
   ]
  },
  {
   "cell_type": "markdown",
   "metadata": {},
   "source": [
    "#More controlled comparison with platform/browser and geo-location"
   ]
  },
  {
   "cell_type": "markdown",
   "metadata": {},
   "source": [
    "Android vs iOS\n",
    "\n",
    "67 vs 68\n",
    "\n",
    "72 vs 71"
   ]
  },
  {
   "cell_type": "markdown",
   "metadata": {},
   "source": [
    "Too much ad_show data: can use the precalculated event count table"
   ]
  },
  {
   "cell_type": "code",
   "execution_count": 362,
   "metadata": {
    "collapsed": true
   },
   "outputs": [],
   "source": [
    "df_show = pd.read_csv(\"../data/ad_show_count_150617.tab\",sep='\\t',index_col=0)\n",
    "df_click = pd.read_csv(\"../data/ad_click_count_150617.tab\",sep='\\t',index_col=0)"
   ]
  },
  {
   "cell_type": "markdown",
   "metadata": {},
   "source": [
    "Advertisement on both 67 and 68:"
   ]
  },
  {
   "cell_type": "code",
   "execution_count": 372,
   "metadata": {
    "collapsed": false
   },
   "outputs": [],
   "source": [
    "ads67 = df_show['67'][df_show['67'] > 0].index"
   ]
  },
  {
   "cell_type": "code",
   "execution_count": 373,
   "metadata": {
    "collapsed": true
   },
   "outputs": [],
   "source": [
    "ads68 = df_show['68'][df_show['68'] > 0].index"
   ]
  },
  {
   "cell_type": "code",
   "execution_count": 382,
   "metadata": {
    "collapsed": false
   },
   "outputs": [],
   "source": [
    "inter_set_67_68 = set(ads67) - (set(ads67) - set(ads68))"
   ]
  },
  {
   "cell_type": "code",
   "execution_count": 383,
   "metadata": {
    "collapsed": false
   },
   "outputs": [
    {
     "data": {
      "text/plain": [
       "17"
      ]
     },
     "execution_count": 383,
     "metadata": {},
     "output_type": "execute_result"
    }
   ],
   "source": [
    "len(inter_set_67_68)"
   ]
  },
  {
   "cell_type": "code",
   "execution_count": 384,
   "metadata": {
    "collapsed": true
   },
   "outputs": [],
   "source": [
    "index = []\n",
    "for i in inter_set_67_68:\n",
    "    index.append(i)"
   ]
  },
  {
   "cell_type": "code",
   "execution_count": 385,
   "metadata": {
    "collapsed": true
   },
   "outputs": [],
   "source": [
    "cmp1 = pd.DataFrame(index=index, columns=['67_show','67_click','68_show','68_click'])\n",
    "cmp1 = cmp1.fillna(0)"
   ]
  },
  {
   "cell_type": "code",
   "execution_count": 393,
   "metadata": {
    "collapsed": false
   },
   "outputs": [],
   "source": [
    "for i in index:\n",
    "    cmp1.loc[i, '67_show'] = df_show.loc[i, '67']\n",
    "    cmp1.loc[i, '67_click'] = df_click.loc[i, '67']\n",
    "    cmp1.loc[i, '68_show'] = df_show.loc[i, '68']\n",
    "    cmp1.loc[i, '68_click'] = df_click.loc[i, '68']"
   ]
  },
  {
   "cell_type": "code",
   "execution_count": 396,
   "metadata": {
    "collapsed": false
   },
   "outputs": [],
   "source": [
    "cmp1['67_rate'] = cmp1['67_click'] / cmp1['67_show']"
   ]
  },
  {
   "cell_type": "code",
   "execution_count": 398,
   "metadata": {
    "collapsed": false
   },
   "outputs": [],
   "source": [
    "cmp1['68_rate'] = cmp1['68_click'] / cmp1['68_show']"
   ]
  },
  {
   "cell_type": "code",
   "execution_count": 408,
   "metadata": {
    "collapsed": false
   },
   "outputs": [
    {
     "data": {
      "text/html": [
       "<div style=\"max-height:1000px;max-width:1500px;overflow:auto;\">\n",
       "<table border=\"1\" class=\"dataframe\">\n",
       "  <thead>\n",
       "    <tr style=\"text-align: right;\">\n",
       "      <th></th>\n",
       "      <th>67_show</th>\n",
       "      <th>67_click</th>\n",
       "      <th>68_show</th>\n",
       "      <th>68_click</th>\n",
       "      <th>67_rate</th>\n",
       "      <th>68_rate</th>\n",
       "    </tr>\n",
       "  </thead>\n",
       "  <tbody>\n",
       "    <tr>\n",
       "      <th>246</th>\n",
       "      <td>    77</td>\n",
       "      <td>   0</td>\n",
       "      <td>  9</td>\n",
       "      <td> 0</td>\n",
       "      <td> 0.000000</td>\n",
       "      <td> 0.000000</td>\n",
       "    </tr>\n",
       "    <tr>\n",
       "      <th>292</th>\n",
       "      <td>    13</td>\n",
       "      <td>   0</td>\n",
       "      <td> 29</td>\n",
       "      <td> 0</td>\n",
       "      <td> 0.000000</td>\n",
       "      <td> 0.000000</td>\n",
       "    </tr>\n",
       "    <tr>\n",
       "      <th>293</th>\n",
       "      <td>    18</td>\n",
       "      <td>   0</td>\n",
       "      <td> 27</td>\n",
       "      <td> 0</td>\n",
       "      <td> 0.000000</td>\n",
       "      <td> 0.000000</td>\n",
       "    </tr>\n",
       "    <tr>\n",
       "      <th>327</th>\n",
       "      <td>   197</td>\n",
       "      <td>   0</td>\n",
       "      <td> 32</td>\n",
       "      <td> 0</td>\n",
       "      <td> 0.000000</td>\n",
       "      <td> 0.000000</td>\n",
       "    </tr>\n",
       "    <tr>\n",
       "      <th>330</th>\n",
       "      <td> 39448</td>\n",
       "      <td> 266</td>\n",
       "      <td>  9</td>\n",
       "      <td> 0</td>\n",
       "      <td> 0.006743</td>\n",
       "      <td> 0.000000</td>\n",
       "    </tr>\n",
       "    <tr>\n",
       "      <th>334</th>\n",
       "      <td>   232</td>\n",
       "      <td>   0</td>\n",
       "      <td> 11</td>\n",
       "      <td> 0</td>\n",
       "      <td> 0.000000</td>\n",
       "      <td> 0.000000</td>\n",
       "    </tr>\n",
       "    <tr>\n",
       "      <th>349</th>\n",
       "      <td>   271</td>\n",
       "      <td>   0</td>\n",
       "      <td> 40</td>\n",
       "      <td> 0</td>\n",
       "      <td> 0.000000</td>\n",
       "      <td> 0.000000</td>\n",
       "    </tr>\n",
       "    <tr>\n",
       "      <th>350</th>\n",
       "      <td>   167</td>\n",
       "      <td>   0</td>\n",
       "      <td> 39</td>\n",
       "      <td> 1</td>\n",
       "      <td> 0.000000</td>\n",
       "      <td> 0.025641</td>\n",
       "    </tr>\n",
       "    <tr>\n",
       "      <th>342</th>\n",
       "      <td>   630</td>\n",
       "      <td>   5</td>\n",
       "      <td> 78</td>\n",
       "      <td> 0</td>\n",
       "      <td> 0.007937</td>\n",
       "      <td> 0.000000</td>\n",
       "    </tr>\n",
       "    <tr>\n",
       "      <th>156</th>\n",
       "      <td>    51</td>\n",
       "      <td>   1</td>\n",
       "      <td> 53</td>\n",
       "      <td> 0</td>\n",
       "      <td> 0.019608</td>\n",
       "      <td> 0.000000</td>\n",
       "    </tr>\n",
       "    <tr>\n",
       "      <th>157</th>\n",
       "      <td>    43</td>\n",
       "      <td>   0</td>\n",
       "      <td> 60</td>\n",
       "      <td> 1</td>\n",
       "      <td> 0.000000</td>\n",
       "      <td> 0.016667</td>\n",
       "    </tr>\n",
       "    <tr>\n",
       "      <th>158</th>\n",
       "      <td>    40</td>\n",
       "      <td>   1</td>\n",
       "      <td> 51</td>\n",
       "      <td> 1</td>\n",
       "      <td> 0.025000</td>\n",
       "      <td> 0.019608</td>\n",
       "    </tr>\n",
       "  </tbody>\n",
       "</table>\n",
       "<p>12 rows × 6 columns</p>\n",
       "</div>"
      ],
      "text/plain": [
       "     67_show  67_click  68_show  68_click   67_rate   68_rate\n",
       "246       77         0        9         0  0.000000  0.000000\n",
       "292       13         0       29         0  0.000000  0.000000\n",
       "293       18         0       27         0  0.000000  0.000000\n",
       "327      197         0       32         0  0.000000  0.000000\n",
       "330    39448       266        9         0  0.006743  0.000000\n",
       "334      232         0       11         0  0.000000  0.000000\n",
       "349      271         0       40         0  0.000000  0.000000\n",
       "350      167         0       39         1  0.000000  0.025641\n",
       "342      630         5       78         0  0.007937  0.000000\n",
       "156       51         1       53         0  0.019608  0.000000\n",
       "157       43         0       60         1  0.000000  0.016667\n",
       "158       40         1       51         1  0.025000  0.019608\n",
       "\n",
       "[12 rows x 6 columns]"
      ]
     },
     "execution_count": 408,
     "metadata": {},
     "output_type": "execute_result"
    }
   ],
   "source": [
    "cmp1_sub = cmp1[cmp1['67_show'] > 5]\n",
    "cmp1_sub = cmp1_sub[cmp1_sub['68_show'] > 5]\n",
    "cmp1_sub"
   ]
  },
  {
   "cell_type": "code",
   "execution_count": 409,
   "metadata": {
    "collapsed": false
   },
   "outputs": [
    {
     "data": {
      "text/plain": [
       "<matplotlib.axes._subplots.AxesSubplot at 0x7fb992daab10>"
      ]
     },
     "execution_count": 409,
     "metadata": {},
     "output_type": "execute_result"
    },
    {
     "data": {
      "image/png": "[encoded data removed]",
      "text/plain": [
       "<matplotlib.figure.Figure at 0x7fb9ac4365d0>"
      ]
     },
     "metadata": {},
     "output_type": "display_data"
    }
   ],
   "source": [
    "sns.violinplot(cmp1_sub[['67_rate','68_rate']])"
   ]
  },
  {
   "cell_type": "markdown",
   "metadata": {},
   "source": [
    "Try to get more data historically, and only 'ITA' (restrict another variable):"
   ]
  },
  {
   "cell_type": "code",
   "execution_count": 410,
   "metadata": {
    "collapsed": true
   },
   "outputs": [],
   "source": [
    "cmp2 = pd.DataFrame(index=index, columns=['67_show','67_click','68_show','68_click'])\n",
    "cmp2 = cmp2.fillna(0)"
   ]
  },
  {
   "cell_type": "code",
   "execution_count": 417,
   "metadata": {
    "collapsed": true
   },
   "outputs": [],
   "source": [
    "for i in index:\n",
    "    cmp2.loc[i, '67_show'] = es.count(index=\"events-*\", body={'query': {'bool': {'must':[{'match': { 'ai' : 67 }}, {'match': { 'cr' : i }}, {'match': { 'et' : 'AD_SHOW' }}, {'match': { 'co' : 'ITA' }}], 'must_not':[{'match': { 'fr' : 'true' }}]}}})['count']\n",
    "    cmp2.loc[i, '67_click'] = es.count(index=\"events-*\", body={'query': {'bool': {'must':[{'match': { 'ai' : 67 }}, {'match': { 'cr' : i }}, {'match': { 'et' : 'AD_CLICK' }}, {'match': { 'co' : 'ITA' }}], 'must_not':[{'match': { 'fr' : 'true' }}]}}})['count']\n",
    "    cmp2.loc[i, '68_show'] = es.count(index=\"events-*\", body={'query': {'bool': {'must':[{'match': { 'ai' : 68 }}, {'match': { 'cr' : i }}, {'match': { 'et' : 'AD_SHOW' }}, {'match': { 'co' : 'ITA' }}], 'must_not':[{'match': { 'fr' : 'true' }}]}}})['count']\n",
    "    cmp2.loc[i, '68_click'] = es.count(index=\"events-*\", body={'query': {'bool': {'must':[{'match': { 'ai' : 68 }}, {'match': { 'cr' : i }}, {'match': { 'et' : 'AD_CLICK' }}, {'match': { 'co' : 'ITA' }}], 'must_not':[{'match': { 'fr' : 'true' }}]}}})['count']"
   ]
  },
  {
   "cell_type": "code",
   "execution_count": 422,
   "metadata": {
    "collapsed": false
   },
   "outputs": [],
   "source": [
    "cmp2['67_rate'] = cmp2['67_click'] / cmp2['67_show']\n",
    "cmp2['68_rate'] = cmp2['68_click'] / cmp2['68_show']"
   ]
  },
  {
   "cell_type": "code",
   "execution_count": 424,
   "metadata": {
    "collapsed": false
   },
   "outputs": [
    {
     "data": {
      "text/html": [
       "<div style=\"max-height:1000px;max-width:1500px;overflow:auto;\">\n",
       "<table border=\"1\" class=\"dataframe\">\n",
       "  <thead>\n",
       "    <tr style=\"text-align: right;\">\n",
       "      <th></th>\n",
       "      <th>67_show</th>\n",
       "      <th>67_click</th>\n",
       "      <th>68_show</th>\n",
       "      <th>68_click</th>\n",
       "      <th>67_rate</th>\n",
       "      <th>68_rate</th>\n",
       "    </tr>\n",
       "  </thead>\n",
       "  <tbody>\n",
       "    <tr>\n",
       "      <th>246</th>\n",
       "      <td>    76</td>\n",
       "      <td>   0</td>\n",
       "      <td>  9</td>\n",
       "      <td> 0</td>\n",
       "      <td> 0.000000</td>\n",
       "      <td> 0.000000</td>\n",
       "    </tr>\n",
       "    <tr>\n",
       "      <th>327</th>\n",
       "      <td>   208</td>\n",
       "      <td>   0</td>\n",
       "      <td> 29</td>\n",
       "      <td> 0</td>\n",
       "      <td> 0.000000</td>\n",
       "      <td> 0.000000</td>\n",
       "    </tr>\n",
       "    <tr>\n",
       "      <th>330</th>\n",
       "      <td> 42177</td>\n",
       "      <td> 286</td>\n",
       "      <td>  9</td>\n",
       "      <td> 0</td>\n",
       "      <td> 0.006781</td>\n",
       "      <td> 0.000000</td>\n",
       "    </tr>\n",
       "    <tr>\n",
       "      <th>334</th>\n",
       "      <td>   240</td>\n",
       "      <td>   0</td>\n",
       "      <td> 10</td>\n",
       "      <td> 0</td>\n",
       "      <td> 0.000000</td>\n",
       "      <td> 0.000000</td>\n",
       "    </tr>\n",
       "    <tr>\n",
       "      <th>349</th>\n",
       "      <td>   283</td>\n",
       "      <td>   0</td>\n",
       "      <td> 38</td>\n",
       "      <td> 0</td>\n",
       "      <td> 0.000000</td>\n",
       "      <td> 0.000000</td>\n",
       "    </tr>\n",
       "    <tr>\n",
       "      <th>350</th>\n",
       "      <td>   212</td>\n",
       "      <td>   0</td>\n",
       "      <td> 23</td>\n",
       "      <td> 1</td>\n",
       "      <td> 0.000000</td>\n",
       "      <td> 0.043478</td>\n",
       "    </tr>\n",
       "    <tr>\n",
       "      <th>342</th>\n",
       "      <td>   620</td>\n",
       "      <td>   4</td>\n",
       "      <td> 78</td>\n",
       "      <td> 0</td>\n",
       "      <td> 0.006452</td>\n",
       "      <td> 0.000000</td>\n",
       "    </tr>\n",
       "  </tbody>\n",
       "</table>\n",
       "<p>7 rows × 6 columns</p>\n",
       "</div>"
      ],
      "text/plain": [
       "     67_show  67_click  68_show  68_click   67_rate   68_rate\n",
       "246       76         0        9         0  0.000000  0.000000\n",
       "327      208         0       29         0  0.000000  0.000000\n",
       "330    42177       286        9         0  0.006781  0.000000\n",
       "334      240         0       10         0  0.000000  0.000000\n",
       "349      283         0       38         0  0.000000  0.000000\n",
       "350      212         0       23         1  0.000000  0.043478\n",
       "342      620         4       78         0  0.006452  0.000000\n",
       "\n",
       "[7 rows x 6 columns]"
      ]
     },
     "execution_count": 424,
     "metadata": {},
     "output_type": "execute_result"
    }
   ],
   "source": [
    "cmp2_sub = cmp2[cmp2['67_show'] > 5]\n",
    "cmp2_sub = cmp2_sub[cmp2_sub['68_show'] > 5]\n",
    "cmp2_sub"
   ]
  },
  {
   "cell_type": "markdown",
   "metadata": {},
   "source": [
    "That's not interesting..."
   ]
  },
  {
   "cell_type": "code",
   "execution_count": 425,
   "metadata": {
    "collapsed": true
   },
   "outputs": [],
   "source": [
    "ads71 = df_show['71'][df_show['71'] > 0].index\n",
    "ads72 = df_show['72'][df_show['72'] > 0].index"
   ]
  },
  {
   "cell_type": "code",
   "execution_count": 426,
   "metadata": {
    "collapsed": false
   },
   "outputs": [
    {
     "data": {
      "text/plain": [
       "8"
      ]
     },
     "execution_count": 426,
     "metadata": {},
     "output_type": "execute_result"
    }
   ],
   "source": [
    "inter_set_71_72 = set(ads71) - (set(ads71) - set(ads72))\n",
    "len(inter_set_71_72)"
   ]
  },
  {
   "cell_type": "code",
   "execution_count": 427,
   "metadata": {
    "collapsed": false
   },
   "outputs": [
    {
     "data": {
      "text/plain": [
       "[327, 334, 339, 342, 281, 283, 349, 350]"
      ]
     },
     "execution_count": 427,
     "metadata": {},
     "output_type": "execute_result"
    }
   ],
   "source": [
    "index2 = []\n",
    "for i in inter_set_71_72:\n",
    "    index2.append(i)\n",
    "index2"
   ]
  },
  {
   "cell_type": "code",
   "execution_count": 431,
   "metadata": {
    "collapsed": false
   },
   "outputs": [
    {
     "data": {
      "text/html": [
       "<div style=\"max-height:1000px;max-width:1500px;overflow:auto;\">\n",
       "<table border=\"1\" class=\"dataframe\">\n",
       "  <thead>\n",
       "    <tr style=\"text-align: right;\">\n",
       "      <th></th>\n",
       "      <th>71_show</th>\n",
       "      <th>71_click</th>\n",
       "      <th>72_show</th>\n",
       "      <th>72_click</th>\n",
       "    </tr>\n",
       "  </thead>\n",
       "  <tbody>\n",
       "    <tr>\n",
       "      <th>327</th>\n",
       "      <td>  258</td>\n",
       "      <td>  5</td>\n",
       "      <td>  10</td>\n",
       "      <td> 0</td>\n",
       "    </tr>\n",
       "    <tr>\n",
       "      <th>334</th>\n",
       "      <td>  149</td>\n",
       "      <td>  3</td>\n",
       "      <td>   0</td>\n",
       "      <td> 0</td>\n",
       "    </tr>\n",
       "    <tr>\n",
       "      <th>339</th>\n",
       "      <td>    0</td>\n",
       "      <td>  0</td>\n",
       "      <td>   0</td>\n",
       "      <td> 0</td>\n",
       "    </tr>\n",
       "    <tr>\n",
       "      <th>342</th>\n",
       "      <td>    1</td>\n",
       "      <td>  0</td>\n",
       "      <td>   0</td>\n",
       "      <td> 0</td>\n",
       "    </tr>\n",
       "    <tr>\n",
       "      <th>281</th>\n",
       "      <td>   47</td>\n",
       "      <td>  5</td>\n",
       "      <td> 143</td>\n",
       "      <td> 2</td>\n",
       "    </tr>\n",
       "    <tr>\n",
       "      <th>283</th>\n",
       "      <td>   30</td>\n",
       "      <td>  3</td>\n",
       "      <td> 143</td>\n",
       "      <td> 1</td>\n",
       "    </tr>\n",
       "    <tr>\n",
       "      <th>349</th>\n",
       "      <td> 1482</td>\n",
       "      <td> 12</td>\n",
       "      <td>   0</td>\n",
       "      <td> 0</td>\n",
       "    </tr>\n",
       "    <tr>\n",
       "      <th>350</th>\n",
       "      <td>  595</td>\n",
       "      <td>  6</td>\n",
       "      <td> 136</td>\n",
       "      <td> 0</td>\n",
       "    </tr>\n",
       "  </tbody>\n",
       "</table>\n",
       "<p>8 rows × 4 columns</p>\n",
       "</div>"
      ],
      "text/plain": [
       "     71_show  71_click  72_show  72_click\n",
       "327      258         5       10         0\n",
       "334      149         3        0         0\n",
       "339        0         0        0         0\n",
       "342        1         0        0         0\n",
       "281       47         5      143         2\n",
       "283       30         3      143         1\n",
       "349     1482        12        0         0\n",
       "350      595         6      136         0\n",
       "\n",
       "[8 rows x 4 columns]"
      ]
     },
     "execution_count": 431,
     "metadata": {},
     "output_type": "execute_result"
    }
   ],
   "source": [
    "cmp3 = pd.DataFrame(index=index2, columns=['71_show','71_click','72_show','72_click'])\n",
    "cmp3 = cmp3.fillna(0)\n",
    "for i in index2:\n",
    "    cmp3.loc[i, '71_show'] = es.count(index=\"events-*\", body={'query': {'bool': {'must':[{'match': { 'ai' : 71 }}, {'match': { 'cr' : i }}, {'match': { 'et' : 'AD_SHOW' }}, {'match': { 'co' : 'ITA' }}], 'must_not':[{'match': { 'fr' : 'true' }}]}}})['count']\n",
    "    cmp3.loc[i, '71_click'] = es.count(index=\"events-*\", body={'query': {'bool': {'must':[{'match': { 'ai' : 71 }}, {'match': { 'cr' : i }}, {'match': { 'et' : 'AD_CLICK' }}, {'match': { 'co' : 'ITA' }}], 'must_not':[{'match': { 'fr' : 'true' }}]}}})['count']\n",
    "    cmp3.loc[i, '72_show'] = es.count(index=\"events-*\", body={'query': {'bool': {'must':[{'match': { 'ai' : 72 }}, {'match': { 'cr' : i }}, {'match': { 'et' : 'AD_SHOW' }}, {'match': { 'co' : 'ITA' }}], 'must_not':[{'match': { 'fr' : 'true' }}]}}})['count']\n",
    "    cmp3.loc[i, '72_click'] = es.count(index=\"events-*\", body={'query': {'bool': {'must':[{'match': { 'ai' : 72 }}, {'match': { 'cr' : i }}, {'match': { 'et' : 'AD_CLICK' }}, {'match': { 'co' : 'ITA' }}], 'must_not':[{'match': { 'fr' : 'true' }}]}}})['count']\n",
    "cmp3"
   ]
  },
  {
   "cell_type": "code",
   "execution_count": 432,
   "metadata": {
    "collapsed": false
   },
   "outputs": [
    {
     "data": {
      "text/html": [
       "<div style=\"max-height:1000px;max-width:1500px;overflow:auto;\">\n",
       "<table border=\"1\" class=\"dataframe\">\n",
       "  <thead>\n",
       "    <tr style=\"text-align: right;\">\n",
       "      <th></th>\n",
       "      <th>71_show</th>\n",
       "      <th>71_click</th>\n",
       "      <th>72_show</th>\n",
       "      <th>72_click</th>\n",
       "      <th>71_rate</th>\n",
       "      <th>72_rate</th>\n",
       "    </tr>\n",
       "  </thead>\n",
       "  <tbody>\n",
       "    <tr>\n",
       "      <th>327</th>\n",
       "      <td>  258</td>\n",
       "      <td>  5</td>\n",
       "      <td>  10</td>\n",
       "      <td> 0</td>\n",
       "      <td> 0.019380</td>\n",
       "      <td> 0.000000</td>\n",
       "    </tr>\n",
       "    <tr>\n",
       "      <th>334</th>\n",
       "      <td>  149</td>\n",
       "      <td>  3</td>\n",
       "      <td>   0</td>\n",
       "      <td> 0</td>\n",
       "      <td> 0.020134</td>\n",
       "      <td>      inf</td>\n",
       "    </tr>\n",
       "    <tr>\n",
       "      <th>339</th>\n",
       "      <td>    0</td>\n",
       "      <td>  0</td>\n",
       "      <td>   0</td>\n",
       "      <td> 0</td>\n",
       "      <td>      inf</td>\n",
       "      <td>      inf</td>\n",
       "    </tr>\n",
       "    <tr>\n",
       "      <th>342</th>\n",
       "      <td>    1</td>\n",
       "      <td>  0</td>\n",
       "      <td>   0</td>\n",
       "      <td> 0</td>\n",
       "      <td> 0.000000</td>\n",
       "      <td>      inf</td>\n",
       "    </tr>\n",
       "    <tr>\n",
       "      <th>281</th>\n",
       "      <td>   47</td>\n",
       "      <td>  5</td>\n",
       "      <td> 143</td>\n",
       "      <td> 2</td>\n",
       "      <td> 0.106383</td>\n",
       "      <td> 0.013986</td>\n",
       "    </tr>\n",
       "    <tr>\n",
       "      <th>283</th>\n",
       "      <td>   30</td>\n",
       "      <td>  3</td>\n",
       "      <td> 143</td>\n",
       "      <td> 1</td>\n",
       "      <td> 0.100000</td>\n",
       "      <td> 0.006993</td>\n",
       "    </tr>\n",
       "    <tr>\n",
       "      <th>349</th>\n",
       "      <td> 1482</td>\n",
       "      <td> 12</td>\n",
       "      <td>   0</td>\n",
       "      <td> 0</td>\n",
       "      <td> 0.008097</td>\n",
       "      <td>      inf</td>\n",
       "    </tr>\n",
       "    <tr>\n",
       "      <th>350</th>\n",
       "      <td>  595</td>\n",
       "      <td>  6</td>\n",
       "      <td> 136</td>\n",
       "      <td> 0</td>\n",
       "      <td> 0.010084</td>\n",
       "      <td> 0.000000</td>\n",
       "    </tr>\n",
       "  </tbody>\n",
       "</table>\n",
       "<p>8 rows × 6 columns</p>\n",
       "</div>"
      ],
      "text/plain": [
       "     71_show  71_click  72_show  72_click   71_rate   72_rate\n",
       "327      258         5       10         0  0.019380  0.000000\n",
       "334      149         3        0         0  0.020134       inf\n",
       "339        0         0        0         0       inf       inf\n",
       "342        1         0        0         0  0.000000       inf\n",
       "281       47         5      143         2  0.106383  0.013986\n",
       "283       30         3      143         1  0.100000  0.006993\n",
       "349     1482        12        0         0  0.008097       inf\n",
       "350      595         6      136         0  0.010084  0.000000\n",
       "\n",
       "[8 rows x 6 columns]"
      ]
     },
     "execution_count": 432,
     "metadata": {},
     "output_type": "execute_result"
    }
   ],
   "source": [
    "cmp3['71_rate'] = cmp3['71_click'] / cmp3['71_show']\n",
    "cmp3['72_rate'] = cmp3['72_click'] / cmp3['72_show']\n",
    "cmp3"
   ]
  },
  {
   "cell_type": "markdown",
   "metadata": {},
   "source": [
    "Looks like the trend is opposite here..."
   ]
  },
  {
   "cell_type": "markdown",
   "metadata": {},
   "source": [
    "# Correlation between browser and location?"
   ]
  },
  {
   "cell_type": "code",
   "execution_count": 418,
   "metadata": {
    "collapsed": false
   },
   "outputs": [
    {
     "data": {
      "text/html": [
       "<div style=\"max-height:1000px;max-width:1500px;overflow:auto;\">\n",
       "<table border=\"1\" class=\"dataframe\">\n",
       "  <thead>\n",
       "    <tr style=\"text-align: right;\">\n",
       "      <th></th>\n",
       "      <th>cnt</th>\n",
       "      <th>ctr</th>\n",
       "    </tr>\n",
       "  </thead>\n",
       "  <tbody>\n",
       "    <tr>\n",
       "      <th>Android</th>\n",
       "      <td> 396</td>\n",
       "      <td> 0.009202</td>\n",
       "    </tr>\n",
       "    <tr>\n",
       "      <th>BlackBerry</th>\n",
       "      <td>  56</td>\n",
       "      <td> 0.007741</td>\n",
       "    </tr>\n",
       "    <tr>\n",
       "      <th>Chrome</th>\n",
       "      <td> 354</td>\n",
       "      <td> 0.004996</td>\n",
       "    </tr>\n",
       "    <tr>\n",
       "      <th>Firefox</th>\n",
       "      <td>  61</td>\n",
       "      <td> 0.000224</td>\n",
       "    </tr>\n",
       "    <tr>\n",
       "      <th>Internet</th>\n",
       "      <td>   2</td>\n",
       "      <td> 1.000000</td>\n",
       "    </tr>\n",
       "    <tr>\n",
       "      <th>Opera</th>\n",
       "      <td>  39</td>\n",
       "      <td> 0.002702</td>\n",
       "    </tr>\n",
       "    <tr>\n",
       "      <th>Other</th>\n",
       "      <td>  44</td>\n",
       "      <td> 0.002992</td>\n",
       "    </tr>\n",
       "    <tr>\n",
       "      <th>Safari</th>\n",
       "      <td> 945</td>\n",
       "      <td> 0.004234</td>\n",
       "    </tr>\n",
       "    <tr>\n",
       "      <th>iPad</th>\n",
       "      <td>  18</td>\n",
       "      <td> 0.004315</td>\n",
       "    </tr>\n",
       "    <tr>\n",
       "      <th>iPhone</th>\n",
       "      <td> 109</td>\n",
       "      <td> 0.006126</td>\n",
       "    </tr>\n",
       "  </tbody>\n",
       "</table>\n",
       "<p>10 rows × 2 columns</p>\n",
       "</div>"
      ],
      "text/plain": [
       "            cnt       ctr\n",
       "Android     396  0.009202\n",
       "BlackBerry   56  0.007741\n",
       "Chrome      354  0.004996\n",
       "Firefox      61  0.000224\n",
       "Internet      2  1.000000\n",
       "Opera        39  0.002702\n",
       "Other        44  0.002992\n",
       "Safari      945  0.004234\n",
       "iPad         18  0.004315\n",
       "iPhone      109  0.006126\n",
       "\n",
       "[10 rows x 2 columns]"
      ]
     },
     "execution_count": 418,
     "metadata": {},
     "output_type": "execute_result"
    }
   ],
   "source": [
    "co = 'NGA'\n",
    "check_cor = data2[data2['co'] == co].groupby('br_short').apply(lambda x:float(x.click.sum())/((~x.click).sum()/impression_sample_rate + x.click.sum()))\n",
    "check_cor.sort(ascending = False)\n",
    "pd.DataFrame({'ctr':check_cor,'cnt':data2[data2['co'] == co]['br_short'].value_counts()})"
   ]
  },
  {
   "cell_type": "code",
   "execution_count": 433,
   "metadata": {
    "collapsed": false
   },
   "outputs": [
    {
     "data": {
      "text/html": [
       "<div style=\"max-height:1000px;max-width:1500px;overflow:auto;\">\n",
       "<table border=\"1\" class=\"dataframe\">\n",
       "  <thead>\n",
       "    <tr style=\"text-align: right;\">\n",
       "      <th></th>\n",
       "      <th>cnt</th>\n",
       "      <th>ctr</th>\n",
       "    </tr>\n",
       "  </thead>\n",
       "  <tbody>\n",
       "    <tr>\n",
       "      <th>android</th>\n",
       "      <td> 685</td>\n",
       "      <td> 0.007675</td>\n",
       "    </tr>\n",
       "    <tr>\n",
       "      <th>ios</th>\n",
       "      <td> 129</td>\n",
       "      <td> 0.005798</td>\n",
       "    </tr>\n",
       "  </tbody>\n",
       "</table>\n",
       "<p>2 rows × 2 columns</p>\n",
       "</div>"
      ],
      "text/plain": [
       "         cnt       ctr\n",
       "android  685  0.007675\n",
       "ios      129  0.005798\n",
       "\n",
       "[2 rows x 2 columns]"
      ]
     },
     "execution_count": 433,
     "metadata": {},
     "output_type": "execute_result"
    }
   ],
   "source": [
    "co = 'NGA'\n",
    "check_cor = data2[data2['co'] == co].groupby('plfm').apply(lambda x:float(x.click.sum())/((~x.click).sum()/impression_sample_rate + x.click.sum()))\n",
    "check_cor.sort(ascending = False)\n",
    "pd.DataFrame({'ctr':check_cor,'cnt':data2[data2['co'] == co]['plfm'].value_counts()})"
   ]
  },
  {
   "cell_type": "markdown",
   "metadata": {},
   "source": [
    "Seem to be somehow correlated..."
   ]
  },
  {
   "cell_type": "code",
   "execution_count": null,
   "metadata": {
    "collapsed": false
   },
   "outputs": [],
   "source": [
    "co_ctr = data2.groupby('co').apply(lambda x:float(x.click.sum())/((~x.click).sum()/impression_sample_rate + x.click.sum()))\n",
    "co_anroid_iphone = data2.groupby('co').apply(lambda x:float(x[x['br_short'] == 'Android'].shape[0])/(x[x['br_short'] == 'iPhone'].shape[0] + 0.01))\n",
    "pd.DataFrame({'ctr':co_ctr,'br_rate':co_anroid_iphone}).plot(kind='scatter',x='br_rate',y='ctr',ylim=(-.02,.06),xlim=(-50,420))"
   ]
  },
  {
   "cell_type": "markdown",
   "metadata": {},
   "source": [
    "No they are not correclated across all countries...\n",
    "\n",
    "What to look at it in a different way:"
   ]
  },
  {
   "cell_type": "code",
   "execution_count": 484,
   "metadata": {
    "collapsed": true
   },
   "outputs": [],
   "source": [
    "countries = ['ITA','GBR','NGA','USA']\n",
    "platforms = ['android','ios']\n",
    "cmp_co = pd.DataFrame(index=countries, columns=['android','ios','show','click','ctr'])\n",
    "cmp_co = cmp_co.fillna(0)\n",
    "for col in platforms:\n",
    "    for ind in countries:\n",
    "        cmp_co.loc[ind,col] = es.count(index=\"events-*\", body={'query': {'bool': {'must':[{'match': { 'co' : ind }}, {'match': { 'plfm' : col }}, {'match': { 'et' : 'AD_SHOW' }}], 'must_not':[{'match': { 'fr' : 'true' }}]}}})['count']"
   ]
  },
  {
   "cell_type": "code",
   "execution_count": 437,
   "metadata": {
    "collapsed": true
   },
   "outputs": [],
   "source": [
    "for co in countries:\n",
    "    cmp_co.loc[co, 'show'] = es.count(index=\"events-*\", body={'query': {'bool': {'must':[{'match': { 'co' : co }}, {'match': { 'et' : 'AD_SHOW' }}], 'must_not':[{'match': { 'fr' : 'true' }}]}}})['count']\n",
    "    cmp_co.loc[co, 'click'] = es.count(index=\"events-*\", body={'query': {'bool': {'must':[{'match': { 'co' : co }}, {'match': { 'et' : 'AD_CLICK' }}], 'must_not':[{'match': { 'fr' : 'true' }}]}}})['count']"
   ]
  },
  {
   "cell_type": "code",
   "execution_count": 439,
   "metadata": {
    "collapsed": false
   },
   "outputs": [
    {
     "data": {
      "text/html": [
       "<div style=\"max-height:1000px;max-width:1500px;overflow:auto;\">\n",
       "<table border=\"1\" class=\"dataframe\">\n",
       "  <thead>\n",
       "    <tr style=\"text-align: right;\">\n",
       "      <th></th>\n",
       "      <th>android</th>\n",
       "      <th>ios</th>\n",
       "      <th>show</th>\n",
       "      <th>click</th>\n",
       "      <th>ctr</th>\n",
       "    </tr>\n",
       "  </thead>\n",
       "  <tbody>\n",
       "    <tr>\n",
       "      <th>ITA</th>\n",
       "      <td> 347836</td>\n",
       "      <td>     657</td>\n",
       "      <td>  463172</td>\n",
       "      <td> 2224</td>\n",
       "      <td> 0.004802</td>\n",
       "    </tr>\n",
       "    <tr>\n",
       "      <th>GBR</th>\n",
       "      <td>  45299</td>\n",
       "      <td>   24246</td>\n",
       "      <td> 1486800</td>\n",
       "      <td> 4617</td>\n",
       "      <td> 0.003105</td>\n",
       "    </tr>\n",
       "    <tr>\n",
       "      <th>NGA</th>\n",
       "      <td> 169955</td>\n",
       "      <td>   37855</td>\n",
       "      <td>  580580</td>\n",
       "      <td> 1833</td>\n",
       "      <td> 0.003157</td>\n",
       "    </tr>\n",
       "    <tr>\n",
       "      <th>USA</th>\n",
       "      <td> 287950</td>\n",
       "      <td> 1069349</td>\n",
       "      <td> 2110402</td>\n",
       "      <td> 1287</td>\n",
       "      <td> 0.000610</td>\n",
       "    </tr>\n",
       "  </tbody>\n",
       "</table>\n",
       "<p>4 rows × 5 columns</p>\n",
       "</div>"
      ],
      "text/plain": [
       "     android      ios     show  click       ctr\n",
       "ITA   347836      657   463172   2224  0.004802\n",
       "GBR    45299    24246  1486800   4617  0.003105\n",
       "NGA   169955    37855   580580   1833  0.003157\n",
       "USA   287950  1069349  2110402   1287  0.000610\n",
       "\n",
       "[4 rows x 5 columns]"
      ]
     },
     "execution_count": 439,
     "metadata": {},
     "output_type": "execute_result"
    }
   ],
   "source": [
    "cmp_co = cmp_co[['android','ios','show','click','ctr']]\n",
    "cmp_co.loc[:,'ctr'] = cmp_co['click'] / cmp_co['show']\n",
    "cmp_co"
   ]
  },
  {
   "cell_type": "code",
   "execution_count": 457,
   "metadata": {
    "collapsed": false
   },
   "outputs": [
    {
     "data": {
      "text/html": [
       "<div style=\"max-height:1000px;max-width:1500px;overflow:auto;\">\n",
       "<table border=\"1\" class=\"dataframe\">\n",
       "  <thead>\n",
       "    <tr style=\"text-align: right;\">\n",
       "      <th></th>\n",
       "      <th>android</th>\n",
       "      <th>ios</th>\n",
       "      <th>show</th>\n",
       "      <th>click</th>\n",
       "      <th>ctr</th>\n",
       "      <th>area</th>\n",
       "    </tr>\n",
       "  </thead>\n",
       "  <tbody>\n",
       "    <tr>\n",
       "      <th>ITA</th>\n",
       "      <td> 347836</td>\n",
       "      <td>     657</td>\n",
       "      <td>  463172</td>\n",
       "      <td> 2224</td>\n",
       "      <td> 0.004802</td>\n",
       "      <td> 138544.236023</td>\n",
       "    </tr>\n",
       "    <tr>\n",
       "      <th>GBR</th>\n",
       "      <td>  45299</td>\n",
       "      <td>   24246</td>\n",
       "      <td> 1486800</td>\n",
       "      <td> 4617</td>\n",
       "      <td> 0.003105</td>\n",
       "      <td>  57255.526112</td>\n",
       "    </tr>\n",
       "    <tr>\n",
       "      <th>NGA</th>\n",
       "      <td> 169955</td>\n",
       "      <td>   37855</td>\n",
       "      <td>  580580</td>\n",
       "      <td> 1833</td>\n",
       "      <td> 0.003157</td>\n",
       "      <td>  57255.526112</td>\n",
       "    </tr>\n",
       "    <tr>\n",
       "      <th>USA</th>\n",
       "      <td> 287950</td>\n",
       "      <td> 1069349</td>\n",
       "      <td> 2110402</td>\n",
       "      <td> 1287</td>\n",
       "      <td> 0.000610</td>\n",
       "      <td>   2827.433388</td>\n",
       "    </tr>\n",
       "  </tbody>\n",
       "</table>\n",
       "<p>4 rows × 6 columns</p>\n",
       "</div>"
      ],
      "text/plain": [
       "     android      ios     show  click       ctr           area\n",
       "ITA   347836      657   463172   2224  0.004802  138544.236023\n",
       "GBR    45299    24246  1486800   4617  0.003105   57255.526112\n",
       "NGA   169955    37855   580580   1833  0.003157   57255.526112\n",
       "USA   287950  1069349  2110402   1287  0.000610    2827.433388\n",
       "\n",
       "[4 rows x 6 columns]"
      ]
     },
     "execution_count": 457,
     "metadata": {},
     "output_type": "execute_result"
    }
   ],
   "source": [
    "cmp_co['area'] = np.pi * (15 * np.round(cmp_co['ctr']*3000))**2 \n",
    "cmp_co"
   ]
  },
  {
   "cell_type": "code",
   "execution_count": 471,
   "metadata": {
    "collapsed": false
   },
   "outputs": [
    {
     "data": {
      "text/plain": [
       "[<matplotlib.lines.Line2D at 0x7fb992074d10>]"
      ]
     },
     "execution_count": 471,
     "metadata": {},
     "output_type": "execute_result"
    },
    {
     "data": {
      "image/png": "[encoded data removed]",
      "text/plain": [
       "<matplotlib.figure.Figure at 0x7fb99240b410>"
      ]
     },
     "metadata": {},
     "output_type": "display_data"
    }
   ],
   "source": [
    "cmp_co['area'] = np.pi * (np.round(cmp_co['ctr']*3000))**2\n",
    "fig = plt.figure(figsize=(5, 5))\n",
    "ax = fig.add_subplot(1,1,1)\n",
    "ax.scatter(cmp_co['ios'],cmp_co['android'],s=cmp_co['area'],c=['r','y','g','b'],alpha=0.5)\n",
    "ax.set_ylabel('Number of events on Android',fontsize=16)\n",
    "ax.set_xlabel('Number of events on iOS',fontsize=16)\n",
    "plt.plot([0,400000], [0,400000], 'k--')"
   ]
  },
  {
   "cell_type": "code",
   "execution_count": 482,
   "metadata": {
    "collapsed": false
   },
   "outputs": [],
   "source": [
    "countries2 = data2['co'].value_counts()[:10].index.values"
   ]
  },
  {
   "cell_type": "code",
   "execution_count": 485,
   "metadata": {
    "collapsed": true
   },
   "outputs": [],
   "source": [
    "cmp_co2 = pd.DataFrame(index=countries2, columns=['android','ios','show','click','ctr'])\n",
    "cmp_co2 = cmp_co.fillna(0)\n",
    "for col in platforms:\n",
    "    for ind in countries2:\n",
    "        cmp_co2.loc[ind,col] = es.count(index=\"events-*\", body={'query': {'bool': {'must':[{'match': { 'co' : ind }}, {'match': { 'plfm' : col }}, {'match': { 'et' : 'AD_SHOW' }}], 'must_not':[{'match': { 'fr' : 'true' }}]}}})['count']"
   ]
  },
  {
   "cell_type": "code",
   "execution_count": 486,
   "metadata": {
    "collapsed": true
   },
   "outputs": [],
   "source": [
    "for co in countries2:\n",
    "    cmp_co2.loc[co, 'show'] = es.count(index=\"events-*\", body={'query': {'bool': {'must':[{'match': { 'co' : co }}, {'match': { 'et' : 'AD_SHOW' }}], 'must_not':[{'match': { 'fr' : 'true' }}]}}})['count']\n",
    "    cmp_co2.loc[co, 'click'] = es.count(index=\"events-*\", body={'query': {'bool': {'must':[{'match': { 'co' : co }}, {'match': { 'et' : 'AD_CLICK' }}], 'must_not':[{'match': { 'fr' : 'true' }}]}}})['count']"
   ]
  },
  {
   "cell_type": "code",
   "execution_count": 487,
   "metadata": {
    "collapsed": false
   },
   "outputs": [
    {
     "data": {
      "text/html": [
       "<div style=\"max-height:1000px;max-width:1500px;overflow:auto;\">\n",
       "<table border=\"1\" class=\"dataframe\">\n",
       "  <thead>\n",
       "    <tr style=\"text-align: right;\">\n",
       "      <th></th>\n",
       "      <th>android</th>\n",
       "      <th>ios</th>\n",
       "      <th>show</th>\n",
       "      <th>click</th>\n",
       "      <th>ctr</th>\n",
       "    </tr>\n",
       "  </thead>\n",
       "  <tbody>\n",
       "    <tr>\n",
       "      <th>ITA</th>\n",
       "      <td> 347868</td>\n",
       "      <td>     657</td>\n",
       "      <td>  463225</td>\n",
       "      <td> 2224</td>\n",
       "      <td> 0.004801</td>\n",
       "    </tr>\n",
       "    <tr>\n",
       "      <th>GBR</th>\n",
       "      <td>  45299</td>\n",
       "      <td>   24246</td>\n",
       "      <td> 1487042</td>\n",
       "      <td> 4617</td>\n",
       "      <td> 0.003105</td>\n",
       "    </tr>\n",
       "    <tr>\n",
       "      <th>NGA</th>\n",
       "      <td> 170062</td>\n",
       "      <td>   37855</td>\n",
       "      <td>  580809</td>\n",
       "      <td> 1834</td>\n",
       "      <td> 0.003158</td>\n",
       "    </tr>\n",
       "    <tr>\n",
       "      <th>USA</th>\n",
       "      <td> 287957</td>\n",
       "      <td> 1069352</td>\n",
       "      <td> 2110630</td>\n",
       "      <td> 1287</td>\n",
       "      <td> 0.000610</td>\n",
       "    </tr>\n",
       "    <tr>\n",
       "      <th>CAN</th>\n",
       "      <td>  10866</td>\n",
       "      <td>   27322</td>\n",
       "      <td>  105509</td>\n",
       "      <td>   62</td>\n",
       "      <td> 0.000588</td>\n",
       "    </tr>\n",
       "    <tr>\n",
       "      <th>AUS</th>\n",
       "      <td>    998</td>\n",
       "      <td>    2535</td>\n",
       "      <td>  129905</td>\n",
       "      <td>  115</td>\n",
       "      <td> 0.000885</td>\n",
       "    </tr>\n",
       "    <tr>\n",
       "      <th>SGP</th>\n",
       "      <td>    298</td>\n",
       "      <td>      31</td>\n",
       "      <td>  101535</td>\n",
       "      <td>   50</td>\n",
       "      <td> 0.000492</td>\n",
       "    </tr>\n",
       "    <tr>\n",
       "      <th>IRL</th>\n",
       "      <td>   2535</td>\n",
       "      <td>     467</td>\n",
       "      <td>   53476</td>\n",
       "      <td>   75</td>\n",
       "      <td> 0.001402</td>\n",
       "    </tr>\n",
       "    <tr>\n",
       "      <th>ZAF</th>\n",
       "      <td>  11429</td>\n",
       "      <td>    1278</td>\n",
       "      <td>   58286</td>\n",
       "      <td>   85</td>\n",
       "      <td> 0.001458</td>\n",
       "    </tr>\n",
       "    <tr>\n",
       "      <th>GHA</th>\n",
       "      <td>  10052</td>\n",
       "      <td>    4864</td>\n",
       "      <td>   35764</td>\n",
       "      <td>   78</td>\n",
       "      <td> 0.002181</td>\n",
       "    </tr>\n",
       "  </tbody>\n",
       "</table>\n",
       "<p>10 rows × 5 columns</p>\n",
       "</div>"
      ],
      "text/plain": [
       "     android      ios     show  click       ctr\n",
       "ITA   347868      657   463225   2224  0.004801\n",
       "GBR    45299    24246  1487042   4617  0.003105\n",
       "NGA   170062    37855   580809   1834  0.003158\n",
       "USA   287957  1069352  2110630   1287  0.000610\n",
       "CAN    10866    27322   105509     62  0.000588\n",
       "AUS      998     2535   129905    115  0.000885\n",
       "SGP      298       31   101535     50  0.000492\n",
       "IRL     2535      467    53476     75  0.001402\n",
       "ZAF    11429     1278    58286     85  0.001458\n",
       "GHA    10052     4864    35764     78  0.002181\n",
       "\n",
       "[10 rows x 5 columns]"
      ]
     },
     "execution_count": 487,
     "metadata": {},
     "output_type": "execute_result"
    }
   ],
   "source": [
    "#cmp_co2 = cmp_co2[['android','ios','show','click','ctr']]\n",
    "cmp_co2.loc[:,'ctr'] = cmp_co2['click'] / cmp_co2['show']\n",
    "cmp_co2"
   ]
  },
  {
   "cell_type": "code",
   "execution_count": 488,
   "metadata": {
    "collapsed": false
   },
   "outputs": [
    {
     "data": {
      "text/plain": [
       "[<matplotlib.lines.Line2D at 0x7fb991fb7890>]"
      ]
     },
     "execution_count": 488,
     "metadata": {},
     "output_type": "execute_result"
    },
    {
     "data": {
      "image/png": "[encoded data removed]",
      "text/plain": [
       "<matplotlib.figure.Figure at 0x7fb99222fc10>"
      ]
     },
     "metadata": {},
     "output_type": "display_data"
    }
   ],
   "source": [
    "cmp_co2['area'] = np.pi * (np.round(cmp_co2['ctr']*3000))**2\n",
    "fig = plt.figure(figsize=(5, 5))\n",
    "ax = fig.add_subplot(1,1,1)\n",
    "ax.scatter(np.log10(cmp_co2['ios']),cmp_co2['android'],s=cmp_co2['area'],alpha=0.5)\n",
    "ax.set_ylabel('Number of events on Android',fontsize=16)\n",
    "ax.set_xlabel('Number of events on iOS',fontsize=16)\n",
    "plt.plot([0,400000], [0,400000], 'k--')"
   ]
  },
  {
   "cell_type": "markdown",
   "metadata": {},
   "source": [
    "#Calculate the Android vs iOS for the corrected dataset"
   ]
  },
  {
   "cell_type": "code",
   "execution_count": 2,
   "metadata": {
    "collapsed": true
   },
   "outputs": [],
   "source": [
    "es = Elasticsearch([{'host': eslogin.host, 'port': eslogin.port}],http_auth=(eslogin.user,eslogin.password))"
   ]
  },
  {
   "cell_type": "code",
   "execution_count": 490,
   "metadata": {
    "collapsed": false
   },
   "outputs": [
    {
     "data": {
      "text/plain": [
       "924021"
      ]
     },
     "execution_count": 490,
     "metadata": {},
     "output_type": "execute_result"
    }
   ],
   "source": [
    "es.count(index=\"events-*\", body={'query': {'bool': {'must':[{'match': { 'plfm' : 'android' }}, {'match': { 'et' : 'AD_SHOW' }}], 'must_not':[{'match': { 'fr' : 'true' }}]}}})['count']"
   ]
  },
  {
   "cell_type": "code",
   "execution_count": 491,
   "metadata": {
    "collapsed": false
   },
   "outputs": [
    {
     "data": {
      "text/plain": [
       "3745"
      ]
     },
     "execution_count": 491,
     "metadata": {},
     "output_type": "execute_result"
    }
   ],
   "source": [
    "es.count(index=\"events-*\", body={'query': {'bool': {'must':[{'match': { 'plfm' : 'android' }}, {'match': { 'et' : 'AD_CLICK' }}], 'must_not':[{'match': { 'fr' : 'true' }}]}}})['count']"
   ]
  },
  {
   "cell_type": "code",
   "execution_count": 494,
   "metadata": {
    "collapsed": false
   },
   "outputs": [
    {
     "data": {
      "text/plain": [
       "0.0040529381907986935"
      ]
     },
     "execution_count": 494,
     "metadata": {},
     "output_type": "execute_result"
    }
   ],
   "source": [
    "float(3745)/924021"
   ]
  },
  {
   "cell_type": "code",
   "execution_count": 495,
   "metadata": {
    "collapsed": false
   },
   "outputs": [
    {
     "data": {
      "text/plain": [
       "1177735"
      ]
     },
     "execution_count": 495,
     "metadata": {},
     "output_type": "execute_result"
    }
   ],
   "source": [
    "es.count(index=\"events-*\", body={'query': {'bool': {'must':[{'match': { 'plfm' : 'ios' }}, {'match': { 'et' : 'AD_SHOW' }}], 'must_not':[{'match': { 'fr' : 'true' }}]}}})['count']"
   ]
  },
  {
   "cell_type": "code",
   "execution_count": 496,
   "metadata": {
    "collapsed": false
   },
   "outputs": [
    {
     "data": {
      "text/plain": [
       "458"
      ]
     },
     "execution_count": 496,
     "metadata": {},
     "output_type": "execute_result"
    }
   ],
   "source": [
    "es.count(index=\"events-*\", body={'query': {'bool': {'must':[{'match': { 'plfm' : 'ios' }}, {'match': { 'et' : 'AD_CLICK' }}], 'must_not':[{'match': { 'fr' : 'true' }}]}}})['count']"
   ]
  },
  {
   "cell_type": "code",
   "execution_count": 497,
   "metadata": {
    "collapsed": false
   },
   "outputs": [
    {
     "data": {
      "text/plain": [
       "0.0003888820490178181"
      ]
     },
     "execution_count": 497,
     "metadata": {},
     "output_type": "execute_result"
    }
   ],
   "source": [
    "float(458)/1177735"
   ]
  },
  {
   "cell_type": "code",
   "execution_count": 4,
   "metadata": {
    "collapsed": false
   },
   "outputs": [
    {
     "data": {
      "text/plain": [
       "0.002017591303004998"
      ]
     },
     "execution_count": 4,
     "metadata": {},
     "output_type": "execute_result"
    }
   ],
   "source": [
    "rate_all = float(es.count(index=\"events-*\", body={'query': {'bool': {'must':[{'match': { 'et' : 'AD_CLICK' }}], 'must_not':[{'match': { 'fr' : 'true' }}]}}})['count'])/es.count(index=\"events-*\", body={'query': {'bool': {'must':[{'match': { 'et' : 'AD_SHOW' }}], 'must_not':[{'match': { 'fr' : 'true' }}]}}})['count']\n",
    "rate_all"
   ]
  },
  {
   "cell_type": "code",
   "execution_count": 511,
   "metadata": {
    "collapsed": false
   },
   "outputs": [
    {
     "data": {
      "text/plain": [
       "10.422024367118558"
      ]
     },
     "execution_count": 511,
     "metadata": {},
     "output_type": "execute_result"
    }
   ],
   "source": [
    "0.0040529381907986935/0.0003888820490178181"
   ]
  },
  {
   "cell_type": "code",
   "execution_count": 7,
   "metadata": {
    "collapsed": false
   },
   "outputs": [
    {
     "data": {
      "image/png": "[encoded data removed]",
      "text/plain": [
       "<matplotlib.figure.Figure at 0x7fd9827ef850>"
      ]
     },
     "metadata": {},
     "output_type": "display_data"
    }
   ],
   "source": [
    "sns.set(style=\"white\", context=\"talk\")\n",
    "x = np.array(['Android','iOS'])\n",
    "y = np.array([0.0040529381907986935,0.0003888820490178181])\n",
    "f, (ax) = plt.subplots(1, 1, figsize=(4, 6), sharex=True)\n",
    "p = sns.barplot(x, y, ci=None, palette=\"coolwarm\", hline=.1,ax=ax)\n",
    "ax.set_ylabel(\"Click-through-rate (CTR)\",fontsize=20)\n",
    "ax.axhline(y=rate_all)\n",
    "#ax.setup(ax.get_yticklabels(), fontsize=20)\n",
    "sns.despine(bottom=True)"
   ]
  },
  {
   "cell_type": "markdown",
   "metadata": {},
   "source": [
    "#What's Android vs iOS for each country?"
   ]
  },
  {
   "cell_type": "markdown",
   "metadata": {},
   "source": [
    "USA Android:"
   ]
  },
  {
   "cell_type": "code",
   "execution_count": 10,
   "metadata": {
    "collapsed": false
   },
   "outputs": [
    {
     "data": {
      "text/plain": [
       "0.0007981787642804592"
      ]
     },
     "execution_count": 10,
     "metadata": {},
     "output_type": "execute_result"
    }
   ],
   "source": [
    "usa_a = float(es.count(index=\"events-*\", body={'query': {'bool': {'must':[{'match': { 'plfm' : 'android' }}, {'match': { 'co' : 'USA' }}, {'match': { 'et' : 'AD_CLICK' }}], 'must_not':[{'match': { 'fr' : 'true' }}]}}})['count'])/es.count(index=\"events-*\", body={'query': {'bool': {'must':[{'match': { 'plfm' : 'android' }}, {'match': { 'co' : 'USA' }}, {'match': { 'et' : 'AD_SHOW' }}], 'must_not':[{'match': { 'fr' : 'true' }}]}}})['count']\n",
    "usa_a"
   ]
  },
  {
   "cell_type": "markdown",
   "metadata": {},
   "source": [
    "USA iOS:"
   ]
  },
  {
   "cell_type": "code",
   "execution_count": 11,
   "metadata": {
    "collapsed": false
   },
   "outputs": [
    {
     "data": {
      "text/plain": [
       "0.0001486752474414299"
      ]
     },
     "execution_count": 11,
     "metadata": {},
     "output_type": "execute_result"
    }
   ],
   "source": [
    "usa_i = float(es.count(index=\"events-*\", body={'query': {'bool': {'must':[{'match': { 'plfm' : 'ios' }}, {'match': { 'co' : 'USA' }}, {'match': { 'et' : 'AD_CLICK' }}], 'must_not':[{'match': { 'fr' : 'true' }}]}}})['count'])/es.count(index=\"events-*\", body={'query': {'bool': {'must':[{'match': { 'plfm' : 'ios' }}, {'match': { 'co' : 'USA' }}, {'match': { 'et' : 'AD_SHOW' }}], 'must_not':[{'match': { 'fr' : 'true' }}]}}})['count']\n",
    "usa_i"
   ]
  },
  {
   "cell_type": "code",
   "execution_count": 13,
   "metadata": {
    "collapsed": false
   },
   "outputs": [
    {
     "name": "stdout",
     "output_type": "stream",
     "text": [
      "ITA Android: 0.0047\n",
      "ITA iOS: 0.1294\n",
      "GBR Android: 0.0187\n",
      "GBR iOS: 0.0016\n",
      "NGA Android: 0.0046\n",
      "NGA iOS: 0.0030\n",
      "\n"
     ]
    }
   ],
   "source": [
    "ita_a = float(es.count(index=\"events-*\", body={'query': {'bool': {'must':[{'match': { 'plfm' : 'android' }}, {'match': { 'co' : 'ITA' }}, {'match': { 'et' : 'AD_CLICK' }}], 'must_not':[{'match': { 'fr' : 'true' }}]}}})['count'])/es.count(index=\"events-*\", body={'query': {'bool': {'must':[{'match': { 'plfm' : 'android' }}, {'match': { 'co' : 'ITA' }}, {'match': { 'et' : 'AD_SHOW' }}], 'must_not':[{'match': { 'fr' : 'true' }}]}}})['count']\n",
    "ita_i = float(es.count(index=\"events-*\", body={'query': {'bool': {'must':[{'match': { 'plfm' : 'ios' }}, {'match': { 'co' : 'ITA' }}, {'match': { 'et' : 'AD_CLICK' }}], 'must_not':[{'match': { 'fr' : 'true' }}]}}})['count'])/es.count(index=\"events-*\", body={'query': {'bool': {'must':[{'match': { 'plfm' : 'ios' }}, {'match': { 'co' : 'ITA' }}, {'match': { 'et' : 'AD_SHOW' }}], 'must_not':[{'match': { 'fr' : 'true' }}]}}})['count']\n",
    "gbr_a = float(es.count(index=\"events-*\", body={'query': {'bool': {'must':[{'match': { 'plfm' : 'android' }}, {'match': { 'co' : 'GBR' }}, {'match': { 'et' : 'AD_CLICK' }}], 'must_not':[{'match': { 'fr' : 'true' }}]}}})['count'])/es.count(index=\"events-*\", body={'query': {'bool': {'must':[{'match': { 'plfm' : 'android' }}, {'match': { 'co' : 'GBR' }}, {'match': { 'et' : 'AD_SHOW' }}], 'must_not':[{'match': { 'fr' : 'true' }}]}}})['count']\n",
    "gbr_i = float(es.count(index=\"events-*\", body={'query': {'bool': {'must':[{'match': { 'plfm' : 'ios' }}, {'match': { 'co' : 'GBR' }}, {'match': { 'et' : 'AD_CLICK' }}], 'must_not':[{'match': { 'fr' : 'true' }}]}}})['count'])/es.count(index=\"events-*\", body={'query': {'bool': {'must':[{'match': { 'plfm' : 'ios' }}, {'match': { 'co' : 'GBR' }}, {'match': { 'et' : 'AD_SHOW' }}], 'must_not':[{'match': { 'fr' : 'true' }}]}}})['count']\n",
    "nga_a = float(es.count(index=\"events-*\", body={'query': {'bool': {'must':[{'match': { 'plfm' : 'android' }}, {'match': { 'co' : 'NGA' }}, {'match': { 'et' : 'AD_CLICK' }}], 'must_not':[{'match': { 'fr' : 'true' }}]}}})['count'])/es.count(index=\"events-*\", body={'query': {'bool': {'must':[{'match': { 'plfm' : 'android' }}, {'match': { 'co' : 'NGA' }}, {'match': { 'et' : 'AD_SHOW' }}], 'must_not':[{'match': { 'fr' : 'true' }}]}}})['count']\n",
    "nga_i = float(es.count(index=\"events-*\", body={'query': {'bool': {'must':[{'match': { 'plfm' : 'ios' }}, {'match': { 'co' : 'NGA' }}, {'match': { 'et' : 'AD_CLICK' }}], 'must_not':[{'match': { 'fr' : 'true' }}]}}})['count'])/es.count(index=\"events-*\", body={'query': {'bool': {'must':[{'match': { 'plfm' : 'ios' }}, {'match': { 'co' : 'NGA' }}, {'match': { 'et' : 'AD_SHOW' }}], 'must_not':[{'match': { 'fr' : 'true' }}]}}})['count']\n",
    "print 'ITA Android: %.4f\\nITA iOS: %.4f\\nGBR Android: %.4f\\nGBR iOS: %.4f\\nNGA Android: %.4f\\nNGA iOS: %.4f\\n' % (ita_a,ita_i,gbr_a,gbr_i,nga_a,nga_i)"
   ]
  },
  {
   "cell_type": "code",
   "execution_count": 14,
   "metadata": {
    "collapsed": false
   },
   "outputs": [
    {
     "data": {
      "text/plain": [
       "657"
      ]
     },
     "execution_count": 14,
     "metadata": {},
     "output_type": "execute_result"
    }
   ],
   "source": [
    "es.count(index=\"events-*\", body={'query': {'bool': {'must':[{'match': { 'plfm' : 'ios' }}, {'match': { 'co' : 'ITA' }}, {'match': { 'et' : 'AD_SHOW' }}], 'must_not':[{'match': { 'fr' : 'true' }}]}}})['count']"
   ]
  },
  {
   "cell_type": "code",
   "execution_count": 16,
   "metadata": {
    "collapsed": false
   },
   "outputs": [
    {
     "name": "stdout",
     "output_type": "stream",
     "text": [
      "USA: 0.0006\n",
      "ITA 0.0048\n",
      "GBR: 0.0031\n",
      "NGA: 0.0031\n",
      "\n"
     ]
    }
   ],
   "source": [
    "usa_rate = float(es.count(index=\"events-*\", body={'query': {'bool': {'must':[{'match': { 'co' : 'USA' }}, {'match': { 'et' : 'AD_CLICK' }}], 'must_not':[{'match': { 'fr' : 'true' }}]}}})['count'])/es.count(index=\"events-*\", body={'query': {'bool': {'must':[{'match': { 'co' : 'USA' }}, {'match': { 'et' : 'AD_SHOW' }}], 'must_not':[{'match': { 'fr' : 'true' }}]}}})['count']\n",
    "ita_rate = float(es.count(index=\"events-*\", body={'query': {'bool': {'must':[{'match': { 'co' : 'ITA' }}, {'match': { 'et' : 'AD_CLICK' }}], 'must_not':[{'match': { 'fr' : 'true' }}]}}})['count'])/es.count(index=\"events-*\", body={'query': {'bool': {'must':[{'match': { 'co' : 'ITA' }}, {'match': { 'et' : 'AD_SHOW' }}], 'must_not':[{'match': { 'fr' : 'true' }}]}}})['count']\n",
    "gbr_rate = float(es.count(index=\"events-*\", body={'query': {'bool': {'must':[{'match': { 'co' : 'GBR' }}, {'match': { 'et' : 'AD_CLICK' }}], 'must_not':[{'match': { 'fr' : 'true' }}]}}})['count'])/es.count(index=\"events-*\", body={'query': {'bool': {'must':[{'match': { 'co' : 'GBR' }}, {'match': { 'et' : 'AD_SHOW' }}], 'must_not':[{'match': { 'fr' : 'true' }}]}}})['count']\n",
    "nga_rate = float(es.count(index=\"events-*\", body={'query': {'bool': {'must':[{'match': { 'co' : 'NGA' }}, {'match': { 'et' : 'AD_CLICK' }}], 'must_not':[{'match': { 'fr' : 'true' }}]}}})['count'])/es.count(index=\"events-*\", body={'query': {'bool': {'must':[{'match': { 'co' : 'NGA' }}, {'match': { 'et' : 'AD_SHOW' }}], 'must_not':[{'match': { 'fr' : 'true' }}]}}})['count']\n",
    "print 'USA: %.4f\\nITA %.4f\\nGBR: %.4f\\nNGA: %.4f\\n' % (usa_rate,ita_rate,gbr_rate,nga_rate)"
   ]
  },
  {
   "cell_type": "code",
   "execution_count": 29,
   "metadata": {
    "collapsed": false
   },
   "outputs": [
    {
     "data": {
      "image/png": "[encoded data removed]",
      "text/plain": [
       "<matplotlib.figure.Figure at 0x7fd981bc0190>"
      ]
     },
     "metadata": {},
     "output_type": "display_data"
    }
   ],
   "source": [
    "sns.set(style=\"white\", context=\"talk\")\n",
    "x = np.array(['Android','iOS'])\n",
    "y = np.array([usa_a,usa_i])\n",
    "f, (ax) = plt.subplots(1, 1, figsize=(3, 6), sharex=True)\n",
    "p = sns.barplot(x, y, ci=None, palette=\"coolwarm\", hline=.1,ax=ax)\n",
    "plt.ylim([0, 0.01])\n",
    "ax.set_ylabel(\"Click-through-rate (CTR)\",fontsize=20)\n",
    "plt.title(\"USA\")\n",
    "ax.axhline(y=usa_rate)\n",
    "sns.despine(bottom=True)"
   ]
  },
  {
   "cell_type": "code",
   "execution_count": 28,
   "metadata": {
    "collapsed": false
   },
   "outputs": [
    {
     "data": {
      "image/png": "[encoded data removed]",
      "text/plain": [
       "<matplotlib.figure.Figure at 0x7fd981c69b50>"
      ]
     },
     "metadata": {},
     "output_type": "display_data"
    }
   ],
   "source": [
    "sns.set(style=\"white\", context=\"talk\")\n",
    "x = np.array(['Android','iOS'])\n",
    "y = np.array([ita_a,ita_i])\n",
    "f, (ax) = plt.subplots(1, 1, figsize=(3, 6), sharex=True)\n",
    "p = sns.barplot(x, y, ci=None, palette=\"coolwarm\", hline=.1,ax=ax)\n",
    "plt.ylim([0, 0.01])\n",
    "ax.set_ylabel(\"Click-through-rate (CTR)\",fontsize=20)\n",
    "plt.title(\"ITA\")\n",
    "ax.axhline(y=ita_rate)\n",
    "sns.despine(bottom=True)"
   ]
  },
  {
   "cell_type": "code",
   "execution_count": 30,
   "metadata": {
    "collapsed": false
   },
   "outputs": [
    {
     "data": {
      "image/png": "[encoded data removed]",
      "text/plain": [
       "<matplotlib.figure.Figure at 0x7fd981c0dad0>"
      ]
     },
     "metadata": {},
     "output_type": "display_data"
    }
   ],
   "source": [
    "sns.set(style=\"white\", context=\"talk\")\n",
    "x = np.array(['Android','iOS'])\n",
    "y = np.array([gbr_a,gbr_i])\n",
    "f, (ax) = plt.subplots(1, 1, figsize=(3, 6), sharex=True)\n",
    "p = sns.barplot(x, y, ci=None, palette=\"coolwarm\", hline=.1,ax=ax)\n",
    "plt.ylim([0, 0.01])\n",
    "ax.set_ylabel(\"Click-through-rate (CTR)\",fontsize=20)\n",
    "plt.title(\"UK\")\n",
    "ax.axhline(y=gbr_rate)\n",
    "sns.despine(bottom=True)"
   ]
  },
  {
   "cell_type": "code",
   "execution_count": 31,
   "metadata": {
    "collapsed": false
   },
   "outputs": [
    {
     "data": {
      "image/png": "[encoded data removed]",
      "text/plain": [
       "<matplotlib.figure.Figure at 0x7fd981d3d510>"
      ]
     },
     "metadata": {},
     "output_type": "display_data"
    }
   ],
   "source": [
    "sns.set(style=\"white\", context=\"talk\")\n",
    "x = np.array(['Android','iOS'])\n",
    "y = np.array([nga_a,nga_i])\n",
    "f, (ax) = plt.subplots(1, 1, figsize=(3, 6), sharex=True)\n",
    "p = sns.barplot(x, y, ci=None, palette=\"coolwarm\", hline=.1,ax=ax)\n",
    "plt.ylim([0, 0.01])\n",
    "ax.set_ylabel(\"Click-through-rate (CTR)\",fontsize=20)\n",
    "plt.title(\"NGA\")\n",
    "ax.axhline(y=nga_rate)\n",
    "sns.despine(bottom=True)"
   ]
  },
  {
   "cell_type": "markdown",
   "metadata": {},
   "source": [
    "#Timestamp - local or same time zone?"
   ]
  },
  {
   "cell_type": "code",
   "execution_count": null,
   "metadata": {
    "collapsed": false
   },
   "outputs": [],
   "source": [
    "clicks_uniq['created_at']"
   ]
  },
  {
   "cell_type": "code",
   "execution_count": null,
   "metadata": {
    "collapsed": false
   },
   "outputs": [],
   "source": [
    "data2[data2['br_short'] == 'Android'].shape[0]"
   ]
  },
  {
   "cell_type": "markdown",
   "metadata": {},
   "source": [
    "#CTR on different ads and app pairs"
   ]
  },
  {
   "cell_type": "markdown",
   "metadata": {},
   "source": [
    "I have looked at that CTR varies across all apps. How about ads?"
   ]
  },
  {
   "cell_type": "code",
   "execution_count": null,
   "metadata": {
    "collapsed": false
   },
   "outputs": [],
   "source": [
    "plt.figure(figsize=(20,5))\n",
    "p = data2.groupby('cr').apply(lambda x:float(x.click.sum())/((~x.click).sum()/impression_sample_rate + x.click.sum())).sort_index().plot(kind='bar',logy=True,ylim=(0,.04),title='CTR across ads')\n",
    "plt.axhline(y=rate)"
   ]
  },
  {
   "cell_type": "code",
   "execution_count": null,
   "metadata": {
    "collapsed": false
   },
   "outputs": [],
   "source": [
    "plt.figure(figsize=(20,5))\n",
    "p = data2.groupby('cr').apply(lambda x:(x.click.sum() + (~x.click).sum()/impression_sample_rate)).plot(kind='bar',color='b',ylim=(.5,5000000),title='number of events per ads')\n",
    "p.set_yscale('log')"
   ]
  },
  {
   "cell_type": "markdown",
   "metadata": {},
   "source": [
    "For a given ad, how different app differ in CTR?\n",
    "\n",
    "Super targeted (1 app): 214, 285, 289, 290\n",
    "\n",
    "<= 5 app: 250, 256, 275\n",
    "\n",
    "Diverse:"
   ]
  },
  {
   "cell_type": "code",
   "execution_count": null,
   "metadata": {
    "collapsed": false
   },
   "outputs": [],
   "source": [
    "cr = 289\n",
    "plt.figure(figsize=(20,5))\n",
    "p = data2[data2['cr'] == cr].groupby('ai').apply(lambda x:float(x.click.sum())/((~x.click).sum()/impression_sample_rate + x.click.sum())).sort_index().plot(kind='bar',logy=True,ylim=(0,0.01),title='CTR across app')"
   ]
  },
  {
   "cell_type": "markdown",
   "metadata": {},
   "source": [
    "Number of apps per ads:"
   ]
  },
  {
   "cell_type": "code",
   "execution_count": 355,
   "metadata": {
    "collapsed": false
   },
   "outputs": [
    {
     "data": {
      "text/plain": [
       "<matplotlib.axes._subplots.AxesSubplot at 0x7fb994e2a1d0>"
      ]
     },
     "execution_count": 355,
     "metadata": {},
     "output_type": "execute_result"
    },
    {
     "data": {
      "image/png": "[encoded data removed]",
      "text/plain": [
       "<matplotlib.figure.Figure at 0x7fb994e2a310>"
      ]
     },
     "metadata": {},
     "output_type": "display_data"
    }
   ],
   "source": [
    "plt.figure(figsize=(20,5))\n",
    "data2.groupby('cr').apply(lambda x: len(np.unique(x['ai'].dropna()))).sort_index().plot(kind='bar',title='Number of app per ads')"
   ]
  },
  {
   "cell_type": "markdown",
   "metadata": {},
   "source": [
    "For a given app, how different ads differ in CTR?"
   ]
  },
  {
   "cell_type": "code",
   "execution_count": 354,
   "metadata": {
    "collapsed": false
   },
   "outputs": [
    {
     "data": {
      "text/plain": [
       "<matplotlib.lines.Line2D at 0x7fb994e16dd0>"
      ]
     },
     "execution_count": 354,
     "metadata": {},
     "output_type": "execute_result"
    },
    {
     "data": {
      "image/png": "[encoded data removed]",
      "text/plain": [
       "<matplotlib.figure.Figure at 0x7fb994e20d10>"
      ]
     },
     "metadata": {},
     "output_type": "display_data"
    }
   ],
   "source": [
    "plt.figure(figsize=(20,5))\n",
    "p = data2_Diretta_Calcio.groupby('cr').apply(lambda x:float(x.click.sum())/((~x.click).sum()/impression_sample_rate + x.click.sum())).sort_index().plot(kind='bar',logy=True,ylim=(0,.06),title='CTR across ads (Diretta Calcio)')\n",
    "plt.axhline(y=rate_Diretta_Calcio)"
   ]
  },
  {
   "cell_type": "markdown",
   "metadata": {},
   "source": [
    "Good ads for DC: (158), 214, (241), 285, 289, 290, (331, 333)"
   ]
  },
  {
   "cell_type": "code",
   "execution_count": null,
   "metadata": {
    "collapsed": false
   },
   "outputs": [],
   "source": [
    "plt.figure(figsize=(20,5))\n",
    "p = data2_Diretta_Calcio.groupby('cr').apply(lambda x:(x.click.sum() + (~x.click).sum()/impression_sample_rate)).plot(kind='bar',color='b',ylim=(.5,50000),title='number of events per ads (Diretta Calcio)')\n",
    "p.set_yscale('log')"
   ]
  },
  {
   "cell_type": "code",
   "execution_count": null,
   "metadata": {
    "collapsed": false
   },
   "outputs": [],
   "source": [
    "plt.figure(figsize=(20,5))\n",
    "p = data2_Team_Manchester.groupby('cr').apply(lambda x:float(x.click.sum())/((~x.click).sum()/impression_sample_rate + x.click.sum())).sort_index().plot(kind='bar',logy=True,ylim=(0,.006),title='CTR across ads (Team Manchester)')\n",
    "plt.axhline(y=rate_Team_Manchester)"
   ]
  },
  {
   "cell_type": "markdown",
   "metadata": {},
   "source": [
    "Good ads for TM: 156, 256, 275, 298"
   ]
  },
  {
   "cell_type": "code",
   "execution_count": null,
   "metadata": {
    "collapsed": false
   },
   "outputs": [],
   "source": [
    "plt.figure(figsize=(20,5))\n",
    "p = data2_Team_Manchester.groupby('cr').apply(lambda x:(x.click.sum() + (~x.click).sum()/impression_sample_rate)).plot(kind='bar',color='b',ylim=(.5,200000),title='number of events per ads (Team Manchester)')\n",
    "p.set_yscale('log')"
   ]
  },
  {
   "cell_type": "code",
   "execution_count": null,
   "metadata": {
    "collapsed": false
   },
   "outputs": [],
   "source": [
    "plt.figure(figsize=(8,4))\n",
    "p = data2_Dagospia.groupby('cr').apply(lambda x:float(x.click.sum())/((~x.click).sum()/impression_sample_rate + x.click.sum())).sort_index().plot(kind='bar',logy=True,ylim=(0,.02),title='CTR across ads (Dagospia)')\n",
    "plt.axhline(y=rate_Dagospia)"
   ]
  },
  {
   "cell_type": "code",
   "execution_count": null,
   "metadata": {
    "collapsed": false
   },
   "outputs": [],
   "source": [
    "plt.figure(figsize=(8,4))\n",
    "p = data2_Dagospia.groupby('cr').apply(lambda x:(x.click.sum() + (~x.click).sum()/impression_sample_rate)).plot(kind='bar',color='b',ylim=(.5,20000),title='number of events per ads (Dagospia)')\n",
    "p.set_yscale('log')"
   ]
  },
  {
   "cell_type": "code",
   "execution_count": null,
   "metadata": {
    "collapsed": false
   },
   "outputs": [],
   "source": [
    "len(np.unique(data2[data2['cr'] == 275]['ai'].dropna()))"
   ]
  },
  {
   "cell_type": "code",
   "execution_count": 356,
   "metadata": {
    "collapsed": false
   },
   "outputs": [
    {
     "data": {
      "image/png": "[encoded data removed]",
      "text/plain": [
       "<matplotlib.figure.Figure at 0x7fb99348fd10>"
      ]
     },
     "metadata": {},
     "output_type": "display_data"
    }
   ],
   "source": [
    "aid = 108\n",
    "plt.figure(figsize=(20,5))\n",
    "p = data2[data2['ai'] == aid].groupby('cr').apply(lambda x:float(x.click.sum())/((~x.click).sum()/impression_sample_rate + x.click.sum())).sort_index().plot(kind='bar',logy=True,ylim=(0,.06),title='CTR across ads')"
   ]
  },
  {
   "cell_type": "markdown",
   "metadata": {},
   "source": [
    "#Full-scale ads and app \"interaction\""
   ]
  },
  {
   "cell_type": "markdown",
   "metadata": {},
   "source": [
    "Get raw data directly from the elastic database:"
   ]
  },
  {
   "cell_type": "code",
   "execution_count": 300,
   "metadata": {
    "collapsed": false
   },
   "outputs": [
    {
     "name": "stdout",
     "output_type": "stream",
     "text": [
      "{\n",
      "  \"status\" : 200,\n",
      "  \"name\" : \"es03.fal.zenit.io\",\n",
      "  \"cluster_name\" : \"zenit-events\",\n",
      "  \"version\" : {\n",
      "    \"number\" : \"1.5.2\",\n",
      "    \"build_hash\" : \"62ff9868b4c8a0c45860bebb259e21980778ab1c\",\n",
      "    \"build_timestamp\" : \"2015-04-27T09:21:06Z\",\n",
      "    \"build_snapshot\" : false,\n",
      "    \"lucene_version\" : \"4.10.4\"\n",
      "  },\n",
      "  \"tagline\" : \"You Know, for Search\"\n",
      "}\n",
      "\n"
     ]
    }
   ],
   "source": [
    "res = requests.get('http://elasticsearch-events.fal.zenit.io:9200/',auth=(eslogin.user,eslogin.password))\n",
    "print(res.content)"
   ]
  },
  {
   "cell_type": "code",
   "execution_count": 301,
   "metadata": {
    "collapsed": true
   },
   "outputs": [],
   "source": [
    "es = Elasticsearch([{'host': 'elasticsearch-events.fal.zenit.io', 'port': 9200}],http_auth=(eslogin.user,eslogin.password))"
   ]
  },
  {
   "cell_type": "markdown",
   "metadata": {},
   "source": [
    "Test"
   ]
  },
  {
   "cell_type": "code",
   "execution_count": 302,
   "metadata": {
    "collapsed": false
   },
   "outputs": [
    {
     "data": {
      "text/plain": [
       "1048"
      ]
     },
     "execution_count": 302,
     "metadata": {},
     "output_type": "execute_result"
    }
   ],
   "source": [
    "es.count(index=\"events-2015.05.*\", body={'query': {'bool': {'must':[{'match': { 'ai' : 67 }}, {'match': { 'cr' : 289 }}, {'match': { 'et' : 'AD_SHOW' }}], 'must_not':[{'match': { 'fr' : 'true' }}]}}})['count']"
   ]
  },
  {
   "cell_type": "code",
   "execution_count": 314,
   "metadata": {
    "collapsed": false
   },
   "outputs": [
    {
     "data": {
      "text/plain": [
       "43"
      ]
     },
     "execution_count": 314,
     "metadata": {},
     "output_type": "execute_result"
    }
   ],
   "source": [
    "len(np.unique(data2['ai'].dropna()))"
   ]
  },
  {
   "cell_type": "code",
   "execution_count": 315,
   "metadata": {
    "collapsed": false
   },
   "outputs": [
    {
     "data": {
      "text/plain": [
       "127"
      ]
     },
     "execution_count": 315,
     "metadata": {},
     "output_type": "execute_result"
    }
   ],
   "source": [
    "len(np.unique(data2['cr'].dropna()))"
   ]
  },
  {
   "cell_type": "code",
   "execution_count": 277,
   "metadata": {
    "collapsed": false
   },
   "outputs": [
    {
     "data": {
      "text/html": [
       "<div style=\"max-height:1000px;max-width:1500px;overflow:auto;\">\n",
       "<table border=\"1\" class=\"dataframe\">\n",
       "  <thead>\n",
       "    <tr style=\"text-align: right;\">\n",
       "      <th></th>\n",
       "      <th>53</th>\n",
       "      <th>54</th>\n",
       "      <th>67</th>\n",
       "      <th>68</th>\n",
       "      <th>71</th>\n",
       "      <th>72</th>\n",
       "    </tr>\n",
       "  </thead>\n",
       "  <tbody>\n",
       "    <tr>\n",
       "      <th>156</th>\n",
       "      <td> 0</td>\n",
       "      <td> 0</td>\n",
       "      <td> 0</td>\n",
       "      <td> 0</td>\n",
       "      <td> 0</td>\n",
       "      <td> 0</td>\n",
       "    </tr>\n",
       "    <tr>\n",
       "      <th>256</th>\n",
       "      <td> 0</td>\n",
       "      <td> 0</td>\n",
       "      <td> 0</td>\n",
       "      <td> 0</td>\n",
       "      <td> 0</td>\n",
       "      <td> 0</td>\n",
       "    </tr>\n",
       "    <tr>\n",
       "      <th>275</th>\n",
       "      <td> 0</td>\n",
       "      <td> 0</td>\n",
       "      <td> 0</td>\n",
       "      <td> 0</td>\n",
       "      <td> 0</td>\n",
       "      <td> 0</td>\n",
       "    </tr>\n",
       "    <tr>\n",
       "      <th>298</th>\n",
       "      <td> 0</td>\n",
       "      <td> 0</td>\n",
       "      <td> 0</td>\n",
       "      <td> 0</td>\n",
       "      <td> 0</td>\n",
       "      <td> 0</td>\n",
       "    </tr>\n",
       "    <tr>\n",
       "      <th>214</th>\n",
       "      <td> 0</td>\n",
       "      <td> 0</td>\n",
       "      <td> 0</td>\n",
       "      <td> 0</td>\n",
       "      <td> 0</td>\n",
       "      <td> 0</td>\n",
       "    </tr>\n",
       "    <tr>\n",
       "      <th>285</th>\n",
       "      <td> 0</td>\n",
       "      <td> 0</td>\n",
       "      <td> 0</td>\n",
       "      <td> 0</td>\n",
       "      <td> 0</td>\n",
       "      <td> 0</td>\n",
       "    </tr>\n",
       "    <tr>\n",
       "      <th>289</th>\n",
       "      <td> 0</td>\n",
       "      <td> 0</td>\n",
       "      <td> 0</td>\n",
       "      <td> 0</td>\n",
       "      <td> 0</td>\n",
       "      <td> 0</td>\n",
       "    </tr>\n",
       "    <tr>\n",
       "      <th>290</th>\n",
       "      <td> 0</td>\n",
       "      <td> 0</td>\n",
       "      <td> 0</td>\n",
       "      <td> 0</td>\n",
       "      <td> 0</td>\n",
       "      <td> 0</td>\n",
       "    </tr>\n",
       "    <tr>\n",
       "      <th>327</th>\n",
       "      <td> 0</td>\n",
       "      <td> 0</td>\n",
       "      <td> 0</td>\n",
       "      <td> 0</td>\n",
       "      <td> 0</td>\n",
       "      <td> 0</td>\n",
       "    </tr>\n",
       "    <tr>\n",
       "      <th>334</th>\n",
       "      <td> 0</td>\n",
       "      <td> 0</td>\n",
       "      <td> 0</td>\n",
       "      <td> 0</td>\n",
       "      <td> 0</td>\n",
       "      <td> 0</td>\n",
       "    </tr>\n",
       "    <tr>\n",
       "      <th></th>\n",
       "      <td>...</td>\n",
       "      <td>...</td>\n",
       "      <td>...</td>\n",
       "      <td>...</td>\n",
       "      <td>...</td>\n",
       "      <td>...</td>\n",
       "    </tr>\n",
       "  </tbody>\n",
       "</table>\n",
       "<p>11 rows × 6 columns</p>\n",
       "</div>"
      ],
      "text/plain": [
       "     53  54  67  68  71  72\n",
       "156   0   0   0   0   0   0\n",
       "256   0   0   0   0   0   0\n",
       "275   0   0   0   0   0   0\n",
       "298   0   0   0   0   0   0\n",
       "214   0   0   0   0   0   0\n",
       "285   0   0   0   0   0   0\n",
       "289   0   0   0   0   0   0\n",
       "290   0   0   0   0   0   0\n",
       "327   0   0   0   0   0   0\n",
       "334   0   0   0   0   0   0\n",
       "    ... ... ... ... ... ...\n",
       "\n",
       "[11 rows x 6 columns]"
      ]
     },
     "execution_count": 277,
     "metadata": {},
     "output_type": "execute_result"
    }
   ],
   "source": [
    "columns = [53,54,67,68,71,72]\n",
    "index = [156, 256, 275, 298, 214, 285, 289, 290, 327, 334, 343]\n",
    "df_show = pd.DataFrame(index=index, columns=columns)\n",
    "df_show = df_show.fillna(0)\n",
    "df_show"
   ]
  },
  {
   "cell_type": "markdown",
   "metadata": {},
   "source": [
    "Get data from May 2015"
   ]
  },
  {
   "cell_type": "code",
   "execution_count": 278,
   "metadata": {
    "collapsed": false
   },
   "outputs": [],
   "source": [
    "for col in columns:\n",
    "    for ind in index:\n",
    "        df_show.loc[ind,col] = es.count(index=\"events-2015.05.*\", body={'query': {'bool': {'must':[{'match': { 'ai' : col }}, {'match': { 'cr' : ind }}, {'match': { 'et' : 'AD_SHOW' }}], 'must_not':[{'match': { 'fr' : 'true' }}]}}})['count']"
   ]
  },
  {
   "cell_type": "code",
   "execution_count": 279,
   "metadata": {
    "collapsed": false
   },
   "outputs": [
    {
     "data": {
      "text/html": [
       "<div style=\"max-height:1000px;max-width:1500px;overflow:auto;\">\n",
       "<table border=\"1\" class=\"dataframe\">\n",
       "  <thead>\n",
       "    <tr style=\"text-align: right;\">\n",
       "      <th></th>\n",
       "      <th>53</th>\n",
       "      <th>54</th>\n",
       "      <th>67</th>\n",
       "      <th>68</th>\n",
       "      <th>71</th>\n",
       "      <th>72</th>\n",
       "    </tr>\n",
       "  </thead>\n",
       "  <tbody>\n",
       "    <tr>\n",
       "      <th>156</th>\n",
       "      <td> 585</td>\n",
       "      <td> 41948</td>\n",
       "      <td>   51</td>\n",
       "      <td>   53</td>\n",
       "      <td> 0</td>\n",
       "      <td> 0</td>\n",
       "    </tr>\n",
       "    <tr>\n",
       "      <th>256</th>\n",
       "      <td>  13</td>\n",
       "      <td>  1734</td>\n",
       "      <td>    5</td>\n",
       "      <td>    0</td>\n",
       "      <td> 0</td>\n",
       "      <td> 0</td>\n",
       "    </tr>\n",
       "    <tr>\n",
       "      <th>275</th>\n",
       "      <td>  11</td>\n",
       "      <td>   787</td>\n",
       "      <td>    0</td>\n",
       "      <td>    0</td>\n",
       "      <td> 0</td>\n",
       "      <td> 0</td>\n",
       "    </tr>\n",
       "    <tr>\n",
       "      <th>298</th>\n",
       "      <td>  74</td>\n",
       "      <td>  5999</td>\n",
       "      <td>    0</td>\n",
       "      <td>    0</td>\n",
       "      <td> 0</td>\n",
       "      <td> 0</td>\n",
       "    </tr>\n",
       "    <tr>\n",
       "      <th>214</th>\n",
       "      <td>   0</td>\n",
       "      <td>    67</td>\n",
       "      <td>    0</td>\n",
       "      <td> 1989</td>\n",
       "      <td> 0</td>\n",
       "      <td> 0</td>\n",
       "    </tr>\n",
       "    <tr>\n",
       "      <th>285</th>\n",
       "      <td>   0</td>\n",
       "      <td>     0</td>\n",
       "      <td> 2257</td>\n",
       "      <td>    0</td>\n",
       "      <td> 0</td>\n",
       "      <td> 0</td>\n",
       "    </tr>\n",
       "    <tr>\n",
       "      <th>289</th>\n",
       "      <td>   0</td>\n",
       "      <td>     0</td>\n",
       "      <td> 1048</td>\n",
       "      <td>    0</td>\n",
       "      <td> 0</td>\n",
       "      <td> 0</td>\n",
       "    </tr>\n",
       "    <tr>\n",
       "      <th>290</th>\n",
       "      <td>   0</td>\n",
       "      <td>     0</td>\n",
       "      <td> 1435</td>\n",
       "      <td>    0</td>\n",
       "      <td> 0</td>\n",
       "      <td> 0</td>\n",
       "    </tr>\n",
       "    <tr>\n",
       "      <th>327</th>\n",
       "      <td>   0</td>\n",
       "      <td>     0</td>\n",
       "      <td>    0</td>\n",
       "      <td>    0</td>\n",
       "      <td> 0</td>\n",
       "      <td> 0</td>\n",
       "    </tr>\n",
       "    <tr>\n",
       "      <th>334</th>\n",
       "      <td>   0</td>\n",
       "      <td>     0</td>\n",
       "      <td>    0</td>\n",
       "      <td>    0</td>\n",
       "      <td> 0</td>\n",
       "      <td> 0</td>\n",
       "    </tr>\n",
       "    <tr>\n",
       "      <th></th>\n",
       "      <td>...</td>\n",
       "      <td>...</td>\n",
       "      <td>...</td>\n",
       "      <td>...</td>\n",
       "      <td>...</td>\n",
       "      <td>...</td>\n",
       "    </tr>\n",
       "  </tbody>\n",
       "</table>\n",
       "<p>11 rows × 6 columns</p>\n",
       "</div>"
      ],
      "text/plain": [
       "      53     54    67    68  71  72\n",
       "156  585  41948    51    53   0   0\n",
       "256   13   1734     5     0   0   0\n",
       "275   11    787     0     0   0   0\n",
       "298   74   5999     0     0   0   0\n",
       "214    0     67     0  1989   0   0\n",
       "285    0      0  2257     0   0   0\n",
       "289    0      0  1048     0   0   0\n",
       "290    0      0  1435     0   0   0\n",
       "327    0      0     0     0   0   0\n",
       "334    0      0     0     0   0   0\n",
       "     ...    ...   ...   ... ... ...\n",
       "\n",
       "[11 rows x 6 columns]"
      ]
     },
     "execution_count": 279,
     "metadata": {},
     "output_type": "execute_result"
    }
   ],
   "source": [
    "df_show"
   ]
  },
  {
   "cell_type": "code",
   "execution_count": 280,
   "metadata": {
    "collapsed": true
   },
   "outputs": [],
   "source": [
    "df_click = pd.DataFrame(index=index, columns=columns)\n",
    "df_click = df_click.fillna(0)\n",
    "for col in columns:\n",
    "    for ind in index:\n",
    "        df_click.loc[ind,col] = es.count(index=\"events-2015.05.*\", body={'query': {'bool': {'must':[{'match': { 'ai' : col }}, {'match': { 'cr' : ind }}, {'match': { 'et' : 'AD_CLICK' }}], 'must_not':[{'match': { 'fr' : 'true' }}]}}})['count']"
   ]
  },
  {
   "cell_type": "code",
   "execution_count": 281,
   "metadata": {
    "collapsed": false
   },
   "outputs": [
    {
     "data": {
      "text/html": [
       "<div style=\"max-height:1000px;max-width:1500px;overflow:auto;\">\n",
       "<table border=\"1\" class=\"dataframe\">\n",
       "  <thead>\n",
       "    <tr style=\"text-align: right;\">\n",
       "      <th></th>\n",
       "      <th>53</th>\n",
       "      <th>54</th>\n",
       "      <th>67</th>\n",
       "      <th>68</th>\n",
       "      <th>71</th>\n",
       "      <th>72</th>\n",
       "    </tr>\n",
       "  </thead>\n",
       "  <tbody>\n",
       "    <tr>\n",
       "      <th>156</th>\n",
       "      <td> 0</td>\n",
       "      <td> 93</td>\n",
       "      <td>  1</td>\n",
       "      <td> 0</td>\n",
       "      <td> 0</td>\n",
       "      <td> 0</td>\n",
       "    </tr>\n",
       "    <tr>\n",
       "      <th>256</th>\n",
       "      <td> 0</td>\n",
       "      <td>  4</td>\n",
       "      <td>  1</td>\n",
       "      <td> 0</td>\n",
       "      <td> 0</td>\n",
       "      <td> 0</td>\n",
       "    </tr>\n",
       "    <tr>\n",
       "      <th>275</th>\n",
       "      <td> 0</td>\n",
       "      <td>  2</td>\n",
       "      <td>  0</td>\n",
       "      <td> 0</td>\n",
       "      <td> 0</td>\n",
       "      <td> 0</td>\n",
       "    </tr>\n",
       "    <tr>\n",
       "      <th>298</th>\n",
       "      <td> 0</td>\n",
       "      <td> 10</td>\n",
       "      <td>  0</td>\n",
       "      <td> 0</td>\n",
       "      <td> 0</td>\n",
       "      <td> 0</td>\n",
       "    </tr>\n",
       "    <tr>\n",
       "      <th>214</th>\n",
       "      <td> 0</td>\n",
       "      <td>  0</td>\n",
       "      <td>  0</td>\n",
       "      <td> 5</td>\n",
       "      <td> 0</td>\n",
       "      <td> 0</td>\n",
       "    </tr>\n",
       "    <tr>\n",
       "      <th>285</th>\n",
       "      <td> 0</td>\n",
       "      <td>  0</td>\n",
       "      <td> 31</td>\n",
       "      <td> 0</td>\n",
       "      <td> 0</td>\n",
       "      <td> 0</td>\n",
       "    </tr>\n",
       "    <tr>\n",
       "      <th>289</th>\n",
       "      <td> 0</td>\n",
       "      <td>  0</td>\n",
       "      <td> 16</td>\n",
       "      <td> 0</td>\n",
       "      <td> 0</td>\n",
       "      <td> 0</td>\n",
       "    </tr>\n",
       "    <tr>\n",
       "      <th>290</th>\n",
       "      <td> 0</td>\n",
       "      <td>  0</td>\n",
       "      <td> 25</td>\n",
       "      <td> 0</td>\n",
       "      <td> 0</td>\n",
       "      <td> 0</td>\n",
       "    </tr>\n",
       "    <tr>\n",
       "      <th>327</th>\n",
       "      <td> 0</td>\n",
       "      <td>  0</td>\n",
       "      <td>  0</td>\n",
       "      <td> 0</td>\n",
       "      <td> 0</td>\n",
       "      <td> 0</td>\n",
       "    </tr>\n",
       "    <tr>\n",
       "      <th>334</th>\n",
       "      <td> 0</td>\n",
       "      <td>  0</td>\n",
       "      <td>  0</td>\n",
       "      <td> 0</td>\n",
       "      <td> 0</td>\n",
       "      <td> 0</td>\n",
       "    </tr>\n",
       "    <tr>\n",
       "      <th></th>\n",
       "      <td>...</td>\n",
       "      <td>...</td>\n",
       "      <td>...</td>\n",
       "      <td>...</td>\n",
       "      <td>...</td>\n",
       "      <td>...</td>\n",
       "    </tr>\n",
       "  </tbody>\n",
       "</table>\n",
       "<p>11 rows × 6 columns</p>\n",
       "</div>"
      ],
      "text/plain": [
       "     53  54  67  68  71  72\n",
       "156   0  93   1   0   0   0\n",
       "256   0   4   1   0   0   0\n",
       "275   0   2   0   0   0   0\n",
       "298   0  10   0   0   0   0\n",
       "214   0   0   0   5   0   0\n",
       "285   0   0  31   0   0   0\n",
       "289   0   0  16   0   0   0\n",
       "290   0   0  25   0   0   0\n",
       "327   0   0   0   0   0   0\n",
       "334   0   0   0   0   0   0\n",
       "    ... ... ... ... ... ...\n",
       "\n",
       "[11 rows x 6 columns]"
      ]
     },
     "execution_count": 281,
     "metadata": {},
     "output_type": "execute_result"
    }
   ],
   "source": [
    "df_click"
   ]
  },
  {
   "cell_type": "markdown",
   "metadata": {},
   "source": [
    "Get data from June 2015"
   ]
  },
  {
   "cell_type": "code",
   "execution_count": 282,
   "metadata": {
    "collapsed": false
   },
   "outputs": [
    {
     "data": {
      "text/html": [
       "<div style=\"max-height:1000px;max-width:1500px;overflow:auto;\">\n",
       "<table border=\"1\" class=\"dataframe\">\n",
       "  <thead>\n",
       "    <tr style=\"text-align: right;\">\n",
       "      <th></th>\n",
       "      <th>53</th>\n",
       "      <th>54</th>\n",
       "      <th>67</th>\n",
       "      <th>68</th>\n",
       "      <th>71</th>\n",
       "      <th>72</th>\n",
       "    </tr>\n",
       "  </thead>\n",
       "  <tbody>\n",
       "    <tr>\n",
       "      <th>156</th>\n",
       "      <td>  0</td>\n",
       "      <td>   71</td>\n",
       "      <td>   0</td>\n",
       "      <td>  0</td>\n",
       "      <td>   0</td>\n",
       "      <td>  0</td>\n",
       "    </tr>\n",
       "    <tr>\n",
       "      <th>256</th>\n",
       "      <td>  0</td>\n",
       "      <td>    0</td>\n",
       "      <td>   0</td>\n",
       "      <td>  0</td>\n",
       "      <td>   0</td>\n",
       "      <td>  0</td>\n",
       "    </tr>\n",
       "    <tr>\n",
       "      <th>275</th>\n",
       "      <td>  0</td>\n",
       "      <td>    0</td>\n",
       "      <td>   0</td>\n",
       "      <td>  0</td>\n",
       "      <td>   0</td>\n",
       "      <td>  0</td>\n",
       "    </tr>\n",
       "    <tr>\n",
       "      <th>298</th>\n",
       "      <td>  0</td>\n",
       "      <td>    0</td>\n",
       "      <td>   0</td>\n",
       "      <td>  0</td>\n",
       "      <td>   0</td>\n",
       "      <td>  0</td>\n",
       "    </tr>\n",
       "    <tr>\n",
       "      <th>214</th>\n",
       "      <td>  0</td>\n",
       "      <td>    0</td>\n",
       "      <td>   0</td>\n",
       "      <td>  0</td>\n",
       "      <td>   0</td>\n",
       "      <td>  0</td>\n",
       "    </tr>\n",
       "    <tr>\n",
       "      <th>285</th>\n",
       "      <td>  0</td>\n",
       "      <td>    0</td>\n",
       "      <td>   0</td>\n",
       "      <td>  0</td>\n",
       "      <td>   0</td>\n",
       "      <td>  0</td>\n",
       "    </tr>\n",
       "    <tr>\n",
       "      <th>289</th>\n",
       "      <td>  0</td>\n",
       "      <td>    0</td>\n",
       "      <td>   0</td>\n",
       "      <td>  0</td>\n",
       "      <td>   0</td>\n",
       "      <td>  0</td>\n",
       "    </tr>\n",
       "    <tr>\n",
       "      <th>290</th>\n",
       "      <td>  0</td>\n",
       "      <td>    0</td>\n",
       "      <td>   0</td>\n",
       "      <td>  0</td>\n",
       "      <td>   0</td>\n",
       "      <td>  0</td>\n",
       "    </tr>\n",
       "    <tr>\n",
       "      <th>327</th>\n",
       "      <td> 55</td>\n",
       "      <td> 2743</td>\n",
       "      <td> 197</td>\n",
       "      <td> 32</td>\n",
       "      <td> 260</td>\n",
       "      <td> 10</td>\n",
       "    </tr>\n",
       "    <tr>\n",
       "      <th>334</th>\n",
       "      <td> 78</td>\n",
       "      <td> 4501</td>\n",
       "      <td> 232</td>\n",
       "      <td> 11</td>\n",
       "      <td> 159</td>\n",
       "      <td>  1</td>\n",
       "    </tr>\n",
       "    <tr>\n",
       "      <th></th>\n",
       "      <td>...</td>\n",
       "      <td>...</td>\n",
       "      <td>...</td>\n",
       "      <td>...</td>\n",
       "      <td>...</td>\n",
       "      <td>...</td>\n",
       "    </tr>\n",
       "  </tbody>\n",
       "</table>\n",
       "<p>11 rows × 6 columns</p>\n",
       "</div>"
      ],
      "text/plain": [
       "     53    54   67  68   71  72\n",
       "156   0    71    0   0    0   0\n",
       "256   0     0    0   0    0   0\n",
       "275   0     0    0   0    0   0\n",
       "298   0     0    0   0    0   0\n",
       "214   0     0    0   0    0   0\n",
       "285   0     0    0   0    0   0\n",
       "289   0     0    0   0    0   0\n",
       "290   0     0    0   0    0   0\n",
       "327  55  2743  197  32  260  10\n",
       "334  78  4501  232  11  159   1\n",
       "    ...   ...  ... ...  ... ...\n",
       "\n",
       "[11 rows x 6 columns]"
      ]
     },
     "execution_count": 282,
     "metadata": {},
     "output_type": "execute_result"
    }
   ],
   "source": [
    "df_show2 = pd.DataFrame(index=index, columns=columns)\n",
    "df_show2 = df_show2.fillna(0)\n",
    "for col in columns:\n",
    "    for ind in index:\n",
    "        df_show2.loc[ind,col] = es.count(index=\"events-2015.06.*\", body={'query': {'bool': {'must':[{'match': { 'ai' : col }}, {'match': { 'cr' : ind }}, {'match': { 'et' : 'AD_SHOW' }}], 'must_not':[{'match': { 'fr' : 'true' }}]}}})['count']\n",
    "df_show2"
   ]
  },
  {
   "cell_type": "code",
   "execution_count": 283,
   "metadata": {
    "collapsed": false
   },
   "outputs": [
    {
     "data": {
      "text/html": [
       "<div style=\"max-height:1000px;max-width:1500px;overflow:auto;\">\n",
       "<table border=\"1\" class=\"dataframe\">\n",
       "  <thead>\n",
       "    <tr style=\"text-align: right;\">\n",
       "      <th></th>\n",
       "      <th>53</th>\n",
       "      <th>54</th>\n",
       "      <th>67</th>\n",
       "      <th>68</th>\n",
       "      <th>71</th>\n",
       "      <th>72</th>\n",
       "    </tr>\n",
       "  </thead>\n",
       "  <tbody>\n",
       "    <tr>\n",
       "      <th>156</th>\n",
       "      <td> 0</td>\n",
       "      <td> 0</td>\n",
       "      <td> 0</td>\n",
       "      <td> 0</td>\n",
       "      <td> 0</td>\n",
       "      <td> 0</td>\n",
       "    </tr>\n",
       "    <tr>\n",
       "      <th>256</th>\n",
       "      <td> 0</td>\n",
       "      <td> 0</td>\n",
       "      <td> 0</td>\n",
       "      <td> 0</td>\n",
       "      <td> 0</td>\n",
       "      <td> 0</td>\n",
       "    </tr>\n",
       "    <tr>\n",
       "      <th>275</th>\n",
       "      <td> 0</td>\n",
       "      <td> 0</td>\n",
       "      <td> 0</td>\n",
       "      <td> 0</td>\n",
       "      <td> 0</td>\n",
       "      <td> 0</td>\n",
       "    </tr>\n",
       "    <tr>\n",
       "      <th>298</th>\n",
       "      <td> 0</td>\n",
       "      <td> 0</td>\n",
       "      <td> 0</td>\n",
       "      <td> 0</td>\n",
       "      <td> 0</td>\n",
       "      <td> 0</td>\n",
       "    </tr>\n",
       "    <tr>\n",
       "      <th>214</th>\n",
       "      <td> 0</td>\n",
       "      <td> 0</td>\n",
       "      <td> 0</td>\n",
       "      <td> 0</td>\n",
       "      <td> 0</td>\n",
       "      <td> 0</td>\n",
       "    </tr>\n",
       "    <tr>\n",
       "      <th>285</th>\n",
       "      <td> 0</td>\n",
       "      <td> 0</td>\n",
       "      <td> 0</td>\n",
       "      <td> 0</td>\n",
       "      <td> 0</td>\n",
       "      <td> 0</td>\n",
       "    </tr>\n",
       "    <tr>\n",
       "      <th>289</th>\n",
       "      <td> 0</td>\n",
       "      <td> 0</td>\n",
       "      <td> 0</td>\n",
       "      <td> 0</td>\n",
       "      <td> 0</td>\n",
       "      <td> 0</td>\n",
       "    </tr>\n",
       "    <tr>\n",
       "      <th>290</th>\n",
       "      <td> 0</td>\n",
       "      <td> 0</td>\n",
       "      <td> 0</td>\n",
       "      <td> 0</td>\n",
       "      <td> 0</td>\n",
       "      <td> 0</td>\n",
       "    </tr>\n",
       "    <tr>\n",
       "      <th>327</th>\n",
       "      <td> 0</td>\n",
       "      <td> 2</td>\n",
       "      <td> 0</td>\n",
       "      <td> 0</td>\n",
       "      <td> 5</td>\n",
       "      <td> 0</td>\n",
       "    </tr>\n",
       "    <tr>\n",
       "      <th>334</th>\n",
       "      <td> 0</td>\n",
       "      <td> 9</td>\n",
       "      <td> 0</td>\n",
       "      <td> 0</td>\n",
       "      <td> 4</td>\n",
       "      <td> 0</td>\n",
       "    </tr>\n",
       "    <tr>\n",
       "      <th></th>\n",
       "      <td>...</td>\n",
       "      <td>...</td>\n",
       "      <td>...</td>\n",
       "      <td>...</td>\n",
       "      <td>...</td>\n",
       "      <td>...</td>\n",
       "    </tr>\n",
       "  </tbody>\n",
       "</table>\n",
       "<p>11 rows × 6 columns</p>\n",
       "</div>"
      ],
      "text/plain": [
       "     53  54  67  68  71  72\n",
       "156   0   0   0   0   0   0\n",
       "256   0   0   0   0   0   0\n",
       "275   0   0   0   0   0   0\n",
       "298   0   0   0   0   0   0\n",
       "214   0   0   0   0   0   0\n",
       "285   0   0   0   0   0   0\n",
       "289   0   0   0   0   0   0\n",
       "290   0   0   0   0   0   0\n",
       "327   0   2   0   0   5   0\n",
       "334   0   9   0   0   4   0\n",
       "    ... ... ... ... ... ...\n",
       "\n",
       "[11 rows x 6 columns]"
      ]
     },
     "execution_count": 283,
     "metadata": {},
     "output_type": "execute_result"
    }
   ],
   "source": [
    "df_click2 = pd.DataFrame(index=index, columns=columns)\n",
    "df_click2 = df_click2.fillna(0)\n",
    "for col in columns:\n",
    "    for ind in index:\n",
    "        df_click2.loc[ind,col] = es.count(index=\"events-2015.06.*\", body={'query': {'bool': {'must':[{'match': { 'ai' : col }}, {'match': { 'cr' : ind }}, {'match': { 'et' : 'AD_CLICK' }}], 'must_not':[{'match': { 'fr' : 'true' }}]}}})['count']\n",
    "df_click2"
   ]
  },
  {
   "cell_type": "code",
   "execution_count": 285,
   "metadata": {
    "collapsed": false
   },
   "outputs": [],
   "source": [
    "df_show = df_show + df_show2\n",
    "df_click = df_click + df_click2"
   ]
  },
  {
   "cell_type": "code",
   "execution_count": 321,
   "metadata": {
    "collapsed": false
   },
   "outputs": [
    {
     "data": {
      "text/html": [
       "<div style=\"max-height:1000px;max-width:1500px;overflow:auto;\">\n",
       "<table border=\"1\" class=\"dataframe\">\n",
       "  <thead>\n",
       "    <tr style=\"text-align: right;\">\n",
       "      <th></th>\n",
       "      <th>53</th>\n",
       "      <th>54</th>\n",
       "      <th>67</th>\n",
       "      <th>68</th>\n",
       "      <th>71</th>\n",
       "      <th>72</th>\n",
       "    </tr>\n",
       "  </thead>\n",
       "  <tbody>\n",
       "    <tr>\n",
       "      <th>156</th>\n",
       "      <td>  585</td>\n",
       "      <td>  42019</td>\n",
       "      <td>   51</td>\n",
       "      <td>   53</td>\n",
       "      <td>    0</td>\n",
       "      <td>  0</td>\n",
       "    </tr>\n",
       "    <tr>\n",
       "      <th>256</th>\n",
       "      <td>   13</td>\n",
       "      <td>   1734</td>\n",
       "      <td>    5</td>\n",
       "      <td>    0</td>\n",
       "      <td>    0</td>\n",
       "      <td>  0</td>\n",
       "    </tr>\n",
       "    <tr>\n",
       "      <th>275</th>\n",
       "      <td>   11</td>\n",
       "      <td>    787</td>\n",
       "      <td>    0</td>\n",
       "      <td>    0</td>\n",
       "      <td>    0</td>\n",
       "      <td>  0</td>\n",
       "    </tr>\n",
       "    <tr>\n",
       "      <th>298</th>\n",
       "      <td>   74</td>\n",
       "      <td>   5999</td>\n",
       "      <td>    0</td>\n",
       "      <td>    0</td>\n",
       "      <td>    0</td>\n",
       "      <td>  0</td>\n",
       "    </tr>\n",
       "    <tr>\n",
       "      <th>214</th>\n",
       "      <td>    0</td>\n",
       "      <td>     67</td>\n",
       "      <td>    0</td>\n",
       "      <td> 1989</td>\n",
       "      <td>    0</td>\n",
       "      <td>  0</td>\n",
       "    </tr>\n",
       "    <tr>\n",
       "      <th>285</th>\n",
       "      <td>    0</td>\n",
       "      <td>      0</td>\n",
       "      <td> 2257</td>\n",
       "      <td>    0</td>\n",
       "      <td>    0</td>\n",
       "      <td>  0</td>\n",
       "    </tr>\n",
       "    <tr>\n",
       "      <th>289</th>\n",
       "      <td>    0</td>\n",
       "      <td>      0</td>\n",
       "      <td> 1048</td>\n",
       "      <td>    0</td>\n",
       "      <td>    0</td>\n",
       "      <td>  0</td>\n",
       "    </tr>\n",
       "    <tr>\n",
       "      <th>290</th>\n",
       "      <td>    0</td>\n",
       "      <td>      0</td>\n",
       "      <td> 1435</td>\n",
       "      <td>    0</td>\n",
       "      <td>    0</td>\n",
       "      <td>  0</td>\n",
       "    </tr>\n",
       "    <tr>\n",
       "      <th>327</th>\n",
       "      <td>   55</td>\n",
       "      <td>   2743</td>\n",
       "      <td>  197</td>\n",
       "      <td>   32</td>\n",
       "      <td>  260</td>\n",
       "      <td> 10</td>\n",
       "    </tr>\n",
       "    <tr>\n",
       "      <th>334</th>\n",
       "      <td>   78</td>\n",
       "      <td>   4501</td>\n",
       "      <td>  232</td>\n",
       "      <td>   11</td>\n",
       "      <td>  159</td>\n",
       "      <td>  1</td>\n",
       "    </tr>\n",
       "    <tr>\n",
       "      <th>343</th>\n",
       "      <td> 4661</td>\n",
       "      <td> 287149</td>\n",
       "      <td>    0</td>\n",
       "      <td>  780</td>\n",
       "      <td> 7621</td>\n",
       "      <td>  0</td>\n",
       "    </tr>\n",
       "  </tbody>\n",
       "</table>\n",
       "<p>11 rows × 6 columns</p>\n",
       "</div>"
      ],
      "text/plain": [
       "       53      54    67    68    71  72\n",
       "156   585   42019    51    53     0   0\n",
       "256    13    1734     5     0     0   0\n",
       "275    11     787     0     0     0   0\n",
       "298    74    5999     0     0     0   0\n",
       "214     0      67     0  1989     0   0\n",
       "285     0       0  2257     0     0   0\n",
       "289     0       0  1048     0     0   0\n",
       "290     0       0  1435     0     0   0\n",
       "327    55    2743   197    32   260  10\n",
       "334    78    4501   232    11   159   1\n",
       "343  4661  287149     0   780  7621   0\n",
       "\n",
       "[11 rows x 6 columns]"
      ]
     },
     "execution_count": 321,
     "metadata": {},
     "output_type": "execute_result"
    }
   ],
   "source": [
    "df_show"
   ]
  },
  {
   "cell_type": "code",
   "execution_count": 322,
   "metadata": {
    "collapsed": false
   },
   "outputs": [
    {
     "data": {
      "text/html": [
       "<div style=\"max-height:1000px;max-width:1500px;overflow:auto;\">\n",
       "<table border=\"1\" class=\"dataframe\">\n",
       "  <thead>\n",
       "    <tr style=\"text-align: right;\">\n",
       "      <th></th>\n",
       "      <th>53</th>\n",
       "      <th>54</th>\n",
       "      <th>67</th>\n",
       "      <th>68</th>\n",
       "      <th>71</th>\n",
       "      <th>72</th>\n",
       "    </tr>\n",
       "  </thead>\n",
       "  <tbody>\n",
       "    <tr>\n",
       "      <th>156</th>\n",
       "      <td> 0</td>\n",
       "      <td>  93</td>\n",
       "      <td>  1</td>\n",
       "      <td> 0</td>\n",
       "      <td>  0</td>\n",
       "      <td> 0</td>\n",
       "    </tr>\n",
       "    <tr>\n",
       "      <th>256</th>\n",
       "      <td> 0</td>\n",
       "      <td>   4</td>\n",
       "      <td>  1</td>\n",
       "      <td> 0</td>\n",
       "      <td>  0</td>\n",
       "      <td> 0</td>\n",
       "    </tr>\n",
       "    <tr>\n",
       "      <th>275</th>\n",
       "      <td> 0</td>\n",
       "      <td>   2</td>\n",
       "      <td>  0</td>\n",
       "      <td> 0</td>\n",
       "      <td>  0</td>\n",
       "      <td> 0</td>\n",
       "    </tr>\n",
       "    <tr>\n",
       "      <th>298</th>\n",
       "      <td> 0</td>\n",
       "      <td>  10</td>\n",
       "      <td>  0</td>\n",
       "      <td> 0</td>\n",
       "      <td>  0</td>\n",
       "      <td> 0</td>\n",
       "    </tr>\n",
       "    <tr>\n",
       "      <th>214</th>\n",
       "      <td> 0</td>\n",
       "      <td>   0</td>\n",
       "      <td>  0</td>\n",
       "      <td> 5</td>\n",
       "      <td>  0</td>\n",
       "      <td> 0</td>\n",
       "    </tr>\n",
       "    <tr>\n",
       "      <th>285</th>\n",
       "      <td> 0</td>\n",
       "      <td>   0</td>\n",
       "      <td> 31</td>\n",
       "      <td> 0</td>\n",
       "      <td>  0</td>\n",
       "      <td> 0</td>\n",
       "    </tr>\n",
       "    <tr>\n",
       "      <th>289</th>\n",
       "      <td> 0</td>\n",
       "      <td>   0</td>\n",
       "      <td> 16</td>\n",
       "      <td> 0</td>\n",
       "      <td>  0</td>\n",
       "      <td> 0</td>\n",
       "    </tr>\n",
       "    <tr>\n",
       "      <th>290</th>\n",
       "      <td> 0</td>\n",
       "      <td>   0</td>\n",
       "      <td> 25</td>\n",
       "      <td> 0</td>\n",
       "      <td>  0</td>\n",
       "      <td> 0</td>\n",
       "    </tr>\n",
       "    <tr>\n",
       "      <th>327</th>\n",
       "      <td> 0</td>\n",
       "      <td>   2</td>\n",
       "      <td>  0</td>\n",
       "      <td> 0</td>\n",
       "      <td>  5</td>\n",
       "      <td> 0</td>\n",
       "    </tr>\n",
       "    <tr>\n",
       "      <th>334</th>\n",
       "      <td> 0</td>\n",
       "      <td>   9</td>\n",
       "      <td>  0</td>\n",
       "      <td> 0</td>\n",
       "      <td>  4</td>\n",
       "      <td> 0</td>\n",
       "    </tr>\n",
       "    <tr>\n",
       "      <th>343</th>\n",
       "      <td> 3</td>\n",
       "      <td> 209</td>\n",
       "      <td>  0</td>\n",
       "      <td> 3</td>\n",
       "      <td> 40</td>\n",
       "      <td> 0</td>\n",
       "    </tr>\n",
       "  </tbody>\n",
       "</table>\n",
       "<p>11 rows × 6 columns</p>\n",
       "</div>"
      ],
      "text/plain": [
       "     53   54  67  68  71  72\n",
       "156   0   93   1   0   0   0\n",
       "256   0    4   1   0   0   0\n",
       "275   0    2   0   0   0   0\n",
       "298   0   10   0   0   0   0\n",
       "214   0    0   0   5   0   0\n",
       "285   0    0  31   0   0   0\n",
       "289   0    0  16   0   0   0\n",
       "290   0    0  25   0   0   0\n",
       "327   0    2   0   0   5   0\n",
       "334   0    9   0   0   4   0\n",
       "343   3  209   0   3  40   0\n",
       "\n",
       "[11 rows x 6 columns]"
      ]
     },
     "execution_count": 322,
     "metadata": {},
     "output_type": "execute_result"
    }
   ],
   "source": [
    "df_click"
   ]
  },
  {
   "cell_type": "code",
   "execution_count": 288,
   "metadata": {
    "collapsed": false
   },
   "outputs": [
    {
     "data": {
      "text/html": [
       "<div style=\"max-height:1000px;max-width:1500px;overflow:auto;\">\n",
       "<table border=\"1\" class=\"dataframe\">\n",
       "  <thead>\n",
       "    <tr style=\"text-align: right;\">\n",
       "      <th></th>\n",
       "      <th>53</th>\n",
       "      <th>54</th>\n",
       "      <th>67</th>\n",
       "      <th>68</th>\n",
       "      <th>71</th>\n",
       "      <th>72</th>\n",
       "    </tr>\n",
       "  </thead>\n",
       "  <tbody>\n",
       "    <tr>\n",
       "      <th>156</th>\n",
       "      <td> 0</td>\n",
       "      <td> 0.002213</td>\n",
       "      <td> 0.019604</td>\n",
       "      <td> 0.000000</td>\n",
       "      <td> 0.000000</td>\n",
       "      <td> 0</td>\n",
       "    </tr>\n",
       "    <tr>\n",
       "      <th>256</th>\n",
       "      <td> 0</td>\n",
       "      <td> 0.002307</td>\n",
       "      <td> 0.199601</td>\n",
       "      <td> 0.000000</td>\n",
       "      <td> 0.000000</td>\n",
       "      <td> 0</td>\n",
       "    </tr>\n",
       "    <tr>\n",
       "      <th>275</th>\n",
       "      <td> 0</td>\n",
       "      <td> 0.002541</td>\n",
       "      <td> 0.000000</td>\n",
       "      <td> 0.000000</td>\n",
       "      <td> 0.000000</td>\n",
       "      <td> 0</td>\n",
       "    </tr>\n",
       "    <tr>\n",
       "      <th>298</th>\n",
       "      <td> 0</td>\n",
       "      <td> 0.001667</td>\n",
       "      <td> 0.000000</td>\n",
       "      <td> 0.000000</td>\n",
       "      <td> 0.000000</td>\n",
       "      <td> 0</td>\n",
       "    </tr>\n",
       "    <tr>\n",
       "      <th>214</th>\n",
       "      <td> 0</td>\n",
       "      <td> 0.000000</td>\n",
       "      <td> 0.000000</td>\n",
       "      <td> 0.002514</td>\n",
       "      <td> 0.000000</td>\n",
       "      <td> 0</td>\n",
       "    </tr>\n",
       "    <tr>\n",
       "      <th>285</th>\n",
       "      <td> 0</td>\n",
       "      <td> 0.000000</td>\n",
       "      <td> 0.013735</td>\n",
       "      <td> 0.000000</td>\n",
       "      <td> 0.000000</td>\n",
       "      <td> 0</td>\n",
       "    </tr>\n",
       "    <tr>\n",
       "      <th>289</th>\n",
       "      <td> 0</td>\n",
       "      <td> 0.000000</td>\n",
       "      <td> 0.015267</td>\n",
       "      <td> 0.000000</td>\n",
       "      <td> 0.000000</td>\n",
       "      <td> 0</td>\n",
       "    </tr>\n",
       "    <tr>\n",
       "      <th>290</th>\n",
       "      <td> 0</td>\n",
       "      <td> 0.000000</td>\n",
       "      <td> 0.017421</td>\n",
       "      <td> 0.000000</td>\n",
       "      <td> 0.000000</td>\n",
       "      <td> 0</td>\n",
       "    </tr>\n",
       "    <tr>\n",
       "      <th>327</th>\n",
       "      <td> 0</td>\n",
       "      <td> 0.000729</td>\n",
       "      <td> 0.000000</td>\n",
       "      <td> 0.000000</td>\n",
       "      <td> 0.019230</td>\n",
       "      <td> 0</td>\n",
       "    </tr>\n",
       "    <tr>\n",
       "      <th>334</th>\n",
       "      <td> 0</td>\n",
       "      <td> 0.002000</td>\n",
       "      <td> 0.000000</td>\n",
       "      <td> 0.000000</td>\n",
       "      <td> 0.025156</td>\n",
       "      <td> 0</td>\n",
       "    </tr>\n",
       "    <tr>\n",
       "      <th></th>\n",
       "      <td>...</td>\n",
       "      <td>...</td>\n",
       "      <td>...</td>\n",
       "      <td>...</td>\n",
       "      <td>...</td>\n",
       "      <td>...</td>\n",
       "    </tr>\n",
       "  </tbody>\n",
       "</table>\n",
       "<p>11 rows × 6 columns</p>\n",
       "</div>"
      ],
      "text/plain": [
       "     53        54        67        68        71  72\n",
       "156   0  0.002213  0.019604  0.000000  0.000000   0\n",
       "256   0  0.002307  0.199601  0.000000  0.000000   0\n",
       "275   0  0.002541  0.000000  0.000000  0.000000   0\n",
       "298   0  0.001667  0.000000  0.000000  0.000000   0\n",
       "214   0  0.000000  0.000000  0.002514  0.000000   0\n",
       "285   0  0.000000  0.013735  0.000000  0.000000   0\n",
       "289   0  0.000000  0.015267  0.000000  0.000000   0\n",
       "290   0  0.000000  0.017421  0.000000  0.000000   0\n",
       "327   0  0.000729  0.000000  0.000000  0.019230   0\n",
       "334   0  0.002000  0.000000  0.000000  0.025156   0\n",
       "    ...       ...       ...       ...       ... ...\n",
       "\n",
       "[11 rows x 6 columns]"
      ]
     },
     "execution_count": 288,
     "metadata": {},
     "output_type": "execute_result"
    }
   ],
   "source": [
    "df_click / (df_show + 0.01)"
   ]
  },
  {
   "cell_type": "code",
   "execution_count": 294,
   "metadata": {
    "collapsed": false
   },
   "outputs": [],
   "source": [
    "df_ctr = df_click / (df_show + 0.01)"
   ]
  },
  {
   "cell_type": "code",
   "execution_count": 344,
   "metadata": {
    "collapsed": true
   },
   "outputs": [],
   "source": [
    "df_ctr_logodd = np.log2(df_ctr/rate + 0.01)"
   ]
  },
  {
   "cell_type": "code",
   "execution_count": 297,
   "metadata": {
    "collapsed": false
   },
   "outputs": [
    {
     "data": {
      "image/png": "[encoded data removed]",
      "text/plain": [
       "<matplotlib.figure.Figure at 0x7fb9ac948290>"
      ]
     },
     "metadata": {},
     "output_type": "display_data"
    }
   ],
   "source": [
    "plt.pcolor(df_ctr)\n",
    "plt.yticks(np.arange(0.5, len(df_ctr.index), 1), df_ctr.index)\n",
    "plt.xticks(np.arange(0.5, len(df_ctr.columns), 1), df_ctr.columns)\n",
    "plt.show()"
   ]
  },
  {
   "cell_type": "code",
   "execution_count": 299,
   "metadata": {
    "collapsed": false
   },
   "outputs": [
    {
     "data": {
      "text/plain": [
       "<matplotlib.axes._subplots.AxesSubplot at 0x7fb9acbc3410>"
      ]
     },
     "execution_count": 299,
     "metadata": {},
     "output_type": "execute_result"
    },
    {
     "data": {
      "image/png": "[encoded data removed]",
      "text/plain": [
       "<matplotlib.figure.Figure at 0x7fb99446dc10>"
      ]
     },
     "metadata": {},
     "output_type": "display_data"
    }
   ],
   "source": [
    "sns.set(context=\"paper\", font=\"monospace\")\n",
    "f, ax = plt.subplots(figsize=(12, 9))\n",
    "#sns.heatmap(df_ctr, vmax=.8, linewidths=0, square=True)\n",
    "sns.heatmap(df_ctr)"
   ]
  },
  {
   "cell_type": "code",
   "execution_count": 316,
   "metadata": {
    "collapsed": false
   },
   "outputs": [
    {
     "data": {
      "text/plain": [
       "<matplotlib.axes._subplots.AxesSubplot at 0x7fb9acab4310>"
      ]
     },
     "execution_count": 316,
     "metadata": {},
     "output_type": "execute_result"
    },
    {
     "data": {
      "image/png": "[encoded data removed]",
      "text/plain": [
       "<matplotlib.figure.Figure at 0x7fb9aacfb650>"
      ]
     },
     "metadata": {},
     "output_type": "display_data"
    }
   ],
   "source": [
    "sns.set(context=\"paper\", font=\"monospace\")\n",
    "f, ax = plt.subplots(figsize=(12, 9))\n",
    "sns.heatmap(df_ctr_logodd)"
   ]
  },
  {
   "cell_type": "code",
   "execution_count": 342,
   "metadata": {
    "collapsed": false
   },
   "outputs": [],
   "source": [
    "df_ctr_logodd.loc[156,71] = np.nan"
   ]
  },
  {
   "cell_type": "code",
   "execution_count": 329,
   "metadata": {
    "collapsed": false
   },
   "outputs": [
    {
     "data": {
      "text/html": [
       "<div style=\"max-height:1000px;max-width:1500px;overflow:auto;\">\n",
       "<table border=\"1\" class=\"dataframe\">\n",
       "  <thead>\n",
       "    <tr style=\"text-align: right;\">\n",
       "      <th></th>\n",
       "      <th>53</th>\n",
       "      <th>54</th>\n",
       "      <th>67</th>\n",
       "      <th>68</th>\n",
       "      <th>71</th>\n",
       "      <th>72</th>\n",
       "    </tr>\n",
       "  </thead>\n",
       "  <tbody>\n",
       "    <tr>\n",
       "      <th>156</th>\n",
       "      <td>-6.643856</td>\n",
       "      <td> 0.353830</td>\n",
       "      <td> 3.490668</td>\n",
       "      <td>-6.643856</td>\n",
       "      <td>      NaN</td>\n",
       "      <td>-6.643856</td>\n",
       "    </tr>\n",
       "    <tr>\n",
       "      <th>256</th>\n",
       "      <td>-6.643856</td>\n",
       "      <td> 0.413071</td>\n",
       "      <td> 6.837408</td>\n",
       "      <td>-6.643856</td>\n",
       "      <td>-6.643856</td>\n",
       "      <td>-6.643856</td>\n",
       "    </tr>\n",
       "    <tr>\n",
       "      <th>275</th>\n",
       "      <td>-6.643856</td>\n",
       "      <td> 0.551730</td>\n",
       "      <td>-6.643856</td>\n",
       "      <td>-6.643856</td>\n",
       "      <td>-6.643856</td>\n",
       "      <td>-6.643856</td>\n",
       "    </tr>\n",
       "    <tr>\n",
       "      <th>298</th>\n",
       "      <td>-6.643856</td>\n",
       "      <td>-0.051460</td>\n",
       "      <td>-6.643856</td>\n",
       "      <td>-6.643856</td>\n",
       "      <td>-6.643856</td>\n",
       "      <td>-6.643856</td>\n",
       "    </tr>\n",
       "    <tr>\n",
       "      <th>214</th>\n",
       "      <td>-6.643856</td>\n",
       "      <td>-6.643856</td>\n",
       "      <td>-6.643856</td>\n",
       "      <td> 0.536169</td>\n",
       "      <td>-6.643856</td>\n",
       "      <td>-6.643856</td>\n",
       "    </tr>\n",
       "    <tr>\n",
       "      <th>285</th>\n",
       "      <td>-6.643856</td>\n",
       "      <td>-6.643856</td>\n",
       "      <td> 2.977924</td>\n",
       "      <td>-6.643856</td>\n",
       "      <td>-6.643856</td>\n",
       "      <td>-6.643856</td>\n",
       "    </tr>\n",
       "    <tr>\n",
       "      <th>289</th>\n",
       "      <td>-6.643856</td>\n",
       "      <td>-6.643856</td>\n",
       "      <td> 3.130304</td>\n",
       "      <td>-6.643856</td>\n",
       "      <td>-6.643856</td>\n",
       "      <td>-6.643856</td>\n",
       "    </tr>\n",
       "    <tr>\n",
       "      <th>290</th>\n",
       "      <td>-6.643856</td>\n",
       "      <td>-6.643856</td>\n",
       "      <td> 3.320548</td>\n",
       "      <td>-6.643856</td>\n",
       "      <td>-6.643856</td>\n",
       "      <td>-6.643856</td>\n",
       "    </tr>\n",
       "    <tr>\n",
       "      <th>327</th>\n",
       "      <td>-6.643856</td>\n",
       "      <td>-1.225320</td>\n",
       "      <td>-6.643856</td>\n",
       "      <td>-6.643856</td>\n",
       "      <td> 3.462906</td>\n",
       "      <td>-6.643856</td>\n",
       "    </tr>\n",
       "    <tr>\n",
       "      <th>334</th>\n",
       "      <td>-6.643856</td>\n",
       "      <td> 0.208524</td>\n",
       "      <td>-6.643856</td>\n",
       "      <td>-6.643856</td>\n",
       "      <td> 3.850119</td>\n",
       "      <td>-6.643856</td>\n",
       "    </tr>\n",
       "    <tr>\n",
       "      <th>343</th>\n",
       "      <td>-1.400767</td>\n",
       "      <td>-1.227798</td>\n",
       "      <td>-6.643856</td>\n",
       "      <td> 1.146239</td>\n",
       "      <td> 1.593044</td>\n",
       "      <td>-6.643856</td>\n",
       "    </tr>\n",
       "  </tbody>\n",
       "</table>\n",
       "<p>11 rows × 6 columns</p>\n",
       "</div>"
      ],
      "text/plain": [
       "           53        54        67        68        71        72\n",
       "156 -6.643856  0.353830  3.490668 -6.643856       NaN -6.643856\n",
       "256 -6.643856  0.413071  6.837408 -6.643856 -6.643856 -6.643856\n",
       "275 -6.643856  0.551730 -6.643856 -6.643856 -6.643856 -6.643856\n",
       "298 -6.643856 -0.051460 -6.643856 -6.643856 -6.643856 -6.643856\n",
       "214 -6.643856 -6.643856 -6.643856  0.536169 -6.643856 -6.643856\n",
       "285 -6.643856 -6.643856  2.977924 -6.643856 -6.643856 -6.643856\n",
       "289 -6.643856 -6.643856  3.130304 -6.643856 -6.643856 -6.643856\n",
       "290 -6.643856 -6.643856  3.320548 -6.643856 -6.643856 -6.643856\n",
       "327 -6.643856 -1.225320 -6.643856 -6.643856  3.462906 -6.643856\n",
       "334 -6.643856  0.208524 -6.643856 -6.643856  3.850119 -6.643856\n",
       "343 -1.400767 -1.227798 -6.643856  1.146239  1.593044 -6.643856\n",
       "\n",
       "[11 rows x 6 columns]"
      ]
     },
     "execution_count": 329,
     "metadata": {},
     "output_type": "execute_result"
    }
   ],
   "source": [
    "df_ctr_logodd"
   ]
  },
  {
   "cell_type": "code",
   "execution_count": 332,
   "metadata": {
    "collapsed": false
   },
   "outputs": [
    {
     "data": {
      "text/plain": [
       "<matplotlib.axes._subplots.AxesSubplot at 0x7fb99449bfd0>"
      ]
     },
     "execution_count": 332,
     "metadata": {},
     "output_type": "execute_result"
    },
    {
     "data": {
      "image/png": "[encoded data removed]",
      "text/plain": [
       "<matplotlib.figure.Figure at 0x7fb99449bd10>"
      ]
     },
     "metadata": {},
     "output_type": "display_data"
    }
   ],
   "source": [
    "mask = df_show.apply(lambda x: x == 0)\n",
    "sns.heatmap(df_ctr_logodd, mask=mask)"
   ]
  },
  {
   "cell_type": "code",
   "execution_count": 313,
   "metadata": {
    "collapsed": false
   },
   "outputs": [
    {
     "data": {
      "text/html": [
       "<div style=\"max-height:1000px;max-width:1500px;overflow:auto;\">\n",
       "<table border=\"1\" class=\"dataframe\">\n",
       "  <thead>\n",
       "    <tr style=\"text-align: right;\">\n",
       "      <th></th>\n",
       "      <th>53</th>\n",
       "      <th>54</th>\n",
       "      <th>67</th>\n",
       "      <th>68</th>\n",
       "      <th>71</th>\n",
       "      <th>72</th>\n",
       "    </tr>\n",
       "  </thead>\n",
       "  <tbody>\n",
       "    <tr>\n",
       "      <th>156</th>\n",
       "      <td> 0.000000</td>\n",
       "      <td> 0.002213</td>\n",
       "      <td> 0.019604</td>\n",
       "      <td> 0.000000</td>\n",
       "      <td> 0.000000</td>\n",
       "      <td> 0</td>\n",
       "    </tr>\n",
       "    <tr>\n",
       "      <th>256</th>\n",
       "      <td> 0.000000</td>\n",
       "      <td> 0.002307</td>\n",
       "      <td> 0.199601</td>\n",
       "      <td> 0.000000</td>\n",
       "      <td> 0.000000</td>\n",
       "      <td> 0</td>\n",
       "    </tr>\n",
       "    <tr>\n",
       "      <th>275</th>\n",
       "      <td> 0.000000</td>\n",
       "      <td> 0.002541</td>\n",
       "      <td> 0.000000</td>\n",
       "      <td> 0.000000</td>\n",
       "      <td> 0.000000</td>\n",
       "      <td> 0</td>\n",
       "    </tr>\n",
       "    <tr>\n",
       "      <th>298</th>\n",
       "      <td> 0.000000</td>\n",
       "      <td> 0.001667</td>\n",
       "      <td> 0.000000</td>\n",
       "      <td> 0.000000</td>\n",
       "      <td> 0.000000</td>\n",
       "      <td> 0</td>\n",
       "    </tr>\n",
       "    <tr>\n",
       "      <th>214</th>\n",
       "      <td> 0.000000</td>\n",
       "      <td> 0.000000</td>\n",
       "      <td> 0.000000</td>\n",
       "      <td> 0.002514</td>\n",
       "      <td> 0.000000</td>\n",
       "      <td> 0</td>\n",
       "    </tr>\n",
       "    <tr>\n",
       "      <th>285</th>\n",
       "      <td> 0.000000</td>\n",
       "      <td> 0.000000</td>\n",
       "      <td> 0.013735</td>\n",
       "      <td> 0.000000</td>\n",
       "      <td> 0.000000</td>\n",
       "      <td> 0</td>\n",
       "    </tr>\n",
       "    <tr>\n",
       "      <th>289</th>\n",
       "      <td> 0.000000</td>\n",
       "      <td> 0.000000</td>\n",
       "      <td> 0.015267</td>\n",
       "      <td> 0.000000</td>\n",
       "      <td> 0.000000</td>\n",
       "      <td> 0</td>\n",
       "    </tr>\n",
       "    <tr>\n",
       "      <th>290</th>\n",
       "      <td> 0.000000</td>\n",
       "      <td> 0.000000</td>\n",
       "      <td> 0.017421</td>\n",
       "      <td> 0.000000</td>\n",
       "      <td> 0.000000</td>\n",
       "      <td> 0</td>\n",
       "    </tr>\n",
       "    <tr>\n",
       "      <th>327</th>\n",
       "      <td> 0.000000</td>\n",
       "      <td> 0.000729</td>\n",
       "      <td> 0.000000</td>\n",
       "      <td> 0.000000</td>\n",
       "      <td> 0.019230</td>\n",
       "      <td> 0</td>\n",
       "    </tr>\n",
       "    <tr>\n",
       "      <th>334</th>\n",
       "      <td> 0.000000</td>\n",
       "      <td> 0.002000</td>\n",
       "      <td> 0.000000</td>\n",
       "      <td> 0.000000</td>\n",
       "      <td> 0.025156</td>\n",
       "      <td> 0</td>\n",
       "    </tr>\n",
       "    <tr>\n",
       "      <th>343</th>\n",
       "      <td> 0.000644</td>\n",
       "      <td> 0.000728</td>\n",
       "      <td> 0.000000</td>\n",
       "      <td> 0.003846</td>\n",
       "      <td> 0.005249</td>\n",
       "      <td> 0</td>\n",
       "    </tr>\n",
       "  </tbody>\n",
       "</table>\n",
       "<p>11 rows × 6 columns</p>\n",
       "</div>"
      ],
      "text/plain": [
       "           53        54        67        68        71  72\n",
       "156  0.000000  0.002213  0.019604  0.000000  0.000000   0\n",
       "256  0.000000  0.002307  0.199601  0.000000  0.000000   0\n",
       "275  0.000000  0.002541  0.000000  0.000000  0.000000   0\n",
       "298  0.000000  0.001667  0.000000  0.000000  0.000000   0\n",
       "214  0.000000  0.000000  0.000000  0.002514  0.000000   0\n",
       "285  0.000000  0.000000  0.013735  0.000000  0.000000   0\n",
       "289  0.000000  0.000000  0.015267  0.000000  0.000000   0\n",
       "290  0.000000  0.000000  0.017421  0.000000  0.000000   0\n",
       "327  0.000000  0.000729  0.000000  0.000000  0.019230   0\n",
       "334  0.000000  0.002000  0.000000  0.000000  0.025156   0\n",
       "343  0.000644  0.000728  0.000000  0.003846  0.005249   0\n",
       "\n",
       "[11 rows x 6 columns]"
      ]
     },
     "execution_count": 313,
     "metadata": {},
     "output_type": "execute_result"
    }
   ],
   "source": [
    "df_ctr"
   ]
  },
  {
   "cell_type": "raw",
   "metadata": {},
   "source": [
    "# Convert DataFrame to matrix\n",
    "mat = df_ctr_logodd.as_matrix()\n",
    "# Using sklearn\n",
    "km = KMeans(n_clusters=5)\n",
    "km.fit(mat)\n",
    "# Get cluster assignment labels\n",
    "labels = km.labels_\n",
    "# Format results as a DataFrame\n",
    "df_ctr_lo_cluster = pd.DataFrame([df_ctr_logodd.index,labels]).T"
   ]
  },
  {
   "cell_type": "code",
   "execution_count": 345,
   "metadata": {
    "collapsed": false
   },
   "outputs": [
    {
     "data": {
      "text/plain": [
       "<seaborn.matrix.ClusterGrid at 0x7fb99c668dd0>"
      ]
     },
     "execution_count": 345,
     "metadata": {},
     "output_type": "execute_result"
    },
    {
     "data": {
      "image/png": "[encoded data removed]",
      "text/plain": [
       "<matplotlib.figure.Figure at 0x7fb99c668bd0>"
      ]
     },
     "metadata": {},
     "output_type": "display_data"
    }
   ],
   "source": [
    "sns.clustermap(df_ctr_logodd)"
   ]
  },
  {
   "cell_type": "code",
   "execution_count": 338,
   "metadata": {
    "collapsed": false
   },
   "outputs": [
    {
     "data": {
      "text/plain": [
       "<matplotlib.axes._subplots.AxesSubplot at 0x7fb994f58350>"
      ]
     },
     "execution_count": 338,
     "metadata": {},
     "output_type": "execute_result"
    },
    {
     "data": {
      "image/png": "[encoded data removed]",
      "text/plain": [
       "<matplotlib.figure.Figure at 0x7fb9ac9e3c90>"
      ]
     },
     "metadata": {},
     "output_type": "display_data"
    }
   ],
   "source": [
    "sns.heatmap(df_ctr_logodd, mask=mask)"
   ]
  },
  {
   "cell_type": "code",
   "execution_count": 346,
   "metadata": {
    "collapsed": true
   },
   "outputs": [],
   "source": [
    "columns_cluster = [67,68,53,72,54,71]\n",
    "index_cluster = [290, 285, 289, 156, 256, 343, 327, 334, 214, 275, 298]"
   ]
  },
  {
   "cell_type": "code",
   "execution_count": 347,
   "metadata": {
    "collapsed": true
   },
   "outputs": [],
   "source": [
    "df_show_c = pd.DataFrame(index=index_cluster, columns=columns_cluster)\n",
    "df_show_c = df_show_c.fillna(0)"
   ]
  },
  {
   "cell_type": "code",
   "execution_count": 348,
   "metadata": {
    "collapsed": true
   },
   "outputs": [],
   "source": [
    "for col in columns_cluster:\n",
    "    for ind in index_cluster:\n",
    "        df_show_c.loc[ind,col] = df_show.loc[ind,col]"
   ]
  },
  {
   "cell_type": "code",
   "execution_count": 349,
   "metadata": {
    "collapsed": false
   },
   "outputs": [
    {
     "data": {
      "text/plain": [
       "<seaborn.matrix.ClusterGrid at 0x7fb9961d2a10>"
      ]
     },
     "execution_count": 349,
     "metadata": {},
     "output_type": "execute_result"
    },
    {
     "data": {
      "image/png": "[encoded data removed]",
      "text/plain": [
       "<matplotlib.figure.Figure at 0x7fb9961d2bd0>"
      ]
     },
     "metadata": {},
     "output_type": "display_data"
    }
   ],
   "source": [
    "mask = df_show_c.apply(lambda x: x == 0)\n",
    "sns.clustermap(df_ctr_logodd, mask=mask)"
   ]
  },
  {
   "cell_type": "code",
   "execution_count": 489,
   "metadata": {
    "collapsed": false
   },
   "outputs": [
    {
     "data": {
      "text/plain": [
       "London           1282\n",
       "Lagos             965\n",
       "Mountain View     239\n",
       "Singapore         234\n",
       "Kansas City       197\n",
       "dtype: int64"
      ]
     },
     "execution_count": 489,
     "metadata": {},
     "output_type": "execute_result"
    }
   ],
   "source": [
    "data2['cty'].value_counts().head()"
   ]
  },
  {
   "cell_type": "code",
   "execution_count": null,
   "metadata": {
    "collapsed": true
   },
   "outputs": [],
   "source": []
  }
 ],
 "metadata": {
  "kernelspec": {
   "display_name": "Python 2",
   "language": "python",
   "name": "python2"
  },
  "language_info": {
   "codemirror_mode": {
    "name": "ipython",
    "version": 2
   },
   "file_extension": ".py",
   "mimetype": "text/x-python",
   "name": "python",
   "nbconvert_exporter": "python",
   "pygments_lexer": "ipython2",
   "version": "2.7.6"
  }
 },
 "nbformat": 4,
 "nbformat_minor": 0
}
