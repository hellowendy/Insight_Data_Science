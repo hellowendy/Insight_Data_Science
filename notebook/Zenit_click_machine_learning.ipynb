{
 "cells": [
  {
   "cell_type": "code",
   "execution_count": 1,
   "metadata": {
    "collapsed": true
   },
   "outputs": [],
   "source": [
    "from elasticsearch import Elasticsearch\n",
    "import json\n",
    "import requests\n",
    "\n",
    "import eslogin\n",
    "\n",
    "import datetime\n",
    "import time\n",
    "\n",
    "import numpy as np\n",
    "from numpy.random import randn\n",
    "import pandas as pd\n",
    "from scipy import stats\n",
    "import matplotlib as mpl\n",
    "\n",
    "import matplotlib.pyplot as plt\n",
    "import seaborn as sns\n",
    "\n",
    "import math\n",
    "\n",
    "from sklearn.ensemble import RandomForestClassifier\n",
    "\n",
    "import plotly.plotly as py\n",
    "from plotly.graph_objs import *\n",
    "\n",
    "%matplotlib inline\n",
    "mpl.style.use('ggplot')\n",
    "\n",
    "pd.options.display.max_rows = 10\n",
    "pd.options.display.max_columns = 30"
   ]
  },
  {
   "cell_type": "code",
   "execution_count": 2,
   "metadata": {
    "collapsed": false
   },
   "outputs": [
    {
     "data": {
      "text/plain": [
       "'2015-06-19 09:42:00'"
      ]
     },
     "execution_count": 2,
     "metadata": {},
     "output_type": "execute_result"
    }
   ],
   "source": [
    "datetime.datetime.fromtimestamp(time.time()).strftime('%Y-%m-%d %H:%M:%S')"
   ]
  },
  {
   "cell_type": "code",
   "execution_count": 3,
   "metadata": {
    "collapsed": false
   },
   "outputs": [],
   "source": [
    "es = Elasticsearch([{'host': eslogin.host, 'port': eslogin.port}],http_auth=(eslogin.user,eslogin.password))"
   ]
  },
  {
   "cell_type": "code",
   "execution_count": 4,
   "metadata": {
    "collapsed": false
   },
   "outputs": [
    {
     "data": {
      "text/plain": [
       "11019"
      ]
     },
     "execution_count": 4,
     "metadata": {},
     "output_type": "execute_result"
    }
   ],
   "source": [
    "es.count(index=\"events-*\", body={'query': {'bool': {'must':[{'match': { 'et' : 'AD_CLICK' }}], 'must_not':[{'match': { 'fr' : 'true' }}]}}})['count']"
   ]
  },
  {
   "cell_type": "code",
   "execution_count": 5,
   "metadata": {
    "collapsed": true
   },
   "outputs": [],
   "source": [
    "clicks = es.search(index=\"events-*\", body={'query': {'bool': {'must':[{'match': { 'et' : 'AD_CLICK' }}], 'must_not':[{'match': { 'fr' : 'true' }}]}}}, size = 11019)"
   ]
  },
  {
   "cell_type": "code",
   "execution_count": 6,
   "metadata": {
    "collapsed": true
   },
   "outputs": [],
   "source": [
    "df_clicks = pd.DataFrame([datum['_source'] for datum in clicks['hits']['hits']])"
   ]
  },
  {
   "cell_type": "code",
   "execution_count": 7,
   "metadata": {
    "collapsed": false
   },
   "outputs": [
    {
     "data": {
      "text/plain": [
       "(11019, 46)"
      ]
     },
     "execution_count": 7,
     "metadata": {},
     "output_type": "execute_result"
    }
   ],
   "source": [
    "df_clicks.shape"
   ]
  },
  {
   "cell_type": "code",
   "execution_count": 8,
   "metadata": {
    "collapsed": true
   },
   "outputs": [],
   "source": [
    "df_clicks.to_csv(\"../data/ad_clicks_150619.tab\",sep='\\t',encoding='utf-8')"
   ]
  },
  {
   "cell_type": "code",
   "execution_count": 9,
   "metadata": {
    "collapsed": true
   },
   "outputs": [],
   "source": [
    "clicks_uniq = df_clicks.loc[np.where(np.unique(df_clicks['created_at']))[0], :]"
   ]
  },
  {
   "cell_type": "code",
   "execution_count": 10,
   "metadata": {
    "collapsed": false
   },
   "outputs": [
    {
     "data": {
      "text/plain": [
       "(11018, 46)"
      ]
     },
     "execution_count": 10,
     "metadata": {},
     "output_type": "execute_result"
    }
   ],
   "source": [
    "clicks_uniq.shape"
   ]
  },
  {
   "cell_type": "code",
   "execution_count": 11,
   "metadata": {
    "collapsed": false
   },
   "outputs": [
    {
     "data": {
      "text/plain": [
       "5460523"
      ]
     },
     "execution_count": 11,
     "metadata": {},
     "output_type": "execute_result"
    }
   ],
   "source": [
    "es.count(index=\"events-*\", body={'query': {'bool': {'must':[{'match': { 'et' : 'AD_SHOW' }}], 'must_not':[{'match': { 'fr' : 'true' }}]}}})['count']"
   ]
  },
  {
   "cell_type": "code",
   "execution_count": 12,
   "metadata": {
    "collapsed": false
   },
   "outputs": [],
   "source": [
    "randomInd = np.random.choice(range(5460523), size=20000, replace=False)"
   ]
  },
  {
   "cell_type": "code",
   "execution_count": 13,
   "metadata": {
    "collapsed": true
   },
   "outputs": [],
   "source": [
    "shows = []"
   ]
  },
  {
   "cell_type": "code",
   "execution_count": 20,
   "metadata": {
    "collapsed": false
   },
   "outputs": [],
   "source": [
    "for i in randomInd[14860:]:\n",
    "    event = es.search(index=\"events-*\", body={'query': {'bool': {'must':[{'match': { 'et' : 'AD_SHOW' }}], 'must_not':[{'match': { 'fr' : 'true' }}]}}}, from_ = i, size = 1)\n",
    "    shows = shows + event['hits']['hits']"
   ]
  },
  {
   "cell_type": "code",
   "execution_count": 22,
   "metadata": {
    "collapsed": false
   },
   "outputs": [],
   "source": [
    "df_shows = pd.DataFrame([datum['_source'] for datum in shows])\n",
    "df_shows.to_csv(\"../data/ad_shows_150619.tab\",sep='\\t',encoding='utf-8')"
   ]
  },
  {
   "cell_type": "code",
   "execution_count": 24,
   "metadata": {
    "collapsed": false
   },
   "outputs": [
    {
     "data": {
      "text/html": [
       "<div style=\"max-height:1000px;max-width:1500px;overflow:auto;\">\n",
       "<table border=\"1\" class=\"dataframe\">\n",
       "  <thead>\n",
       "    <tr style=\"text-align: right;\">\n",
       "      <th></th>\n",
       "      <th>ai</th>\n",
       "      <th>ak</th>\n",
       "      <th>arch</th>\n",
       "      <th>br</th>\n",
       "      <th>ci</th>\n",
       "      <th>co</th>\n",
       "      <th>cr</th>\n",
       "      <th>created_at</th>\n",
       "      <th>cty</th>\n",
       "      <th>cvpc</th>\n",
       "      <th>dp</th>\n",
       "      <th>dt</th>\n",
       "      <th>edpt</th>\n",
       "      <th>ernc</th>\n",
       "      <th>et</th>\n",
       "      <th>ex</th>\n",
       "      <th>fr</th>\n",
       "      <th>id</th>\n",
       "      <th>ip</th>\n",
       "      <th>isp</th>\n",
       "      <th>li</th>\n",
       "      <th>lidp</th>\n",
       "      <th>pbep</th>\n",
       "      <th>pg</th>\n",
       "      <th>plfm</th>\n",
       "      <th>pp</th>\n",
       "      <th>pv</th>\n",
       "      <th>rgn</th>\n",
       "      <th>sdpt</th>\n",
       "      <th>ssp</th>\n",
       "      <th>ua</th>\n",
       "      <th>uid</th>\n",
       "      <th>vw_drtn</th>\n",
       "      <th>vw_perc</th>\n",
       "    </tr>\n",
       "  </thead>\n",
       "  <tbody>\n",
       "    <tr>\n",
       "      <th>0</th>\n",
       "      <td> 116</td>\n",
       "      <td>  42</td>\n",
       "      <td> False</td>\n",
       "      <td>         iPhone 0.0</td>\n",
       "      <td> NaN</td>\n",
       "      <td> USA</td>\n",
       "      <td> 277</td>\n",
       "      <td> 2015-05-14T00:58:05.931Z</td>\n",
       "      <td>       Temple</td>\n",
       "      <td>NaN</td>\n",
       "      <td>  0</td>\n",
       "      <td> iphone</td>\n",
       "      <td> 0</td>\n",
       "      <td> 0</td>\n",
       "      <td> AD_SHOW</td>\n",
       "      <td> NaN</td>\n",
       "      <td> False</td>\n",
       "      <td> zenit_034c6a51-b29e-4946-b14e-db3d8395f625_277</td>\n",
       "      <td> 24.162.123.131</td>\n",
       "      <td> Time Warner Cable</td>\n",
       "      <td> 197</td>\n",
       "      <td> 0</td>\n",
       "      <td> 70</td>\n",
       "      <td> 0</td>\n",
       "      <td>  ios</td>\n",
       "      <td> 0</td>\n",
       "      <td>     8.3</td>\n",
       "      <td> USA-TX</td>\n",
       "      <td>  0</td>\n",
       "      <td> zenit_marketplace</td>\n",
       "      <td> Mozilla/5.0 (iPhone; CPU iPhone OS 8_3 like Ma...</td>\n",
       "      <td>                                  NaN</td>\n",
       "      <td> 0</td>\n",
       "      <td> 0</td>\n",
       "    </tr>\n",
       "    <tr>\n",
       "      <th>1</th>\n",
       "      <td>  54</td>\n",
       "      <td> 127</td>\n",
       "      <td> False</td>\n",
       "      <td>          Other 0.0</td>\n",
       "      <td> 103</td>\n",
       "      <td> GBR</td>\n",
       "      <td> 156</td>\n",
       "      <td> 2015-05-08T12:27:27.389Z</td>\n",
       "      <td> Peterborough</td>\n",
       "      <td>NaN</td>\n",
       "      <td>  0</td>\n",
       "      <td>  other</td>\n",
       "      <td> 5</td>\n",
       "      <td> 0</td>\n",
       "      <td> AD_SHOW</td>\n",
       "      <td> NaN</td>\n",
       "      <td> False</td>\n",
       "      <td> zenit_d908f720-0936-4b83-85c2-4c85165e92c1_156</td>\n",
       "      <td> 176.250.59.201</td>\n",
       "      <td>     Sky Broadband</td>\n",
       "      <td>  85</td>\n",
       "      <td> 0</td>\n",
       "      <td> 70</td>\n",
       "      <td> 0</td>\n",
       "      <td> None</td>\n",
       "      <td> 0</td>\n",
       "      <td> unknown</td>\n",
       "      <td> GBR-K3</td>\n",
       "      <td> 13</td>\n",
       "      <td> zenit_marketplace</td>\n",
       "      <td> Manchester%20United/4.5.1 CFNetwork/711.1.16 D...</td>\n",
       "      <td> E4415AF4-A45A-4887-B7FF-C252860CC9D3</td>\n",
       "      <td> 0</td>\n",
       "      <td> 0</td>\n",
       "    </tr>\n",
       "    <tr>\n",
       "      <th>2</th>\n",
       "      <td>  87</td>\n",
       "      <td> 140</td>\n",
       "      <td>  None</td>\n",
       "      <td> Safari 10.2.1.3442</td>\n",
       "      <td>   0</td>\n",
       "      <td> NGA</td>\n",
       "      <td>   0</td>\n",
       "      <td> 2015-03-29T00:11:34.215Z</td>\n",
       "      <td>        Lagos</td>\n",
       "      <td>NaN</td>\n",
       "      <td> 10</td>\n",
       "      <td>  other</td>\n",
       "      <td> 0</td>\n",
       "      <td> 7</td>\n",
       "      <td> AD_SHOW</td>\n",
       "      <td> NaN</td>\n",
       "      <td> False</td>\n",
       "      <td> rtb_4f449708-0eab-4f35-8db6-9571fcd61a53_22088</td>\n",
       "      <td>  41.203.67.167</td>\n",
       "      <td>      Globacom Ltd</td>\n",
       "      <td>   0</td>\n",
       "      <td> 0</td>\n",
       "      <td> 70</td>\n",
       "      <td> 0</td>\n",
       "      <td> None</td>\n",
       "      <td> 0</td>\n",
       "      <td> unknown</td>\n",
       "      <td>    NaN</td>\n",
       "      <td>  0</td>\n",
       "      <td>               NaN</td>\n",
       "      <td> Mozilla/5.0 (BB10; Kbd) AppleWebKit/537.35+ (K...</td>\n",
       "      <td>                                  NaN</td>\n",
       "      <td> 0</td>\n",
       "      <td> 0</td>\n",
       "    </tr>\n",
       "    <tr>\n",
       "      <th></th>\n",
       "      <td>...</td>\n",
       "      <td>...</td>\n",
       "      <td>...</td>\n",
       "      <td>...</td>\n",
       "      <td>...</td>\n",
       "      <td>...</td>\n",
       "      <td>...</td>\n",
       "      <td>...</td>\n",
       "      <td>...</td>\n",
       "      <td>...</td>\n",
       "      <td>...</td>\n",
       "      <td>...</td>\n",
       "      <td>...</td>\n",
       "      <td>...</td>\n",
       "      <td>...</td>\n",
       "      <td>...</td>\n",
       "      <td>...</td>\n",
       "      <td>...</td>\n",
       "      <td>...</td>\n",
       "      <td>...</td>\n",
       "      <td>...</td>\n",
       "      <td>...</td>\n",
       "      <td>...</td>\n",
       "      <td>...</td>\n",
       "      <td>...</td>\n",
       "      <td>...</td>\n",
       "      <td>...</td>\n",
       "      <td>...</td>\n",
       "      <td>...</td>\n",
       "      <td>...</td>\n",
       "      <td>...</td>\n",
       "      <td>...</td>\n",
       "      <td>...</td>\n",
       "      <td>...</td>\n",
       "    </tr>\n",
       "  </tbody>\n",
       "</table>\n",
       "<p>20000 rows × 34 columns</p>\n",
       "</div>"
      ],
      "text/plain": [
       "    ai   ak   arch                  br   ci   co   cr  \\\n",
       "0  116   42  False          iPhone 0.0  NaN  USA  277   \n",
       "1   54  127  False           Other 0.0  103  GBR  156   \n",
       "2   87  140   None  Safari 10.2.1.3442    0  NGA    0   \n",
       "   ...  ...    ...                 ...  ...  ...  ...   \n",
       "\n",
       "                 created_at           cty  cvpc  dp      dt  edpt  ernc  \\\n",
       "0  2015-05-14T00:58:05.931Z        Temple   NaN   0  iphone     0     0   \n",
       "1  2015-05-08T12:27:27.389Z  Peterborough   NaN   0   other     5     0   \n",
       "2  2015-03-29T00:11:34.215Z         Lagos   NaN  10   other     0     7   \n",
       "                        ...           ...   ... ...     ...   ...   ...   \n",
       "\n",
       "        et   ex     fr                                              id  \\\n",
       "0  AD_SHOW  NaN  False  zenit_034c6a51-b29e-4946-b14e-db3d8395f625_277   \n",
       "1  AD_SHOW  NaN  False  zenit_d908f720-0936-4b83-85c2-4c85165e92c1_156   \n",
       "2  AD_SHOW  NaN  False  rtb_4f449708-0eab-4f35-8db6-9571fcd61a53_22088   \n",
       "       ...  ...    ...                                             ...   \n",
       "\n",
       "               ip                isp   li  lidp  pbep  pg  plfm  pp       pv  \\\n",
       "0  24.162.123.131  Time Warner Cable  197     0    70   0   ios   0      8.3   \n",
       "1  176.250.59.201      Sky Broadband   85     0    70   0  None   0  unknown   \n",
       "2   41.203.67.167       Globacom Ltd    0     0    70   0  None   0  unknown   \n",
       "              ...                ...  ...   ...   ... ...   ... ...      ...   \n",
       "\n",
       "      rgn  sdpt                ssp  \\\n",
       "0  USA-TX     0  zenit_marketplace   \n",
       "1  GBR-K3    13  zenit_marketplace   \n",
       "2     NaN     0                NaN   \n",
       "      ...   ...                ...   \n",
       "\n",
       "                                                  ua  \\\n",
       "0  Mozilla/5.0 (iPhone; CPU iPhone OS 8_3 like Ma...   \n",
       "1  Manchester%20United/4.5.1 CFNetwork/711.1.16 D...   \n",
       "2  Mozilla/5.0 (BB10; Kbd) AppleWebKit/537.35+ (K...   \n",
       "                                                 ...   \n",
       "\n",
       "                                    uid  vw_drtn  vw_perc  \n",
       "0                                   NaN        0        0  \n",
       "1  E4415AF4-A45A-4887-B7FF-C252860CC9D3        0        0  \n",
       "2                                   NaN        0        0  \n",
       "                                    ...      ...      ...  \n",
       "\n",
       "[20000 rows x 34 columns]"
      ]
     },
     "execution_count": 24,
     "metadata": {},
     "output_type": "execute_result"
    }
   ],
   "source": [
    "pd.options.display.max_rows = 3\n",
    "pd.options.display.max_columns = 50\n",
    "df_shows"
   ]
  },
  {
   "cell_type": "code",
   "execution_count": 25,
   "metadata": {
    "collapsed": false
   },
   "outputs": [
    {
     "data": {
      "text/plain": [
       "(19973, 34)"
      ]
     },
     "execution_count": 25,
     "metadata": {},
     "output_type": "execute_result"
    }
   ],
   "source": [
    "shows_uniq = df_shows.loc[np.where(np.unique(df_shows['created_at']))[0], :]\n",
    "shows_uniq.shape"
   ]
  },
  {
   "cell_type": "code",
   "execution_count": null,
   "metadata": {
    "collapsed": true
   },
   "outputs": [],
   "source": []
  }
 ],
 "metadata": {
  "kernelspec": {
   "display_name": "Python 2",
   "language": "python",
   "name": "python2"
  },
  "language_info": {
   "codemirror_mode": {
    "name": "ipython",
    "version": 2
   },
   "file_extension": ".py",
   "mimetype": "text/x-python",
   "name": "python",
   "nbconvert_exporter": "python",
   "pygments_lexer": "ipython2",
   "version": "2.7.6"
  }
 },
 "nbformat": 4,
 "nbformat_minor": 0
}
